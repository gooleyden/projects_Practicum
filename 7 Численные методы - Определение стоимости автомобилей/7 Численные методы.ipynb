{
 "cells": [
  {
   "cell_type": "markdown",
   "metadata": {},
   "source": [
    "*Перед началом работы:*"
   ]
  },
  {
   "cell_type": "code",
   "execution_count": 1,
   "metadata": {
    "scrolled": true
   },
   "outputs": [
    {
     "name": "stdout",
     "output_type": "stream",
     "text": [
      "Note: you may need to restart the kernel to use updated packages.\n"
     ]
    }
   ],
   "source": [
    "pip install -U scikit-learn lightgbm phik optuna catboost -q"
   ]
  },
  {
   "cell_type": "markdown",
   "metadata": {},
   "source": [
    "**Импорт библиотек**"
   ]
  },
  {
   "cell_type": "code",
   "execution_count": 5,
   "metadata": {
    "jupyter": {
     "source_hidden": true
    }
   },
   "outputs": [],
   "source": [
    "import pandas as pd\n",
    "import numpy as np\n",
    "import matplotlib.pyplot as plt\n",
    "import seaborn as sns\n",
    "import time \n",
    "import optuna\n",
    "\n",
    "from scipy import stats\n",
    "from IPython.display import display\n",
    "\n",
    "# модули для работы с моделями:\n",
    "from sklearn.model_selection import train_test_split, GridSearchCV, RandomizedSearchCV\n",
    "from sklearn.pipeline import Pipeline\n",
    "from sklearn.compose import ColumnTransformer\n",
    "from sklearn.impute import SimpleImputer\n",
    "\n",
    "# Кодировщики, масштабировние\n",
    "from sklearn.preprocessing import StandardScaler, MinMaxScaler, OneHotEncoder, OrdinalEncoder\n",
    "\n",
    "# Модели\n",
    "from sklearn.linear_model import LinearRegression\n",
    "from sklearn.tree import DecisionTreeRegressor\n",
    "\n",
    "# CatBoost и LGBM\n",
    "import catboost, lightgbm\n",
    "from catboost import CatBoostRegressor, Pool\n",
    "from lightgbm import LGBMRegressor\n",
    "\n",
    "# Метрики\n",
    "from sklearn.metrics import mean_squared_error, root_mean_squared_error\n",
    "\n",
    "import phik"
   ]
  },
  {
   "cell_type": "markdown",
   "metadata": {},
   "source": [
    "**Константы**"
   ]
  },
  {
   "cell_type": "code",
   "execution_count": 6,
   "metadata": {},
   "outputs": [],
   "source": [
    "RANDOM_STATE = 42"
   ]
  },
  {
   "cell_type": "markdown",
   "metadata": {},
   "source": [
    "**Используемые в работе функции**"
   ]
  },
  {
   "cell_type": "code",
   "execution_count": 7,
   "metadata": {
    "jupyter": {
     "source_hidden": true
    }
   },
   "outputs": [],
   "source": [
    "# Функция для отображения части датасета и информации о нем\n",
    "def show_info(df):\n",
    "    display(df.head())\n",
    "    df.info()"
   ]
  },
  {
   "cell_type": "code",
   "execution_count": 8,
   "metadata": {
    "jupyter": {
     "source_hidden": true
    }
   },
   "outputs": [],
   "source": [
    "### Предобработка данных ###\n",
    "# 1. Для поиска и просмотра явных дубликатов:\n",
    "def duplicates_find(df):\n",
    "    \n",
    "    # Если дубликаты есть:    \n",
    "    if df.duplicated().sum()>0:\n",
    "        # Количество явных дубликатов\n",
    "        print ('Количество явных дубликатов:', df.duplicated().sum())\n",
    "        print ('Процент от всего датасета:', df.duplicated().sum() / len(df) * 100)\n",
    "        # Выводим на экран дубликаты\n",
    "        display(df.loc[df.duplicated()])\n",
    "    # Если дубликатов нет:\n",
    "    else:\n",
    "        print ('Явных дубликатов не найдено')\n",
    "        \n",
    "# 2. Для просмотра уникальных значений объектов типа Object: \n",
    "def uniques(df):\n",
    "    for column in df.columns:\n",
    "        if df[column].dtype == 'O':\n",
    "            print (f'{column}: \\n {df[column].unique()} \\n ')"
   ]
  },
  {
   "cell_type": "code",
   "execution_count": 9,
   "metadata": {
    "jupyter": {
     "source_hidden": true
    }
   },
   "outputs": [],
   "source": [
    "## Построение графиков\n",
    "\n",
    "# 1. Гистограмма и ящик с усами для числовых признаков\n",
    "def graph(df, bins, x_name):\n",
    "    f, ax = plt.subplots(1, 2)\n",
    "    f.set_size_inches(12, 4)\n",
    "    plt.suptitle(f'{x_name}', fontweight='bold')\n",
    "    # Гистограмма:\n",
    "    sns.histplot(data=df, bins=bins, color='coral', edgecolor=None, ax=ax[0])\n",
    "    ax[0].set_title('Гистограмма распределения')\n",
    "    ax[0].grid()\n",
    "    ax[0].set_xlabel(x_name)\n",
    "    ax[0].set_ylabel('частота')\n",
    "    # Ящик с усами:\n",
    "    ## vert=False, чтобы значения признака были по горизонтальной оси для обоих графиков\n",
    "    sns.boxplot(data=df, orient='h', color='cornflowerblue')\n",
    "    ax[1].set_title('Ящик с усами')\n",
    "    ax[1].grid()\n",
    "    ax[1].set_xlabel(x_name)\n",
    "    plt.show()\n",
    "    \n",
    "    display(pd.DataFrame(df.describe()).T)\n",
    "    \n",
    "# Для дискретных величин с горизонтальным отображением\n",
    "def make_countplot(df, y, ylabel):\n",
    "    plt.figure(figsize=(10, 4))\n",
    "    sns.countplot(y=y, data=df, palette='pastel', order=df[y].value_counts().index)\n",
    "    plt.title(y)\n",
    "    plt.grid()\n",
    "    plt.ylabel(ylabel)\n",
    "    plt.xlabel('Частота')\n",
    "    plt.show()    \n",
    "    \n",
    "# Для анализа остатков:\n",
    "def make_hist(df, column, bins, p, x_name, title):\n",
    "    f, ax = plt.subplots(1, 2)\n",
    "    f.set_size_inches(20, 5)\n",
    "    plt.suptitle(f'{p}', fontweight='bold')\n",
    "    # Гистограмма:\n",
    "    sns.histplot(data=df, x=column, bins=bins, color='coral', edgecolor=None, ax=ax[0])\n",
    "    ax[0].set_title(f'{title}')\n",
    "    ax[0].grid()\n",
    "    ax[0].set_xlabel(x_name)\n",
    "    ax[0].set_ylabel('частота')\n",
    "    # Ящик с усами:\n",
    "    ## vert=False, чтобы значения признака были по горизонтальной оси для обоих графиков\n",
    "    sns.boxplot(data=df, x=column, orient='h', color='cornflowerblue')\n",
    "    ax[1].set_title(f'Ящик с усами')\n",
    "    ax[1].grid()\n",
    "    ax[1].set_xlabel(x_name)\n",
    "    plt.show()\n",
    "    \n",
    "def build_joint_hist(y_test, y_pred, df_num, title):\n",
    "    y_joint = pd.DataFrame(list(zip(y_test, y_pred)), columns=['y_val', 'y_pred'])\n",
    "    make_hist(y_joint, None, 50, df_num, 'евро', title)\n",
    "    display(y_joint.describe().T)"
   ]
  },
  {
   "cell_type": "markdown",
   "metadata": {},
   "source": [
    "## **Подготовка данных**"
   ]
  },
  {
   "cell_type": "markdown",
   "metadata": {},
   "source": [
    "### Загрузка данных"
   ]
  },
  {
   "cell_type": "code",
   "execution_count": 10,
   "metadata": {},
   "outputs": [
    {
     "data": {
      "text/html": [
       "<div>\n",
       "<style scoped>\n",
       "    .dataframe tbody tr th:only-of-type {\n",
       "        vertical-align: middle;\n",
       "    }\n",
       "\n",
       "    .dataframe tbody tr th {\n",
       "        vertical-align: top;\n",
       "    }\n",
       "\n",
       "    .dataframe thead th {\n",
       "        text-align: right;\n",
       "    }\n",
       "</style>\n",
       "<table border=\"1\" class=\"dataframe\">\n",
       "  <thead>\n",
       "    <tr style=\"text-align: right;\">\n",
       "      <th></th>\n",
       "      <th>DateCrawled</th>\n",
       "      <th>Price</th>\n",
       "      <th>VehicleType</th>\n",
       "      <th>RegistrationYear</th>\n",
       "      <th>Gearbox</th>\n",
       "      <th>Power</th>\n",
       "      <th>Model</th>\n",
       "      <th>Kilometer</th>\n",
       "      <th>RegistrationMonth</th>\n",
       "      <th>FuelType</th>\n",
       "      <th>Brand</th>\n",
       "      <th>Repaired</th>\n",
       "      <th>DateCreated</th>\n",
       "      <th>NumberOfPictures</th>\n",
       "      <th>PostalCode</th>\n",
       "      <th>LastSeen</th>\n",
       "    </tr>\n",
       "  </thead>\n",
       "  <tbody>\n",
       "    <tr>\n",
       "      <th>0</th>\n",
       "      <td>2016-03-24 11:52:17</td>\n",
       "      <td>480</td>\n",
       "      <td>NaN</td>\n",
       "      <td>1993</td>\n",
       "      <td>manual</td>\n",
       "      <td>0</td>\n",
       "      <td>golf</td>\n",
       "      <td>150000</td>\n",
       "      <td>0</td>\n",
       "      <td>petrol</td>\n",
       "      <td>volkswagen</td>\n",
       "      <td>NaN</td>\n",
       "      <td>2016-03-24 00:00:00</td>\n",
       "      <td>0</td>\n",
       "      <td>70435</td>\n",
       "      <td>2016-04-07 03:16:57</td>\n",
       "    </tr>\n",
       "    <tr>\n",
       "      <th>1</th>\n",
       "      <td>2016-03-24 10:58:45</td>\n",
       "      <td>18300</td>\n",
       "      <td>coupe</td>\n",
       "      <td>2011</td>\n",
       "      <td>manual</td>\n",
       "      <td>190</td>\n",
       "      <td>NaN</td>\n",
       "      <td>125000</td>\n",
       "      <td>5</td>\n",
       "      <td>gasoline</td>\n",
       "      <td>audi</td>\n",
       "      <td>yes</td>\n",
       "      <td>2016-03-24 00:00:00</td>\n",
       "      <td>0</td>\n",
       "      <td>66954</td>\n",
       "      <td>2016-04-07 01:46:50</td>\n",
       "    </tr>\n",
       "    <tr>\n",
       "      <th>2</th>\n",
       "      <td>2016-03-14 12:52:21</td>\n",
       "      <td>9800</td>\n",
       "      <td>suv</td>\n",
       "      <td>2004</td>\n",
       "      <td>auto</td>\n",
       "      <td>163</td>\n",
       "      <td>grand</td>\n",
       "      <td>125000</td>\n",
       "      <td>8</td>\n",
       "      <td>gasoline</td>\n",
       "      <td>jeep</td>\n",
       "      <td>NaN</td>\n",
       "      <td>2016-03-14 00:00:00</td>\n",
       "      <td>0</td>\n",
       "      <td>90480</td>\n",
       "      <td>2016-04-05 12:47:46</td>\n",
       "    </tr>\n",
       "    <tr>\n",
       "      <th>3</th>\n",
       "      <td>2016-03-17 16:54:04</td>\n",
       "      <td>1500</td>\n",
       "      <td>small</td>\n",
       "      <td>2001</td>\n",
       "      <td>manual</td>\n",
       "      <td>75</td>\n",
       "      <td>golf</td>\n",
       "      <td>150000</td>\n",
       "      <td>6</td>\n",
       "      <td>petrol</td>\n",
       "      <td>volkswagen</td>\n",
       "      <td>no</td>\n",
       "      <td>2016-03-17 00:00:00</td>\n",
       "      <td>0</td>\n",
       "      <td>91074</td>\n",
       "      <td>2016-03-17 17:40:17</td>\n",
       "    </tr>\n",
       "    <tr>\n",
       "      <th>4</th>\n",
       "      <td>2016-03-31 17:25:20</td>\n",
       "      <td>3600</td>\n",
       "      <td>small</td>\n",
       "      <td>2008</td>\n",
       "      <td>manual</td>\n",
       "      <td>69</td>\n",
       "      <td>fabia</td>\n",
       "      <td>90000</td>\n",
       "      <td>7</td>\n",
       "      <td>gasoline</td>\n",
       "      <td>skoda</td>\n",
       "      <td>no</td>\n",
       "      <td>2016-03-31 00:00:00</td>\n",
       "      <td>0</td>\n",
       "      <td>60437</td>\n",
       "      <td>2016-04-06 10:17:21</td>\n",
       "    </tr>\n",
       "  </tbody>\n",
       "</table>\n",
       "</div>"
      ],
      "text/plain": [
       "           DateCrawled  Price VehicleType  RegistrationYear Gearbox  Power  \\\n",
       "0  2016-03-24 11:52:17    480         NaN              1993  manual      0   \n",
       "1  2016-03-24 10:58:45  18300       coupe              2011  manual    190   \n",
       "2  2016-03-14 12:52:21   9800         suv              2004    auto    163   \n",
       "3  2016-03-17 16:54:04   1500       small              2001  manual     75   \n",
       "4  2016-03-31 17:25:20   3600       small              2008  manual     69   \n",
       "\n",
       "   Model  Kilometer  RegistrationMonth  FuelType       Brand Repaired  \\\n",
       "0   golf     150000                  0    petrol  volkswagen      NaN   \n",
       "1    NaN     125000                  5  gasoline        audi      yes   \n",
       "2  grand     125000                  8  gasoline        jeep      NaN   \n",
       "3   golf     150000                  6    petrol  volkswagen       no   \n",
       "4  fabia      90000                  7  gasoline       skoda       no   \n",
       "\n",
       "           DateCreated  NumberOfPictures  PostalCode             LastSeen  \n",
       "0  2016-03-24 00:00:00                 0       70435  2016-04-07 03:16:57  \n",
       "1  2016-03-24 00:00:00                 0       66954  2016-04-07 01:46:50  \n",
       "2  2016-03-14 00:00:00                 0       90480  2016-04-05 12:47:46  \n",
       "3  2016-03-17 00:00:00                 0       91074  2016-03-17 17:40:17  \n",
       "4  2016-03-31 00:00:00                 0       60437  2016-04-06 10:17:21  "
      ]
     },
     "metadata": {},
     "output_type": "display_data"
    },
    {
     "name": "stdout",
     "output_type": "stream",
     "text": [
      "<class 'pandas.core.frame.DataFrame'>\n",
      "RangeIndex: 354369 entries, 0 to 354368\n",
      "Data columns (total 16 columns):\n",
      " #   Column             Non-Null Count   Dtype \n",
      "---  ------             --------------   ----- \n",
      " 0   DateCrawled        354369 non-null  object\n",
      " 1   Price              354369 non-null  int64 \n",
      " 2   VehicleType        316879 non-null  object\n",
      " 3   RegistrationYear   354369 non-null  int64 \n",
      " 4   Gearbox            334536 non-null  object\n",
      " 5   Power              354369 non-null  int64 \n",
      " 6   Model              334664 non-null  object\n",
      " 7   Kilometer          354369 non-null  int64 \n",
      " 8   RegistrationMonth  354369 non-null  int64 \n",
      " 9   FuelType           321474 non-null  object\n",
      " 10  Brand              354369 non-null  object\n",
      " 11  Repaired           283215 non-null  object\n",
      " 12  DateCreated        354369 non-null  object\n",
      " 13  NumberOfPictures   354369 non-null  int64 \n",
      " 14  PostalCode         354369 non-null  int64 \n",
      " 15  LastSeen           354369 non-null  object\n",
      "dtypes: int64(7), object(9)\n",
      "memory usage: 43.3+ MB\n"
     ]
    }
   ],
   "source": [
    "data = pd.read_csv('C:/Я.Практикум/проекты/7_численные_методы/autos.csv')\n",
    "show_info(data)"
   ]
  },
  {
   "cell_type": "markdown",
   "metadata": {},
   "source": [
    "**Вывод:**\n",
    "\n",
    "354369 строк, 16 столбцов.\n",
    "\n",
    "Типы:\n",
    "1. int - 7 столбцов: \n",
    "    - 'Price', 'RegistrationYear', 'Power', 'Kilometer', 'RegistrationMonth', 'NumberOfPictures', 'PostalCode'\n",
    "2. object - 9 столбцов:\n",
    "    - 'DateCrawled', 'VehicleType', 'Gearbox', 'Model', 'FuelType', 'Brand', 'Repaired', 'DateCreated', 'LastSeen'\n",
    "\n",
    "Пропуски имеем в следующих столбцах:\n",
    "- VehicleType, Gearbox, Model, FuelType, Repaired, \n",
    "\n",
    "\n",
    "Целевой признак - `Price`\n",
    "\n"
   ]
  },
  {
   "cell_type": "markdown",
   "metadata": {},
   "source": [
    "Для модели несущественными могут быть признаки: \n",
    "- `PostalCode`(почтовый индекс владельца анкеты),\n",
    "- `LastSeen`(дата последней активности пользователя)"
   ]
  },
  {
   "cell_type": "markdown",
   "metadata": {},
   "source": [
    "### Предобработка данных"
   ]
  },
  {
   "cell_type": "markdown",
   "metadata": {},
   "source": [
    "Для удобства работы переименуем некоторые столбцы и приведем все к нижнему регистру:"
   ]
  },
  {
   "cell_type": "code",
   "execution_count": 11,
   "metadata": {},
   "outputs": [
    {
     "data": {
      "text/plain": [
       "Index(['date_crawled', 'price', 'vehicle_type', 'registration_year', 'gearbox',\n",
       "       'power', 'model', 'kilometer', 'registration_month', 'fuel_type',\n",
       "       'brand', 'repaired', 'date_created', 'number_of_pictures', 'postalcode',\n",
       "       'lastseen'],\n",
       "      dtype='object')"
      ]
     },
     "execution_count": 11,
     "metadata": {},
     "output_type": "execute_result"
    }
   ],
   "source": [
    "data.columns = data.columns.str.lower()\n",
    "data = data.rename(columns={'registrationmonth':'registration_month', 'registrationyear':'registration_year', \n",
    "                            'vehicletype':'vehicle_type', 'fueltype':'fuel_type', \n",
    "                            'numberofpictures':'number_of_pictures', 'datecrawled':'date_crawled', \n",
    "                            'datecreated':'date_created'})\n",
    "data.columns"
   ]
  },
  {
   "cell_type": "code",
   "execution_count": 12,
   "metadata": {},
   "outputs": [
    {
     "name": "stdout",
     "output_type": "stream",
     "text": [
      "Количество явных дубликатов: 4\n",
      "Процент от всего датасета: 0.0011287669068118262\n"
     ]
    },
    {
     "data": {
      "text/html": [
       "<div>\n",
       "<style scoped>\n",
       "    .dataframe tbody tr th:only-of-type {\n",
       "        vertical-align: middle;\n",
       "    }\n",
       "\n",
       "    .dataframe tbody tr th {\n",
       "        vertical-align: top;\n",
       "    }\n",
       "\n",
       "    .dataframe thead th {\n",
       "        text-align: right;\n",
       "    }\n",
       "</style>\n",
       "<table border=\"1\" class=\"dataframe\">\n",
       "  <thead>\n",
       "    <tr style=\"text-align: right;\">\n",
       "      <th></th>\n",
       "      <th>date_crawled</th>\n",
       "      <th>price</th>\n",
       "      <th>vehicle_type</th>\n",
       "      <th>registration_year</th>\n",
       "      <th>gearbox</th>\n",
       "      <th>power</th>\n",
       "      <th>model</th>\n",
       "      <th>kilometer</th>\n",
       "      <th>registration_month</th>\n",
       "      <th>fuel_type</th>\n",
       "      <th>brand</th>\n",
       "      <th>repaired</th>\n",
       "      <th>date_created</th>\n",
       "      <th>number_of_pictures</th>\n",
       "      <th>postalcode</th>\n",
       "      <th>lastseen</th>\n",
       "    </tr>\n",
       "  </thead>\n",
       "  <tbody>\n",
       "    <tr>\n",
       "      <th>171088</th>\n",
       "      <td>2016-03-08 18:42:48</td>\n",
       "      <td>1799</td>\n",
       "      <td>coupe</td>\n",
       "      <td>1999</td>\n",
       "      <td>auto</td>\n",
       "      <td>193</td>\n",
       "      <td>clk</td>\n",
       "      <td>20000</td>\n",
       "      <td>7</td>\n",
       "      <td>petrol</td>\n",
       "      <td>mercedes_benz</td>\n",
       "      <td>no</td>\n",
       "      <td>2016-03-08 00:00:00</td>\n",
       "      <td>0</td>\n",
       "      <td>89518</td>\n",
       "      <td>2016-03-09 09:46:57</td>\n",
       "    </tr>\n",
       "    <tr>\n",
       "      <th>231258</th>\n",
       "      <td>2016-03-28 00:56:10</td>\n",
       "      <td>1000</td>\n",
       "      <td>small</td>\n",
       "      <td>2002</td>\n",
       "      <td>manual</td>\n",
       "      <td>83</td>\n",
       "      <td>other</td>\n",
       "      <td>150000</td>\n",
       "      <td>1</td>\n",
       "      <td>petrol</td>\n",
       "      <td>suzuki</td>\n",
       "      <td>no</td>\n",
       "      <td>2016-03-28 00:00:00</td>\n",
       "      <td>0</td>\n",
       "      <td>66589</td>\n",
       "      <td>2016-03-28 08:46:21</td>\n",
       "    </tr>\n",
       "    <tr>\n",
       "      <th>258109</th>\n",
       "      <td>2016-04-03 09:01:15</td>\n",
       "      <td>4699</td>\n",
       "      <td>coupe</td>\n",
       "      <td>2003</td>\n",
       "      <td>auto</td>\n",
       "      <td>218</td>\n",
       "      <td>clk</td>\n",
       "      <td>125000</td>\n",
       "      <td>6</td>\n",
       "      <td>petrol</td>\n",
       "      <td>mercedes_benz</td>\n",
       "      <td>yes</td>\n",
       "      <td>2016-04-03 00:00:00</td>\n",
       "      <td>0</td>\n",
       "      <td>75196</td>\n",
       "      <td>2016-04-07 09:44:54</td>\n",
       "    </tr>\n",
       "    <tr>\n",
       "      <th>325651</th>\n",
       "      <td>2016-03-18 18:46:15</td>\n",
       "      <td>1999</td>\n",
       "      <td>wagon</td>\n",
       "      <td>2001</td>\n",
       "      <td>manual</td>\n",
       "      <td>131</td>\n",
       "      <td>passat</td>\n",
       "      <td>150000</td>\n",
       "      <td>7</td>\n",
       "      <td>gasoline</td>\n",
       "      <td>volkswagen</td>\n",
       "      <td>no</td>\n",
       "      <td>2016-03-18 00:00:00</td>\n",
       "      <td>0</td>\n",
       "      <td>36391</td>\n",
       "      <td>2016-03-18 18:46:15</td>\n",
       "    </tr>\n",
       "  </tbody>\n",
       "</table>\n",
       "</div>"
      ],
      "text/plain": [
       "               date_crawled  price vehicle_type  registration_year gearbox  \\\n",
       "171088  2016-03-08 18:42:48   1799        coupe               1999    auto   \n",
       "231258  2016-03-28 00:56:10   1000        small               2002  manual   \n",
       "258109  2016-04-03 09:01:15   4699        coupe               2003    auto   \n",
       "325651  2016-03-18 18:46:15   1999        wagon               2001  manual   \n",
       "\n",
       "        power   model  kilometer  registration_month fuel_type          brand  \\\n",
       "171088    193     clk      20000                   7    petrol  mercedes_benz   \n",
       "231258     83   other     150000                   1    petrol         suzuki   \n",
       "258109    218     clk     125000                   6    petrol  mercedes_benz   \n",
       "325651    131  passat     150000                   7  gasoline     volkswagen   \n",
       "\n",
       "       repaired         date_created  number_of_pictures  postalcode  \\\n",
       "171088       no  2016-03-08 00:00:00                   0       89518   \n",
       "231258       no  2016-03-28 00:00:00                   0       66589   \n",
       "258109      yes  2016-04-03 00:00:00                   0       75196   \n",
       "325651       no  2016-03-18 00:00:00                   0       36391   \n",
       "\n",
       "                   lastseen  \n",
       "171088  2016-03-09 09:46:57  \n",
       "231258  2016-03-28 08:46:21  \n",
       "258109  2016-04-07 09:44:54  \n",
       "325651  2016-03-18 18:46:15  "
      ]
     },
     "metadata": {},
     "output_type": "display_data"
    }
   ],
   "source": [
    "duplicates_find(data)"
   ]
  },
  {
   "cell_type": "markdown",
   "metadata": {},
   "source": [
    "* Удалим дубликаты позднее"
   ]
  },
  {
   "cell_type": "markdown",
   "metadata": {},
   "source": [
    "#### Удаление неинформативных признаков"
   ]
  },
  {
   "cell_type": "markdown",
   "metadata": {},
   "source": [
    "**Даты**"
   ]
  },
  {
   "cell_type": "markdown",
   "metadata": {},
   "source": [
    "Приведем `date_crawled`, `date_created`, `lastseen` к типу datetime.  \n",
    "Посмотрим, какие максимальные и минимальные даты имеем:"
   ]
  },
  {
   "cell_type": "code",
   "execution_count": 13,
   "metadata": {},
   "outputs": [
    {
     "name": "stdout",
     "output_type": "stream",
     "text": [
      "date_crawled: min - 2016-03-05 14:06:22, max - 2016-04-07 14:36:58\n",
      "date_created: min - 2014-03-10 00:00:00, max - 2016-04-07 00:00:00\n",
      "lastseen: min - 2016-03-05 14:15:08, max - 2016-04-07 14:58:51\n"
     ]
    }
   ],
   "source": [
    "def retype (df, column):\n",
    "    df[column] = pd.to_datetime(df[column], format='%Y-%m-%d %H:%M:%S')\n",
    "    return (df)\n",
    "\n",
    "for i in ['date_crawled', 'date_created', 'lastseen']:\n",
    "    retype(data, i)\n",
    "\n",
    "# Посмотрим, какие максимальные и минимальные даты имеем:\n",
    "for i in ['date_crawled', 'date_created', 'lastseen']:\n",
    "    print (f'{i}: min - {data[i].min()}, max - {data[i].max()}')"
   ]
  },
  {
   "cell_type": "markdown",
   "metadata": {},
   "source": [
    "Данные были выгружены примерно в один промежуток времени, в течение месяца. Даты последней активности пользователя тоже отличаются максимум на месяц. Т.к. нет значимого разброса, то нет и смысла оставлять эти признаки в датасете - они не окажут влияния.\n",
    "\n",
    "Проверим, как часто встречаются разные даты создания анкеты:"
   ]
  },
  {
   "cell_type": "code",
   "execution_count": 14,
   "metadata": {},
   "outputs": [
    {
     "data": {
      "image/png": "[encoded data removed]",
      "text/plain": [
       "<Figure size 432x288 with 1 Axes>"
      ]
     },
     "metadata": {
      "needs_background": "light"
     },
     "output_type": "display_data"
    }
   ],
   "source": [
    "sns.histplot(data=data, y='date_created', bins=50, color='coral', edgecolor=None)\n",
    "plt.title('Распределение признака: дата создания анкеты')\n",
    "plt.grid()\n",
    "plt.show()"
   ]
  },
  {
   "cell_type": "markdown",
   "metadata": {},
   "source": [
    "- В основном все анкеты созданы в феврале-апреле 2016 года. Раньше - крайне редко."
   ]
  },
  {
   "cell_type": "markdown",
   "metadata": {},
   "source": [
    "**Удалим признаки `date_crawled`, `date_created`, `lastseen`, поскольку они не появлияют на таргет.**"
   ]
  },
  {
   "cell_type": "code",
   "execution_count": 15,
   "metadata": {},
   "outputs": [],
   "source": [
    "data = data.drop(['date_crawled', 'date_created', 'lastseen'], axis=1)"
   ]
  },
  {
   "cell_type": "markdown",
   "metadata": {},
   "source": [
    "**`postalcode`, `registration_month`, `number_of_pictures`**\n",
    "\n",
    "Эти столбцы тоже не должны влиять на целевой признак. \n"
   ]
  },
  {
   "cell_type": "markdown",
   "metadata": {},
   "source": [
    "Убедимся в этом:\n",
    "\n",
    "Для `number_of_pictures` посчитаем уникальные значения.    \n",
    "Посмотрим зависимость таргета от оставшихся признаком (postalcode, registration_month) через phik:"
   ]
  },
  {
   "cell_type": "code",
   "execution_count": 16,
   "metadata": {},
   "outputs": [
    {
     "name": "stdout",
     "output_type": "stream",
     "text": [
      "Распределение значений в number_of_pictures:\n",
      "[0]\n",
      "\n",
      "Зависимость целевого признака от \"postalcode\", \"registration_month\", \"registration_year\":\n"
     ]
    },
    {
     "data": {
      "text/html": [
       "<div>\n",
       "<style scoped>\n",
       "    .dataframe tbody tr th:only-of-type {\n",
       "        vertical-align: middle;\n",
       "    }\n",
       "\n",
       "    .dataframe tbody tr th {\n",
       "        vertical-align: top;\n",
       "    }\n",
       "\n",
       "    .dataframe thead th {\n",
       "        text-align: right;\n",
       "    }\n",
       "</style>\n",
       "<table border=\"1\" class=\"dataframe\">\n",
       "  <thead>\n",
       "    <tr style=\"text-align: right;\">\n",
       "      <th></th>\n",
       "      <th>price</th>\n",
       "      <th>postalcode</th>\n",
       "      <th>registration_year</th>\n",
       "      <th>registration_month</th>\n",
       "    </tr>\n",
       "  </thead>\n",
       "  <tbody>\n",
       "    <tr>\n",
       "      <th>price</th>\n",
       "      <td>1.0</td>\n",
       "      <td>0.096123</td>\n",
       "      <td>0.674549</td>\n",
       "      <td>0.177026</td>\n",
       "    </tr>\n",
       "  </tbody>\n",
       "</table>\n",
       "</div>"
      ],
      "text/plain": [
       "       price  postalcode  registration_year  registration_month\n",
       "price    1.0    0.096123           0.674549            0.177026"
      ]
     },
     "execution_count": 16,
     "metadata": {},
     "output_type": "execute_result"
    }
   ],
   "source": [
    "# Для number_of_pictures посчитаем уникальные значения:\n",
    "print ('Распределение значений в number_of_pictures:')\n",
    "print (data['number_of_pictures'].unique())\n",
    "\n",
    "# Посмотрим зависимость таргета от оставшихся признаком (postalcode, registration_month) через phik:\n",
    "print ('\\nЗависимость целевого признака от \"postalcode\", \"registration_month\", \"registration_year\":')\n",
    "\n",
    "interval_cols = ['power', 'kilometer', 'postalcode', 'price']\n",
    "data.drop('number_of_pictures', axis=1).phik_matrix(interval_cols=interval_cols).loc[\n",
    "    ['price'], ['price', 'postalcode', 'registration_year', 'registration_month']]"
   ]
  },
  {
   "cell_type": "markdown",
   "metadata": {},
   "source": [
    "Вывод:\n",
    "\n",
    "1. number_of_pictures:\n",
    "    * Ни в одной из строк нет значения выше нуля. Удаляем этот признак.\n",
    "        * Возможно, произошла техническая ошибка при записи или во время выгрузки.\n",
    "\n",
    "\n",
    "2. postalcode:\n",
    "    * Очень низкий уровень корреляции с таргетом. Что логично. Удаляем.\n",
    "\n",
    "\n",
    "3. registration_month\n",
    "    * Низкий уровень корреляции. Более того, есть признак \"registration_year\", который сильнее влияет на таргет.\n",
    "    Месяц регистрации - удаляем."
   ]
  },
  {
   "cell_type": "markdown",
   "metadata": {},
   "source": [
    "**Удаляем**"
   ]
  },
  {
   "cell_type": "code",
   "execution_count": 17,
   "metadata": {},
   "outputs": [
    {
     "name": "stdout",
     "output_type": "stream",
     "text": [
      "<class 'pandas.core.frame.DataFrame'>\n",
      "RangeIndex: 354369 entries, 0 to 354368\n",
      "Data columns (total 10 columns):\n",
      " #   Column             Non-Null Count   Dtype \n",
      "---  ------             --------------   ----- \n",
      " 0   price              354369 non-null  int64 \n",
      " 1   vehicle_type       316879 non-null  object\n",
      " 2   registration_year  354369 non-null  int64 \n",
      " 3   gearbox            334536 non-null  object\n",
      " 4   power              354369 non-null  int64 \n",
      " 5   model              334664 non-null  object\n",
      " 6   kilometer          354369 non-null  int64 \n",
      " 7   fuel_type          321474 non-null  object\n",
      " 8   brand              354369 non-null  object\n",
      " 9   repaired           283215 non-null  object\n",
      "dtypes: int64(4), object(6)\n",
      "memory usage: 27.0+ MB\n"
     ]
    }
   ],
   "source": [
    "data = data.drop(['postalcode', 'registration_month', 'number_of_pictures'], axis=1)\n",
    "data.info()"
   ]
  },
  {
   "cell_type": "markdown",
   "metadata": {},
   "source": [
    "**Вывод:**\n",
    "\n",
    "Удалили неинформативные признаки:\n",
    "- date_crawled, date_created, lastseen, 'postalcode', 'registration_month', 'number_of_pictures'"
   ]
  },
  {
   "cell_type": "markdown",
   "metadata": {},
   "source": [
    "#### Пропуски"
   ]
  },
  {
   "cell_type": "code",
   "execution_count": 18,
   "metadata": {},
   "outputs": [
    {
     "data": {
      "text/plain": [
       "price                    0\n",
       "vehicle_type         37490\n",
       "registration_year        0\n",
       "gearbox              19833\n",
       "power                    0\n",
       "model                19705\n",
       "kilometer                0\n",
       "fuel_type            32895\n",
       "brand                    0\n",
       "repaired             71154\n",
       "dtype: int64"
      ]
     },
     "execution_count": 18,
     "metadata": {},
     "output_type": "execute_result"
    }
   ],
   "source": [
    "data.isna().sum()"
   ]
  },
  {
   "cell_type": "markdown",
   "metadata": {},
   "source": [
    "Для каждого столбца с пропущенными значениями выведем уникальные значения и их количество:"
   ]
  },
  {
   "cell_type": "code",
   "execution_count": 19,
   "metadata": {},
   "outputs": [
    {
     "name": "stdout",
     "output_type": "stream",
     "text": [
      "vehicle_type: \n"
     ]
    },
    {
     "data": {
      "text/plain": [
       "sedan          91457\n",
       "small          79831\n",
       "wagon          65166\n",
       "bus            28775\n",
       "convertible    20203\n",
       "coupe          16163\n",
       "suv            11996\n",
       "other           3288\n",
       "Name: vehicle_type, dtype: int64"
      ]
     },
     "metadata": {},
     "output_type": "display_data"
    },
    {
     "name": "stdout",
     "output_type": "stream",
     "text": [
      "gearbox: \n"
     ]
    },
    {
     "data": {
      "text/plain": [
       "manual    268251\n",
       "auto       66285\n",
       "Name: gearbox, dtype: int64"
      ]
     },
     "metadata": {},
     "output_type": "display_data"
    },
    {
     "name": "stdout",
     "output_type": "stream",
     "text": [
      "model: \n"
     ]
    },
    {
     "data": {
      "text/plain": [
       "golf                  29232\n",
       "other                 24421\n",
       "3er                   19761\n",
       "polo                  13066\n",
       "corsa                 12570\n",
       "                      ...  \n",
       "serie_2                   8\n",
       "rangerover                4\n",
       "serie_3                   4\n",
       "serie_1                   2\n",
       "range_rover_evoque        2\n",
       "Name: model, Length: 250, dtype: int64"
      ]
     },
     "metadata": {},
     "output_type": "display_data"
    },
    {
     "name": "stdout",
     "output_type": "stream",
     "text": [
      "fuel_type: \n"
     ]
    },
    {
     "data": {
      "text/plain": [
       "petrol      216352\n",
       "gasoline     98720\n",
       "lpg           5310\n",
       "cng            565\n",
       "hybrid         233\n",
       "other          204\n",
       "electric        90\n",
       "Name: fuel_type, dtype: int64"
      ]
     },
     "metadata": {},
     "output_type": "display_data"
    },
    {
     "name": "stdout",
     "output_type": "stream",
     "text": [
      "repaired: \n"
     ]
    },
    {
     "data": {
      "text/plain": [
       "no     247161\n",
       "yes     36054\n",
       "Name: repaired, dtype: int64"
      ]
     },
     "metadata": {},
     "output_type": "display_data"
    }
   ],
   "source": [
    "for i in data.isna().sum().loc[data.isna().sum()>0].index:\n",
    "    print (f'{i}: ')\n",
    "    display(data[i].value_counts())"
   ]
  },
  {
   "cell_type": "markdown",
   "metadata": {},
   "source": [
    "**Решение**\n",
    "\n",
    "Пропущенные значения в `fuel_type`, `model`, `vehicle_type` заполним значением 'other', т.к. такие категории имеются в этих столбцах.\n",
    "\n",
    "В `repaired` заменим на новую категорию - 'unknown', поскольку в этом столбце всего 2 уникальных значения, и мы не можем с уверенностью утверждать, что пропуски означают \"да\" или \"нет\", а 71 тысяча из 350 тыс значений - это большая доля, и заполнение значений на \"да\" или \"нет\" может существенно исказить датасет.\n",
    "\n",
    "То же касается и `gearbox` - заменим на 'unknown', чтобы не искажать значения."
   ]
  },
  {
   "cell_type": "code",
   "execution_count": 20,
   "metadata": {},
   "outputs": [
    {
     "name": "stdout",
     "output_type": "stream",
     "text": [
      "Пропуски после заполнения:\n"
     ]
    },
    {
     "data": {
      "text/plain": [
       "price                0\n",
       "vehicle_type         0\n",
       "registration_year    0\n",
       "gearbox              0\n",
       "power                0\n",
       "model                0\n",
       "kilometer            0\n",
       "fuel_type            0\n",
       "brand                0\n",
       "repaired             0\n",
       "dtype: int64"
      ]
     },
     "metadata": {},
     "output_type": "display_data"
    },
    {
     "name": "stdout",
     "output_type": "stream",
     "text": [
      "Уникальные значения и их количества в колонках repaired и gearbox после заполнения:\n"
     ]
    },
    {
     "data": {
      "text/plain": [
       "no         247161\n",
       "unknown     71154\n",
       "yes         36054\n",
       "Name: repaired, dtype: int64"
      ]
     },
     "metadata": {},
     "output_type": "display_data"
    },
    {
     "data": {
      "text/plain": [
       "manual     268251\n",
       "auto        66285\n",
       "unknown     19833\n",
       "Name: gearbox, dtype: int64"
      ]
     },
     "metadata": {},
     "output_type": "display_data"
    }
   ],
   "source": [
    "# Замена\n",
    "for column in 'fuel_type', 'model', 'vehicle_type':\n",
    "    data[column] = data[column].fillna('other')\n",
    "for column in 'repaired', 'gearbox':\n",
    "    data[column] = data[column].fillna('unknown')\n",
    "\n",
    "# Проверка корректности заполнения\n",
    "print ('Пропуски после заполнения:')\n",
    "display (data.isna().sum())\n",
    "print ('Уникальные значения и их количества в колонках repaired и gearbox после заполнения:')\n",
    "display (data['repaired'].value_counts())\n",
    "display (data['gearbox'].value_counts())"
   ]
  },
  {
   "cell_type": "markdown",
   "metadata": {},
   "source": [
    "* Пропуски заполнены успешно"
   ]
  },
  {
   "cell_type": "markdown",
   "metadata": {},
   "source": [
    "#### Дубликаты"
   ]
  },
  {
   "cell_type": "markdown",
   "metadata": {},
   "source": [
    "**Явные дубликаты:**"
   ]
  },
  {
   "cell_type": "code",
   "execution_count": 21,
   "metadata": {},
   "outputs": [
    {
     "name": "stdout",
     "output_type": "stream",
     "text": [
      "Количество явных дубликатов: 45191\n",
      "Процент от всего датасета: 12.752526321433308\n"
     ]
    },
    {
     "data": {
      "text/html": [
       "<div>\n",
       "<style scoped>\n",
       "    .dataframe tbody tr th:only-of-type {\n",
       "        vertical-align: middle;\n",
       "    }\n",
       "\n",
       "    .dataframe tbody tr th {\n",
       "        vertical-align: top;\n",
       "    }\n",
       "\n",
       "    .dataframe thead th {\n",
       "        text-align: right;\n",
       "    }\n",
       "</style>\n",
       "<table border=\"1\" class=\"dataframe\">\n",
       "  <thead>\n",
       "    <tr style=\"text-align: right;\">\n",
       "      <th></th>\n",
       "      <th>price</th>\n",
       "      <th>vehicle_type</th>\n",
       "      <th>registration_year</th>\n",
       "      <th>gearbox</th>\n",
       "      <th>power</th>\n",
       "      <th>model</th>\n",
       "      <th>kilometer</th>\n",
       "      <th>fuel_type</th>\n",
       "      <th>brand</th>\n",
       "      <th>repaired</th>\n",
       "    </tr>\n",
       "  </thead>\n",
       "  <tbody>\n",
       "    <tr>\n",
       "      <th>1117</th>\n",
       "      <td>950</td>\n",
       "      <td>small</td>\n",
       "      <td>1999</td>\n",
       "      <td>manual</td>\n",
       "      <td>60</td>\n",
       "      <td>polo</td>\n",
       "      <td>150000</td>\n",
       "      <td>petrol</td>\n",
       "      <td>volkswagen</td>\n",
       "      <td>no</td>\n",
       "    </tr>\n",
       "    <tr>\n",
       "      <th>1396</th>\n",
       "      <td>0</td>\n",
       "      <td>other</td>\n",
       "      <td>2000</td>\n",
       "      <td>unknown</td>\n",
       "      <td>0</td>\n",
       "      <td>other</td>\n",
       "      <td>150000</td>\n",
       "      <td>other</td>\n",
       "      <td>volvo</td>\n",
       "      <td>unknown</td>\n",
       "    </tr>\n",
       "    <tr>\n",
       "      <th>2169</th>\n",
       "      <td>0</td>\n",
       "      <td>coupe</td>\n",
       "      <td>2002</td>\n",
       "      <td>manual</td>\n",
       "      <td>129</td>\n",
       "      <td>c_klasse</td>\n",
       "      <td>150000</td>\n",
       "      <td>petrol</td>\n",
       "      <td>mercedes_benz</td>\n",
       "      <td>no</td>\n",
       "    </tr>\n",
       "    <tr>\n",
       "      <th>2833</th>\n",
       "      <td>1499</td>\n",
       "      <td>small</td>\n",
       "      <td>2001</td>\n",
       "      <td>manual</td>\n",
       "      <td>58</td>\n",
       "      <td>corsa</td>\n",
       "      <td>150000</td>\n",
       "      <td>petrol</td>\n",
       "      <td>opel</td>\n",
       "      <td>no</td>\n",
       "    </tr>\n",
       "    <tr>\n",
       "      <th>3025</th>\n",
       "      <td>2800</td>\n",
       "      <td>wagon</td>\n",
       "      <td>2005</td>\n",
       "      <td>unknown</td>\n",
       "      <td>0</td>\n",
       "      <td>touran</td>\n",
       "      <td>150000</td>\n",
       "      <td>gasoline</td>\n",
       "      <td>volkswagen</td>\n",
       "      <td>no</td>\n",
       "    </tr>\n",
       "    <tr>\n",
       "      <th>...</th>\n",
       "      <td>...</td>\n",
       "      <td>...</td>\n",
       "      <td>...</td>\n",
       "      <td>...</td>\n",
       "      <td>...</td>\n",
       "      <td>...</td>\n",
       "      <td>...</td>\n",
       "      <td>...</td>\n",
       "      <td>...</td>\n",
       "      <td>...</td>\n",
       "    </tr>\n",
       "    <tr>\n",
       "      <th>354352</th>\n",
       "      <td>6500</td>\n",
       "      <td>sedan</td>\n",
       "      <td>2003</td>\n",
       "      <td>auto</td>\n",
       "      <td>145</td>\n",
       "      <td>e_klasse</td>\n",
       "      <td>150000</td>\n",
       "      <td>gasoline</td>\n",
       "      <td>mercedes_benz</td>\n",
       "      <td>no</td>\n",
       "    </tr>\n",
       "    <tr>\n",
       "      <th>354355</th>\n",
       "      <td>4400</td>\n",
       "      <td>sedan</td>\n",
       "      <td>2008</td>\n",
       "      <td>manual</td>\n",
       "      <td>105</td>\n",
       "      <td>leon</td>\n",
       "      <td>150000</td>\n",
       "      <td>gasoline</td>\n",
       "      <td>seat</td>\n",
       "      <td>no</td>\n",
       "    </tr>\n",
       "    <tr>\n",
       "      <th>354358</th>\n",
       "      <td>1490</td>\n",
       "      <td>small</td>\n",
       "      <td>1998</td>\n",
       "      <td>manual</td>\n",
       "      <td>50</td>\n",
       "      <td>lupo</td>\n",
       "      <td>150000</td>\n",
       "      <td>petrol</td>\n",
       "      <td>volkswagen</td>\n",
       "      <td>no</td>\n",
       "    </tr>\n",
       "    <tr>\n",
       "      <th>354359</th>\n",
       "      <td>7900</td>\n",
       "      <td>sedan</td>\n",
       "      <td>2010</td>\n",
       "      <td>manual</td>\n",
       "      <td>140</td>\n",
       "      <td>golf</td>\n",
       "      <td>150000</td>\n",
       "      <td>gasoline</td>\n",
       "      <td>volkswagen</td>\n",
       "      <td>no</td>\n",
       "    </tr>\n",
       "    <tr>\n",
       "      <th>354363</th>\n",
       "      <td>1150</td>\n",
       "      <td>bus</td>\n",
       "      <td>2000</td>\n",
       "      <td>manual</td>\n",
       "      <td>0</td>\n",
       "      <td>zafira</td>\n",
       "      <td>150000</td>\n",
       "      <td>petrol</td>\n",
       "      <td>opel</td>\n",
       "      <td>no</td>\n",
       "    </tr>\n",
       "  </tbody>\n",
       "</table>\n",
       "<p>45191 rows × 10 columns</p>\n",
       "</div>"
      ],
      "text/plain": [
       "        price vehicle_type  registration_year  gearbox  power     model  \\\n",
       "1117      950        small               1999   manual     60      polo   \n",
       "1396        0        other               2000  unknown      0     other   \n",
       "2169        0        coupe               2002   manual    129  c_klasse   \n",
       "2833     1499        small               2001   manual     58     corsa   \n",
       "3025     2800        wagon               2005  unknown      0    touran   \n",
       "...       ...          ...                ...      ...    ...       ...   \n",
       "354352   6500        sedan               2003     auto    145  e_klasse   \n",
       "354355   4400        sedan               2008   manual    105      leon   \n",
       "354358   1490        small               1998   manual     50      lupo   \n",
       "354359   7900        sedan               2010   manual    140      golf   \n",
       "354363   1150          bus               2000   manual      0    zafira   \n",
       "\n",
       "        kilometer fuel_type          brand repaired  \n",
       "1117       150000    petrol     volkswagen       no  \n",
       "1396       150000     other          volvo  unknown  \n",
       "2169       150000    petrol  mercedes_benz       no  \n",
       "2833       150000    petrol           opel       no  \n",
       "3025       150000  gasoline     volkswagen       no  \n",
       "...           ...       ...            ...      ...  \n",
       "354352     150000  gasoline  mercedes_benz       no  \n",
       "354355     150000  gasoline           seat       no  \n",
       "354358     150000    petrol     volkswagen       no  \n",
       "354359     150000  gasoline     volkswagen       no  \n",
       "354363     150000    petrol           opel       no  \n",
       "\n",
       "[45191 rows x 10 columns]"
      ]
     },
     "metadata": {},
     "output_type": "display_data"
    }
   ],
   "source": [
    "duplicates_find(data)"
   ]
  },
  {
   "cell_type": "markdown",
   "metadata": {},
   "source": [
    "Дубликатов после обработки данных стало много. \n",
    "\n",
    "Удалим, чтобы не мешали обучению модели:"
   ]
  },
  {
   "cell_type": "code",
   "execution_count": 22,
   "metadata": {},
   "outputs": [
    {
     "name": "stdout",
     "output_type": "stream",
     "text": [
      "Явных дубликатов не найдено\n"
     ]
    }
   ],
   "source": [
    "data = data.drop_duplicates().reset_index(drop=True)\n",
    "\n",
    "# Проверка\n",
    "duplicates_find(data)"
   ]
  },
  {
   "cell_type": "markdown",
   "metadata": {},
   "source": [
    "**Неявные дубликаты**"
   ]
  },
  {
   "cell_type": "code",
   "execution_count": 23,
   "metadata": {},
   "outputs": [
    {
     "name": "stdout",
     "output_type": "stream",
     "text": [
      "vehicle_type: \n",
      " ['other' 'coupe' 'suv' 'small' 'sedan' 'convertible' 'bus' 'wagon'] \n",
      " \n",
      "gearbox: \n",
      " ['manual' 'auto' 'unknown'] \n",
      " \n",
      "model: \n",
      " ['golf' 'other' 'grand' 'fabia' '3er' '2_reihe' 'c_max' '3_reihe' 'passat'\n",
      " 'navara' 'ka' 'polo' 'twingo' 'a_klasse' 'scirocco' '5er' 'meriva'\n",
      " 'arosa' 'c4' 'civic' 'transporter' 'punto' 'e_klasse' 'clio' 'kadett'\n",
      " 'kangoo' 'corsa' 'one' 'fortwo' '1er' 'b_klasse' 'signum' 'astra' 'a8'\n",
      " 'jetta' 'fiesta' 'c_klasse' 'micra' 'vito' 'sprinter' '156' 'escort'\n",
      " 'forester' 'xc_reihe' 'scenic' 'a4' 'a1' 'insignia' 'combo' 'focus' 'tt'\n",
      " 'a6' 'jazz' 'omega' 'slk' '7er' '80' '147' '100' 'z_reihe' 'sportage'\n",
      " 'sorento' 'v40' 'ibiza' 'mustang' 'eos' 'touran' 'getz' 'a3' 'almera'\n",
      " 'megane' 'lupo' 'r19' 'zafira' 'caddy' 'mondeo' 'cordoba' 'colt'\n",
      " 'impreza' 'vectra' 'berlingo' 'tiguan' 'i_reihe' 'espace' 'sharan'\n",
      " '6_reihe' 'panda' 'up' 'seicento' 'ceed' '5_reihe' 'yeti' 'octavia' 'mii'\n",
      " 'rx_reihe' '6er' 'modus' 'fox' 'matiz' 'beetle' 'c1' 'rio' 'touareg'\n",
      " 'logan' 'spider' 'cuore' 's_max' 'a2' 'galaxy' 'c3' 'viano' 's_klasse'\n",
      " '1_reihe' 'avensis' 'roomster' 'sl' 'kaefer' 'santa' 'cooper' 'leon'\n",
      " '4_reihe' 'a5' '500' 'laguna' 'ptcruiser' 'clk' 'primera' 'x_reihe'\n",
      " 'exeo' '159' 'transit' 'juke' 'qashqai' 'carisma' 'accord' 'corolla'\n",
      " 'lanos' 'phaeton' 'verso' 'swift' 'rav' 'picanto' 'boxster' 'kalos'\n",
      " 'superb' 'stilo' 'alhambra' 'mx_reihe' 'roadster' 'ypsilon' 'cayenne'\n",
      " 'galant' 'justy' '90' 'sirion' 'crossfire' 'agila' 'duster' 'cr_reihe'\n",
      " 'v50' 'c_reihe' 'v_klasse' 'm_klasse' 'yaris' 'c5' 'aygo' 'cc' 'carnival'\n",
      " 'fusion' '911' 'bora' 'forfour' 'm_reihe' 'cl' 'tigra' '300c' 'spark'\n",
      " 'v70' 'kuga' 'x_type' 'ducato' 's_type' 'x_trail' 'toledo' 'altea'\n",
      " 'voyager' 'calibra' 'bravo' 'antara' 'tucson' 'citigo' 'jimny' 'wrangler'\n",
      " 'lybra' 'q7' 'lancer' 'captiva' 'c2' 'discovery' 'freelander' 'sandero'\n",
      " 'note' '900' 'cherokee' 'clubman' 'samara' 'defender' '601' 'cx_reihe'\n",
      " 'legacy' 'pajero' 'auris' 'niva' 's60' 'nubira' 'vivaro' 'g_klasse'\n",
      " 'lodgy' '850' 'range_rover' 'q3' 'serie_2' 'glk' 'charade' 'croma'\n",
      " 'outlander' 'doblo' 'musa' 'move' '9000' 'v60' '145' 'aveo' '200' 'b_max'\n",
      " 'range_rover_sport' 'terios' 'rangerover' 'q5' 'range_rover_evoque'\n",
      " 'materia' 'delta' 'gl' 'kalina' 'amarok' 'elefantino' 'i3' 'kappa'\n",
      " 'serie_3' 'serie_1'] \n",
      " \n",
      "fuel_type: \n",
      " ['petrol' 'gasoline' 'other' 'lpg' 'hybrid' 'cng' 'electric'] \n",
      " \n",
      "brand: \n",
      " ['volkswagen' 'audi' 'jeep' 'skoda' 'bmw' 'peugeot' 'ford' 'mazda'\n",
      " 'nissan' 'renault' 'mercedes_benz' 'opel' 'seat' 'citroen' 'honda' 'fiat'\n",
      " 'mini' 'smart' 'hyundai' 'sonstige_autos' 'alfa_romeo' 'subaru' 'volvo'\n",
      " 'mitsubishi' 'kia' 'suzuki' 'lancia' 'toyota' 'chevrolet' 'dacia'\n",
      " 'daihatsu' 'trabant' 'saab' 'chrysler' 'jaguar' 'daewoo' 'porsche'\n",
      " 'rover' 'land_rover' 'lada'] \n",
      " \n",
      "repaired: \n",
      " ['unknown' 'yes' 'no'] \n",
      " \n"
     ]
    }
   ],
   "source": [
    "uniques(data)"
   ]
  },
  {
   "cell_type": "markdown",
   "metadata": {},
   "source": [
    "В `fuel_type` видим категории *gasoline* и *petrol*.\n",
    "* Согласно википедии, это один и тот же вид топлива с разным происхождением слов: \"Gasoline (North American English) or petrol (Commonwealth English)\"\n",
    "\n",
    "Заменим *gasoline* на *petrol*:"
   ]
  },
  {
   "cell_type": "code",
   "execution_count": 24,
   "metadata": {},
   "outputs": [
    {
     "data": {
      "text/plain": [
       "petrol      272548\n",
       "other        30909\n",
       "lpg           4887\n",
       "cng            524\n",
       "hybrid         222\n",
       "electric        88\n",
       "Name: fuel_type, dtype: int64"
      ]
     },
     "execution_count": 24,
     "metadata": {},
     "output_type": "execute_result"
    }
   ],
   "source": [
    "data['fuel_type'] = data['fuel_type'].replace('gasoline', 'petrol')\n",
    "data['fuel_type'].value_counts()"
   ]
  },
  {
   "cell_type": "markdown",
   "metadata": {},
   "source": [
    "Также дубль в названии 'range_rover' и 'rangerover'"
   ]
  },
  {
   "cell_type": "code",
   "execution_count": 25,
   "metadata": {},
   "outputs": [
    {
     "name": "stdout",
     "output_type": "stream",
     "text": [
      "Уникальных значений до переименования:  250\n",
      "Уникальных значений после переименования:  249\n"
     ]
    }
   ],
   "source": [
    "print ('Уникальных значений до переименования: ', data['model'].nunique())\n",
    "\n",
    "data['model'] = data['model'].replace('rangerover', 'range_rover')\n",
    "\n",
    "print ('Уникальных значений после переименования: ', data['model'].nunique())"
   ]
  },
  {
   "cell_type": "markdown",
   "metadata": {},
   "source": [
    "В остальном дубликатов значений признаков не обнаружено."
   ]
  },
  {
   "cell_type": "markdown",
   "metadata": {},
   "source": [
    "**Вывод:**\n",
    "\n",
    "- Удалили 45191 дубликатов (12.75% датасета)\n",
    "- В значениях признака `fuel_type` заменили *gasoline* на *petrol*"
   ]
  },
  {
   "cell_type": "markdown",
   "metadata": {},
   "source": [
    "#### Распределение признаков"
   ]
  },
  {
   "cell_type": "markdown",
   "metadata": {},
   "source": [
    "##### Признаки типа int"
   ]
  },
  {
   "cell_type": "markdown",
   "metadata": {},
   "source": [
    "Посмотрим, как распределены данные по каждому из признаков"
   ]
  },
  {
   "cell_type": "code",
   "execution_count": 26,
   "metadata": {},
   "outputs": [
    {
     "data": {
      "image/png": "[encoded data removed]",
      "text/plain": [
       "<Figure size 864x288 with 2 Axes>"
      ]
     },
     "metadata": {
      "needs_background": "light"
     },
     "output_type": "display_data"
    },
    {
     "data": {
      "text/html": [
       "<div>\n",
       "<style scoped>\n",
       "    .dataframe tbody tr th:only-of-type {\n",
       "        vertical-align: middle;\n",
       "    }\n",
       "\n",
       "    .dataframe tbody tr th {\n",
       "        vertical-align: top;\n",
       "    }\n",
       "\n",
       "    .dataframe thead th {\n",
       "        text-align: right;\n",
       "    }\n",
       "</style>\n",
       "<table border=\"1\" class=\"dataframe\">\n",
       "  <thead>\n",
       "    <tr style=\"text-align: right;\">\n",
       "      <th></th>\n",
       "      <th>count</th>\n",
       "      <th>mean</th>\n",
       "      <th>std</th>\n",
       "      <th>min</th>\n",
       "      <th>25%</th>\n",
       "      <th>50%</th>\n",
       "      <th>75%</th>\n",
       "      <th>max</th>\n",
       "    </tr>\n",
       "  </thead>\n",
       "  <tbody>\n",
       "    <tr>\n",
       "      <th>price</th>\n",
       "      <td>309178.0</td>\n",
       "      <td>4487.898495</td>\n",
       "      <td>4565.099808</td>\n",
       "      <td>0.0</td>\n",
       "      <td>1100.0</td>\n",
       "      <td>2800.0</td>\n",
       "      <td>6500.0</td>\n",
       "      <td>20000.0</td>\n",
       "    </tr>\n",
       "  </tbody>\n",
       "</table>\n",
       "</div>"
      ],
      "text/plain": [
       "          count         mean          std  min     25%     50%     75%  \\\n",
       "price  309178.0  4487.898495  4565.099808  0.0  1100.0  2800.0  6500.0   \n",
       "\n",
       "           max  \n",
       "price  20000.0  "
      ]
     },
     "metadata": {},
     "output_type": "display_data"
    },
    {
     "data": {
      "image/png": "[encoded data removed]",
      "text/plain": [
       "<Figure size 864x288 with 2 Axes>"
      ]
     },
     "metadata": {
      "needs_background": "light"
     },
     "output_type": "display_data"
    },
    {
     "data": {
      "text/html": [
       "<div>\n",
       "<style scoped>\n",
       "    .dataframe tbody tr th:only-of-type {\n",
       "        vertical-align: middle;\n",
       "    }\n",
       "\n",
       "    .dataframe tbody tr th {\n",
       "        vertical-align: top;\n",
       "    }\n",
       "\n",
       "    .dataframe thead th {\n",
       "        text-align: right;\n",
       "    }\n",
       "</style>\n",
       "<table border=\"1\" class=\"dataframe\">\n",
       "  <thead>\n",
       "    <tr style=\"text-align: right;\">\n",
       "      <th></th>\n",
       "      <th>count</th>\n",
       "      <th>mean</th>\n",
       "      <th>std</th>\n",
       "      <th>min</th>\n",
       "      <th>25%</th>\n",
       "      <th>50%</th>\n",
       "      <th>75%</th>\n",
       "      <th>max</th>\n",
       "    </tr>\n",
       "  </thead>\n",
       "  <tbody>\n",
       "    <tr>\n",
       "      <th>registration_year</th>\n",
       "      <td>309178.0</td>\n",
       "      <td>2004.362875</td>\n",
       "      <td>92.563413</td>\n",
       "      <td>1000.0</td>\n",
       "      <td>1999.0</td>\n",
       "      <td>2003.0</td>\n",
       "      <td>2008.0</td>\n",
       "      <td>9999.0</td>\n",
       "    </tr>\n",
       "  </tbody>\n",
       "</table>\n",
       "</div>"
      ],
      "text/plain": [
       "                      count         mean        std     min     25%     50%  \\\n",
       "registration_year  309178.0  2004.362875  92.563413  1000.0  1999.0  2003.0   \n",
       "\n",
       "                      75%     max  \n",
       "registration_year  2008.0  9999.0  "
      ]
     },
     "metadata": {},
     "output_type": "display_data"
    },
    {
     "data": {
      "image/png": "[encoded data removed]",
      "text/plain": [
       "<Figure size 864x288 with 2 Axes>"
      ]
     },
     "metadata": {
      "needs_background": "light"
     },
     "output_type": "display_data"
    },
    {
     "data": {
      "text/html": [
       "<div>\n",
       "<style scoped>\n",
       "    .dataframe tbody tr th:only-of-type {\n",
       "        vertical-align: middle;\n",
       "    }\n",
       "\n",
       "    .dataframe tbody tr th {\n",
       "        vertical-align: top;\n",
       "    }\n",
       "\n",
       "    .dataframe thead th {\n",
       "        text-align: right;\n",
       "    }\n",
       "</style>\n",
       "<table border=\"1\" class=\"dataframe\">\n",
       "  <thead>\n",
       "    <tr style=\"text-align: right;\">\n",
       "      <th></th>\n",
       "      <th>count</th>\n",
       "      <th>mean</th>\n",
       "      <th>std</th>\n",
       "      <th>min</th>\n",
       "      <th>25%</th>\n",
       "      <th>50%</th>\n",
       "      <th>75%</th>\n",
       "      <th>max</th>\n",
       "    </tr>\n",
       "  </thead>\n",
       "  <tbody>\n",
       "    <tr>\n",
       "      <th>power</th>\n",
       "      <td>309178.0</td>\n",
       "      <td>110.996976</td>\n",
       "      <td>201.009413</td>\n",
       "      <td>0.0</td>\n",
       "      <td>69.0</td>\n",
       "      <td>105.0</td>\n",
       "      <td>143.0</td>\n",
       "      <td>20000.0</td>\n",
       "    </tr>\n",
       "  </tbody>\n",
       "</table>\n",
       "</div>"
      ],
      "text/plain": [
       "          count        mean         std  min   25%    50%    75%      max\n",
       "power  309178.0  110.996976  201.009413  0.0  69.0  105.0  143.0  20000.0"
      ]
     },
     "metadata": {},
     "output_type": "display_data"
    },
    {
     "data": {
      "image/png": "[encoded data removed]",
      "text/plain": [
       "<Figure size 864x288 with 2 Axes>"
      ]
     },
     "metadata": {
      "needs_background": "light"
     },
     "output_type": "display_data"
    },
    {
     "data": {
      "text/html": [
       "<div>\n",
       "<style scoped>\n",
       "    .dataframe tbody tr th:only-of-type {\n",
       "        vertical-align: middle;\n",
       "    }\n",
       "\n",
       "    .dataframe tbody tr th {\n",
       "        vertical-align: top;\n",
       "    }\n",
       "\n",
       "    .dataframe thead th {\n",
       "        text-align: right;\n",
       "    }\n",
       "</style>\n",
       "<table border=\"1\" class=\"dataframe\">\n",
       "  <thead>\n",
       "    <tr style=\"text-align: right;\">\n",
       "      <th></th>\n",
       "      <th>count</th>\n",
       "      <th>mean</th>\n",
       "      <th>std</th>\n",
       "      <th>min</th>\n",
       "      <th>25%</th>\n",
       "      <th>50%</th>\n",
       "      <th>75%</th>\n",
       "      <th>max</th>\n",
       "    </tr>\n",
       "  </thead>\n",
       "  <tbody>\n",
       "    <tr>\n",
       "      <th>kilometer</th>\n",
       "      <td>309178.0</td>\n",
       "      <td>127221.131516</td>\n",
       "      <td>38526.706414</td>\n",
       "      <td>5000.0</td>\n",
       "      <td>125000.0</td>\n",
       "      <td>150000.0</td>\n",
       "      <td>150000.0</td>\n",
       "      <td>150000.0</td>\n",
       "    </tr>\n",
       "  </tbody>\n",
       "</table>\n",
       "</div>"
      ],
      "text/plain": [
       "              count           mean           std     min       25%       50%  \\\n",
       "kilometer  309178.0  127221.131516  38526.706414  5000.0  125000.0  150000.0   \n",
       "\n",
       "                75%       max  \n",
       "kilometer  150000.0  150000.0  "
      ]
     },
     "metadata": {},
     "output_type": "display_data"
    }
   ],
   "source": [
    "names = ['цена', 'год регистрации', 'мощность (л.с.)', 'пробег (км)']\n",
    "p=0\n",
    "for i in data.columns:\n",
    "    if data[i].dtype == 'int':\n",
    "        graph(data[i], 50, names[p])\n",
    "        p+=1"
   ]
  },
  {
   "cell_type": "markdown",
   "metadata": {},
   "source": [
    "**Цена:**\n",
    "\n",
    "На ящике с усами видим, что статистически выбросами считаются значения выше 15000 евро. \n",
    "При этом максимальная цена - 22 тысячи евро, всего на 7000 тысяч выше верхнего нормального значения.\n",
    "\n",
    "- Такой разброс кажется нормальным, поэтому эти значения выбросами не считаем.   \n",
    "Выбросов нет\n",
    "\n",
    "Но есть значения, равные 0 евро. Для построения модели такие данные не нужны.  \n",
    "Возьмем минимальное значение цены от 100 евро. Проверим, какой процент датасета они составляют:"
   ]
  },
  {
   "cell_type": "code",
   "execution_count": 27,
   "metadata": {},
   "outputs": [
    {
     "name": "stdout",
     "output_type": "stream",
     "text": [
      "Процент автомобилей стоимостью ниже 100 евро:  3.63\n"
     ]
    }
   ],
   "source": [
    "print ('Процент автомобилей стоимостью ниже 100 евро: ', round((data['price']<100).sum()/len(data)*100, 2))"
   ]
  },
  {
   "cell_type": "markdown",
   "metadata": {},
   "source": [
    "Менее 4%. Удаляем:"
   ]
  },
  {
   "cell_type": "code",
   "execution_count": 28,
   "metadata": {},
   "outputs": [
    {
     "data": {
      "text/plain": [
       "297943"
      ]
     },
     "execution_count": 28,
     "metadata": {},
     "output_type": "execute_result"
    }
   ],
   "source": [
    "data = data.query('price>=100')\n",
    "\n",
    "len(data)"
   ]
  },
  {
   "cell_type": "markdown",
   "metadata": {},
   "source": [
    "**Пробег**\n",
    "\n",
    "Среднее 127 221 км со стандартным отклонением 38526.7 км.\n",
    "\n",
    "Минимальный пробег - 5000 км.\n",
    "\n",
    "Выбросов нет."
   ]
  },
  {
   "cell_type": "markdown",
   "metadata": {},
   "source": [
    "**Год регистрации**"
   ]
  },
  {
   "cell_type": "markdown",
   "metadata": {},
   "source": [
    "Ранее видели, что все анкеты были созданы в 2016 году.\n",
    "\n",
    "Удалим все автомобили, зарегистрированные позже 2016 года и до 1950."
   ]
  },
  {
   "cell_type": "code",
   "execution_count": 29,
   "metadata": {},
   "outputs": [
    {
     "name": "stdout",
     "output_type": "stream",
     "text": [
      "Процент автомобилей, зарегистрированных после 2016: 4.31\n",
      "Процент автомобилей, зарегистрированных до 1950: 0.05\n"
     ]
    }
   ],
   "source": [
    "print ('Процент автомобилей, зарегистрированных после 2016:', \n",
    "       round((data['registration_year']>2016).sum()/len(data)*100, 2))\n",
    "\n",
    "print ('Процент автомобилей, зарегистрированных до 1950:', \n",
    "       round((data['registration_year']<1950).sum()/len(data)*100, 2))"
   ]
  },
  {
   "cell_type": "code",
   "execution_count": 30,
   "metadata": {},
   "outputs": [],
   "source": [
    "# Удаляем лишние данные\n",
    "data = data.query('registration_year <= 2016 and registration_year >= 1950')"
   ]
  },
  {
   "cell_type": "markdown",
   "metadata": {},
   "source": [
    "Теперь распределение признака выглядит так:"
   ]
  },
  {
   "cell_type": "code",
   "execution_count": 31,
   "metadata": {},
   "outputs": [
    {
     "data": {
      "image/png": "[encoded data removed]",
      "text/plain": [
       "<Figure size 864x288 with 2 Axes>"
      ]
     },
     "metadata": {
      "needs_background": "light"
     },
     "output_type": "display_data"
    },
    {
     "data": {
      "text/html": [
       "<div>\n",
       "<style scoped>\n",
       "    .dataframe tbody tr th:only-of-type {\n",
       "        vertical-align: middle;\n",
       "    }\n",
       "\n",
       "    .dataframe tbody tr th {\n",
       "        vertical-align: top;\n",
       "    }\n",
       "\n",
       "    .dataframe thead th {\n",
       "        text-align: right;\n",
       "    }\n",
       "</style>\n",
       "<table border=\"1\" class=\"dataframe\">\n",
       "  <thead>\n",
       "    <tr style=\"text-align: right;\">\n",
       "      <th></th>\n",
       "      <th>count</th>\n",
       "      <th>mean</th>\n",
       "      <th>std</th>\n",
       "      <th>min</th>\n",
       "      <th>25%</th>\n",
       "      <th>50%</th>\n",
       "      <th>75%</th>\n",
       "      <th>max</th>\n",
       "    </tr>\n",
       "  </thead>\n",
       "  <tbody>\n",
       "    <tr>\n",
       "      <th>registration_year</th>\n",
       "      <td>284974.0</td>\n",
       "      <td>2002.669068</td>\n",
       "      <td>6.899228</td>\n",
       "      <td>1950.0</td>\n",
       "      <td>1999.0</td>\n",
       "      <td>2003.0</td>\n",
       "      <td>2007.0</td>\n",
       "      <td>2016.0</td>\n",
       "    </tr>\n",
       "  </tbody>\n",
       "</table>\n",
       "</div>"
      ],
      "text/plain": [
       "                      count         mean       std     min     25%     50%  \\\n",
       "registration_year  284974.0  2002.669068  6.899228  1950.0  1999.0  2003.0   \n",
       "\n",
       "                      75%     max  \n",
       "registration_year  2007.0  2016.0  "
      ]
     },
     "metadata": {},
     "output_type": "display_data"
    }
   ],
   "source": [
    "graph(data['registration_year'], 30, 'год')"
   ]
  },
  {
   "cell_type": "markdown",
   "metadata": {},
   "source": [
    "**Мощность**"
   ]
  },
  {
   "cell_type": "markdown",
   "metadata": {},
   "source": [
    "Значения доходят до 20000 л.с. Это явные выбросы.\n",
    "\n",
    "Наибольшая мощность по состоянию на 2022 была у Devel Sixteen Engine Dyno - 4515 л.с. Даже значения до 1500 л.с. - большая редкость.\n",
    "\n",
    "Возьмем в итоговую выборку только значения до 500 л.с., не равные нулю"
   ]
  },
  {
   "cell_type": "code",
   "execution_count": 32,
   "metadata": {},
   "outputs": [
    {
     "name": "stdout",
     "output_type": "stream",
     "text": [
      "Доля удаленных автомобилей - менее процента: \n",
      " 0.0\n"
     ]
    }
   ],
   "source": [
    "print ('Доля удаленных автомобилей - менее процента: \\n', \n",
    "       round(len(data.query('power > 500 and power < 40'))/len(data)*100, 2))\n",
    "\n",
    "# Убираем лишние значения \n",
    "data = data.query('power <= 500 and power > 40')"
   ]
  },
  {
   "cell_type": "markdown",
   "metadata": {},
   "source": [
    "##### Признаки типа Object"
   ]
  },
  {
   "cell_type": "code",
   "execution_count": 33,
   "metadata": {},
   "outputs": [
    {
     "data": {
      "image/png": "[encoded data removed]",
      "text/plain": [
       "<Figure size 720x288 with 1 Axes>"
      ]
     },
     "metadata": {
      "needs_background": "light"
     },
     "output_type": "display_data"
    },
    {
     "data": {
      "image/png": "[encoded data removed]",
      "text/plain": [
       "<Figure size 720x288 with 1 Axes>"
      ]
     },
     "metadata": {
      "needs_background": "light"
     },
     "output_type": "display_data"
    },
    {
     "data": {
      "image/png": "[encoded data removed]",
      "text/plain": [
       "<Figure size 720x288 with 1 Axes>"
      ]
     },
     "metadata": {
      "needs_background": "light"
     },
     "output_type": "display_data"
    },
    {
     "data": {
      "image/png": "[encoded data removed]",
      "text/plain": [
       "<Figure size 720x288 with 1 Axes>"
      ]
     },
     "metadata": {
      "needs_background": "light"
     },
     "output_type": "display_data"
    }
   ],
   "source": [
    "names = ['тип кузова', 'тип коробки передач', 'тип топлива', 'была ли в ремонте']\n",
    "p=0\n",
    "for i in data.columns:\n",
    "    if data[i].dtype == 'O' and i not in ['model', 'brand'] :\n",
    "        make_countplot(data, i, names[p])\n",
    "        p +=1"
   ]
  },
  {
   "cell_type": "markdown",
   "metadata": {},
   "source": [
    "**Вывод:**\n",
    "\n",
    "Самые популярные типы кузова - sedan, small, wagon.\n",
    "\n",
    "Коробка передач типа Manual количественно значительно преобладает над Auto.\n",
    "\n",
    "Почти во всех случаях топливо - Petrol.\n",
    "\n",
    "В основном в анкетах указано, что автомобиль не был в ремонте."
   ]
  },
  {
   "cell_type": "markdown",
   "metadata": {},
   "source": [
    "**model и brand**"
   ]
  },
  {
   "cell_type": "markdown",
   "metadata": {},
   "source": [
    "У этих признаков очень много уникальных значений, поэтому визуализировать графиками их распределение сложно.\n",
    "\n",
    "Представим результат в виде цифр.\n",
    "\n",
    "**`model`:**"
   ]
  },
  {
   "cell_type": "code",
   "execution_count": 34,
   "metadata": {},
   "outputs": [
    {
     "name": "stdout",
     "output_type": "stream",
     "text": [
      "Процент моделей, присутствующих в датасете в количестве меньше, чем... \n",
      "10 - 3.23 %\n",
      "50 - 11.69 %\n",
      "100 - 20.97 %\n",
      "200 - 39.11 %\n",
      "400 - 60.08 %\n",
      "500 - 66.13 %\n",
      "1000 - 81.45 %\n",
      "2000 - 87.9 %\n",
      "3000 - 92.34 %\n",
      "\n",
      "10 самых популярных: \n",
      " ['other', 'golf', '3er', 'polo', 'astra', 'corsa', 'a4', 'passat', 'c_klasse', '5er']\n",
      "\n",
      "10 наименее популярных: \n",
      " ['gl', 'amarok', 'elefantino', 'serie_2', 'i3', 'samara', 'kalina', 'serie_3', '601', 'range_rover_evoque']\n"
     ]
    }
   ],
   "source": [
    "print ('Процент моделей, присутствующих в датасете в количестве меньше, чем... ')\n",
    "for i in [10, 50, 100, 200, 400, 500, 1000, 2000, 3000]:\n",
    "    print (f'{i} -', round((data['model'].value_counts()<i).sum()/data['model'].nunique() * 100, 2), '%')\n",
    "    \n",
    "print ('\\n10 самых популярных: \\n', (data['model'].value_counts().head(10)).index.to_list())\n",
    "print ('\\n10 наименее популярных: \\n', (data['model'].value_counts().tail(10)).index.to_list())"
   ]
  },
  {
   "cell_type": "markdown",
   "metadata": {},
   "source": [
    "Всего 10% моделей присутствуют в датасете в количестве менее 50 шт.  \n",
    "Более 80% - в количестве более 100 шт.  \n",
    "Около 50% - в количестве менее 400 шт.   \n",
    "20% - более 1000 шт.  \n",
    "Всего 10% - менее 3000.  "
   ]
  },
  {
   "cell_type": "markdown",
   "metadata": {},
   "source": [
    "**`brand`**"
   ]
  },
  {
   "cell_type": "code",
   "execution_count": 35,
   "metadata": {},
   "outputs": [
    {
     "name": "stdout",
     "output_type": "stream",
     "text": [
      "Всего брендов:  40\n",
      "\n",
      "Процент присутствия в датасете:\n",
      "\n",
      "10 наиболее популярных брендов -  79.86\n",
      "10 наименее популярных брендов -  0.01\n",
      "\n",
      "Процент присутствия в датасете: \n"
     ]
    },
    {
     "data": {
      "text/plain": [
       "volkswagen        20.59\n",
       "bmw               10.78\n",
       "opel              10.62\n",
       "mercedes_benz      9.53\n",
       "audi               8.70\n",
       "ford               7.11\n",
       "renault            4.70\n",
       "peugeot            3.25\n",
       "fiat               2.56\n",
       "seat               2.03\n",
       "skoda              1.75\n",
       "mazda              1.67\n",
       "smart              1.58\n",
       "citroen            1.51\n",
       "toyota             1.44\n",
       "nissan             1.41\n",
       "hyundai            1.11\n",
       "mini               1.04\n",
       "volvo              0.99\n",
       "mitsubishi         0.91\n",
       "honda              0.86\n",
       "kia                0.74\n",
       "alfa_romeo         0.71\n",
       "suzuki             0.70\n",
       "sonstige_autos     0.59\n",
       "chevrolet          0.53\n",
       "chrysler           0.43\n",
       "dacia              0.29\n",
       "subaru             0.24\n",
       "porsche            0.22\n",
       "daihatsu           0.22\n",
       "jeep               0.21\n",
       "saab               0.17\n",
       "land_rover         0.17\n",
       "jaguar             0.16\n",
       "daewoo             0.15\n",
       "lancia             0.14\n",
       "rover              0.13\n",
       "lada               0.06\n",
       "trabant            0.01\n",
       "Name: brand, dtype: float64"
      ]
     },
     "execution_count": 35,
     "metadata": {},
     "output_type": "execute_result"
    }
   ],
   "source": [
    "print ('Всего брендов: ', data['brand'].nunique())\n",
    "\n",
    "print ('\\nПроцент присутствия в датасете:\\n')\n",
    "print ('10 наиболее популярных брендов - ',round(data['brand'].value_counts(normalize=True).head(10).sum()*100,2))\n",
    "print ('10 наименее популярных брендов - ', round(data['brand'].value_counts(normalize=True).tail(10).sum(),2))\n",
    "\n",
    "print ('\\nПроцент присутствия в датасете: ')\n",
    "round((data['brand'].value_counts(normalize=True))*100, 2)"
   ]
  },
  {
   "cell_type": "markdown",
   "metadata": {},
   "source": [
    "Самый часто встречаемый бренд - Volkswagen - каждый 5 автомобиль в датасете.\n",
    "\n",
    "50% датасета представлено всего 4 брендами:\n",
    "- volkswagen, opel, bmw, mercedes_benz\n",
    "\n",
    "80% датасета представлено 10 брендами.\n",
    "\n",
    "10 брендов (четверть от всех) имеют лишь 2% в датасете."
   ]
  },
  {
   "cell_type": "markdown",
   "metadata": {},
   "source": [
    "### **Вывод по предобработке данных**"
   ]
  },
  {
   "cell_type": "markdown",
   "metadata": {},
   "source": [
    "Столбцы переименованы: приведены к нижнему регистру, добавлены разграничители \"_\".\n",
    "\n",
    "Удалены неинформативные признаки:\n",
    "- date_crawled, date_created, lastseen, 'postalcode', 'registration_month', 'number_of_pictures'\n",
    "\n",
    "Пропуски заполнены:\n",
    "- 'fuel_type', 'model', 'vehicle_type' - на существующую категорию 'other'\n",
    "- 'repaired', 'gearbox' - на новую категорию 'unknown'\n",
    "\n",
    "Удалено явных дубликатов: 45191 (12.75% изначального датасета)\n",
    "\n",
    "Неявные дубликаты:\n",
    "- В `fuel_type` заменили *gasoline* на *petrol*\n",
    "\n",
    "27% датасета пришлось удалить: из-за дубликатов, выбросов или нулевых значений.\n",
    "Около половины удаленных объектов - дубликаты (45191 шт)\n",
    "\n",
    "Удаленные объекты:\n",
    "- Цена ниже 100 евро\n",
    "- Автомобили, зарегистрированные позже 2016 года и до 1950\n",
    "- Мощность меньше 40 или выше 500 л.с.\n"
   ]
  },
  {
   "cell_type": "markdown",
   "metadata": {},
   "source": [
    "## **Корреляционный анализ**"
   ]
  },
  {
   "cell_type": "markdown",
   "metadata": {},
   "source": [
    "Построим матрицы корреляции и визуализируем зависимости через scatterplot:"
   ]
  },
  {
   "cell_type": "code",
   "execution_count": 36,
   "metadata": {},
   "outputs": [],
   "source": [
    "interval_cols = ['power', 'kilometer', 'price']"
   ]
  },
  {
   "cell_type": "code",
   "execution_count": 37,
   "metadata": {},
   "outputs": [
    {
     "data": {
      "image/png": "[encoded data removed]",
      "text/plain": [
       "<Figure size 1080x720 with 2 Axes>"
      ]
     },
     "metadata": {
      "needs_background": "light"
     },
     "output_type": "display_data"
    }
   ],
   "source": [
    "figsize = (8,8)\n",
    "fig, ax = plt.subplots(figsize=(15,10))\n",
    "plt.title('Матрица корреляции')\n",
    "sns.heatmap(data.phik_matrix(interval_cols=interval_cols), ax=ax, annot=True, fmt='.3g', cmap='coolwarm')\n",
    "plt.xticks(rotation=80)\n",
    "plt.show()"
   ]
  },
  {
   "cell_type": "markdown",
   "metadata": {},
   "source": [
    "Видим мультиколлинеарность между признаками `model` и `brand`. \n",
    "\n",
    "Просто удалять признак `brand` было бы некорректно, т.к. есть много значений 'other' в `model`, а также некоторые наименования моделей повторяются у разных брендов.\n",
    "\n",
    "Выведем 10 таких значений ниже:"
   ]
  },
  {
   "cell_type": "code",
   "execution_count": 38,
   "metadata": {},
   "outputs": [
    {
     "name": "stdout",
     "output_type": "stream",
     "text": [
      "Модель и количество брендов, в которых она присутствует:\n"
     ]
    },
    {
     "data": {
      "text/plain": [
       "model\n",
       "other          40\n",
       "grand           3\n",
       "3_reihe         2\n",
       "freelander      2\n",
       "discovery       2\n",
       "range_rover     2\n",
       "1_reihe         2\n",
       "defender        2\n",
       "matiz           2\n",
       "5_reihe         2\n",
       "Name: brand, dtype: int64"
      ]
     },
     "execution_count": 38,
     "metadata": {},
     "output_type": "execute_result"
    }
   ],
   "source": [
    "print ('Модель и количество брендов, в которых она присутствует:')\n",
    "\n",
    "data.groupby('model')['brand'].nunique().sort_values(ascending=False).head(10)"
   ]
  },
  {
   "cell_type": "markdown",
   "metadata": {},
   "source": [
    "Для решения проблемы объединим названия бренда и модели автомобиля в один новый признак, а `model` и `brand` - удалим:"
   ]
  },
  {
   "cell_type": "code",
   "execution_count": 39,
   "metadata": {},
   "outputs": [
    {
     "data": {
      "text/html": [
       "<div>\n",
       "<style scoped>\n",
       "    .dataframe tbody tr th:only-of-type {\n",
       "        vertical-align: middle;\n",
       "    }\n",
       "\n",
       "    .dataframe tbody tr th {\n",
       "        vertical-align: top;\n",
       "    }\n",
       "\n",
       "    .dataframe thead th {\n",
       "        text-align: right;\n",
       "    }\n",
       "</style>\n",
       "<table border=\"1\" class=\"dataframe\">\n",
       "  <thead>\n",
       "    <tr style=\"text-align: right;\">\n",
       "      <th></th>\n",
       "      <th>price</th>\n",
       "      <th>vehicle_type</th>\n",
       "      <th>registration_year</th>\n",
       "      <th>gearbox</th>\n",
       "      <th>power</th>\n",
       "      <th>kilometer</th>\n",
       "      <th>fuel_type</th>\n",
       "      <th>repaired</th>\n",
       "      <th>brand_model</th>\n",
       "    </tr>\n",
       "  </thead>\n",
       "  <tbody>\n",
       "    <tr>\n",
       "      <th>1</th>\n",
       "      <td>18300</td>\n",
       "      <td>coupe</td>\n",
       "      <td>2011</td>\n",
       "      <td>manual</td>\n",
       "      <td>190</td>\n",
       "      <td>125000</td>\n",
       "      <td>petrol</td>\n",
       "      <td>yes</td>\n",
       "      <td>audi_other</td>\n",
       "    </tr>\n",
       "    <tr>\n",
       "      <th>2</th>\n",
       "      <td>9800</td>\n",
       "      <td>suv</td>\n",
       "      <td>2004</td>\n",
       "      <td>auto</td>\n",
       "      <td>163</td>\n",
       "      <td>125000</td>\n",
       "      <td>petrol</td>\n",
       "      <td>unknown</td>\n",
       "      <td>jeep_grand</td>\n",
       "    </tr>\n",
       "    <tr>\n",
       "      <th>3</th>\n",
       "      <td>1500</td>\n",
       "      <td>small</td>\n",
       "      <td>2001</td>\n",
       "      <td>manual</td>\n",
       "      <td>75</td>\n",
       "      <td>150000</td>\n",
       "      <td>petrol</td>\n",
       "      <td>no</td>\n",
       "      <td>volkswagen_golf</td>\n",
       "    </tr>\n",
       "    <tr>\n",
       "      <th>4</th>\n",
       "      <td>3600</td>\n",
       "      <td>small</td>\n",
       "      <td>2008</td>\n",
       "      <td>manual</td>\n",
       "      <td>69</td>\n",
       "      <td>90000</td>\n",
       "      <td>petrol</td>\n",
       "      <td>no</td>\n",
       "      <td>skoda_fabia</td>\n",
       "    </tr>\n",
       "    <tr>\n",
       "      <th>5</th>\n",
       "      <td>650</td>\n",
       "      <td>sedan</td>\n",
       "      <td>1995</td>\n",
       "      <td>manual</td>\n",
       "      <td>102</td>\n",
       "      <td>150000</td>\n",
       "      <td>petrol</td>\n",
       "      <td>yes</td>\n",
       "      <td>bmw_3er</td>\n",
       "    </tr>\n",
       "  </tbody>\n",
       "</table>\n",
       "</div>"
      ],
      "text/plain": [
       "   price vehicle_type  registration_year gearbox  power  kilometer fuel_type  \\\n",
       "1  18300        coupe               2011  manual    190     125000    petrol   \n",
       "2   9800          suv               2004    auto    163     125000    petrol   \n",
       "3   1500        small               2001  manual     75     150000    petrol   \n",
       "4   3600        small               2008  manual     69      90000    petrol   \n",
       "5    650        sedan               1995  manual    102     150000    petrol   \n",
       "\n",
       "  repaired      brand_model  \n",
       "1      yes       audi_other  \n",
       "2  unknown       jeep_grand  \n",
       "3       no  volkswagen_golf  \n",
       "4       no      skoda_fabia  \n",
       "5      yes          bmw_3er  "
      ]
     },
     "execution_count": 39,
     "metadata": {},
     "output_type": "execute_result"
    }
   ],
   "source": [
    "# Создадим новый признак brand+model\n",
    "data['brand_model'] = data['brand']+'_'+data['model']\n",
    "\n",
    "# Удаляем признак brand\n",
    "data = data.drop(['brand', 'model'], axis=1)\n",
    "#data = data.drop('brand', axis=1)\n",
    "\n",
    "data.head()"
   ]
  },
  {
   "cell_type": "markdown",
   "metadata": {},
   "source": [
    "* успешно."
   ]
  },
  {
   "cell_type": "markdown",
   "metadata": {},
   "source": [
    "Еще раз строим матрицу корреляции:"
   ]
  },
  {
   "cell_type": "code",
   "execution_count": 40,
   "metadata": {},
   "outputs": [
    {
     "data": {
      "image/png": "[encoded data removed]",
      "text/plain": [
       "<Figure size 1080x720 with 2 Axes>"
      ]
     },
     "metadata": {
      "needs_background": "light"
     },
     "output_type": "display_data"
    }
   ],
   "source": [
    "figsize = (8,8)\n",
    "fig, ax = plt.subplots(figsize=(15,10))\n",
    "plt.title('Матрица корреляции')\n",
    "sns.heatmap(data.phik_matrix(interval_cols=interval_cols), ax=ax, annot=True, fmt='.3g', cmap='coolwarm')\n",
    "plt.xticks(rotation=80)\n",
    "plt.show()"
   ]
  },
  {
   "cell_type": "markdown",
   "metadata": {},
   "source": [
    "### Вывод"
   ]
  },
  {
   "cell_type": "markdown",
   "metadata": {},
   "source": [
    "Наибольшая (средняя) корреляция с `price`:\n",
    "- registration_year - 0.671\n",
    "- brand_model - 0.579\n",
    "- power - 0.493\n",
    "\n",
    "Корреляция есть, но не высокая:\n",
    "- kilometer - 0.311\n",
    "- repaired - 0.353\n",
    "- vehicle_type - 0.267\n",
    "- gearbox - 0.279\n",
    "\n",
    "\n",
    "Есть высокая коллинеарность также между входными признаками `model` и `vehicle_type`. Тем не менее, оставим их, т.к. для разных моделей могут быть разные типы кузова.\n",
    "\n"
   ]
  },
  {
   "cell_type": "markdown",
   "metadata": {},
   "source": [
    "## **Обучение моделей**"
   ]
  },
  {
   "cell_type": "markdown",
   "metadata": {},
   "source": [
    "### Подготовка выборок"
   ]
  },
  {
   "cell_type": "markdown",
   "metadata": {},
   "source": [
    "Разделим выборку на X (входные признаки) и Y (целевой):"
   ]
  },
  {
   "cell_type": "code",
   "execution_count": 41,
   "metadata": {},
   "outputs": [
    {
     "name": "stdout",
     "output_type": "stream",
     "text": [
      "---X:\n",
      "Размер: (254682, 8)\n",
      "Первые строки: \n",
      "  vehicle_type  registration_year gearbox  power  kilometer fuel_type  \\\n",
      "1        coupe               2011  manual    190     125000    petrol   \n",
      "2          suv               2004    auto    163     125000    petrol   \n",
      "\n",
      "  repaired brand_model  \n",
      "1      yes  audi_other  \n",
      "2  unknown  jeep_grand  \n",
      "\n",
      "---y:\n",
      "Размер: (254682,)\n",
      "Первые строки: \n",
      "1    18300\n",
      "2     9800\n",
      "Name: price, dtype: int64\n"
     ]
    }
   ],
   "source": [
    "#data.reset_index(drop=True, inplace=True)\n",
    "\n",
    "X = data.drop('price', axis=1)\n",
    "y = data['price']\n",
    "\n",
    "print (f'---X:\\nРазмер: {X.shape}\\nПервые строки: \\n{X.head(2)}')\n",
    "print (f'\\n---y:\\nРазмер: {y.shape}\\nПервые строки: \\n{y.head(2)}')"
   ]
  },
  {
   "cell_type": "markdown",
   "metadata": {},
   "source": [
    "Создаем тренировочную, валидационную и тестовую выборку в соотношении 6/2/2:"
   ]
  },
  {
   "cell_type": "code",
   "execution_count": 42,
   "metadata": {},
   "outputs": [],
   "source": [
    "X_train, X_val_test, y_train, y_val_test = train_test_split(\n",
    "    X, y, test_size=0.4, random_state=RANDOM_STATE)\n",
    "\n",
    "X_val, X_test, y_val, y_test = train_test_split(\n",
    "    X_val_test, y_val_test, test_size=0.5, random_state=RANDOM_STATE)"
   ]
  },
  {
   "cell_type": "markdown",
   "metadata": {},
   "source": [
    "### Пайплайн"
   ]
  },
  {
   "cell_type": "markdown",
   "metadata": {},
   "source": [
    "Определим списки с названиями признаков:"
   ]
  },
  {
   "cell_type": "code",
   "execution_count": 43,
   "metadata": {},
   "outputs": [],
   "source": [
    "ohe_columns = ['vehicle_type', 'gearbox', 'fuel_type', 'brand_model', 'repaired']\n",
    "num_columns = ['registration_year', 'power', 'kilometer']"
   ]
  },
  {
   "cell_type": "markdown",
   "metadata": {},
   "source": [
    "Preprocessor с кодировщиком и скейлером:"
   ]
  },
  {
   "cell_type": "code",
   "execution_count": 44,
   "metadata": {},
   "outputs": [],
   "source": [
    "ohe_pipe = Pipeline(\n",
    "    [\n",
    "        ('SimpleImputer_ohe', SimpleImputer(missing_values=np.nan, strategy='most_frequent')), \n",
    "        ('ohe', OneHotEncoder(drop='first', handle_unknown='ignore', sparse_output=False))\n",
    "    ]\n",
    ")\n",
    "\n",
    "data_preprocessor = ColumnTransformer([\n",
    "    ('ohe', ohe_pipe, ohe_columns), \n",
    "    ('num', StandardScaler(), num_columns)\n",
    "], \n",
    "    remainder='passthrough'\n",
    ")\n",
    "\n",
    "pipe_final = Pipeline([\n",
    "    ('preprocessor', data_preprocessor), \n",
    "    ('models', LinearRegression())\n",
    "])"
   ]
  },
  {
   "cell_type": "markdown",
   "metadata": {},
   "source": [
    "Закодированные и масштабированные признаки:"
   ]
  },
  {
   "cell_type": "code",
   "execution_count": 45,
   "metadata": {
    "scrolled": true
   },
   "outputs": [
    {
     "name": "stderr",
     "output_type": "stream",
     "text": [
      "/opt/conda/lib/python3.9/site-packages/sklearn/preprocessing/_encoders.py:246: UserWarning: Found unknown categories in columns [3] during transform. These unknown categories will be encoded as all zeros\n",
      "  warnings.warn(\n"
     ]
    }
   ],
   "source": [
    "X_train_p = data_preprocessor.fit_transform(X_train)\n",
    "X_val_p = data_preprocessor.transform(X_val)\n",
    "X_test_p = data_preprocessor.transform(X_test)"
   ]
  },
  {
   "cell_type": "markdown",
   "metadata": {},
   "source": [
    "### LinearRegression"
   ]
  },
  {
   "cell_type": "markdown",
   "metadata": {},
   "source": [
    "Обучим модель, предскажем значения, посчитаем RMSE, выведем время обучения и предсказания:"
   ]
  },
  {
   "cell_type": "code",
   "execution_count": 46,
   "metadata": {},
   "outputs": [
    {
     "name": "stdout",
     "output_type": "stream",
     "text": [
      "RMSE:  2672.18\n",
      "Время обучения:  17.81\n",
      "Время предсказания:  0.1\n"
     ]
    }
   ],
   "source": [
    "model = LinearRegression()\n",
    "\n",
    "start = time.time()\n",
    "\n",
    "model.fit(X_train_p, y_train)\n",
    "# Время обучения\n",
    "lr_fit_time = time.time() - start\n",
    "\n",
    "preds_lr = model.predict(X_val_p)\n",
    "# Время предсказания\n",
    "lr_pred_time = time.time() - lr_fit_time - start\n",
    "\n",
    "rmse_lr = root_mean_squared_error(y_val, preds_lr)\n",
    "print ('RMSE: ', round(rmse_lr, 2))\n",
    "print ('Время обучения: ', round(lr_fit_time, 2))\n",
    "print ('Время предсказания: ', round(lr_pred_time, 2))"
   ]
  },
  {
   "cell_type": "markdown",
   "metadata": {},
   "source": [
    "**Итог:**\n",
    "\n",
    "- Результат метрики неудовлетворительный, выше необходимых 2500.\n",
    "- Скорость работы высокая"
   ]
  },
  {
   "cell_type": "markdown",
   "metadata": {},
   "source": [
    "### DecisionTreeRegressor"
   ]
  },
  {
   "cell_type": "markdown",
   "metadata": {},
   "source": [
    "Подберем подходящие гиперпараметры:"
   ]
  },
  {
   "cell_type": "code",
   "execution_count": 47,
   "metadata": {},
   "outputs": [
    {
     "name": "stdout",
     "output_type": "stream",
     "text": [
      "max_depth=24, min_samples_leaf=5:  1863.14\n",
      "max_depth=24, min_samples_leaf=6:  1857.71\n",
      "max_depth=24, min_samples_leaf=7:  1864.95\n",
      "max_depth=25, min_samples_leaf=5:  1861.65\n",
      "max_depth=25, min_samples_leaf=6:  1855.91\n",
      "max_depth=25, min_samples_leaf=7:  1862.19\n",
      "max_depth=26, min_samples_leaf=5:  1860.79\n",
      "max_depth=26, min_samples_leaf=6:  1855.83\n",
      "max_depth=26, min_samples_leaf=7:  1862.06\n",
      "max_depth=27, min_samples_leaf=5:  1861.32\n",
      "max_depth=27, min_samples_leaf=6:  1854.76\n",
      "max_depth=27, min_samples_leaf=7:  1862.46\n"
     ]
    }
   ],
   "source": [
    "for i in range(24, 28):\n",
    "    for s in range(5, 8):\n",
    "        model = DecisionTreeRegressor(random_state=RANDOM_STATE, max_depth=i, min_samples_leaf=s)\n",
    "        model.fit(X_train_p, y_train)\n",
    "        preds = model.predict(X_val_p)\n",
    "        print (f'max_depth={i}, min_samples_leaf={s}: ', round(root_mean_squared_error(preds, y_val), 2))"
   ]
  },
  {
   "cell_type": "markdown",
   "metadata": {},
   "source": [
    "* Лучшие результаты получились при *max_depth=27, min_samples_leaf=6*.\n"
   ]
  },
  {
   "cell_type": "markdown",
   "metadata": {},
   "source": [
    "Запишем результаты в переменные, посчитаем время обучения и предсказания:"
   ]
  },
  {
   "cell_type": "code",
   "execution_count": 48,
   "metadata": {},
   "outputs": [
    {
     "name": "stdout",
     "output_type": "stream",
     "text": [
      "RMSE:  1854.76\n",
      "Время обучения:  6.31\n",
      "Время предсказания:  0.06\n"
     ]
    }
   ],
   "source": [
    "model = DecisionTreeRegressor(random_state=RANDOM_STATE, max_depth=27, min_samples_leaf=6)\n",
    "\n",
    "start = time.time()\n",
    "\n",
    "model.fit(X_train_p, y_train)\n",
    "# Время обучения\n",
    "dt_fit_time = time.time() - start\n",
    "\n",
    "preds = model.predict(X_val_p)\n",
    "preds_dt = preds.copy()\n",
    "# Время предсказания\n",
    "dt_pred_time = time.time() - dt_fit_time - start\n",
    "\n",
    "rmse_dt = root_mean_squared_error(y_val, preds)\n",
    "print ('RMSE: ', round(rmse_dt, 2))\n",
    "print ('Время обучения: ', round(dt_fit_time, 2))\n",
    "print ('Время предсказания: ', round(dt_pred_time, 2))"
   ]
  },
  {
   "cell_type": "markdown",
   "metadata": {},
   "source": [
    "**Итог:**\n",
    "\n",
    "* Неплохое значение RMSE (1854.76)\n",
    "* Быстрое обучениe и предсказаниe (6 с и 0.05 с)"
   ]
  },
  {
   "cell_type": "markdown",
   "metadata": {},
   "source": [
    "### CatBoostRegressor"
   ]
  },
  {
   "cell_type": "markdown",
   "metadata": {},
   "source": [
    "Попробуем найти подходящие гиперпараметры max_depth, learning_rate и l2_leaf_reg при одинаковом iterations=50 с помощью перебора:"
   ]
  },
  {
   "cell_type": "code",
   "execution_count": 49,
   "metadata": {},
   "outputs": [],
   "source": [
    "# Задаем категориальные переменные\n",
    "cat_features = ohe_columns.copy()"
   ]
  },
  {
   "cell_type": "markdown",
   "metadata": {},
   "source": [
    "С помощью Optuna осуществим перебор гиперпараметров:"
   ]
  },
  {
   "cell_type": "code",
   "execution_count": 51,
   "metadata": {},
   "outputs": [],
   "source": [
    "def fit_catboost(trial):\n",
    "    # Прописываем гиперпараметры и задаем области значений\n",
    "    param = {\n",
    "        'iterations' : trial.suggest_int(\"iterations\", 130, 160),\n",
    "        \"learning_rate\": trial.suggest_float(\"learning_rate\", 0.03, 0.5),\n",
    "        \"l2_leaf_reg\": trial.suggest_int(\"l2_leaf_reg\", 5, 20),\n",
    "        \"depth\": trial.suggest_int(\"depth\", 7, 16),\n",
    "        \"eval_metric\": \"RMSE\",\n",
    "    }      \n",
    "    \n",
    "    # Инициируем модель \n",
    "    model = CatBoostRegressor(**param, cat_features=cat_features, random_seed=RANDOM_STATE)\n",
    "    \n",
    "    #Обучаем\n",
    "    model.fit(\n",
    "        X_train,\n",
    "        y_train,\n",
    "        eval_set=(X_val, y_val),\n",
    "        verbose=0,\n",
    "        plot=False,\n",
    "        early_stopping_rounds=5,\n",
    "    )\n",
    "    \n",
    "    # Предсказываем таргет по значениям входных признаков валидационной выборки\n",
    "    pred_val = model.predict(X_val)\n",
    "    return root_mean_squared_error(y_val, pred_val)"
   ]
  },
  {
   "cell_type": "code",
   "execution_count": 53,
   "metadata": {},
   "outputs": [
    {
     "name": "stderr",
     "output_type": "stream",
     "text": [
      "[I 2025-04-14 00:23:29,979] A new study created in memory with name: no-name-b0e53e31-2a89-4a1f-a4d9-2bba8cfae1a2\n"
     ]
    },
    {
     "data": {
      "application/vnd.jupyter.widget-view+json": {
       "model_id": "a4a47be24c1b4444842206f9cfd78d66",
       "version_major": 2,
       "version_minor": 0
      },
      "text/plain": [
       "  0%|          | 0/10 [00:00<?, ?it/s]"
      ]
     },
     "metadata": {},
     "output_type": "display_data"
    },
    {
     "name": "stderr",
     "output_type": "stream",
     "text": [
      "Custom logger is already specified. Specify more than one logger at same time is not thread safe.Custom logger is already specified. Specify more than one logger at same time is not thread safe.Custom logger is already specified. Specify more than one logger at same time is not thread safe.Custom logger is already specified. Specify more than one logger at same time is not thread safe.Custom logger is already specified. Specify more than one logger at same time is not thread safe.Custom logger is already specified. Specify more than one logger at same time is not thread safe.Custom logger is already specified. Specify more than one logger at same time is not thread safe."
     ]
    },
    {
     "name": "stdout",
     "output_type": "stream",
     "text": [
      "[I 2025-04-14 00:26:00,871] Trial 0 finished with value: 1724.8364562750771 and parameters: {'iterations': 131, 'learning_rate': 0.4075899545409929, 'l2_leaf_reg': 11, 'depth': 9}. Best is trial 0 with value: 1724.8364562750771.\n",
      "[I 2025-04-14 00:26:08,267] Trial 1 finished with value: 1815.87853700829 and parameters: {'iterations': 150, 'learning_rate': 0.06482579629347694, 'l2_leaf_reg': 20, 'depth': 8}. Best is trial 0 with value: 1724.8364562750771.\n",
      "[I 2025-04-14 00:26:52,472] Trial 4 finished with value: 1706.234604584875 and parameters: {'iterations': 141, 'learning_rate': 0.46702470544389785, 'l2_leaf_reg': 10, 'depth': 11}. Best is trial 4 with value: 1706.234604584875.\n",
      "[I 2025-04-14 00:27:17,471] Trial 7 finished with value: 1710.2754684756183 and parameters: {'iterations': 150, 'learning_rate': 0.21993966626696726, 'l2_leaf_reg': 7, 'depth': 11}. Best is trial 4 with value: 1706.234604584875.\n",
      "[I 2025-04-14 00:27:24,780] Trial 6 finished with value: 1709.1102953138188 and parameters: {'iterations': 151, 'learning_rate': 0.4267858468647311, 'l2_leaf_reg': 13, 'depth': 12}. Best is trial 4 with value: 1706.234604584875.\n",
      "[I 2025-04-14 00:27:28,480] Trial 2 finished with value: 1707.2483789375353 and parameters: {'iterations': 133, 'learning_rate': 0.3266061883194944, 'l2_leaf_reg': 17, 'depth': 12}. Best is trial 4 with value: 1706.234604584875.\n",
      "[I 2025-04-14 00:27:52,675] Trial 3 finished with value: 1706.1376297783338 and parameters: {'iterations': 137, 'learning_rate': 0.48500011305617363, 'l2_leaf_reg': 12, 'depth': 13}. Best is trial 3 with value: 1706.1376297783338.\n",
      "[I 2025-04-14 00:28:04,681] Trial 8 finished with value: 1725.3074344288368 and parameters: {'iterations': 139, 'learning_rate': 0.19261936521845952, 'l2_leaf_reg': 5, 'depth': 10}. Best is trial 3 with value: 1706.1376297783338.\n",
      "[I 2025-04-14 00:28:48,608] Trial 5 finished with value: 1688.0950945517138 and parameters: {'iterations': 138, 'learning_rate': 0.40964225583635216, 'l2_leaf_reg': 8, 'depth': 14}. Best is trial 5 with value: 1688.0950945517138.\n",
      "[I 2025-04-14 00:31:23,251] Trial 9 finished with value: 1693.5039115646853 and parameters: {'iterations': 159, 'learning_rate': 0.2040449429451167, 'l2_leaf_reg': 12, 'depth': 16}. Best is trial 5 with value: 1688.0950945517138.\n",
      "Best hyperparameters:  {'iterations': 138, 'learning_rate': 0.40964225583635216, 'l2_leaf_reg': 8, 'depth': 14}\n",
      "Best rmse:  1688.0950945517138\n"
     ]
    }
   ],
   "source": [
    "study = optuna.create_study(direction='minimize')\n",
    "# Запускаем перебор\n",
    "study.optimize(fit_catboost, n_trials=10, n_jobs =-1, show_progress_bar=True)\n",
    "\n",
    "# Выводим на экран гиперпараметры лучшей модели и значение метрики\n",
    "print(\"Best hyperparameters: \", study.best_params)\n",
    "print(\"Best rmse: \", study.best_value) "
   ]
  },
  {
   "cell_type": "markdown",
   "metadata": {},
   "source": [
    "**Результат:**\n",
    "\n",
    "Лучшая модель, гиперпараметры:\n",
    "- {'iterations': 150, 'learning_rate': 0.49145274841484277, 'l2_leaf_reg': 19, 'depth': 14}\n",
    "\n",
    "Её RMSE: \n",
    "- 1689.97 \n",
    "\n",
    "\n"
   ]
  },
  {
   "cell_type": "markdown",
   "metadata": {},
   "source": [
    "Обучим модель при этих гиперпараметрах, засечем время обучения и предсказания:"
   ]
  },
  {
   "cell_type": "code",
   "execution_count": 54,
   "metadata": {},
   "outputs": [
    {
     "name": "stdout",
     "output_type": "stream",
     "text": [
      "0:\tlearn: 3117.6843867\ttotal: 330ms\tremaining: 49.1s\n",
      "50:\tlearn: 1561.4148015\ttotal: 16.2s\tremaining: 31.4s\n",
      "100:\tlearn: 1484.4211773\ttotal: 30.9s\tremaining: 15s\n",
      "149:\tlearn: 1425.5507725\ttotal: 45.7s\tremaining: 0us\n",
      "RMSE:  1696.0298942382328\n",
      "Время обучения:  46.9\n",
      "Время предсказания:  0.1\n"
     ]
    }
   ],
   "source": [
    "model = catboost.CatBoostRegressor(loss_function='RMSE', iterations=150, \n",
    "                                     depth=14, l2_leaf_reg=19, learning_rate=0.49145)\n",
    "\n",
    "start = time.time()\n",
    "\n",
    "model.fit(X_train, y_train, cat_features=cat_features, verbose=50)\n",
    "# Время обучения\n",
    "cb_fit_time = time.time() - start\n",
    "\n",
    "preds = model.predict(X_val)\n",
    "preds_cb = preds.copy()\n",
    "# Время предсказания\n",
    "cb_pred_time = time.time() - cb_fit_time - start\n",
    "\n",
    "# Результат RMSE\n",
    "rmse_cb = root_mean_squared_error(y_val, preds)\n",
    "\n",
    "\n",
    "print ('RMSE: ', rmse_cb)\n",
    "print ('Время обучения: ', round(cb_fit_time, 2))\n",
    "print ('Время предсказания: ', round(cb_pred_time, 2))"
   ]
  },
  {
   "cell_type": "markdown",
   "metadata": {},
   "source": [
    "**Итог**\n",
    "\n",
    "- Хороший результат метрики RMSE - 1696 \n",
    "\n",
    "- Время обучения 47 сек.\n",
    "\n",
    "- Время предсказания 0.1 с"
   ]
  },
  {
   "cell_type": "markdown",
   "metadata": {},
   "source": [
    "### LightGBM"
   ]
  },
  {
   "cell_type": "markdown",
   "metadata": {},
   "source": [
    "Так же воспользуемся Optuna для подбора гиперпараметров:"
   ]
  },
  {
   "cell_type": "code",
   "execution_count": 55,
   "metadata": {},
   "outputs": [],
   "source": [
    "def fit_lgbm(trial):\n",
    "\n",
    "    param = {\n",
    "        'n_estimators' : trial.suggest_int(\"n_estimators\", 450, 550),\n",
    "        \"learning_rate\": trial.suggest_float(\"learning_rate\", 0.03, 0.5),\n",
    "        \"max_depth\": trial.suggest_int(\"max_depth\", 5, 16)\n",
    "    }      \n",
    "\n",
    "    model = LGBMRegressor(**param, random_state=RANDOM_STATE)\n",
    "\n",
    "    model.fit(\n",
    "        X_train_p,\n",
    "        y_train,\n",
    "        eval_set=(X_val_p, y_val),\n",
    "        verbose=0,\n",
    "        eval_metric = 'rmse',\n",
    "        early_stopping_rounds=5\n",
    "    )\n",
    "\n",
    "    pred_val = model.predict(X_val_p)\n",
    "    return root_mean_squared_error(y_val, pred_val)"
   ]
  },
  {
   "cell_type": "code",
   "execution_count": 56,
   "metadata": {
    "collapsed": true,
    "jupyter": {
     "outputs_hidden": true
    },
    "scrolled": true
   },
   "outputs": [
    {
     "name": "stderr",
     "output_type": "stream",
     "text": [
      "[I 2025-04-14 00:32:10,285] A new study created in memory with name: no-name-bea0f42e-7774-42b6-9f9b-f0b83a76a0a6\n"
     ]
    },
    {
     "data": {
      "application/vnd.jupyter.widget-view+json": {
       "model_id": "c009c295aa5740adbb6fc2bfefde7ccd",
       "version_major": 2,
       "version_minor": 0
      },
      "text/plain": [
       "  0%|          | 0/10 [00:00<?, ?it/s]"
      ]
     },
     "metadata": {},
     "output_type": "display_data"
    },
    {
     "name": "stderr",
     "output_type": "stream",
     "text": [
      "/opt/conda/lib/python3.9/site-packages/sklearn/utils/deprecation.py:151: FutureWarning: 'force_all_finite' was renamed to 'ensure_all_finite' in 1.6 and will be removed in 1.8.\n",
      "  warnings.warn(\n",
      "/opt/conda/lib/python3.9/site-packages/lightgbm/sklearn.py:726: UserWarning: 'early_stopping_rounds' argument is deprecated and will be removed in a future release of LightGBM. Pass 'early_stopping()' callback via 'callbacks' argument instead.\n",
      "  _log_warning(\"'early_stopping_rounds' argument is deprecated and will be removed in a future release of LightGBM. \"\n",
      "/opt/conda/lib/python3.9/site-packages/lightgbm/sklearn.py:736: UserWarning: 'verbose' argument is deprecated and will be removed in a future release of LightGBM. Pass 'log_evaluation()' callback via 'callbacks' argument instead.\n",
      "  _log_warning(\"'verbose' argument is deprecated and will be removed in a future release of LightGBM. \"\n",
      "/opt/conda/lib/python3.9/site-packages/sklearn/utils/deprecation.py:151: FutureWarning: 'force_all_finite' was renamed to 'ensure_all_finite' in 1.6 and will be removed in 1.8.\n",
      "  warnings.warn(\n"
     ]
    },
    {
     "name": "stdout",
     "output_type": "stream",
     "text": [
      "[I 2025-04-14 00:43:33,892] Trial 0 finished with value: 1629.505048821766 and parameters: {'n_estimators': 533, 'learning_rate': 0.15459959649707528, 'max_depth': 16}. Best is trial 0 with value: 1629.505048821766.\n"
     ]
    },
    {
     "name": "stderr",
     "output_type": "stream",
     "text": [
      "/opt/conda/lib/python3.9/site-packages/sklearn/utils/deprecation.py:151: FutureWarning: 'force_all_finite' was renamed to 'ensure_all_finite' in 1.6 and will be removed in 1.8.\n",
      "  warnings.warn(\n",
      "/opt/conda/lib/python3.9/site-packages/lightgbm/sklearn.py:726: UserWarning: 'early_stopping_rounds' argument is deprecated and will be removed in a future release of LightGBM. Pass 'early_stopping()' callback via 'callbacks' argument instead.\n",
      "  _log_warning(\"'early_stopping_rounds' argument is deprecated and will be removed in a future release of LightGBM. \"\n",
      "/opt/conda/lib/python3.9/site-packages/lightgbm/sklearn.py:736: UserWarning: 'verbose' argument is deprecated and will be removed in a future release of LightGBM. Pass 'log_evaluation()' callback via 'callbacks' argument instead.\n",
      "  _log_warning(\"'verbose' argument is deprecated and will be removed in a future release of LightGBM. \"\n",
      "/opt/conda/lib/python3.9/site-packages/sklearn/utils/deprecation.py:151: FutureWarning: 'force_all_finite' was renamed to 'ensure_all_finite' in 1.6 and will be removed in 1.8.\n",
      "  warnings.warn(\n"
     ]
    },
    {
     "name": "stdout",
     "output_type": "stream",
     "text": [
      "[I 2025-04-14 00:45:20,970] Trial 1 finished with value: 1630.0604992328579 and parameters: {'n_estimators': 466, 'learning_rate': 0.31853112683408646, 'max_depth': 11}. Best is trial 0 with value: 1629.505048821766.\n"
     ]
    },
    {
     "name": "stderr",
     "output_type": "stream",
     "text": [
      "/opt/conda/lib/python3.9/site-packages/sklearn/utils/deprecation.py:151: FutureWarning: 'force_all_finite' was renamed to 'ensure_all_finite' in 1.6 and will be removed in 1.8.\n",
      "  warnings.warn(\n",
      "/opt/conda/lib/python3.9/site-packages/lightgbm/sklearn.py:726: UserWarning: 'early_stopping_rounds' argument is deprecated and will be removed in a future release of LightGBM. Pass 'early_stopping()' callback via 'callbacks' argument instead.\n",
      "  _log_warning(\"'early_stopping_rounds' argument is deprecated and will be removed in a future release of LightGBM. \"\n",
      "/opt/conda/lib/python3.9/site-packages/lightgbm/sklearn.py:736: UserWarning: 'verbose' argument is deprecated and will be removed in a future release of LightGBM. Pass 'log_evaluation()' callback via 'callbacks' argument instead.\n",
      "  _log_warning(\"'verbose' argument is deprecated and will be removed in a future release of LightGBM. \"\n",
      "/opt/conda/lib/python3.9/site-packages/sklearn/utils/deprecation.py:151: FutureWarning: 'force_all_finite' was renamed to 'ensure_all_finite' in 1.6 and will be removed in 1.8.\n",
      "  warnings.warn(\n"
     ]
    },
    {
     "name": "stdout",
     "output_type": "stream",
     "text": [
      "[I 2025-04-14 00:45:29,569] Trial 2 finished with value: 1658.8039229620042 and parameters: {'n_estimators': 501, 'learning_rate': 0.46994426060993355, 'max_depth': 13}. Best is trial 0 with value: 1629.505048821766.\n"
     ]
    },
    {
     "name": "stderr",
     "output_type": "stream",
     "text": [
      "/opt/conda/lib/python3.9/site-packages/sklearn/utils/deprecation.py:151: FutureWarning: 'force_all_finite' was renamed to 'ensure_all_finite' in 1.6 and will be removed in 1.8.\n",
      "  warnings.warn(\n",
      "/opt/conda/lib/python3.9/site-packages/lightgbm/sklearn.py:726: UserWarning: 'early_stopping_rounds' argument is deprecated and will be removed in a future release of LightGBM. Pass 'early_stopping()' callback via 'callbacks' argument instead.\n",
      "  _log_warning(\"'early_stopping_rounds' argument is deprecated and will be removed in a future release of LightGBM. \"\n",
      "/opt/conda/lib/python3.9/site-packages/lightgbm/sklearn.py:736: UserWarning: 'verbose' argument is deprecated and will be removed in a future release of LightGBM. Pass 'log_evaluation()' callback via 'callbacks' argument instead.\n",
      "  _log_warning(\"'verbose' argument is deprecated and will be removed in a future release of LightGBM. \"\n",
      "/opt/conda/lib/python3.9/site-packages/sklearn/utils/deprecation.py:151: FutureWarning: 'force_all_finite' was renamed to 'ensure_all_finite' in 1.6 and will be removed in 1.8.\n",
      "  warnings.warn(\n"
     ]
    },
    {
     "name": "stdout",
     "output_type": "stream",
     "text": [
      "[I 2025-04-14 00:45:41,585] Trial 3 finished with value: 1635.9107340029432 and parameters: {'n_estimators': 536, 'learning_rate': 0.274741507342579, 'max_depth': 9}. Best is trial 0 with value: 1629.505048821766.\n"
     ]
    },
    {
     "name": "stderr",
     "output_type": "stream",
     "text": [
      "/opt/conda/lib/python3.9/site-packages/sklearn/utils/deprecation.py:151: FutureWarning: 'force_all_finite' was renamed to 'ensure_all_finite' in 1.6 and will be removed in 1.8.\n",
      "  warnings.warn(\n",
      "/opt/conda/lib/python3.9/site-packages/lightgbm/sklearn.py:726: UserWarning: 'early_stopping_rounds' argument is deprecated and will be removed in a future release of LightGBM. Pass 'early_stopping()' callback via 'callbacks' argument instead.\n",
      "  _log_warning(\"'early_stopping_rounds' argument is deprecated and will be removed in a future release of LightGBM. \"\n",
      "/opt/conda/lib/python3.9/site-packages/lightgbm/sklearn.py:736: UserWarning: 'verbose' argument is deprecated and will be removed in a future release of LightGBM. Pass 'log_evaluation()' callback via 'callbacks' argument instead.\n",
      "  _log_warning(\"'verbose' argument is deprecated and will be removed in a future release of LightGBM. \"\n",
      "/opt/conda/lib/python3.9/site-packages/sklearn/utils/deprecation.py:151: FutureWarning: 'force_all_finite' was renamed to 'ensure_all_finite' in 1.6 and will be removed in 1.8.\n",
      "  warnings.warn(\n"
     ]
    },
    {
     "name": "stdout",
     "output_type": "stream",
     "text": [
      "[I 2025-04-14 00:45:52,072] Trial 4 finished with value: 1654.0772688117663 and parameters: {'n_estimators': 522, 'learning_rate': 0.47777000473957476, 'max_depth': 9}. Best is trial 0 with value: 1629.505048821766.\n"
     ]
    },
    {
     "name": "stderr",
     "output_type": "stream",
     "text": [
      "/opt/conda/lib/python3.9/site-packages/sklearn/utils/deprecation.py:151: FutureWarning: 'force_all_finite' was renamed to 'ensure_all_finite' in 1.6 and will be removed in 1.8.\n",
      "  warnings.warn(\n",
      "/opt/conda/lib/python3.9/site-packages/lightgbm/sklearn.py:726: UserWarning: 'early_stopping_rounds' argument is deprecated and will be removed in a future release of LightGBM. Pass 'early_stopping()' callback via 'callbacks' argument instead.\n",
      "  _log_warning(\"'early_stopping_rounds' argument is deprecated and will be removed in a future release of LightGBM. \"\n",
      "/opt/conda/lib/python3.9/site-packages/lightgbm/sklearn.py:736: UserWarning: 'verbose' argument is deprecated and will be removed in a future release of LightGBM. Pass 'log_evaluation()' callback via 'callbacks' argument instead.\n",
      "  _log_warning(\"'verbose' argument is deprecated and will be removed in a future release of LightGBM. \"\n",
      "/opt/conda/lib/python3.9/site-packages/sklearn/utils/deprecation.py:151: FutureWarning: 'force_all_finite' was renamed to 'ensure_all_finite' in 1.6 and will be removed in 1.8.\n",
      "  warnings.warn(\n"
     ]
    },
    {
     "name": "stdout",
     "output_type": "stream",
     "text": [
      "[I 2025-04-14 00:46:03,779] Trial 5 finished with value: 1651.806499027658 and parameters: {'n_estimators': 504, 'learning_rate': 0.23010844785498433, 'max_depth': 11}. Best is trial 0 with value: 1629.505048821766.\n"
     ]
    },
    {
     "name": "stderr",
     "output_type": "stream",
     "text": [
      "/opt/conda/lib/python3.9/site-packages/sklearn/utils/deprecation.py:151: FutureWarning: 'force_all_finite' was renamed to 'ensure_all_finite' in 1.6 and will be removed in 1.8.\n",
      "  warnings.warn(\n",
      "/opt/conda/lib/python3.9/site-packages/lightgbm/sklearn.py:726: UserWarning: 'early_stopping_rounds' argument is deprecated and will be removed in a future release of LightGBM. Pass 'early_stopping()' callback via 'callbacks' argument instead.\n",
      "  _log_warning(\"'early_stopping_rounds' argument is deprecated and will be removed in a future release of LightGBM. \"\n",
      "/opt/conda/lib/python3.9/site-packages/lightgbm/sklearn.py:736: UserWarning: 'verbose' argument is deprecated and will be removed in a future release of LightGBM. Pass 'log_evaluation()' callback via 'callbacks' argument instead.\n",
      "  _log_warning(\"'verbose' argument is deprecated and will be removed in a future release of LightGBM. \"\n",
      "/opt/conda/lib/python3.9/site-packages/sklearn/utils/deprecation.py:151: FutureWarning: 'force_all_finite' was renamed to 'ensure_all_finite' in 1.6 and will be removed in 1.8.\n",
      "  warnings.warn(\n"
     ]
    },
    {
     "name": "stdout",
     "output_type": "stream",
     "text": [
      "[I 2025-04-14 00:46:10,862] Trial 6 finished with value: 1669.5231484357737 and parameters: {'n_estimators': 460, 'learning_rate': 0.47691055702312113, 'max_depth': 7}. Best is trial 0 with value: 1629.505048821766.\n"
     ]
    },
    {
     "name": "stderr",
     "output_type": "stream",
     "text": [
      "/opt/conda/lib/python3.9/site-packages/sklearn/utils/deprecation.py:151: FutureWarning: 'force_all_finite' was renamed to 'ensure_all_finite' in 1.6 and will be removed in 1.8.\n",
      "  warnings.warn(\n",
      "/opt/conda/lib/python3.9/site-packages/lightgbm/sklearn.py:726: UserWarning: 'early_stopping_rounds' argument is deprecated and will be removed in a future release of LightGBM. Pass 'early_stopping()' callback via 'callbacks' argument instead.\n",
      "  _log_warning(\"'early_stopping_rounds' argument is deprecated and will be removed in a future release of LightGBM. \"\n",
      "/opt/conda/lib/python3.9/site-packages/lightgbm/sklearn.py:736: UserWarning: 'verbose' argument is deprecated and will be removed in a future release of LightGBM. Pass 'log_evaluation()' callback via 'callbacks' argument instead.\n",
      "  _log_warning(\"'verbose' argument is deprecated and will be removed in a future release of LightGBM. \"\n",
      "/opt/conda/lib/python3.9/site-packages/sklearn/utils/deprecation.py:151: FutureWarning: 'force_all_finite' was renamed to 'ensure_all_finite' in 1.6 and will be removed in 1.8.\n",
      "  warnings.warn(\n"
     ]
    },
    {
     "name": "stdout",
     "output_type": "stream",
     "text": [
      "[I 2025-04-14 00:46:31,170] Trial 7 finished with value: 1653.5687003258474 and parameters: {'n_estimators': 452, 'learning_rate': 0.0889584799300736, 'max_depth': 13}. Best is trial 0 with value: 1629.505048821766.\n"
     ]
    },
    {
     "name": "stderr",
     "output_type": "stream",
     "text": [
      "/opt/conda/lib/python3.9/site-packages/sklearn/utils/deprecation.py:151: FutureWarning: 'force_all_finite' was renamed to 'ensure_all_finite' in 1.6 and will be removed in 1.8.\n",
      "  warnings.warn(\n",
      "/opt/conda/lib/python3.9/site-packages/lightgbm/sklearn.py:726: UserWarning: 'early_stopping_rounds' argument is deprecated and will be removed in a future release of LightGBM. Pass 'early_stopping()' callback via 'callbacks' argument instead.\n",
      "  _log_warning(\"'early_stopping_rounds' argument is deprecated and will be removed in a future release of LightGBM. \"\n",
      "/opt/conda/lib/python3.9/site-packages/lightgbm/sklearn.py:736: UserWarning: 'verbose' argument is deprecated and will be removed in a future release of LightGBM. Pass 'log_evaluation()' callback via 'callbacks' argument instead.\n",
      "  _log_warning(\"'verbose' argument is deprecated and will be removed in a future release of LightGBM. \"\n",
      "/opt/conda/lib/python3.9/site-packages/sklearn/utils/deprecation.py:151: FutureWarning: 'force_all_finite' was renamed to 'ensure_all_finite' in 1.6 and will be removed in 1.8.\n",
      "  warnings.warn(\n"
     ]
    },
    {
     "name": "stdout",
     "output_type": "stream",
     "text": [
      "[I 2025-04-14 00:46:46,982] Trial 8 finished with value: 1631.6111846156284 and parameters: {'n_estimators': 486, 'learning_rate': 0.19089285429342465, 'max_depth': 13}. Best is trial 0 with value: 1629.505048821766.\n"
     ]
    },
    {
     "name": "stderr",
     "output_type": "stream",
     "text": [
      "/opt/conda/lib/python3.9/site-packages/sklearn/utils/deprecation.py:151: FutureWarning: 'force_all_finite' was renamed to 'ensure_all_finite' in 1.6 and will be removed in 1.8.\n",
      "  warnings.warn(\n",
      "/opt/conda/lib/python3.9/site-packages/lightgbm/sklearn.py:726: UserWarning: 'early_stopping_rounds' argument is deprecated and will be removed in a future release of LightGBM. Pass 'early_stopping()' callback via 'callbacks' argument instead.\n",
      "  _log_warning(\"'early_stopping_rounds' argument is deprecated and will be removed in a future release of LightGBM. \"\n",
      "/opt/conda/lib/python3.9/site-packages/lightgbm/sklearn.py:736: UserWarning: 'verbose' argument is deprecated and will be removed in a future release of LightGBM. Pass 'log_evaluation()' callback via 'callbacks' argument instead.\n",
      "  _log_warning(\"'verbose' argument is deprecated and will be removed in a future release of LightGBM. \"\n",
      "/opt/conda/lib/python3.9/site-packages/sklearn/utils/deprecation.py:151: FutureWarning: 'force_all_finite' was renamed to 'ensure_all_finite' in 1.6 and will be removed in 1.8.\n",
      "  warnings.warn(\n"
     ]
    },
    {
     "name": "stdout",
     "output_type": "stream",
     "text": [
      "[I 2025-04-14 00:46:59,880] Trial 9 finished with value: 1645.1159106859568 and parameters: {'n_estimators': 479, 'learning_rate': 0.3086651372652668, 'max_depth': 6}. Best is trial 0 with value: 1629.505048821766.\n",
      "Best hyperparameters:  {'n_estimators': 533, 'learning_rate': 0.15459959649707528, 'max_depth': 16}\n",
      "Best rmse:  1629.505048821766\n"
     ]
    }
   ],
   "source": [
    "study = optuna.create_study(direction='minimize')\n",
    "\n",
    "study.optimize(fit_lgbm, n_trials=10, show_progress_bar=True)\n",
    "\n",
    "print(\"Best hyperparameters: \", study.best_params)\n",
    "print(\"Best rmse: \", study.best_value) "
   ]
  },
  {
   "cell_type": "markdown",
   "metadata": {},
   "source": [
    "Лучшая модель следующая:\n",
    "- LGBMRegressor(learning_rate=0.159, max_depth=15, n_estimators=519)\n",
    "\n",
    "Обучим, засечем время:"
   ]
  },
  {
   "cell_type": "code",
   "execution_count": 57,
   "metadata": {},
   "outputs": [
    {
     "name": "stderr",
     "output_type": "stream",
     "text": [
      "/opt/conda/lib/python3.9/site-packages/sklearn/utils/deprecation.py:151: FutureWarning: 'force_all_finite' was renamed to 'ensure_all_finite' in 1.6 and will be removed in 1.8.\n",
      "  warnings.warn(\n"
     ]
    }
   ],
   "source": [
    "model_lgbm = LGBMRegressor(learning_rate=0.159, max_depth=15, n_estimators=519)\n",
    "\n",
    "start = time.time()\n",
    "\n",
    "model_lgbm.fit(X_train_p, y_train, eval_metric='rmse')\n",
    "\n",
    "# Записываем время обучения\n",
    "lgbm_fit_time = time.time() - start"
   ]
  },
  {
   "cell_type": "markdown",
   "metadata": {},
   "source": [
    "Делаем предсказания, засекаем:"
   ]
  },
  {
   "cell_type": "code",
   "execution_count": 58,
   "metadata": {},
   "outputs": [
    {
     "name": "stderr",
     "output_type": "stream",
     "text": [
      "/opt/conda/lib/python3.9/site-packages/sklearn/utils/deprecation.py:151: FutureWarning: 'force_all_finite' was renamed to 'ensure_all_finite' in 1.6 and will be removed in 1.8.\n",
      "  warnings.warn(\n"
     ]
    }
   ],
   "source": [
    "start = time.time()\n",
    "preds_lgbm = model_lgbm.predict(X_val_p)\n",
    "\n",
    "lgbm_pred_time = time.time() - start\n",
    "\n",
    "# Считаем значение RMSE\n",
    "rmse_lgbm = root_mean_squared_error (y_val, preds_lgbm)"
   ]
  },
  {
   "cell_type": "markdown",
   "metadata": {},
   "source": [
    "**Результат:**"
   ]
  },
  {
   "cell_type": "code",
   "execution_count": 59,
   "metadata": {},
   "outputs": [
    {
     "name": "stdout",
     "output_type": "stream",
     "text": [
      "RMSE:  1626.53\n",
      "Время обучения:  13.7\n",
      "Время предсказания:  1.99\n"
     ]
    }
   ],
   "source": [
    "print ('RMSE: ', round(rmse_lgbm, 2))\n",
    "print ('Время обучения: ', round(lgbm_fit_time, 2))\n",
    "print ('Время предсказания: ', round(lgbm_pred_time, 2))"
   ]
  },
  {
   "cell_type": "markdown",
   "metadata": {},
   "source": [
    "* Хорошее значение метрики и довольно высокая скорость обучения."
   ]
  },
  {
   "cell_type": "markdown",
   "metadata": {},
   "source": [
    "### Анализ остатков:"
   ]
  },
  {
   "cell_type": "code",
   "execution_count": 60,
   "metadata": {
    "jupyter": {
     "source_hidden": true
    }
   },
   "outputs": [],
   "source": [
    "# Для анализа остатков:\n",
    "def make_hist(df, column, bins, p, x_name, title):\n",
    "    f, ax = plt.subplots(1, 2)\n",
    "    f.set_size_inches(20, 5)\n",
    "    plt.suptitle(f'{p}', fontweight='bold')\n",
    "    # Гистограмма:\n",
    "    sns.histplot(data=df, x=column, bins=bins, color='coral', edgecolor=None, ax=ax[0])\n",
    "    ax[0].set_title(f'{title}')\n",
    "    ax[0].grid()\n",
    "    ax[0].set_xlabel(x_name)\n",
    "    ax[0].set_ylabel('частота')\n",
    "    # Ящик с усами:\n",
    "    ## vert=False, чтобы значения признака были по горизонтальной оси для обоих графиков\n",
    "    sns.boxplot(data=df, x=column, orient='h', color='cornflowerblue')\n",
    "    ax[1].set_title(f'Ящик с усами')\n",
    "    ax[1].grid()\n",
    "    ax[1].set_xlabel(x_name)\n",
    "    plt.show()\n",
    "    \n",
    "def build_joint_hist(y_test, y_pred, df_num, title):\n",
    "    y_joint = pd.DataFrame(list(zip(y_test, y_pred)), columns=['y_val', 'y_pred'])\n",
    "    make_hist(y_joint, None, 50, df_num, 'евро', title)\n",
    "    display(y_joint.describe().T)"
   ]
  },
  {
   "cell_type": "code",
   "execution_count": 61,
   "metadata": {},
   "outputs": [
    {
     "data": {
      "image/png": "[encoded data removed]",
      "text/plain": [
       "<Figure size 1440x360 with 2 Axes>"
      ]
     },
     "metadata": {
      "needs_background": "light"
     },
     "output_type": "display_data"
    },
    {
     "data": {
      "text/html": [
       "<div>\n",
       "<style scoped>\n",
       "    .dataframe tbody tr th:only-of-type {\n",
       "        vertical-align: middle;\n",
       "    }\n",
       "\n",
       "    .dataframe tbody tr th {\n",
       "        vertical-align: top;\n",
       "    }\n",
       "\n",
       "    .dataframe thead th {\n",
       "        text-align: right;\n",
       "    }\n",
       "</style>\n",
       "<table border=\"1\" class=\"dataframe\">\n",
       "  <thead>\n",
       "    <tr style=\"text-align: right;\">\n",
       "      <th></th>\n",
       "      <th>count</th>\n",
       "      <th>mean</th>\n",
       "      <th>std</th>\n",
       "      <th>min</th>\n",
       "      <th>25%</th>\n",
       "      <th>50%</th>\n",
       "      <th>75%</th>\n",
       "      <th>max</th>\n",
       "    </tr>\n",
       "  </thead>\n",
       "  <tbody>\n",
       "    <tr>\n",
       "      <th>y_val</th>\n",
       "      <td>50936.0</td>\n",
       "      <td>4988.195971</td>\n",
       "      <td>4685.234516</td>\n",
       "      <td>100.000000</td>\n",
       "      <td>1400.000000</td>\n",
       "      <td>3300.000000</td>\n",
       "      <td>7200.000000</td>\n",
       "      <td>20000.000000</td>\n",
       "    </tr>\n",
       "    <tr>\n",
       "      <th>y_pred</th>\n",
       "      <td>50936.0</td>\n",
       "      <td>4981.900251</td>\n",
       "      <td>3875.110532</td>\n",
       "      <td>-13007.432989</td>\n",
       "      <td>2097.991349</td>\n",
       "      <td>4508.562004</td>\n",
       "      <td>7436.387379</td>\n",
       "      <td>26260.454972</td>\n",
       "    </tr>\n",
       "  </tbody>\n",
       "</table>\n",
       "</div>"
      ],
      "text/plain": [
       "          count         mean          std           min          25%  \\\n",
       "y_val   50936.0  4988.195971  4685.234516    100.000000  1400.000000   \n",
       "y_pred  50936.0  4981.900251  3875.110532 -13007.432989  2097.991349   \n",
       "\n",
       "                50%          75%           max  \n",
       "y_val   3300.000000  7200.000000  20000.000000  \n",
       "y_pred  4508.562004  7436.387379  26260.454972  "
      ]
     },
     "metadata": {},
     "output_type": "display_data"
    },
    {
     "data": {
      "image/png": "[encoded data removed]",
      "text/plain": [
       "<Figure size 1440x360 with 2 Axes>"
      ]
     },
     "metadata": {
      "needs_background": "light"
     },
     "output_type": "display_data"
    },
    {
     "data": {
      "text/html": [
       "<div>\n",
       "<style scoped>\n",
       "    .dataframe tbody tr th:only-of-type {\n",
       "        vertical-align: middle;\n",
       "    }\n",
       "\n",
       "    .dataframe tbody tr th {\n",
       "        vertical-align: top;\n",
       "    }\n",
       "\n",
       "    .dataframe thead th {\n",
       "        text-align: right;\n",
       "    }\n",
       "</style>\n",
       "<table border=\"1\" class=\"dataframe\">\n",
       "  <thead>\n",
       "    <tr style=\"text-align: right;\">\n",
       "      <th></th>\n",
       "      <th>count</th>\n",
       "      <th>mean</th>\n",
       "      <th>std</th>\n",
       "      <th>min</th>\n",
       "      <th>25%</th>\n",
       "      <th>50%</th>\n",
       "      <th>75%</th>\n",
       "      <th>max</th>\n",
       "    </tr>\n",
       "  </thead>\n",
       "  <tbody>\n",
       "    <tr>\n",
       "      <th>y_val</th>\n",
       "      <td>50936.0</td>\n",
       "      <td>4988.195971</td>\n",
       "      <td>4685.234516</td>\n",
       "      <td>100.000000</td>\n",
       "      <td>1400.000000</td>\n",
       "      <td>3300.000000</td>\n",
       "      <td>7200.000000</td>\n",
       "      <td>20000.000000</td>\n",
       "    </tr>\n",
       "    <tr>\n",
       "      <th>y_pred</th>\n",
       "      <td>50936.0</td>\n",
       "      <td>4986.278817</td>\n",
       "      <td>4430.992842</td>\n",
       "      <td>141.428571</td>\n",
       "      <td>1492.714286</td>\n",
       "      <td>3398.888889</td>\n",
       "      <td>7343.461538</td>\n",
       "      <td>19799.833333</td>\n",
       "    </tr>\n",
       "  </tbody>\n",
       "</table>\n",
       "</div>"
      ],
      "text/plain": [
       "          count         mean          std         min          25%  \\\n",
       "y_val   50936.0  4988.195971  4685.234516  100.000000  1400.000000   \n",
       "y_pred  50936.0  4986.278817  4430.992842  141.428571  1492.714286   \n",
       "\n",
       "                50%          75%           max  \n",
       "y_val   3300.000000  7200.000000  20000.000000  \n",
       "y_pred  3398.888889  7343.461538  19799.833333  "
      ]
     },
     "metadata": {},
     "output_type": "display_data"
    },
    {
     "data": {
      "image/png": "[encoded data removed]",
      "text/plain": [
       "<Figure size 1440x360 with 2 Axes>"
      ]
     },
     "metadata": {
      "needs_background": "light"
     },
     "output_type": "display_data"
    },
    {
     "data": {
      "text/html": [
       "<div>\n",
       "<style scoped>\n",
       "    .dataframe tbody tr th:only-of-type {\n",
       "        vertical-align: middle;\n",
       "    }\n",
       "\n",
       "    .dataframe tbody tr th {\n",
       "        vertical-align: top;\n",
       "    }\n",
       "\n",
       "    .dataframe thead th {\n",
       "        text-align: right;\n",
       "    }\n",
       "</style>\n",
       "<table border=\"1\" class=\"dataframe\">\n",
       "  <thead>\n",
       "    <tr style=\"text-align: right;\">\n",
       "      <th></th>\n",
       "      <th>count</th>\n",
       "      <th>mean</th>\n",
       "      <th>std</th>\n",
       "      <th>min</th>\n",
       "      <th>25%</th>\n",
       "      <th>50%</th>\n",
       "      <th>75%</th>\n",
       "      <th>max</th>\n",
       "    </tr>\n",
       "  </thead>\n",
       "  <tbody>\n",
       "    <tr>\n",
       "      <th>y_val</th>\n",
       "      <td>50936.0</td>\n",
       "      <td>4988.195971</td>\n",
       "      <td>4685.234516</td>\n",
       "      <td>100.000000</td>\n",
       "      <td>1400.000000</td>\n",
       "      <td>3300.00000</td>\n",
       "      <td>7200.00000</td>\n",
       "      <td>20000.000000</td>\n",
       "    </tr>\n",
       "    <tr>\n",
       "      <th>y_pred</th>\n",
       "      <td>50936.0</td>\n",
       "      <td>4992.860283</td>\n",
       "      <td>4408.056394</td>\n",
       "      <td>-1272.244809</td>\n",
       "      <td>1545.195588</td>\n",
       "      <td>3395.44494</td>\n",
       "      <td>7271.87129</td>\n",
       "      <td>20850.032691</td>\n",
       "    </tr>\n",
       "  </tbody>\n",
       "</table>\n",
       "</div>"
      ],
      "text/plain": [
       "          count         mean          std          min          25%  \\\n",
       "y_val   50936.0  4988.195971  4685.234516   100.000000  1400.000000   \n",
       "y_pred  50936.0  4992.860283  4408.056394 -1272.244809  1545.195588   \n",
       "\n",
       "               50%         75%           max  \n",
       "y_val   3300.00000  7200.00000  20000.000000  \n",
       "y_pred  3395.44494  7271.87129  20850.032691  "
      ]
     },
     "metadata": {},
     "output_type": "display_data"
    },
    {
     "data": {
      "image/png": "[encoded data removed]",
      "text/plain": [
       "<Figure size 1440x360 with 2 Axes>"
      ]
     },
     "metadata": {
      "needs_background": "light"
     },
     "output_type": "display_data"
    },
    {
     "data": {
      "text/html": [
       "<div>\n",
       "<style scoped>\n",
       "    .dataframe tbody tr th:only-of-type {\n",
       "        vertical-align: middle;\n",
       "    }\n",
       "\n",
       "    .dataframe tbody tr th {\n",
       "        vertical-align: top;\n",
       "    }\n",
       "\n",
       "    .dataframe thead th {\n",
       "        text-align: right;\n",
       "    }\n",
       "</style>\n",
       "<table border=\"1\" class=\"dataframe\">\n",
       "  <thead>\n",
       "    <tr style=\"text-align: right;\">\n",
       "      <th></th>\n",
       "      <th>count</th>\n",
       "      <th>mean</th>\n",
       "      <th>std</th>\n",
       "      <th>min</th>\n",
       "      <th>25%</th>\n",
       "      <th>50%</th>\n",
       "      <th>75%</th>\n",
       "      <th>max</th>\n",
       "    </tr>\n",
       "  </thead>\n",
       "  <tbody>\n",
       "    <tr>\n",
       "      <th>y_val</th>\n",
       "      <td>50936.0</td>\n",
       "      <td>4988.195971</td>\n",
       "      <td>4685.234516</td>\n",
       "      <td>100.000000</td>\n",
       "      <td>1400.00000</td>\n",
       "      <td>3300.000000</td>\n",
       "      <td>7200.000000</td>\n",
       "      <td>20000.000000</td>\n",
       "    </tr>\n",
       "    <tr>\n",
       "      <th>y_pred</th>\n",
       "      <td>50936.0</td>\n",
       "      <td>4994.047826</td>\n",
       "      <td>4417.155942</td>\n",
       "      <td>-1944.407723</td>\n",
       "      <td>1568.52556</td>\n",
       "      <td>3407.683262</td>\n",
       "      <td>7260.551269</td>\n",
       "      <td>20692.181606</td>\n",
       "    </tr>\n",
       "  </tbody>\n",
       "</table>\n",
       "</div>"
      ],
      "text/plain": [
       "          count         mean          std          min         25%  \\\n",
       "y_val   50936.0  4988.195971  4685.234516   100.000000  1400.00000   \n",
       "y_pred  50936.0  4994.047826  4417.155942 -1944.407723  1568.52556   \n",
       "\n",
       "                50%          75%           max  \n",
       "y_val   3300.000000  7200.000000  20000.000000  \n",
       "y_pred  3407.683262  7260.551269  20692.181606  "
      ]
     },
     "metadata": {},
     "output_type": "display_data"
    },
    {
     "data": {
      "image/png": "[encoded data removed]",
      "text/plain": [
       "<Figure size 1440x360 with 2 Axes>"
      ]
     },
     "metadata": {
      "needs_background": "light"
     },
     "output_type": "display_data"
    },
    {
     "data": {
      "text/html": [
       "<div>\n",
       "<style scoped>\n",
       "    .dataframe tbody tr th:only-of-type {\n",
       "        vertical-align: middle;\n",
       "    }\n",
       "\n",
       "    .dataframe tbody tr th {\n",
       "        vertical-align: top;\n",
       "    }\n",
       "\n",
       "    .dataframe thead th {\n",
       "        text-align: right;\n",
       "    }\n",
       "</style>\n",
       "<table border=\"1\" class=\"dataframe\">\n",
       "  <thead>\n",
       "    <tr style=\"text-align: right;\">\n",
       "      <th></th>\n",
       "      <th>count</th>\n",
       "      <th>mean</th>\n",
       "      <th>std</th>\n",
       "      <th>min</th>\n",
       "      <th>25%</th>\n",
       "      <th>50%</th>\n",
       "      <th>75%</th>\n",
       "      <th>max</th>\n",
       "    </tr>\n",
       "  </thead>\n",
       "  <tbody>\n",
       "    <tr>\n",
       "      <th>price</th>\n",
       "      <td>50936.0</td>\n",
       "      <td>6.295721</td>\n",
       "      <td>2672.199699</td>\n",
       "      <td>-24449.713908</td>\n",
       "      <td>-1494.047725</td>\n",
       "      <td>-242.870706</td>\n",
       "      <td>1117.875583</td>\n",
       "      <td>24349.651055</td>\n",
       "    </tr>\n",
       "  </tbody>\n",
       "</table>\n",
       "</div>"
      ],
      "text/plain": [
       "         count      mean          std           min          25%         50%  \\\n",
       "price  50936.0  6.295721  2672.199699 -24449.713908 -1494.047725 -242.870706   \n",
       "\n",
       "               75%           max  \n",
       "price  1117.875583  24349.651055  "
      ]
     },
     "metadata": {},
     "output_type": "display_data"
    },
    {
     "data": {
      "image/png": "[encoded data removed]",
      "text/plain": [
       "<Figure size 1440x360 with 2 Axes>"
      ]
     },
     "metadata": {
      "needs_background": "light"
     },
     "output_type": "display_data"
    },
    {
     "data": {
      "text/html": [
       "<div>\n",
       "<style scoped>\n",
       "    .dataframe tbody tr th:only-of-type {\n",
       "        vertical-align: middle;\n",
       "    }\n",
       "\n",
       "    .dataframe tbody tr th {\n",
       "        vertical-align: top;\n",
       "    }\n",
       "\n",
       "    .dataframe thead th {\n",
       "        text-align: right;\n",
       "    }\n",
       "</style>\n",
       "<table border=\"1\" class=\"dataframe\">\n",
       "  <thead>\n",
       "    <tr style=\"text-align: right;\">\n",
       "      <th></th>\n",
       "      <th>count</th>\n",
       "      <th>mean</th>\n",
       "      <th>std</th>\n",
       "      <th>min</th>\n",
       "      <th>25%</th>\n",
       "      <th>50%</th>\n",
       "      <th>75%</th>\n",
       "      <th>max</th>\n",
       "    </tr>\n",
       "  </thead>\n",
       "  <tbody>\n",
       "    <tr>\n",
       "      <th>price</th>\n",
       "      <td>50936.0</td>\n",
       "      <td>1.917154</td>\n",
       "      <td>1854.774364</td>\n",
       "      <td>-18632.0</td>\n",
       "      <td>-722.934336</td>\n",
       "      <td>-76.357143</td>\n",
       "      <td>650.333333</td>\n",
       "      <td>17544.0</td>\n",
       "    </tr>\n",
       "  </tbody>\n",
       "</table>\n",
       "</div>"
      ],
      "text/plain": [
       "         count      mean          std      min         25%        50%  \\\n",
       "price  50936.0  1.917154  1854.774364 -18632.0 -722.934336 -76.357143   \n",
       "\n",
       "              75%      max  \n",
       "price  650.333333  17544.0  "
      ]
     },
     "metadata": {},
     "output_type": "display_data"
    },
    {
     "data": {
      "image/png": "[encoded data removed]",
      "text/plain": [
       "<Figure size 1440x360 with 2 Axes>"
      ]
     },
     "metadata": {
      "needs_background": "light"
     },
     "output_type": "display_data"
    },
    {
     "data": {
      "text/html": [
       "<div>\n",
       "<style scoped>\n",
       "    .dataframe tbody tr th:only-of-type {\n",
       "        vertical-align: middle;\n",
       "    }\n",
       "\n",
       "    .dataframe tbody tr th {\n",
       "        vertical-align: top;\n",
       "    }\n",
       "\n",
       "    .dataframe thead th {\n",
       "        text-align: right;\n",
       "    }\n",
       "</style>\n",
       "<table border=\"1\" class=\"dataframe\">\n",
       "  <thead>\n",
       "    <tr style=\"text-align: right;\">\n",
       "      <th></th>\n",
       "      <th>count</th>\n",
       "      <th>mean</th>\n",
       "      <th>std</th>\n",
       "      <th>min</th>\n",
       "      <th>25%</th>\n",
       "      <th>50%</th>\n",
       "      <th>75%</th>\n",
       "      <th>max</th>\n",
       "    </tr>\n",
       "  </thead>\n",
       "  <tbody>\n",
       "    <tr>\n",
       "      <th>price</th>\n",
       "      <td>50936.0</td>\n",
       "      <td>-4.664311</td>\n",
       "      <td>1696.040129</td>\n",
       "      <td>-18881.755835</td>\n",
       "      <td>-699.624145</td>\n",
       "      <td>-90.089312</td>\n",
       "      <td>601.702544</td>\n",
       "      <td>16882.206715</td>\n",
       "    </tr>\n",
       "  </tbody>\n",
       "</table>\n",
       "</div>"
      ],
      "text/plain": [
       "         count      mean          std           min         25%        50%  \\\n",
       "price  50936.0 -4.664311  1696.040129 -18881.755835 -699.624145 -90.089312   \n",
       "\n",
       "              75%           max  \n",
       "price  601.702544  16882.206715  "
      ]
     },
     "metadata": {},
     "output_type": "display_data"
    },
    {
     "data": {
      "image/png": "[encoded data removed]",
      "text/plain": [
       "<Figure size 1440x360 with 2 Axes>"
      ]
     },
     "metadata": {
      "needs_background": "light"
     },
     "output_type": "display_data"
    },
    {
     "data": {
      "text/html": [
       "<div>\n",
       "<style scoped>\n",
       "    .dataframe tbody tr th:only-of-type {\n",
       "        vertical-align: middle;\n",
       "    }\n",
       "\n",
       "    .dataframe tbody tr th {\n",
       "        vertical-align: top;\n",
       "    }\n",
       "\n",
       "    .dataframe thead th {\n",
       "        text-align: right;\n",
       "    }\n",
       "</style>\n",
       "<table border=\"1\" class=\"dataframe\">\n",
       "  <thead>\n",
       "    <tr style=\"text-align: right;\">\n",
       "      <th></th>\n",
       "      <th>count</th>\n",
       "      <th>mean</th>\n",
       "      <th>std</th>\n",
       "      <th>min</th>\n",
       "      <th>25%</th>\n",
       "      <th>50%</th>\n",
       "      <th>75%</th>\n",
       "      <th>max</th>\n",
       "    </tr>\n",
       "  </thead>\n",
       "  <tbody>\n",
       "    <tr>\n",
       "      <th>price</th>\n",
       "      <td>50936.0</td>\n",
       "      <td>-5.851854</td>\n",
       "      <td>1626.536382</td>\n",
       "      <td>-20003.352648</td>\n",
       "      <td>-672.280205</td>\n",
       "      <td>-84.637874</td>\n",
       "      <td>578.517648</td>\n",
       "      <td>17426.128776</td>\n",
       "    </tr>\n",
       "  </tbody>\n",
       "</table>\n",
       "</div>"
      ],
      "text/plain": [
       "         count      mean          std           min         25%        50%  \\\n",
       "price  50936.0 -5.851854  1626.536382 -20003.352648 -672.280205 -84.637874   \n",
       "\n",
       "              75%           max  \n",
       "price  578.517648  17426.128776  "
      ]
     },
     "metadata": {},
     "output_type": "display_data"
    }
   ],
   "source": [
    "# посмотрим, как распределяются значения таргета реальные и предсказанные\n",
    "names = ['LinearRegression', 'DecisionTreeRegressor', 'CatBoostRegressor', 'LightGBM']\n",
    "p=0\n",
    "for i in [preds_lr, preds_dt, preds_cb, preds_lgbm]:\n",
    "    build_joint_hist(y_val, i, names[p], 'Распределение цен pred и val')\n",
    "    p+=1\n",
    "    \n",
    "# Распределение остатков\n",
    "p=0\n",
    "for i in [preds_lr, preds_dt, preds_cb, preds_lgbm]:\n",
    "    make_hist(pd.DataFrame(y_val - i), None, 50, names[p], 'евро', 'Распределение остатков')\n",
    "    display(pd.DataFrame((y_val - i).describe()).T)\n",
    "    p+=1"
   ]
  },
  {
   "cell_type": "markdown",
   "metadata": {},
   "source": [
    "Видно, что модели иногда предсказывают отрицательные значения.\n",
    "\n",
    "Попробуем решить эту проблему следующим образом на примере LGBM:\n",
    "- всем предсказаным значения ниже 100 (такую минимальную цену приняли на этапе подготовки данных) присвоим минимальную цену - 100 евро, затем посмотрим значение метрики RMSE"
   ]
  },
  {
   "cell_type": "code",
   "execution_count": 62,
   "metadata": {},
   "outputs": [
    {
     "name": "stdout",
     "output_type": "stream",
     "text": [
      "Количество значений ниже 100 до обработки:  79\n",
      "RMSE до обработки: 1626.53\n",
      "\n",
      "Количество значений ниже 100 после обработки:  0\n",
      "RMSE после обработки: 1626.38\n"
     ]
    }
   ],
   "source": [
    "print ('Количество значений ниже 100 до обработки: ', (preds_lgbm<100).sum())\n",
    "print ('RMSE до обработки:', round(root_mean_squared_error(y_val, preds_lgbm), 2))\n",
    "\n",
    "for i in range(len(preds_lgbm)):\n",
    "    if preds_lgbm[i]<100:\n",
    "        preds_lgbm[i] = 100\n",
    "        \n",
    "print ('\\nКоличество значений ниже 100 после обработки: ', (preds_lgbm<100).sum())\n",
    "print ('RMSE после обработки:', round(root_mean_squared_error(y_val, preds_lgbm), 2))"
   ]
  },
  {
   "cell_type": "markdown",
   "metadata": {},
   "source": [
    "Небольшое количество значений ниже 100 евро убрали.\n",
    "\n",
    "Метрика незначительно улучшилась."
   ]
  },
  {
   "cell_type": "markdown",
   "metadata": {},
   "source": [
    "**Вывод**"
   ]
  },
  {
   "cell_type": "markdown",
   "metadata": {},
   "source": [
    "1. По графику распределения цен видим, что модели иногда предсказывали даже отрицательные значения цены. \n",
    "   - Таким значениям можно присваивать минимальную цену (в нашем случае - 100 евро)\n",
    "   \n",
    "\n",
    "2. На ящиках с усами верхние границы предсказанных цен, не являющихся выбросами, почти на том же уровне, что у реальных.\n",
    "\n",
    "3. Медиана цены у предсказанных значений у каждой модели чуть выше среднего валидационной выборки.\n",
    "\n",
    "**Распределение остатков:**\n",
    "\n",
    "- Наиболее близкое к нулю среднее распределение остатков у Дерева Решений - 1.9. \n",
    "- Наименьший размах у дерева решений и CatBoost'а - от примерно -19 тыс до 17 тыс.\n",
    "- Наименьшее стандартное отклонение у LGBM."
   ]
  },
  {
   "cell_type": "markdown",
   "metadata": {},
   "source": [
    "### **Вывод  по обучению моделей**"
   ]
  },
  {
   "cell_type": "markdown",
   "metadata": {},
   "source": [
    "В начале выполнена подготовка данных:\n",
    "\n",
    "- выборка разбита на тренировочную, валидационную и тестовую в соотношении 6/2/2\n",
    "- составлен пайплайн подготовки данных: кодирование через OHE и масштабирование - StandardScaler\n",
    "\n",
    "Построили 4 модели:\n",
    "- LinearRegression (Высокий RMSE, быстрая скорость обучения)\n",
    "- DecisionTreeRegressor (Неплохой результат RMSE, высокая скорость обучения)\n",
    "- CatBoostRegressor (Хороший RMSE, средняя скорость обучения)\n",
    "- LightGBM (Хороший RMSE, высокая скорость обучения)\n",
    "\n",
    "Проведен анализ остатков:\n",
    "- Некоторые предсказанные значения - отрицательны. Таким объектам можно присваивать минимальную цену 100 евро.\n",
    "- Среднее остатков - близко к нулю\n",
    "- Наименьший размах - у CatBoost'а - от примерно -19 тыс до 17 тыс."
   ]
  },
  {
   "cell_type": "markdown",
   "metadata": {},
   "source": [
    "## **Анализ моделей**"
   ]
  },
  {
   "cell_type": "markdown",
   "metadata": {},
   "source": [
    "Сравним результаты метрики, время обучения и предсказания моделей:"
   ]
  },
  {
   "cell_type": "code",
   "execution_count": 63,
   "metadata": {},
   "outputs": [
    {
     "name": "stdout",
     "output_type": "stream",
     "text": [
      "\n",
      "  ____ LinearRegression ____\n",
      "RMSE: 2672.18\n",
      "Время обучения: 17.81 с\n",
      "Время предсказания: 0.1 с\n",
      "\n",
      "  ____ DecisionTreeRegressor ____\n",
      "RMSE: 1854.76\n",
      "Время обучения: 6.31 с\n",
      "Время предсказания: 0.06 с\n",
      "\n",
      "  ____ CatBoostRegressor ____\n",
      "RMSE: 1696.03\n",
      "Время обучения: 46.9 с\n",
      "Время предсказания: 0.1 с\n",
      "\n",
      "  ____ LightGBM ____\n",
      "RMSE: 1626.53\n",
      "Время обучения: 13.7 с\n",
      "Время предсказания: 1.99 с\n"
     ]
    }
   ],
   "source": [
    "rmse_s = [rmse_lr, rmse_dt, rmse_cb, rmse_lgbm]\n",
    "fit_times = [lr_fit_time, dt_fit_time, cb_fit_time, lgbm_fit_time]\n",
    "pred_times = [lr_pred_time, dt_pred_time, cb_pred_time, lgbm_pred_time]\n",
    "names=['LinearRegression', 'DecisionTreeRegressor', 'CatBoostRegressor', 'LightGBM']\n",
    "p=0\n",
    "for i in rmse_s:\n",
    "    print (f'\\n  ____ {names[p]} ____')\n",
    "    print (f'RMSE: {round(i, 2)}')\n",
    "    print (f'Время обучения: {round(fit_times[p], 2)} с')\n",
    "    print (f'Время предсказания: {round(pred_times[p], 2)} с')\n",
    "    p+=1"
   ]
  },
  {
   "cell_type": "markdown",
   "metadata": {},
   "source": [
    "**Вывод:**\n",
    "\n",
    "LinearRegression дал результат выше допустимого уровня RMSE.\n",
    "\n",
    "DecisionTreeRegressor показал неплохой результат и самое быстрое время обучения и предсказания.\n",
    "\n",
    "Наилучшее значение RMSE - у LightGBM. \n",
    "\n",
    "У CatBoostRegressor самое быстрое время предсказания, на полторы секунды быстрее LGBM. \n",
    "\n",
    "Но значительно дольше время обучения - более 47 секунд против 15 у LGBM.  \n",
    "\n",
    "**Решение:**\n",
    "- **По совокупности факторов выбираем модель LightGBM.**\n"
   ]
  },
  {
   "cell_type": "markdown",
   "metadata": {},
   "source": [
    "### Проверка модели LightGBM на тестовой выборке"
   ]
  },
  {
   "cell_type": "markdown",
   "metadata": {},
   "source": [
    "Делаем предсказания:"
   ]
  },
  {
   "cell_type": "code",
   "execution_count": 64,
   "metadata": {},
   "outputs": [
    {
     "name": "stderr",
     "output_type": "stream",
     "text": [
      "/opt/conda/lib/python3.9/site-packages/sklearn/utils/deprecation.py:151: FutureWarning: 'force_all_finite' was renamed to 'ensure_all_finite' in 1.6 and will be removed in 1.8.\n",
      "  warnings.warn(\n"
     ]
    }
   ],
   "source": [
    "start = time.time()\n",
    "preds_test = model_lgbm.predict(X_test_p)\n",
    "\n",
    "lgbm_pred_test = time.time() - start"
   ]
  },
  {
   "cell_type": "markdown",
   "metadata": {},
   "source": [
    "Назначаем минимальную цену:"
   ]
  },
  {
   "cell_type": "code",
   "execution_count": 65,
   "metadata": {},
   "outputs": [
    {
     "name": "stdout",
     "output_type": "stream",
     "text": [
      "Количество отрицательных значений до обработки: 44\n",
      "Количество значений ниже 100 до обработки: 86\n",
      "Количество отрицательных значений после обработки: 0\n",
      "Количество значений ниже 100 после обработки: 0\n"
     ]
    }
   ],
   "source": [
    "print ('Количество отрицательных значений до обработки:', (preds_test<0).sum())\n",
    "print ('Количество значений ниже 100 до обработки:', (preds_test<100).sum())\n",
    "\n",
    "for i in range (len(preds_test)):\n",
    "    if preds_test[i]<100:\n",
    "        preds_test[i]=100\n",
    "        \n",
    "print ('Количество отрицательных значений после обработки:', (preds_test<0).sum())\n",
    "print ('Количество значений ниже 100 после обработки:', (preds_test<100).sum())"
   ]
  },
  {
   "cell_type": "markdown",
   "metadata": {},
   "source": [
    "### Результат"
   ]
  },
  {
   "cell_type": "code",
   "execution_count": 66,
   "metadata": {},
   "outputs": [
    {
     "name": "stdout",
     "output_type": "stream",
     "text": [
      "RMSE:  1588.03\n",
      "Время предсказания:  1.93\n"
     ]
    }
   ],
   "source": [
    "rmse_test = root_mean_squared_error(y_test, preds_test)\n",
    "print ('RMSE: ', round(rmse_test, 2))\n",
    "print ('Время предсказания: ', round(lgbm_pred_test, 2))"
   ]
  },
  {
   "cell_type": "markdown",
   "metadata": {},
   "source": [
    "* Качество чуть улучшилось в сравнении с валидационными значениями, результат хороший.  \n",
    "Время работы почти такое же, как было на валидационной выборке."
   ]
  },
  {
   "cell_type": "markdown",
   "metadata": {},
   "source": [
    "### **Общий вывод**"
   ]
  },
  {
   "cell_type": "markdown",
   "metadata": {},
   "source": [
    "**Результат:**\n",
    "\n",
    "Построены модели и выбрана лучшая по соотношению качества и скоростей обучения и предсказания:\n",
    "- **LGBMRegressor(learning_rate=0.159, max_depth=15, n_estimators=519)**\n",
    "\n",
    "Её результаты:\n",
    "1. На валидационной выборке:\n",
    "    - RMSE:  1626.53\n",
    "    - Время обучения:  14.58 с \n",
    "    - Время предсказания:  1.93 с\n",
    "    \n",
    "    \n",
    "2. На тестовой выборке:\n",
    "    - RMSE:  1588.03\n",
    "    - Время предсказания:  1.95 с"
   ]
  },
  {
   "cell_type": "markdown",
   "metadata": {},
   "source": [
    "**Ход работы:**"
   ]
  },
  {
   "cell_type": "markdown",
   "metadata": {},
   "source": [
    "1. *Подготовка данных*\n",
    "\n",
    "Изначально имели следующий датасет:\n",
    "- 354369 строк, 16 столбцов.\n",
    "- Типы: int - 7 столбцов, object - 9 столбцов.\n",
    "\n",
    "Удалены неинформативные признаки:\n",
    "- date_crawled, date_created, lastseen, 'postalcode', 'registration_month', 'number_of_pictures'\n",
    "\n",
    "Пропуски заполнены:\n",
    "- 'fuel_type', 'model', 'vehicle_type' - на существующую категорию 'other'\n",
    "- 'repaired', 'gearbox' - на новую категорию 'unknown'\n",
    "\n",
    "В `fuel_type` заменили *gasoline* на *petrol*\n",
    "\n",
    "Удалено явных дубликатов: 45191 (12.75% изначального датасета)\n",
    "\n",
    "27% датасета пришлось удалить: из-за дубликатов, выбросов или нулевых значений.\n",
    "Около половины удаленных объектов - дубликаты (45191 шт)\n",
    "\n",
    "Удаленные объекты:\n",
    "- Цена ниже 100 евро\n",
    "- Автомобили, зарегистрированные позже 2016 года и до 1950\n",
    "- Мощность меньше 40 л.с. или выше 500 л.с."
   ]
  },
  {
   "cell_type": "markdown",
   "metadata": {},
   "source": [
    "2. *Обучение моделей:*\n",
    "\n",
    "В начале выполнена подготовка данных:\n",
    "\n",
    "- выборка разбита на тренировочную, валидационную и тестовую в соотношении 6/2/2\n",
    "- составлен пайплайн подготовки данных: кодирование через OHE и масштабирование - StandardScaler\n",
    "\n",
    "Построено 4 модели:\n",
    "- LinearRegression ()\n",
    "- DecisionTreeRegressor(random_state=RANDOM_STATE, max_depth=27, min_samples_leaf=6)\n",
    "- CatBoostRegressor(loss_function='RMSE', iterations=150, depth=14, l2_leaf_reg=19, learning_rate=0.49145))\n",
    "- LGBMRegressor(learning_rate=0.159, max_depth=15, n_estimators=519)\n",
    "\n",
    "Анализ моделей:\n",
    "\n",
    "____ LinearRegression: \n",
    "RMSE: 2672.18\n",
    "Время обучения: 15.56 с\n",
    "Время предсказания: 0.1 с\n",
    "\n",
    "  ____ DecisionTreeRegressor: \n",
    "RMSE: 1854.76\n",
    "Время обучения: 6.02 с\n",
    "Время предсказания: 0.06 с\n",
    "\n",
    "  ____ CatBoostRegressor: \n",
    "RMSE: 1696.03\n",
    "Время обучения: 47.05 с\n",
    "Время предсказания: 0.11 с\n",
    "\n",
    "  ____ LightGBM: \n",
    "RMSE: 1626.53\n",
    "Время обучения: 14.58 с\n",
    "Время предсказания: 1.93 с\n",
    "\n",
    "\n",
    "**Решение:**\n",
    "- **По совокупности факторов выбирали модель LightGBM: один из лучших RMSE, наряду с CatBoost, а также низкое время обучения и предсказания**"
   ]
  }
 ],
 "metadata": {
  "ExecuteTimeLog": [
   {
    "duration": 3749,
    "start_time": "2024-12-06T00:39:16.614Z"
   },
   {
    "duration": 4185,
    "start_time": "2024-12-06T00:39:20.365Z"
   },
   {
    "duration": 2179,
    "start_time": "2024-12-06T00:39:24.552Z"
   },
   {
    "duration": 3,
    "start_time": "2024-12-06T00:39:39.450Z"
   },
   {
    "duration": 4,
    "start_time": "2024-12-06T00:39:51.803Z"
   },
   {
    "duration": 2869,
    "start_time": "2024-12-06T00:40:32.428Z"
   },
   {
    "duration": 90,
    "start_time": "2024-12-06T00:40:40.539Z"
   },
   {
    "duration": 164,
    "start_time": "2024-12-06T00:40:45.107Z"
   },
   {
    "duration": 92,
    "start_time": "2024-12-06T00:44:55.792Z"
   },
   {
    "duration": 152,
    "start_time": "2024-12-06T00:45:03.183Z"
   },
   {
    "duration": 11,
    "start_time": "2024-12-06T00:45:09.157Z"
   },
   {
    "duration": 5,
    "start_time": "2024-12-06T00:45:11.974Z"
   },
   {
    "duration": 5,
    "start_time": "2024-12-06T00:45:45.143Z"
   },
   {
    "duration": 4,
    "start_time": "2024-12-06T00:45:51.582Z"
   },
   {
    "duration": 13,
    "start_time": "2024-12-06T00:47:26.400Z"
   },
   {
    "duration": 6,
    "start_time": "2024-12-06T00:47:51.808Z"
   },
   {
    "duration": 5,
    "start_time": "2024-12-06T00:47:56.680Z"
   },
   {
    "duration": 4,
    "start_time": "2024-12-06T00:48:26.887Z"
   },
   {
    "duration": 4,
    "start_time": "2024-12-06T00:48:37.975Z"
   },
   {
    "duration": 14,
    "start_time": "2024-12-06T00:49:57.122Z"
   },
   {
    "duration": 14,
    "start_time": "2024-12-06T00:50:21.682Z"
   },
   {
    "duration": 13,
    "start_time": "2024-12-06T00:50:47.346Z"
   },
   {
    "duration": 13,
    "start_time": "2024-12-06T00:51:48.626Z"
   },
   {
    "duration": 12,
    "start_time": "2024-12-06T00:51:57.081Z"
   },
   {
    "duration": 15,
    "start_time": "2024-12-06T00:52:02.838Z"
   },
   {
    "duration": 4,
    "start_time": "2024-12-06T00:52:08.538Z"
   },
   {
    "duration": 3,
    "start_time": "2024-12-06T00:52:12.619Z"
   },
   {
    "duration": 10,
    "start_time": "2024-12-06T00:52:18.450Z"
   },
   {
    "duration": 115,
    "start_time": "2024-12-06T00:52:40.530Z"
   },
   {
    "duration": 6,
    "start_time": "2024-12-06T00:52:44.739Z"
   },
   {
    "duration": 3,
    "start_time": "2024-12-06T00:53:11.239Z"
   },
   {
    "duration": 4,
    "start_time": "2024-12-06T00:55:42.179Z"
   },
   {
    "duration": 1410,
    "start_time": "2024-12-06T00:56:19.225Z"
   },
   {
    "duration": 156,
    "start_time": "2024-12-06T00:56:53.003Z"
   },
   {
    "duration": 140,
    "start_time": "2024-12-06T00:56:56.012Z"
   },
   {
    "duration": 49,
    "start_time": "2024-12-07T00:07:25.198Z"
   },
   {
    "duration": 6,
    "start_time": "2024-12-07T00:07:29.578Z"
   },
   {
    "duration": 3438,
    "start_time": "2024-12-07T00:07:38.877Z"
   },
   {
    "duration": 4291,
    "start_time": "2024-12-07T00:07:42.318Z"
   },
   {
    "duration": 2034,
    "start_time": "2024-12-07T00:07:46.610Z"
   },
   {
    "duration": 3,
    "start_time": "2024-12-07T00:07:48.646Z"
   },
   {
    "duration": 5,
    "start_time": "2024-12-07T00:07:48.651Z"
   },
   {
    "duration": 2862,
    "start_time": "2024-12-07T00:07:48.658Z"
   },
   {
    "duration": 177,
    "start_time": "2024-12-07T00:07:51.522Z"
   },
   {
    "duration": 5,
    "start_time": "2024-12-07T00:07:51.700Z"
   },
   {
    "duration": 5,
    "start_time": "2024-12-07T00:07:51.707Z"
   },
   {
    "duration": 174,
    "start_time": "2024-12-07T00:07:51.714Z"
   },
   {
    "duration": 1362,
    "start_time": "2024-12-07T00:07:51.890Z"
   },
   {
    "duration": 111,
    "start_time": "2024-12-07T00:08:01.589Z"
   },
   {
    "duration": 13,
    "start_time": "2024-12-07T00:08:26.994Z"
   },
   {
    "duration": 5,
    "start_time": "2024-12-07T00:08:32.658Z"
   },
   {
    "duration": 5,
    "start_time": "2024-12-07T00:08:40.154Z"
   },
   {
    "duration": 15,
    "start_time": "2024-12-07T00:10:13.900Z"
   },
   {
    "duration": 109,
    "start_time": "2024-12-07T00:10:24.283Z"
   },
   {
    "duration": 1320,
    "start_time": "2024-12-07T00:10:33.491Z"
   },
   {
    "duration": 58,
    "start_time": "2024-12-07T00:10:44.000Z"
   },
   {
    "duration": 822,
    "start_time": "2024-12-07T00:11:12.620Z"
   },
   {
    "duration": 150,
    "start_time": "2024-12-07T00:11:14.389Z"
   },
   {
    "duration": 35,
    "start_time": "2024-12-07T00:12:44.820Z"
   },
   {
    "duration": 135,
    "start_time": "2024-12-07T00:18:10.095Z"
   },
   {
    "duration": 38,
    "start_time": "2024-12-07T00:18:18.351Z"
   },
   {
    "duration": 38,
    "start_time": "2024-12-07T00:19:22.855Z"
   },
   {
    "duration": 2520,
    "start_time": "2024-12-07T00:23:44.304Z"
   },
   {
    "duration": 2408,
    "start_time": "2024-12-07T00:23:46.826Z"
   },
   {
    "duration": 1793,
    "start_time": "2024-12-07T00:23:49.236Z"
   },
   {
    "duration": 2,
    "start_time": "2024-12-07T00:23:51.031Z"
   },
   {
    "duration": 8,
    "start_time": "2024-12-07T00:23:51.035Z"
   },
   {
    "duration": 889,
    "start_time": "2024-12-07T00:23:51.045Z"
   },
   {
    "duration": 167,
    "start_time": "2024-12-07T00:23:51.936Z"
   },
   {
    "duration": 4,
    "start_time": "2024-12-07T00:23:52.105Z"
   },
   {
    "duration": 79,
    "start_time": "2024-12-07T00:23:52.110Z"
   },
   {
    "duration": 150,
    "start_time": "2024-12-07T00:23:52.191Z"
   },
   {
    "duration": 48,
    "start_time": "2024-12-07T00:25:36.374Z"
   },
   {
    "duration": 6,
    "start_time": "2024-12-07T00:25:41.796Z"
   },
   {
    "duration": 2547,
    "start_time": "2024-12-07T00:25:48.745Z"
   },
   {
    "duration": 2437,
    "start_time": "2024-12-07T00:25:51.294Z"
   },
   {
    "duration": 2119,
    "start_time": "2024-12-07T00:25:53.733Z"
   },
   {
    "duration": 2,
    "start_time": "2024-12-07T00:25:55.854Z"
   },
   {
    "duration": 22,
    "start_time": "2024-12-07T00:25:55.858Z"
   },
   {
    "duration": 2910,
    "start_time": "2024-12-07T00:25:55.882Z"
   },
   {
    "duration": 167,
    "start_time": "2024-12-07T00:25:58.794Z"
   },
   {
    "duration": 4,
    "start_time": "2024-12-07T00:25:58.963Z"
   },
   {
    "duration": 82,
    "start_time": "2024-12-07T00:25:58.968Z"
   },
   {
    "duration": 151,
    "start_time": "2024-12-07T00:25:59.052Z"
   },
   {
    "duration": 1274,
    "start_time": "2024-12-07T00:25:59.205Z"
   },
   {
    "duration": 0,
    "start_time": "2024-12-07T00:26:00.481Z"
   },
   {
    "duration": 0,
    "start_time": "2024-12-07T00:26:00.482Z"
   },
   {
    "duration": 1102,
    "start_time": "2024-12-07T00:27:29.772Z"
   },
   {
    "duration": 4471,
    "start_time": "2024-12-07T00:28:37.525Z"
   },
   {
    "duration": 199,
    "start_time": "2024-12-07T00:31:01.838Z"
   },
   {
    "duration": 221,
    "start_time": "2024-12-07T00:31:09.615Z"
   },
   {
    "duration": 259,
    "start_time": "2024-12-07T00:31:14.713Z"
   },
   {
    "duration": 45,
    "start_time": "2024-12-07T00:31:25.514Z"
   },
   {
    "duration": 30,
    "start_time": "2024-12-07T00:31:51.079Z"
   },
   {
    "duration": 43,
    "start_time": "2024-12-07T00:32:01.742Z"
   },
   {
    "duration": 20,
    "start_time": "2024-12-07T00:32:19.783Z"
   },
   {
    "duration": 19,
    "start_time": "2024-12-07T00:32:39.967Z"
   },
   {
    "duration": 41,
    "start_time": "2024-12-07T00:33:04.546Z"
   },
   {
    "duration": 27,
    "start_time": "2024-12-07T00:33:22.232Z"
   },
   {
    "duration": 38,
    "start_time": "2024-12-07T00:33:35.498Z"
   },
   {
    "duration": 37,
    "start_time": "2024-12-07T00:36:42.569Z"
   },
   {
    "duration": 5445,
    "start_time": "2024-12-07T00:37:53.946Z"
   },
   {
    "duration": 5352,
    "start_time": "2024-12-07T00:55:22.231Z"
   },
   {
    "duration": 5307,
    "start_time": "2024-12-07T00:55:37.118Z"
   },
   {
    "duration": 5,
    "start_time": "2024-12-07T01:05:59.367Z"
   },
   {
    "duration": 17,
    "start_time": "2024-12-07T01:06:09.075Z"
   },
   {
    "duration": 23,
    "start_time": "2024-12-07T01:06:55.061Z"
   },
   {
    "duration": 7,
    "start_time": "2024-12-07T01:07:16.000Z"
   },
   {
    "duration": 5,
    "start_time": "2024-12-07T01:07:26.109Z"
   },
   {
    "duration": 14,
    "start_time": "2024-12-07T01:07:42.752Z"
   },
   {
    "duration": 67,
    "start_time": "2024-12-07T01:09:23.342Z"
   },
   {
    "duration": 5,
    "start_time": "2024-12-07T01:11:32.880Z"
   },
   {
    "duration": 3,
    "start_time": "2024-12-07T01:11:47.760Z"
   },
   {
    "duration": 222,
    "start_time": "2024-12-07T01:12:37.888Z"
   },
   {
    "duration": 117,
    "start_time": "2024-12-07T01:12:43.784Z"
   },
   {
    "duration": 32,
    "start_time": "2024-12-07T01:12:56.616Z"
   },
   {
    "duration": 1997,
    "start_time": "2024-12-07T01:13:34.121Z"
   },
   {
    "duration": 52,
    "start_time": "2024-12-07T01:13:45.480Z"
   },
   {
    "duration": 41,
    "start_time": "2024-12-07T01:13:58.241Z"
   },
   {
    "duration": 149,
    "start_time": "2024-12-07T01:14:04.721Z"
   },
   {
    "duration": 141,
    "start_time": "2024-12-07T01:14:12.304Z"
   },
   {
    "duration": 14,
    "start_time": "2024-12-07T01:14:43.074Z"
   },
   {
    "duration": 6,
    "start_time": "2024-12-07T01:14:59.505Z"
   },
   {
    "duration": 44,
    "start_time": "2024-12-07T01:15:04.161Z"
   },
   {
    "duration": 34,
    "start_time": "2024-12-07T01:15:18.225Z"
   },
   {
    "duration": 6,
    "start_time": "2024-12-07T01:15:20.960Z"
   },
   {
    "duration": 5,
    "start_time": "2024-12-07T01:15:24.449Z"
   },
   {
    "duration": 298,
    "start_time": "2024-12-07T01:15:37.041Z"
   },
   {
    "duration": 251,
    "start_time": "2024-12-07T01:15:45.073Z"
   },
   {
    "duration": 5,
    "start_time": "2024-12-07T01:16:32.003Z"
   },
   {
    "duration": 218,
    "start_time": "2024-12-07T01:17:03.836Z"
   },
   {
    "duration": 4,
    "start_time": "2024-12-07T01:17:15.443Z"
   },
   {
    "duration": 233,
    "start_time": "2024-12-07T01:17:16.574Z"
   },
   {
    "duration": 212,
    "start_time": "2024-12-07T01:17:44.124Z"
   },
   {
    "duration": 226,
    "start_time": "2024-12-07T01:17:47.836Z"
   },
   {
    "duration": 511,
    "start_time": "2024-12-07T01:18:13.523Z"
   },
   {
    "duration": 289,
    "start_time": "2024-12-07T01:18:58.664Z"
   },
   {
    "duration": 226,
    "start_time": "2024-12-07T01:19:45.644Z"
   },
   {
    "duration": 213,
    "start_time": "2024-12-07T01:19:55.860Z"
   },
   {
    "duration": 37,
    "start_time": "2024-12-07T01:20:10.309Z"
   },
   {
    "duration": 43,
    "start_time": "2024-12-07T01:20:14.475Z"
   },
   {
    "duration": 18,
    "start_time": "2024-12-07T01:20:27.062Z"
   },
   {
    "duration": 31,
    "start_time": "2024-12-07T01:20:34.139Z"
   },
   {
    "duration": 5,
    "start_time": "2024-12-07T01:20:41.935Z"
   },
   {
    "duration": 5,
    "start_time": "2024-12-07T01:20:48.412Z"
   },
   {
    "duration": 2879,
    "start_time": "2024-12-07T01:21:12.815Z"
   },
   {
    "duration": 2627,
    "start_time": "2024-12-07T01:21:15.696Z"
   },
   {
    "duration": 7,
    "start_time": "2024-12-07T01:21:18.325Z"
   },
   {
    "duration": 11,
    "start_time": "2024-12-07T01:21:18.333Z"
   },
   {
    "duration": 11,
    "start_time": "2024-12-07T01:21:18.347Z"
   },
   {
    "duration": 868,
    "start_time": "2024-12-07T01:21:18.360Z"
   },
   {
    "duration": 174,
    "start_time": "2024-12-07T01:21:19.230Z"
   },
   {
    "duration": 5,
    "start_time": "2024-12-07T01:21:19.406Z"
   },
   {
    "duration": 57,
    "start_time": "2024-12-07T01:21:19.412Z"
   },
   {
    "duration": 29,
    "start_time": "2024-12-07T01:21:31.581Z"
   },
   {
    "duration": 30,
    "start_time": "2024-12-07T01:21:34.236Z"
   },
   {
    "duration": 30,
    "start_time": "2024-12-07T01:21:45.381Z"
   },
   {
    "duration": 30,
    "start_time": "2024-12-07T01:21:47.284Z"
   },
   {
    "duration": 38,
    "start_time": "2024-12-07T01:21:54.572Z"
   },
   {
    "duration": 34,
    "start_time": "2024-12-07T01:21:56.453Z"
   },
   {
    "duration": 0,
    "start_time": "2024-12-07T01:24:30.100Z"
   },
   {
    "duration": 354,
    "start_time": "2024-12-07T01:24:32.837Z"
   },
   {
    "duration": 6,
    "start_time": "2024-12-07T01:24:37.501Z"
   },
   {
    "duration": 5,
    "start_time": "2024-12-07T01:24:39.725Z"
   },
   {
    "duration": 11,
    "start_time": "2024-12-07T01:25:55.406Z"
   },
   {
    "duration": 11,
    "start_time": "2024-12-07T01:26:04.446Z"
   },
   {
    "duration": 283,
    "start_time": "2024-12-07T01:26:38.198Z"
   },
   {
    "duration": 0,
    "start_time": "2024-12-07T01:27:00.988Z"
   },
   {
    "duration": 277,
    "start_time": "2024-12-07T01:27:03.126Z"
   },
   {
    "duration": 255,
    "start_time": "2024-12-07T01:27:18.392Z"
   },
   {
    "duration": 2553,
    "start_time": "2024-12-07T01:28:47.834Z"
   },
   {
    "duration": 2512,
    "start_time": "2024-12-07T01:28:50.390Z"
   },
   {
    "duration": 1973,
    "start_time": "2024-12-07T01:28:52.904Z"
   },
   {
    "duration": 3,
    "start_time": "2024-12-07T01:28:54.879Z"
   },
   {
    "duration": 16,
    "start_time": "2024-12-07T01:28:54.888Z"
   },
   {
    "duration": 975,
    "start_time": "2024-12-07T01:28:54.906Z"
   },
   {
    "duration": 176,
    "start_time": "2024-12-07T01:28:55.882Z"
   },
   {
    "duration": 4,
    "start_time": "2024-12-07T01:28:56.060Z"
   },
   {
    "duration": 99,
    "start_time": "2024-12-07T01:28:56.066Z"
   },
   {
    "duration": 151,
    "start_time": "2024-12-07T01:28:56.167Z"
   },
   {
    "duration": 179,
    "start_time": "2024-12-07T01:28:56.320Z"
   },
   {
    "duration": 2252,
    "start_time": "2024-12-07T01:28:56.502Z"
   },
   {
    "duration": 14,
    "start_time": "2024-12-07T01:28:58.756Z"
   },
   {
    "duration": 169,
    "start_time": "2024-12-07T01:28:58.772Z"
   },
   {
    "duration": 5739,
    "start_time": "2024-12-07T01:28:58.943Z"
   },
   {
    "duration": 47,
    "start_time": "2024-12-07T01:29:04.684Z"
   },
   {
    "duration": 109,
    "start_time": "2024-12-07T01:29:04.734Z"
   },
   {
    "duration": 1435,
    "start_time": "2024-12-07T01:29:04.845Z"
   },
   {
    "duration": 2243,
    "start_time": "2024-12-07T01:29:06.283Z"
   },
   {
    "duration": 345,
    "start_time": "2024-12-07T01:29:14.993Z"
   },
   {
    "duration": 318,
    "start_time": "2024-12-07T01:29:19.288Z"
   },
   {
    "duration": 398,
    "start_time": "2024-12-07T01:29:24.960Z"
   },
   {
    "duration": 298,
    "start_time": "2024-12-07T01:29:32.144Z"
   },
   {
    "duration": 151,
    "start_time": "2024-12-07T01:29:42.719Z"
   },
   {
    "duration": 10,
    "start_time": "2024-12-07T01:29:45.121Z"
   },
   {
    "duration": 45,
    "start_time": "2024-12-07T01:35:02.291Z"
   },
   {
    "duration": 117,
    "start_time": "2024-12-07T01:36:16.837Z"
   },
   {
    "duration": 649,
    "start_time": "2024-12-07T01:37:13.980Z"
   },
   {
    "duration": 111,
    "start_time": "2024-12-07T01:40:37.702Z"
   },
   {
    "duration": 3798,
    "start_time": "2024-12-09T16:33:50.427Z"
   },
   {
    "duration": 4381,
    "start_time": "2024-12-09T16:33:54.227Z"
   },
   {
    "duration": 1950,
    "start_time": "2024-12-09T16:33:58.610Z"
   },
   {
    "duration": 2,
    "start_time": "2024-12-09T16:34:00.563Z"
   },
   {
    "duration": 25,
    "start_time": "2024-12-09T16:34:00.566Z"
   },
   {
    "duration": 20,
    "start_time": "2024-12-09T16:34:00.593Z"
   },
   {
    "duration": 1175,
    "start_time": "2024-12-09T16:34:00.614Z"
   },
   {
    "duration": 79,
    "start_time": "2024-12-09T16:34:01.791Z"
   },
   {
    "duration": 280,
    "start_time": "2024-12-09T16:34:01.872Z"
   },
   {
    "duration": 11,
    "start_time": "2024-12-09T16:34:02.155Z"
   },
   {
    "duration": 346,
    "start_time": "2024-12-09T16:34:02.168Z"
   },
   {
    "duration": 121,
    "start_time": "2024-12-09T16:34:02.516Z"
   },
   {
    "duration": 616,
    "start_time": "2024-12-09T16:34:02.639Z"
   },
   {
    "duration": 76,
    "start_time": "2024-12-09T16:34:03.256Z"
   },
   {
    "duration": 165,
    "start_time": "2024-12-09T16:34:03.334Z"
   },
   {
    "duration": 0,
    "start_time": "2024-12-09T16:34:03.501Z"
   },
   {
    "duration": 0,
    "start_time": "2024-12-09T16:34:03.502Z"
   },
   {
    "duration": 0,
    "start_time": "2024-12-09T16:34:03.504Z"
   },
   {
    "duration": 528,
    "start_time": "2024-12-09T16:43:35.095Z"
   },
   {
    "duration": 9,
    "start_time": "2024-12-09T16:43:42.728Z"
   },
   {
    "duration": 7076,
    "start_time": "2024-12-09T16:44:06.424Z"
   },
   {
    "duration": 18,
    "start_time": "2024-12-09T16:44:44.248Z"
   },
   {
    "duration": 2838,
    "start_time": "2024-12-09T16:45:06.455Z"
   },
   {
    "duration": 2748,
    "start_time": "2024-12-09T16:45:09.295Z"
   },
   {
    "duration": 1972,
    "start_time": "2024-12-09T16:45:12.045Z"
   },
   {
    "duration": 3,
    "start_time": "2024-12-09T16:45:14.019Z"
   },
   {
    "duration": 25,
    "start_time": "2024-12-09T16:45:14.023Z"
   },
   {
    "duration": 6,
    "start_time": "2024-12-09T16:45:14.049Z"
   },
   {
    "duration": 969,
    "start_time": "2024-12-09T16:45:14.057Z"
   },
   {
    "duration": 71,
    "start_time": "2024-12-09T16:45:15.029Z"
   },
   {
    "duration": 319,
    "start_time": "2024-12-09T16:45:15.102Z"
   },
   {
    "duration": 10,
    "start_time": "2024-12-09T16:45:15.423Z"
   },
   {
    "duration": 392,
    "start_time": "2024-12-09T16:45:15.434Z"
   },
   {
    "duration": 127,
    "start_time": "2024-12-09T16:45:15.828Z"
   },
   {
    "duration": 7177,
    "start_time": "2024-12-09T16:45:15.956Z"
   },
   {
    "duration": 91,
    "start_time": "2024-12-09T16:45:23.134Z"
   },
   {
    "duration": 166,
    "start_time": "2024-12-09T16:45:23.227Z"
   },
   {
    "duration": 0,
    "start_time": "2024-12-09T16:45:23.394Z"
   },
   {
    "duration": 0,
    "start_time": "2024-12-09T16:45:23.396Z"
   },
   {
    "duration": 0,
    "start_time": "2024-12-09T16:45:23.397Z"
   },
   {
    "duration": 0,
    "start_time": "2024-12-09T16:50:07.273Z"
   },
   {
    "duration": 573,
    "start_time": "2024-12-09T16:50:10.412Z"
   },
   {
    "duration": 10,
    "start_time": "2024-12-09T16:50:49.233Z"
   },
   {
    "duration": 62335,
    "start_time": "2024-12-09T16:51:00.387Z"
   },
   {
    "duration": 1875,
    "start_time": "2024-12-09T16:52:02.724Z"
   },
   {
    "duration": 84,
    "start_time": "2024-12-09T16:52:22.604Z"
   },
   {
    "duration": 4,
    "start_time": "2024-12-09T16:56:22.414Z"
   },
   {
    "duration": 7529,
    "start_time": "2024-12-09T17:02:11.604Z"
   },
   {
    "duration": 7564,
    "start_time": "2024-12-09T17:04:37.100Z"
   },
   {
    "duration": 1549,
    "start_time": "2024-12-09T17:07:31.062Z"
   },
   {
    "duration": 415,
    "start_time": "2024-12-09T17:07:50.396Z"
   },
   {
    "duration": 674,
    "start_time": "2024-12-09T17:08:18.428Z"
   },
   {
    "duration": 5,
    "start_time": "2024-12-09T17:09:24.397Z"
   },
   {
    "duration": 6,
    "start_time": "2024-12-09T17:09:32.420Z"
   },
   {
    "duration": 7,
    "start_time": "2024-12-09T17:09:43.534Z"
   },
   {
    "duration": 7466,
    "start_time": "2024-12-09T17:15:42.889Z"
   },
   {
    "duration": 7547,
    "start_time": "2024-12-09T17:17:03.266Z"
   },
   {
    "duration": 7534,
    "start_time": "2024-12-09T17:17:32.985Z"
   },
   {
    "duration": 7327,
    "start_time": "2024-12-09T17:18:09.385Z"
   },
   {
    "duration": 7489,
    "start_time": "2024-12-09T17:18:29.890Z"
   },
   {
    "duration": 7426,
    "start_time": "2024-12-09T17:19:19.738Z"
   },
   {
    "duration": 7304,
    "start_time": "2024-12-09T17:19:44.754Z"
   },
   {
    "duration": 7492,
    "start_time": "2024-12-09T17:20:23.042Z"
   },
   {
    "duration": 7396,
    "start_time": "2024-12-09T17:22:31.455Z"
   },
   {
    "duration": 7452,
    "start_time": "2024-12-09T17:23:06.392Z"
   },
   {
    "duration": 7371,
    "start_time": "2024-12-09T17:23:41.187Z"
   },
   {
    "duration": 98,
    "start_time": "2024-12-09T17:28:52.518Z"
   },
   {
    "duration": 15,
    "start_time": "2024-12-09T17:29:04.615Z"
   },
   {
    "duration": 2795,
    "start_time": "2024-12-09T17:29:21.286Z"
   },
   {
    "duration": 2728,
    "start_time": "2024-12-09T17:29:24.083Z"
   },
   {
    "duration": 1852,
    "start_time": "2024-12-09T17:29:26.813Z"
   },
   {
    "duration": 3,
    "start_time": "2024-12-09T17:29:28.666Z"
   },
   {
    "duration": 13,
    "start_time": "2024-12-09T17:29:28.671Z"
   },
   {
    "duration": 11,
    "start_time": "2024-12-09T17:29:28.686Z"
   },
   {
    "duration": 933,
    "start_time": "2024-12-09T17:29:28.698Z"
   },
   {
    "duration": 74,
    "start_time": "2024-12-09T17:29:29.633Z"
   },
   {
    "duration": 306,
    "start_time": "2024-12-09T17:29:29.709Z"
   },
   {
    "duration": 361,
    "start_time": "2024-12-09T17:29:30.017Z"
   },
   {
    "duration": 39,
    "start_time": "2024-12-09T17:29:30.380Z"
   },
   {
    "duration": 7735,
    "start_time": "2024-12-09T17:29:30.421Z"
   },
   {
    "duration": 105,
    "start_time": "2024-12-09T17:29:38.157Z"
   },
   {
    "duration": 73,
    "start_time": "2024-12-09T17:29:38.265Z"
   },
   {
    "duration": 0,
    "start_time": "2024-12-09T17:29:38.340Z"
   },
   {
    "duration": 0,
    "start_time": "2024-12-09T17:29:38.341Z"
   },
   {
    "duration": 0,
    "start_time": "2024-12-09T17:29:38.342Z"
   },
   {
    "duration": 0,
    "start_time": "2024-12-09T17:29:38.342Z"
   },
   {
    "duration": 0,
    "start_time": "2024-12-09T17:29:38.343Z"
   },
   {
    "duration": 0,
    "start_time": "2024-12-09T17:29:38.345Z"
   },
   {
    "duration": 0,
    "start_time": "2024-12-09T17:29:38.346Z"
   },
   {
    "duration": 0,
    "start_time": "2024-12-09T17:29:38.346Z"
   },
   {
    "duration": 63,
    "start_time": "2024-12-09T17:32:20.137Z"
   },
   {
    "duration": 5994,
    "start_time": "2024-12-09T17:42:49.686Z"
   },
   {
    "duration": 6940,
    "start_time": "2024-12-09T17:44:29.793Z"
   },
   {
    "duration": 6910,
    "start_time": "2024-12-09T17:44:55.543Z"
   },
   {
    "duration": 6922,
    "start_time": "2024-12-09T17:49:30.957Z"
   },
   {
    "duration": 6994,
    "start_time": "2024-12-09T17:49:43.288Z"
   },
   {
    "duration": 4,
    "start_time": "2024-12-09T17:50:37.708Z"
   },
   {
    "duration": 59720,
    "start_time": "2024-12-09T17:50:39.804Z"
   },
   {
    "duration": 76,
    "start_time": "2024-12-09T17:53:04.731Z"
   },
   {
    "duration": 140,
    "start_time": "2024-12-09T17:56:35.463Z"
   },
   {
    "duration": 83,
    "start_time": "2024-12-09T17:56:40.389Z"
   },
   {
    "duration": 78,
    "start_time": "2024-12-09T17:56:51.942Z"
   },
   {
    "duration": 126,
    "start_time": "2024-12-09T17:57:00.844Z"
   },
   {
    "duration": 81,
    "start_time": "2024-12-09T17:57:07.721Z"
   },
   {
    "duration": 83,
    "start_time": "2024-12-09T17:57:18.509Z"
   },
   {
    "duration": 85,
    "start_time": "2024-12-09T17:57:22.605Z"
   },
   {
    "duration": 78,
    "start_time": "2024-12-09T17:57:37.751Z"
   },
   {
    "duration": 80,
    "start_time": "2024-12-09T17:57:45.591Z"
   },
   {
    "duration": 91,
    "start_time": "2024-12-09T17:58:03.818Z"
   },
   {
    "duration": 81,
    "start_time": "2024-12-09T17:58:07.912Z"
   },
   {
    "duration": 82,
    "start_time": "2024-12-09T17:58:11.163Z"
   },
   {
    "duration": 80,
    "start_time": "2024-12-09T17:58:17.054Z"
   },
   {
    "duration": 158,
    "start_time": "2024-12-09T17:58:30.870Z"
   },
   {
    "duration": 157,
    "start_time": "2024-12-09T17:59:00.272Z"
   },
   {
    "duration": 170,
    "start_time": "2024-12-09T17:59:10.014Z"
   },
   {
    "duration": 156,
    "start_time": "2024-12-09T17:59:12.414Z"
   },
   {
    "duration": 154,
    "start_time": "2024-12-09T17:59:16.079Z"
   },
   {
    "duration": 77,
    "start_time": "2024-12-09T17:59:20.809Z"
   },
   {
    "duration": 154,
    "start_time": "2024-12-09T17:59:38.174Z"
   },
   {
    "duration": 153,
    "start_time": "2024-12-09T17:59:42.335Z"
   },
   {
    "duration": 160,
    "start_time": "2024-12-09T17:59:50.200Z"
   },
   {
    "duration": 153,
    "start_time": "2024-12-09T17:59:52.848Z"
   },
   {
    "duration": 149,
    "start_time": "2024-12-09T17:59:57.416Z"
   },
   {
    "duration": 81,
    "start_time": "2024-12-09T18:00:07.727Z"
   },
   {
    "duration": 20,
    "start_time": "2024-12-09T18:00:14.304Z"
   },
   {
    "duration": 20,
    "start_time": "2024-12-09T18:00:16.328Z"
   },
   {
    "duration": 81,
    "start_time": "2024-12-09T18:00:19.911Z"
   },
   {
    "duration": 77,
    "start_time": "2024-12-09T18:00:31.054Z"
   },
   {
    "duration": 74,
    "start_time": "2024-12-09T18:00:51.388Z"
   },
   {
    "duration": 77,
    "start_time": "2024-12-09T18:00:56.466Z"
   },
   {
    "duration": 77,
    "start_time": "2024-12-09T18:01:11.608Z"
   },
   {
    "duration": 146,
    "start_time": "2024-12-09T18:01:14.720Z"
   },
   {
    "duration": 155,
    "start_time": "2024-12-09T18:01:22.144Z"
   },
   {
    "duration": 152,
    "start_time": "2024-12-09T18:01:24.240Z"
   },
   {
    "duration": 145,
    "start_time": "2024-12-09T18:01:26.647Z"
   },
   {
    "duration": 76,
    "start_time": "2024-12-09T18:01:46.216Z"
   },
   {
    "duration": 221,
    "start_time": "2024-12-09T18:02:10.480Z"
   },
   {
    "duration": 76,
    "start_time": "2024-12-09T18:02:27.730Z"
   },
   {
    "duration": 288,
    "start_time": "2024-12-09T18:03:28.531Z"
   },
   {
    "duration": 294,
    "start_time": "2024-12-09T18:03:44.305Z"
   },
   {
    "duration": 289,
    "start_time": "2024-12-09T18:03:53.233Z"
   },
   {
    "duration": 147,
    "start_time": "2024-12-09T18:04:05.053Z"
   },
   {
    "duration": 148,
    "start_time": "2024-12-09T18:04:08.425Z"
   },
   {
    "duration": 151,
    "start_time": "2024-12-09T18:04:20.942Z"
   },
   {
    "duration": 226,
    "start_time": "2024-12-09T18:04:40.496Z"
   },
   {
    "duration": 287,
    "start_time": "2024-12-09T18:04:50.555Z"
   },
   {
    "duration": 281,
    "start_time": "2024-12-09T18:05:00.361Z"
   },
   {
    "duration": 287,
    "start_time": "2024-12-09T18:05:05.643Z"
   },
   {
    "duration": 299,
    "start_time": "2024-12-09T18:05:29.730Z"
   },
   {
    "duration": 4,
    "start_time": "2024-12-09T18:08:48.755Z"
   },
   {
    "duration": 4,
    "start_time": "2024-12-09T18:08:58.504Z"
   },
   {
    "duration": 17,
    "start_time": "2024-12-09T18:12:57.577Z"
   },
   {
    "duration": 17,
    "start_time": "2024-12-09T18:13:08.790Z"
   },
   {
    "duration": 44,
    "start_time": "2024-12-09T18:14:25.862Z"
   },
   {
    "duration": 32,
    "start_time": "2024-12-09T18:14:35.737Z"
   },
   {
    "duration": 31,
    "start_time": "2024-12-09T18:17:12.112Z"
   },
   {
    "duration": 13,
    "start_time": "2024-12-09T18:17:50.640Z"
   },
   {
    "duration": 11,
    "start_time": "2024-12-09T18:18:15.232Z"
   },
   {
    "duration": 13,
    "start_time": "2024-12-09T18:18:24.796Z"
   },
   {
    "duration": 77,
    "start_time": "2024-12-09T18:19:37.618Z"
   },
   {
    "duration": 13,
    "start_time": "2024-12-09T18:20:07.178Z"
   },
   {
    "duration": 16,
    "start_time": "2024-12-09T18:20:27.850Z"
   },
   {
    "duration": 13,
    "start_time": "2024-12-09T18:21:17.754Z"
   },
   {
    "duration": 12,
    "start_time": "2024-12-09T18:21:33.258Z"
   },
   {
    "duration": 5,
    "start_time": "2024-12-09T18:21:38.844Z"
   },
   {
    "duration": 2817,
    "start_time": "2024-12-09T18:22:03.612Z"
   },
   {
    "duration": 2746,
    "start_time": "2024-12-09T18:22:06.431Z"
   },
   {
    "duration": 5,
    "start_time": "2024-12-09T18:22:09.180Z"
   },
   {
    "duration": 27,
    "start_time": "2024-12-09T18:22:09.187Z"
   },
   {
    "duration": 25,
    "start_time": "2024-12-09T18:22:09.217Z"
   },
   {
    "duration": 13,
    "start_time": "2024-12-09T18:22:09.243Z"
   },
   {
    "duration": 873,
    "start_time": "2024-12-09T18:22:09.258Z"
   },
   {
    "duration": 85,
    "start_time": "2024-12-09T18:22:10.133Z"
   },
   {
    "duration": 258,
    "start_time": "2024-12-09T18:22:10.220Z"
   },
   {
    "duration": 1249,
    "start_time": "2024-12-09T18:22:10.480Z"
   },
   {
    "duration": 34,
    "start_time": "2024-12-09T18:22:11.731Z"
   },
   {
    "duration": 7532,
    "start_time": "2024-12-09T18:22:11.766Z"
   },
   {
    "duration": 105,
    "start_time": "2024-12-09T18:22:19.300Z"
   },
   {
    "duration": 6890,
    "start_time": "2024-12-09T18:22:19.408Z"
   },
   {
    "duration": 4,
    "start_time": "2024-12-09T18:22:26.299Z"
   },
   {
    "duration": 114,
    "start_time": "2024-12-09T18:22:26.305Z"
   },
   {
    "duration": 306,
    "start_time": "2024-12-09T18:22:26.421Z"
   },
   {
    "duration": 31,
    "start_time": "2024-12-09T18:22:26.729Z"
   },
   {
    "duration": 127,
    "start_time": "2024-12-09T18:22:26.762Z"
   },
   {
    "duration": 9,
    "start_time": "2024-12-09T18:22:43.771Z"
   },
   {
    "duration": 2719,
    "start_time": "2024-12-09T18:24:00.871Z"
   },
   {
    "duration": 2842,
    "start_time": "2024-12-09T18:24:03.592Z"
   },
   {
    "duration": 5,
    "start_time": "2024-12-09T18:24:06.436Z"
   },
   {
    "duration": 13,
    "start_time": "2024-12-09T18:24:06.442Z"
   },
   {
    "duration": 9,
    "start_time": "2024-12-09T18:24:06.457Z"
   },
   {
    "duration": 23,
    "start_time": "2024-12-09T18:24:06.467Z"
   },
   {
    "duration": 893,
    "start_time": "2024-12-09T18:24:06.491Z"
   },
   {
    "duration": 74,
    "start_time": "2024-12-09T18:24:07.386Z"
   },
   {
    "duration": 246,
    "start_time": "2024-12-09T18:24:07.462Z"
   },
   {
    "duration": 377,
    "start_time": "2024-12-09T18:24:07.710Z"
   },
   {
    "duration": 22,
    "start_time": "2024-12-09T18:24:08.089Z"
   },
   {
    "duration": 7461,
    "start_time": "2024-12-09T18:24:08.113Z"
   },
   {
    "duration": 92,
    "start_time": "2024-12-09T18:24:15.576Z"
   },
   {
    "duration": 7077,
    "start_time": "2024-12-09T18:24:15.670Z"
   },
   {
    "duration": 3,
    "start_time": "2024-12-09T18:24:22.752Z"
   },
   {
    "duration": 78,
    "start_time": "2024-12-09T18:24:22.757Z"
   },
   {
    "duration": 306,
    "start_time": "2024-12-09T18:24:22.836Z"
   },
   {
    "duration": 16,
    "start_time": "2024-12-09T18:24:23.153Z"
   },
   {
    "duration": 139,
    "start_time": "2024-12-09T18:24:23.170Z"
   },
   {
    "duration": 46,
    "start_time": "2024-12-09T19:09:56.280Z"
   },
   {
    "duration": 88,
    "start_time": "2024-12-09T19:10:12.637Z"
   },
   {
    "duration": 92,
    "start_time": "2024-12-09T19:10:18.370Z"
   },
   {
    "duration": 90,
    "start_time": "2024-12-09T19:10:32.987Z"
   },
   {
    "duration": 92,
    "start_time": "2024-12-09T19:10:35.851Z"
   },
   {
    "duration": 90,
    "start_time": "2024-12-09T19:10:40.995Z"
   },
   {
    "duration": 4,
    "start_time": "2024-12-09T19:11:00.283Z"
   },
   {
    "duration": 91,
    "start_time": "2024-12-09T19:11:03.466Z"
   },
   {
    "duration": 114,
    "start_time": "2024-12-09T19:12:28.707Z"
   },
   {
    "duration": 156,
    "start_time": "2024-12-09T19:14:02.734Z"
   },
   {
    "duration": 133,
    "start_time": "2024-12-09T19:14:19.709Z"
   },
   {
    "duration": 134,
    "start_time": "2024-12-09T19:14:29.693Z"
   },
   {
    "duration": 131,
    "start_time": "2024-12-09T19:16:01.022Z"
   },
   {
    "duration": 470,
    "start_time": "2024-12-09T19:18:11.847Z"
   },
   {
    "duration": 2794,
    "start_time": "2024-12-09T19:20:02.527Z"
   },
   {
    "duration": 2805,
    "start_time": "2024-12-09T19:20:05.323Z"
   },
   {
    "duration": 1800,
    "start_time": "2024-12-09T19:20:08.130Z"
   },
   {
    "duration": 2,
    "start_time": "2024-12-09T19:20:09.932Z"
   },
   {
    "duration": 51,
    "start_time": "2024-12-09T19:20:09.936Z"
   },
   {
    "duration": 16,
    "start_time": "2024-12-09T19:20:09.989Z"
   },
   {
    "duration": 944,
    "start_time": "2024-12-09T19:20:10.006Z"
   },
   {
    "duration": 66,
    "start_time": "2024-12-09T19:20:10.953Z"
   },
   {
    "duration": 1161,
    "start_time": "2024-12-09T19:20:11.021Z"
   },
   {
    "duration": 269,
    "start_time": "2024-12-09T19:20:12.184Z"
   },
   {
    "duration": 341,
    "start_time": "2024-12-09T19:20:12.455Z"
   },
   {
    "duration": 34,
    "start_time": "2024-12-09T19:20:12.798Z"
   },
   {
    "duration": 7687,
    "start_time": "2024-12-09T19:20:12.834Z"
   },
   {
    "duration": 103,
    "start_time": "2024-12-09T19:20:20.523Z"
   },
   {
    "duration": 2,
    "start_time": "2024-12-09T19:20:20.627Z"
   },
   {
    "duration": 490,
    "start_time": "2024-12-09T19:20:20.631Z"
   },
   {
    "duration": 81,
    "start_time": "2024-12-09T19:20:21.123Z"
   },
   {
    "duration": 305,
    "start_time": "2024-12-09T19:20:21.206Z"
   },
   {
    "duration": 222,
    "start_time": "2024-12-09T19:20:21.513Z"
   },
   {
    "duration": 17,
    "start_time": "2024-12-09T19:20:21.736Z"
   },
   {
    "duration": 494,
    "start_time": "2024-12-09T19:20:21.754Z"
   },
   {
    "duration": 54,
    "start_time": "2024-12-09T19:20:22.252Z"
   },
   {
    "duration": 607,
    "start_time": "2024-12-09T19:20:22.307Z"
   },
   {
    "duration": 0,
    "start_time": "2024-12-09T19:20:22.915Z"
   },
   {
    "duration": 0,
    "start_time": "2024-12-09T19:20:22.916Z"
   },
   {
    "duration": 0,
    "start_time": "2024-12-09T19:20:22.917Z"
   },
   {
    "duration": 0,
    "start_time": "2024-12-09T19:20:22.918Z"
   },
   {
    "duration": 0,
    "start_time": "2024-12-09T19:20:22.919Z"
   },
   {
    "duration": 165,
    "start_time": "2024-12-09T19:25:45.400Z"
   },
   {
    "duration": 166,
    "start_time": "2024-12-09T19:25:51.050Z"
   },
   {
    "duration": 4,
    "start_time": "2024-12-09T19:26:43.291Z"
   },
   {
    "duration": 644,
    "start_time": "2024-12-09T19:26:45.172Z"
   },
   {
    "duration": 4,
    "start_time": "2024-12-09T19:26:57.343Z"
   },
   {
    "duration": 656,
    "start_time": "2024-12-09T19:27:00.003Z"
   },
   {
    "duration": 4,
    "start_time": "2024-12-09T19:27:09.139Z"
   },
   {
    "duration": 640,
    "start_time": "2024-12-09T19:27:11.627Z"
   },
   {
    "duration": 180,
    "start_time": "2024-12-09T19:27:50.941Z"
   },
   {
    "duration": 16,
    "start_time": "2024-12-09T19:27:56.341Z"
   },
   {
    "duration": 202,
    "start_time": "2024-12-09T19:28:33.957Z"
   },
   {
    "duration": 215,
    "start_time": "2024-12-09T19:28:42.614Z"
   },
   {
    "duration": 210,
    "start_time": "2024-12-09T19:28:47.468Z"
   },
   {
    "duration": 395,
    "start_time": "2024-12-09T19:29:00.053Z"
   },
   {
    "duration": 133,
    "start_time": "2024-12-09T19:29:13.422Z"
   },
   {
    "duration": 4,
    "start_time": "2024-12-09T19:29:38.269Z"
   },
   {
    "duration": 106,
    "start_time": "2024-12-09T19:30:06.717Z"
   },
   {
    "duration": 5,
    "start_time": "2024-12-09T19:30:41.797Z"
   },
   {
    "duration": 26,
    "start_time": "2024-12-09T19:30:46.413Z"
   },
   {
    "duration": 28,
    "start_time": "2024-12-09T19:31:22.589Z"
   },
   {
    "duration": 28,
    "start_time": "2024-12-09T19:31:28.026Z"
   },
   {
    "duration": 29,
    "start_time": "2024-12-09T19:31:30.693Z"
   },
   {
    "duration": 27,
    "start_time": "2024-12-09T19:31:34.837Z"
   },
   {
    "duration": 29,
    "start_time": "2024-12-09T19:31:41.567Z"
   },
   {
    "duration": 43,
    "start_time": "2024-12-09T19:32:17.590Z"
   },
   {
    "duration": 4,
    "start_time": "2024-12-09T19:33:03.407Z"
   },
   {
    "duration": 108,
    "start_time": "2024-12-09T19:33:07.966Z"
   },
   {
    "duration": 30,
    "start_time": "2024-12-09T19:33:34.439Z"
   },
   {
    "duration": 111,
    "start_time": "2024-12-09T19:36:49.681Z"
   },
   {
    "duration": 10,
    "start_time": "2024-12-09T19:37:54.100Z"
   },
   {
    "duration": 19,
    "start_time": "2024-12-09T19:38:33.898Z"
   },
   {
    "duration": 5,
    "start_time": "2024-12-09T19:38:39.985Z"
   },
   {
    "duration": 17,
    "start_time": "2024-12-09T19:38:52.322Z"
   },
   {
    "duration": 16,
    "start_time": "2024-12-09T19:38:56.314Z"
   },
   {
    "duration": 34,
    "start_time": "2024-12-09T19:39:11.345Z"
   },
   {
    "duration": 32,
    "start_time": "2024-12-09T19:40:05.869Z"
   },
   {
    "duration": 30,
    "start_time": "2024-12-09T19:42:48.440Z"
   },
   {
    "duration": 55707,
    "start_time": "2024-12-09T19:58:26.670Z"
   },
   {
    "duration": 5,
    "start_time": "2024-12-09T20:03:03.450Z"
   },
   {
    "duration": 9,
    "start_time": "2024-12-09T20:03:08.622Z"
   },
   {
    "duration": 83,
    "start_time": "2024-12-09T20:03:15.287Z"
   },
   {
    "duration": 389,
    "start_time": "2024-12-09T20:05:11.997Z"
   },
   {
    "duration": 5,
    "start_time": "2024-12-09T20:06:02.521Z"
   },
   {
    "duration": 440,
    "start_time": "2024-12-09T20:06:03.921Z"
   },
   {
    "duration": 6,
    "start_time": "2024-12-09T20:06:19.702Z"
   },
   {
    "duration": 1623,
    "start_time": "2024-12-09T20:06:22.066Z"
   },
   {
    "duration": 16,
    "start_time": "2024-12-09T20:06:36.241Z"
   },
   {
    "duration": 5,
    "start_time": "2024-12-09T20:06:42.745Z"
   },
   {
    "duration": 403,
    "start_time": "2024-12-09T20:06:44.250Z"
   },
   {
    "duration": 4,
    "start_time": "2024-12-09T20:06:58.558Z"
   },
   {
    "duration": 425,
    "start_time": "2024-12-09T20:06:59.832Z"
   },
   {
    "duration": 5,
    "start_time": "2024-12-09T20:12:03.347Z"
   },
   {
    "duration": 9,
    "start_time": "2024-12-09T20:12:18.554Z"
   },
   {
    "duration": 5,
    "start_time": "2024-12-09T20:12:55.325Z"
   },
   {
    "duration": 158,
    "start_time": "2024-12-09T20:13:03.301Z"
   },
   {
    "duration": 5,
    "start_time": "2024-12-09T20:13:14.374Z"
   },
   {
    "duration": 396,
    "start_time": "2024-12-09T20:13:15.901Z"
   },
   {
    "duration": 7,
    "start_time": "2024-12-09T20:13:25.672Z"
   },
   {
    "duration": 8,
    "start_time": "2024-12-09T20:13:34.230Z"
   },
   {
    "duration": 425,
    "start_time": "2024-12-09T20:13:36.950Z"
   },
   {
    "duration": 69,
    "start_time": "2024-12-09T20:14:01.963Z"
   },
   {
    "duration": 11,
    "start_time": "2024-12-09T20:14:33.126Z"
   },
   {
    "duration": 1715,
    "start_time": "2024-12-09T20:14:38.089Z"
   },
   {
    "duration": 1732,
    "start_time": "2024-12-09T20:15:05.297Z"
   },
   {
    "duration": 1630,
    "start_time": "2024-12-09T20:17:04.361Z"
   },
   {
    "duration": 1773,
    "start_time": "2024-12-09T20:17:22.486Z"
   },
   {
    "duration": 1793,
    "start_time": "2024-12-09T20:19:49.160Z"
   },
   {
    "duration": 5,
    "start_time": "2024-12-09T20:20:20.257Z"
   },
   {
    "duration": 1842,
    "start_time": "2024-12-09T20:20:26.582Z"
   },
   {
    "duration": 3,
    "start_time": "2024-12-09T20:23:48.505Z"
   },
   {
    "duration": 276,
    "start_time": "2024-12-09T20:24:21.793Z"
   },
   {
    "duration": 4761,
    "start_time": "2024-12-09T20:26:20.245Z"
   },
   {
    "duration": 6,
    "start_time": "2024-12-09T21:37:06.980Z"
   },
   {
    "duration": 9,
    "start_time": "2024-12-09T21:37:39.578Z"
   },
   {
    "duration": 26,
    "start_time": "2024-12-09T21:41:50.327Z"
   },
   {
    "duration": 14,
    "start_time": "2024-12-09T21:41:56.988Z"
   },
   {
    "duration": 10,
    "start_time": "2024-12-09T21:42:45.286Z"
   },
   {
    "duration": 25,
    "start_time": "2024-12-09T21:42:52.478Z"
   },
   {
    "duration": 28,
    "start_time": "2024-12-09T21:42:54.974Z"
   },
   {
    "duration": 28,
    "start_time": "2024-12-09T21:42:57.941Z"
   },
   {
    "duration": 1076,
    "start_time": "2024-12-09T21:43:10.630Z"
   },
   {
    "duration": 965,
    "start_time": "2024-12-09T21:43:15.660Z"
   },
   {
    "duration": 974,
    "start_time": "2024-12-09T21:45:29.713Z"
   },
   {
    "duration": 952,
    "start_time": "2024-12-09T21:45:45.358Z"
   },
   {
    "duration": 11,
    "start_time": "2024-12-09T21:47:16.956Z"
   },
   {
    "duration": 20,
    "start_time": "2024-12-09T21:47:29.464Z"
   },
   {
    "duration": 1768,
    "start_time": "2024-12-09T21:47:40.072Z"
   },
   {
    "duration": 3,
    "start_time": "2024-12-09T21:49:41.706Z"
   },
   {
    "duration": 253,
    "start_time": "2024-12-09T21:49:51.304Z"
   },
   {
    "duration": 42,
    "start_time": "2024-12-09T21:49:56.105Z"
   },
   {
    "duration": 3,
    "start_time": "2024-12-09T21:50:03.544Z"
   },
   {
    "duration": 552,
    "start_time": "2024-12-09T21:50:05.838Z"
   },
   {
    "duration": 3,
    "start_time": "2024-12-09T21:50:50.945Z"
   },
   {
    "duration": 219,
    "start_time": "2024-12-09T21:50:51.745Z"
   },
   {
    "duration": 4,
    "start_time": "2024-12-09T21:51:09.281Z"
   },
   {
    "duration": 3,
    "start_time": "2024-12-09T21:51:14.657Z"
   },
   {
    "duration": 1785,
    "start_time": "2024-12-09T21:51:16.105Z"
   },
   {
    "duration": 950,
    "start_time": "2024-12-09T21:51:22.417Z"
   },
   {
    "duration": 3,
    "start_time": "2024-12-09T21:53:58.698Z"
   },
   {
    "duration": 924,
    "start_time": "2024-12-09T21:54:10.013Z"
   },
   {
    "duration": 6,
    "start_time": "2024-12-09T21:54:34.963Z"
   },
   {
    "duration": 1036,
    "start_time": "2024-12-09T21:54:44.660Z"
   },
   {
    "duration": 4,
    "start_time": "2024-12-09T21:56:29.883Z"
   },
   {
    "duration": 28,
    "start_time": "2024-12-09T21:56:36.908Z"
   },
   {
    "duration": 30,
    "start_time": "2024-12-09T21:56:48.558Z"
   },
   {
    "duration": 29,
    "start_time": "2024-12-09T21:56:51.035Z"
   },
   {
    "duration": 29,
    "start_time": "2024-12-09T21:56:59.139Z"
   },
   {
    "duration": 30,
    "start_time": "2024-12-09T21:57:03.539Z"
   },
   {
    "duration": 28,
    "start_time": "2024-12-09T21:57:08.867Z"
   },
   {
    "duration": 65,
    "start_time": "2024-12-09T21:57:38.269Z"
   },
   {
    "duration": 67,
    "start_time": "2024-12-09T21:57:42.100Z"
   },
   {
    "duration": 68,
    "start_time": "2024-12-09T21:57:48.797Z"
   },
   {
    "duration": 68,
    "start_time": "2024-12-09T21:57:51.700Z"
   },
   {
    "duration": 29,
    "start_time": "2024-12-09T21:58:00.796Z"
   },
   {
    "duration": 28,
    "start_time": "2024-12-09T21:58:18.550Z"
   },
   {
    "duration": 28,
    "start_time": "2024-12-09T21:58:23.245Z"
   },
   {
    "duration": 26,
    "start_time": "2024-12-09T21:58:27.145Z"
   },
   {
    "duration": 28,
    "start_time": "2024-12-09T21:58:37.805Z"
   },
   {
    "duration": 28,
    "start_time": "2024-12-09T21:58:40.395Z"
   },
   {
    "duration": 27,
    "start_time": "2024-12-09T21:58:47.813Z"
   },
   {
    "duration": 27,
    "start_time": "2024-12-09T21:58:57.867Z"
   },
   {
    "duration": 34,
    "start_time": "2024-12-09T21:59:07.540Z"
   },
   {
    "duration": 27,
    "start_time": "2024-12-09T21:59:38.541Z"
   },
   {
    "duration": 28,
    "start_time": "2024-12-09T21:59:50.948Z"
   },
   {
    "duration": 27,
    "start_time": "2024-12-09T21:59:57.186Z"
   },
   {
    "duration": 30,
    "start_time": "2024-12-09T22:01:34.205Z"
   },
   {
    "duration": 29,
    "start_time": "2024-12-09T22:01:38.255Z"
   },
   {
    "duration": 332,
    "start_time": "2024-12-09T22:02:53.950Z"
   },
   {
    "duration": 331,
    "start_time": "2024-12-09T22:03:22.166Z"
   },
   {
    "duration": 325,
    "start_time": "2024-12-09T22:03:28.643Z"
   },
   {
    "duration": 329,
    "start_time": "2024-12-09T22:03:35.495Z"
   },
   {
    "duration": 331,
    "start_time": "2024-12-09T22:03:50.847Z"
   },
   {
    "duration": 337,
    "start_time": "2024-12-09T22:04:13.023Z"
   },
   {
    "duration": 325,
    "start_time": "2024-12-09T22:04:16.105Z"
   },
   {
    "duration": 389,
    "start_time": "2024-12-09T22:05:32.039Z"
   },
   {
    "duration": 390,
    "start_time": "2024-12-09T22:05:36.431Z"
   },
   {
    "duration": 416,
    "start_time": "2024-12-09T22:05:43.767Z"
   },
   {
    "duration": 444,
    "start_time": "2024-12-09T22:05:52.264Z"
   },
   {
    "duration": 481,
    "start_time": "2024-12-09T22:07:36.365Z"
   },
   {
    "duration": 492,
    "start_time": "2024-12-09T22:07:40.921Z"
   },
   {
    "duration": 482,
    "start_time": "2024-12-09T22:07:43.113Z"
   },
   {
    "duration": 54,
    "start_time": "2024-12-09T22:09:42.130Z"
   },
   {
    "duration": 52,
    "start_time": "2024-12-09T22:09:53.210Z"
   },
   {
    "duration": 33,
    "start_time": "2024-12-09T22:10:04.042Z"
   },
   {
    "duration": 33,
    "start_time": "2024-12-09T22:10:08.316Z"
   },
   {
    "duration": 54,
    "start_time": "2024-12-09T22:10:10.882Z"
   },
   {
    "duration": 54,
    "start_time": "2024-12-09T22:10:25.346Z"
   },
   {
    "duration": 51,
    "start_time": "2024-12-09T22:10:31.108Z"
   },
   {
    "duration": 53,
    "start_time": "2024-12-09T22:10:39.289Z"
   },
   {
    "duration": 53,
    "start_time": "2024-12-09T22:10:53.747Z"
   },
   {
    "duration": 52,
    "start_time": "2024-12-09T22:11:13.809Z"
   },
   {
    "duration": 4,
    "start_time": "2024-12-09T22:11:30.855Z"
   },
   {
    "duration": 54,
    "start_time": "2024-12-09T22:11:40.914Z"
   },
   {
    "duration": 51,
    "start_time": "2024-12-09T22:11:47.428Z"
   },
   {
    "duration": 53,
    "start_time": "2024-12-09T22:11:50.778Z"
   },
   {
    "duration": 53,
    "start_time": "2024-12-09T22:14:42.486Z"
   },
   {
    "duration": 29,
    "start_time": "2024-12-09T22:15:16.941Z"
   },
   {
    "duration": 28,
    "start_time": "2024-12-09T22:15:40.653Z"
   },
   {
    "duration": 30,
    "start_time": "2024-12-09T22:15:50.572Z"
   },
   {
    "duration": 31,
    "start_time": "2024-12-09T22:15:59.388Z"
   },
   {
    "duration": 3,
    "start_time": "2024-12-09T22:18:13.830Z"
   },
   {
    "duration": 30,
    "start_time": "2024-12-09T22:18:16.808Z"
   },
   {
    "duration": 29,
    "start_time": "2024-12-09T22:18:22.142Z"
   },
   {
    "duration": 405,
    "start_time": "2024-12-09T22:18:38.694Z"
   },
   {
    "duration": 31,
    "start_time": "2024-12-09T22:18:42.934Z"
   },
   {
    "duration": 29,
    "start_time": "2024-12-09T22:18:49.991Z"
   },
   {
    "duration": 28,
    "start_time": "2024-12-09T22:18:53.633Z"
   },
   {
    "duration": 29,
    "start_time": "2024-12-09T22:18:56.957Z"
   },
   {
    "duration": 29,
    "start_time": "2024-12-09T22:19:01.054Z"
   },
   {
    "duration": 10,
    "start_time": "2024-12-09T22:19:21.365Z"
   },
   {
    "duration": 33,
    "start_time": "2024-12-09T22:19:33.168Z"
   },
   {
    "duration": 57,
    "start_time": "2024-12-09T22:20:07.135Z"
   },
   {
    "duration": 60,
    "start_time": "2024-12-09T22:20:11.049Z"
   },
   {
    "duration": 58,
    "start_time": "2024-12-09T22:20:13.439Z"
   },
   {
    "duration": 61,
    "start_time": "2024-12-09T22:20:30.582Z"
   },
   {
    "duration": 30,
    "start_time": "2024-12-09T22:20:52.943Z"
   },
   {
    "duration": 52,
    "start_time": "2024-12-09T22:23:10.185Z"
   },
   {
    "duration": 55,
    "start_time": "2024-12-09T22:23:17.760Z"
   },
   {
    "duration": 52,
    "start_time": "2024-12-09T22:23:30.811Z"
   },
   {
    "duration": 105,
    "start_time": "2024-12-09T22:23:49.921Z"
   },
   {
    "duration": 110,
    "start_time": "2024-12-09T22:24:11.285Z"
   },
   {
    "duration": 108,
    "start_time": "2024-12-09T22:24:27.018Z"
   },
   {
    "duration": 540,
    "start_time": "2024-12-09T22:25:29.179Z"
   },
   {
    "duration": 579,
    "start_time": "2024-12-09T22:25:33.489Z"
   },
   {
    "duration": 536,
    "start_time": "2024-12-09T22:25:35.729Z"
   },
   {
    "duration": 8,
    "start_time": "2024-12-09T22:32:02.414Z"
   },
   {
    "duration": 7,
    "start_time": "2024-12-09T22:32:06.068Z"
   },
   {
    "duration": 9,
    "start_time": "2024-12-09T22:32:10.139Z"
   },
   {
    "duration": 9,
    "start_time": "2024-12-09T22:32:20.020Z"
   },
   {
    "duration": 9,
    "start_time": "2024-12-09T22:32:23.157Z"
   },
   {
    "duration": 8,
    "start_time": "2024-12-09T22:32:58.900Z"
   },
   {
    "duration": 6,
    "start_time": "2024-12-09T22:33:11.069Z"
   },
   {
    "duration": 5,
    "start_time": "2024-12-09T22:33:20.244Z"
   },
   {
    "duration": 4,
    "start_time": "2024-12-09T22:33:25.916Z"
   },
   {
    "duration": 5,
    "start_time": "2024-12-09T22:33:30.781Z"
   },
   {
    "duration": 4,
    "start_time": "2024-12-09T22:33:47.253Z"
   },
   {
    "duration": 5,
    "start_time": "2024-12-09T22:33:56.957Z"
   },
   {
    "duration": 4,
    "start_time": "2024-12-09T22:34:18.025Z"
   },
   {
    "duration": 4,
    "start_time": "2024-12-09T22:34:22.237Z"
   },
   {
    "duration": 4,
    "start_time": "2024-12-09T22:34:24.791Z"
   },
   {
    "duration": 5,
    "start_time": "2024-12-09T22:34:28.285Z"
   },
   {
    "duration": 5,
    "start_time": "2024-12-09T22:35:16.863Z"
   },
   {
    "duration": 5,
    "start_time": "2024-12-09T22:35:23.797Z"
   },
   {
    "duration": 5,
    "start_time": "2024-12-09T22:35:34.261Z"
   },
   {
    "duration": 5,
    "start_time": "2024-12-09T22:35:41.350Z"
   },
   {
    "duration": 5,
    "start_time": "2024-12-09T22:35:44.488Z"
   },
   {
    "duration": 5,
    "start_time": "2024-12-09T22:36:16.814Z"
   },
   {
    "duration": 4,
    "start_time": "2024-12-09T22:36:34.177Z"
   },
   {
    "duration": 5,
    "start_time": "2024-12-09T22:40:28.208Z"
   },
   {
    "duration": 5,
    "start_time": "2024-12-09T22:40:30.008Z"
   },
   {
    "duration": 5,
    "start_time": "2024-12-09T22:40:34.552Z"
   },
   {
    "duration": 4,
    "start_time": "2024-12-09T22:40:38.577Z"
   },
   {
    "duration": 2,
    "start_time": "2024-12-09T22:41:26.105Z"
   },
   {
    "duration": 22,
    "start_time": "2024-12-09T22:41:53.849Z"
   },
   {
    "duration": 28,
    "start_time": "2024-12-09T22:42:20.273Z"
   },
   {
    "duration": 4,
    "start_time": "2024-12-09T22:45:19.492Z"
   },
   {
    "duration": 1259,
    "start_time": "2024-12-09T22:45:51.811Z"
   },
   {
    "duration": 5,
    "start_time": "2024-12-09T22:45:56.307Z"
   },
   {
    "duration": 15,
    "start_time": "2024-12-09T22:46:02.765Z"
   },
   {
    "duration": 6,
    "start_time": "2024-12-09T22:46:17.750Z"
   },
   {
    "duration": 71,
    "start_time": "2024-12-09T22:46:20.724Z"
   },
   {
    "duration": 5,
    "start_time": "2024-12-09T22:46:24.683Z"
   },
   {
    "duration": 5,
    "start_time": "2024-12-09T22:46:30.588Z"
   },
   {
    "duration": 4,
    "start_time": "2024-12-09T22:46:33.827Z"
   },
   {
    "duration": 5,
    "start_time": "2024-12-09T22:46:40.788Z"
   },
   {
    "duration": 6,
    "start_time": "2024-12-09T22:46:43.340Z"
   },
   {
    "duration": 5,
    "start_time": "2024-12-09T22:46:46.131Z"
   },
   {
    "duration": 4,
    "start_time": "2024-12-09T22:46:50.542Z"
   },
   {
    "duration": 4,
    "start_time": "2024-12-09T22:47:18.912Z"
   },
   {
    "duration": 4,
    "start_time": "2024-12-09T22:48:43.245Z"
   },
   {
    "duration": 5,
    "start_time": "2024-12-09T22:48:45.748Z"
   },
   {
    "duration": 4,
    "start_time": "2024-12-09T22:49:30.263Z"
   },
   {
    "duration": 4,
    "start_time": "2024-12-09T22:49:38.069Z"
   },
   {
    "duration": 4,
    "start_time": "2024-12-09T22:49:53.582Z"
   },
   {
    "duration": 4,
    "start_time": "2024-12-09T22:50:21.582Z"
   },
   {
    "duration": 19,
    "start_time": "2024-12-09T22:50:52.270Z"
   },
   {
    "duration": 2,
    "start_time": "2024-12-09T22:51:06.935Z"
   },
   {
    "duration": 358,
    "start_time": "2024-12-09T22:51:37.673Z"
   },
   {
    "duration": 300,
    "start_time": "2024-12-09T22:52:06.360Z"
   },
   {
    "duration": 1480,
    "start_time": "2024-12-09T22:52:13.320Z"
   },
   {
    "duration": 1558,
    "start_time": "2024-12-09T22:52:34.209Z"
   },
   {
    "duration": 6,
    "start_time": "2024-12-09T22:53:16.543Z"
   },
   {
    "duration": 30,
    "start_time": "2024-12-09T22:53:35.639Z"
   },
   {
    "duration": 87,
    "start_time": "2024-12-09T22:53:45.712Z"
   },
   {
    "duration": 3,
    "start_time": "2024-12-09T22:53:48.855Z"
   },
   {
    "duration": 340,
    "start_time": "2024-12-09T22:53:55.089Z"
   },
   {
    "duration": 4,
    "start_time": "2024-12-09T22:54:49.755Z"
   },
   {
    "duration": 5,
    "start_time": "2024-12-09T22:57:50.380Z"
   },
   {
    "duration": 5,
    "start_time": "2024-12-09T22:57:53.617Z"
   },
   {
    "duration": 5,
    "start_time": "2024-12-09T22:57:58.481Z"
   },
   {
    "duration": 5,
    "start_time": "2024-12-09T22:58:05.931Z"
   },
   {
    "duration": 5,
    "start_time": "2024-12-09T22:58:10.273Z"
   },
   {
    "duration": 4,
    "start_time": "2024-12-09T22:58:15.745Z"
   },
   {
    "duration": 72,
    "start_time": "2024-12-09T23:01:15.165Z"
   },
   {
    "duration": 5,
    "start_time": "2024-12-09T23:01:18.884Z"
   },
   {
    "duration": 9,
    "start_time": "2024-12-09T23:01:55.077Z"
   },
   {
    "duration": 3,
    "start_time": "2024-12-09T23:02:41.583Z"
   },
   {
    "duration": 9,
    "start_time": "2024-12-09T23:02:44.252Z"
   },
   {
    "duration": 6,
    "start_time": "2024-12-09T23:02:53.068Z"
   },
   {
    "duration": 7,
    "start_time": "2024-12-09T23:02:59.805Z"
   },
   {
    "duration": 8,
    "start_time": "2024-12-09T23:03:06.544Z"
   },
   {
    "duration": 9,
    "start_time": "2024-12-09T23:03:33.444Z"
   },
   {
    "duration": 8,
    "start_time": "2024-12-09T23:03:41.949Z"
   },
   {
    "duration": 8,
    "start_time": "2024-12-09T23:03:49.469Z"
   },
   {
    "duration": 8,
    "start_time": "2024-12-09T23:03:52.583Z"
   },
   {
    "duration": 7,
    "start_time": "2024-12-09T23:03:56.925Z"
   },
   {
    "duration": 8,
    "start_time": "2024-12-09T23:04:02.665Z"
   },
   {
    "duration": 5,
    "start_time": "2024-12-09T23:04:19.757Z"
   },
   {
    "duration": 5,
    "start_time": "2024-12-09T23:04:25.997Z"
   },
   {
    "duration": 4,
    "start_time": "2024-12-09T23:04:54.535Z"
   },
   {
    "duration": 5,
    "start_time": "2024-12-09T23:04:57.991Z"
   },
   {
    "duration": 5,
    "start_time": "2024-12-09T23:05:05.909Z"
   },
   {
    "duration": 5,
    "start_time": "2024-12-09T23:05:10.861Z"
   },
   {
    "duration": 5,
    "start_time": "2024-12-09T23:05:13.946Z"
   },
   {
    "duration": 4,
    "start_time": "2024-12-09T23:05:21.014Z"
   },
   {
    "duration": 7,
    "start_time": "2024-12-09T23:06:05.330Z"
   },
   {
    "duration": 4,
    "start_time": "2024-12-09T23:06:12.342Z"
   },
   {
    "duration": 58,
    "start_time": "2024-12-09T23:06:23.718Z"
   },
   {
    "duration": 30,
    "start_time": "2024-12-09T23:07:13.382Z"
   },
   {
    "duration": 423,
    "start_time": "2024-12-09T23:07:41.422Z"
   },
   {
    "duration": 262,
    "start_time": "2024-12-09T23:08:01.939Z"
   },
   {
    "duration": 228,
    "start_time": "2024-12-09T23:08:07.695Z"
   },
   {
    "duration": 241,
    "start_time": "2024-12-09T23:08:14.983Z"
   },
   {
    "duration": 21,
    "start_time": "2024-12-09T23:08:29.488Z"
   },
   {
    "duration": 1614,
    "start_time": "2024-12-09T23:09:25.553Z"
   },
   {
    "duration": 1611,
    "start_time": "2024-12-09T23:10:26.587Z"
   },
   {
    "duration": 23,
    "start_time": "2024-12-09T23:10:40.813Z"
   },
   {
    "duration": 1611,
    "start_time": "2024-12-09T23:10:44.321Z"
   },
   {
    "duration": 9,
    "start_time": "2024-12-09T23:10:47.409Z"
   },
   {
    "duration": 15,
    "start_time": "2024-12-09T23:10:49.688Z"
   },
   {
    "duration": 11,
    "start_time": "2024-12-09T23:12:07.257Z"
   },
   {
    "duration": 19,
    "start_time": "2024-12-09T23:12:13.657Z"
   },
   {
    "duration": 44,
    "start_time": "2024-12-09T23:12:42.437Z"
   },
   {
    "duration": 24,
    "start_time": "2024-12-09T23:12:55.338Z"
   },
   {
    "duration": 24,
    "start_time": "2024-12-09T23:13:07.997Z"
   },
   {
    "duration": 923,
    "start_time": "2024-12-09T23:13:58.418Z"
   },
   {
    "duration": 443,
    "start_time": "2024-12-09T23:14:14.074Z"
   },
   {
    "duration": 94,
    "start_time": "2024-12-09T23:14:22.174Z"
   },
   {
    "duration": 3,
    "start_time": "2024-12-09T23:17:37.565Z"
   },
   {
    "duration": 5,
    "start_time": "2024-12-09T23:18:03.903Z"
   },
   {
    "duration": 3597,
    "start_time": "2024-12-10T18:13:34.799Z"
   },
   {
    "duration": 4253,
    "start_time": "2024-12-10T18:13:38.399Z"
   },
   {
    "duration": 2229,
    "start_time": "2024-12-10T18:13:42.654Z"
   },
   {
    "duration": 2,
    "start_time": "2024-12-10T18:13:44.885Z"
   },
   {
    "duration": 7,
    "start_time": "2024-12-10T18:13:44.889Z"
   },
   {
    "duration": 6,
    "start_time": "2024-12-10T18:13:44.898Z"
   },
   {
    "duration": 18,
    "start_time": "2024-12-10T18:13:44.905Z"
   },
   {
    "duration": 3239,
    "start_time": "2024-12-10T18:13:44.925Z"
   },
   {
    "duration": 78,
    "start_time": "2024-12-10T18:13:48.165Z"
   },
   {
    "duration": 1998,
    "start_time": "2024-12-10T18:13:48.246Z"
   },
   {
    "duration": 299,
    "start_time": "2024-12-10T18:13:50.246Z"
   },
   {
    "duration": 413,
    "start_time": "2024-12-10T18:13:50.546Z"
   },
   {
    "duration": 39,
    "start_time": "2024-12-10T18:13:50.960Z"
   },
   {
    "duration": 9217,
    "start_time": "2024-12-10T18:13:51.000Z"
   },
   {
    "duration": 147,
    "start_time": "2024-12-10T18:14:00.218Z"
   },
   {
    "duration": 2,
    "start_time": "2024-12-10T18:14:00.367Z"
   },
   {
    "duration": 164,
    "start_time": "2024-12-10T18:14:00.371Z"
   },
   {
    "duration": 502,
    "start_time": "2024-12-10T18:14:00.537Z"
   },
   {
    "duration": 308,
    "start_time": "2024-12-10T18:14:01.043Z"
   },
   {
    "duration": 694,
    "start_time": "2024-12-10T18:14:01.353Z"
   },
   {
    "duration": 360,
    "start_time": "2024-12-10T18:14:02.049Z"
   },
   {
    "duration": 134,
    "start_time": "2024-12-10T18:14:02.412Z"
   },
   {
    "duration": 46,
    "start_time": "2024-12-10T18:14:02.550Z"
   },
   {
    "duration": 2325,
    "start_time": "2024-12-10T18:14:02.598Z"
   },
   {
    "duration": 10,
    "start_time": "2024-12-10T18:14:04.934Z"
   },
   {
    "duration": 38,
    "start_time": "2024-12-10T18:14:04.946Z"
   },
   {
    "duration": 6,
    "start_time": "2024-12-10T18:14:04.986Z"
   },
   {
    "duration": 27,
    "start_time": "2024-12-10T18:14:04.996Z"
   },
   {
    "duration": 463,
    "start_time": "2024-12-10T18:14:05.033Z"
   },
   {
    "duration": 44,
    "start_time": "2024-12-10T18:14:05.498Z"
   },
   {
    "duration": 1109,
    "start_time": "2024-12-10T18:14:05.544Z"
   },
   {
    "duration": 600,
    "start_time": "2024-12-10T18:14:06.655Z"
   },
   {
    "duration": 130,
    "start_time": "2024-12-10T18:14:07.256Z"
   },
   {
    "duration": 11,
    "start_time": "2024-12-10T18:20:31.267Z"
   },
   {
    "duration": 11,
    "start_time": "2024-12-10T18:26:25.087Z"
   },
   {
    "duration": 82,
    "start_time": "2024-12-10T18:26:30.315Z"
   },
   {
    "duration": 24,
    "start_time": "2024-12-10T18:26:44.561Z"
   },
   {
    "duration": 33,
    "start_time": "2024-12-10T18:26:54.257Z"
   },
   {
    "duration": 3,
    "start_time": "2024-12-10T18:27:17.506Z"
   },
   {
    "duration": 18,
    "start_time": "2024-12-10T18:27:19.700Z"
   },
   {
    "duration": 24,
    "start_time": "2024-12-10T18:28:00.098Z"
   },
   {
    "duration": 29,
    "start_time": "2024-12-10T18:28:10.449Z"
   },
   {
    "duration": 9,
    "start_time": "2024-12-10T18:28:16.142Z"
   },
   {
    "duration": 15,
    "start_time": "2024-12-10T18:28:36.042Z"
   },
   {
    "duration": 19,
    "start_time": "2024-12-10T18:29:09.157Z"
   },
   {
    "duration": 27,
    "start_time": "2024-12-10T18:29:21.515Z"
   },
   {
    "duration": 18,
    "start_time": "2024-12-10T18:29:51.099Z"
   },
   {
    "duration": 19,
    "start_time": "2024-12-10T18:29:56.243Z"
   },
   {
    "duration": 18,
    "start_time": "2024-12-10T18:30:52.180Z"
   },
   {
    "duration": 21,
    "start_time": "2024-12-10T18:31:17.365Z"
   },
   {
    "duration": 22,
    "start_time": "2024-12-10T18:31:22.028Z"
   },
   {
    "duration": 19,
    "start_time": "2024-12-10T18:31:25.051Z"
   },
   {
    "duration": 18,
    "start_time": "2024-12-10T18:31:36.589Z"
   },
   {
    "duration": 19,
    "start_time": "2024-12-10T18:31:44.543Z"
   },
   {
    "duration": 28,
    "start_time": "2024-12-10T18:31:54.924Z"
   },
   {
    "duration": 25,
    "start_time": "2024-12-10T18:32:16.412Z"
   },
   {
    "duration": 18,
    "start_time": "2024-12-10T18:32:25.437Z"
   },
   {
    "duration": 17,
    "start_time": "2024-12-10T18:46:23.959Z"
   },
   {
    "duration": 3,
    "start_time": "2024-12-10T18:48:35.918Z"
   },
   {
    "duration": 3,
    "start_time": "2024-12-10T19:15:05.279Z"
   },
   {
    "duration": 4,
    "start_time": "2024-12-10T19:15:15.709Z"
   },
   {
    "duration": 141,
    "start_time": "2024-12-10T19:17:51.730Z"
   },
   {
    "duration": 17,
    "start_time": "2024-12-10T19:18:08.918Z"
   },
   {
    "duration": 56,
    "start_time": "2024-12-10T19:18:14.149Z"
   },
   {
    "duration": 16,
    "start_time": "2024-12-10T19:18:17.973Z"
   },
   {
    "duration": 6,
    "start_time": "2024-12-10T19:18:28.757Z"
   },
   {
    "duration": 5,
    "start_time": "2024-12-10T19:18:37.359Z"
   },
   {
    "duration": 5,
    "start_time": "2024-12-10T19:18:43.789Z"
   },
   {
    "duration": 11,
    "start_time": "2024-12-10T19:18:50.413Z"
   },
   {
    "duration": 17,
    "start_time": "2024-12-10T19:19:02.126Z"
   },
   {
    "duration": 5,
    "start_time": "2024-12-10T19:19:18.013Z"
   },
   {
    "duration": 5,
    "start_time": "2024-12-10T19:19:23.952Z"
   },
   {
    "duration": 7,
    "start_time": "2024-12-10T19:19:33.174Z"
   },
   {
    "duration": 4,
    "start_time": "2024-12-10T19:19:47.254Z"
   },
   {
    "duration": 4,
    "start_time": "2024-12-10T19:19:59.457Z"
   },
   {
    "duration": 3,
    "start_time": "2024-12-10T19:20:03.741Z"
   },
   {
    "duration": 4,
    "start_time": "2024-12-10T19:20:08.085Z"
   },
   {
    "duration": 4,
    "start_time": "2024-12-10T19:20:11.800Z"
   },
   {
    "duration": 4,
    "start_time": "2024-12-10T19:22:17.725Z"
   },
   {
    "duration": 4,
    "start_time": "2024-12-10T19:22:22.663Z"
   },
   {
    "duration": 23,
    "start_time": "2024-12-10T19:36:42.964Z"
   },
   {
    "duration": 13,
    "start_time": "2024-12-10T19:36:59.817Z"
   },
   {
    "duration": 4,
    "start_time": "2024-12-10T19:37:35.217Z"
   },
   {
    "duration": 3,
    "start_time": "2024-12-10T19:37:40.736Z"
   },
   {
    "duration": 2,
    "start_time": "2024-12-10T19:38:05.308Z"
   },
   {
    "duration": 3085,
    "start_time": "2024-12-10T19:38:36.496Z"
   },
   {
    "duration": 2,
    "start_time": "2024-12-10T19:39:05.409Z"
   },
   {
    "duration": 3,
    "start_time": "2024-12-10T19:39:23.322Z"
   },
   {
    "duration": 3,
    "start_time": "2024-12-10T19:39:59.059Z"
   },
   {
    "duration": 5,
    "start_time": "2024-12-10T19:40:03.427Z"
   },
   {
    "duration": 216522,
    "start_time": "2024-12-10T19:40:20.434Z"
   },
   {
    "duration": 14,
    "start_time": "2024-12-10T19:45:00.433Z"
   },
   {
    "duration": 605,
    "start_time": "2024-12-10T19:45:31.151Z"
   },
   {
    "duration": 619,
    "start_time": "2024-12-10T19:45:39.348Z"
   },
   {
    "duration": 2,
    "start_time": "2024-12-10T19:56:22.656Z"
   },
   {
    "duration": 3,
    "start_time": "2024-12-10T19:56:23.788Z"
   },
   {
    "duration": 3181,
    "start_time": "2024-12-10T19:56:28.852Z"
   },
   {
    "duration": 84,
    "start_time": "2024-12-10T19:56:36.828Z"
   },
   {
    "duration": 2,
    "start_time": "2024-12-10T19:56:42.835Z"
   },
   {
    "duration": 8202,
    "start_time": "2024-12-10T19:56:44.726Z"
   },
   {
    "duration": 2,
    "start_time": "2024-12-10T19:56:59.901Z"
   },
   {
    "duration": 101364,
    "start_time": "2024-12-10T19:57:02.604Z"
   },
   {
    "duration": 3080,
    "start_time": "2024-12-10T20:34:21.255Z"
   },
   {
    "duration": 99,
    "start_time": "2024-12-10T20:34:50.955Z"
   },
   {
    "duration": 11,
    "start_time": "2024-12-10T20:34:55.051Z"
   },
   {
    "duration": 12,
    "start_time": "2024-12-10T20:41:54.760Z"
   },
   {
    "duration": 13,
    "start_time": "2024-12-10T20:50:21.655Z"
   },
   {
    "duration": 3104,
    "start_time": "2024-12-10T20:50:53.435Z"
   },
   {
    "duration": 11,
    "start_time": "2024-12-10T20:52:55.001Z"
   },
   {
    "duration": 4,
    "start_time": "2024-12-10T20:53:31.070Z"
   },
   {
    "duration": 13632,
    "start_time": "2024-12-10T20:53:38.890Z"
   },
   {
    "duration": 14002,
    "start_time": "2024-12-10T20:56:08.439Z"
   },
   {
    "duration": 74483,
    "start_time": "2024-12-10T20:58:35.785Z"
   },
   {
    "duration": 19499,
    "start_time": "2024-12-10T21:00:08.603Z"
   },
   {
    "duration": 16044,
    "start_time": "2024-12-10T21:00:40.254Z"
   },
   {
    "duration": 12,
    "start_time": "2024-12-10T21:01:28.841Z"
   },
   {
    "duration": 4,
    "start_time": "2024-12-10T21:01:31.350Z"
   },
   {
    "duration": 5,
    "start_time": "2024-12-10T21:01:37.849Z"
   },
   {
    "duration": 3,
    "start_time": "2024-12-10T21:01:44.423Z"
   },
   {
    "duration": 16140,
    "start_time": "2024-12-10T21:05:32.369Z"
   },
   {
    "duration": 16118,
    "start_time": "2024-12-10T21:06:47.654Z"
   },
   {
    "duration": 9,
    "start_time": "2024-12-10T21:07:50.258Z"
   },
   {
    "duration": 10,
    "start_time": "2024-12-10T21:07:53.690Z"
   },
   {
    "duration": 3,
    "start_time": "2024-12-10T21:07:56.492Z"
   },
   {
    "duration": 3,
    "start_time": "2024-12-10T21:09:34.034Z"
   },
   {
    "duration": 231196,
    "start_time": "2024-12-10T21:09:35.026Z"
   },
   {
    "duration": 625,
    "start_time": "2024-12-10T21:13:33.967Z"
   },
   {
    "duration": 16039,
    "start_time": "2024-12-10T21:15:39.279Z"
   },
   {
    "duration": 51,
    "start_time": "2024-12-10T21:22:35.755Z"
   },
   {
    "duration": 655743,
    "start_time": "2024-12-10T21:22:44.651Z"
   },
   {
    "duration": 2,
    "start_time": "2024-12-10T21:34:30.271Z"
   },
   {
    "duration": 181018,
    "start_time": "2024-12-10T21:34:32.252Z"
   },
   {
    "duration": 2,
    "start_time": "2024-12-10T21:38:43.918Z"
   },
   {
    "duration": 137196,
    "start_time": "2024-12-10T21:38:48.673Z"
   },
   {
    "duration": 16079,
    "start_time": "2024-12-10T21:43:26.889Z"
   },
   {
    "duration": 5,
    "start_time": "2024-12-10T21:44:47.428Z"
   },
   {
    "duration": 97017,
    "start_time": "2024-12-10T21:44:57.308Z"
   },
   {
    "duration": 3,
    "start_time": "2024-12-10T21:53:24.875Z"
   },
   {
    "duration": 132,
    "start_time": "2024-12-10T22:05:20.046Z"
   },
   {
    "duration": 5,
    "start_time": "2024-12-10T22:05:59.961Z"
   },
   {
    "duration": 16269,
    "start_time": "2024-12-10T22:06:05.135Z"
   },
   {
    "duration": 4,
    "start_time": "2024-12-10T22:06:22.047Z"
   },
   {
    "duration": 15894,
    "start_time": "2024-12-10T22:06:55.343Z"
   },
   {
    "duration": 4,
    "start_time": "2024-12-10T22:07:19.175Z"
   },
   {
    "duration": 4,
    "start_time": "2024-12-10T22:07:50.550Z"
   },
   {
    "duration": 54,
    "start_time": "2024-12-10T22:14:11.582Z"
   },
   {
    "duration": 84,
    "start_time": "2024-12-10T22:14:16.441Z"
   },
   {
    "duration": 23,
    "start_time": "2024-12-10T22:14:18.763Z"
   },
   {
    "duration": 5,
    "start_time": "2024-12-10T22:14:24.016Z"
   },
   {
    "duration": 6,
    "start_time": "2024-12-10T22:14:30.218Z"
   },
   {
    "duration": 11,
    "start_time": "2024-12-10T22:16:43.213Z"
   },
   {
    "duration": 4,
    "start_time": "2024-12-10T22:17:34.357Z"
   },
   {
    "duration": 19,
    "start_time": "2024-12-10T22:17:44.660Z"
   },
   {
    "duration": 3,
    "start_time": "2024-12-10T22:18:19.293Z"
   },
   {
    "duration": 4,
    "start_time": "2024-12-10T22:19:20.195Z"
   },
   {
    "duration": 3,
    "start_time": "2024-12-10T22:19:52.101Z"
   },
   {
    "duration": 4,
    "start_time": "2024-12-10T22:20:33.017Z"
   },
   {
    "duration": 84,
    "start_time": "2024-12-10T22:30:16.041Z"
   },
   {
    "duration": 3,
    "start_time": "2024-12-10T22:30:25.349Z"
   },
   {
    "duration": 4,
    "start_time": "2024-12-10T22:30:35.594Z"
   },
   {
    "duration": 4,
    "start_time": "2024-12-10T22:30:42.199Z"
   },
   {
    "duration": 4,
    "start_time": "2024-12-10T22:30:47.627Z"
   },
   {
    "duration": 9,
    "start_time": "2024-12-10T22:31:10.465Z"
   },
   {
    "duration": 4,
    "start_time": "2024-12-10T22:31:29.148Z"
   },
   {
    "duration": 4,
    "start_time": "2024-12-10T22:31:43.692Z"
   },
   {
    "duration": 3,
    "start_time": "2024-12-10T22:31:48.732Z"
   },
   {
    "duration": 3,
    "start_time": "2024-12-10T22:32:01.012Z"
   },
   {
    "duration": 4,
    "start_time": "2024-12-10T22:32:06.206Z"
   },
   {
    "duration": 5,
    "start_time": "2024-12-10T22:33:55.504Z"
   },
   {
    "duration": 10,
    "start_time": "2024-12-10T22:44:35.190Z"
   },
   {
    "duration": 18,
    "start_time": "2024-12-10T22:44:49.465Z"
   },
   {
    "duration": 151,
    "start_time": "2024-12-10T22:45:11.083Z"
   },
   {
    "duration": 4,
    "start_time": "2024-12-10T22:47:01.515Z"
   },
   {
    "duration": 1114,
    "start_time": "2024-12-10T22:47:03.567Z"
   },
   {
    "duration": 4,
    "start_time": "2024-12-10T22:47:15.387Z"
   },
   {
    "duration": 136,
    "start_time": "2024-12-10T22:47:21.139Z"
   },
   {
    "duration": 4,
    "start_time": "2024-12-10T22:47:27.769Z"
   },
   {
    "duration": 14510,
    "start_time": "2024-12-10T22:47:30.838Z"
   },
   {
    "duration": 384,
    "start_time": "2024-12-10T22:48:06.147Z"
   },
   {
    "duration": 4,
    "start_time": "2024-12-10T22:48:11.572Z"
   },
   {
    "duration": 4,
    "start_time": "2024-12-10T22:49:37.716Z"
   },
   {
    "duration": 14414,
    "start_time": "2024-12-10T22:49:42.124Z"
   },
   {
    "duration": 387,
    "start_time": "2024-12-10T22:50:26.044Z"
   },
   {
    "duration": 4,
    "start_time": "2024-12-10T22:51:13.206Z"
   },
   {
    "duration": 13,
    "start_time": "2024-12-10T22:51:18.736Z"
   },
   {
    "duration": 5,
    "start_time": "2024-12-10T22:51:44.854Z"
   },
   {
    "duration": 4,
    "start_time": "2024-12-10T22:52:03.926Z"
   },
   {
    "duration": 5,
    "start_time": "2024-12-10T22:52:09.582Z"
   },
   {
    "duration": 4,
    "start_time": "2024-12-10T22:52:59.311Z"
   },
   {
    "duration": 17,
    "start_time": "2024-12-10T22:54:23.551Z"
   },
   {
    "duration": 4,
    "start_time": "2024-12-10T22:56:12.224Z"
   },
   {
    "duration": 30,
    "start_time": "2024-12-10T22:56:23.331Z"
   },
   {
    "duration": 16,
    "start_time": "2024-12-10T22:57:37.459Z"
   },
   {
    "duration": 5,
    "start_time": "2024-12-10T22:57:42.362Z"
   },
   {
    "duration": 28,
    "start_time": "2024-12-10T22:57:56.266Z"
   },
   {
    "duration": 29,
    "start_time": "2024-12-10T22:58:16.884Z"
   },
   {
    "duration": 28,
    "start_time": "2024-12-10T22:58:54.807Z"
   },
   {
    "duration": 16,
    "start_time": "2024-12-10T22:59:50.754Z"
   },
   {
    "duration": 28,
    "start_time": "2024-12-10T23:00:59.557Z"
   },
   {
    "duration": 16,
    "start_time": "2024-12-10T23:01:57.492Z"
   },
   {
    "duration": 29,
    "start_time": "2024-12-10T23:02:12.421Z"
   },
   {
    "duration": 30,
    "start_time": "2024-12-10T23:02:21.198Z"
   },
   {
    "duration": 3,
    "start_time": "2024-12-10T23:05:30.584Z"
   },
   {
    "duration": 0,
    "start_time": "2024-12-10T23:09:15.636Z"
   },
   {
    "duration": 0,
    "start_time": "2024-12-10T23:09:15.638Z"
   },
   {
    "duration": 0,
    "start_time": "2024-12-10T23:09:15.640Z"
   },
   {
    "duration": 0,
    "start_time": "2024-12-10T23:09:15.642Z"
   },
   {
    "duration": 0,
    "start_time": "2024-12-10T23:09:15.644Z"
   },
   {
    "duration": 0,
    "start_time": "2024-12-10T23:09:15.646Z"
   },
   {
    "duration": 0,
    "start_time": "2024-12-10T23:09:15.648Z"
   },
   {
    "duration": 0,
    "start_time": "2024-12-10T23:09:15.650Z"
   },
   {
    "duration": 0,
    "start_time": "2024-12-10T23:09:15.652Z"
   },
   {
    "duration": 0,
    "start_time": "2024-12-10T23:09:15.653Z"
   },
   {
    "duration": 0,
    "start_time": "2024-12-10T23:09:15.655Z"
   },
   {
    "duration": 0,
    "start_time": "2024-12-10T23:09:15.657Z"
   },
   {
    "duration": 0,
    "start_time": "2024-12-10T23:09:15.659Z"
   },
   {
    "duration": 0,
    "start_time": "2024-12-10T23:09:15.661Z"
   },
   {
    "duration": 0,
    "start_time": "2024-12-10T23:09:15.662Z"
   },
   {
    "duration": 0,
    "start_time": "2024-12-10T23:09:15.664Z"
   },
   {
    "duration": 0,
    "start_time": "2024-12-10T23:09:15.666Z"
   },
   {
    "duration": 0,
    "start_time": "2024-12-10T23:09:15.730Z"
   },
   {
    "duration": 0,
    "start_time": "2024-12-10T23:09:15.732Z"
   },
   {
    "duration": 0,
    "start_time": "2024-12-10T23:09:15.734Z"
   },
   {
    "duration": 0,
    "start_time": "2024-12-10T23:09:15.736Z"
   },
   {
    "duration": 0,
    "start_time": "2024-12-10T23:09:15.738Z"
   },
   {
    "duration": 1,
    "start_time": "2024-12-10T23:09:15.739Z"
   },
   {
    "duration": 0,
    "start_time": "2024-12-10T23:09:15.741Z"
   },
   {
    "duration": 0,
    "start_time": "2024-12-10T23:09:15.743Z"
   },
   {
    "duration": 0,
    "start_time": "2024-12-10T23:09:15.745Z"
   },
   {
    "duration": 0,
    "start_time": "2024-12-10T23:09:15.747Z"
   },
   {
    "duration": 0,
    "start_time": "2024-12-10T23:09:15.749Z"
   },
   {
    "duration": 0,
    "start_time": "2024-12-10T23:09:15.751Z"
   },
   {
    "duration": 0,
    "start_time": "2024-12-10T23:09:15.753Z"
   },
   {
    "duration": 0,
    "start_time": "2024-12-10T23:09:15.760Z"
   },
   {
    "duration": 0,
    "start_time": "2024-12-10T23:09:15.762Z"
   },
   {
    "duration": 0,
    "start_time": "2024-12-10T23:09:15.764Z"
   },
   {
    "duration": 0,
    "start_time": "2024-12-10T23:09:15.766Z"
   },
   {
    "duration": 0,
    "start_time": "2024-12-10T23:09:15.768Z"
   },
   {
    "duration": 0,
    "start_time": "2024-12-10T23:09:15.831Z"
   },
   {
    "duration": 0,
    "start_time": "2024-12-10T23:09:15.834Z"
   },
   {
    "duration": 0,
    "start_time": "2024-12-10T23:09:15.836Z"
   },
   {
    "duration": 0,
    "start_time": "2024-12-10T23:09:15.838Z"
   },
   {
    "duration": 0,
    "start_time": "2024-12-10T23:09:15.840Z"
   },
   {
    "duration": 0,
    "start_time": "2024-12-10T23:09:15.842Z"
   },
   {
    "duration": 2619,
    "start_time": "2024-12-10T23:09:44.120Z"
   },
   {
    "duration": 2660,
    "start_time": "2024-12-10T23:09:57.045Z"
   },
   {
    "duration": 2603,
    "start_time": "2024-12-10T23:09:59.707Z"
   },
   {
    "duration": 6,
    "start_time": "2024-12-10T23:10:02.312Z"
   },
   {
    "duration": 39,
    "start_time": "2024-12-10T23:10:02.320Z"
   },
   {
    "duration": 17,
    "start_time": "2024-12-10T23:10:02.361Z"
   },
   {
    "duration": 22,
    "start_time": "2024-12-10T23:10:02.380Z"
   },
   {
    "duration": 66,
    "start_time": "2024-12-10T23:10:02.404Z"
   },
   {
    "duration": 1072,
    "start_time": "2024-12-10T23:10:02.472Z"
   },
   {
    "duration": 34,
    "start_time": "2024-12-10T23:10:03.545Z"
   },
   {
    "duration": 1814,
    "start_time": "2024-12-10T23:10:03.581Z"
   },
   {
    "duration": 277,
    "start_time": "2024-12-10T23:10:05.396Z"
   },
   {
    "duration": 307,
    "start_time": "2024-12-10T23:10:05.675Z"
   },
   {
    "duration": 34,
    "start_time": "2024-12-10T23:10:05.984Z"
   },
   {
    "duration": 8578,
    "start_time": "2024-12-10T23:10:06.030Z"
   },
   {
    "duration": 141,
    "start_time": "2024-12-10T23:10:14.609Z"
   },
   {
    "duration": 2,
    "start_time": "2024-12-10T23:10:14.752Z"
   },
   {
    "duration": 104,
    "start_time": "2024-12-10T23:10:14.756Z"
   },
   {
    "duration": 372,
    "start_time": "2024-12-10T23:10:14.862Z"
   },
   {
    "duration": 273,
    "start_time": "2024-12-10T23:10:15.236Z"
   },
   {
    "duration": 636,
    "start_time": "2024-12-10T23:10:15.510Z"
   },
   {
    "duration": 324,
    "start_time": "2024-12-10T23:10:16.147Z"
   },
   {
    "duration": 109,
    "start_time": "2024-12-10T23:10:16.473Z"
   },
   {
    "duration": 54,
    "start_time": "2024-12-10T23:10:16.584Z"
   },
   {
    "duration": 1891,
    "start_time": "2024-12-10T23:10:16.639Z"
   },
   {
    "duration": 5,
    "start_time": "2024-12-10T23:10:18.531Z"
   },
   {
    "duration": 24,
    "start_time": "2024-12-10T23:10:18.538Z"
   },
   {
    "duration": 7,
    "start_time": "2024-12-10T23:10:18.564Z"
   },
   {
    "duration": 24,
    "start_time": "2024-12-10T23:10:18.572Z"
   },
   {
    "duration": 614,
    "start_time": "2024-12-10T23:10:18.598Z"
   },
   {
    "duration": 34,
    "start_time": "2024-12-10T23:10:19.214Z"
   },
   {
    "duration": 991,
    "start_time": "2024-12-10T23:10:19.249Z"
   },
   {
    "duration": 528,
    "start_time": "2024-12-10T23:10:20.242Z"
   },
   {
    "duration": 118,
    "start_time": "2024-12-10T23:10:20.772Z"
   },
   {
    "duration": 16,
    "start_time": "2024-12-10T23:10:20.892Z"
   },
   {
    "duration": 76,
    "start_time": "2024-12-10T23:10:20.909Z"
   },
   {
    "duration": 3,
    "start_time": "2024-12-10T23:10:20.987Z"
   },
   {
    "duration": 11,
    "start_time": "2024-12-10T23:10:20.991Z"
   },
   {
    "duration": 14543,
    "start_time": "2024-12-10T23:10:21.003Z"
   },
   {
    "duration": 5,
    "start_time": "2024-12-10T23:10:35.548Z"
   },
   {
    "duration": 30,
    "start_time": "2024-12-10T23:10:35.554Z"
   },
   {
    "duration": 0,
    "start_time": "2024-12-10T23:13:53.337Z"
   },
   {
    "duration": 0,
    "start_time": "2024-12-10T23:13:53.346Z"
   },
   {
    "duration": 11,
    "start_time": "2024-12-10T23:13:54.441Z"
   },
   {
    "duration": 2496,
    "start_time": "2024-12-10T23:14:01.378Z"
   },
   {
    "duration": 2868,
    "start_time": "2024-12-10T23:14:03.877Z"
   },
   {
    "duration": 1936,
    "start_time": "2024-12-10T23:14:06.746Z"
   },
   {
    "duration": 2,
    "start_time": "2024-12-10T23:14:08.684Z"
   },
   {
    "duration": 19,
    "start_time": "2024-12-10T23:14:08.688Z"
   },
   {
    "duration": 6,
    "start_time": "2024-12-10T23:14:08.709Z"
   },
   {
    "duration": 14,
    "start_time": "2024-12-10T23:14:08.716Z"
   },
   {
    "duration": 1058,
    "start_time": "2024-12-10T23:14:08.732Z"
   },
   {
    "duration": 77,
    "start_time": "2024-12-10T23:14:09.792Z"
   },
   {
    "duration": 1804,
    "start_time": "2024-12-10T23:14:09.873Z"
   },
   {
    "duration": 296,
    "start_time": "2024-12-10T23:14:11.679Z"
   },
   {
    "duration": 381,
    "start_time": "2024-12-10T23:14:11.977Z"
   },
   {
    "duration": 36,
    "start_time": "2024-12-10T23:14:12.360Z"
   },
   {
    "duration": 8304,
    "start_time": "2024-12-10T23:14:12.398Z"
   },
   {
    "duration": 129,
    "start_time": "2024-12-10T23:14:20.704Z"
   },
   {
    "duration": 3,
    "start_time": "2024-12-10T23:14:20.835Z"
   },
   {
    "duration": 103,
    "start_time": "2024-12-10T23:14:20.840Z"
   },
   {
    "duration": 367,
    "start_time": "2024-12-10T23:14:20.944Z"
   },
   {
    "duration": 262,
    "start_time": "2024-12-10T23:14:21.329Z"
   },
   {
    "duration": 645,
    "start_time": "2024-12-10T23:14:21.592Z"
   },
   {
    "duration": 326,
    "start_time": "2024-12-10T23:14:22.239Z"
   },
   {
    "duration": 103,
    "start_time": "2024-12-10T23:14:22.567Z"
   },
   {
    "duration": 45,
    "start_time": "2024-12-10T23:14:22.671Z"
   },
   {
    "duration": 1932,
    "start_time": "2024-12-10T23:14:22.731Z"
   },
   {
    "duration": 5,
    "start_time": "2024-12-10T23:14:24.664Z"
   },
   {
    "duration": 30,
    "start_time": "2024-12-10T23:14:24.670Z"
   },
   {
    "duration": 27,
    "start_time": "2024-12-10T23:14:24.705Z"
   },
   {
    "duration": 23,
    "start_time": "2024-12-10T23:14:24.735Z"
   },
   {
    "duration": 414,
    "start_time": "2024-12-10T23:14:24.760Z"
   },
   {
    "duration": 26,
    "start_time": "2024-12-10T23:14:25.175Z"
   },
   {
    "duration": 994,
    "start_time": "2024-12-10T23:14:25.203Z"
   },
   {
    "duration": 524,
    "start_time": "2024-12-10T23:14:26.199Z"
   },
   {
    "duration": 114,
    "start_time": "2024-12-10T23:14:26.729Z"
   },
   {
    "duration": 17,
    "start_time": "2024-12-10T23:14:26.844Z"
   },
   {
    "duration": 94,
    "start_time": "2024-12-10T23:14:26.862Z"
   },
   {
    "duration": 3,
    "start_time": "2024-12-10T23:14:26.957Z"
   },
   {
    "duration": 6,
    "start_time": "2024-12-10T23:14:26.961Z"
   },
   {
    "duration": 15268,
    "start_time": "2024-12-10T23:14:26.968Z"
   },
   {
    "duration": 183,
    "start_time": "2024-12-10T23:14:42.238Z"
   },
   {
    "duration": 0,
    "start_time": "2024-12-10T23:14:42.423Z"
   },
   {
    "duration": 0,
    "start_time": "2024-12-10T23:14:42.424Z"
   },
   {
    "duration": 0,
    "start_time": "2024-12-10T23:14:42.430Z"
   },
   {
    "duration": 0,
    "start_time": "2024-12-10T23:14:42.431Z"
   },
   {
    "duration": 0,
    "start_time": "2024-12-10T23:14:42.433Z"
   },
   {
    "duration": 0,
    "start_time": "2024-12-10T23:14:42.434Z"
   },
   {
    "duration": 0,
    "start_time": "2024-12-10T23:14:42.436Z"
   },
   {
    "duration": 0,
    "start_time": "2024-12-10T23:14:42.437Z"
   },
   {
    "duration": 0,
    "start_time": "2024-12-10T23:14:42.438Z"
   },
   {
    "duration": 0,
    "start_time": "2024-12-10T23:14:42.440Z"
   },
   {
    "duration": 11,
    "start_time": "2024-12-10T23:14:58.859Z"
   },
   {
    "duration": 390,
    "start_time": "2024-12-10T23:15:08.347Z"
   },
   {
    "duration": 3,
    "start_time": "2024-12-10T23:15:15.427Z"
   },
   {
    "duration": 14903,
    "start_time": "2024-12-10T23:15:17.331Z"
   },
   {
    "duration": 3,
    "start_time": "2024-12-10T23:15:42.004Z"
   },
   {
    "duration": 5070,
    "start_time": "2024-12-10T23:15:44.362Z"
   },
   {
    "duration": 3,
    "start_time": "2024-12-10T23:16:03.732Z"
   },
   {
    "duration": 44,
    "start_time": "2024-12-10T23:16:12.804Z"
   },
   {
    "duration": 4,
    "start_time": "2024-12-10T23:17:12.589Z"
   },
   {
    "duration": 41,
    "start_time": "2024-12-10T23:17:15.726Z"
   },
   {
    "duration": 11,
    "start_time": "2024-12-10T23:17:51.860Z"
   },
   {
    "duration": 10,
    "start_time": "2024-12-10T23:18:04.100Z"
   },
   {
    "duration": 10,
    "start_time": "2024-12-10T23:18:07.318Z"
   },
   {
    "duration": 3,
    "start_time": "2024-12-10T23:18:59.558Z"
   },
   {
    "duration": 44,
    "start_time": "2024-12-10T23:19:02.399Z"
   },
   {
    "duration": 4,
    "start_time": "2024-12-10T23:19:22.237Z"
   },
   {
    "duration": 3,
    "start_time": "2024-12-10T23:19:27.614Z"
   },
   {
    "duration": 72518,
    "start_time": "2024-12-10T23:19:29.539Z"
   },
   {
    "duration": 62,
    "start_time": "2024-12-10T23:22:23.568Z"
   },
   {
    "duration": 53,
    "start_time": "2024-12-10T23:22:23.633Z"
   },
   {
    "duration": 3,
    "start_time": "2024-12-10T23:23:18.057Z"
   },
   {
    "duration": 40,
    "start_time": "2024-12-10T23:23:23.881Z"
   },
   {
    "duration": 3,
    "start_time": "2024-12-10T23:25:56.786Z"
   },
   {
    "duration": 40,
    "start_time": "2024-12-10T23:26:03.850Z"
   },
   {
    "duration": 4,
    "start_time": "2024-12-10T23:26:53.634Z"
   },
   {
    "duration": 1068,
    "start_time": "2024-12-10T23:27:01.571Z"
   },
   {
    "duration": 24,
    "start_time": "2024-12-10T23:27:26.444Z"
   },
   {
    "duration": 310,
    "start_time": "2024-12-10T23:27:48.020Z"
   },
   {
    "duration": 1067,
    "start_time": "2024-12-10T23:27:58.668Z"
   },
   {
    "duration": 1062,
    "start_time": "2024-12-10T23:32:05.461Z"
   },
   {
    "duration": 1065,
    "start_time": "2024-12-10T23:35:21.455Z"
   },
   {
    "duration": 1106,
    "start_time": "2024-12-10T23:36:04.975Z"
   },
   {
    "duration": 2455,
    "start_time": "2024-12-10T23:36:12.663Z"
   },
   {
    "duration": 2466,
    "start_time": "2024-12-10T23:36:17.642Z"
   },
   {
    "duration": 1126,
    "start_time": "2024-12-10T23:37:23.019Z"
   },
   {
    "duration": 3,
    "start_time": "2024-12-10T23:38:15.120Z"
   },
   {
    "duration": 1113,
    "start_time": "2024-12-10T23:38:17.240Z"
   },
   {
    "duration": 3,
    "start_time": "2024-12-10T23:38:32.360Z"
   },
   {
    "duration": 22712,
    "start_time": "2024-12-10T23:39:31.123Z"
   },
   {
    "duration": 384,
    "start_time": "2024-12-10T23:40:20.154Z"
   },
   {
    "duration": 361,
    "start_time": "2024-12-10T23:40:30.689Z"
   },
   {
    "duration": 434,
    "start_time": "2024-12-10T23:40:43.418Z"
   },
   {
    "duration": 4,
    "start_time": "2024-12-10T23:41:07.315Z"
   },
   {
    "duration": 1113,
    "start_time": "2024-12-10T23:41:10.979Z"
   },
   {
    "duration": 3,
    "start_time": "2024-12-10T23:41:14.643Z"
   },
   {
    "duration": 23838,
    "start_time": "2024-12-10T23:41:17.994Z"
   },
   {
    "duration": 495,
    "start_time": "2024-12-10T23:41:41.840Z"
   },
   {
    "duration": 393,
    "start_time": "2024-12-10T23:42:32.341Z"
   },
   {
    "duration": 419,
    "start_time": "2024-12-10T23:42:38.418Z"
   },
   {
    "duration": 981,
    "start_time": "2024-12-10T23:44:34.115Z"
   },
   {
    "duration": 3,
    "start_time": "2024-12-10T23:45:39.052Z"
   },
   {
    "duration": 976,
    "start_time": "2024-12-10T23:45:41.687Z"
   },
   {
    "duration": 3,
    "start_time": "2024-12-10T23:45:45.788Z"
   },
   {
    "duration": 14351,
    "start_time": "2024-12-10T23:45:47.284Z"
   },
   {
    "duration": 15892,
    "start_time": "2024-12-10T23:46:27.340Z"
   },
   {
    "duration": 3,
    "start_time": "2024-12-10T23:47:29.789Z"
   },
   {
    "duration": 6605,
    "start_time": "2024-12-10T23:48:05.327Z"
   },
   {
    "duration": 3,
    "start_time": "2024-12-10T23:48:17.424Z"
   },
   {
    "duration": 3886,
    "start_time": "2024-12-10T23:48:22.246Z"
   },
   {
    "duration": 3396,
    "start_time": "2024-12-10T23:48:29.638Z"
   },
   {
    "duration": 5219,
    "start_time": "2024-12-10T23:48:37.221Z"
   },
   {
    "duration": 6854,
    "start_time": "2024-12-10T23:48:46.383Z"
   },
   {
    "duration": 8328,
    "start_time": "2024-12-10T23:48:58.016Z"
   },
   {
    "duration": 8624,
    "start_time": "2024-12-10T23:49:10.613Z"
   },
   {
    "duration": 14447,
    "start_time": "2024-12-10T23:49:23.294Z"
   },
   {
    "duration": 18645,
    "start_time": "2024-12-10T23:49:39.797Z"
   },
   {
    "duration": 2635,
    "start_time": "2024-12-10T23:53:02.383Z"
   },
   {
    "duration": 2571,
    "start_time": "2024-12-10T23:53:05.020Z"
   },
   {
    "duration": 1970,
    "start_time": "2024-12-10T23:53:07.593Z"
   },
   {
    "duration": 2,
    "start_time": "2024-12-10T23:53:09.566Z"
   },
   {
    "duration": 8,
    "start_time": "2024-12-10T23:53:09.570Z"
   },
   {
    "duration": 5,
    "start_time": "2024-12-10T23:53:09.579Z"
   },
   {
    "duration": 10,
    "start_time": "2024-12-10T23:53:09.585Z"
   },
   {
    "duration": 1096,
    "start_time": "2024-12-10T23:53:09.597Z"
   },
   {
    "duration": 77,
    "start_time": "2024-12-10T23:53:10.695Z"
   },
   {
    "duration": 1903,
    "start_time": "2024-12-10T23:53:10.774Z"
   },
   {
    "duration": 338,
    "start_time": "2024-12-10T23:53:12.679Z"
   },
   {
    "duration": 424,
    "start_time": "2024-12-10T23:53:13.020Z"
   },
   {
    "duration": 36,
    "start_time": "2024-12-10T23:53:13.445Z"
   },
   {
    "duration": 8924,
    "start_time": "2024-12-10T23:53:13.483Z"
   },
   {
    "duration": 137,
    "start_time": "2024-12-10T23:53:22.409Z"
   },
   {
    "duration": 2,
    "start_time": "2024-12-10T23:53:22.549Z"
   },
   {
    "duration": 108,
    "start_time": "2024-12-10T23:53:22.553Z"
   },
   {
    "duration": 393,
    "start_time": "2024-12-10T23:53:22.662Z"
   },
   {
    "duration": 301,
    "start_time": "2024-12-10T23:53:23.056Z"
   },
   {
    "duration": 682,
    "start_time": "2024-12-10T23:53:23.359Z"
   },
   {
    "duration": 346,
    "start_time": "2024-12-10T23:53:24.044Z"
   },
   {
    "duration": 109,
    "start_time": "2024-12-10T23:53:24.392Z"
   },
   {
    "duration": 60,
    "start_time": "2024-12-10T23:53:24.502Z"
   },
   {
    "duration": 2045,
    "start_time": "2024-12-10T23:53:24.564Z"
   },
   {
    "duration": 5,
    "start_time": "2024-12-10T23:53:26.610Z"
   },
   {
    "duration": 36,
    "start_time": "2024-12-10T23:53:26.616Z"
   },
   {
    "duration": 6,
    "start_time": "2024-12-10T23:53:26.654Z"
   },
   {
    "duration": 25,
    "start_time": "2024-12-10T23:53:26.663Z"
   },
   {
    "duration": 458,
    "start_time": "2024-12-10T23:53:26.689Z"
   },
   {
    "duration": 25,
    "start_time": "2024-12-10T23:53:27.149Z"
   },
   {
    "duration": 1043,
    "start_time": "2024-12-10T23:53:27.176Z"
   },
   {
    "duration": 597,
    "start_time": "2024-12-10T23:53:28.221Z"
   },
   {
    "duration": 138,
    "start_time": "2024-12-10T23:53:28.820Z"
   },
   {
    "duration": 16,
    "start_time": "2024-12-10T23:53:28.959Z"
   },
   {
    "duration": 101,
    "start_time": "2024-12-10T23:53:28.977Z"
   },
   {
    "duration": 2,
    "start_time": "2024-12-10T23:53:29.080Z"
   },
   {
    "duration": 4,
    "start_time": "2024-12-10T23:53:29.084Z"
   },
   {
    "duration": 4,
    "start_time": "2024-12-10T23:53:29.089Z"
   },
   {
    "duration": 3,
    "start_time": "2024-12-10T23:53:29.095Z"
   },
   {
    "duration": 1042,
    "start_time": "2024-12-10T23:53:29.099Z"
   },
   {
    "duration": 3,
    "start_time": "2024-12-10T23:53:30.143Z"
   },
   {
    "duration": 21698,
    "start_time": "2024-12-10T23:53:30.148Z"
   },
   {
    "duration": 22983,
    "start_time": "2024-12-10T23:53:51.848Z"
   },
   {
    "duration": 4400,
    "start_time": "2024-12-10T23:54:14.833Z"
   },
   {
    "duration": 238,
    "start_time": "2024-12-10T23:54:19.242Z"
   },
   {
    "duration": 0,
    "start_time": "2024-12-10T23:54:19.482Z"
   },
   {
    "duration": 0,
    "start_time": "2024-12-10T23:54:19.483Z"
   },
   {
    "duration": 0,
    "start_time": "2024-12-10T23:54:19.484Z"
   },
   {
    "duration": 0,
    "start_time": "2024-12-10T23:54:19.486Z"
   },
   {
    "duration": 3335,
    "start_time": "2024-12-10T23:56:22.105Z"
   },
   {
    "duration": 4349,
    "start_time": "2024-12-10T23:56:30.091Z"
   },
   {
    "duration": 4346,
    "start_time": "2024-12-10T23:56:42.291Z"
   },
   {
    "duration": 4274,
    "start_time": "2024-12-10T23:56:52.765Z"
   },
   {
    "duration": 4514,
    "start_time": "2024-12-10T23:57:04.131Z"
   },
   {
    "duration": 1365,
    "start_time": "2024-12-11T00:01:35.544Z"
   },
   {
    "duration": 1009,
    "start_time": "2024-12-11T00:02:21.071Z"
   },
   {
    "duration": 4,
    "start_time": "2024-12-11T00:02:28.347Z"
   },
   {
    "duration": 24141,
    "start_time": "2024-12-11T00:02:29.094Z"
   },
   {
    "duration": 2630,
    "start_time": "2024-12-11T00:03:18.242Z"
   },
   {
    "duration": 2571,
    "start_time": "2024-12-11T00:03:20.874Z"
   },
   {
    "duration": 2005,
    "start_time": "2024-12-11T00:03:23.447Z"
   },
   {
    "duration": 3,
    "start_time": "2024-12-11T00:03:25.454Z"
   },
   {
    "duration": 4,
    "start_time": "2024-12-11T00:03:25.459Z"
   },
   {
    "duration": 11,
    "start_time": "2024-12-11T00:03:25.464Z"
   },
   {
    "duration": 15,
    "start_time": "2024-12-11T00:03:25.477Z"
   },
   {
    "duration": 1128,
    "start_time": "2024-12-11T00:03:25.493Z"
   },
   {
    "duration": 75,
    "start_time": "2024-12-11T00:03:26.622Z"
   },
   {
    "duration": 1979,
    "start_time": "2024-12-11T00:03:26.698Z"
   },
   {
    "duration": 315,
    "start_time": "2024-12-11T00:03:28.679Z"
   },
   {
    "duration": 431,
    "start_time": "2024-12-11T00:03:28.995Z"
   },
   {
    "duration": 40,
    "start_time": "2024-12-11T00:03:29.428Z"
   },
   {
    "duration": 9323,
    "start_time": "2024-12-11T00:03:29.471Z"
   },
   {
    "duration": 129,
    "start_time": "2024-12-11T00:03:38.796Z"
   },
   {
    "duration": 6,
    "start_time": "2024-12-11T00:03:38.929Z"
   },
   {
    "duration": 123,
    "start_time": "2024-12-11T00:03:38.937Z"
   },
   {
    "duration": 415,
    "start_time": "2024-12-11T00:03:39.062Z"
   },
   {
    "duration": 292,
    "start_time": "2024-12-11T00:03:39.478Z"
   },
   {
    "duration": 679,
    "start_time": "2024-12-11T00:03:39.772Z"
   },
   {
    "duration": 331,
    "start_time": "2024-12-11T00:03:40.453Z"
   },
   {
    "duration": 117,
    "start_time": "2024-12-11T00:03:40.786Z"
   },
   {
    "duration": 66,
    "start_time": "2024-12-11T00:03:40.905Z"
   },
   {
    "duration": 2114,
    "start_time": "2024-12-11T00:03:40.972Z"
   },
   {
    "duration": 4,
    "start_time": "2024-12-11T00:03:43.087Z"
   },
   {
    "duration": 39,
    "start_time": "2024-12-11T00:03:43.093Z"
   },
   {
    "duration": 7,
    "start_time": "2024-12-11T00:03:43.142Z"
   },
   {
    "duration": 24,
    "start_time": "2024-12-11T00:03:43.151Z"
   },
   {
    "duration": 442,
    "start_time": "2024-12-11T00:03:43.177Z"
   },
   {
    "duration": 31,
    "start_time": "2024-12-11T00:03:43.629Z"
   },
   {
    "duration": 1097,
    "start_time": "2024-12-11T00:03:43.662Z"
   },
   {
    "duration": 585,
    "start_time": "2024-12-11T00:03:44.761Z"
   },
   {
    "duration": 121,
    "start_time": "2024-12-11T00:03:45.347Z"
   },
   {
    "duration": 17,
    "start_time": "2024-12-11T00:03:45.469Z"
   },
   {
    "duration": 87,
    "start_time": "2024-12-11T00:03:45.487Z"
   },
   {
    "duration": 3,
    "start_time": "2024-12-11T00:03:45.575Z"
   },
   {
    "duration": 10,
    "start_time": "2024-12-11T00:03:45.579Z"
   },
   {
    "duration": 1053,
    "start_time": "2024-12-11T00:03:45.590Z"
   },
   {
    "duration": 3,
    "start_time": "2024-12-11T00:03:46.644Z"
   },
   {
    "duration": 23262,
    "start_time": "2024-12-11T00:03:46.648Z"
   },
   {
    "duration": 0,
    "start_time": "2024-12-11T00:04:09.912Z"
   },
   {
    "duration": 0,
    "start_time": "2024-12-11T00:04:09.913Z"
   },
   {
    "duration": 0,
    "start_time": "2024-12-11T00:04:09.914Z"
   },
   {
    "duration": 0,
    "start_time": "2024-12-11T00:04:09.915Z"
   },
   {
    "duration": 0,
    "start_time": "2024-12-11T00:04:09.916Z"
   },
   {
    "duration": 0,
    "start_time": "2024-12-11T00:04:09.917Z"
   },
   {
    "duration": 14342,
    "start_time": "2024-12-11T00:08:11.615Z"
   },
   {
    "duration": 1614,
    "start_time": "2024-12-11T00:09:05.284Z"
   },
   {
    "duration": 3,
    "start_time": "2024-12-11T00:09:09.800Z"
   },
   {
    "duration": 14764,
    "start_time": "2024-12-11T00:09:14.073Z"
   },
   {
    "duration": 15223,
    "start_time": "2024-12-11T00:09:41.712Z"
   },
   {
    "duration": 3370,
    "start_time": "2024-12-11T00:10:33.866Z"
   },
   {
    "duration": 50,
    "start_time": "2024-12-11T16:36:17.245Z"
   },
   {
    "duration": 3888,
    "start_time": "2024-12-11T16:36:27.222Z"
   },
   {
    "duration": 4555,
    "start_time": "2024-12-11T16:36:31.112Z"
   },
   {
    "duration": 2194,
    "start_time": "2024-12-11T16:36:35.669Z"
   },
   {
    "duration": 3,
    "start_time": "2024-12-11T16:36:37.866Z"
   },
   {
    "duration": 11,
    "start_time": "2024-12-11T16:36:37.870Z"
   },
   {
    "duration": 25,
    "start_time": "2024-12-11T16:36:37.883Z"
   },
   {
    "duration": 8,
    "start_time": "2024-12-11T16:36:37.910Z"
   },
   {
    "duration": 3223,
    "start_time": "2024-12-11T16:36:37.919Z"
   },
   {
    "duration": 71,
    "start_time": "2024-12-11T16:36:41.144Z"
   },
   {
    "duration": 1981,
    "start_time": "2024-12-11T16:36:41.231Z"
   },
   {
    "duration": 308,
    "start_time": "2024-12-11T16:36:43.214Z"
   },
   {
    "duration": 411,
    "start_time": "2024-12-11T16:36:43.529Z"
   },
   {
    "duration": 39,
    "start_time": "2024-12-11T16:36:43.942Z"
   },
   {
    "duration": 8938,
    "start_time": "2024-12-11T16:36:43.983Z"
   },
   {
    "duration": 123,
    "start_time": "2024-12-11T16:36:52.929Z"
   },
   {
    "duration": 3,
    "start_time": "2024-12-11T16:36:53.054Z"
   },
   {
    "duration": 110,
    "start_time": "2024-12-11T16:36:53.059Z"
   },
   {
    "duration": 390,
    "start_time": "2024-12-11T16:36:53.171Z"
   },
   {
    "duration": 298,
    "start_time": "2024-12-11T16:36:53.563Z"
   },
   {
    "duration": 661,
    "start_time": "2024-12-11T16:36:53.863Z"
   },
   {
    "duration": 357,
    "start_time": "2024-12-11T16:36:54.526Z"
   },
   {
    "duration": 116,
    "start_time": "2024-12-11T16:36:54.885Z"
   },
   {
    "duration": 59,
    "start_time": "2024-12-11T16:36:55.003Z"
   },
   {
    "duration": 2108,
    "start_time": "2024-12-11T16:36:55.063Z"
   },
   {
    "duration": 5,
    "start_time": "2024-12-11T16:36:57.173Z"
   },
   {
    "duration": 25,
    "start_time": "2024-12-11T16:36:57.179Z"
   },
   {
    "duration": 9,
    "start_time": "2024-12-11T16:36:57.230Z"
   },
   {
    "duration": 28,
    "start_time": "2024-12-11T16:36:57.245Z"
   },
   {
    "duration": 464,
    "start_time": "2024-12-11T16:36:57.275Z"
   },
   {
    "duration": 28,
    "start_time": "2024-12-11T16:36:57.741Z"
   },
   {
    "duration": 1097,
    "start_time": "2024-12-11T16:36:57.771Z"
   },
   {
    "duration": 552,
    "start_time": "2024-12-11T16:36:58.870Z"
   },
   {
    "duration": 126,
    "start_time": "2024-12-11T16:36:59.424Z"
   },
   {
    "duration": 18,
    "start_time": "2024-12-11T16:36:59.553Z"
   },
   {
    "duration": 93,
    "start_time": "2024-12-11T16:36:59.573Z"
   },
   {
    "duration": 3,
    "start_time": "2024-12-11T16:36:59.669Z"
   },
   {
    "duration": 10,
    "start_time": "2024-12-11T16:36:59.674Z"
   },
   {
    "duration": 1006,
    "start_time": "2024-12-11T16:36:59.686Z"
   },
   {
    "duration": 3,
    "start_time": "2024-12-11T16:37:00.694Z"
   },
   {
    "duration": 20042,
    "start_time": "2024-12-11T16:37:00.698Z"
   },
   {
    "duration": 3314,
    "start_time": "2024-12-11T16:37:20.831Z"
   },
   {
    "duration": 174,
    "start_time": "2024-12-11T16:37:24.231Z"
   },
   {
    "duration": 0,
    "start_time": "2024-12-11T16:37:24.407Z"
   },
   {
    "duration": 0,
    "start_time": "2024-12-11T16:37:24.408Z"
   },
   {
    "duration": 0,
    "start_time": "2024-12-11T16:37:24.409Z"
   },
   {
    "duration": 0,
    "start_time": "2024-12-11T16:37:24.411Z"
   },
   {
    "duration": 4,
    "start_time": "2024-12-11T16:37:36.359Z"
   },
   {
    "duration": 30,
    "start_time": "2024-12-11T16:37:37.788Z"
   },
   {
    "duration": 14,
    "start_time": "2024-12-11T16:46:18.674Z"
   },
   {
    "duration": 4,
    "start_time": "2024-12-11T16:46:31.759Z"
   },
   {
    "duration": 146,
    "start_time": "2024-12-11T16:46:36.296Z"
   },
   {
    "duration": 4,
    "start_time": "2024-12-11T16:49:40.808Z"
   },
   {
    "duration": 78,
    "start_time": "2024-12-11T16:49:48.046Z"
   },
   {
    "duration": 3,
    "start_time": "2024-12-11T16:50:29.111Z"
   },
   {
    "duration": 927,
    "start_time": "2024-12-11T16:50:30.384Z"
   },
   {
    "duration": 3,
    "start_time": "2024-12-11T16:51:28.057Z"
   },
   {
    "duration": 28,
    "start_time": "2024-12-11T16:51:29.736Z"
   },
   {
    "duration": 4,
    "start_time": "2024-12-11T16:55:03.950Z"
   },
   {
    "duration": 29,
    "start_time": "2024-12-11T16:55:05.747Z"
   },
   {
    "duration": 4,
    "start_time": "2024-12-11T16:57:34.443Z"
   },
   {
    "duration": 947,
    "start_time": "2024-12-11T16:57:35.774Z"
   },
   {
    "duration": 1574,
    "start_time": "2024-12-11T16:57:39.613Z"
   },
   {
    "duration": 3,
    "start_time": "2024-12-11T16:57:41.771Z"
   },
   {
    "duration": 21081,
    "start_time": "2024-12-11T16:57:42.860Z"
   },
   {
    "duration": 4,
    "start_time": "2024-12-11T17:03:47.527Z"
   },
   {
    "duration": 4,
    "start_time": "2024-12-11T17:04:16.145Z"
   },
   {
    "duration": 5,
    "start_time": "2024-12-11T17:04:57.522Z"
   },
   {
    "duration": 32,
    "start_time": "2024-12-11T17:05:18.169Z"
   },
   {
    "duration": 48,
    "start_time": "2024-12-11T17:06:05.217Z"
   },
   {
    "duration": 38,
    "start_time": "2024-12-11T17:06:30.097Z"
   },
   {
    "duration": 13,
    "start_time": "2024-12-11T17:06:42.818Z"
   },
   {
    "duration": 8,
    "start_time": "2024-12-11T17:07:11.043Z"
   },
   {
    "duration": 3,
    "start_time": "2024-12-11T17:07:20.730Z"
   },
   {
    "duration": 4,
    "start_time": "2024-12-11T17:07:23.834Z"
   },
   {
    "duration": 3,
    "start_time": "2024-12-11T17:08:29.174Z"
   },
   {
    "duration": 4,
    "start_time": "2024-12-11T17:08:43.495Z"
   },
   {
    "duration": 31,
    "start_time": "2024-12-11T17:08:48.498Z"
   },
   {
    "duration": 34,
    "start_time": "2024-12-11T17:09:02.357Z"
   },
   {
    "duration": 4,
    "start_time": "2024-12-11T17:09:33.948Z"
   },
   {
    "duration": 4,
    "start_time": "2024-12-11T17:09:40.355Z"
   },
   {
    "duration": 3,
    "start_time": "2024-12-11T17:09:43.346Z"
   },
   {
    "duration": 204,
    "start_time": "2024-12-11T17:09:44.602Z"
   },
   {
    "duration": 4,
    "start_time": "2024-12-11T17:09:51.949Z"
   },
   {
    "duration": 5,
    "start_time": "2024-12-11T17:09:54.678Z"
   },
   {
    "duration": 3,
    "start_time": "2024-12-11T17:09:55.340Z"
   },
   {
    "duration": 201,
    "start_time": "2024-12-11T17:09:58.029Z"
   },
   {
    "duration": 23,
    "start_time": "2024-12-11T17:10:57.893Z"
   },
   {
    "duration": 119,
    "start_time": "2024-12-11T17:11:53.417Z"
   },
   {
    "duration": 179,
    "start_time": "2024-12-11T17:11:57.110Z"
   },
   {
    "duration": 197,
    "start_time": "2024-12-11T17:12:27.934Z"
   },
   {
    "duration": 4,
    "start_time": "2024-12-11T17:13:05.863Z"
   },
   {
    "duration": 4,
    "start_time": "2024-12-11T17:13:08.272Z"
   },
   {
    "duration": 191,
    "start_time": "2024-12-11T17:13:09.839Z"
   },
   {
    "duration": 4,
    "start_time": "2024-12-11T17:13:20.478Z"
   },
   {
    "duration": 4,
    "start_time": "2024-12-11T17:13:22.375Z"
   },
   {
    "duration": 3,
    "start_time": "2024-12-11T17:13:26.933Z"
   },
   {
    "duration": 173,
    "start_time": "2024-12-11T17:13:28.759Z"
   },
   {
    "duration": 3,
    "start_time": "2024-12-11T17:13:38.626Z"
   },
   {
    "duration": 116,
    "start_time": "2024-12-11T17:13:43.199Z"
   },
   {
    "duration": 158,
    "start_time": "2024-12-11T17:13:48.910Z"
   },
   {
    "duration": 104529,
    "start_time": "2024-12-11T17:14:16.422Z"
   },
   {
    "duration": 7,
    "start_time": "2024-12-11T17:17:06.952Z"
   },
   {
    "duration": 4,
    "start_time": "2024-12-11T17:17:09.912Z"
   },
   {
    "duration": 3,
    "start_time": "2024-12-11T17:17:11.072Z"
   },
   {
    "duration": 178,
    "start_time": "2024-12-11T17:17:13.953Z"
   },
   {
    "duration": 3385,
    "start_time": "2024-12-11T17:17:46.557Z"
   },
   {
    "duration": 2678,
    "start_time": "2024-12-11T17:17:49.945Z"
   },
   {
    "duration": 2761,
    "start_time": "2024-12-11T17:17:52.625Z"
   },
   {
    "duration": 1872,
    "start_time": "2024-12-11T17:17:55.389Z"
   },
   {
    "duration": 3,
    "start_time": "2024-12-11T17:17:57.263Z"
   },
   {
    "duration": 23,
    "start_time": "2024-12-11T17:17:57.268Z"
   },
   {
    "duration": 6,
    "start_time": "2024-12-11T17:17:57.293Z"
   },
   {
    "duration": 21,
    "start_time": "2024-12-11T17:17:57.300Z"
   },
   {
    "duration": 1201,
    "start_time": "2024-12-11T17:17:57.323Z"
   },
   {
    "duration": 71,
    "start_time": "2024-12-11T17:17:58.527Z"
   },
   {
    "duration": 2053,
    "start_time": "2024-12-11T17:17:58.600Z"
   },
   {
    "duration": 303,
    "start_time": "2024-12-11T17:18:00.656Z"
   },
   {
    "duration": 403,
    "start_time": "2024-12-11T17:18:00.961Z"
   },
   {
    "duration": 35,
    "start_time": "2024-12-11T17:18:01.366Z"
   },
   {
    "duration": 9121,
    "start_time": "2024-12-11T17:18:01.403Z"
   },
   {
    "duration": 131,
    "start_time": "2024-12-11T17:18:10.525Z"
   },
   {
    "duration": 2,
    "start_time": "2024-12-11T17:18:10.658Z"
   },
   {
    "duration": 111,
    "start_time": "2024-12-11T17:18:10.661Z"
   },
   {
    "duration": 392,
    "start_time": "2024-12-11T17:18:10.774Z"
   },
   {
    "duration": 279,
    "start_time": "2024-12-11T17:18:11.168Z"
   },
   {
    "duration": 674,
    "start_time": "2024-12-11T17:18:11.448Z"
   },
   {
    "duration": 349,
    "start_time": "2024-12-11T17:18:12.123Z"
   },
   {
    "duration": 114,
    "start_time": "2024-12-11T17:18:12.474Z"
   },
   {
    "duration": 55,
    "start_time": "2024-12-11T17:18:12.593Z"
   },
   {
    "duration": 2158,
    "start_time": "2024-12-11T17:18:12.650Z"
   },
   {
    "duration": 5,
    "start_time": "2024-12-11T17:18:14.809Z"
   },
   {
    "duration": 51,
    "start_time": "2024-12-11T17:18:14.830Z"
   },
   {
    "duration": 6,
    "start_time": "2024-12-11T17:18:14.885Z"
   },
   {
    "duration": 26,
    "start_time": "2024-12-11T17:18:14.893Z"
   },
   {
    "duration": 444,
    "start_time": "2024-12-11T17:18:14.921Z"
   },
   {
    "duration": 28,
    "start_time": "2024-12-11T17:18:15.367Z"
   },
   {
    "duration": 1088,
    "start_time": "2024-12-11T17:18:15.396Z"
   },
   {
    "duration": 569,
    "start_time": "2024-12-11T17:18:16.486Z"
   },
   {
    "duration": 127,
    "start_time": "2024-12-11T17:18:17.057Z"
   },
   {
    "duration": 19,
    "start_time": "2024-12-11T17:18:17.186Z"
   },
   {
    "duration": 108,
    "start_time": "2024-12-11T17:18:17.207Z"
   },
   {
    "duration": 3,
    "start_time": "2024-12-11T17:18:17.317Z"
   },
   {
    "duration": 3,
    "start_time": "2024-12-11T17:18:17.330Z"
   },
   {
    "duration": 32,
    "start_time": "2024-12-11T17:18:17.334Z"
   },
   {
    "duration": 5,
    "start_time": "2024-12-11T17:18:17.368Z"
   },
   {
    "duration": 173,
    "start_time": "2024-12-11T17:18:17.375Z"
   },
   {
    "duration": 0,
    "start_time": "2024-12-11T17:18:17.550Z"
   },
   {
    "duration": 0,
    "start_time": "2024-12-11T17:18:17.551Z"
   },
   {
    "duration": 0,
    "start_time": "2024-12-11T17:18:17.553Z"
   },
   {
    "duration": 0,
    "start_time": "2024-12-11T17:18:17.554Z"
   },
   {
    "duration": 0,
    "start_time": "2024-12-11T17:18:17.555Z"
   },
   {
    "duration": 0,
    "start_time": "2024-12-11T17:18:17.557Z"
   },
   {
    "duration": 0,
    "start_time": "2024-12-11T17:18:17.559Z"
   },
   {
    "duration": 0,
    "start_time": "2024-12-11T17:18:17.560Z"
   },
   {
    "duration": 0,
    "start_time": "2024-12-11T17:18:17.561Z"
   },
   {
    "duration": 0,
    "start_time": "2024-12-11T17:18:17.563Z"
   },
   {
    "duration": 0,
    "start_time": "2024-12-11T17:18:17.564Z"
   },
   {
    "duration": 0,
    "start_time": "2024-12-11T17:18:17.566Z"
   },
   {
    "duration": 3,
    "start_time": "2024-12-11T17:19:07.449Z"
   },
   {
    "duration": 4,
    "start_time": "2024-12-11T17:19:11.424Z"
   },
   {
    "duration": 1841,
    "start_time": "2024-12-11T17:19:14.456Z"
   },
   {
    "duration": 1107,
    "start_time": "2024-12-11T17:19:20.553Z"
   },
   {
    "duration": 4,
    "start_time": "2024-12-11T17:19:42.698Z"
   },
   {
    "duration": 3,
    "start_time": "2024-12-11T17:19:45.962Z"
   },
   {
    "duration": 3,
    "start_time": "2024-12-11T17:19:50.815Z"
   },
   {
    "duration": 992,
    "start_time": "2024-12-11T17:19:51.410Z"
   },
   {
    "duration": 2,
    "start_time": "2024-12-11T17:19:58.729Z"
   },
   {
    "duration": 20575,
    "start_time": "2024-12-11T17:20:11.761Z"
   },
   {
    "duration": 19831,
    "start_time": "2024-12-11T19:00:02.900Z"
   },
   {
    "duration": 9,
    "start_time": "2024-12-11T19:12:40.370Z"
   },
   {
    "duration": 4,
    "start_time": "2024-12-11T19:14:24.650Z"
   },
   {
    "duration": 985,
    "start_time": "2024-12-11T19:14:28.828Z"
   },
   {
    "duration": 3,
    "start_time": "2024-12-11T19:15:18.979Z"
   },
   {
    "duration": 7,
    "start_time": "2024-12-11T19:16:43.245Z"
   },
   {
    "duration": 5,
    "start_time": "2024-12-11T19:17:23.348Z"
   },
   {
    "duration": 90,
    "start_time": "2024-12-11T19:19:43.525Z"
   },
   {
    "duration": 4,
    "start_time": "2024-12-11T19:19:49.444Z"
   },
   {
    "duration": 4,
    "start_time": "2024-12-11T19:20:53.908Z"
   },
   {
    "duration": 6,
    "start_time": "2024-12-11T19:25:29.875Z"
   },
   {
    "duration": 3,
    "start_time": "2024-12-11T19:26:26.938Z"
   },
   {
    "duration": 20,
    "start_time": "2024-12-11T19:26:42.199Z"
   },
   {
    "duration": 5,
    "start_time": "2024-12-11T19:29:00.361Z"
   },
   {
    "duration": 21,
    "start_time": "2024-12-11T19:29:01.268Z"
   },
   {
    "duration": 3,
    "start_time": "2024-12-11T19:29:07.423Z"
   },
   {
    "duration": 0,
    "start_time": "2024-12-11T19:29:55.176Z"
   },
   {
    "duration": 0,
    "start_time": "2024-12-11T19:29:55.178Z"
   },
   {
    "duration": 3,
    "start_time": "2024-12-11T19:30:17.587Z"
   },
   {
    "duration": 15360,
    "start_time": "2024-12-11T19:30:18.732Z"
   },
   {
    "duration": 3400,
    "start_time": "2024-12-11T19:30:42.383Z"
   },
   {
    "duration": 2784,
    "start_time": "2024-12-11T19:30:45.787Z"
   },
   {
    "duration": 2711,
    "start_time": "2024-12-11T19:30:48.573Z"
   },
   {
    "duration": 1850,
    "start_time": "2024-12-11T19:30:51.287Z"
   },
   {
    "duration": 3,
    "start_time": "2024-12-11T19:30:53.138Z"
   },
   {
    "duration": 38,
    "start_time": "2024-12-11T19:30:53.143Z"
   },
   {
    "duration": 27,
    "start_time": "2024-12-11T19:30:53.183Z"
   },
   {
    "duration": 15,
    "start_time": "2024-12-11T19:30:53.212Z"
   },
   {
    "duration": 1187,
    "start_time": "2024-12-11T19:30:53.228Z"
   },
   {
    "duration": 75,
    "start_time": "2024-12-11T19:30:54.418Z"
   },
   {
    "duration": 1844,
    "start_time": "2024-12-11T19:30:54.495Z"
   },
   {
    "duration": 262,
    "start_time": "2024-12-11T19:30:56.341Z"
   },
   {
    "duration": 411,
    "start_time": "2024-12-11T19:30:56.604Z"
   },
   {
    "duration": 40,
    "start_time": "2024-12-11T19:30:57.017Z"
   },
   {
    "duration": 9327,
    "start_time": "2024-12-11T19:30:57.059Z"
   },
   {
    "duration": 135,
    "start_time": "2024-12-11T19:31:06.388Z"
   },
   {
    "duration": 3,
    "start_time": "2024-12-11T19:31:06.529Z"
   },
   {
    "duration": 124,
    "start_time": "2024-12-11T19:31:06.534Z"
   },
   {
    "duration": 450,
    "start_time": "2024-12-11T19:31:06.660Z"
   },
   {
    "duration": 334,
    "start_time": "2024-12-11T19:31:07.112Z"
   },
   {
    "duration": 760,
    "start_time": "2024-12-11T19:31:07.448Z"
   },
   {
    "duration": 383,
    "start_time": "2024-12-11T19:31:08.210Z"
   },
   {
    "duration": 159,
    "start_time": "2024-12-11T19:31:08.595Z"
   },
   {
    "duration": 89,
    "start_time": "2024-12-11T19:31:08.756Z"
   },
   {
    "duration": 2315,
    "start_time": "2024-12-11T19:31:08.848Z"
   },
   {
    "duration": 6,
    "start_time": "2024-12-11T19:31:11.166Z"
   },
   {
    "duration": 58,
    "start_time": "2024-12-11T19:31:11.174Z"
   },
   {
    "duration": 9,
    "start_time": "2024-12-11T19:31:11.238Z"
   },
   {
    "duration": 33,
    "start_time": "2024-12-11T19:31:11.249Z"
   },
   {
    "duration": 464,
    "start_time": "2024-12-11T19:31:11.284Z"
   },
   {
    "duration": 26,
    "start_time": "2024-12-11T19:31:11.750Z"
   },
   {
    "duration": 1129,
    "start_time": "2024-12-11T19:31:11.778Z"
   },
   {
    "duration": 632,
    "start_time": "2024-12-11T19:31:12.909Z"
   },
   {
    "duration": 129,
    "start_time": "2024-12-11T19:31:13.543Z"
   },
   {
    "duration": 18,
    "start_time": "2024-12-11T19:31:13.674Z"
   },
   {
    "duration": 94,
    "start_time": "2024-12-11T19:31:13.694Z"
   },
   {
    "duration": 3,
    "start_time": "2024-12-11T19:31:13.790Z"
   },
   {
    "duration": 33,
    "start_time": "2024-12-11T19:31:13.796Z"
   },
   {
    "duration": 1062,
    "start_time": "2024-12-11T19:31:13.832Z"
   },
   {
    "duration": 6,
    "start_time": "2024-12-11T19:31:14.896Z"
   },
   {
    "duration": 10,
    "start_time": "2024-12-11T19:31:14.904Z"
   },
   {
    "duration": 20155,
    "start_time": "2024-12-11T19:31:14.915Z"
   },
   {
    "duration": 0,
    "start_time": "2024-12-11T19:31:35.072Z"
   },
   {
    "duration": 0,
    "start_time": "2024-12-11T19:31:35.074Z"
   },
   {
    "duration": 0,
    "start_time": "2024-12-11T19:31:35.075Z"
   },
   {
    "duration": 0,
    "start_time": "2024-12-11T19:31:35.076Z"
   },
   {
    "duration": 0,
    "start_time": "2024-12-11T19:31:35.077Z"
   },
   {
    "duration": 0,
    "start_time": "2024-12-11T19:31:35.078Z"
   },
   {
    "duration": 0,
    "start_time": "2024-12-11T19:31:35.079Z"
   },
   {
    "duration": 0,
    "start_time": "2024-12-11T19:31:35.081Z"
   },
   {
    "duration": 3364,
    "start_time": "2024-12-11T19:31:55.883Z"
   },
   {
    "duration": 2726,
    "start_time": "2024-12-11T19:31:59.250Z"
   },
   {
    "duration": 2744,
    "start_time": "2024-12-11T19:32:01.978Z"
   },
   {
    "duration": 1915,
    "start_time": "2024-12-11T19:32:04.726Z"
   },
   {
    "duration": 3,
    "start_time": "2024-12-11T19:32:06.643Z"
   },
   {
    "duration": 15,
    "start_time": "2024-12-11T19:32:06.647Z"
   },
   {
    "duration": 5,
    "start_time": "2024-12-11T19:32:06.664Z"
   },
   {
    "duration": 13,
    "start_time": "2024-12-11T19:32:06.671Z"
   },
   {
    "duration": 1104,
    "start_time": "2024-12-11T19:32:06.685Z"
   },
   {
    "duration": 78,
    "start_time": "2024-12-11T19:32:07.792Z"
   },
   {
    "duration": 2041,
    "start_time": "2024-12-11T19:32:07.872Z"
   },
   {
    "duration": 347,
    "start_time": "2024-12-11T19:32:09.915Z"
   },
   {
    "duration": 408,
    "start_time": "2024-12-11T19:32:10.264Z"
   },
   {
    "duration": 36,
    "start_time": "2024-12-11T19:32:10.674Z"
   },
   {
    "duration": 9199,
    "start_time": "2024-12-11T19:32:10.712Z"
   },
   {
    "duration": 130,
    "start_time": "2024-12-11T19:32:19.912Z"
   },
   {
    "duration": 3,
    "start_time": "2024-12-11T19:32:20.043Z"
   },
   {
    "duration": 115,
    "start_time": "2024-12-11T19:32:20.047Z"
   },
   {
    "duration": 388,
    "start_time": "2024-12-11T19:32:20.164Z"
   },
   {
    "duration": 289,
    "start_time": "2024-12-11T19:32:20.553Z"
   },
   {
    "duration": 654,
    "start_time": "2024-12-11T19:32:20.843Z"
   },
   {
    "duration": 332,
    "start_time": "2024-12-11T19:32:21.498Z"
   },
   {
    "duration": 111,
    "start_time": "2024-12-11T19:32:21.832Z"
   },
   {
    "duration": 48,
    "start_time": "2024-12-11T19:32:21.945Z"
   },
   {
    "duration": 2082,
    "start_time": "2024-12-11T19:32:21.995Z"
   },
   {
    "duration": 6,
    "start_time": "2024-12-11T19:32:24.079Z"
   },
   {
    "duration": 48,
    "start_time": "2024-12-11T19:32:24.086Z"
   },
   {
    "duration": 7,
    "start_time": "2024-12-11T19:32:24.139Z"
   },
   {
    "duration": 41,
    "start_time": "2024-12-11T19:32:24.147Z"
   },
   {
    "duration": 447,
    "start_time": "2024-12-11T19:32:24.189Z"
   },
   {
    "duration": 28,
    "start_time": "2024-12-11T19:32:24.638Z"
   },
   {
    "duration": 1151,
    "start_time": "2024-12-11T19:32:24.667Z"
   },
   {
    "duration": 602,
    "start_time": "2024-12-11T19:32:25.820Z"
   },
   {
    "duration": 127,
    "start_time": "2024-12-11T19:32:26.430Z"
   },
   {
    "duration": 18,
    "start_time": "2024-12-11T19:32:26.559Z"
   },
   {
    "duration": 93,
    "start_time": "2024-12-11T19:32:26.579Z"
   },
   {
    "duration": 4,
    "start_time": "2024-12-11T19:32:26.674Z"
   },
   {
    "duration": 17,
    "start_time": "2024-12-11T19:32:26.680Z"
   },
   {
    "duration": 17,
    "start_time": "2024-12-11T19:32:26.699Z"
   },
   {
    "duration": 8,
    "start_time": "2024-12-11T19:32:26.718Z"
   },
   {
    "duration": 7,
    "start_time": "2024-12-11T19:32:26.728Z"
   },
   {
    "duration": 186,
    "start_time": "2024-12-11T19:32:26.736Z"
   },
   {
    "duration": 0,
    "start_time": "2024-12-11T19:32:26.924Z"
   },
   {
    "duration": 0,
    "start_time": "2024-12-11T19:32:26.925Z"
   },
   {
    "duration": 0,
    "start_time": "2024-12-11T19:32:26.930Z"
   },
   {
    "duration": 0,
    "start_time": "2024-12-11T19:32:26.931Z"
   },
   {
    "duration": 0,
    "start_time": "2024-12-11T19:32:26.933Z"
   },
   {
    "duration": 0,
    "start_time": "2024-12-11T19:32:26.934Z"
   },
   {
    "duration": 0,
    "start_time": "2024-12-11T19:32:26.935Z"
   },
   {
    "duration": 0,
    "start_time": "2024-12-11T19:32:26.937Z"
   },
   {
    "duration": 4,
    "start_time": "2024-12-11T19:34:17.723Z"
   },
   {
    "duration": 4,
    "start_time": "2024-12-11T19:34:22.242Z"
   },
   {
    "duration": 90229,
    "start_time": "2024-12-11T19:34:28.603Z"
   },
   {
    "duration": 4,
    "start_time": "2024-12-11T19:36:20.644Z"
   },
   {
    "duration": 4,
    "start_time": "2024-12-11T19:36:23.788Z"
   },
   {
    "duration": 461314,
    "start_time": "2024-12-11T19:36:35.442Z"
   },
   {
    "duration": 0,
    "start_time": "2024-12-11T19:44:16.758Z"
   },
   {
    "duration": 3,
    "start_time": "2024-12-11T19:44:39.451Z"
   },
   {
    "duration": 80663,
    "start_time": "2024-12-11T19:44:41.682Z"
   },
   {
    "duration": 0,
    "start_time": "2024-12-11T19:46:02.350Z"
   },
   {
    "duration": 1156,
    "start_time": "2024-12-11T19:46:06.346Z"
   },
   {
    "duration": 12,
    "start_time": "2024-12-11T19:48:56.724Z"
   },
   {
    "duration": 4,
    "start_time": "2024-12-11T19:49:12.420Z"
   },
   {
    "duration": 1088,
    "start_time": "2024-12-11T19:49:14.749Z"
   },
   {
    "duration": 4739,
    "start_time": "2024-12-11T19:49:40.867Z"
   },
   {
    "duration": 3692,
    "start_time": "2024-12-11T19:50:02.772Z"
   },
   {
    "duration": 6071,
    "start_time": "2024-12-11T19:50:29.581Z"
   },
   {
    "duration": 4747,
    "start_time": "2024-12-11T19:50:42.117Z"
   },
   {
    "duration": 6226,
    "start_time": "2024-12-11T19:50:48.575Z"
   },
   {
    "duration": 7088,
    "start_time": "2024-12-11T19:51:00.461Z"
   },
   {
    "duration": 7930,
    "start_time": "2024-12-11T19:51:13.644Z"
   },
   {
    "duration": 7828,
    "start_time": "2024-12-11T19:51:25.940Z"
   },
   {
    "duration": 7179,
    "start_time": "2024-12-11T19:52:04.089Z"
   },
   {
    "duration": 7174,
    "start_time": "2024-12-11T19:52:20.702Z"
   },
   {
    "duration": 7068,
    "start_time": "2024-12-11T19:53:16.039Z"
   },
   {
    "duration": 5,
    "start_time": "2024-12-11T19:54:16.615Z"
   },
   {
    "duration": 4,
    "start_time": "2024-12-11T19:54:32.480Z"
   },
   {
    "duration": 5,
    "start_time": "2024-12-11T19:56:40.761Z"
   },
   {
    "duration": 17,
    "start_time": "2024-12-11T19:57:27.803Z"
   },
   {
    "duration": 6,
    "start_time": "2024-12-11T19:57:36.063Z"
   },
   {
    "duration": 98531,
    "start_time": "2024-12-11T19:57:48.719Z"
   },
   {
    "duration": 4,
    "start_time": "2024-12-11T19:59:41.900Z"
   },
   {
    "duration": 62009,
    "start_time": "2024-12-11T19:59:45.269Z"
   },
   {
    "duration": 4,
    "start_time": "2024-12-11T20:01:11.938Z"
   },
   {
    "duration": 1125,
    "start_time": "2024-12-11T20:02:51.794Z"
   },
   {
    "duration": 1095,
    "start_time": "2024-12-11T20:03:22.221Z"
   },
   {
    "duration": 5,
    "start_time": "2024-12-11T20:03:26.047Z"
   },
   {
    "duration": 7,
    "start_time": "2024-12-11T20:03:31.661Z"
   },
   {
    "duration": 1775,
    "start_time": "2024-12-11T20:04:42.780Z"
   },
   {
    "duration": 217379,
    "start_time": "2024-12-11T20:06:40.363Z"
   },
   {
    "duration": 188853,
    "start_time": "2024-12-11T20:15:09.433Z"
   },
   {
    "duration": 251375,
    "start_time": "2024-12-11T20:19:19.118Z"
   },
   {
    "duration": 74484,
    "start_time": "2024-12-11T20:23:48.624Z"
   },
   {
    "duration": 83291,
    "start_time": "2024-12-11T20:26:04.918Z"
   },
   {
    "duration": 19167,
    "start_time": "2024-12-11T20:29:50.768Z"
   },
   {
    "duration": 19501,
    "start_time": "2024-12-11T20:32:19.939Z"
   },
   {
    "duration": 20485,
    "start_time": "2024-12-11T20:37:24.348Z"
   },
   {
    "duration": 6217,
    "start_time": "2024-12-11T20:39:34.198Z"
   },
   {
    "duration": 1751,
    "start_time": "2024-12-11T20:43:51.793Z"
   },
   {
    "duration": 2076,
    "start_time": "2024-12-11T20:43:58.863Z"
   },
   {
    "duration": 2003,
    "start_time": "2024-12-11T20:44:10.237Z"
   },
   {
    "duration": 1977,
    "start_time": "2024-12-11T20:44:19.866Z"
   },
   {
    "duration": 11550,
    "start_time": "2024-12-11T20:44:27.888Z"
   },
   {
    "duration": 4146,
    "start_time": "2024-12-11T20:44:50.984Z"
   },
   {
    "duration": 7249,
    "start_time": "2024-12-11T20:45:08.194Z"
   },
   {
    "duration": 13,
    "start_time": "2024-12-11T20:50:07.985Z"
   },
   {
    "duration": 3,
    "start_time": "2024-12-11T20:50:12.104Z"
   },
   {
    "duration": 11939,
    "start_time": "2024-12-11T20:50:16.499Z"
   },
   {
    "duration": 76110,
    "start_time": "2024-12-11T20:50:42.809Z"
   },
   {
    "duration": 13,
    "start_time": "2024-12-11T20:52:11.924Z"
   },
   {
    "duration": 4,
    "start_time": "2024-12-11T20:52:17.851Z"
   },
   {
    "duration": 13,
    "start_time": "2024-12-11T20:52:20.647Z"
   },
   {
    "duration": 13739,
    "start_time": "2024-12-11T20:52:27.700Z"
   },
   {
    "duration": 58667,
    "start_time": "2024-12-11T20:53:14.897Z"
   },
   {
    "duration": 4,
    "start_time": "2024-12-11T20:56:49.552Z"
   },
   {
    "duration": 11941,
    "start_time": "2024-12-11T20:57:38.757Z"
   },
   {
    "duration": 157571,
    "start_time": "2024-12-11T20:58:28.942Z"
   },
   {
    "duration": 77968,
    "start_time": "2024-12-11T21:03:02.160Z"
   },
   {
    "duration": 381355,
    "start_time": "2024-12-11T21:11:04.124Z"
   },
   {
    "duration": 223224,
    "start_time": "2024-12-11T21:21:46.416Z"
   },
   {
    "duration": 21493,
    "start_time": "2024-12-11T21:27:42.163Z"
   },
   {
    "duration": 32029,
    "start_time": "2024-12-11T21:28:23.255Z"
   },
   {
    "duration": 145545,
    "start_time": "2024-12-11T21:29:27.961Z"
   },
   {
    "duration": 31292,
    "start_time": "2024-12-11T21:32:12.640Z"
   },
   {
    "duration": 30713,
    "start_time": "2024-12-11T21:36:41.104Z"
   },
   {
    "duration": 16,
    "start_time": "2024-12-11T21:51:52.559Z"
   },
   {
    "duration": 4,
    "start_time": "2024-12-11T22:35:04.018Z"
   },
   {
    "duration": 10,
    "start_time": "2024-12-11T22:35:20.143Z"
   },
   {
    "duration": 5,
    "start_time": "2024-12-11T22:35:24.650Z"
   },
   {
    "duration": 283,
    "start_time": "2024-12-11T22:36:05.620Z"
   },
   {
    "duration": 194,
    "start_time": "2024-12-11T22:36:14.774Z"
   },
   {
    "duration": 1859,
    "start_time": "2024-12-11T22:36:50.135Z"
   },
   {
    "duration": 407,
    "start_time": "2024-12-11T22:37:37.912Z"
   },
   {
    "duration": 10,
    "start_time": "2024-12-11T22:37:56.096Z"
   },
   {
    "duration": 375,
    "start_time": "2024-12-11T22:38:21.680Z"
   },
   {
    "duration": 2658,
    "start_time": "2024-12-11T22:41:10.659Z"
   },
   {
    "duration": 32,
    "start_time": "2024-12-11T22:41:46.379Z"
   },
   {
    "duration": 3,
    "start_time": "2024-12-11T22:42:23.053Z"
   },
   {
    "duration": 19,
    "start_time": "2024-12-11T22:42:27.211Z"
   },
   {
    "duration": 3153,
    "start_time": "2024-12-11T22:42:32.630Z"
   },
   {
    "duration": 2558,
    "start_time": "2024-12-11T22:42:35.786Z"
   },
   {
    "duration": 2566,
    "start_time": "2024-12-11T22:42:38.346Z"
   },
   {
    "duration": 2512,
    "start_time": "2024-12-11T22:42:40.914Z"
   },
   {
    "duration": 1914,
    "start_time": "2024-12-11T22:42:43.428Z"
   },
   {
    "duration": 145,
    "start_time": "2024-12-11T22:42:45.344Z"
   },
   {
    "duration": 0,
    "start_time": "2024-12-11T22:42:45.492Z"
   },
   {
    "duration": 0,
    "start_time": "2024-12-11T22:42:45.494Z"
   },
   {
    "duration": 0,
    "start_time": "2024-12-11T22:42:45.495Z"
   },
   {
    "duration": 0,
    "start_time": "2024-12-11T22:42:45.496Z"
   },
   {
    "duration": 0,
    "start_time": "2024-12-11T22:42:45.497Z"
   },
   {
    "duration": 0,
    "start_time": "2024-12-11T22:42:45.498Z"
   },
   {
    "duration": 0,
    "start_time": "2024-12-11T22:42:45.499Z"
   },
   {
    "duration": 0,
    "start_time": "2024-12-11T22:42:45.500Z"
   },
   {
    "duration": 0,
    "start_time": "2024-12-11T22:42:45.501Z"
   },
   {
    "duration": 0,
    "start_time": "2024-12-11T22:42:45.502Z"
   },
   {
    "duration": 0,
    "start_time": "2024-12-11T22:42:45.503Z"
   },
   {
    "duration": 0,
    "start_time": "2024-12-11T22:42:45.504Z"
   },
   {
    "duration": 0,
    "start_time": "2024-12-11T22:42:45.505Z"
   },
   {
    "duration": 0,
    "start_time": "2024-12-11T22:42:45.506Z"
   },
   {
    "duration": 0,
    "start_time": "2024-12-11T22:42:45.532Z"
   },
   {
    "duration": 0,
    "start_time": "2024-12-11T22:42:45.533Z"
   },
   {
    "duration": 0,
    "start_time": "2024-12-11T22:42:45.534Z"
   },
   {
    "duration": 0,
    "start_time": "2024-12-11T22:42:45.535Z"
   },
   {
    "duration": 0,
    "start_time": "2024-12-11T22:42:45.537Z"
   },
   {
    "duration": 0,
    "start_time": "2024-12-11T22:42:45.538Z"
   },
   {
    "duration": 0,
    "start_time": "2024-12-11T22:42:45.539Z"
   },
   {
    "duration": 0,
    "start_time": "2024-12-11T22:42:45.540Z"
   },
   {
    "duration": 0,
    "start_time": "2024-12-11T22:42:45.541Z"
   },
   {
    "duration": 0,
    "start_time": "2024-12-11T22:42:45.543Z"
   },
   {
    "duration": 0,
    "start_time": "2024-12-11T22:42:45.544Z"
   },
   {
    "duration": 0,
    "start_time": "2024-12-11T22:42:45.545Z"
   },
   {
    "duration": 0,
    "start_time": "2024-12-11T22:42:45.546Z"
   },
   {
    "duration": 0,
    "start_time": "2024-12-11T22:42:45.547Z"
   },
   {
    "duration": 0,
    "start_time": "2024-12-11T22:42:45.549Z"
   },
   {
    "duration": 0,
    "start_time": "2024-12-11T22:42:45.550Z"
   },
   {
    "duration": 0,
    "start_time": "2024-12-11T22:42:45.551Z"
   },
   {
    "duration": 0,
    "start_time": "2024-12-11T22:42:45.551Z"
   },
   {
    "duration": 0,
    "start_time": "2024-12-11T22:42:45.553Z"
   },
   {
    "duration": 0,
    "start_time": "2024-12-11T22:42:45.553Z"
   },
   {
    "duration": 0,
    "start_time": "2024-12-11T22:42:45.554Z"
   },
   {
    "duration": 0,
    "start_time": "2024-12-11T22:42:45.556Z"
   },
   {
    "duration": 0,
    "start_time": "2024-12-11T22:42:45.557Z"
   },
   {
    "duration": 0,
    "start_time": "2024-12-11T22:42:45.558Z"
   },
   {
    "duration": 0,
    "start_time": "2024-12-11T22:42:45.559Z"
   },
   {
    "duration": 0,
    "start_time": "2024-12-11T22:42:45.560Z"
   },
   {
    "duration": 0,
    "start_time": "2024-12-11T22:42:45.561Z"
   },
   {
    "duration": 1,
    "start_time": "2024-12-11T22:42:45.562Z"
   },
   {
    "duration": 5,
    "start_time": "2024-12-11T22:43:16.148Z"
   },
   {
    "duration": 3,
    "start_time": "2024-12-11T22:43:33.835Z"
   },
   {
    "duration": 3198,
    "start_time": "2024-12-11T22:43:49.035Z"
   },
   {
    "duration": 2537,
    "start_time": "2024-12-11T22:43:52.235Z"
   },
   {
    "duration": 2526,
    "start_time": "2024-12-11T22:43:54.774Z"
   },
   {
    "duration": 2642,
    "start_time": "2024-12-11T22:43:57.303Z"
   },
   {
    "duration": 1916,
    "start_time": "2024-12-11T22:43:59.946Z"
   },
   {
    "duration": 2,
    "start_time": "2024-12-11T22:44:01.864Z"
   },
   {
    "duration": 36,
    "start_time": "2024-12-11T22:44:01.868Z"
   },
   {
    "duration": 15,
    "start_time": "2024-12-11T22:44:01.906Z"
   },
   {
    "duration": 21,
    "start_time": "2024-12-11T22:44:01.923Z"
   },
   {
    "duration": 1129,
    "start_time": "2024-12-11T22:44:01.947Z"
   },
   {
    "duration": 82,
    "start_time": "2024-12-11T22:44:03.078Z"
   },
   {
    "duration": 2010,
    "start_time": "2024-12-11T22:44:03.161Z"
   },
   {
    "duration": 307,
    "start_time": "2024-12-11T22:44:05.172Z"
   },
   {
    "duration": 418,
    "start_time": "2024-12-11T22:44:05.481Z"
   },
   {
    "duration": 45,
    "start_time": "2024-12-11T22:44:05.900Z"
   },
   {
    "duration": 8979,
    "start_time": "2024-12-11T22:44:05.947Z"
   },
   {
    "duration": 125,
    "start_time": "2024-12-11T22:44:14.930Z"
   },
   {
    "duration": 2,
    "start_time": "2024-12-11T22:44:15.057Z"
   },
   {
    "duration": 125,
    "start_time": "2024-12-11T22:44:15.061Z"
   },
   {
    "duration": 407,
    "start_time": "2024-12-11T22:44:15.187Z"
   },
   {
    "duration": 283,
    "start_time": "2024-12-11T22:44:15.595Z"
   },
   {
    "duration": 640,
    "start_time": "2024-12-11T22:44:15.880Z"
   },
   {
    "duration": 322,
    "start_time": "2024-12-11T22:44:16.522Z"
   },
   {
    "duration": 111,
    "start_time": "2024-12-11T22:44:16.846Z"
   },
   {
    "duration": 47,
    "start_time": "2024-12-11T22:44:16.959Z"
   },
   {
    "duration": 2128,
    "start_time": "2024-12-11T22:44:17.007Z"
   },
   {
    "duration": 4,
    "start_time": "2024-12-11T22:44:19.137Z"
   },
   {
    "duration": 30,
    "start_time": "2024-12-11T22:44:19.145Z"
   },
   {
    "duration": 6,
    "start_time": "2024-12-11T22:44:19.177Z"
   },
   {
    "duration": 56,
    "start_time": "2024-12-11T22:44:19.184Z"
   },
   {
    "duration": 431,
    "start_time": "2024-12-11T22:44:19.241Z"
   },
   {
    "duration": 31,
    "start_time": "2024-12-11T22:44:19.674Z"
   },
   {
    "duration": 1028,
    "start_time": "2024-12-11T22:44:19.707Z"
   },
   {
    "duration": 555,
    "start_time": "2024-12-11T22:44:20.737Z"
   },
   {
    "duration": 121,
    "start_time": "2024-12-11T22:44:21.294Z"
   },
   {
    "duration": 24,
    "start_time": "2024-12-11T22:44:21.417Z"
   },
   {
    "duration": 89,
    "start_time": "2024-12-11T22:44:21.443Z"
   },
   {
    "duration": 3,
    "start_time": "2024-12-11T22:44:21.534Z"
   },
   {
    "duration": 4,
    "start_time": "2024-12-11T22:44:21.538Z"
   },
   {
    "duration": 1779,
    "start_time": "2024-12-11T22:44:21.544Z"
   },
   {
    "duration": 14102,
    "start_time": "2024-12-11T22:44:23.329Z"
   },
   {
    "duration": 73974,
    "start_time": "2024-12-11T22:44:37.433Z"
   },
   {
    "duration": 6296,
    "start_time": "2024-12-11T22:45:51.409Z"
   },
   {
    "duration": 3,
    "start_time": "2024-12-11T22:45:57.706Z"
   },
   {
    "duration": 76792,
    "start_time": "2024-12-11T22:45:57.710Z"
   },
   {
    "duration": 95,
    "start_time": "2024-12-11T22:47:14.504Z"
   },
   {
    "duration": 0,
    "start_time": "2024-12-11T22:47:14.601Z"
   },
   {
    "duration": 6216,
    "start_time": "2024-12-11T22:47:38.528Z"
   },
   {
    "duration": 3,
    "start_time": "2024-12-11T22:48:00.614Z"
   },
   {
    "duration": 77696,
    "start_time": "2024-12-11T22:48:00.619Z"
   },
   {
    "duration": 100,
    "start_time": "2024-12-11T22:49:18.318Z"
   },
   {
    "duration": 0,
    "start_time": "2024-12-11T22:49:18.420Z"
   },
   {
    "duration": 30998,
    "start_time": "2024-12-11T22:52:29.891Z"
   },
   {
    "duration": 3,
    "start_time": "2024-12-11T22:56:47.539Z"
   },
   {
    "duration": 144,
    "start_time": "2024-12-11T22:58:38.540Z"
   },
   {
    "duration": 4833,
    "start_time": "2024-12-11T22:58:44.906Z"
   },
   {
    "duration": 539,
    "start_time": "2024-12-11T22:59:11.693Z"
   },
   {
    "duration": 5,
    "start_time": "2024-12-11T22:59:32.537Z"
   },
   {
    "duration": 3,
    "start_time": "2024-12-11T23:00:57.909Z"
   },
   {
    "duration": 11084,
    "start_time": "2024-12-11T23:00:59.154Z"
   },
   {
    "duration": 1123,
    "start_time": "2024-12-11T23:01:23.323Z"
   },
   {
    "duration": 6,
    "start_time": "2024-12-11T23:01:26.006Z"
   },
   {
    "duration": 2,
    "start_time": "2024-12-11T23:01:30.558Z"
   },
   {
    "duration": 16644,
    "start_time": "2024-12-11T23:01:31.302Z"
   },
   {
    "duration": 2102,
    "start_time": "2024-12-11T23:01:47.949Z"
   },
   {
    "duration": 80,
    "start_time": "2024-12-11T23:01:50.053Z"
   },
   {
    "duration": 12,
    "start_time": "2024-12-11T23:12:10.822Z"
   },
   {
    "duration": 3,
    "start_time": "2024-12-11T23:12:57.463Z"
   },
   {
    "duration": 153113,
    "start_time": "2024-12-11T23:13:30.542Z"
   },
   {
    "duration": 33020,
    "start_time": "2024-12-11T23:18:50.169Z"
   },
   {
    "duration": 100807,
    "start_time": "2024-12-11T23:19:31.930Z"
   },
   {
    "duration": 8029,
    "start_time": "2024-12-11T23:21:16.327Z"
   },
   {
    "duration": 361701,
    "start_time": "2024-12-11T23:21:29.550Z"
   },
   {
    "duration": 5,
    "start_time": "2024-12-11T23:27:44.228Z"
   },
   {
    "duration": 11,
    "start_time": "2024-12-11T23:27:49.061Z"
   },
   {
    "duration": 4,
    "start_time": "2024-12-11T23:28:27.326Z"
   },
   {
    "duration": 16,
    "start_time": "2024-12-11T23:28:37.278Z"
   },
   {
    "duration": 5,
    "start_time": "2024-12-11T23:28:50.847Z"
   },
   {
    "duration": 4,
    "start_time": "2024-12-11T23:29:06.117Z"
   },
   {
    "duration": 5,
    "start_time": "2024-12-11T23:29:23.438Z"
   },
   {
    "duration": 18,
    "start_time": "2024-12-11T23:29:27.479Z"
   },
   {
    "duration": 31,
    "start_time": "2024-12-11T23:29:30.728Z"
   },
   {
    "duration": 5,
    "start_time": "2024-12-11T23:29:34.830Z"
   },
   {
    "duration": 4,
    "start_time": "2024-12-11T23:29:41.787Z"
   },
   {
    "duration": 5,
    "start_time": "2024-12-11T23:29:45.166Z"
   },
   {
    "duration": 4,
    "start_time": "2024-12-11T23:29:53.367Z"
   },
   {
    "duration": 4,
    "start_time": "2024-12-11T23:29:56.041Z"
   },
   {
    "duration": 6,
    "start_time": "2024-12-11T23:30:04.560Z"
   },
   {
    "duration": 4,
    "start_time": "2024-12-11T23:30:25.866Z"
   },
   {
    "duration": 6,
    "start_time": "2024-12-11T23:30:30.664Z"
   },
   {
    "duration": 3,
    "start_time": "2024-12-11T23:30:37.191Z"
   },
   {
    "duration": 4,
    "start_time": "2024-12-11T23:31:15.422Z"
   },
   {
    "duration": 4,
    "start_time": "2024-12-11T23:31:24.149Z"
   },
   {
    "duration": 4,
    "start_time": "2024-12-11T23:31:27.170Z"
   },
   {
    "duration": 3,
    "start_time": "2024-12-11T23:31:33.126Z"
   },
   {
    "duration": 4,
    "start_time": "2024-12-11T23:31:36.385Z"
   },
   {
    "duration": 4,
    "start_time": "2024-12-11T23:31:39.232Z"
   },
   {
    "duration": 4,
    "start_time": "2024-12-11T23:31:42.280Z"
   },
   {
    "duration": 6,
    "start_time": "2024-12-11T23:31:51.184Z"
   },
   {
    "duration": 11,
    "start_time": "2024-12-11T23:31:55.176Z"
   },
   {
    "duration": 11,
    "start_time": "2024-12-11T23:31:59.048Z"
   },
   {
    "duration": 5086,
    "start_time": "2024-12-11T23:32:12.952Z"
   },
   {
    "duration": 20,
    "start_time": "2024-12-11T23:32:30.208Z"
   },
   {
    "duration": 10,
    "start_time": "2024-12-11T23:32:36.839Z"
   },
   {
    "duration": 13,
    "start_time": "2024-12-11T23:32:47.929Z"
   },
   {
    "duration": 19,
    "start_time": "2024-12-11T23:33:01.279Z"
   },
   {
    "duration": 12,
    "start_time": "2024-12-11T23:33:39.473Z"
   },
   {
    "duration": 18,
    "start_time": "2024-12-11T23:33:42.808Z"
   },
   {
    "duration": 5,
    "start_time": "2024-12-11T23:34:03.921Z"
   },
   {
    "duration": 6,
    "start_time": "2024-12-11T23:34:17.172Z"
   },
   {
    "duration": 4461,
    "start_time": "2024-12-11T23:34:22.595Z"
   },
   {
    "duration": 18,
    "start_time": "2024-12-11T23:34:33.157Z"
   },
   {
    "duration": 10890,
    "start_time": "2024-12-11T23:34:43.249Z"
   },
   {
    "duration": 6,
    "start_time": "2024-12-11T23:35:14.769Z"
   },
   {
    "duration": 4,
    "start_time": "2024-12-11T23:36:30.818Z"
   },
   {
    "duration": 5,
    "start_time": "2024-12-11T23:36:54.061Z"
   },
   {
    "duration": 25420,
    "start_time": "2024-12-11T23:37:13.119Z"
   },
   {
    "duration": 6,
    "start_time": "2024-12-11T23:37:54.563Z"
   },
   {
    "duration": 4,
    "start_time": "2024-12-11T23:38:09.124Z"
   },
   {
    "duration": 381875,
    "start_time": "2024-12-11T23:38:22.069Z"
   },
   {
    "duration": 4,
    "start_time": "2024-12-11T23:45:11.272Z"
   },
   {
    "duration": 4,
    "start_time": "2024-12-11T23:45:21.631Z"
   },
   {
    "duration": 4,
    "start_time": "2024-12-11T23:45:28.479Z"
   },
   {
    "duration": 5,
    "start_time": "2024-12-11T23:45:48.222Z"
   },
   {
    "duration": 3,
    "start_time": "2024-12-11T23:46:33.854Z"
   },
   {
    "duration": 12921,
    "start_time": "2024-12-11T23:47:01.718Z"
   },
   {
    "duration": 1559,
    "start_time": "2024-12-11T23:47:52.288Z"
   },
   {
    "duration": 4,
    "start_time": "2024-12-12T00:03:37.688Z"
   },
   {
    "duration": 4,
    "start_time": "2024-12-12T00:03:44.815Z"
   },
   {
    "duration": 4,
    "start_time": "2024-12-12T00:04:52.215Z"
   },
   {
    "duration": 3,
    "start_time": "2024-12-12T00:06:51.856Z"
   },
   {
    "duration": 0,
    "start_time": "2024-12-12T00:20:40.055Z"
   },
   {
    "duration": 24426,
    "start_time": "2024-12-12T00:31:17.324Z"
   },
   {
    "duration": 3,
    "start_time": "2024-12-12T00:32:07.916Z"
   },
   {
    "duration": 45488,
    "start_time": "2024-12-12T00:32:10.652Z"
   },
   {
    "duration": 3220,
    "start_time": "2024-12-12T00:33:22.663Z"
   },
   {
    "duration": 2622,
    "start_time": "2024-12-12T00:33:25.885Z"
   },
   {
    "duration": 2680,
    "start_time": "2024-12-12T00:33:28.509Z"
   },
   {
    "duration": 2762,
    "start_time": "2024-12-12T00:33:31.191Z"
   },
   {
    "duration": 1876,
    "start_time": "2024-12-12T00:33:33.955Z"
   },
   {
    "duration": 2,
    "start_time": "2024-12-12T00:33:35.833Z"
   },
   {
    "duration": 24,
    "start_time": "2024-12-12T00:33:35.838Z"
   },
   {
    "duration": 21,
    "start_time": "2024-12-12T00:33:35.864Z"
   },
   {
    "duration": 24,
    "start_time": "2024-12-12T00:33:35.887Z"
   },
   {
    "duration": 1144,
    "start_time": "2024-12-12T00:33:35.914Z"
   },
   {
    "duration": 83,
    "start_time": "2024-12-12T00:33:37.059Z"
   },
   {
    "duration": 1988,
    "start_time": "2024-12-12T00:33:37.143Z"
   },
   {
    "duration": 301,
    "start_time": "2024-12-12T00:33:39.132Z"
   },
   {
    "duration": 398,
    "start_time": "2024-12-12T00:33:39.435Z"
   },
   {
    "duration": 38,
    "start_time": "2024-12-12T00:33:39.834Z"
   },
   {
    "duration": 9096,
    "start_time": "2024-12-12T00:33:39.874Z"
   },
   {
    "duration": 136,
    "start_time": "2024-12-12T00:33:48.972Z"
   },
   {
    "duration": 2,
    "start_time": "2024-12-12T00:33:49.110Z"
   },
   {
    "duration": 109,
    "start_time": "2024-12-12T00:33:49.114Z"
   },
   {
    "duration": 391,
    "start_time": "2024-12-12T00:33:49.225Z"
   },
   {
    "duration": 287,
    "start_time": "2024-12-12T00:33:49.617Z"
   },
   {
    "duration": 685,
    "start_time": "2024-12-12T00:33:49.906Z"
   },
   {
    "duration": 349,
    "start_time": "2024-12-12T00:33:50.592Z"
   },
   {
    "duration": 116,
    "start_time": "2024-12-12T00:33:50.943Z"
   },
   {
    "duration": 47,
    "start_time": "2024-12-12T00:33:51.060Z"
   },
   {
    "duration": 2082,
    "start_time": "2024-12-12T00:33:51.108Z"
   },
   {
    "duration": 5,
    "start_time": "2024-12-12T00:33:53.191Z"
   },
   {
    "duration": 47,
    "start_time": "2024-12-12T00:33:53.199Z"
   },
   {
    "duration": 7,
    "start_time": "2024-12-12T00:33:53.247Z"
   },
   {
    "duration": 26,
    "start_time": "2024-12-12T00:33:53.256Z"
   },
   {
    "duration": 463,
    "start_time": "2024-12-12T00:33:53.284Z"
   },
   {
    "duration": 29,
    "start_time": "2024-12-12T00:33:53.748Z"
   },
   {
    "duration": 1120,
    "start_time": "2024-12-12T00:33:53.779Z"
   },
   {
    "duration": 575,
    "start_time": "2024-12-12T00:33:54.901Z"
   },
   {
    "duration": 126,
    "start_time": "2024-12-12T00:33:55.478Z"
   },
   {
    "duration": 35,
    "start_time": "2024-12-12T00:33:55.606Z"
   },
   {
    "duration": 92,
    "start_time": "2024-12-12T00:33:55.642Z"
   },
   {
    "duration": 2,
    "start_time": "2024-12-12T00:33:55.736Z"
   },
   {
    "duration": 13,
    "start_time": "2024-12-12T00:33:55.740Z"
   },
   {
    "duration": 1817,
    "start_time": "2024-12-12T00:33:55.755Z"
   },
   {
    "duration": 17264,
    "start_time": "2024-12-12T00:33:57.574Z"
   },
   {
    "duration": 78416,
    "start_time": "2024-12-12T00:34:14.840Z"
   },
   {
    "duration": 6511,
    "start_time": "2024-12-12T00:35:33.257Z"
   },
   {
    "duration": 3,
    "start_time": "2024-12-12T00:35:39.770Z"
   },
   {
    "duration": 78388,
    "start_time": "2024-12-12T00:35:39.774Z"
   },
   {
    "duration": 31341,
    "start_time": "2024-12-12T00:36:58.164Z"
   },
   {
    "duration": 5,
    "start_time": "2024-12-12T00:37:29.506Z"
   },
   {
    "duration": 161,
    "start_time": "2024-12-12T00:37:29.512Z"
   },
   {
    "duration": 0,
    "start_time": "2024-12-12T00:37:29.675Z"
   },
   {
    "duration": 0,
    "start_time": "2024-12-12T00:37:29.676Z"
   },
   {
    "duration": 0,
    "start_time": "2024-12-12T00:37:29.677Z"
   },
   {
    "duration": 0,
    "start_time": "2024-12-12T00:37:29.679Z"
   },
   {
    "duration": 0,
    "start_time": "2024-12-12T00:37:29.680Z"
   },
   {
    "duration": 0,
    "start_time": "2024-12-12T00:37:29.681Z"
   },
   {
    "duration": 3,
    "start_time": "2024-12-12T00:37:48.697Z"
   },
   {
    "duration": 133600,
    "start_time": "2024-12-12T00:37:50.346Z"
   },
   {
    "duration": 4,
    "start_time": "2024-12-12T00:40:11.002Z"
   },
   {
    "duration": 66256,
    "start_time": "2024-12-12T00:40:11.891Z"
   },
   {
    "duration": 3,
    "start_time": "2024-12-12T00:41:21.659Z"
   },
   {
    "duration": 26526,
    "start_time": "2024-12-12T00:41:28.909Z"
   },
   {
    "duration": 12377,
    "start_time": "2024-12-12T00:42:00.580Z"
   },
   {
    "duration": 3,
    "start_time": "2024-12-12T00:42:26.637Z"
   },
   {
    "duration": 9835,
    "start_time": "2024-12-12T00:42:30.116Z"
   },
   {
    "duration": 4,
    "start_time": "2024-12-12T00:42:46.244Z"
   },
   {
    "duration": 477088,
    "start_time": "2024-12-12T00:42:48.952Z"
   },
   {
    "duration": 3453,
    "start_time": "2024-12-12T00:52:29.639Z"
   },
   {
    "duration": 2650,
    "start_time": "2024-12-12T00:52:33.094Z"
   },
   {
    "duration": 2654,
    "start_time": "2024-12-12T00:52:35.746Z"
   },
   {
    "duration": 2699,
    "start_time": "2024-12-12T00:52:38.403Z"
   },
   {
    "duration": 1930,
    "start_time": "2024-12-12T00:52:41.104Z"
   },
   {
    "duration": 3,
    "start_time": "2024-12-12T00:52:43.036Z"
   },
   {
    "duration": 14,
    "start_time": "2024-12-12T00:52:43.041Z"
   },
   {
    "duration": 6,
    "start_time": "2024-12-12T00:52:43.057Z"
   },
   {
    "duration": 7,
    "start_time": "2024-12-12T00:52:43.065Z"
   },
   {
    "duration": 1125,
    "start_time": "2024-12-12T00:52:43.075Z"
   },
   {
    "duration": 76,
    "start_time": "2024-12-12T00:52:44.202Z"
   },
   {
    "duration": 1980,
    "start_time": "2024-12-12T00:52:44.280Z"
   },
   {
    "duration": 298,
    "start_time": "2024-12-12T00:52:46.261Z"
   },
   {
    "duration": 412,
    "start_time": "2024-12-12T00:52:46.561Z"
   },
   {
    "duration": 55,
    "start_time": "2024-12-12T00:52:46.975Z"
   },
   {
    "duration": 9080,
    "start_time": "2024-12-12T00:52:47.032Z"
   },
   {
    "duration": 129,
    "start_time": "2024-12-12T00:52:56.114Z"
   },
   {
    "duration": 3,
    "start_time": "2024-12-12T00:52:56.245Z"
   },
   {
    "duration": 124,
    "start_time": "2024-12-12T00:52:56.250Z"
   },
   {
    "duration": 393,
    "start_time": "2024-12-12T00:52:56.376Z"
   },
   {
    "duration": 291,
    "start_time": "2024-12-12T00:52:56.770Z"
   },
   {
    "duration": 686,
    "start_time": "2024-12-12T00:52:57.063Z"
   },
   {
    "duration": 367,
    "start_time": "2024-12-12T00:52:57.750Z"
   },
   {
    "duration": 120,
    "start_time": "2024-12-12T00:52:58.119Z"
   },
   {
    "duration": 47,
    "start_time": "2024-12-12T00:52:58.241Z"
   },
   {
    "duration": 2162,
    "start_time": "2024-12-12T00:52:58.289Z"
   },
   {
    "duration": 4,
    "start_time": "2024-12-12T00:53:00.453Z"
   },
   {
    "duration": 40,
    "start_time": "2024-12-12T00:53:00.462Z"
   },
   {
    "duration": 7,
    "start_time": "2024-12-12T00:53:00.504Z"
   },
   {
    "duration": 43,
    "start_time": "2024-12-12T00:53:00.512Z"
   },
   {
    "duration": 442,
    "start_time": "2024-12-12T00:53:00.557Z"
   },
   {
    "duration": 40,
    "start_time": "2024-12-12T00:53:01.001Z"
   },
   {
    "duration": 1051,
    "start_time": "2024-12-12T00:53:01.043Z"
   },
   {
    "duration": 566,
    "start_time": "2024-12-12T00:53:02.096Z"
   },
   {
    "duration": 127,
    "start_time": "2024-12-12T00:53:02.664Z"
   },
   {
    "duration": 18,
    "start_time": "2024-12-12T00:53:02.792Z"
   },
   {
    "duration": 96,
    "start_time": "2024-12-12T00:53:02.811Z"
   },
   {
    "duration": 3,
    "start_time": "2024-12-12T00:53:02.909Z"
   },
   {
    "duration": 26,
    "start_time": "2024-12-12T00:53:02.930Z"
   },
   {
    "duration": 1864,
    "start_time": "2024-12-12T00:53:02.958Z"
   },
   {
    "duration": 18124,
    "start_time": "2024-12-12T00:53:04.823Z"
   },
   {
    "duration": 77141,
    "start_time": "2024-12-12T00:53:23.031Z"
   },
   {
    "duration": 6473,
    "start_time": "2024-12-12T00:54:40.174Z"
   },
   {
    "duration": 3,
    "start_time": "2024-12-12T00:54:46.649Z"
   },
   {
    "duration": 80017,
    "start_time": "2024-12-12T00:54:46.654Z"
   },
   {
    "duration": 32768,
    "start_time": "2024-12-12T00:56:06.672Z"
   },
   {
    "duration": 5,
    "start_time": "2024-12-12T00:56:39.442Z"
   },
   {
    "duration": 170,
    "start_time": "2024-12-12T00:56:39.449Z"
   },
   {
    "duration": 0,
    "start_time": "2024-12-12T00:56:39.620Z"
   },
   {
    "duration": 0,
    "start_time": "2024-12-12T00:56:39.630Z"
   },
   {
    "duration": 0,
    "start_time": "2024-12-12T00:56:39.632Z"
   },
   {
    "duration": 0,
    "start_time": "2024-12-12T00:56:39.633Z"
   },
   {
    "duration": 0,
    "start_time": "2024-12-12T00:56:39.634Z"
   },
   {
    "duration": 0,
    "start_time": "2024-12-12T00:56:39.636Z"
   },
   {
    "duration": 3,
    "start_time": "2024-12-12T01:00:55.758Z"
   },
   {
    "duration": 678108,
    "start_time": "2024-12-12T01:00:56.837Z"
   },
   {
    "duration": 3,
    "start_time": "2024-12-12T01:12:27.216Z"
   },
   {
    "duration": 12330,
    "start_time": "2024-12-12T01:12:28.408Z"
   },
   {
    "duration": 40967,
    "start_time": "2024-12-12T01:12:51.688Z"
   },
   {
    "duration": 3,
    "start_time": "2024-12-12T01:14:15.745Z"
   },
   {
    "duration": 240355,
    "start_time": "2024-12-12T01:14:16.897Z"
   },
   {
    "duration": 0,
    "start_time": "2024-12-12T01:20:36.251Z"
   },
   {
    "duration": 0,
    "start_time": "2024-12-12T01:20:36.253Z"
   },
   {
    "duration": 3460,
    "start_time": "2024-12-12T01:24:56.567Z"
   },
   {
    "duration": 2731,
    "start_time": "2024-12-12T01:25:00.030Z"
   },
   {
    "duration": 2761,
    "start_time": "2024-12-12T01:25:02.763Z"
   },
   {
    "duration": 2789,
    "start_time": "2024-12-12T01:25:05.526Z"
   },
   {
    "duration": 1955,
    "start_time": "2024-12-12T01:25:08.318Z"
   },
   {
    "duration": 3,
    "start_time": "2024-12-12T01:25:10.276Z"
   },
   {
    "duration": 10,
    "start_time": "2024-12-12T01:25:10.280Z"
   },
   {
    "duration": 19,
    "start_time": "2024-12-12T01:25:10.292Z"
   },
   {
    "duration": 47,
    "start_time": "2024-12-12T01:25:10.313Z"
   },
   {
    "duration": 1197,
    "start_time": "2024-12-12T01:25:10.362Z"
   },
   {
    "duration": 86,
    "start_time": "2024-12-12T01:25:11.560Z"
   },
   {
    "duration": 2076,
    "start_time": "2024-12-12T01:25:11.647Z"
   },
   {
    "duration": 327,
    "start_time": "2024-12-12T01:25:13.725Z"
   },
   {
    "duration": 444,
    "start_time": "2024-12-12T01:25:14.054Z"
   },
   {
    "duration": 49,
    "start_time": "2024-12-12T01:25:14.499Z"
   },
   {
    "duration": 9597,
    "start_time": "2024-12-12T01:25:14.550Z"
   },
   {
    "duration": 133,
    "start_time": "2024-12-12T01:25:24.149Z"
   },
   {
    "duration": 2,
    "start_time": "2024-12-12T01:25:24.284Z"
   },
   {
    "duration": 124,
    "start_time": "2024-12-12T01:25:24.287Z"
   },
   {
    "duration": 448,
    "start_time": "2024-12-12T01:25:24.413Z"
   },
   {
    "duration": 315,
    "start_time": "2024-12-12T01:25:24.862Z"
   },
   {
    "duration": 704,
    "start_time": "2024-12-12T01:25:25.179Z"
   },
   {
    "duration": 365,
    "start_time": "2024-12-12T01:25:25.885Z"
   },
   {
    "duration": 125,
    "start_time": "2024-12-12T01:25:26.252Z"
   },
   {
    "duration": 67,
    "start_time": "2024-12-12T01:25:26.379Z"
   },
   {
    "duration": 2200,
    "start_time": "2024-12-12T01:25:26.447Z"
   },
   {
    "duration": 7,
    "start_time": "2024-12-12T01:25:28.649Z"
   },
   {
    "duration": 29,
    "start_time": "2024-12-12T01:25:28.661Z"
   },
   {
    "duration": 6,
    "start_time": "2024-12-12T01:25:28.692Z"
   },
   {
    "duration": 55,
    "start_time": "2024-12-12T01:25:28.700Z"
   },
   {
    "duration": 481,
    "start_time": "2024-12-12T01:25:28.756Z"
   },
   {
    "duration": 29,
    "start_time": "2024-12-12T01:25:29.246Z"
   },
   {
    "duration": 1145,
    "start_time": "2024-12-12T01:25:29.276Z"
   },
   {
    "duration": 636,
    "start_time": "2024-12-12T01:25:30.423Z"
   },
   {
    "duration": 134,
    "start_time": "2024-12-12T01:25:31.060Z"
   },
   {
    "duration": 17,
    "start_time": "2024-12-12T01:25:31.195Z"
   },
   {
    "duration": 75,
    "start_time": "2024-12-12T01:25:31.230Z"
   },
   {
    "duration": 4,
    "start_time": "2024-12-12T01:25:31.306Z"
   },
   {
    "duration": 43,
    "start_time": "2024-12-12T01:25:31.312Z"
   },
   {
    "duration": 1857,
    "start_time": "2024-12-12T01:25:31.357Z"
   },
   {
    "duration": 24529,
    "start_time": "2024-12-12T01:25:33.216Z"
   },
   {
    "duration": 77998,
    "start_time": "2024-12-12T01:25:57.756Z"
   },
   {
    "duration": 6521,
    "start_time": "2024-12-12T01:27:15.756Z"
   },
   {
    "duration": 3,
    "start_time": "2024-12-12T01:27:22.279Z"
   },
   {
    "duration": 81831,
    "start_time": "2024-12-12T01:27:22.283Z"
   },
   {
    "duration": 33472,
    "start_time": "2024-12-12T01:28:44.116Z"
   },
   {
    "duration": 6,
    "start_time": "2024-12-12T01:29:17.589Z"
   },
   {
    "duration": 9,
    "start_time": "2024-12-12T01:29:17.596Z"
   },
   {
    "duration": 5,
    "start_time": "2024-12-12T01:29:17.607Z"
   },
   {
    "duration": 365308,
    "start_time": "2024-12-12T01:29:17.630Z"
   },
   {
    "duration": 621,
    "start_time": "2024-12-12T01:35:22.941Z"
   },
   {
    "duration": 0,
    "start_time": "2024-12-12T01:35:23.563Z"
   },
   {
    "duration": 0,
    "start_time": "2024-12-12T01:35:23.564Z"
   },
   {
    "duration": 0,
    "start_time": "2024-12-12T01:35:23.566Z"
   },
   {
    "duration": 0,
    "start_time": "2024-12-12T01:35:23.567Z"
   },
   {
    "duration": 5,
    "start_time": "2024-12-12T01:35:52.186Z"
   },
   {
    "duration": 4,
    "start_time": "2024-12-12T01:36:22.146Z"
   },
   {
    "duration": 44560,
    "start_time": "2024-12-12T01:36:23.581Z"
   },
   {
    "duration": 3,
    "start_time": "2024-12-12T01:38:28.860Z"
   },
   {
    "duration": 0,
    "start_time": "2024-12-12T01:38:45.533Z"
   },
   {
    "duration": 0,
    "start_time": "2024-12-12T01:38:45.537Z"
   },
   {
    "duration": 3,
    "start_time": "2024-12-12T01:38:47.357Z"
   },
   {
    "duration": 42317,
    "start_time": "2024-12-12T01:38:49.221Z"
   },
   {
    "duration": 9,
    "start_time": "2024-12-12T01:40:47.632Z"
   },
   {
    "duration": 307807,
    "start_time": "2024-12-12T01:40:48.824Z"
   },
   {
    "duration": 3,
    "start_time": "2024-12-12T01:46:08.978Z"
   },
   {
    "duration": 5,
    "start_time": "2024-12-12T01:46:21.592Z"
   },
   {
    "duration": 21231,
    "start_time": "2024-12-12T01:49:18.731Z"
   },
   {
    "duration": 3,
    "start_time": "2024-12-12T01:50:25.172Z"
   },
   {
    "duration": 3,
    "start_time": "2024-12-12T01:50:30.978Z"
   },
   {
    "duration": 1923,
    "start_time": "2024-12-12T01:50:37.316Z"
   },
   {
    "duration": 3,
    "start_time": "2024-12-12T01:50:46.324Z"
   },
   {
    "duration": 8888,
    "start_time": "2024-12-12T01:50:48.948Z"
   },
   {
    "duration": 20354,
    "start_time": "2024-12-12T01:51:03.596Z"
   },
   {
    "duration": 5,
    "start_time": "2024-12-12T01:51:32.764Z"
   },
   {
    "duration": 27864,
    "start_time": "2024-12-12T01:51:35.175Z"
   },
   {
    "duration": 4,
    "start_time": "2024-12-12T01:52:10.452Z"
   },
   {
    "duration": 14369,
    "start_time": "2024-12-12T01:52:11.180Z"
   },
   {
    "duration": 3,
    "start_time": "2024-12-12T01:52:45.303Z"
   },
   {
    "duration": 12723,
    "start_time": "2024-12-12T01:52:55.109Z"
   },
   {
    "duration": 12918,
    "start_time": "2024-12-12T01:53:32.228Z"
   },
   {
    "duration": 4,
    "start_time": "2024-12-12T01:53:53.135Z"
   },
   {
    "duration": 12702,
    "start_time": "2024-12-12T01:54:25.435Z"
   },
   {
    "duration": 4,
    "start_time": "2024-12-12T01:54:42.109Z"
   },
   {
    "duration": 1386,
    "start_time": "2024-12-12T01:56:00.262Z"
   },
   {
    "duration": 5,
    "start_time": "2024-12-12T01:58:18.870Z"
   },
   {
    "duration": 6,
    "start_time": "2024-12-12T01:58:29.590Z"
   },
   {
    "duration": 6,
    "start_time": "2024-12-12T01:58:37.768Z"
   },
   {
    "duration": 17123,
    "start_time": "2024-12-12T01:58:59.814Z"
   },
   {
    "duration": 2433,
    "start_time": "2024-12-12T02:00:23.712Z"
   },
   {
    "duration": 7,
    "start_time": "2024-12-12T02:00:33.377Z"
   },
   {
    "duration": 7,
    "start_time": "2024-12-12T02:00:48.006Z"
   },
   {
    "duration": 12905,
    "start_time": "2024-12-12T02:00:58.631Z"
   },
   {
    "duration": 1436,
    "start_time": "2024-12-12T02:01:28.702Z"
   },
   {
    "duration": 7,
    "start_time": "2024-12-12T02:01:30.927Z"
   },
   {
    "duration": 16,
    "start_time": "2024-12-12T02:01:49.776Z"
   },
   {
    "duration": 4,
    "start_time": "2024-12-12T02:01:56.966Z"
   },
   {
    "duration": 12,
    "start_time": "2024-12-12T02:02:03.942Z"
   },
   {
    "duration": 10,
    "start_time": "2024-12-12T02:04:16.952Z"
   },
   {
    "duration": 11,
    "start_time": "2024-12-12T02:04:21.569Z"
   },
   {
    "duration": 6880,
    "start_time": "2024-12-12T02:04:23.638Z"
   },
   {
    "duration": 1841,
    "start_time": "2024-12-12T02:04:31.984Z"
   },
   {
    "duration": 1136,
    "start_time": "2024-12-12T02:04:41.224Z"
   },
   {
    "duration": 1333,
    "start_time": "2024-12-12T02:04:46.647Z"
   },
   {
    "duration": 1862,
    "start_time": "2024-12-12T02:04:54.369Z"
   },
   {
    "duration": 1850,
    "start_time": "2024-12-12T02:05:00.081Z"
   },
   {
    "duration": 5,
    "start_time": "2024-12-12T02:05:23.144Z"
   },
   {
    "duration": 17,
    "start_time": "2024-12-12T02:05:26.658Z"
   },
   {
    "duration": 13,
    "start_time": "2024-12-12T02:06:17.400Z"
   },
   {
    "duration": 48,
    "start_time": "2024-12-12T02:06:35.449Z"
   },
   {
    "duration": 5,
    "start_time": "2024-12-12T02:06:46.272Z"
   },
   {
    "duration": 12,
    "start_time": "2024-12-12T02:06:51.809Z"
   },
   {
    "duration": 11,
    "start_time": "2024-12-12T02:08:57.482Z"
   },
   {
    "duration": 12,
    "start_time": "2024-12-12T02:09:02.484Z"
   },
   {
    "duration": 12,
    "start_time": "2024-12-12T02:09:08.529Z"
   },
   {
    "duration": 18111,
    "start_time": "2024-12-12T02:10:14.033Z"
   },
   {
    "duration": 5,
    "start_time": "2024-12-12T02:10:43.130Z"
   },
   {
    "duration": 5,
    "start_time": "2024-12-12T02:10:54.699Z"
   },
   {
    "duration": 5,
    "start_time": "2024-12-12T02:11:04.700Z"
   },
   {
    "duration": 5,
    "start_time": "2024-12-12T02:11:13.002Z"
   },
   {
    "duration": 409,
    "start_time": "2024-12-12T02:13:13.802Z"
   },
   {
    "duration": 559,
    "start_time": "2024-12-12T02:14:13.630Z"
   },
   {
    "duration": 6,
    "start_time": "2024-12-12T02:17:06.755Z"
   },
   {
    "duration": 6,
    "start_time": "2024-12-12T02:19:02.543Z"
   },
   {
    "duration": 286,
    "start_time": "2024-12-12T02:19:08.655Z"
   },
   {
    "duration": 286,
    "start_time": "2024-12-12T02:19:22.583Z"
   },
   {
    "duration": 9,
    "start_time": "2024-12-12T02:23:22.198Z"
   },
   {
    "duration": 5,
    "start_time": "2024-12-12T02:24:44.697Z"
   },
   {
    "duration": 48,
    "start_time": "2024-12-12T02:25:18.008Z"
   },
   {
    "duration": 1655,
    "start_time": "2024-12-12T02:26:29.201Z"
   },
   {
    "duration": 6,
    "start_time": "2024-12-12T02:28:20.635Z"
   },
   {
    "duration": 4,
    "start_time": "2024-12-12T02:29:11.186Z"
   },
   {
    "duration": 12,
    "start_time": "2024-12-12T02:29:17.452Z"
   },
   {
    "duration": 12,
    "start_time": "2024-12-12T02:29:32.012Z"
   },
   {
    "duration": 2735,
    "start_time": "2024-12-12T02:30:04.549Z"
   },
   {
    "duration": 6,
    "start_time": "2024-12-12T02:31:25.997Z"
   },
   {
    "duration": 6,
    "start_time": "2024-12-12T02:32:34.430Z"
   },
   {
    "duration": 2757,
    "start_time": "2024-12-12T02:32:36.373Z"
   },
   {
    "duration": 3663,
    "start_time": "2024-12-12T02:35:22.904Z"
   },
   {
    "duration": 3412,
    "start_time": "2024-12-12T02:35:37.201Z"
   },
   {
    "duration": 1852,
    "start_time": "2024-12-12T02:35:53.352Z"
   },
   {
    "duration": 6,
    "start_time": "2024-12-12T02:37:15.005Z"
   },
   {
    "duration": 1748,
    "start_time": "2024-12-12T02:37:29.376Z"
   },
   {
    "duration": 1876,
    "start_time": "2024-12-12T02:37:59.337Z"
   },
   {
    "duration": 2640,
    "start_time": "2024-12-12T02:38:38.457Z"
   },
   {
    "duration": 6,
    "start_time": "2024-12-12T02:39:32.674Z"
   },
   {
    "duration": 2828,
    "start_time": "2024-12-12T02:39:37.345Z"
   },
   {
    "duration": 5,
    "start_time": "2024-12-12T02:40:54.554Z"
   },
   {
    "duration": 9,
    "start_time": "2024-12-12T02:41:03.842Z"
   },
   {
    "duration": 10,
    "start_time": "2024-12-12T02:41:17.850Z"
   },
   {
    "duration": 135,
    "start_time": "2024-12-12T02:41:28.281Z"
   },
   {
    "duration": 5,
    "start_time": "2024-12-12T02:41:32.779Z"
   },
   {
    "duration": 6,
    "start_time": "2024-12-12T02:42:25.068Z"
   },
   {
    "duration": 4567,
    "start_time": "2024-12-12T02:43:20.892Z"
   },
   {
    "duration": 11,
    "start_time": "2024-12-12T03:02:33.660Z"
   },
   {
    "duration": 4,
    "start_time": "2024-12-12T03:02:38.046Z"
   },
   {
    "duration": 4,
    "start_time": "2024-12-12T03:02:41.948Z"
   },
   {
    "duration": 12,
    "start_time": "2024-12-12T03:03:48.828Z"
   },
   {
    "duration": 12,
    "start_time": "2024-12-12T03:03:53.612Z"
   },
   {
    "duration": 17,
    "start_time": "2024-12-12T03:04:00.149Z"
   },
   {
    "duration": 12,
    "start_time": "2024-12-12T03:05:26.941Z"
   },
   {
    "duration": 4,
    "start_time": "2024-12-12T03:05:59.280Z"
   },
   {
    "duration": 4,
    "start_time": "2024-12-12T03:06:13.061Z"
   },
   {
    "duration": 5,
    "start_time": "2024-12-12T03:06:24.349Z"
   },
   {
    "duration": 4,
    "start_time": "2024-12-12T03:06:30.845Z"
   },
   {
    "duration": 5,
    "start_time": "2024-12-12T03:07:32.268Z"
   },
   {
    "duration": 4,
    "start_time": "2024-12-12T03:07:42.788Z"
   },
   {
    "duration": 4,
    "start_time": "2024-12-12T03:07:56.566Z"
   },
   {
    "duration": 7,
    "start_time": "2024-12-12T03:10:29.902Z"
   },
   {
    "duration": 107,
    "start_time": "2024-12-12T03:10:45.238Z"
   },
   {
    "duration": 7,
    "start_time": "2024-12-12T03:10:49.649Z"
   },
   {
    "duration": 7,
    "start_time": "2024-12-12T03:11:00.583Z"
   },
   {
    "duration": 9,
    "start_time": "2024-12-12T03:11:13.023Z"
   },
   {
    "duration": 4,
    "start_time": "2024-12-12T03:11:57.568Z"
   },
   {
    "duration": 7,
    "start_time": "2024-12-12T03:12:49.663Z"
   },
   {
    "duration": 6,
    "start_time": "2024-12-12T03:12:55.562Z"
   },
   {
    "duration": 17,
    "start_time": "2024-12-12T03:22:32.790Z"
   },
   {
    "duration": 12748,
    "start_time": "2024-12-12T03:27:18.997Z"
   },
   {
    "duration": 1850,
    "start_time": "2024-12-12T03:27:40.680Z"
   },
   {
    "duration": 4,
    "start_time": "2024-12-12T03:27:49.702Z"
   },
   {
    "duration": 4,
    "start_time": "2024-12-12T03:27:52.356Z"
   },
   {
    "duration": 1779,
    "start_time": "2024-12-12T03:29:21.969Z"
   },
   {
    "duration": 6,
    "start_time": "2024-12-12T03:30:01.725Z"
   },
   {
    "duration": 6,
    "start_time": "2024-12-12T03:31:28.263Z"
   },
   {
    "duration": 4,
    "start_time": "2024-12-12T03:33:30.448Z"
   },
   {
    "duration": 4,
    "start_time": "2024-12-12T03:39:15.079Z"
   },
   {
    "duration": 97,
    "start_time": "2024-12-12T03:40:04.018Z"
   },
   {
    "duration": 106,
    "start_time": "2024-12-12T03:40:09.794Z"
   },
   {
    "duration": 89,
    "start_time": "2024-12-12T03:40:17.770Z"
   },
   {
    "duration": 86,
    "start_time": "2024-12-12T03:40:35.139Z"
   },
   {
    "duration": 91,
    "start_time": "2024-12-12T03:40:38.498Z"
   },
   {
    "duration": 9,
    "start_time": "2024-12-12T03:40:48.172Z"
   },
   {
    "duration": 91,
    "start_time": "2024-12-12T03:40:54.919Z"
   },
   {
    "duration": 3,
    "start_time": "2024-12-12T03:41:26.218Z"
   },
   {
    "duration": 8,
    "start_time": "2024-12-12T03:41:30.060Z"
   },
   {
    "duration": 13,
    "start_time": "2024-12-12T03:41:40.923Z"
   },
   {
    "duration": 6,
    "start_time": "2024-12-12T03:41:43.594Z"
   },
   {
    "duration": 8,
    "start_time": "2024-12-12T03:41:49.130Z"
   },
   {
    "duration": 109,
    "start_time": "2024-12-12T03:42:41.307Z"
   },
   {
    "duration": 2,
    "start_time": "2024-12-12T03:43:07.300Z"
   },
   {
    "duration": 2,
    "start_time": "2024-12-12T03:43:19.724Z"
   },
   {
    "duration": 5,
    "start_time": "2024-12-12T03:43:32.291Z"
   },
   {
    "duration": 15,
    "start_time": "2024-12-12T03:43:52.724Z"
   },
   {
    "duration": 3,
    "start_time": "2024-12-12T03:43:59.299Z"
   },
   {
    "duration": 5,
    "start_time": "2024-12-12T03:44:04.796Z"
   },
   {
    "duration": 5,
    "start_time": "2024-12-12T03:44:23.119Z"
   },
   {
    "duration": 3,
    "start_time": "2024-12-12T03:44:30.694Z"
   },
   {
    "duration": 4,
    "start_time": "2024-12-12T03:44:31.718Z"
   },
   {
    "duration": 3,
    "start_time": "2024-12-12T03:45:46.253Z"
   },
   {
    "duration": 8,
    "start_time": "2024-12-12T03:45:50.959Z"
   },
   {
    "duration": 20,
    "start_time": "2024-12-12T03:45:56.876Z"
   },
   {
    "duration": 2,
    "start_time": "2024-12-12T03:46:37.609Z"
   },
   {
    "duration": 3,
    "start_time": "2024-12-12T03:46:47.125Z"
   },
   {
    "duration": 4,
    "start_time": "2024-12-12T03:46:49.901Z"
   },
   {
    "duration": 9,
    "start_time": "2024-12-12T03:47:36.926Z"
   },
   {
    "duration": 4,
    "start_time": "2024-12-12T03:47:40.973Z"
   },
   {
    "duration": 4,
    "start_time": "2024-12-12T03:47:52.142Z"
   },
   {
    "duration": 12,
    "start_time": "2024-12-12T03:48:06.598Z"
   },
   {
    "duration": 5,
    "start_time": "2024-12-12T03:48:08.366Z"
   },
   {
    "duration": 2,
    "start_time": "2024-12-12T03:48:58.864Z"
   },
   {
    "duration": 3,
    "start_time": "2024-12-12T03:49:14.144Z"
   },
   {
    "duration": 3,
    "start_time": "2024-12-12T03:49:17.000Z"
   },
   {
    "duration": 3,
    "start_time": "2024-12-12T03:49:27.055Z"
   },
   {
    "duration": 3,
    "start_time": "2024-12-12T03:49:33.606Z"
   },
   {
    "duration": 4,
    "start_time": "2024-12-12T03:49:35.975Z"
   },
   {
    "duration": 3,
    "start_time": "2024-12-12T03:50:11.415Z"
   },
   {
    "duration": 3,
    "start_time": "2024-12-12T03:50:13.079Z"
   },
   {
    "duration": 4,
    "start_time": "2024-12-12T03:50:13.495Z"
   },
   {
    "duration": 3,
    "start_time": "2024-12-12T03:50:27.895Z"
   },
   {
    "duration": 4,
    "start_time": "2024-12-12T03:50:29.455Z"
   },
   {
    "duration": 2,
    "start_time": "2024-12-12T03:50:31.304Z"
   },
   {
    "duration": 3,
    "start_time": "2024-12-12T03:50:31.727Z"
   },
   {
    "duration": 3,
    "start_time": "2024-12-12T03:50:32.088Z"
   },
   {
    "duration": 3,
    "start_time": "2024-12-12T03:50:43.409Z"
   },
   {
    "duration": 2,
    "start_time": "2024-12-12T03:50:46.391Z"
   },
   {
    "duration": 4,
    "start_time": "2024-12-12T03:50:48.048Z"
   },
   {
    "duration": 3,
    "start_time": "2024-12-12T03:50:59.184Z"
   },
   {
    "duration": 2,
    "start_time": "2024-12-12T03:51:02.263Z"
   },
   {
    "duration": 3,
    "start_time": "2024-12-12T03:51:02.623Z"
   },
   {
    "duration": 4,
    "start_time": "2024-12-12T03:51:03.969Z"
   },
   {
    "duration": 3,
    "start_time": "2024-12-12T03:51:08.880Z"
   },
   {
    "duration": 3,
    "start_time": "2024-12-12T03:51:36.448Z"
   },
   {
    "duration": 3,
    "start_time": "2024-12-12T03:51:37.802Z"
   },
   {
    "duration": 11,
    "start_time": "2024-12-12T03:51:51.833Z"
   },
   {
    "duration": 4,
    "start_time": "2024-12-12T03:52:02.585Z"
   },
   {
    "duration": 3,
    "start_time": "2024-12-12T03:52:13.269Z"
   },
   {
    "duration": 3,
    "start_time": "2024-12-12T03:52:24.792Z"
   },
   {
    "duration": 3,
    "start_time": "2024-12-12T03:52:50.310Z"
   },
   {
    "duration": 4,
    "start_time": "2024-12-12T03:52:55.049Z"
   },
   {
    "duration": 3,
    "start_time": "2024-12-12T03:53:27.409Z"
   },
   {
    "duration": 5,
    "start_time": "2024-12-12T03:53:30.930Z"
   },
   {
    "duration": 11,
    "start_time": "2024-12-12T03:54:03.087Z"
   },
   {
    "duration": 4,
    "start_time": "2024-12-12T03:54:08.002Z"
   },
   {
    "duration": 6,
    "start_time": "2024-12-12T03:54:11.833Z"
   },
   {
    "duration": 19,
    "start_time": "2024-12-12T03:54:38.929Z"
   },
   {
    "duration": 4,
    "start_time": "2024-12-12T03:54:58.938Z"
   },
   {
    "duration": 5,
    "start_time": "2024-12-12T03:55:27.890Z"
   },
   {
    "duration": 3,
    "start_time": "2024-12-12T03:55:43.980Z"
   },
   {
    "duration": 5,
    "start_time": "2024-12-12T03:55:45.013Z"
   },
   {
    "duration": 19,
    "start_time": "2024-12-12T03:55:47.514Z"
   },
   {
    "duration": 5,
    "start_time": "2024-12-12T03:55:48.346Z"
   },
   {
    "duration": 6,
    "start_time": "2024-12-12T03:55:53.197Z"
   },
   {
    "duration": 3,
    "start_time": "2024-12-12T03:56:09.515Z"
   },
   {
    "duration": 4,
    "start_time": "2024-12-12T03:56:10.730Z"
   },
   {
    "duration": 20,
    "start_time": "2024-12-12T03:56:13.817Z"
   },
   {
    "duration": 5,
    "start_time": "2024-12-12T03:56:14.835Z"
   },
   {
    "duration": 5,
    "start_time": "2024-12-12T03:56:15.690Z"
   },
   {
    "duration": 25,
    "start_time": "2024-12-12T04:00:22.295Z"
   },
   {
    "duration": 24,
    "start_time": "2024-12-12T04:00:29.885Z"
   },
   {
    "duration": 4382,
    "start_time": "2024-12-12T04:01:18.239Z"
   },
   {
    "duration": 10,
    "start_time": "2024-12-12T04:28:13.285Z"
   },
   {
    "duration": 5,
    "start_time": "2024-12-12T04:29:30.220Z"
   },
   {
    "duration": 4041,
    "start_time": "2024-12-12T04:29:45.645Z"
   },
   {
    "duration": 2576,
    "start_time": "2024-12-12T04:29:49.688Z"
   },
   {
    "duration": 2623,
    "start_time": "2024-12-12T04:29:52.266Z"
   },
   {
    "duration": 6,
    "start_time": "2024-12-12T04:29:54.891Z"
   },
   {
    "duration": 26,
    "start_time": "2024-12-12T04:29:54.899Z"
   },
   {
    "duration": 13,
    "start_time": "2024-12-12T04:29:54.927Z"
   },
   {
    "duration": 23,
    "start_time": "2024-12-12T04:29:54.942Z"
   },
   {
    "duration": 22,
    "start_time": "2024-12-12T04:29:54.967Z"
   },
   {
    "duration": 1083,
    "start_time": "2024-12-12T04:29:54.991Z"
   },
   {
    "duration": 83,
    "start_time": "2024-12-12T04:29:56.076Z"
   },
   {
    "duration": 1698,
    "start_time": "2024-12-12T04:29:56.160Z"
   },
   {
    "duration": 3289,
    "start_time": "2024-12-12T04:36:49.011Z"
   },
   {
    "duration": 2580,
    "start_time": "2024-12-12T04:36:52.302Z"
   },
   {
    "duration": 2525,
    "start_time": "2024-12-12T04:36:54.884Z"
   },
   {
    "duration": 1478,
    "start_time": "2024-12-12T04:36:57.412Z"
   },
   {
    "duration": 3,
    "start_time": "2024-12-12T04:36:58.892Z"
   },
   {
    "duration": 25,
    "start_time": "2024-12-12T04:36:58.896Z"
   },
   {
    "duration": 24,
    "start_time": "2024-12-12T04:36:58.923Z"
   },
   {
    "duration": 11,
    "start_time": "2024-12-12T04:36:58.948Z"
   },
   {
    "duration": 1134,
    "start_time": "2024-12-12T04:36:58.960Z"
   },
   {
    "duration": 81,
    "start_time": "2024-12-12T04:37:00.097Z"
   },
   {
    "duration": 1945,
    "start_time": "2024-12-12T04:37:00.179Z"
   },
   {
    "duration": 282,
    "start_time": "2024-12-12T04:37:02.130Z"
   },
   {
    "duration": 483,
    "start_time": "2024-12-12T04:37:02.414Z"
   },
   {
    "duration": 46,
    "start_time": "2024-12-12T04:37:02.898Z"
   },
   {
    "duration": 8359,
    "start_time": "2024-12-12T04:37:02.946Z"
   },
   {
    "duration": 125,
    "start_time": "2024-12-12T04:37:11.307Z"
   },
   {
    "duration": 100,
    "start_time": "2024-12-12T04:37:11.433Z"
   },
   {
    "duration": 380,
    "start_time": "2024-12-12T04:37:11.535Z"
   },
   {
    "duration": 276,
    "start_time": "2024-12-12T04:37:11.931Z"
   },
   {
    "duration": 657,
    "start_time": "2024-12-12T04:37:12.209Z"
   },
   {
    "duration": 348,
    "start_time": "2024-12-12T04:37:12.868Z"
   },
   {
    "duration": 118,
    "start_time": "2024-12-12T04:37:13.218Z"
   },
   {
    "duration": 47,
    "start_time": "2024-12-12T04:37:13.338Z"
   },
   {
    "duration": 2022,
    "start_time": "2024-12-12T04:37:13.387Z"
   },
   {
    "duration": 5,
    "start_time": "2024-12-12T04:37:15.411Z"
   },
   {
    "duration": 25,
    "start_time": "2024-12-12T04:37:15.429Z"
   },
   {
    "duration": 7,
    "start_time": "2024-12-12T04:37:15.456Z"
   },
   {
    "duration": 28,
    "start_time": "2024-12-12T04:37:15.466Z"
   },
   {
    "duration": 447,
    "start_time": "2024-12-12T04:37:15.496Z"
   },
   {
    "duration": 26,
    "start_time": "2024-12-12T04:37:15.944Z"
   },
   {
    "duration": 1031,
    "start_time": "2024-12-12T04:37:15.972Z"
   },
   {
    "duration": 543,
    "start_time": "2024-12-12T04:37:17.005Z"
   },
   {
    "duration": 122,
    "start_time": "2024-12-12T04:37:17.550Z"
   },
   {
    "duration": 18,
    "start_time": "2024-12-12T04:37:17.674Z"
   },
   {
    "duration": 101,
    "start_time": "2024-12-12T04:37:17.694Z"
   },
   {
    "duration": 3,
    "start_time": "2024-12-12T04:37:17.796Z"
   },
   {
    "duration": 10,
    "start_time": "2024-12-12T04:37:17.801Z"
   },
   {
    "duration": 1818,
    "start_time": "2024-12-12T04:37:17.812Z"
   },
   {
    "duration": 13800,
    "start_time": "2024-12-12T04:37:19.632Z"
   },
   {
    "duration": 73998,
    "start_time": "2024-12-12T04:37:33.435Z"
   },
   {
    "duration": 6370,
    "start_time": "2024-12-12T04:38:47.434Z"
   },
   {
    "duration": 2,
    "start_time": "2024-12-12T04:38:53.806Z"
   },
   {
    "duration": 77269,
    "start_time": "2024-12-12T04:38:53.810Z"
   },
   {
    "duration": 31402,
    "start_time": "2024-12-12T04:40:11.080Z"
   },
   {
    "duration": 83259,
    "start_time": "2024-12-12T04:40:42.484Z"
   },
   {
    "duration": 3,
    "start_time": "2024-12-12T04:42:05.745Z"
   },
   {
    "duration": 12886,
    "start_time": "2024-12-12T04:42:05.750Z"
   },
   {
    "duration": 1498,
    "start_time": "2024-12-12T04:42:18.638Z"
   },
   {
    "duration": 5,
    "start_time": "2024-12-12T04:42:20.138Z"
   },
   {
    "duration": 10,
    "start_time": "2024-12-12T04:42:20.144Z"
   },
   {
    "duration": 4475,
    "start_time": "2024-12-12T04:42:20.156Z"
   },
   {
    "duration": 5,
    "start_time": "2024-12-12T04:42:24.633Z"
   },
   {
    "duration": 1497,
    "start_time": "2024-12-12T04:42:24.640Z"
   },
   {
    "duration": 6,
    "start_time": "2024-12-12T04:42:26.139Z"
   },
   {
    "duration": 6,
    "start_time": "2024-12-12T05:02:22.243Z"
   },
   {
    "duration": 7174,
    "start_time": "2024-12-13T00:26:33.032Z"
   },
   {
    "duration": 52,
    "start_time": "2024-12-13T00:26:50.305Z"
   },
   {
    "duration": 3280,
    "start_time": "2024-12-13T00:26:54.750Z"
   },
   {
    "duration": 46,
    "start_time": "2024-12-13T00:26:58.032Z"
   },
   {
    "duration": 0,
    "start_time": "2024-12-13T00:26:58.081Z"
   },
   {
    "duration": 0,
    "start_time": "2024-12-13T00:26:58.082Z"
   },
   {
    "duration": 0,
    "start_time": "2024-12-13T00:26:58.084Z"
   },
   {
    "duration": 0,
    "start_time": "2024-12-13T00:26:58.084Z"
   },
   {
    "duration": 0,
    "start_time": "2024-12-13T00:26:58.086Z"
   },
   {
    "duration": 0,
    "start_time": "2024-12-13T00:26:58.087Z"
   },
   {
    "duration": 0,
    "start_time": "2024-12-13T00:26:58.088Z"
   },
   {
    "duration": 0,
    "start_time": "2024-12-13T00:26:58.089Z"
   },
   {
    "duration": 0,
    "start_time": "2024-12-13T00:26:58.090Z"
   },
   {
    "duration": 0,
    "start_time": "2024-12-13T00:26:58.091Z"
   },
   {
    "duration": 0,
    "start_time": "2024-12-13T00:26:58.092Z"
   },
   {
    "duration": 0,
    "start_time": "2024-12-13T00:26:58.093Z"
   },
   {
    "duration": 0,
    "start_time": "2024-12-13T00:26:58.094Z"
   },
   {
    "duration": 0,
    "start_time": "2024-12-13T00:26:58.115Z"
   },
   {
    "duration": 0,
    "start_time": "2024-12-13T00:26:58.117Z"
   },
   {
    "duration": 0,
    "start_time": "2024-12-13T00:26:58.118Z"
   },
   {
    "duration": 0,
    "start_time": "2024-12-13T00:26:58.119Z"
   },
   {
    "duration": 0,
    "start_time": "2024-12-13T00:26:58.120Z"
   },
   {
    "duration": 0,
    "start_time": "2024-12-13T00:26:58.124Z"
   },
   {
    "duration": 0,
    "start_time": "2024-12-13T00:26:58.125Z"
   },
   {
    "duration": 0,
    "start_time": "2024-12-13T00:26:58.128Z"
   },
   {
    "duration": 0,
    "start_time": "2024-12-13T00:26:58.129Z"
   },
   {
    "duration": 0,
    "start_time": "2024-12-13T00:26:58.130Z"
   },
   {
    "duration": 0,
    "start_time": "2024-12-13T00:26:58.131Z"
   },
   {
    "duration": 0,
    "start_time": "2024-12-13T00:26:58.132Z"
   },
   {
    "duration": 0,
    "start_time": "2024-12-13T00:26:58.133Z"
   },
   {
    "duration": 0,
    "start_time": "2024-12-13T00:26:58.134Z"
   },
   {
    "duration": 0,
    "start_time": "2024-12-13T00:26:58.135Z"
   },
   {
    "duration": 0,
    "start_time": "2024-12-13T00:26:58.136Z"
   },
   {
    "duration": 0,
    "start_time": "2024-12-13T00:26:58.137Z"
   },
   {
    "duration": 0,
    "start_time": "2024-12-13T00:26:58.138Z"
   },
   {
    "duration": 0,
    "start_time": "2024-12-13T00:26:58.139Z"
   },
   {
    "duration": 0,
    "start_time": "2024-12-13T00:26:58.140Z"
   },
   {
    "duration": 0,
    "start_time": "2024-12-13T00:26:58.141Z"
   },
   {
    "duration": 0,
    "start_time": "2024-12-13T00:26:58.142Z"
   },
   {
    "duration": 0,
    "start_time": "2024-12-13T00:26:58.143Z"
   },
   {
    "duration": 1,
    "start_time": "2024-12-13T00:26:58.144Z"
   },
   {
    "duration": 0,
    "start_time": "2024-12-13T00:26:58.145Z"
   },
   {
    "duration": 0,
    "start_time": "2024-12-13T00:26:58.146Z"
   },
   {
    "duration": 0,
    "start_time": "2024-12-13T00:26:58.147Z"
   },
   {
    "duration": 1,
    "start_time": "2024-12-13T00:26:58.148Z"
   },
   {
    "duration": 0,
    "start_time": "2024-12-13T00:26:58.150Z"
   },
   {
    "duration": 0,
    "start_time": "2024-12-13T00:26:58.151Z"
   },
   {
    "duration": 0,
    "start_time": "2024-12-13T00:26:58.152Z"
   },
   {
    "duration": 0,
    "start_time": "2024-12-13T00:26:58.154Z"
   },
   {
    "duration": 0,
    "start_time": "2024-12-13T00:26:58.155Z"
   },
   {
    "duration": 0,
    "start_time": "2024-12-13T00:26:58.156Z"
   },
   {
    "duration": 0,
    "start_time": "2024-12-13T00:26:58.219Z"
   },
   {
    "duration": 0,
    "start_time": "2024-12-13T00:26:58.220Z"
   },
   {
    "duration": 0,
    "start_time": "2024-12-13T00:26:58.221Z"
   },
   {
    "duration": 0,
    "start_time": "2024-12-13T00:26:58.222Z"
   },
   {
    "duration": 0,
    "start_time": "2024-12-13T00:26:58.223Z"
   },
   {
    "duration": 0,
    "start_time": "2024-12-13T00:26:58.224Z"
   },
   {
    "duration": 1205,
    "start_time": "2024-12-13T00:27:41.928Z"
   },
   {
    "duration": 2538,
    "start_time": "2024-12-13T00:27:45.570Z"
   },
   {
    "duration": 3206,
    "start_time": "2024-12-13T00:27:57.287Z"
   },
   {
    "duration": 3253,
    "start_time": "2024-12-13T00:37:02.527Z"
   },
   {
    "duration": 2648,
    "start_time": "2024-12-13T00:37:05.783Z"
   },
   {
    "duration": 2603,
    "start_time": "2024-12-13T00:37:08.433Z"
   },
   {
    "duration": 1616,
    "start_time": "2024-12-13T00:37:11.038Z"
   },
   {
    "duration": 3,
    "start_time": "2024-12-13T00:37:12.656Z"
   },
   {
    "duration": 26,
    "start_time": "2024-12-13T00:37:12.660Z"
   },
   {
    "duration": 42,
    "start_time": "2024-12-13T00:37:12.688Z"
   },
   {
    "duration": 10,
    "start_time": "2024-12-13T00:37:12.731Z"
   },
   {
    "duration": 3314,
    "start_time": "2024-12-13T00:37:12.743Z"
   },
   {
    "duration": 76,
    "start_time": "2024-12-13T00:37:16.059Z"
   },
   {
    "duration": 2029,
    "start_time": "2024-12-13T00:37:16.137Z"
   },
   {
    "duration": 296,
    "start_time": "2024-12-13T00:37:18.168Z"
   },
   {
    "duration": 480,
    "start_time": "2024-12-13T00:37:18.466Z"
   },
   {
    "duration": 36,
    "start_time": "2024-12-13T00:37:18.949Z"
   },
   {
    "duration": 8791,
    "start_time": "2024-12-13T00:37:18.986Z"
   },
   {
    "duration": 126,
    "start_time": "2024-12-13T00:37:27.778Z"
   },
   {
    "duration": 100,
    "start_time": "2024-12-13T00:37:27.906Z"
   },
   {
    "duration": 410,
    "start_time": "2024-12-13T00:37:28.017Z"
   },
   {
    "duration": 293,
    "start_time": "2024-12-13T00:37:28.429Z"
   },
   {
    "duration": 659,
    "start_time": "2024-12-13T00:37:28.725Z"
   },
   {
    "duration": 336,
    "start_time": "2024-12-13T00:37:29.386Z"
   },
   {
    "duration": 109,
    "start_time": "2024-12-13T00:37:29.731Z"
   },
   {
    "duration": 43,
    "start_time": "2024-12-13T00:37:29.842Z"
   },
   {
    "duration": 27,
    "start_time": "2024-12-13T00:39:50.093Z"
   },
   {
    "duration": 16,
    "start_time": "2024-12-13T00:39:58.567Z"
   },
   {
    "duration": 77,
    "start_time": "2024-12-13T00:41:02.344Z"
   },
   {
    "duration": 24,
    "start_time": "2024-12-13T00:45:01.594Z"
   },
   {
    "duration": 20,
    "start_time": "2024-12-13T00:46:10.840Z"
   },
   {
    "duration": 3019,
    "start_time": "2024-12-13T00:46:51.627Z"
   },
   {
    "duration": 2415,
    "start_time": "2024-12-13T00:46:54.648Z"
   },
   {
    "duration": 2417,
    "start_time": "2024-12-13T00:46:57.065Z"
   },
   {
    "duration": 5,
    "start_time": "2024-12-13T00:46:59.485Z"
   },
   {
    "duration": 35,
    "start_time": "2024-12-13T00:46:59.491Z"
   },
   {
    "duration": 5,
    "start_time": "2024-12-13T00:46:59.528Z"
   },
   {
    "duration": 13,
    "start_time": "2024-12-13T00:46:59.534Z"
   },
   {
    "duration": 14,
    "start_time": "2024-12-13T00:46:59.548Z"
   },
   {
    "duration": 997,
    "start_time": "2024-12-13T00:46:59.563Z"
   },
   {
    "duration": 40,
    "start_time": "2024-12-13T00:47:00.562Z"
   },
   {
    "duration": 1751,
    "start_time": "2024-12-13T00:47:00.614Z"
   },
   {
    "duration": 253,
    "start_time": "2024-12-13T00:47:02.367Z"
   },
   {
    "duration": 402,
    "start_time": "2024-12-13T00:47:02.622Z"
   },
   {
    "duration": 36,
    "start_time": "2024-12-13T00:47:03.026Z"
   },
   {
    "duration": 8044,
    "start_time": "2024-12-13T00:47:03.064Z"
   },
   {
    "duration": 123,
    "start_time": "2024-12-13T00:47:11.110Z"
   },
   {
    "duration": 100,
    "start_time": "2024-12-13T00:47:11.235Z"
   },
   {
    "duration": 380,
    "start_time": "2024-12-13T00:47:11.336Z"
   },
   {
    "duration": 275,
    "start_time": "2024-12-13T00:47:11.718Z"
   },
   {
    "duration": 636,
    "start_time": "2024-12-13T00:47:11.995Z"
   },
   {
    "duration": 310,
    "start_time": "2024-12-13T00:47:12.633Z"
   },
   {
    "duration": 108,
    "start_time": "2024-12-13T00:47:12.945Z"
   },
   {
    "duration": 43,
    "start_time": "2024-12-13T00:47:13.054Z"
   },
   {
    "duration": 84,
    "start_time": "2024-12-13T00:47:13.099Z"
   },
   {
    "duration": 1977,
    "start_time": "2024-12-13T00:47:13.185Z"
   },
   {
    "duration": 4,
    "start_time": "2024-12-13T00:47:15.164Z"
   },
   {
    "duration": 50,
    "start_time": "2024-12-13T00:47:15.170Z"
   },
   {
    "duration": 6,
    "start_time": "2024-12-13T00:47:15.223Z"
   },
   {
    "duration": 42,
    "start_time": "2024-12-13T00:47:15.231Z"
   },
   {
    "duration": 412,
    "start_time": "2024-12-13T00:47:15.274Z"
   },
   {
    "duration": 40,
    "start_time": "2024-12-13T00:47:15.688Z"
   },
   {
    "duration": 3147,
    "start_time": "2024-12-13T00:47:37.616Z"
   },
   {
    "duration": 2461,
    "start_time": "2024-12-13T00:47:40.766Z"
   },
   {
    "duration": 2484,
    "start_time": "2024-12-13T00:47:43.229Z"
   },
   {
    "duration": 5,
    "start_time": "2024-12-13T00:47:45.716Z"
   },
   {
    "duration": 18,
    "start_time": "2024-12-13T00:47:45.722Z"
   },
   {
    "duration": 19,
    "start_time": "2024-12-13T00:47:45.742Z"
   },
   {
    "duration": 27,
    "start_time": "2024-12-13T00:47:45.763Z"
   },
   {
    "duration": 33,
    "start_time": "2024-12-13T00:47:45.792Z"
   },
   {
    "duration": 1061,
    "start_time": "2024-12-13T00:47:45.827Z"
   },
   {
    "duration": 55,
    "start_time": "2024-12-13T00:47:46.891Z"
   },
   {
    "duration": 1758,
    "start_time": "2024-12-13T00:47:46.948Z"
   },
   {
    "duration": 286,
    "start_time": "2024-12-13T00:47:48.708Z"
   },
   {
    "duration": 445,
    "start_time": "2024-12-13T00:47:48.996Z"
   },
   {
    "duration": 36,
    "start_time": "2024-12-13T00:47:49.442Z"
   },
   {
    "duration": 8086,
    "start_time": "2024-12-13T00:47:49.480Z"
   },
   {
    "duration": 126,
    "start_time": "2024-12-13T00:47:57.568Z"
   },
   {
    "duration": 88,
    "start_time": "2024-12-13T00:47:57.696Z"
   },
   {
    "duration": 373,
    "start_time": "2024-12-13T00:47:57.785Z"
   },
   {
    "duration": 274,
    "start_time": "2024-12-13T00:47:58.160Z"
   },
   {
    "duration": 618,
    "start_time": "2024-12-13T00:47:58.435Z"
   },
   {
    "duration": 335,
    "start_time": "2024-12-13T00:47:59.055Z"
   },
   {
    "duration": 102,
    "start_time": "2024-12-13T00:47:59.392Z"
   },
   {
    "duration": 57,
    "start_time": "2024-12-13T00:47:59.496Z"
   },
   {
    "duration": 88,
    "start_time": "2024-12-13T00:47:59.555Z"
   },
   {
    "duration": 1949,
    "start_time": "2024-12-13T00:47:59.645Z"
   },
   {
    "duration": 6,
    "start_time": "2024-12-13T00:48:01.596Z"
   },
   {
    "duration": 47,
    "start_time": "2024-12-13T00:48:01.615Z"
   },
   {
    "duration": 30,
    "start_time": "2024-12-13T00:48:01.665Z"
   },
   {
    "duration": 31,
    "start_time": "2024-12-13T00:48:01.697Z"
   },
   {
    "duration": 434,
    "start_time": "2024-12-13T00:48:01.729Z"
   },
   {
    "duration": 28,
    "start_time": "2024-12-13T00:48:02.165Z"
   },
   {
    "duration": 16,
    "start_time": "2024-12-13T00:48:41.921Z"
   },
   {
    "duration": 2929,
    "start_time": "2024-12-13T00:49:18.240Z"
   },
   {
    "duration": 2409,
    "start_time": "2024-12-13T00:49:21.171Z"
   },
   {
    "duration": 2449,
    "start_time": "2024-12-13T00:49:23.582Z"
   },
   {
    "duration": 6,
    "start_time": "2024-12-13T00:49:26.034Z"
   },
   {
    "duration": 46,
    "start_time": "2024-12-13T00:49:26.042Z"
   },
   {
    "duration": 8,
    "start_time": "2024-12-13T00:49:26.090Z"
   },
   {
    "duration": 11,
    "start_time": "2024-12-13T00:49:26.100Z"
   },
   {
    "duration": 14,
    "start_time": "2024-12-13T00:49:26.113Z"
   },
   {
    "duration": 1022,
    "start_time": "2024-12-13T00:49:26.129Z"
   },
   {
    "duration": 73,
    "start_time": "2024-12-13T00:49:27.154Z"
   },
   {
    "duration": 1697,
    "start_time": "2024-12-13T00:49:27.229Z"
   },
   {
    "duration": 254,
    "start_time": "2024-12-13T00:49:28.927Z"
   },
   {
    "duration": 307,
    "start_time": "2024-12-13T00:49:29.183Z"
   },
   {
    "duration": 40,
    "start_time": "2024-12-13T00:49:29.492Z"
   },
   {
    "duration": 8300,
    "start_time": "2024-12-13T00:49:29.534Z"
   },
   {
    "duration": 123,
    "start_time": "2024-12-13T00:49:37.836Z"
   },
   {
    "duration": 91,
    "start_time": "2024-12-13T00:49:37.961Z"
   },
   {
    "duration": 369,
    "start_time": "2024-12-13T00:49:38.054Z"
   },
   {
    "duration": 267,
    "start_time": "2024-12-13T00:49:38.425Z"
   },
   {
    "duration": 629,
    "start_time": "2024-12-13T00:49:38.694Z"
   },
   {
    "duration": 309,
    "start_time": "2024-12-13T00:49:39.325Z"
   },
   {
    "duration": 102,
    "start_time": "2024-12-13T00:49:39.636Z"
   },
   {
    "duration": 45,
    "start_time": "2024-12-13T00:49:39.740Z"
   },
   {
    "duration": 92,
    "start_time": "2024-12-13T00:49:39.787Z"
   },
   {
    "duration": 1894,
    "start_time": "2024-12-13T00:49:39.881Z"
   },
   {
    "duration": 5,
    "start_time": "2024-12-13T00:49:41.776Z"
   },
   {
    "duration": 41,
    "start_time": "2024-12-13T00:49:41.783Z"
   },
   {
    "duration": 6,
    "start_time": "2024-12-13T00:49:41.828Z"
   },
   {
    "duration": 24,
    "start_time": "2024-12-13T00:49:41.836Z"
   },
   {
    "duration": 419,
    "start_time": "2024-12-13T00:49:41.862Z"
   },
   {
    "duration": 38,
    "start_time": "2024-12-13T00:49:42.283Z"
   },
   {
    "duration": 1086,
    "start_time": "2024-12-13T00:49:42.323Z"
   },
   {
    "duration": 533,
    "start_time": "2024-12-13T00:49:43.410Z"
   },
   {
    "duration": 121,
    "start_time": "2024-12-13T00:49:43.944Z"
   },
   {
    "duration": 18,
    "start_time": "2024-12-13T00:57:01.004Z"
   },
   {
    "duration": 4,
    "start_time": "2024-12-13T00:57:19.871Z"
   },
   {
    "duration": 3,
    "start_time": "2024-12-13T00:58:04.710Z"
   },
   {
    "duration": 5472,
    "start_time": "2024-12-13T00:58:16.879Z"
   },
   {
    "duration": 24,
    "start_time": "2024-12-13T01:03:41.548Z"
   },
   {
    "duration": 11,
    "start_time": "2024-12-13T01:03:54.656Z"
   },
   {
    "duration": 4290,
    "start_time": "2024-12-13T01:03:58.212Z"
   },
   {
    "duration": 171407,
    "start_time": "2024-12-13T01:11:08.352Z"
   },
   {
    "duration": 3265,
    "start_time": "2024-12-13T01:24:40.875Z"
   },
   {
    "duration": 2454,
    "start_time": "2024-12-13T01:24:44.144Z"
   },
   {
    "duration": 2461,
    "start_time": "2024-12-13T01:24:46.601Z"
   },
   {
    "duration": 6,
    "start_time": "2024-12-13T01:24:49.064Z"
   },
   {
    "duration": 30,
    "start_time": "2024-12-13T01:24:49.073Z"
   },
   {
    "duration": 9,
    "start_time": "2024-12-13T01:24:49.105Z"
   },
   {
    "duration": 15,
    "start_time": "2024-12-13T01:24:49.116Z"
   },
   {
    "duration": 11,
    "start_time": "2024-12-13T01:24:49.132Z"
   },
   {
    "duration": 979,
    "start_time": "2024-12-13T01:24:49.145Z"
   },
   {
    "duration": 70,
    "start_time": "2024-12-13T01:24:50.126Z"
   },
   {
    "duration": 1624,
    "start_time": "2024-12-13T01:24:50.197Z"
   },
   {
    "duration": 254,
    "start_time": "2024-12-13T01:24:51.822Z"
   },
   {
    "duration": 439,
    "start_time": "2024-12-13T01:24:52.078Z"
   },
   {
    "duration": 25,
    "start_time": "2024-12-13T01:24:52.520Z"
   },
   {
    "duration": 8159,
    "start_time": "2024-12-13T01:24:52.547Z"
   },
   {
    "duration": 123,
    "start_time": "2024-12-13T01:25:00.714Z"
   },
   {
    "duration": 93,
    "start_time": "2024-12-13T01:25:00.839Z"
   },
   {
    "duration": 389,
    "start_time": "2024-12-13T01:25:00.934Z"
   },
   {
    "duration": 265,
    "start_time": "2024-12-13T01:25:01.325Z"
   },
   {
    "duration": 617,
    "start_time": "2024-12-13T01:25:01.591Z"
   },
   {
    "duration": 317,
    "start_time": "2024-12-13T01:25:02.210Z"
   },
   {
    "duration": 107,
    "start_time": "2024-12-13T01:25:02.529Z"
   },
   {
    "duration": 44,
    "start_time": "2024-12-13T01:25:02.638Z"
   },
   {
    "duration": 120,
    "start_time": "2024-12-13T01:25:02.684Z"
   },
   {
    "duration": 1964,
    "start_time": "2024-12-13T01:25:02.807Z"
   },
   {
    "duration": 5,
    "start_time": "2024-12-13T01:25:04.773Z"
   },
   {
    "duration": 45,
    "start_time": "2024-12-13T01:25:04.780Z"
   },
   {
    "duration": 7,
    "start_time": "2024-12-13T01:25:04.827Z"
   },
   {
    "duration": 51,
    "start_time": "2024-12-13T01:25:04.835Z"
   },
   {
    "duration": 437,
    "start_time": "2024-12-13T01:25:04.887Z"
   },
   {
    "duration": 27,
    "start_time": "2024-12-13T01:25:05.326Z"
   },
   {
    "duration": 995,
    "start_time": "2024-12-13T01:25:05.355Z"
   },
   {
    "duration": 564,
    "start_time": "2024-12-13T01:25:06.352Z"
   },
   {
    "duration": 116,
    "start_time": "2024-12-13T01:25:06.917Z"
   },
   {
    "duration": 4,
    "start_time": "2024-12-13T01:25:54.629Z"
   },
   {
    "duration": 65,
    "start_time": "2024-12-13T01:26:00.461Z"
   },
   {
    "duration": 68,
    "start_time": "2024-12-13T01:26:23.027Z"
   },
   {
    "duration": 64,
    "start_time": "2024-12-13T01:26:34.205Z"
   },
   {
    "duration": 65,
    "start_time": "2024-12-13T01:26:42.621Z"
   },
   {
    "duration": 63,
    "start_time": "2024-12-13T01:26:57.485Z"
   },
   {
    "duration": 65,
    "start_time": "2024-12-13T01:27:08.468Z"
   },
   {
    "duration": 66,
    "start_time": "2024-12-13T01:27:11.526Z"
   },
   {
    "duration": 67,
    "start_time": "2024-12-13T01:27:17.204Z"
   },
   {
    "duration": 90,
    "start_time": "2024-12-13T01:28:02.069Z"
   },
   {
    "duration": 19,
    "start_time": "2024-12-13T01:28:10.093Z"
   },
   {
    "duration": 10,
    "start_time": "2024-12-13T01:28:20.918Z"
   },
   {
    "duration": 11,
    "start_time": "2024-12-13T01:28:31.447Z"
   },
   {
    "duration": 1388,
    "start_time": "2024-12-13T01:29:20.734Z"
   },
   {
    "duration": 1402,
    "start_time": "2024-12-13T01:29:32.545Z"
   },
   {
    "duration": 10,
    "start_time": "2024-12-13T01:30:03.184Z"
   },
   {
    "duration": 13,
    "start_time": "2024-12-13T01:30:23.542Z"
   },
   {
    "duration": 28,
    "start_time": "2024-12-13T01:31:34.941Z"
   },
   {
    "duration": 31,
    "start_time": "2024-12-13T01:31:46.871Z"
   },
   {
    "duration": 64,
    "start_time": "2024-12-13T01:33:22.000Z"
   },
   {
    "duration": 27,
    "start_time": "2024-12-13T01:34:35.280Z"
   },
   {
    "duration": 32,
    "start_time": "2024-12-13T01:39:17.268Z"
   },
   {
    "duration": 63,
    "start_time": "2024-12-13T01:39:24.649Z"
   },
   {
    "duration": 3,
    "start_time": "2024-12-13T01:40:52.299Z"
   },
   {
    "duration": 5651,
    "start_time": "2024-12-13T01:40:53.390Z"
   },
   {
    "duration": 136,
    "start_time": "2024-12-13T01:41:59.772Z"
   },
   {
    "duration": 3271,
    "start_time": "2024-12-13T01:43:27.532Z"
   },
   {
    "duration": 2443,
    "start_time": "2024-12-13T01:43:30.806Z"
   },
   {
    "duration": 2510,
    "start_time": "2024-12-13T01:43:33.251Z"
   },
   {
    "duration": 5,
    "start_time": "2024-12-13T01:43:35.764Z"
   },
   {
    "duration": 19,
    "start_time": "2024-12-13T01:43:35.771Z"
   },
   {
    "duration": 19,
    "start_time": "2024-12-13T01:43:35.792Z"
   },
   {
    "duration": 14,
    "start_time": "2024-12-13T01:43:35.813Z"
   },
   {
    "duration": 30,
    "start_time": "2024-12-13T01:43:35.829Z"
   },
   {
    "duration": 1014,
    "start_time": "2024-12-13T01:43:35.860Z"
   },
   {
    "duration": 78,
    "start_time": "2024-12-13T01:43:36.877Z"
   },
   {
    "duration": 1645,
    "start_time": "2024-12-13T01:43:36.957Z"
   },
   {
    "duration": 245,
    "start_time": "2024-12-13T01:43:38.603Z"
   },
   {
    "duration": 438,
    "start_time": "2024-12-13T01:43:38.850Z"
   },
   {
    "duration": 33,
    "start_time": "2024-12-13T01:43:39.290Z"
   },
   {
    "duration": 8172,
    "start_time": "2024-12-13T01:43:39.325Z"
   },
   {
    "duration": 116,
    "start_time": "2024-12-13T01:43:47.499Z"
   },
   {
    "duration": 101,
    "start_time": "2024-12-13T01:43:47.618Z"
   },
   {
    "duration": 361,
    "start_time": "2024-12-13T01:43:47.721Z"
   },
   {
    "duration": 280,
    "start_time": "2024-12-13T01:43:48.084Z"
   },
   {
    "duration": 602,
    "start_time": "2024-12-13T01:43:48.366Z"
   },
   {
    "duration": 304,
    "start_time": "2024-12-13T01:43:48.970Z"
   },
   {
    "duration": 108,
    "start_time": "2024-12-13T01:43:49.276Z"
   },
   {
    "duration": 53,
    "start_time": "2024-12-13T01:43:49.386Z"
   },
   {
    "duration": 83,
    "start_time": "2024-12-13T01:43:49.441Z"
   },
   {
    "duration": 1972,
    "start_time": "2024-12-13T01:43:49.526Z"
   },
   {
    "duration": 18,
    "start_time": "2024-12-13T01:43:51.500Z"
   },
   {
    "duration": 56,
    "start_time": "2024-12-13T01:43:51.519Z"
   },
   {
    "duration": 7,
    "start_time": "2024-12-13T01:43:51.579Z"
   },
   {
    "duration": 52,
    "start_time": "2024-12-13T01:43:51.588Z"
   },
   {
    "duration": 424,
    "start_time": "2024-12-13T01:43:51.642Z"
   },
   {
    "duration": 27,
    "start_time": "2024-12-13T01:43:52.068Z"
   },
   {
    "duration": 995,
    "start_time": "2024-12-13T01:43:52.097Z"
   },
   {
    "duration": 521,
    "start_time": "2024-12-13T01:43:53.094Z"
   },
   {
    "duration": 117,
    "start_time": "2024-12-13T01:43:53.616Z"
   },
   {
    "duration": 2,
    "start_time": "2024-12-13T01:43:53.735Z"
   },
   {
    "duration": 5600,
    "start_time": "2024-12-13T01:43:53.739Z"
   },
   {
    "duration": 67,
    "start_time": "2024-12-13T01:44:54.875Z"
   },
   {
    "duration": 67,
    "start_time": "2024-12-13T01:45:10.075Z"
   },
   {
    "duration": 108,
    "start_time": "2024-12-13T01:46:08.428Z"
   },
   {
    "duration": 4544,
    "start_time": "2024-12-13T01:46:49.380Z"
   },
   {
    "duration": 173240,
    "start_time": "2024-12-13T01:48:17.388Z"
   },
   {
    "duration": 10,
    "start_time": "2024-12-13T01:53:41.158Z"
   },
   {
    "duration": 3,
    "start_time": "2024-12-13T01:53:45.989Z"
   },
   {
    "duration": 10,
    "start_time": "2024-12-13T01:54:14.951Z"
   },
   {
    "duration": 3080,
    "start_time": "2024-12-13T02:00:23.270Z"
   },
   {
    "duration": 2409,
    "start_time": "2024-12-13T02:00:26.352Z"
   },
   {
    "duration": 2715,
    "start_time": "2024-12-13T02:00:28.763Z"
   },
   {
    "duration": 2048,
    "start_time": "2024-12-13T02:00:31.480Z"
   },
   {
    "duration": 2,
    "start_time": "2024-12-13T02:00:33.530Z"
   },
   {
    "duration": 79,
    "start_time": "2024-12-13T02:00:33.534Z"
   },
   {
    "duration": 30,
    "start_time": "2024-12-13T02:00:33.614Z"
   },
   {
    "duration": 27,
    "start_time": "2024-12-13T02:00:33.646Z"
   },
   {
    "duration": 1099,
    "start_time": "2024-12-13T02:00:33.675Z"
   },
   {
    "duration": 80,
    "start_time": "2024-12-13T02:00:34.777Z"
   },
   {
    "duration": 1899,
    "start_time": "2024-12-13T02:00:34.859Z"
   },
   {
    "duration": 250,
    "start_time": "2024-12-13T02:00:36.760Z"
   },
   {
    "duration": 457,
    "start_time": "2024-12-13T02:00:37.014Z"
   },
   {
    "duration": 29,
    "start_time": "2024-12-13T02:00:37.473Z"
   },
   {
    "duration": 8338,
    "start_time": "2024-12-13T02:00:37.504Z"
   },
   {
    "duration": 123,
    "start_time": "2024-12-13T02:00:45.844Z"
   },
   {
    "duration": 95,
    "start_time": "2024-12-13T02:00:45.969Z"
   },
   {
    "duration": 360,
    "start_time": "2024-12-13T02:00:46.066Z"
   },
   {
    "duration": 299,
    "start_time": "2024-12-13T02:00:46.428Z"
   },
   {
    "duration": 628,
    "start_time": "2024-12-13T02:00:46.728Z"
   },
   {
    "duration": 340,
    "start_time": "2024-12-13T02:00:47.357Z"
   },
   {
    "duration": 101,
    "start_time": "2024-12-13T02:00:47.699Z"
   },
   {
    "duration": 58,
    "start_time": "2024-12-13T02:00:47.801Z"
   },
   {
    "duration": 97,
    "start_time": "2024-12-13T02:00:47.861Z"
   },
   {
    "duration": 1920,
    "start_time": "2024-12-13T02:00:47.960Z"
   },
   {
    "duration": 5,
    "start_time": "2024-12-13T02:00:49.882Z"
   },
   {
    "duration": 47,
    "start_time": "2024-12-13T02:00:49.889Z"
   },
   {
    "duration": 7,
    "start_time": "2024-12-13T02:00:49.942Z"
   },
   {
    "duration": 25,
    "start_time": "2024-12-13T02:00:49.951Z"
   },
   {
    "duration": 424,
    "start_time": "2024-12-13T02:00:49.977Z"
   },
   {
    "duration": 35,
    "start_time": "2024-12-13T02:00:50.403Z"
   },
   {
    "duration": 982,
    "start_time": "2024-12-13T02:00:50.441Z"
   },
   {
    "duration": 565,
    "start_time": "2024-12-13T02:00:51.424Z"
   },
   {
    "duration": 117,
    "start_time": "2024-12-13T02:00:51.991Z"
   },
   {
    "duration": 5,
    "start_time": "2024-12-13T02:00:52.110Z"
   },
   {
    "duration": 5536,
    "start_time": "2024-12-13T02:00:52.116Z"
   },
   {
    "duration": 66,
    "start_time": "2024-12-13T02:00:57.653Z"
   },
   {
    "duration": 152,
    "start_time": "2024-12-13T02:00:57.720Z"
   },
   {
    "duration": 4380,
    "start_time": "2024-12-13T02:00:57.873Z"
   },
   {
    "duration": 17,
    "start_time": "2024-12-13T02:01:02.254Z"
   },
   {
    "duration": 104,
    "start_time": "2024-12-13T02:01:02.272Z"
   },
   {
    "duration": 4,
    "start_time": "2024-12-13T02:01:02.377Z"
   },
   {
    "duration": 30,
    "start_time": "2024-12-13T02:01:02.383Z"
   },
   {
    "duration": 1464,
    "start_time": "2024-12-13T02:01:02.415Z"
   },
   {
    "duration": 0,
    "start_time": "2024-12-13T02:01:03.880Z"
   },
   {
    "duration": 0,
    "start_time": "2024-12-13T02:01:03.882Z"
   },
   {
    "duration": 0,
    "start_time": "2024-12-13T02:01:03.883Z"
   },
   {
    "duration": 0,
    "start_time": "2024-12-13T02:01:03.884Z"
   },
   {
    "duration": 0,
    "start_time": "2024-12-13T02:01:03.886Z"
   },
   {
    "duration": 0,
    "start_time": "2024-12-13T02:01:03.887Z"
   },
   {
    "duration": 0,
    "start_time": "2024-12-13T02:01:03.889Z"
   },
   {
    "duration": 0,
    "start_time": "2024-12-13T02:01:03.890Z"
   },
   {
    "duration": 0,
    "start_time": "2024-12-13T02:01:03.891Z"
   },
   {
    "duration": 0,
    "start_time": "2024-12-13T02:01:03.893Z"
   },
   {
    "duration": 0,
    "start_time": "2024-12-13T02:01:03.895Z"
   },
   {
    "duration": 0,
    "start_time": "2024-12-13T02:01:03.897Z"
   },
   {
    "duration": 1,
    "start_time": "2024-12-13T02:01:03.897Z"
   },
   {
    "duration": 0,
    "start_time": "2024-12-13T02:01:03.899Z"
   },
   {
    "duration": 0,
    "start_time": "2024-12-13T02:01:03.900Z"
   },
   {
    "duration": 0,
    "start_time": "2024-12-13T02:01:03.901Z"
   },
   {
    "duration": 10,
    "start_time": "2024-12-13T02:01:43.068Z"
   },
   {
    "duration": 20,
    "start_time": "2024-12-13T02:01:45.516Z"
   },
   {
    "duration": 3,
    "start_time": "2024-12-13T02:02:06.371Z"
   },
   {
    "duration": 4,
    "start_time": "2024-12-13T02:02:10.101Z"
   },
   {
    "duration": 1819,
    "start_time": "2024-12-13T02:02:12.116Z"
   },
   {
    "duration": 20088,
    "start_time": "2024-12-13T02:02:17.633Z"
   },
   {
    "duration": 72194,
    "start_time": "2024-12-13T02:02:37.814Z"
   },
   {
    "duration": 6002,
    "start_time": "2024-12-13T02:03:50.014Z"
   },
   {
    "duration": 3,
    "start_time": "2024-12-13T02:03:56.018Z"
   },
   {
    "duration": 67099,
    "start_time": "2024-12-13T02:03:56.022Z"
   },
   {
    "duration": 27815,
    "start_time": "2024-12-13T02:05:03.122Z"
   },
   {
    "duration": 774299,
    "start_time": "2024-12-13T02:05:30.939Z"
   },
   {
    "duration": 0,
    "start_time": "2024-12-13T02:18:25.240Z"
   },
   {
    "duration": 0,
    "start_time": "2024-12-13T02:18:25.241Z"
   },
   {
    "duration": 0,
    "start_time": "2024-12-13T02:18:25.242Z"
   },
   {
    "duration": 0,
    "start_time": "2024-12-13T02:18:25.243Z"
   },
   {
    "duration": 0,
    "start_time": "2024-12-13T02:18:25.245Z"
   },
   {
    "duration": 0,
    "start_time": "2024-12-13T02:18:25.246Z"
   },
   {
    "duration": 0,
    "start_time": "2024-12-13T02:18:25.247Z"
   },
   {
    "duration": 0,
    "start_time": "2024-12-13T02:18:25.247Z"
   },
   {
    "duration": 0,
    "start_time": "2024-12-13T02:18:25.248Z"
   },
   {
    "duration": 159598,
    "start_time": "2024-12-13T02:18:30.939Z"
   },
   {
    "duration": 3168,
    "start_time": "2024-12-13T02:21:30.758Z"
   },
   {
    "duration": 2435,
    "start_time": "2024-12-13T02:21:33.928Z"
   },
   {
    "duration": 2515,
    "start_time": "2024-12-13T02:21:36.365Z"
   },
   {
    "duration": 1435,
    "start_time": "2024-12-13T02:21:38.882Z"
   },
   {
    "duration": 3,
    "start_time": "2024-12-13T02:21:40.318Z"
   },
   {
    "duration": 7,
    "start_time": "2024-12-13T02:21:40.323Z"
   },
   {
    "duration": 12,
    "start_time": "2024-12-13T02:21:40.331Z"
   },
   {
    "duration": 19,
    "start_time": "2024-12-13T02:21:40.344Z"
   },
   {
    "duration": 1129,
    "start_time": "2024-12-13T02:21:40.365Z"
   },
   {
    "duration": 85,
    "start_time": "2024-12-13T02:21:41.497Z"
   },
   {
    "duration": 1982,
    "start_time": "2024-12-13T02:21:41.584Z"
   },
   {
    "duration": 280,
    "start_time": "2024-12-13T02:21:43.567Z"
   },
   {
    "duration": 474,
    "start_time": "2024-12-13T02:21:43.848Z"
   },
   {
    "duration": 36,
    "start_time": "2024-12-13T02:21:44.324Z"
   },
   {
    "duration": 8188,
    "start_time": "2024-12-13T02:21:44.361Z"
   },
   {
    "duration": 124,
    "start_time": "2024-12-13T02:21:52.551Z"
   },
   {
    "duration": 93,
    "start_time": "2024-12-13T02:21:52.677Z"
   },
   {
    "duration": 385,
    "start_time": "2024-12-13T02:21:52.771Z"
   },
   {
    "duration": 275,
    "start_time": "2024-12-13T02:21:53.157Z"
   },
   {
    "duration": 643,
    "start_time": "2024-12-13T02:21:53.434Z"
   },
   {
    "duration": 326,
    "start_time": "2024-12-13T02:21:54.079Z"
   },
   {
    "duration": 99,
    "start_time": "2024-12-13T02:21:54.406Z"
   },
   {
    "duration": 44,
    "start_time": "2024-12-13T02:21:54.515Z"
   },
   {
    "duration": 91,
    "start_time": "2024-12-13T02:21:54.561Z"
   },
   {
    "duration": 1934,
    "start_time": "2024-12-13T02:21:54.654Z"
   },
   {
    "duration": 5,
    "start_time": "2024-12-13T02:21:56.590Z"
   },
   {
    "duration": 43,
    "start_time": "2024-12-13T02:21:56.597Z"
   },
   {
    "duration": 6,
    "start_time": "2024-12-13T02:21:56.644Z"
   },
   {
    "duration": 26,
    "start_time": "2024-12-13T02:21:56.652Z"
   },
   {
    "duration": 423,
    "start_time": "2024-12-13T02:21:56.680Z"
   },
   {
    "duration": 36,
    "start_time": "2024-12-13T02:21:57.104Z"
   },
   {
    "duration": 987,
    "start_time": "2024-12-13T02:21:57.142Z"
   },
   {
    "duration": 519,
    "start_time": "2024-12-13T02:21:58.131Z"
   },
   {
    "duration": 115,
    "start_time": "2024-12-13T02:21:58.652Z"
   },
   {
    "duration": 2,
    "start_time": "2024-12-13T02:21:58.769Z"
   },
   {
    "duration": 5600,
    "start_time": "2024-12-13T02:21:58.772Z"
   },
   {
    "duration": 66,
    "start_time": "2024-12-13T02:22:04.373Z"
   },
   {
    "duration": 124,
    "start_time": "2024-12-13T02:22:04.440Z"
   },
   {
    "duration": 4550,
    "start_time": "2024-12-13T02:22:04.565Z"
   },
   {
    "duration": 18,
    "start_time": "2024-12-13T02:22:09.117Z"
   },
   {
    "duration": 113,
    "start_time": "2024-12-13T02:22:09.137Z"
   },
   {
    "duration": 2,
    "start_time": "2024-12-13T02:22:09.253Z"
   },
   {
    "duration": 8,
    "start_time": "2024-12-13T02:22:09.256Z"
   },
   {
    "duration": 1803,
    "start_time": "2024-12-13T02:22:09.265Z"
   },
   {
    "duration": 20547,
    "start_time": "2024-12-13T02:22:11.070Z"
   },
   {
    "duration": 73021,
    "start_time": "2024-12-13T02:22:31.619Z"
   },
   {
    "duration": 6077,
    "start_time": "2024-12-13T02:23:44.642Z"
   },
   {
    "duration": 3,
    "start_time": "2024-12-13T02:23:50.721Z"
   },
   {
    "duration": 67839,
    "start_time": "2024-12-13T02:23:50.725Z"
   },
   {
    "duration": 27716,
    "start_time": "2024-12-13T02:24:58.565Z"
   },
   {
    "duration": 5,
    "start_time": "2024-12-13T02:25:26.282Z"
   },
   {
    "duration": 7,
    "start_time": "2024-12-13T02:25:26.289Z"
   },
   {
    "duration": 186658,
    "start_time": "2024-12-13T02:25:26.298Z"
   },
   {
    "duration": 0,
    "start_time": "2024-12-13T02:28:32.957Z"
   },
   {
    "duration": 0,
    "start_time": "2024-12-13T02:28:32.959Z"
   },
   {
    "duration": 0,
    "start_time": "2024-12-13T02:28:32.960Z"
   },
   {
    "duration": 0,
    "start_time": "2024-12-13T02:28:32.962Z"
   },
   {
    "duration": 0,
    "start_time": "2024-12-13T02:28:32.964Z"
   },
   {
    "duration": 0,
    "start_time": "2024-12-13T02:28:32.965Z"
   },
   {
    "duration": 0,
    "start_time": "2024-12-13T02:28:32.967Z"
   },
   {
    "duration": 3048,
    "start_time": "2024-12-13T02:30:18.980Z"
   },
   {
    "duration": 2426,
    "start_time": "2024-12-13T02:30:22.030Z"
   },
   {
    "duration": 2437,
    "start_time": "2024-12-13T02:30:24.458Z"
   },
   {
    "duration": 1520,
    "start_time": "2024-12-13T02:30:26.897Z"
   },
   {
    "duration": 3,
    "start_time": "2024-12-13T02:30:28.419Z"
   },
   {
    "duration": 6,
    "start_time": "2024-12-13T02:30:28.423Z"
   },
   {
    "duration": 19,
    "start_time": "2024-12-13T02:30:28.430Z"
   },
   {
    "duration": 10,
    "start_time": "2024-12-13T02:30:28.451Z"
   },
   {
    "duration": 1093,
    "start_time": "2024-12-13T02:30:28.463Z"
   },
   {
    "duration": 82,
    "start_time": "2024-12-13T02:30:29.559Z"
   },
   {
    "duration": 1869,
    "start_time": "2024-12-13T02:30:29.642Z"
   },
   {
    "duration": 263,
    "start_time": "2024-12-13T02:30:31.513Z"
   },
   {
    "duration": 514,
    "start_time": "2024-12-13T02:30:31.778Z"
   },
   {
    "duration": 46,
    "start_time": "2024-12-13T02:30:32.294Z"
   },
   {
    "duration": 8109,
    "start_time": "2024-12-13T02:30:32.342Z"
   },
   {
    "duration": 124,
    "start_time": "2024-12-13T02:30:40.453Z"
   },
   {
    "duration": 96,
    "start_time": "2024-12-13T02:30:40.578Z"
   },
   {
    "duration": 368,
    "start_time": "2024-12-13T02:30:40.676Z"
   },
   {
    "duration": 271,
    "start_time": "2024-12-13T02:30:41.045Z"
   },
   {
    "duration": 628,
    "start_time": "2024-12-13T02:30:41.317Z"
   },
   {
    "duration": 310,
    "start_time": "2024-12-13T02:30:41.947Z"
   },
   {
    "duration": 130,
    "start_time": "2024-12-13T02:30:42.259Z"
   },
   {
    "duration": 53,
    "start_time": "2024-12-13T02:30:42.390Z"
   },
   {
    "duration": 89,
    "start_time": "2024-12-13T02:30:42.444Z"
   },
   {
    "duration": 1954,
    "start_time": "2024-12-13T02:30:42.534Z"
   },
   {
    "duration": 4,
    "start_time": "2024-12-13T02:30:44.490Z"
   },
   {
    "duration": 25,
    "start_time": "2024-12-13T02:30:44.515Z"
   },
   {
    "duration": 6,
    "start_time": "2024-12-13T02:30:44.544Z"
   },
   {
    "duration": 48,
    "start_time": "2024-12-13T02:30:44.552Z"
   },
   {
    "duration": 518,
    "start_time": "2024-12-13T02:30:44.601Z"
   },
   {
    "duration": 26,
    "start_time": "2024-12-13T02:30:45.121Z"
   },
   {
    "duration": 1121,
    "start_time": "2024-12-13T02:30:45.149Z"
   },
   {
    "duration": 551,
    "start_time": "2024-12-13T02:30:46.272Z"
   },
   {
    "duration": 119,
    "start_time": "2024-12-13T02:30:46.824Z"
   },
   {
    "duration": 4,
    "start_time": "2024-12-13T02:30:46.945Z"
   },
   {
    "duration": 5509,
    "start_time": "2024-12-13T02:30:46.951Z"
   },
   {
    "duration": 3,
    "start_time": "2024-12-13T02:30:52.462Z"
   },
   {
    "duration": 28,
    "start_time": "2024-12-13T02:30:52.467Z"
   },
   {
    "duration": 3354,
    "start_time": "2024-12-13T02:30:52.496Z"
   },
   {
    "duration": 15,
    "start_time": "2024-12-13T02:30:55.852Z"
   },
   {
    "duration": 78,
    "start_time": "2024-12-13T02:30:55.869Z"
   },
   {
    "duration": 3,
    "start_time": "2024-12-13T02:30:55.949Z"
   },
   {
    "duration": 10,
    "start_time": "2024-12-13T02:30:55.954Z"
   },
   {
    "duration": 1537,
    "start_time": "2024-12-13T02:30:55.965Z"
   },
   {
    "duration": 0,
    "start_time": "2024-12-13T02:30:57.504Z"
   },
   {
    "duration": 0,
    "start_time": "2024-12-13T02:30:57.505Z"
   },
   {
    "duration": 0,
    "start_time": "2024-12-13T02:30:57.507Z"
   },
   {
    "duration": 0,
    "start_time": "2024-12-13T02:30:57.508Z"
   },
   {
    "duration": 0,
    "start_time": "2024-12-13T02:30:57.509Z"
   },
   {
    "duration": 0,
    "start_time": "2024-12-13T02:30:57.510Z"
   },
   {
    "duration": 0,
    "start_time": "2024-12-13T02:30:57.511Z"
   },
   {
    "duration": 0,
    "start_time": "2024-12-13T02:30:57.513Z"
   },
   {
    "duration": 0,
    "start_time": "2024-12-13T02:30:57.514Z"
   },
   {
    "duration": 0,
    "start_time": "2024-12-13T02:30:57.515Z"
   },
   {
    "duration": 0,
    "start_time": "2024-12-13T02:30:57.516Z"
   },
   {
    "duration": 0,
    "start_time": "2024-12-13T02:30:57.517Z"
   },
   {
    "duration": 0,
    "start_time": "2024-12-13T02:30:57.518Z"
   },
   {
    "duration": 0,
    "start_time": "2024-12-13T02:30:57.520Z"
   },
   {
    "duration": 0,
    "start_time": "2024-12-13T02:30:57.520Z"
   },
   {
    "duration": 0,
    "start_time": "2024-12-13T02:30:57.522Z"
   },
   {
    "duration": 3128,
    "start_time": "2024-12-13T02:31:35.796Z"
   },
   {
    "duration": 2433,
    "start_time": "2024-12-13T02:31:38.926Z"
   },
   {
    "duration": 2448,
    "start_time": "2024-12-13T02:31:41.362Z"
   },
   {
    "duration": 1412,
    "start_time": "2024-12-13T02:31:43.813Z"
   },
   {
    "duration": 2,
    "start_time": "2024-12-13T02:31:45.227Z"
   },
   {
    "duration": 31,
    "start_time": "2024-12-13T02:31:45.231Z"
   },
   {
    "duration": 41,
    "start_time": "2024-12-13T02:31:45.264Z"
   },
   {
    "duration": 39,
    "start_time": "2024-12-13T02:31:45.307Z"
   },
   {
    "duration": 1067,
    "start_time": "2024-12-13T02:31:45.348Z"
   },
   {
    "duration": 69,
    "start_time": "2024-12-13T02:31:46.417Z"
   },
   {
    "duration": 1874,
    "start_time": "2024-12-13T02:31:46.487Z"
   },
   {
    "duration": 280,
    "start_time": "2024-12-13T02:31:48.363Z"
   },
   {
    "duration": 463,
    "start_time": "2024-12-13T02:31:48.645Z"
   },
   {
    "duration": 38,
    "start_time": "2024-12-13T02:31:49.114Z"
   },
   {
    "duration": 8090,
    "start_time": "2024-12-13T02:31:49.154Z"
   },
   {
    "duration": 115,
    "start_time": "2024-12-13T02:31:57.246Z"
   },
   {
    "duration": 103,
    "start_time": "2024-12-13T02:31:57.363Z"
   },
   {
    "duration": 371,
    "start_time": "2024-12-13T02:31:57.468Z"
   },
   {
    "duration": 262,
    "start_time": "2024-12-13T02:31:57.840Z"
   },
   {
    "duration": 622,
    "start_time": "2024-12-13T02:31:58.104Z"
   },
   {
    "duration": 312,
    "start_time": "2024-12-13T02:31:58.728Z"
   },
   {
    "duration": 109,
    "start_time": "2024-12-13T02:31:59.042Z"
   },
   {
    "duration": 44,
    "start_time": "2024-12-13T02:31:59.153Z"
   },
   {
    "duration": 85,
    "start_time": "2024-12-13T02:31:59.199Z"
   },
   {
    "duration": 1942,
    "start_time": "2024-12-13T02:31:59.285Z"
   },
   {
    "duration": 4,
    "start_time": "2024-12-13T02:32:01.229Z"
   },
   {
    "duration": 49,
    "start_time": "2024-12-13T02:32:01.235Z"
   },
   {
    "duration": 6,
    "start_time": "2024-12-13T02:32:01.288Z"
   },
   {
    "duration": 45,
    "start_time": "2024-12-13T02:32:01.295Z"
   },
   {
    "duration": 409,
    "start_time": "2024-12-13T02:32:01.341Z"
   },
   {
    "duration": 26,
    "start_time": "2024-12-13T02:32:01.752Z"
   },
   {
    "duration": 1061,
    "start_time": "2024-12-13T02:32:01.780Z"
   },
   {
    "duration": 529,
    "start_time": "2024-12-13T02:32:02.843Z"
   },
   {
    "duration": 121,
    "start_time": "2024-12-13T02:32:03.373Z"
   },
   {
    "duration": 3,
    "start_time": "2024-12-13T02:32:03.495Z"
   },
   {
    "duration": 5673,
    "start_time": "2024-12-13T02:32:03.499Z"
   },
   {
    "duration": 3,
    "start_time": "2024-12-13T02:32:09.173Z"
   },
   {
    "duration": 101,
    "start_time": "2024-12-13T02:32:09.178Z"
   },
   {
    "duration": 4215,
    "start_time": "2024-12-13T02:32:09.280Z"
   },
   {
    "duration": 24,
    "start_time": "2024-12-13T02:32:13.496Z"
   },
   {
    "duration": 61,
    "start_time": "2024-12-13T02:32:13.522Z"
   },
   {
    "duration": 3,
    "start_time": "2024-12-13T02:32:13.585Z"
   },
   {
    "duration": 10,
    "start_time": "2024-12-13T02:32:13.589Z"
   },
   {
    "duration": 1419,
    "start_time": "2024-12-13T02:32:13.615Z"
   },
   {
    "duration": 15487,
    "start_time": "2024-12-13T02:32:15.037Z"
   },
   {
    "duration": 58021,
    "start_time": "2024-12-13T02:32:30.526Z"
   },
   {
    "duration": 4885,
    "start_time": "2024-12-13T02:33:28.548Z"
   },
   {
    "duration": 2,
    "start_time": "2024-12-13T02:33:33.434Z"
   },
   {
    "duration": 68989,
    "start_time": "2024-12-13T02:33:33.438Z"
   },
   {
    "duration": 27945,
    "start_time": "2024-12-13T02:34:42.428Z"
   },
   {
    "duration": 121240,
    "start_time": "2024-12-13T02:35:10.375Z"
   },
   {
    "duration": 0,
    "start_time": "2024-12-13T02:37:11.617Z"
   },
   {
    "duration": 0,
    "start_time": "2024-12-13T02:37:11.619Z"
   },
   {
    "duration": 0,
    "start_time": "2024-12-13T02:37:11.620Z"
   },
   {
    "duration": 0,
    "start_time": "2024-12-13T02:37:11.622Z"
   },
   {
    "duration": 0,
    "start_time": "2024-12-13T02:37:11.623Z"
   },
   {
    "duration": 0,
    "start_time": "2024-12-13T02:37:11.625Z"
   },
   {
    "duration": 0,
    "start_time": "2024-12-13T02:37:11.627Z"
   },
   {
    "duration": 0,
    "start_time": "2024-12-13T02:37:11.628Z"
   },
   {
    "duration": 0,
    "start_time": "2024-12-13T02:37:11.630Z"
   },
   {
    "duration": 481916,
    "start_time": "2024-12-13T02:37:20.010Z"
   },
   {
    "duration": 3067,
    "start_time": "2024-12-13T02:46:07.720Z"
   },
   {
    "duration": 2476,
    "start_time": "2024-12-13T02:46:10.789Z"
   },
   {
    "duration": 2520,
    "start_time": "2024-12-13T02:46:13.267Z"
   },
   {
    "duration": 1432,
    "start_time": "2024-12-13T02:46:15.789Z"
   },
   {
    "duration": 3,
    "start_time": "2024-12-13T02:46:17.223Z"
   },
   {
    "duration": 93,
    "start_time": "2024-12-13T02:46:17.228Z"
   },
   {
    "duration": 6,
    "start_time": "2024-12-13T02:46:17.323Z"
   },
   {
    "duration": 11,
    "start_time": "2024-12-13T02:46:17.331Z"
   },
   {
    "duration": 1084,
    "start_time": "2024-12-13T02:46:17.344Z"
   },
   {
    "duration": 86,
    "start_time": "2024-12-13T02:46:18.431Z"
   },
   {
    "duration": 1993,
    "start_time": "2024-12-13T02:46:18.519Z"
   },
   {
    "duration": 278,
    "start_time": "2024-12-13T02:46:20.515Z"
   },
   {
    "duration": 467,
    "start_time": "2024-12-13T02:46:20.795Z"
   },
   {
    "duration": 38,
    "start_time": "2024-12-13T02:46:21.264Z"
   },
   {
    "duration": 8208,
    "start_time": "2024-12-13T02:46:21.315Z"
   },
   {
    "duration": 121,
    "start_time": "2024-12-13T02:46:29.524Z"
   },
   {
    "duration": 98,
    "start_time": "2024-12-13T02:46:29.647Z"
   },
   {
    "duration": 357,
    "start_time": "2024-12-13T02:46:29.747Z"
   },
   {
    "duration": 267,
    "start_time": "2024-12-13T02:46:30.115Z"
   },
   {
    "duration": 616,
    "start_time": "2024-12-13T02:46:30.383Z"
   },
   {
    "duration": 315,
    "start_time": "2024-12-13T02:46:31.000Z"
   },
   {
    "duration": 108,
    "start_time": "2024-12-13T02:46:31.316Z"
   },
   {
    "duration": 45,
    "start_time": "2024-12-13T02:46:31.425Z"
   },
   {
    "duration": 94,
    "start_time": "2024-12-13T02:46:31.472Z"
   },
   {
    "duration": 1955,
    "start_time": "2024-12-13T02:46:31.568Z"
   },
   {
    "duration": 5,
    "start_time": "2024-12-13T02:46:33.525Z"
   },
   {
    "duration": 51,
    "start_time": "2024-12-13T02:46:33.532Z"
   },
   {
    "duration": 7,
    "start_time": "2024-12-13T02:46:33.588Z"
   },
   {
    "duration": 28,
    "start_time": "2024-12-13T02:46:33.597Z"
   },
   {
    "duration": 416,
    "start_time": "2024-12-13T02:46:33.627Z"
   },
   {
    "duration": 26,
    "start_time": "2024-12-13T02:46:34.045Z"
   },
   {
    "duration": 1012,
    "start_time": "2024-12-13T02:46:34.073Z"
   },
   {
    "duration": 516,
    "start_time": "2024-12-13T02:46:35.087Z"
   },
   {
    "duration": 125,
    "start_time": "2024-12-13T02:46:35.605Z"
   },
   {
    "duration": 3,
    "start_time": "2024-12-13T02:46:35.732Z"
   },
   {
    "duration": 5575,
    "start_time": "2024-12-13T02:46:35.737Z"
   },
   {
    "duration": 3,
    "start_time": "2024-12-13T02:46:41.313Z"
   },
   {
    "duration": 13,
    "start_time": "2024-12-13T02:46:41.317Z"
   },
   {
    "duration": 5638,
    "start_time": "2024-12-13T02:46:41.332Z"
   },
   {
    "duration": 17,
    "start_time": "2024-12-13T02:46:46.972Z"
   },
   {
    "duration": 89,
    "start_time": "2024-12-13T02:46:46.990Z"
   },
   {
    "duration": 2,
    "start_time": "2024-12-13T02:46:47.081Z"
   },
   {
    "duration": 10,
    "start_time": "2024-12-13T02:46:47.085Z"
   },
   {
    "duration": 1724,
    "start_time": "2024-12-13T02:46:47.097Z"
   },
   {
    "duration": 17999,
    "start_time": "2024-12-13T02:46:48.823Z"
   },
   {
    "duration": 71170,
    "start_time": "2024-12-13T02:47:06.914Z"
   },
   {
    "duration": 5952,
    "start_time": "2024-12-13T02:48:18.086Z"
   },
   {
    "duration": 3,
    "start_time": "2024-12-13T02:48:24.040Z"
   },
   {
    "duration": 74518,
    "start_time": "2024-12-13T02:48:24.044Z"
   },
   {
    "duration": 30244,
    "start_time": "2024-12-13T02:49:38.563Z"
   },
   {
    "duration": 237344,
    "start_time": "2024-12-13T02:50:08.808Z"
   },
   {
    "duration": 0,
    "start_time": "2024-12-13T02:54:06.154Z"
   },
   {
    "duration": 0,
    "start_time": "2024-12-13T02:54:06.155Z"
   },
   {
    "duration": 0,
    "start_time": "2024-12-13T02:54:06.156Z"
   },
   {
    "duration": 0,
    "start_time": "2024-12-13T02:54:06.157Z"
   },
   {
    "duration": 0,
    "start_time": "2024-12-13T02:54:06.158Z"
   },
   {
    "duration": 0,
    "start_time": "2024-12-13T02:54:06.159Z"
   },
   {
    "duration": 0,
    "start_time": "2024-12-13T02:54:06.160Z"
   },
   {
    "duration": 0,
    "start_time": "2024-12-13T02:54:06.161Z"
   },
   {
    "duration": 0,
    "start_time": "2024-12-13T02:54:06.162Z"
   },
   {
    "duration": 3014,
    "start_time": "2024-12-13T02:58:12.675Z"
   },
   {
    "duration": 2401,
    "start_time": "2024-12-13T02:58:15.691Z"
   },
   {
    "duration": 2387,
    "start_time": "2024-12-13T02:58:18.094Z"
   },
   {
    "duration": 1372,
    "start_time": "2024-12-13T02:58:20.483Z"
   },
   {
    "duration": 3,
    "start_time": "2024-12-13T02:58:21.857Z"
   },
   {
    "duration": 66,
    "start_time": "2024-12-13T02:58:21.861Z"
   },
   {
    "duration": 18,
    "start_time": "2024-12-13T02:58:21.929Z"
   },
   {
    "duration": 13,
    "start_time": "2024-12-13T02:58:21.949Z"
   },
   {
    "duration": 1070,
    "start_time": "2024-12-13T02:58:21.964Z"
   },
   {
    "duration": 83,
    "start_time": "2024-12-13T02:58:23.038Z"
   },
   {
    "duration": 1845,
    "start_time": "2024-12-13T02:58:23.122Z"
   },
   {
    "duration": 311,
    "start_time": "2024-12-13T02:58:24.968Z"
   },
   {
    "duration": 458,
    "start_time": "2024-12-13T02:58:25.281Z"
   },
   {
    "duration": 36,
    "start_time": "2024-12-13T02:58:25.741Z"
   },
   {
    "duration": 8149,
    "start_time": "2024-12-13T02:58:25.779Z"
   },
   {
    "duration": 122,
    "start_time": "2024-12-13T02:58:33.930Z"
   },
   {
    "duration": 92,
    "start_time": "2024-12-13T02:58:34.054Z"
   },
   {
    "duration": 369,
    "start_time": "2024-12-13T02:58:34.147Z"
   },
   {
    "duration": 259,
    "start_time": "2024-12-13T02:58:34.517Z"
   },
   {
    "duration": 628,
    "start_time": "2024-12-13T02:58:34.777Z"
   },
   {
    "duration": 308,
    "start_time": "2024-12-13T02:58:35.407Z"
   },
   {
    "duration": 104,
    "start_time": "2024-12-13T02:58:35.716Z"
   },
   {
    "duration": 44,
    "start_time": "2024-12-13T02:58:35.822Z"
   },
   {
    "duration": 108,
    "start_time": "2024-12-13T02:58:35.868Z"
   },
   {
    "duration": 1952,
    "start_time": "2024-12-13T02:58:35.978Z"
   },
   {
    "duration": 5,
    "start_time": "2024-12-13T02:58:37.932Z"
   },
   {
    "duration": 33,
    "start_time": "2024-12-13T02:58:37.939Z"
   },
   {
    "duration": 6,
    "start_time": "2024-12-13T02:58:37.976Z"
   },
   {
    "duration": 48,
    "start_time": "2024-12-13T02:58:37.983Z"
   },
   {
    "duration": 402,
    "start_time": "2024-12-13T02:58:38.033Z"
   },
   {
    "duration": 26,
    "start_time": "2024-12-13T02:58:38.436Z"
   },
   {
    "duration": 995,
    "start_time": "2024-12-13T02:58:38.464Z"
   },
   {
    "duration": 509,
    "start_time": "2024-12-13T02:58:39.460Z"
   },
   {
    "duration": 130,
    "start_time": "2024-12-13T02:58:39.971Z"
   },
   {
    "duration": 12,
    "start_time": "2024-12-13T02:58:40.103Z"
   },
   {
    "duration": 5535,
    "start_time": "2024-12-13T02:58:40.117Z"
   },
   {
    "duration": 66,
    "start_time": "2024-12-13T02:58:45.654Z"
   },
   {
    "duration": 117,
    "start_time": "2024-12-13T02:58:45.722Z"
   },
   {
    "duration": 4443,
    "start_time": "2024-12-13T02:58:45.841Z"
   },
   {
    "duration": 30,
    "start_time": "2024-12-13T02:58:50.286Z"
   },
   {
    "duration": 79,
    "start_time": "2024-12-13T02:58:50.318Z"
   },
   {
    "duration": 4,
    "start_time": "2024-12-13T02:58:50.399Z"
   },
   {
    "duration": 11,
    "start_time": "2024-12-13T02:58:50.415Z"
   },
   {
    "duration": 1760,
    "start_time": "2024-12-13T02:58:50.427Z"
   },
   {
    "duration": 18628,
    "start_time": "2024-12-13T02:58:52.188Z"
   },
   {
    "duration": 71501,
    "start_time": "2024-12-13T02:59:10.818Z"
   },
   {
    "duration": 6010,
    "start_time": "2024-12-13T03:00:22.320Z"
   },
   {
    "duration": 2,
    "start_time": "2024-12-13T03:00:28.332Z"
   },
   {
    "duration": 67831,
    "start_time": "2024-12-13T03:00:28.336Z"
   },
   {
    "duration": 28223,
    "start_time": "2024-12-13T03:01:36.169Z"
   },
   {
    "duration": 5,
    "start_time": "2024-12-13T03:02:04.393Z"
   },
   {
    "duration": 159,
    "start_time": "2024-12-13T03:02:04.400Z"
   },
   {
    "duration": 0,
    "start_time": "2024-12-13T03:02:04.561Z"
   },
   {
    "duration": 0,
    "start_time": "2024-12-13T03:02:04.563Z"
   },
   {
    "duration": 0,
    "start_time": "2024-12-13T03:02:04.564Z"
   },
   {
    "duration": 0,
    "start_time": "2024-12-13T03:02:04.566Z"
   },
   {
    "duration": 0,
    "start_time": "2024-12-13T03:02:04.567Z"
   },
   {
    "duration": 0,
    "start_time": "2024-12-13T03:02:04.569Z"
   },
   {
    "duration": 0,
    "start_time": "2024-12-13T03:02:04.570Z"
   },
   {
    "duration": 0,
    "start_time": "2024-12-13T03:02:04.571Z"
   },
   {
    "duration": 35702,
    "start_time": "2024-12-13T03:06:00.719Z"
   },
   {
    "duration": 0,
    "start_time": "2024-12-13T03:10:44.134Z"
   },
   {
    "duration": 0,
    "start_time": "2024-12-13T03:10:44.135Z"
   },
   {
    "duration": 3,
    "start_time": "2024-12-13T03:12:06.083Z"
   },
   {
    "duration": 81820,
    "start_time": "2024-12-13T03:12:17.508Z"
   },
   {
    "duration": 3105,
    "start_time": "2024-12-13T03:14:24.142Z"
   },
   {
    "duration": 2449,
    "start_time": "2024-12-13T03:14:27.249Z"
   },
   {
    "duration": 2483,
    "start_time": "2024-12-13T03:14:29.700Z"
   },
   {
    "duration": 1445,
    "start_time": "2024-12-13T03:14:32.185Z"
   },
   {
    "duration": 3,
    "start_time": "2024-12-13T03:14:33.632Z"
   },
   {
    "duration": 28,
    "start_time": "2024-12-13T03:14:33.636Z"
   },
   {
    "duration": 11,
    "start_time": "2024-12-13T03:14:33.666Z"
   },
   {
    "duration": 11,
    "start_time": "2024-12-13T03:14:33.678Z"
   },
   {
    "duration": 1085,
    "start_time": "2024-12-13T03:14:33.690Z"
   },
   {
    "duration": 82,
    "start_time": "2024-12-13T03:14:34.778Z"
   },
   {
    "duration": 2010,
    "start_time": "2024-12-13T03:14:34.862Z"
   },
   {
    "duration": 282,
    "start_time": "2024-12-13T03:14:36.874Z"
   },
   {
    "duration": 473,
    "start_time": "2024-12-13T03:14:37.158Z"
   },
   {
    "duration": 37,
    "start_time": "2024-12-13T03:14:37.633Z"
   },
   {
    "duration": 8226,
    "start_time": "2024-12-13T03:14:37.672Z"
   },
   {
    "duration": 126,
    "start_time": "2024-12-13T03:14:45.900Z"
   },
   {
    "duration": 96,
    "start_time": "2024-12-13T03:14:46.027Z"
   },
   {
    "duration": 364,
    "start_time": "2024-12-13T03:14:46.125Z"
   },
   {
    "duration": 305,
    "start_time": "2024-12-13T03:14:46.491Z"
   },
   {
    "duration": 625,
    "start_time": "2024-12-13T03:14:46.798Z"
   },
   {
    "duration": 315,
    "start_time": "2024-12-13T03:14:47.425Z"
   },
   {
    "duration": 105,
    "start_time": "2024-12-13T03:14:47.741Z"
   },
   {
    "duration": 45,
    "start_time": "2024-12-13T03:14:47.848Z"
   },
   {
    "duration": 109,
    "start_time": "2024-12-13T03:14:47.895Z"
   },
   {
    "duration": 1954,
    "start_time": "2024-12-13T03:14:48.005Z"
   },
   {
    "duration": 5,
    "start_time": "2024-12-13T03:14:49.960Z"
   },
   {
    "duration": 25,
    "start_time": "2024-12-13T03:14:49.967Z"
   },
   {
    "duration": 7,
    "start_time": "2024-12-13T03:14:50.016Z"
   },
   {
    "duration": 26,
    "start_time": "2024-12-13T03:14:50.025Z"
   },
   {
    "duration": 428,
    "start_time": "2024-12-13T03:14:50.053Z"
   },
   {
    "duration": 44,
    "start_time": "2024-12-13T03:14:50.484Z"
   },
   {
    "duration": 990,
    "start_time": "2024-12-13T03:14:50.530Z"
   },
   {
    "duration": 565,
    "start_time": "2024-12-13T03:14:51.522Z"
   },
   {
    "duration": 119,
    "start_time": "2024-12-13T03:14:52.089Z"
   },
   {
    "duration": 3,
    "start_time": "2024-12-13T03:14:52.215Z"
   },
   {
    "duration": 5636,
    "start_time": "2024-12-13T03:14:52.219Z"
   },
   {
    "duration": 67,
    "start_time": "2024-12-13T03:14:57.858Z"
   },
   {
    "duration": 10,
    "start_time": "2024-12-13T03:14:57.927Z"
   },
   {
    "duration": 5490,
    "start_time": "2024-12-13T03:14:57.939Z"
   },
   {
    "duration": 17,
    "start_time": "2024-12-13T03:15:03.430Z"
   },
   {
    "duration": 100,
    "start_time": "2024-12-13T03:15:03.449Z"
   },
   {
    "duration": 4,
    "start_time": "2024-12-13T03:15:03.550Z"
   },
   {
    "duration": 26,
    "start_time": "2024-12-13T03:15:03.555Z"
   },
   {
    "duration": 1762,
    "start_time": "2024-12-13T03:15:03.584Z"
   },
   {
    "duration": 18275,
    "start_time": "2024-12-13T03:15:05.347Z"
   },
   {
    "duration": 70947,
    "start_time": "2024-12-13T03:15:23.625Z"
   },
   {
    "duration": 5965,
    "start_time": "2024-12-13T03:16:34.574Z"
   },
   {
    "duration": 2,
    "start_time": "2024-12-13T03:16:40.541Z"
   },
   {
    "duration": 74952,
    "start_time": "2024-12-13T03:16:40.545Z"
   },
   {
    "duration": 30351,
    "start_time": "2024-12-13T03:17:55.498Z"
   },
   {
    "duration": 5,
    "start_time": "2024-12-13T03:18:25.850Z"
   },
   {
    "duration": 6,
    "start_time": "2024-12-13T03:18:25.857Z"
   },
   {
    "duration": 8,
    "start_time": "2024-12-13T03:18:25.865Z"
   },
   {
    "duration": 61084,
    "start_time": "2024-12-13T03:18:25.874Z"
   },
   {
    "duration": 0,
    "start_time": "2024-12-13T03:19:26.960Z"
   },
   {
    "duration": 0,
    "start_time": "2024-12-13T03:19:26.962Z"
   },
   {
    "duration": 0,
    "start_time": "2024-12-13T03:19:26.963Z"
   },
   {
    "duration": 0,
    "start_time": "2024-12-13T03:19:26.964Z"
   },
   {
    "duration": 0,
    "start_time": "2024-12-13T03:19:26.965Z"
   },
   {
    "duration": 0,
    "start_time": "2024-12-13T03:19:26.966Z"
   },
   {
    "duration": 1,
    "start_time": "2024-12-13T03:19:26.966Z"
   },
   {
    "duration": 0,
    "start_time": "2024-12-13T03:19:26.968Z"
   },
   {
    "duration": 0,
    "start_time": "2024-12-13T03:19:26.969Z"
   },
   {
    "duration": 11,
    "start_time": "2024-12-13T03:19:36.258Z"
   },
   {
    "duration": 2,
    "start_time": "2024-12-13T03:19:50.201Z"
   },
   {
    "duration": 11380,
    "start_time": "2024-12-13T03:19:51.049Z"
   },
   {
    "duration": 104,
    "start_time": "2024-12-13T03:20:30.420Z"
   },
   {
    "duration": 6,
    "start_time": "2024-12-13T03:20:41.788Z"
   },
   {
    "duration": 3,
    "start_time": "2024-12-13T03:20:46.946Z"
   },
   {
    "duration": 0,
    "start_time": "2024-12-13T03:21:55.314Z"
   },
   {
    "duration": 3114,
    "start_time": "2024-12-13T03:22:02.558Z"
   },
   {
    "duration": 2472,
    "start_time": "2024-12-13T03:22:05.674Z"
   },
   {
    "duration": 2468,
    "start_time": "2024-12-13T03:22:08.150Z"
   },
   {
    "duration": 1638,
    "start_time": "2024-12-13T03:22:10.620Z"
   },
   {
    "duration": 2,
    "start_time": "2024-12-13T03:22:12.260Z"
   },
   {
    "duration": 15,
    "start_time": "2024-12-13T03:22:12.264Z"
   },
   {
    "duration": 12,
    "start_time": "2024-12-13T03:22:12.281Z"
   },
   {
    "duration": 10,
    "start_time": "2024-12-13T03:22:12.295Z"
   },
   {
    "duration": 1144,
    "start_time": "2024-12-13T03:22:12.307Z"
   },
   {
    "duration": 82,
    "start_time": "2024-12-13T03:22:13.454Z"
   },
   {
    "duration": 2092,
    "start_time": "2024-12-13T03:22:13.537Z"
   },
   {
    "duration": 286,
    "start_time": "2024-12-13T03:22:15.630Z"
   },
   {
    "duration": 490,
    "start_time": "2024-12-13T03:22:15.917Z"
   },
   {
    "duration": 43,
    "start_time": "2024-12-13T03:22:16.409Z"
   },
   {
    "duration": 8375,
    "start_time": "2024-12-13T03:22:16.454Z"
   },
   {
    "duration": 128,
    "start_time": "2024-12-13T03:22:24.831Z"
   },
   {
    "duration": 118,
    "start_time": "2024-12-13T03:22:24.961Z"
   },
   {
    "duration": 371,
    "start_time": "2024-12-13T03:22:25.081Z"
   },
   {
    "duration": 283,
    "start_time": "2024-12-13T03:22:25.454Z"
   },
   {
    "duration": 610,
    "start_time": "2024-12-13T03:22:25.739Z"
   },
   {
    "duration": 337,
    "start_time": "2024-12-13T03:22:26.351Z"
   },
   {
    "duration": 107,
    "start_time": "2024-12-13T03:22:26.690Z"
   },
   {
    "duration": 55,
    "start_time": "2024-12-13T03:22:26.799Z"
   },
   {
    "duration": 91,
    "start_time": "2024-12-13T03:22:26.855Z"
   },
   {
    "duration": 1959,
    "start_time": "2024-12-13T03:22:26.948Z"
   },
   {
    "duration": 5,
    "start_time": "2024-12-13T03:22:28.914Z"
   },
   {
    "duration": 41,
    "start_time": "2024-12-13T03:22:28.921Z"
   },
   {
    "duration": 6,
    "start_time": "2024-12-13T03:22:28.966Z"
   },
   {
    "duration": 34,
    "start_time": "2024-12-13T03:22:28.974Z"
   },
   {
    "duration": 415,
    "start_time": "2024-12-13T03:22:29.010Z"
   },
   {
    "duration": 26,
    "start_time": "2024-12-13T03:22:29.427Z"
   },
   {
    "duration": 1002,
    "start_time": "2024-12-13T03:22:29.455Z"
   },
   {
    "duration": 520,
    "start_time": "2024-12-13T03:22:30.459Z"
   },
   {
    "duration": 123,
    "start_time": "2024-12-13T03:22:30.981Z"
   },
   {
    "duration": 9,
    "start_time": "2024-12-13T03:22:31.106Z"
   },
   {
    "duration": 5715,
    "start_time": "2024-12-13T03:22:31.117Z"
   },
   {
    "duration": 67,
    "start_time": "2024-12-13T03:22:36.834Z"
   },
   {
    "duration": 118,
    "start_time": "2024-12-13T03:22:36.903Z"
   },
   {
    "duration": 4506,
    "start_time": "2024-12-13T03:22:37.024Z"
   },
   {
    "duration": 17,
    "start_time": "2024-12-13T03:22:41.532Z"
   },
   {
    "duration": 101,
    "start_time": "2024-12-13T03:22:41.550Z"
   },
   {
    "duration": 3,
    "start_time": "2024-12-13T03:22:41.653Z"
   },
   {
    "duration": 4,
    "start_time": "2024-12-13T03:22:41.657Z"
   },
   {
    "duration": 1869,
    "start_time": "2024-12-13T03:22:41.662Z"
   },
   {
    "duration": 17487,
    "start_time": "2024-12-13T03:22:43.532Z"
   },
   {
    "duration": 72500,
    "start_time": "2024-12-13T03:23:01.027Z"
   },
   {
    "duration": 6005,
    "start_time": "2024-12-13T03:24:13.528Z"
   },
   {
    "duration": 2,
    "start_time": "2024-12-13T03:24:19.535Z"
   },
   {
    "duration": 69561,
    "start_time": "2024-12-13T03:24:19.539Z"
   },
   {
    "duration": 28622,
    "start_time": "2024-12-13T03:25:29.102Z"
   },
   {
    "duration": 5,
    "start_time": "2024-12-13T03:25:57.726Z"
   },
   {
    "duration": 13,
    "start_time": "2024-12-13T03:25:57.733Z"
   },
   {
    "duration": 5,
    "start_time": "2024-12-13T03:25:57.748Z"
   },
   {
    "duration": 104462,
    "start_time": "2024-12-13T03:25:57.755Z"
   },
   {
    "duration": 307,
    "start_time": "2024-12-13T03:27:42.219Z"
   },
   {
    "duration": 5,
    "start_time": "2024-12-13T03:27:42.528Z"
   },
   {
    "duration": 490231,
    "start_time": "2024-12-13T03:27:42.535Z"
   },
   {
    "duration": 0,
    "start_time": "2024-12-13T03:35:52.767Z"
   },
   {
    "duration": 0,
    "start_time": "2024-12-13T03:35:52.768Z"
   },
   {
    "duration": 0,
    "start_time": "2024-12-13T03:35:52.769Z"
   },
   {
    "duration": 0,
    "start_time": "2024-12-13T03:35:52.771Z"
   },
   {
    "duration": 0,
    "start_time": "2024-12-13T03:35:52.772Z"
   },
   {
    "duration": 0,
    "start_time": "2024-12-13T03:35:52.773Z"
   },
   {
    "duration": 0,
    "start_time": "2024-12-13T03:35:52.774Z"
   },
   {
    "duration": 0,
    "start_time": "2024-12-13T03:35:52.775Z"
   },
   {
    "duration": 22093,
    "start_time": "2024-12-13T03:36:05.127Z"
   },
   {
    "duration": 4,
    "start_time": "2024-12-13T03:36:47.846Z"
   },
   {
    "duration": 91,
    "start_time": "2024-12-13T03:36:54.230Z"
   },
   {
    "duration": 5,
    "start_time": "2024-12-13T03:36:55.926Z"
   },
   {
    "duration": 5,
    "start_time": "2024-12-13T03:36:58.262Z"
   },
   {
    "duration": 79522,
    "start_time": "2024-12-13T03:37:05.415Z"
   },
   {
    "duration": 71136,
    "start_time": "2024-12-13T03:38:40.287Z"
   },
   {
    "duration": 244,
    "start_time": "2024-12-13T03:41:48.273Z"
   },
   {
    "duration": 7627,
    "start_time": "2024-12-13T15:10:00.196Z"
   },
   {
    "duration": 2519,
    "start_time": "2024-12-13T15:10:07.825Z"
   },
   {
    "duration": 3149,
    "start_time": "2024-12-13T15:10:10.346Z"
   },
   {
    "duration": 1602,
    "start_time": "2024-12-13T15:10:13.497Z"
   },
   {
    "duration": 3,
    "start_time": "2024-12-13T15:10:15.100Z"
   },
   {
    "duration": 52,
    "start_time": "2024-12-13T15:10:15.105Z"
   },
   {
    "duration": 34,
    "start_time": "2024-12-13T15:10:15.158Z"
   },
   {
    "duration": 52,
    "start_time": "2024-12-13T15:10:15.193Z"
   },
   {
    "duration": 3141,
    "start_time": "2024-12-13T15:10:15.247Z"
   },
   {
    "duration": 78,
    "start_time": "2024-12-13T15:10:18.392Z"
   },
   {
    "duration": 1777,
    "start_time": "2024-12-13T15:10:18.472Z"
   },
   {
    "duration": 286,
    "start_time": "2024-12-13T15:10:20.251Z"
   },
   {
    "duration": 472,
    "start_time": "2024-12-13T15:10:20.540Z"
   },
   {
    "duration": 35,
    "start_time": "2024-12-13T15:10:21.014Z"
   },
   {
    "duration": 8142,
    "start_time": "2024-12-13T15:10:21.051Z"
   },
   {
    "duration": 126,
    "start_time": "2024-12-13T15:10:29.195Z"
   },
   {
    "duration": 116,
    "start_time": "2024-12-13T15:10:29.323Z"
   },
   {
    "duration": 436,
    "start_time": "2024-12-13T15:10:29.441Z"
   },
   {
    "duration": 270,
    "start_time": "2024-12-13T15:10:29.879Z"
   },
   {
    "duration": 634,
    "start_time": "2024-12-13T15:10:30.150Z"
   },
   {
    "duration": 318,
    "start_time": "2024-12-13T15:10:30.785Z"
   },
   {
    "duration": 114,
    "start_time": "2024-12-13T15:10:31.105Z"
   },
   {
    "duration": 54,
    "start_time": "2024-12-13T15:10:31.220Z"
   },
   {
    "duration": 78,
    "start_time": "2024-12-13T15:10:31.276Z"
   },
   {
    "duration": 1966,
    "start_time": "2024-12-13T15:10:31.370Z"
   },
   {
    "duration": 4,
    "start_time": "2024-12-13T15:10:33.338Z"
   },
   {
    "duration": 36,
    "start_time": "2024-12-13T15:10:33.343Z"
   },
   {
    "duration": 5,
    "start_time": "2024-12-13T15:10:33.383Z"
   },
   {
    "duration": 90,
    "start_time": "2024-12-13T15:10:33.390Z"
   },
   {
    "duration": 489,
    "start_time": "2024-12-13T15:10:33.482Z"
   },
   {
    "duration": 26,
    "start_time": "2024-12-13T15:10:33.973Z"
   },
   {
    "duration": 1157,
    "start_time": "2024-12-13T15:10:34.001Z"
   },
   {
    "duration": 540,
    "start_time": "2024-12-13T15:10:35.159Z"
   },
   {
    "duration": 140,
    "start_time": "2024-12-13T15:10:35.700Z"
   },
   {
    "duration": 3,
    "start_time": "2024-12-13T15:10:35.842Z"
   },
   {
    "duration": 5605,
    "start_time": "2024-12-13T15:10:35.846Z"
   },
   {
    "duration": 66,
    "start_time": "2024-12-13T15:10:41.452Z"
   },
   {
    "duration": 110,
    "start_time": "2024-12-13T15:10:41.519Z"
   },
   {
    "duration": 4487,
    "start_time": "2024-12-13T15:10:41.631Z"
   },
   {
    "duration": 17,
    "start_time": "2024-12-13T15:10:46.120Z"
   },
   {
    "duration": 92,
    "start_time": "2024-12-13T15:10:46.139Z"
   },
   {
    "duration": 3,
    "start_time": "2024-12-13T15:10:46.233Z"
   },
   {
    "duration": 6,
    "start_time": "2024-12-13T15:10:46.237Z"
   },
   {
    "duration": 1805,
    "start_time": "2024-12-13T15:10:46.244Z"
   },
   {
    "duration": 14022,
    "start_time": "2024-12-13T15:10:48.051Z"
   },
   {
    "duration": 72947,
    "start_time": "2024-12-13T15:11:02.075Z"
   },
   {
    "duration": 6121,
    "start_time": "2024-12-13T15:12:15.024Z"
   },
   {
    "duration": 2,
    "start_time": "2024-12-13T15:12:21.147Z"
   },
   {
    "duration": 68627,
    "start_time": "2024-12-13T15:12:21.151Z"
   },
   {
    "duration": 28192,
    "start_time": "2024-12-13T15:13:29.779Z"
   },
   {
    "duration": 5,
    "start_time": "2024-12-13T15:13:57.973Z"
   },
   {
    "duration": 40,
    "start_time": "2024-12-13T15:13:57.979Z"
   },
   {
    "duration": 5154,
    "start_time": "2024-12-13T15:13:58.021Z"
   },
   {
    "duration": 3,
    "start_time": "2024-12-13T15:14:03.177Z"
   },
   {
    "duration": 493,
    "start_time": "2024-12-13T15:14:03.182Z"
   },
   {
    "duration": 5,
    "start_time": "2024-12-13T15:14:03.677Z"
   },
   {
    "duration": 10,
    "start_time": "2024-12-13T15:14:03.683Z"
   },
   {
    "duration": 2844,
    "start_time": "2024-12-13T15:14:03.694Z"
   },
   {
    "duration": 0,
    "start_time": "2024-12-13T15:14:06.540Z"
   },
   {
    "duration": 0,
    "start_time": "2024-12-13T15:14:06.541Z"
   },
   {
    "duration": 0,
    "start_time": "2024-12-13T15:14:06.543Z"
   },
   {
    "duration": 5252,
    "start_time": "2024-12-13T15:15:19.422Z"
   },
   {
    "duration": 4,
    "start_time": "2024-12-13T15:15:28.574Z"
   },
   {
    "duration": 15742,
    "start_time": "2024-12-13T15:15:34.229Z"
   },
   {
    "duration": 5,
    "start_time": "2024-12-13T15:15:52.214Z"
   },
   {
    "duration": 1556,
    "start_time": "2024-12-13T15:15:55.327Z"
   },
   {
    "duration": 4,
    "start_time": "2024-12-13T15:15:58.799Z"
   },
   {
    "duration": 4,
    "start_time": "2024-12-13T15:16:01.048Z"
   },
   {
    "duration": 113914,
    "start_time": "2024-12-13T15:16:29.664Z"
   },
   {
    "duration": 4,
    "start_time": "2024-12-13T15:18:44.562Z"
   },
   {
    "duration": 5,
    "start_time": "2024-12-13T15:19:04.697Z"
   },
   {
    "duration": 17085,
    "start_time": "2024-12-13T15:19:22.601Z"
   },
   {
    "duration": 4,
    "start_time": "2024-12-13T15:19:50.656Z"
   },
   {
    "duration": 1747,
    "start_time": "2024-12-13T15:19:54.040Z"
   },
   {
    "duration": 5,
    "start_time": "2024-12-13T15:19:55.791Z"
   },
   {
    "duration": 4,
    "start_time": "2024-12-13T15:19:57.760Z"
   },
   {
    "duration": 116046,
    "start_time": "2024-12-13T15:21:04.274Z"
   },
   {
    "duration": 27831,
    "start_time": "2024-12-13T15:49:17.454Z"
   },
   {
    "duration": 28161,
    "start_time": "2024-12-13T15:49:51.396Z"
   },
   {
    "duration": 28201,
    "start_time": "2024-12-13T15:50:28.749Z"
   },
   {
    "duration": 27902,
    "start_time": "2024-12-13T15:51:14.592Z"
   },
   {
    "duration": 27289,
    "start_time": "2024-12-13T15:51:54.726Z"
   },
   {
    "duration": 27171,
    "start_time": "2024-12-13T15:52:28.399Z"
   },
   {
    "duration": 5934,
    "start_time": "2024-12-13T15:53:19.503Z"
   },
   {
    "duration": 335093,
    "start_time": "2024-12-13T15:53:51.888Z"
   },
   {
    "duration": 6049,
    "start_time": "2024-12-13T16:01:14.105Z"
   },
   {
    "duration": 73140,
    "start_time": "2024-12-13T16:01:54.530Z"
   },
   {
    "duration": 870,
    "start_time": "2024-12-13T16:09:34.683Z"
   },
   {
    "duration": 104024,
    "start_time": "2024-12-13T16:10:16.469Z"
   },
   {
    "duration": 66338,
    "start_time": "2024-12-13T16:12:31.095Z"
   },
   {
    "duration": 27139,
    "start_time": "2024-12-13T16:14:54.969Z"
   },
   {
    "duration": 82307,
    "start_time": "2024-12-13T16:16:08.211Z"
   },
   {
    "duration": 43931,
    "start_time": "2024-12-13T16:18:06.911Z"
   },
   {
    "duration": 247729,
    "start_time": "2024-12-13T16:21:42.579Z"
   },
   {
    "duration": 15,
    "start_time": "2024-12-13T16:29:14.455Z"
   },
   {
    "duration": 310,
    "start_time": "2024-12-13T16:29:25.966Z"
   },
   {
    "duration": 1923,
    "start_time": "2024-12-13T16:30:04.718Z"
   },
   {
    "duration": 32,
    "start_time": "2024-12-13T16:30:25.920Z"
   },
   {
    "duration": 82,
    "start_time": "2024-12-13T16:31:07.088Z"
   },
   {
    "duration": 3178,
    "start_time": "2024-12-13T16:37:50.384Z"
   },
   {
    "duration": 2484,
    "start_time": "2024-12-13T16:37:53.564Z"
   },
   {
    "duration": 2449,
    "start_time": "2024-12-13T16:37:56.050Z"
   },
   {
    "duration": 1333,
    "start_time": "2024-12-13T16:37:58.502Z"
   },
   {
    "duration": 2,
    "start_time": "2024-12-13T16:37:59.837Z"
   },
   {
    "duration": 76,
    "start_time": "2024-12-13T16:37:59.841Z"
   },
   {
    "duration": 11,
    "start_time": "2024-12-13T16:37:59.919Z"
   },
   {
    "duration": 14,
    "start_time": "2024-12-13T16:37:59.931Z"
   },
   {
    "duration": 1074,
    "start_time": "2024-12-13T16:37:59.947Z"
   },
   {
    "duration": 76,
    "start_time": "2024-12-13T16:38:01.024Z"
   },
   {
    "duration": 1853,
    "start_time": "2024-12-13T16:38:01.102Z"
   },
   {
    "duration": 277,
    "start_time": "2024-12-13T16:38:02.957Z"
   },
   {
    "duration": 449,
    "start_time": "2024-12-13T16:38:03.236Z"
   },
   {
    "duration": 37,
    "start_time": "2024-12-13T16:38:03.686Z"
   },
   {
    "duration": 8576,
    "start_time": "2024-12-13T16:38:03.725Z"
   },
   {
    "duration": 127,
    "start_time": "2024-12-13T16:38:12.303Z"
   },
   {
    "duration": 94,
    "start_time": "2024-12-13T16:38:12.432Z"
   },
   {
    "duration": 377,
    "start_time": "2024-12-13T16:38:12.528Z"
   },
   {
    "duration": 280,
    "start_time": "2024-12-13T16:38:12.907Z"
   },
   {
    "duration": 648,
    "start_time": "2024-12-13T16:38:13.188Z"
   },
   {
    "duration": 357,
    "start_time": "2024-12-13T16:38:13.838Z"
   },
   {
    "duration": 110,
    "start_time": "2024-12-13T16:38:14.197Z"
   },
   {
    "duration": 45,
    "start_time": "2024-12-13T16:38:14.309Z"
   },
   {
    "duration": 90,
    "start_time": "2024-12-13T16:38:14.356Z"
   },
   {
    "duration": 2029,
    "start_time": "2024-12-13T16:38:14.448Z"
   },
   {
    "duration": 6,
    "start_time": "2024-12-13T16:38:16.479Z"
   },
   {
    "duration": 36,
    "start_time": "2024-12-13T16:38:16.487Z"
   },
   {
    "duration": 7,
    "start_time": "2024-12-13T16:38:16.528Z"
   },
   {
    "duration": 36,
    "start_time": "2024-12-13T16:38:16.542Z"
   },
   {
    "duration": 416,
    "start_time": "2024-12-13T16:38:16.580Z"
   },
   {
    "duration": 24,
    "start_time": "2024-12-13T16:38:16.997Z"
   },
   {
    "duration": 997,
    "start_time": "2024-12-13T16:38:17.023Z"
   },
   {
    "duration": 533,
    "start_time": "2024-12-13T16:38:18.021Z"
   },
   {
    "duration": 123,
    "start_time": "2024-12-13T16:38:18.556Z"
   },
   {
    "duration": 3,
    "start_time": "2024-12-13T16:38:18.680Z"
   },
   {
    "duration": 5610,
    "start_time": "2024-12-13T16:38:18.685Z"
   },
   {
    "duration": 65,
    "start_time": "2024-12-13T16:38:24.296Z"
   },
   {
    "duration": 114,
    "start_time": "2024-12-13T16:38:24.363Z"
   },
   {
    "duration": 4580,
    "start_time": "2024-12-13T16:38:24.479Z"
   },
   {
    "duration": 17,
    "start_time": "2024-12-13T16:38:29.060Z"
   },
   {
    "duration": 93,
    "start_time": "2024-12-13T16:38:29.078Z"
   },
   {
    "duration": 3,
    "start_time": "2024-12-13T16:38:29.173Z"
   },
   {
    "duration": 5,
    "start_time": "2024-12-13T16:38:29.178Z"
   },
   {
    "duration": 1858,
    "start_time": "2024-12-13T16:38:29.184Z"
   },
   {
    "duration": 14430,
    "start_time": "2024-12-13T16:38:31.044Z"
   },
   {
    "duration": 71402,
    "start_time": "2024-12-13T16:38:45.480Z"
   },
   {
    "duration": 5906,
    "start_time": "2024-12-13T16:39:56.884Z"
   },
   {
    "duration": 3,
    "start_time": "2024-12-13T16:40:02.791Z"
   },
   {
    "duration": 290494,
    "start_time": "2024-12-13T16:40:02.795Z"
   },
   {
    "duration": 27555,
    "start_time": "2024-12-13T16:44:53.290Z"
   },
   {
    "duration": 87033,
    "start_time": "2024-12-13T16:45:20.846Z"
   },
   {
    "duration": 3,
    "start_time": "2024-12-13T16:46:47.881Z"
   },
   {
    "duration": 17,
    "start_time": "2024-12-13T16:46:47.886Z"
   },
   {
    "duration": 13467,
    "start_time": "2024-12-13T16:46:47.905Z"
   },
   {
    "duration": 1513,
    "start_time": "2024-12-13T16:47:01.374Z"
   },
   {
    "duration": 4,
    "start_time": "2024-12-13T16:47:02.889Z"
   },
   {
    "duration": 78,
    "start_time": "2024-12-13T16:47:02.894Z"
   },
   {
    "duration": 2663,
    "start_time": "2024-12-13T16:47:02.974Z"
   },
   {
    "duration": 0,
    "start_time": "2024-12-13T16:47:05.639Z"
   },
   {
    "duration": 0,
    "start_time": "2024-12-13T16:47:05.640Z"
   },
   {
    "duration": 0,
    "start_time": "2024-12-13T16:47:05.641Z"
   },
   {
    "duration": 7,
    "start_time": "2024-12-13T17:13:53.300Z"
   },
   {
    "duration": 1519,
    "start_time": "2024-12-13T17:14:01.468Z"
   },
   {
    "duration": 6,
    "start_time": "2024-12-13T17:14:04.351Z"
   },
   {
    "duration": 3,
    "start_time": "2024-12-13T17:17:25.225Z"
   },
   {
    "duration": 4,
    "start_time": "2024-12-13T17:17:53.176Z"
   },
   {
    "duration": 4,
    "start_time": "2024-12-13T17:18:16.569Z"
   },
   {
    "duration": 3,
    "start_time": "2024-12-13T17:18:20.636Z"
   },
   {
    "duration": 3,
    "start_time": "2024-12-13T17:18:23.790Z"
   },
   {
    "duration": 5,
    "start_time": "2024-12-13T17:20:56.140Z"
   },
   {
    "duration": 6,
    "start_time": "2024-12-13T17:21:14.843Z"
   },
   {
    "duration": 4369,
    "start_time": "2024-12-13T17:21:42.629Z"
   },
   {
    "duration": 4,
    "start_time": "2024-12-13T17:22:55.013Z"
   },
   {
    "duration": 6,
    "start_time": "2024-12-13T17:23:08.844Z"
   },
   {
    "duration": 4,
    "start_time": "2024-12-13T17:26:05.907Z"
   },
   {
    "duration": 10,
    "start_time": "2024-12-13T17:26:15.441Z"
   },
   {
    "duration": 5,
    "start_time": "2024-12-13T17:26:34.877Z"
   },
   {
    "duration": 10,
    "start_time": "2024-12-13T17:26:50.445Z"
   },
   {
    "duration": 4,
    "start_time": "2024-12-13T17:26:58.572Z"
   },
   {
    "duration": 9,
    "start_time": "2024-12-13T17:27:11.000Z"
   },
   {
    "duration": 21,
    "start_time": "2024-12-13T17:27:23.761Z"
   },
   {
    "duration": 6,
    "start_time": "2024-12-13T17:28:10.453Z"
   },
   {
    "duration": 23,
    "start_time": "2024-12-13T17:31:44.064Z"
   },
   {
    "duration": 26,
    "start_time": "2024-12-13T17:32:35.151Z"
   },
   {
    "duration": 6,
    "start_time": "2024-12-13T17:33:52.321Z"
   },
   {
    "duration": 1455,
    "start_time": "2024-12-13T17:34:44.536Z"
   },
   {
    "duration": 6,
    "start_time": "2024-12-13T17:34:48.152Z"
   },
   {
    "duration": 5,
    "start_time": "2024-12-13T17:35:14.619Z"
   },
   {
    "duration": 23,
    "start_time": "2024-12-13T17:38:02.512Z"
   },
   {
    "duration": 6,
    "start_time": "2024-12-13T17:38:10.619Z"
   },
   {
    "duration": 3167,
    "start_time": "2024-12-13T17:39:08.047Z"
   },
   {
    "duration": 2478,
    "start_time": "2024-12-13T17:39:11.217Z"
   },
   {
    "duration": 2550,
    "start_time": "2024-12-13T17:39:13.697Z"
   },
   {
    "duration": 1424,
    "start_time": "2024-12-13T17:39:16.250Z"
   },
   {
    "duration": 3,
    "start_time": "2024-12-13T17:39:17.676Z"
   },
   {
    "duration": 5,
    "start_time": "2024-12-13T17:39:17.680Z"
   },
   {
    "duration": 8,
    "start_time": "2024-12-13T17:39:17.686Z"
   },
   {
    "duration": 11,
    "start_time": "2024-12-13T17:39:17.695Z"
   },
   {
    "duration": 1099,
    "start_time": "2024-12-13T17:39:17.707Z"
   },
   {
    "duration": 80,
    "start_time": "2024-12-13T17:39:18.808Z"
   },
   {
    "duration": 1864,
    "start_time": "2024-12-13T17:39:18.889Z"
   },
   {
    "duration": 278,
    "start_time": "2024-12-13T17:39:20.755Z"
   },
   {
    "duration": 461,
    "start_time": "2024-12-13T17:39:21.034Z"
   },
   {
    "duration": 38,
    "start_time": "2024-12-13T17:39:21.497Z"
   },
   {
    "duration": 8362,
    "start_time": "2024-12-13T17:39:21.537Z"
   },
   {
    "duration": 126,
    "start_time": "2024-12-13T17:39:29.900Z"
   },
   {
    "duration": 99,
    "start_time": "2024-12-13T17:39:30.028Z"
   },
   {
    "duration": 443,
    "start_time": "2024-12-13T17:39:30.129Z"
   },
   {
    "duration": 298,
    "start_time": "2024-12-13T17:39:30.574Z"
   },
   {
    "duration": 641,
    "start_time": "2024-12-13T17:39:30.874Z"
   },
   {
    "duration": 327,
    "start_time": "2024-12-13T17:39:31.516Z"
   },
   {
    "duration": 112,
    "start_time": "2024-12-13T17:39:31.845Z"
   },
   {
    "duration": 56,
    "start_time": "2024-12-13T17:39:31.959Z"
   },
   {
    "duration": 96,
    "start_time": "2024-12-13T17:39:32.017Z"
   },
   {
    "duration": 2080,
    "start_time": "2024-12-13T17:39:32.115Z"
   },
   {
    "duration": 4,
    "start_time": "2024-12-13T17:39:34.197Z"
   },
   {
    "duration": 49,
    "start_time": "2024-12-13T17:39:34.202Z"
   },
   {
    "duration": 16,
    "start_time": "2024-12-13T17:39:34.255Z"
   },
   {
    "duration": 26,
    "start_time": "2024-12-13T17:39:34.273Z"
   },
   {
    "duration": 421,
    "start_time": "2024-12-13T17:39:34.301Z"
   },
   {
    "duration": 26,
    "start_time": "2024-12-13T17:39:34.724Z"
   },
   {
    "duration": 1046,
    "start_time": "2024-12-13T17:39:34.752Z"
   },
   {
    "duration": 535,
    "start_time": "2024-12-13T17:39:35.800Z"
   },
   {
    "duration": 126,
    "start_time": "2024-12-13T17:39:36.337Z"
   },
   {
    "duration": 5,
    "start_time": "2024-12-13T17:39:36.465Z"
   },
   {
    "duration": 5543,
    "start_time": "2024-12-13T17:39:36.472Z"
   },
   {
    "duration": 67,
    "start_time": "2024-12-13T17:39:42.017Z"
   },
   {
    "duration": 119,
    "start_time": "2024-12-13T17:39:42.085Z"
   },
   {
    "duration": 4589,
    "start_time": "2024-12-13T17:39:42.206Z"
   },
   {
    "duration": 17,
    "start_time": "2024-12-13T17:39:46.797Z"
   },
   {
    "duration": 95,
    "start_time": "2024-12-13T17:39:46.815Z"
   },
   {
    "duration": 3,
    "start_time": "2024-12-13T17:39:46.912Z"
   },
   {
    "duration": 4,
    "start_time": "2024-12-13T17:39:46.916Z"
   },
   {
    "duration": 1877,
    "start_time": "2024-12-13T17:39:46.922Z"
   },
   {
    "duration": 13671,
    "start_time": "2024-12-13T17:39:48.801Z"
   },
   {
    "duration": 73409,
    "start_time": "2024-12-13T17:40:02.474Z"
   },
   {
    "duration": 6088,
    "start_time": "2024-12-13T17:41:15.884Z"
   },
   {
    "duration": 2,
    "start_time": "2024-12-13T17:41:21.973Z"
   },
   {
    "duration": 295139,
    "start_time": "2024-12-13T17:41:21.977Z"
   },
   {
    "duration": 27776,
    "start_time": "2024-12-13T17:46:17.118Z"
   },
   {
    "duration": 114090,
    "start_time": "2024-12-13T17:46:44.895Z"
   },
   {
    "duration": 3,
    "start_time": "2024-12-13T17:48:38.986Z"
   },
   {
    "duration": 6,
    "start_time": "2024-12-13T17:48:39.070Z"
   },
   {
    "duration": 14003,
    "start_time": "2024-12-13T17:48:39.078Z"
   },
   {
    "duration": 1594,
    "start_time": "2024-12-13T17:48:53.082Z"
   },
   {
    "duration": 5,
    "start_time": "2024-12-13T17:48:54.678Z"
   },
   {
    "duration": 11,
    "start_time": "2024-12-13T17:48:54.685Z"
   },
   {
    "duration": 4429,
    "start_time": "2024-12-13T17:48:54.698Z"
   },
   {
    "duration": 25,
    "start_time": "2024-12-13T17:48:59.129Z"
   },
   {
    "duration": 6,
    "start_time": "2024-12-13T17:48:59.170Z"
   },
   {
    "duration": 1510,
    "start_time": "2024-12-13T17:48:59.178Z"
   },
   {
    "duration": 23,
    "start_time": "2024-12-13T17:49:00.771Z"
   },
   {
    "duration": 6,
    "start_time": "2024-12-13T17:49:00.796Z"
   },
   {
    "duration": 172707,
    "start_time": "2024-12-13T17:49:00.806Z"
   },
   {
    "duration": 28332,
    "start_time": "2024-12-13T17:52:31.934Z"
   },
   {
    "duration": 3719,
    "start_time": "2024-12-13T20:12:16.887Z"
   },
   {
    "duration": 2532,
    "start_time": "2024-12-13T20:12:20.608Z"
   },
   {
    "duration": 2526,
    "start_time": "2024-12-13T20:12:23.142Z"
   },
   {
    "duration": 1428,
    "start_time": "2024-12-13T20:12:25.670Z"
   },
   {
    "duration": 2,
    "start_time": "2024-12-13T20:12:27.100Z"
   },
   {
    "duration": 52,
    "start_time": "2024-12-13T20:12:27.104Z"
   },
   {
    "duration": 5,
    "start_time": "2024-12-13T20:12:27.158Z"
   },
   {
    "duration": 11,
    "start_time": "2024-12-13T20:12:27.164Z"
   },
   {
    "duration": 1065,
    "start_time": "2024-12-13T20:12:27.177Z"
   },
   {
    "duration": 83,
    "start_time": "2024-12-13T20:12:28.246Z"
   },
   {
    "duration": 1878,
    "start_time": "2024-12-13T20:12:28.330Z"
   },
   {
    "duration": 293,
    "start_time": "2024-12-13T20:12:30.210Z"
   },
   {
    "duration": 471,
    "start_time": "2024-12-13T20:12:30.506Z"
   },
   {
    "duration": 38,
    "start_time": "2024-12-13T20:12:30.978Z"
   },
   {
    "duration": 8381,
    "start_time": "2024-12-13T20:12:31.017Z"
   },
   {
    "duration": 121,
    "start_time": "2024-12-13T20:12:39.399Z"
   },
   {
    "duration": 103,
    "start_time": "2024-12-13T20:12:39.522Z"
   },
   {
    "duration": 369,
    "start_time": "2024-12-13T20:12:39.626Z"
   },
   {
    "duration": 296,
    "start_time": "2024-12-13T20:12:39.997Z"
   },
   {
    "duration": 635,
    "start_time": "2024-12-13T20:12:40.295Z"
   },
   {
    "duration": 314,
    "start_time": "2024-12-13T20:12:40.932Z"
   },
   {
    "duration": 108,
    "start_time": "2024-12-13T20:12:41.248Z"
   },
   {
    "duration": 51,
    "start_time": "2024-12-13T20:12:41.357Z"
   },
   {
    "duration": 93,
    "start_time": "2024-12-13T20:12:41.410Z"
   },
   {
    "duration": 1978,
    "start_time": "2024-12-13T20:12:41.505Z"
   },
   {
    "duration": 4,
    "start_time": "2024-12-13T20:12:43.485Z"
   },
   {
    "duration": 25,
    "start_time": "2024-12-13T20:12:43.490Z"
   },
   {
    "duration": 5,
    "start_time": "2024-12-13T20:12:43.519Z"
   },
   {
    "duration": 46,
    "start_time": "2024-12-13T20:12:43.526Z"
   },
   {
    "duration": 417,
    "start_time": "2024-12-13T20:12:43.574Z"
   },
   {
    "duration": 25,
    "start_time": "2024-12-13T20:12:43.993Z"
   },
   {
    "duration": 1045,
    "start_time": "2024-12-13T20:12:44.020Z"
   },
   {
    "duration": 545,
    "start_time": "2024-12-13T20:12:45.066Z"
   },
   {
    "duration": 131,
    "start_time": "2024-12-13T20:12:45.612Z"
   },
   {
    "duration": 3,
    "start_time": "2024-12-13T20:12:45.752Z"
   },
   {
    "duration": 5557,
    "start_time": "2024-12-13T20:12:45.758Z"
   },
   {
    "duration": 67,
    "start_time": "2024-12-13T20:12:51.317Z"
   },
   {
    "duration": 119,
    "start_time": "2024-12-13T20:12:51.386Z"
   },
   {
    "duration": 4521,
    "start_time": "2024-12-13T20:12:51.507Z"
   },
   {
    "duration": 17,
    "start_time": "2024-12-13T20:12:56.029Z"
   },
   {
    "duration": 89,
    "start_time": "2024-12-13T20:12:56.047Z"
   },
   {
    "duration": 3,
    "start_time": "2024-12-13T20:12:56.137Z"
   },
   {
    "duration": 4,
    "start_time": "2024-12-13T20:12:56.142Z"
   },
   {
    "duration": 1866,
    "start_time": "2024-12-13T20:12:56.147Z"
   },
   {
    "duration": 15759,
    "start_time": "2024-12-13T20:12:58.014Z"
   },
   {
    "duration": 71951,
    "start_time": "2024-12-13T20:13:13.776Z"
   },
   {
    "duration": 6030,
    "start_time": "2024-12-13T20:14:25.729Z"
   },
   {
    "duration": 2,
    "start_time": "2024-12-13T20:14:31.761Z"
   },
   {
    "duration": 297248,
    "start_time": "2024-12-13T20:14:31.770Z"
   },
   {
    "duration": 27868,
    "start_time": "2024-12-13T20:19:29.020Z"
   },
   {
    "duration": 82395,
    "start_time": "2024-12-13T20:19:56.889Z"
   },
   {
    "duration": 4,
    "start_time": "2024-12-13T20:21:19.370Z"
   },
   {
    "duration": 20,
    "start_time": "2024-12-13T20:21:19.376Z"
   },
   {
    "duration": 13078,
    "start_time": "2024-12-13T20:21:19.398Z"
   },
   {
    "duration": 1599,
    "start_time": "2024-12-13T20:21:32.478Z"
   },
   {
    "duration": 5,
    "start_time": "2024-12-13T20:21:34.079Z"
   },
   {
    "duration": 5,
    "start_time": "2024-12-13T20:21:34.086Z"
   },
   {
    "duration": 4382,
    "start_time": "2024-12-13T20:21:34.094Z"
   },
   {
    "duration": 25,
    "start_time": "2024-12-13T20:21:38.478Z"
   },
   {
    "duration": 6,
    "start_time": "2024-12-13T20:21:38.505Z"
   },
   {
    "duration": 1562,
    "start_time": "2024-12-13T20:21:38.513Z"
   },
   {
    "duration": 24,
    "start_time": "2024-12-13T20:21:40.078Z"
   },
   {
    "duration": 6,
    "start_time": "2024-12-13T20:21:40.104Z"
   },
   {
    "duration": 3125,
    "start_time": "2024-12-13T20:46:01.628Z"
   },
   {
    "duration": 2452,
    "start_time": "2024-12-13T20:46:04.756Z"
   },
   {
    "duration": 2448,
    "start_time": "2024-12-13T20:46:07.210Z"
   },
   {
    "duration": 1438,
    "start_time": "2024-12-13T20:46:09.660Z"
   },
   {
    "duration": 3,
    "start_time": "2024-12-13T20:46:11.100Z"
   },
   {
    "duration": 11,
    "start_time": "2024-12-13T20:46:11.104Z"
   },
   {
    "duration": 11,
    "start_time": "2024-12-13T20:46:11.117Z"
   },
   {
    "duration": 11,
    "start_time": "2024-12-13T20:46:11.129Z"
   },
   {
    "duration": 1094,
    "start_time": "2024-12-13T20:46:11.141Z"
   },
   {
    "duration": 82,
    "start_time": "2024-12-13T20:46:12.238Z"
   },
   {
    "duration": 1869,
    "start_time": "2024-12-13T20:46:12.322Z"
   },
   {
    "duration": 282,
    "start_time": "2024-12-13T20:46:14.192Z"
   },
   {
    "duration": 457,
    "start_time": "2024-12-13T20:46:14.476Z"
   },
   {
    "duration": 45,
    "start_time": "2024-12-13T20:46:14.935Z"
   },
   {
    "duration": 8219,
    "start_time": "2024-12-13T20:46:14.982Z"
   },
   {
    "duration": 122,
    "start_time": "2024-12-13T20:46:23.202Z"
   },
   {
    "duration": 98,
    "start_time": "2024-12-13T20:46:23.325Z"
   },
   {
    "duration": 382,
    "start_time": "2024-12-13T20:46:23.425Z"
   },
   {
    "duration": 275,
    "start_time": "2024-12-13T20:46:23.808Z"
   },
   {
    "duration": 649,
    "start_time": "2024-12-13T20:46:24.085Z"
   },
   {
    "duration": 322,
    "start_time": "2024-12-13T20:46:24.735Z"
   },
   {
    "duration": 112,
    "start_time": "2024-12-13T20:46:25.059Z"
   },
   {
    "duration": 46,
    "start_time": "2024-12-13T20:46:25.173Z"
   },
   {
    "duration": 97,
    "start_time": "2024-12-13T20:46:25.221Z"
   },
   {
    "duration": 2006,
    "start_time": "2024-12-13T20:46:25.320Z"
   },
   {
    "duration": 4,
    "start_time": "2024-12-13T20:46:27.328Z"
   },
   {
    "duration": 40,
    "start_time": "2024-12-13T20:46:27.333Z"
   },
   {
    "duration": 7,
    "start_time": "2024-12-13T20:46:27.376Z"
   },
   {
    "duration": 23,
    "start_time": "2024-12-13T20:46:27.385Z"
   },
   {
    "duration": 433,
    "start_time": "2024-12-13T20:46:27.410Z"
   },
   {
    "duration": 43,
    "start_time": "2024-12-13T20:46:27.845Z"
   },
   {
    "duration": 995,
    "start_time": "2024-12-13T20:46:27.889Z"
   },
   {
    "duration": 547,
    "start_time": "2024-12-13T20:46:28.886Z"
   },
   {
    "duration": 123,
    "start_time": "2024-12-13T20:46:29.436Z"
   },
   {
    "duration": 9,
    "start_time": "2024-12-13T20:46:29.561Z"
   },
   {
    "duration": 5719,
    "start_time": "2024-12-13T20:46:29.572Z"
   },
   {
    "duration": 70,
    "start_time": "2024-12-13T20:46:35.293Z"
   },
   {
    "duration": 119,
    "start_time": "2024-12-13T20:46:35.365Z"
   },
   {
    "duration": 4504,
    "start_time": "2024-12-13T20:46:35.486Z"
   },
   {
    "duration": 17,
    "start_time": "2024-12-13T20:46:39.992Z"
   },
   {
    "duration": 96,
    "start_time": "2024-12-13T20:46:40.011Z"
   },
   {
    "duration": 3,
    "start_time": "2024-12-13T20:46:40.109Z"
   },
   {
    "duration": 10,
    "start_time": "2024-12-13T20:46:40.113Z"
   },
   {
    "duration": 1913,
    "start_time": "2024-12-13T20:46:40.125Z"
   },
   {
    "duration": 13631,
    "start_time": "2024-12-13T20:46:42.040Z"
   },
   {
    "duration": 73578,
    "start_time": "2024-12-13T20:46:55.673Z"
   },
   {
    "duration": 6148,
    "start_time": "2024-12-13T20:48:09.252Z"
   },
   {
    "duration": 2,
    "start_time": "2024-12-13T20:48:15.402Z"
   },
   {
    "duration": 300585,
    "start_time": "2024-12-13T20:48:15.406Z"
   },
   {
    "duration": 28050,
    "start_time": "2024-12-13T20:53:15.993Z"
   },
   {
    "duration": 80327,
    "start_time": "2024-12-13T20:53:44.045Z"
   },
   {
    "duration": 4,
    "start_time": "2024-12-13T20:55:04.374Z"
   },
   {
    "duration": 47,
    "start_time": "2024-12-13T20:55:04.380Z"
   },
   {
    "duration": 12547,
    "start_time": "2024-12-13T20:55:04.429Z"
   },
   {
    "duration": 1622,
    "start_time": "2024-12-13T20:55:16.977Z"
   },
   {
    "duration": 4,
    "start_time": "2024-12-13T20:55:18.670Z"
   },
   {
    "duration": 4,
    "start_time": "2024-12-13T20:55:18.676Z"
   },
   {
    "duration": 4310,
    "start_time": "2024-12-13T20:55:18.682Z"
   },
   {
    "duration": 25,
    "start_time": "2024-12-13T20:55:22.994Z"
   },
   {
    "duration": 6,
    "start_time": "2024-12-13T20:55:23.020Z"
   },
   {
    "duration": 1575,
    "start_time": "2024-12-13T20:55:23.027Z"
   },
   {
    "duration": 21,
    "start_time": "2024-12-13T20:55:24.672Z"
   },
   {
    "duration": 6,
    "start_time": "2024-12-13T20:55:24.695Z"
   },
   {
    "duration": 7230,
    "start_time": "2024-12-14T11:53:35.230Z"
   },
   {
    "duration": 2510,
    "start_time": "2024-12-14T11:53:42.463Z"
   },
   {
    "duration": 3123,
    "start_time": "2024-12-14T11:53:44.975Z"
   },
   {
    "duration": 1665,
    "start_time": "2024-12-14T11:53:48.101Z"
   },
   {
    "duration": 3,
    "start_time": "2024-12-14T11:53:49.767Z"
   },
   {
    "duration": 13,
    "start_time": "2024-12-14T11:53:49.771Z"
   },
   {
    "duration": 5,
    "start_time": "2024-12-14T11:53:49.785Z"
   },
   {
    "duration": 13,
    "start_time": "2024-12-14T11:53:49.792Z"
   },
   {
    "duration": 3053,
    "start_time": "2024-12-14T11:53:49.806Z"
   },
   {
    "duration": 70,
    "start_time": "2024-12-14T11:53:52.862Z"
   },
   {
    "duration": 1870,
    "start_time": "2024-12-14T11:53:52.934Z"
   },
   {
    "duration": 280,
    "start_time": "2024-12-14T11:53:54.806Z"
   },
   {
    "duration": 480,
    "start_time": "2024-12-14T11:53:55.088Z"
   },
   {
    "duration": 36,
    "start_time": "2024-12-14T11:53:55.569Z"
   },
   {
    "duration": 8447,
    "start_time": "2024-12-14T11:53:55.606Z"
   },
   {
    "duration": 128,
    "start_time": "2024-12-14T11:54:04.054Z"
   },
   {
    "duration": 106,
    "start_time": "2024-12-14T11:54:04.184Z"
   },
   {
    "duration": 426,
    "start_time": "2024-12-14T11:54:04.292Z"
   },
   {
    "duration": 285,
    "start_time": "2024-12-14T11:54:04.722Z"
   },
   {
    "duration": 662,
    "start_time": "2024-12-14T11:54:05.009Z"
   },
   {
    "duration": 330,
    "start_time": "2024-12-14T11:54:05.673Z"
   },
   {
    "duration": 114,
    "start_time": "2024-12-14T11:54:06.005Z"
   },
   {
    "duration": 54,
    "start_time": "2024-12-14T11:54:06.121Z"
   },
   {
    "duration": 102,
    "start_time": "2024-12-14T11:54:06.177Z"
   },
   {
    "duration": 2054,
    "start_time": "2024-12-14T11:54:06.280Z"
   },
   {
    "duration": 4,
    "start_time": "2024-12-14T11:54:08.336Z"
   },
   {
    "duration": 111,
    "start_time": "2024-12-14T11:54:08.342Z"
   },
   {
    "duration": 10,
    "start_time": "2024-12-14T11:54:08.457Z"
   },
   {
    "duration": 28,
    "start_time": "2024-12-14T11:54:08.469Z"
   },
   {
    "duration": 437,
    "start_time": "2024-12-14T11:54:08.499Z"
   },
   {
    "duration": 25,
    "start_time": "2024-12-14T11:54:08.937Z"
   },
   {
    "duration": 1272,
    "start_time": "2024-12-14T11:54:08.964Z"
   },
   {
    "duration": 546,
    "start_time": "2024-12-14T11:54:10.238Z"
   },
   {
    "duration": 126,
    "start_time": "2024-12-14T11:54:10.786Z"
   },
   {
    "duration": 3,
    "start_time": "2024-12-14T11:54:10.914Z"
   },
   {
    "duration": 5762,
    "start_time": "2024-12-14T11:54:10.929Z"
   },
   {
    "duration": 68,
    "start_time": "2024-12-14T11:54:16.692Z"
   },
   {
    "duration": 153,
    "start_time": "2024-12-14T11:54:16.761Z"
   },
   {
    "duration": 4517,
    "start_time": "2024-12-14T11:54:16.916Z"
   },
   {
    "duration": 17,
    "start_time": "2024-12-14T11:54:21.434Z"
   },
   {
    "duration": 104,
    "start_time": "2024-12-14T11:54:21.453Z"
   },
   {
    "duration": 3,
    "start_time": "2024-12-14T11:54:21.558Z"
   },
   {
    "duration": 48,
    "start_time": "2024-12-14T11:54:21.563Z"
   },
   {
    "duration": 1871,
    "start_time": "2024-12-14T11:54:21.612Z"
   },
   {
    "duration": 15248,
    "start_time": "2024-12-14T11:54:23.485Z"
   },
   {
    "duration": 74692,
    "start_time": "2024-12-14T11:54:38.738Z"
   },
   {
    "duration": 6224,
    "start_time": "2024-12-14T11:55:53.431Z"
   },
   {
    "duration": 3,
    "start_time": "2024-12-14T11:55:59.656Z"
   },
   {
    "duration": 292997,
    "start_time": "2024-12-14T11:55:59.660Z"
   },
   {
    "duration": 125,
    "start_time": "2024-12-14T12:00:52.659Z"
   },
   {
    "duration": 0,
    "start_time": "2024-12-14T12:00:52.786Z"
   },
   {
    "duration": 0,
    "start_time": "2024-12-14T12:00:52.787Z"
   },
   {
    "duration": 0,
    "start_time": "2024-12-14T12:00:52.788Z"
   },
   {
    "duration": 0,
    "start_time": "2024-12-14T12:00:52.789Z"
   },
   {
    "duration": 0,
    "start_time": "2024-12-14T12:00:52.790Z"
   },
   {
    "duration": 0,
    "start_time": "2024-12-14T12:00:52.791Z"
   },
   {
    "duration": 0,
    "start_time": "2024-12-14T12:00:52.793Z"
   },
   {
    "duration": 0,
    "start_time": "2024-12-14T12:00:52.794Z"
   },
   {
    "duration": 0,
    "start_time": "2024-12-14T12:00:52.795Z"
   },
   {
    "duration": 0,
    "start_time": "2024-12-14T12:00:52.796Z"
   },
   {
    "duration": 0,
    "start_time": "2024-12-14T12:00:52.798Z"
   },
   {
    "duration": 0,
    "start_time": "2024-12-14T12:00:52.799Z"
   },
   {
    "duration": 0,
    "start_time": "2024-12-14T12:00:52.800Z"
   },
   {
    "duration": 0,
    "start_time": "2024-12-14T12:00:52.801Z"
   },
   {
    "duration": 11,
    "start_time": "2024-12-14T12:11:10.682Z"
   },
   {
    "duration": 16,
    "start_time": "2024-12-14T12:50:32.156Z"
   },
   {
    "duration": 16,
    "start_time": "2024-12-14T12:50:52.405Z"
   },
   {
    "duration": 15,
    "start_time": "2024-12-14T12:51:08.268Z"
   },
   {
    "duration": 10,
    "start_time": "2024-12-14T12:51:21.012Z"
   },
   {
    "duration": 10,
    "start_time": "2024-12-14T12:51:24.779Z"
   },
   {
    "duration": 6,
    "start_time": "2024-12-14T12:51:28.037Z"
   },
   {
    "duration": 4,
    "start_time": "2024-12-14T12:51:32.363Z"
   },
   {
    "duration": 5,
    "start_time": "2024-12-14T12:51:51.531Z"
   },
   {
    "duration": 5,
    "start_time": "2024-12-14T12:51:57.758Z"
   },
   {
    "duration": 5,
    "start_time": "2024-12-14T12:51:57.920Z"
   },
   {
    "duration": 4,
    "start_time": "2024-12-14T12:52:16.709Z"
   },
   {
    "duration": 5,
    "start_time": "2024-12-14T13:00:20.600Z"
   },
   {
    "duration": 10,
    "start_time": "2024-12-14T13:00:57.017Z"
   },
   {
    "duration": 10,
    "start_time": "2024-12-14T13:01:05.856Z"
   },
   {
    "duration": 12,
    "start_time": "2024-12-14T13:01:18.952Z"
   },
   {
    "duration": 3927,
    "start_time": "2024-12-14T13:01:58.049Z"
   },
   {
    "duration": 60,
    "start_time": "2024-12-14T13:02:05.227Z"
   },
   {
    "duration": 611,
    "start_time": "2024-12-14T13:02:15.660Z"
   },
   {
    "duration": 3516,
    "start_time": "2024-12-14T13:02:30.619Z"
   },
   {
    "duration": 2799,
    "start_time": "2024-12-14T13:02:39.114Z"
   },
   {
    "duration": 8,
    "start_time": "2024-12-14T13:02:43.698Z"
   },
   {
    "duration": 5,
    "start_time": "2024-12-14T13:02:48.934Z"
   },
   {
    "duration": 5,
    "start_time": "2024-12-14T13:02:49.486Z"
   },
   {
    "duration": 19,
    "start_time": "2024-12-14T13:02:59.678Z"
   },
   {
    "duration": 62,
    "start_time": "2024-12-14T13:05:31.308Z"
   },
   {
    "duration": 6,
    "start_time": "2024-12-14T13:06:17.501Z"
   },
   {
    "duration": 11,
    "start_time": "2024-12-14T13:06:53.304Z"
   },
   {
    "duration": 11,
    "start_time": "2024-12-14T13:07:30.669Z"
   },
   {
    "duration": 12,
    "start_time": "2024-12-14T13:07:50.929Z"
   },
   {
    "duration": 15,
    "start_time": "2024-12-14T13:08:01.738Z"
   },
   {
    "duration": 11,
    "start_time": "2024-12-14T13:08:10.882Z"
   },
   {
    "duration": 13,
    "start_time": "2024-12-14T13:08:17.502Z"
   },
   {
    "duration": 24,
    "start_time": "2024-12-14T13:13:24.825Z"
   },
   {
    "duration": 23,
    "start_time": "2024-12-14T13:13:49.169Z"
   },
   {
    "duration": 42439,
    "start_time": "2024-12-14T13:14:08.226Z"
   },
   {
    "duration": 324103,
    "start_time": "2024-12-14T13:17:56.111Z"
   },
   {
    "duration": 30,
    "start_time": "2024-12-14T13:29:03.786Z"
   },
   {
    "duration": 638409,
    "start_time": "2024-12-14T13:29:42.610Z"
   },
   {
    "duration": 933,
    "start_time": "2024-12-14T13:46:23.498Z"
   },
   {
    "duration": 79917,
    "start_time": "2024-12-14T13:46:37.517Z"
   },
   {
    "duration": 5,
    "start_time": "2024-12-14T14:12:59.510Z"
   },
   {
    "duration": 4,
    "start_time": "2024-12-14T14:13:16.287Z"
   },
   {
    "duration": 10,
    "start_time": "2024-12-14T14:14:59.223Z"
   },
   {
    "duration": 39,
    "start_time": "2024-12-14T14:15:14.415Z"
   },
   {
    "duration": 5,
    "start_time": "2024-12-14T14:15:28.795Z"
   },
   {
    "duration": 3,
    "start_time": "2024-12-14T14:15:31.079Z"
   },
   {
    "duration": 960,
    "start_time": "2024-12-14T14:15:32.000Z"
   },
   {
    "duration": 4,
    "start_time": "2024-12-14T14:15:54.224Z"
   },
   {
    "duration": 3,
    "start_time": "2024-12-14T14:15:56.687Z"
   },
   {
    "duration": 52095,
    "start_time": "2024-12-14T14:15:57.993Z"
   },
   {
    "duration": 12,
    "start_time": "2024-12-14T14:17:52.833Z"
   },
   {
    "duration": 5,
    "start_time": "2024-12-14T14:29:03.495Z"
   },
   {
    "duration": 4,
    "start_time": "2024-12-14T14:29:29.654Z"
   },
   {
    "duration": 4,
    "start_time": "2024-12-14T14:29:30.678Z"
   },
   {
    "duration": 51815,
    "start_time": "2024-12-14T14:29:33.085Z"
   },
   {
    "duration": 4,
    "start_time": "2024-12-14T14:30:47.384Z"
   },
   {
    "duration": 93,
    "start_time": "2024-12-14T14:31:18.207Z"
   },
   {
    "duration": 84,
    "start_time": "2024-12-14T14:31:29.367Z"
   },
   {
    "duration": 88,
    "start_time": "2024-12-14T14:31:41.977Z"
   },
   {
    "duration": 5,
    "start_time": "2024-12-14T14:31:48.182Z"
   },
   {
    "duration": 4,
    "start_time": "2024-12-14T14:31:50.880Z"
   },
   {
    "duration": 1143,
    "start_time": "2024-12-14T14:31:52.194Z"
   },
   {
    "duration": 997,
    "start_time": "2024-12-14T14:32:06.801Z"
   },
   {
    "duration": 4,
    "start_time": "2024-12-14T14:33:02.211Z"
   },
   {
    "duration": 4,
    "start_time": "2024-12-14T14:33:03.309Z"
   },
   {
    "duration": 36884,
    "start_time": "2024-12-14T14:33:07.032Z"
   },
   {
    "duration": 4,
    "start_time": "2024-12-14T14:34:04.848Z"
   },
   {
    "duration": 4,
    "start_time": "2024-12-14T14:35:31.281Z"
   },
   {
    "duration": 3,
    "start_time": "2024-12-14T14:35:33.289Z"
   },
   {
    "duration": 938,
    "start_time": "2024-12-14T14:35:41.342Z"
   },
   {
    "duration": 4,
    "start_time": "2024-12-14T14:36:03.382Z"
   },
   {
    "duration": 4,
    "start_time": "2024-12-14T14:36:04.043Z"
   },
   {
    "duration": 75473,
    "start_time": "2024-12-14T14:36:05.019Z"
   },
   {
    "duration": 5,
    "start_time": "2024-12-14T14:44:07.439Z"
   },
   {
    "duration": 4,
    "start_time": "2024-12-14T14:44:08.297Z"
   },
   {
    "duration": 930178,
    "start_time": "2024-12-14T14:44:25.207Z"
   },
   {
    "duration": 6,
    "start_time": "2024-12-14T15:00:05.013Z"
   },
   {
    "duration": 4,
    "start_time": "2024-12-14T15:00:07.035Z"
   },
   {
    "duration": 116330,
    "start_time": "2024-12-14T15:00:10.718Z"
   },
   {
    "duration": 3287,
    "start_time": "2024-12-14T15:02:17.675Z"
   },
   {
    "duration": 2643,
    "start_time": "2024-12-14T15:02:20.965Z"
   },
   {
    "duration": 2690,
    "start_time": "2024-12-14T15:02:23.610Z"
   },
   {
    "duration": 2709,
    "start_time": "2024-12-14T15:02:26.302Z"
   },
   {
    "duration": 1516,
    "start_time": "2024-12-14T15:02:29.014Z"
   },
   {
    "duration": 3,
    "start_time": "2024-12-14T15:02:30.532Z"
   },
   {
    "duration": 37,
    "start_time": "2024-12-14T15:02:30.536Z"
   },
   {
    "duration": 5,
    "start_time": "2024-12-14T15:02:30.575Z"
   },
   {
    "duration": 12,
    "start_time": "2024-12-14T15:02:30.581Z"
   },
   {
    "duration": 1093,
    "start_time": "2024-12-14T15:02:30.595Z"
   },
   {
    "duration": 80,
    "start_time": "2024-12-14T15:02:31.690Z"
   },
   {
    "duration": 1884,
    "start_time": "2024-12-14T15:02:31.773Z"
   },
   {
    "duration": 289,
    "start_time": "2024-12-14T15:02:33.659Z"
   },
   {
    "duration": 491,
    "start_time": "2024-12-14T15:02:33.952Z"
   },
   {
    "duration": 37,
    "start_time": "2024-12-14T15:02:34.445Z"
   },
   {
    "duration": 8597,
    "start_time": "2024-12-14T15:02:34.483Z"
   },
   {
    "duration": 125,
    "start_time": "2024-12-14T15:02:43.081Z"
   },
   {
    "duration": 100,
    "start_time": "2024-12-14T15:02:43.208Z"
   },
   {
    "duration": 392,
    "start_time": "2024-12-14T15:02:43.310Z"
   },
   {
    "duration": 281,
    "start_time": "2024-12-14T15:02:43.704Z"
   },
   {
    "duration": 638,
    "start_time": "2024-12-14T15:02:43.986Z"
   },
   {
    "duration": 351,
    "start_time": "2024-12-14T15:02:44.625Z"
   },
   {
    "duration": 112,
    "start_time": "2024-12-14T15:02:44.978Z"
   },
   {
    "duration": 67,
    "start_time": "2024-12-14T15:02:45.092Z"
   },
   {
    "duration": 91,
    "start_time": "2024-12-14T15:02:45.161Z"
   },
   {
    "duration": 2059,
    "start_time": "2024-12-14T15:02:45.254Z"
   },
   {
    "duration": 15,
    "start_time": "2024-12-14T15:02:47.315Z"
   },
   {
    "duration": 43,
    "start_time": "2024-12-14T15:02:47.332Z"
   },
   {
    "duration": 20,
    "start_time": "2024-12-14T15:02:47.377Z"
   },
   {
    "duration": 25,
    "start_time": "2024-12-14T15:02:47.399Z"
   },
   {
    "duration": 433,
    "start_time": "2024-12-14T15:02:47.426Z"
   },
   {
    "duration": 30,
    "start_time": "2024-12-14T15:02:47.861Z"
   },
   {
    "duration": 1205,
    "start_time": "2024-12-14T15:02:47.893Z"
   },
   {
    "duration": 578,
    "start_time": "2024-12-14T15:02:49.100Z"
   },
   {
    "duration": 130,
    "start_time": "2024-12-14T15:02:49.680Z"
   },
   {
    "duration": 3,
    "start_time": "2024-12-14T15:02:49.812Z"
   },
   {
    "duration": 5897,
    "start_time": "2024-12-14T15:02:49.817Z"
   },
   {
    "duration": 71,
    "start_time": "2024-12-14T15:02:55.716Z"
   },
   {
    "duration": 120,
    "start_time": "2024-12-14T15:02:55.789Z"
   },
   {
    "duration": 4794,
    "start_time": "2024-12-14T15:02:55.911Z"
   },
   {
    "duration": 24,
    "start_time": "2024-12-14T15:03:00.710Z"
   },
   {
    "duration": 105,
    "start_time": "2024-12-14T15:03:00.736Z"
   },
   {
    "duration": 3,
    "start_time": "2024-12-14T15:03:00.843Z"
   },
   {
    "duration": 24,
    "start_time": "2024-12-14T15:03:00.848Z"
   },
   {
    "duration": 1890,
    "start_time": "2024-12-14T15:03:00.874Z"
   },
   {
    "duration": 15463,
    "start_time": "2024-12-14T15:03:02.766Z"
   },
   {
    "duration": 75007,
    "start_time": "2024-12-14T15:03:18.231Z"
   },
   {
    "duration": 6252,
    "start_time": "2024-12-14T15:04:33.241Z"
   },
   {
    "duration": 3,
    "start_time": "2024-12-14T15:04:39.494Z"
   },
   {
    "duration": 294951,
    "start_time": "2024-12-14T15:04:39.499Z"
   },
   {
    "duration": 2760,
    "start_time": "2024-12-14T15:09:34.451Z"
   },
   {
    "duration": 6,
    "start_time": "2024-12-14T15:09:37.214Z"
   },
   {
    "duration": 12,
    "start_time": "2024-12-14T15:09:37.221Z"
   },
   {
    "duration": 19,
    "start_time": "2024-12-14T15:09:37.235Z"
   },
   {
    "duration": 21,
    "start_time": "2024-12-14T15:09:37.255Z"
   },
   {
    "duration": 2316252,
    "start_time": "2024-12-14T15:09:37.278Z"
   },
   {
    "duration": 4,
    "start_time": "2024-12-14T15:48:13.532Z"
   },
   {
    "duration": 144,
    "start_time": "2024-12-14T15:48:13.539Z"
   },
   {
    "duration": 0,
    "start_time": "2024-12-14T15:48:13.685Z"
   },
   {
    "duration": 0,
    "start_time": "2024-12-14T15:48:13.686Z"
   },
   {
    "duration": 0,
    "start_time": "2024-12-14T15:48:13.687Z"
   },
   {
    "duration": 0,
    "start_time": "2024-12-14T15:48:13.688Z"
   },
   {
    "duration": 0,
    "start_time": "2024-12-14T15:48:13.689Z"
   },
   {
    "duration": 0,
    "start_time": "2024-12-14T15:48:13.691Z"
   },
   {
    "duration": 0,
    "start_time": "2024-12-14T15:48:13.692Z"
   },
   {
    "duration": 0,
    "start_time": "2024-12-14T15:48:13.693Z"
   },
   {
    "duration": 0,
    "start_time": "2024-12-14T15:48:13.694Z"
   },
   {
    "duration": 0,
    "start_time": "2024-12-14T15:48:13.696Z"
   },
   {
    "duration": 0,
    "start_time": "2024-12-14T15:48:13.697Z"
   },
   {
    "duration": 0,
    "start_time": "2024-12-14T15:48:13.698Z"
   },
   {
    "duration": 0,
    "start_time": "2024-12-14T15:48:13.699Z"
   },
   {
    "duration": 0,
    "start_time": "2024-12-14T15:48:13.730Z"
   },
   {
    "duration": 3416,
    "start_time": "2024-12-14T17:34:31.730Z"
   },
   {
    "duration": 2673,
    "start_time": "2024-12-14T17:34:35.149Z"
   },
   {
    "duration": 2645,
    "start_time": "2024-12-14T17:34:37.825Z"
   },
   {
    "duration": 2703,
    "start_time": "2024-12-14T17:34:40.473Z"
   },
   {
    "duration": 1440,
    "start_time": "2024-12-14T17:34:43.178Z"
   },
   {
    "duration": 2,
    "start_time": "2024-12-14T17:34:44.620Z"
   },
   {
    "duration": 20,
    "start_time": "2024-12-14T17:34:44.624Z"
   },
   {
    "duration": 15,
    "start_time": "2024-12-14T17:34:44.646Z"
   },
   {
    "duration": 24,
    "start_time": "2024-12-14T17:34:44.662Z"
   },
   {
    "duration": 1159,
    "start_time": "2024-12-14T17:34:44.691Z"
   },
   {
    "duration": 84,
    "start_time": "2024-12-14T17:34:45.851Z"
   },
   {
    "duration": 1947,
    "start_time": "2024-12-14T17:34:45.936Z"
   },
   {
    "duration": 300,
    "start_time": "2024-12-14T17:34:47.885Z"
   },
   {
    "duration": 512,
    "start_time": "2024-12-14T17:34:48.187Z"
   },
   {
    "duration": 50,
    "start_time": "2024-12-14T17:34:48.701Z"
   },
   {
    "duration": 8564,
    "start_time": "2024-12-14T17:34:48.753Z"
   },
   {
    "duration": 125,
    "start_time": "2024-12-14T17:34:57.318Z"
   },
   {
    "duration": 100,
    "start_time": "2024-12-14T17:34:57.444Z"
   },
   {
    "duration": 389,
    "start_time": "2024-12-14T17:34:57.545Z"
   },
   {
    "duration": 284,
    "start_time": "2024-12-14T17:34:57.935Z"
   },
   {
    "duration": 675,
    "start_time": "2024-12-14T17:34:58.230Z"
   },
   {
    "duration": 333,
    "start_time": "2024-12-14T17:34:58.906Z"
   },
   {
    "duration": 113,
    "start_time": "2024-12-14T17:34:59.240Z"
   },
   {
    "duration": 46,
    "start_time": "2024-12-14T17:34:59.354Z"
   },
   {
    "duration": 90,
    "start_time": "2024-12-14T17:34:59.402Z"
   },
   {
    "duration": 2090,
    "start_time": "2024-12-14T17:34:59.494Z"
   },
   {
    "duration": 4,
    "start_time": "2024-12-14T17:35:01.586Z"
   },
   {
    "duration": 56,
    "start_time": "2024-12-14T17:35:01.594Z"
   },
   {
    "duration": 6,
    "start_time": "2024-12-14T17:35:01.652Z"
   },
   {
    "duration": 38,
    "start_time": "2024-12-14T17:35:01.659Z"
   },
   {
    "duration": 468,
    "start_time": "2024-12-14T17:35:01.699Z"
   },
   {
    "duration": 32,
    "start_time": "2024-12-14T17:35:02.169Z"
   },
   {
    "duration": 1174,
    "start_time": "2024-12-14T17:35:02.203Z"
   },
   {
    "duration": 561,
    "start_time": "2024-12-14T17:35:03.379Z"
   },
   {
    "duration": 126,
    "start_time": "2024-12-14T17:35:03.941Z"
   },
   {
    "duration": 2,
    "start_time": "2024-12-14T17:35:04.069Z"
   },
   {
    "duration": 5734,
    "start_time": "2024-12-14T17:35:04.073Z"
   },
   {
    "duration": 70,
    "start_time": "2024-12-14T17:35:09.808Z"
   },
   {
    "duration": 117,
    "start_time": "2024-12-14T17:35:09.879Z"
   },
   {
    "duration": 4737,
    "start_time": "2024-12-14T17:35:09.998Z"
   },
   {
    "duration": 18,
    "start_time": "2024-12-14T17:35:14.738Z"
   },
   {
    "duration": 100,
    "start_time": "2024-12-14T17:35:14.758Z"
   },
   {
    "duration": 3,
    "start_time": "2024-12-14T17:35:14.860Z"
   },
   {
    "duration": 6,
    "start_time": "2024-12-14T17:35:14.864Z"
   },
   {
    "duration": 1863,
    "start_time": "2024-12-14T17:35:14.872Z"
   },
   {
    "duration": 15695,
    "start_time": "2024-12-14T17:35:16.736Z"
   },
   {
    "duration": 73880,
    "start_time": "2024-12-14T17:35:32.434Z"
   },
   {
    "duration": 6181,
    "start_time": "2024-12-14T17:36:46.316Z"
   },
   {
    "duration": 3,
    "start_time": "2024-12-14T17:36:52.499Z"
   },
   {
    "duration": 292732,
    "start_time": "2024-12-14T17:36:52.503Z"
   },
   {
    "duration": 2801,
    "start_time": "2024-12-14T17:41:45.237Z"
   },
   {
    "duration": 8,
    "start_time": "2024-12-14T17:41:48.040Z"
   },
   {
    "duration": 8,
    "start_time": "2024-12-14T17:41:48.050Z"
   },
   {
    "duration": 6,
    "start_time": "2024-12-14T17:41:48.060Z"
   },
   {
    "duration": 138,
    "start_time": "2024-12-14T17:41:48.067Z"
   },
   {
    "duration": 0,
    "start_time": "2024-12-14T17:41:48.207Z"
   },
   {
    "duration": 0,
    "start_time": "2024-12-14T17:41:48.208Z"
   },
   {
    "duration": 0,
    "start_time": "2024-12-14T17:41:48.209Z"
   },
   {
    "duration": 0,
    "start_time": "2024-12-14T17:41:48.210Z"
   },
   {
    "duration": 0,
    "start_time": "2024-12-14T17:41:48.212Z"
   },
   {
    "duration": 0,
    "start_time": "2024-12-14T17:41:48.213Z"
   },
   {
    "duration": 0,
    "start_time": "2024-12-14T17:41:48.230Z"
   },
   {
    "duration": 0,
    "start_time": "2024-12-14T17:41:48.231Z"
   },
   {
    "duration": 0,
    "start_time": "2024-12-14T17:41:48.232Z"
   },
   {
    "duration": 0,
    "start_time": "2024-12-14T17:41:48.233Z"
   },
   {
    "duration": 0,
    "start_time": "2024-12-14T17:41:48.235Z"
   },
   {
    "duration": 0,
    "start_time": "2024-12-14T17:41:48.236Z"
   },
   {
    "duration": 0,
    "start_time": "2024-12-14T17:41:48.237Z"
   },
   {
    "duration": 0,
    "start_time": "2024-12-14T17:41:48.238Z"
   },
   {
    "duration": 0,
    "start_time": "2024-12-14T17:41:48.239Z"
   },
   {
    "duration": 0,
    "start_time": "2024-12-14T17:41:48.240Z"
   },
   {
    "duration": 0,
    "start_time": "2024-12-14T17:41:48.242Z"
   },
   {
    "duration": 0,
    "start_time": "2024-12-14T17:41:48.243Z"
   },
   {
    "duration": 4,
    "start_time": "2024-12-14T17:42:10.822Z"
   },
   {
    "duration": 200130,
    "start_time": "2024-12-14T17:42:19.896Z"
   },
   {
    "duration": 37101,
    "start_time": "2024-12-14T17:46:21.204Z"
   },
   {
    "duration": 5,
    "start_time": "2024-12-14T17:46:58.771Z"
   },
   {
    "duration": 4,
    "start_time": "2024-12-14T17:47:00.764Z"
   },
   {
    "duration": 345952,
    "start_time": "2024-12-14T17:47:02.385Z"
   },
   {
    "duration": 5,
    "start_time": "2024-12-14T17:53:13.759Z"
   },
   {
    "duration": 4,
    "start_time": "2024-12-14T17:53:15.550Z"
   },
   {
    "duration": 174795,
    "start_time": "2024-12-14T17:53:18.975Z"
   },
   {
    "duration": 33842,
    "start_time": "2024-12-14T17:56:14.576Z"
   },
   {
    "duration": 3295,
    "start_time": "2024-12-14T17:57:16.411Z"
   },
   {
    "duration": 2606,
    "start_time": "2024-12-14T17:57:19.709Z"
   },
   {
    "duration": 2646,
    "start_time": "2024-12-14T17:57:22.317Z"
   },
   {
    "duration": 2659,
    "start_time": "2024-12-14T17:57:24.966Z"
   },
   {
    "duration": 1470,
    "start_time": "2024-12-14T17:57:27.627Z"
   },
   {
    "duration": 3,
    "start_time": "2024-12-14T17:57:29.099Z"
   },
   {
    "duration": 16,
    "start_time": "2024-12-14T17:57:29.104Z"
   },
   {
    "duration": 16,
    "start_time": "2024-12-14T17:57:29.122Z"
   },
   {
    "duration": 18,
    "start_time": "2024-12-14T17:57:29.140Z"
   },
   {
    "duration": 1118,
    "start_time": "2024-12-14T17:57:29.162Z"
   },
   {
    "duration": 89,
    "start_time": "2024-12-14T17:57:30.283Z"
   },
   {
    "duration": 1970,
    "start_time": "2024-12-14T17:57:30.375Z"
   },
   {
    "duration": 287,
    "start_time": "2024-12-14T17:57:32.347Z"
   },
   {
    "duration": 479,
    "start_time": "2024-12-14T17:57:32.635Z"
   },
   {
    "duration": 45,
    "start_time": "2024-12-14T17:57:33.116Z"
   },
   {
    "duration": 8589,
    "start_time": "2024-12-14T17:57:33.163Z"
   },
   {
    "duration": 134,
    "start_time": "2024-12-14T17:57:41.754Z"
   },
   {
    "duration": 106,
    "start_time": "2024-12-14T17:57:41.890Z"
   },
   {
    "duration": 401,
    "start_time": "2024-12-14T17:57:41.998Z"
   },
   {
    "duration": 299,
    "start_time": "2024-12-14T17:57:42.401Z"
   },
   {
    "duration": 647,
    "start_time": "2024-12-14T17:57:42.702Z"
   },
   {
    "duration": 336,
    "start_time": "2024-12-14T17:57:43.351Z"
   },
   {
    "duration": 113,
    "start_time": "2024-12-14T17:57:43.689Z"
   },
   {
    "duration": 55,
    "start_time": "2024-12-14T17:57:43.804Z"
   },
   {
    "duration": 88,
    "start_time": "2024-12-14T17:57:43.860Z"
   },
   {
    "duration": 2100,
    "start_time": "2024-12-14T17:57:43.950Z"
   },
   {
    "duration": 5,
    "start_time": "2024-12-14T17:57:46.052Z"
   },
   {
    "duration": 27,
    "start_time": "2024-12-14T17:57:46.061Z"
   },
   {
    "duration": 6,
    "start_time": "2024-12-14T17:57:46.090Z"
   },
   {
    "duration": 49,
    "start_time": "2024-12-14T17:57:46.098Z"
   },
   {
    "duration": 459,
    "start_time": "2024-12-14T17:57:46.148Z"
   },
   {
    "duration": 44,
    "start_time": "2024-12-14T17:57:46.608Z"
   },
   {
    "duration": 1165,
    "start_time": "2024-12-14T17:57:46.654Z"
   },
   {
    "duration": 584,
    "start_time": "2024-12-14T17:57:47.821Z"
   },
   {
    "duration": 129,
    "start_time": "2024-12-14T17:57:48.407Z"
   },
   {
    "duration": 3,
    "start_time": "2024-12-14T17:57:48.537Z"
   },
   {
    "duration": 5649,
    "start_time": "2024-12-14T17:57:48.542Z"
   },
   {
    "duration": 79,
    "start_time": "2024-12-14T17:57:54.192Z"
   },
   {
    "duration": 123,
    "start_time": "2024-12-14T17:57:54.273Z"
   },
   {
    "duration": 4671,
    "start_time": "2024-12-14T17:57:54.398Z"
   },
   {
    "duration": 20,
    "start_time": "2024-12-14T17:57:59.071Z"
   },
   {
    "duration": 109,
    "start_time": "2024-12-14T17:57:59.092Z"
   },
   {
    "duration": 3,
    "start_time": "2024-12-14T17:57:59.202Z"
   },
   {
    "duration": 10,
    "start_time": "2024-12-14T17:57:59.207Z"
   },
   {
    "duration": 2194,
    "start_time": "2024-12-14T17:57:59.219Z"
   },
   {
    "duration": 15117,
    "start_time": "2024-12-14T17:58:01.415Z"
   },
   {
    "duration": 73730,
    "start_time": "2024-12-14T17:58:16.536Z"
   },
   {
    "duration": 6205,
    "start_time": "2024-12-14T17:59:30.268Z"
   },
   {
    "duration": 3,
    "start_time": "2024-12-14T17:59:36.474Z"
   },
   {
    "duration": 23,
    "start_time": "2024-12-14T17:59:36.478Z"
   },
   {
    "duration": 2738,
    "start_time": "2024-12-14T17:59:36.502Z"
   },
   {
    "duration": 6,
    "start_time": "2024-12-14T17:59:39.242Z"
   },
   {
    "duration": 6,
    "start_time": "2024-12-14T17:59:39.250Z"
   },
   {
    "duration": 5,
    "start_time": "2024-12-14T17:59:39.257Z"
   },
   {
    "duration": 232374,
    "start_time": "2024-12-14T17:59:39.263Z"
   },
   {
    "duration": 4,
    "start_time": "2024-12-14T18:03:31.639Z"
   },
   {
    "duration": 148,
    "start_time": "2024-12-14T18:03:31.644Z"
   },
   {
    "duration": 0,
    "start_time": "2024-12-14T18:03:31.794Z"
   },
   {
    "duration": 0,
    "start_time": "2024-12-14T18:03:31.795Z"
   },
   {
    "duration": 0,
    "start_time": "2024-12-14T18:03:31.797Z"
   },
   {
    "duration": 0,
    "start_time": "2024-12-14T18:03:31.798Z"
   },
   {
    "duration": 0,
    "start_time": "2024-12-14T18:03:31.799Z"
   },
   {
    "duration": 0,
    "start_time": "2024-12-14T18:03:31.800Z"
   },
   {
    "duration": 0,
    "start_time": "2024-12-14T18:03:31.801Z"
   },
   {
    "duration": 0,
    "start_time": "2024-12-14T18:03:31.803Z"
   },
   {
    "duration": 0,
    "start_time": "2024-12-14T18:03:31.804Z"
   },
   {
    "duration": 0,
    "start_time": "2024-12-14T18:03:31.805Z"
   },
   {
    "duration": 0,
    "start_time": "2024-12-14T18:03:31.830Z"
   },
   {
    "duration": 0,
    "start_time": "2024-12-14T18:03:31.832Z"
   },
   {
    "duration": 0,
    "start_time": "2024-12-14T18:03:31.833Z"
   },
   {
    "duration": 0,
    "start_time": "2024-12-14T18:03:31.835Z"
   },
   {
    "duration": 46863,
    "start_time": "2024-12-14T18:05:28.116Z"
   },
   {
    "duration": 4,
    "start_time": "2024-12-14T18:11:49.260Z"
   },
   {
    "duration": 44,
    "start_time": "2024-12-14T18:11:58.973Z"
   },
   {
    "duration": 5,
    "start_time": "2024-12-14T18:12:14.967Z"
   },
   {
    "duration": 64298,
    "start_time": "2024-12-14T18:12:15.840Z"
   },
   {
    "duration": 0,
    "start_time": "2024-12-14T18:13:20.139Z"
   },
   {
    "duration": 66679,
    "start_time": "2024-12-14T18:13:21.466Z"
   },
   {
    "duration": 79,
    "start_time": "2024-12-14T18:14:40.158Z"
   },
   {
    "duration": 6,
    "start_time": "2024-12-14T18:14:48.151Z"
   },
   {
    "duration": 54050,
    "start_time": "2024-12-14T18:14:50.096Z"
   },
   {
    "duration": 5,
    "start_time": "2024-12-14T18:16:00.986Z"
   },
   {
    "duration": 145317,
    "start_time": "2024-12-14T18:16:05.324Z"
   },
   {
    "duration": 5,
    "start_time": "2024-12-14T21:08:57.743Z"
   },
   {
    "duration": 12567,
    "start_time": "2024-12-14T21:10:12.774Z"
   },
   {
    "duration": 1421,
    "start_time": "2024-12-14T21:26:43.226Z"
   },
   {
    "duration": 4,
    "start_time": "2024-12-14T21:26:51.797Z"
   },
   {
    "duration": 4,
    "start_time": "2024-12-14T21:27:21.684Z"
   },
   {
    "duration": 4,
    "start_time": "2024-12-14T21:27:32.399Z"
   },
   {
    "duration": 3293,
    "start_time": "2024-12-14T21:28:02.430Z"
   },
   {
    "duration": 2621,
    "start_time": "2024-12-14T21:28:05.725Z"
   },
   {
    "duration": 2690,
    "start_time": "2024-12-14T21:28:08.348Z"
   },
   {
    "duration": 2672,
    "start_time": "2024-12-14T21:28:11.041Z"
   },
   {
    "duration": 1518,
    "start_time": "2024-12-14T21:28:13.715Z"
   },
   {
    "duration": 3,
    "start_time": "2024-12-14T21:28:15.235Z"
   },
   {
    "duration": 20,
    "start_time": "2024-12-14T21:28:15.240Z"
   },
   {
    "duration": 24,
    "start_time": "2024-12-14T21:28:15.262Z"
   },
   {
    "duration": 31,
    "start_time": "2024-12-14T21:28:15.288Z"
   },
   {
    "duration": 1143,
    "start_time": "2024-12-14T21:28:15.322Z"
   },
   {
    "duration": 87,
    "start_time": "2024-12-14T21:28:16.467Z"
   },
   {
    "duration": 1971,
    "start_time": "2024-12-14T21:28:16.556Z"
   },
   {
    "duration": 286,
    "start_time": "2024-12-14T21:28:18.530Z"
   },
   {
    "duration": 487,
    "start_time": "2024-12-14T21:28:18.819Z"
   },
   {
    "duration": 46,
    "start_time": "2024-12-14T21:28:19.308Z"
   },
   {
    "duration": 8616,
    "start_time": "2024-12-14T21:28:19.356Z"
   },
   {
    "duration": 134,
    "start_time": "2024-12-14T21:28:27.974Z"
   },
   {
    "duration": 101,
    "start_time": "2024-12-14T21:28:28.110Z"
   },
   {
    "duration": 429,
    "start_time": "2024-12-14T21:28:28.213Z"
   },
   {
    "duration": 290,
    "start_time": "2024-12-14T21:28:28.644Z"
   },
   {
    "duration": 652,
    "start_time": "2024-12-14T21:28:28.937Z"
   },
   {
    "duration": 326,
    "start_time": "2024-12-14T21:28:29.591Z"
   },
   {
    "duration": 118,
    "start_time": "2024-12-14T21:28:29.919Z"
   },
   {
    "duration": 49,
    "start_time": "2024-12-14T21:28:30.039Z"
   },
   {
    "duration": 104,
    "start_time": "2024-12-14T21:28:30.090Z"
   },
   {
    "duration": 2055,
    "start_time": "2024-12-14T21:28:30.196Z"
   },
   {
    "duration": 4,
    "start_time": "2024-12-14T21:28:32.253Z"
   },
   {
    "duration": 48,
    "start_time": "2024-12-14T21:28:32.261Z"
   },
   {
    "duration": 6,
    "start_time": "2024-12-14T21:28:32.311Z"
   },
   {
    "duration": 32,
    "start_time": "2024-12-14T21:28:32.319Z"
   },
   {
    "duration": 440,
    "start_time": "2024-12-14T21:28:32.353Z"
   },
   {
    "duration": 39,
    "start_time": "2024-12-14T21:28:32.795Z"
   },
   {
    "duration": 1133,
    "start_time": "2024-12-14T21:28:32.836Z"
   },
   {
    "duration": 571,
    "start_time": "2024-12-14T21:28:33.971Z"
   },
   {
    "duration": 123,
    "start_time": "2024-12-14T21:28:34.544Z"
   },
   {
    "duration": 3,
    "start_time": "2024-12-14T21:28:34.668Z"
   },
   {
    "duration": 5763,
    "start_time": "2024-12-14T21:28:34.672Z"
   },
   {
    "duration": 67,
    "start_time": "2024-12-14T21:28:40.436Z"
   },
   {
    "duration": 127,
    "start_time": "2024-12-14T21:28:40.505Z"
   },
   {
    "duration": 4743,
    "start_time": "2024-12-14T21:28:40.634Z"
   },
   {
    "duration": 17,
    "start_time": "2024-12-14T21:28:45.378Z"
   },
   {
    "duration": 99,
    "start_time": "2024-12-14T21:28:45.397Z"
   },
   {
    "duration": 3,
    "start_time": "2024-12-14T21:28:45.498Z"
   },
   {
    "duration": 8,
    "start_time": "2024-12-14T21:28:45.503Z"
   },
   {
    "duration": 1885,
    "start_time": "2024-12-14T21:28:45.512Z"
   },
   {
    "duration": 15132,
    "start_time": "2024-12-14T21:28:47.399Z"
   },
   {
    "duration": 74355,
    "start_time": "2024-12-14T21:29:02.533Z"
   },
   {
    "duration": 6186,
    "start_time": "2024-12-14T21:30:16.889Z"
   },
   {
    "duration": 3,
    "start_time": "2024-12-14T21:30:23.077Z"
   },
   {
    "duration": 12,
    "start_time": "2024-12-14T21:30:23.081Z"
   },
   {
    "duration": 5,
    "start_time": "2024-12-14T21:30:23.094Z"
   },
   {
    "duration": 12,
    "start_time": "2024-12-14T21:30:23.100Z"
   },
   {
    "duration": 533907,
    "start_time": "2024-12-14T21:30:23.114Z"
   },
   {
    "duration": 45923,
    "start_time": "2024-12-14T21:39:17.030Z"
   },
   {
    "duration": 4,
    "start_time": "2024-12-14T21:40:02.955Z"
   },
   {
    "duration": 156575,
    "start_time": "2024-12-14T21:40:02.961Z"
   },
   {
    "duration": 4,
    "start_time": "2024-12-14T21:42:39.538Z"
   },
   {
    "duration": 12596,
    "start_time": "2024-12-14T21:42:39.544Z"
   },
   {
    "duration": 1598,
    "start_time": "2024-12-14T21:42:52.142Z"
   },
   {
    "duration": 4,
    "start_time": "2024-12-14T21:42:53.741Z"
   },
   {
    "duration": 165,
    "start_time": "2024-12-14T21:42:53.746Z"
   },
   {
    "duration": 0,
    "start_time": "2024-12-14T21:42:53.912Z"
   },
   {
    "duration": 0,
    "start_time": "2024-12-14T21:42:53.914Z"
   },
   {
    "duration": 0,
    "start_time": "2024-12-14T21:42:53.915Z"
   },
   {
    "duration": 0,
    "start_time": "2024-12-14T21:42:53.916Z"
   },
   {
    "duration": 0,
    "start_time": "2024-12-14T21:42:53.930Z"
   },
   {
    "duration": 0,
    "start_time": "2024-12-14T21:42:53.930Z"
   },
   {
    "duration": 0,
    "start_time": "2024-12-14T21:42:53.932Z"
   },
   {
    "duration": 0,
    "start_time": "2024-12-14T21:42:53.933Z"
   },
   {
    "duration": 0,
    "start_time": "2024-12-14T21:42:53.934Z"
   },
   {
    "duration": 0,
    "start_time": "2024-12-14T21:42:53.935Z"
   },
   {
    "duration": 0,
    "start_time": "2024-12-14T21:42:53.937Z"
   },
   {
    "duration": 0,
    "start_time": "2024-12-14T21:42:53.938Z"
   },
   {
    "duration": 0,
    "start_time": "2024-12-14T21:42:53.939Z"
   },
   {
    "duration": 4,
    "start_time": "2024-12-14T21:45:11.191Z"
   },
   {
    "duration": 152160,
    "start_time": "2024-12-14T21:45:24.884Z"
   },
   {
    "duration": 111360,
    "start_time": "2024-12-14T21:51:06.978Z"
   },
   {
    "duration": 3254,
    "start_time": "2024-12-14T21:53:17.232Z"
   },
   {
    "duration": 2623,
    "start_time": "2024-12-14T21:53:20.488Z"
   },
   {
    "duration": 2652,
    "start_time": "2024-12-14T21:53:23.114Z"
   },
   {
    "duration": 2630,
    "start_time": "2024-12-14T21:53:25.769Z"
   },
   {
    "duration": 1493,
    "start_time": "2024-12-14T21:53:28.401Z"
   },
   {
    "duration": 2,
    "start_time": "2024-12-14T21:53:29.896Z"
   },
   {
    "duration": 5,
    "start_time": "2024-12-14T21:53:29.900Z"
   },
   {
    "duration": 7,
    "start_time": "2024-12-14T21:53:29.907Z"
   },
   {
    "duration": 10,
    "start_time": "2024-12-14T21:53:29.916Z"
   },
   {
    "duration": 1110,
    "start_time": "2024-12-14T21:53:29.928Z"
   },
   {
    "duration": 76,
    "start_time": "2024-12-14T21:53:31.040Z"
   },
   {
    "duration": 1880,
    "start_time": "2024-12-14T21:53:31.129Z"
   },
   {
    "duration": 277,
    "start_time": "2024-12-14T21:53:33.011Z"
   },
   {
    "duration": 479,
    "start_time": "2024-12-14T21:53:33.289Z"
   },
   {
    "duration": 38,
    "start_time": "2024-12-14T21:53:33.769Z"
   },
   {
    "duration": 8437,
    "start_time": "2024-12-14T21:53:33.808Z"
   },
   {
    "duration": 124,
    "start_time": "2024-12-14T21:53:42.247Z"
   },
   {
    "duration": 101,
    "start_time": "2024-12-14T21:53:42.373Z"
   },
   {
    "duration": 384,
    "start_time": "2024-12-14T21:53:42.476Z"
   },
   {
    "duration": 272,
    "start_time": "2024-12-14T21:53:42.861Z"
   },
   {
    "duration": 618,
    "start_time": "2024-12-14T21:53:43.134Z"
   },
   {
    "duration": 331,
    "start_time": "2024-12-14T21:53:43.754Z"
   },
   {
    "duration": 111,
    "start_time": "2024-12-14T21:53:44.087Z"
   },
   {
    "duration": 58,
    "start_time": "2024-12-14T21:53:44.199Z"
   },
   {
    "duration": 87,
    "start_time": "2024-12-14T21:53:44.258Z"
   },
   {
    "duration": 2053,
    "start_time": "2024-12-14T21:53:44.347Z"
   },
   {
    "duration": 4,
    "start_time": "2024-12-14T21:53:46.402Z"
   },
   {
    "duration": 36,
    "start_time": "2024-12-14T21:53:46.411Z"
   },
   {
    "duration": 6,
    "start_time": "2024-12-14T21:53:46.449Z"
   },
   {
    "duration": 26,
    "start_time": "2024-12-14T21:53:46.456Z"
   },
   {
    "duration": 439,
    "start_time": "2024-12-14T21:53:46.484Z"
   },
   {
    "duration": 26,
    "start_time": "2024-12-14T21:53:46.931Z"
   },
   {
    "duration": 1138,
    "start_time": "2024-12-14T21:53:46.959Z"
   },
   {
    "duration": 579,
    "start_time": "2024-12-14T21:53:48.099Z"
   },
   {
    "duration": 127,
    "start_time": "2024-12-14T21:53:48.679Z"
   },
   {
    "duration": 3,
    "start_time": "2024-12-14T21:53:48.808Z"
   },
   {
    "duration": 5642,
    "start_time": "2024-12-14T21:53:48.812Z"
   },
   {
    "duration": 68,
    "start_time": "2024-12-14T21:53:54.456Z"
   },
   {
    "duration": 126,
    "start_time": "2024-12-14T21:53:54.525Z"
   },
   {
    "duration": 4684,
    "start_time": "2024-12-14T21:53:54.652Z"
   },
   {
    "duration": 17,
    "start_time": "2024-12-14T21:53:59.337Z"
   },
   {
    "duration": 97,
    "start_time": "2024-12-14T21:53:59.356Z"
   },
   {
    "duration": 3,
    "start_time": "2024-12-14T21:53:59.454Z"
   },
   {
    "duration": 8,
    "start_time": "2024-12-14T21:53:59.459Z"
   },
   {
    "duration": 2225,
    "start_time": "2024-12-14T21:53:59.469Z"
   },
   {
    "duration": 14936,
    "start_time": "2024-12-14T21:54:01.696Z"
   },
   {
    "duration": 73435,
    "start_time": "2024-12-14T21:54:16.635Z"
   },
   {
    "duration": 6087,
    "start_time": "2024-12-14T21:55:30.072Z"
   },
   {
    "duration": 2,
    "start_time": "2024-12-14T21:55:36.161Z"
   },
   {
    "duration": 15,
    "start_time": "2024-12-14T21:55:36.164Z"
   },
   {
    "duration": 5,
    "start_time": "2024-12-14T21:55:36.180Z"
   },
   {
    "duration": 4,
    "start_time": "2024-12-14T21:55:36.187Z"
   },
   {
    "duration": 967669,
    "start_time": "2024-12-14T21:55:36.193Z"
   },
   {
    "duration": 47162,
    "start_time": "2024-12-14T22:11:43.863Z"
   },
   {
    "duration": 4,
    "start_time": "2024-12-14T22:12:31.027Z"
   },
   {
    "duration": 154607,
    "start_time": "2024-12-14T22:12:31.033Z"
   },
   {
    "duration": 5,
    "start_time": "2024-12-14T22:15:05.641Z"
   },
   {
    "duration": 12689,
    "start_time": "2024-12-14T22:15:05.647Z"
   },
   {
    "duration": 1602,
    "start_time": "2024-12-14T22:15:18.338Z"
   },
   {
    "duration": 5,
    "start_time": "2024-12-14T22:15:19.942Z"
   },
   {
    "duration": 160,
    "start_time": "2024-12-14T22:15:19.949Z"
   },
   {
    "duration": 0,
    "start_time": "2024-12-14T22:15:20.111Z"
   },
   {
    "duration": 0,
    "start_time": "2024-12-14T22:15:20.113Z"
   },
   {
    "duration": 0,
    "start_time": "2024-12-14T22:15:20.114Z"
   },
   {
    "duration": 0,
    "start_time": "2024-12-14T22:15:20.130Z"
   },
   {
    "duration": 0,
    "start_time": "2024-12-14T22:15:20.131Z"
   },
   {
    "duration": 0,
    "start_time": "2024-12-14T22:15:20.132Z"
   },
   {
    "duration": 0,
    "start_time": "2024-12-14T22:15:20.133Z"
   },
   {
    "duration": 0,
    "start_time": "2024-12-14T22:15:20.134Z"
   },
   {
    "duration": 0,
    "start_time": "2024-12-14T22:15:20.136Z"
   },
   {
    "duration": 0,
    "start_time": "2024-12-14T22:15:20.137Z"
   },
   {
    "duration": 0,
    "start_time": "2024-12-14T22:15:20.138Z"
   },
   {
    "duration": 0,
    "start_time": "2024-12-14T22:15:20.139Z"
   },
   {
    "duration": 0,
    "start_time": "2024-12-14T22:15:20.141Z"
   },
   {
    "duration": 14586,
    "start_time": "2024-12-14T22:21:15.051Z"
   },
   {
    "duration": 1936,
    "start_time": "2024-12-14T22:21:42.821Z"
   },
   {
    "duration": 4,
    "start_time": "2024-12-14T22:21:45.354Z"
   },
   {
    "duration": 4364,
    "start_time": "2024-12-14T22:23:52.746Z"
   },
   {
    "duration": 24,
    "start_time": "2024-12-14T22:24:40.566Z"
   },
   {
    "duration": 7,
    "start_time": "2024-12-14T22:28:30.023Z"
   },
   {
    "duration": 1956,
    "start_time": "2024-12-14T22:29:32.989Z"
   },
   {
    "duration": 23,
    "start_time": "2024-12-14T22:29:39.013Z"
   },
   {
    "duration": 6,
    "start_time": "2024-12-14T22:29:42.917Z"
   },
   {
    "duration": 7783,
    "start_time": "2025-04-14T00:16:29.863Z"
   },
   {
    "duration": 2664,
    "start_time": "2025-04-14T00:16:37.649Z"
   },
   {
    "duration": 3500,
    "start_time": "2025-04-14T00:16:40.314Z"
   },
   {
    "duration": 4231,
    "start_time": "2025-04-14T00:16:43.816Z"
   },
   {
    "duration": 1686,
    "start_time": "2025-04-14T00:16:48.049Z"
   },
   {
    "duration": 2,
    "start_time": "2025-04-14T00:16:49.737Z"
   },
   {
    "duration": 37,
    "start_time": "2025-04-14T00:16:49.741Z"
   },
   {
    "duration": 7,
    "start_time": "2025-04-14T00:16:49.779Z"
   },
   {
    "duration": 14,
    "start_time": "2025-04-14T00:16:49.788Z"
   },
   {
    "duration": 1233,
    "start_time": "2025-04-14T00:16:49.804Z"
   },
   {
    "duration": 87,
    "start_time": "2025-04-14T00:16:51.039Z"
   },
   {
    "duration": 2073,
    "start_time": "2025-04-14T00:16:51.128Z"
   },
   {
    "duration": 327,
    "start_time": "2025-04-14T00:16:53.203Z"
   },
   {
    "duration": 515,
    "start_time": "2025-04-14T00:16:53.532Z"
   },
   {
    "duration": 51,
    "start_time": "2025-04-14T00:16:54.048Z"
   },
   {
    "duration": 9441,
    "start_time": "2025-04-14T00:16:54.101Z"
   },
   {
    "duration": 126,
    "start_time": "2025-04-14T00:17:03.544Z"
   },
   {
    "duration": 102,
    "start_time": "2025-04-14T00:17:03.672Z"
   },
   {
    "duration": 404,
    "start_time": "2025-04-14T00:17:03.775Z"
   },
   {
    "duration": 287,
    "start_time": "2025-04-14T00:17:04.181Z"
   },
   {
    "duration": 669,
    "start_time": "2025-04-14T00:17:04.471Z"
   },
   {
    "duration": 372,
    "start_time": "2025-04-14T00:17:05.142Z"
   },
   {
    "duration": 121,
    "start_time": "2025-04-14T00:17:05.515Z"
   },
   {
    "duration": 69,
    "start_time": "2025-04-14T00:17:05.637Z"
   },
   {
    "duration": 152,
    "start_time": "2025-04-14T00:17:05.708Z"
   },
   {
    "duration": 2268,
    "start_time": "2025-04-14T00:17:05.862Z"
   },
   {
    "duration": 5,
    "start_time": "2025-04-14T00:17:08.131Z"
   },
   {
    "duration": 54,
    "start_time": "2025-04-14T00:17:08.139Z"
   },
   {
    "duration": 46,
    "start_time": "2025-04-14T00:17:08.195Z"
   },
   {
    "duration": 32,
    "start_time": "2025-04-14T00:17:08.242Z"
   },
   {
    "duration": 417,
    "start_time": "2025-04-14T00:17:08.277Z"
   },
   {
    "duration": 26,
    "start_time": "2025-04-14T00:17:08.695Z"
   },
   {
    "duration": 1160,
    "start_time": "2025-04-14T00:17:08.722Z"
   },
   {
    "duration": 541,
    "start_time": "2025-04-14T00:17:09.885Z"
   },
   {
    "duration": 133,
    "start_time": "2025-04-14T00:17:10.427Z"
   },
   {
    "duration": 5,
    "start_time": "2025-04-14T00:17:10.561Z"
   },
   {
    "duration": 6375,
    "start_time": "2025-04-14T00:17:10.568Z"
   },
   {
    "duration": 83,
    "start_time": "2025-04-14T00:17:16.945Z"
   },
   {
    "duration": 135,
    "start_time": "2025-04-14T00:17:17.029Z"
   },
   {
    "duration": 5118,
    "start_time": "2025-04-14T00:17:17.167Z"
   },
   {
    "duration": 19,
    "start_time": "2025-04-14T00:17:22.287Z"
   },
   {
    "duration": 109,
    "start_time": "2025-04-14T00:17:22.307Z"
   },
   {
    "duration": 3,
    "start_time": "2025-04-14T00:17:22.418Z"
   },
   {
    "duration": 15,
    "start_time": "2025-04-14T00:17:22.422Z"
   },
   {
    "duration": 1973,
    "start_time": "2025-04-14T00:17:22.438Z"
   },
   {
    "duration": 33964,
    "start_time": "2025-04-14T00:17:24.413Z"
   },
   {
    "duration": 76514,
    "start_time": "2025-04-14T00:17:58.385Z"
   },
   {
    "duration": 6369,
    "start_time": "2025-04-14T00:19:14.901Z"
   },
   {
    "duration": 10,
    "start_time": "2025-04-14T00:19:21.272Z"
   },
   {
    "duration": 8,
    "start_time": "2025-04-14T00:19:21.285Z"
   },
   {
    "duration": 18,
    "start_time": "2025-04-14T00:19:21.294Z"
   },
   {
    "duration": 142,
    "start_time": "2025-04-14T00:19:21.313Z"
   },
   {
    "duration": 0,
    "start_time": "2025-04-14T00:19:21.456Z"
   },
   {
    "duration": 0,
    "start_time": "2025-04-14T00:19:21.457Z"
   },
   {
    "duration": 0,
    "start_time": "2025-04-14T00:19:21.458Z"
   },
   {
    "duration": 0,
    "start_time": "2025-04-14T00:19:21.460Z"
   },
   {
    "duration": 0,
    "start_time": "2025-04-14T00:19:21.461Z"
   },
   {
    "duration": 0,
    "start_time": "2025-04-14T00:19:21.465Z"
   },
   {
    "duration": 0,
    "start_time": "2025-04-14T00:19:21.468Z"
   },
   {
    "duration": 0,
    "start_time": "2025-04-14T00:19:21.469Z"
   },
   {
    "duration": 0,
    "start_time": "2025-04-14T00:19:21.470Z"
   },
   {
    "duration": 0,
    "start_time": "2025-04-14T00:19:21.472Z"
   },
   {
    "duration": 0,
    "start_time": "2025-04-14T00:19:21.473Z"
   },
   {
    "duration": 0,
    "start_time": "2025-04-14T00:19:21.474Z"
   },
   {
    "duration": 0,
    "start_time": "2025-04-14T00:19:21.476Z"
   },
   {
    "duration": 0,
    "start_time": "2025-04-14T00:19:21.478Z"
   },
   {
    "duration": 51,
    "start_time": "2025-04-14T00:20:29.171Z"
   },
   {
    "duration": 4,
    "start_time": "2025-04-14T00:20:46.353Z"
   },
   {
    "duration": 3471,
    "start_time": "2025-04-14T00:21:06.117Z"
   },
   {
    "duration": 2575,
    "start_time": "2025-04-14T00:21:09.590Z"
   },
   {
    "duration": 2580,
    "start_time": "2025-04-14T00:21:12.167Z"
   },
   {
    "duration": 2785,
    "start_time": "2025-04-14T00:21:14.749Z"
   },
   {
    "duration": 1511,
    "start_time": "2025-04-14T00:21:17.536Z"
   },
   {
    "duration": 3,
    "start_time": "2025-04-14T00:21:19.049Z"
   },
   {
    "duration": 19,
    "start_time": "2025-04-14T00:21:19.054Z"
   },
   {
    "duration": 7,
    "start_time": "2025-04-14T00:21:19.076Z"
   },
   {
    "duration": 12,
    "start_time": "2025-04-14T00:21:19.085Z"
   },
   {
    "duration": 1090,
    "start_time": "2025-04-14T00:21:19.101Z"
   },
   {
    "duration": 87,
    "start_time": "2025-04-14T00:21:20.193Z"
   },
   {
    "duration": 1939,
    "start_time": "2025-04-14T00:21:20.282Z"
   },
   {
    "duration": 279,
    "start_time": "2025-04-14T00:21:22.223Z"
   },
   {
    "duration": 461,
    "start_time": "2025-04-14T00:21:22.504Z"
   },
   {
    "duration": 37,
    "start_time": "2025-04-14T00:21:22.966Z"
   },
   {
    "duration": 8269,
    "start_time": "2025-04-14T00:21:23.004Z"
   },
   {
    "duration": 127,
    "start_time": "2025-04-14T00:21:31.274Z"
   },
   {
    "duration": 96,
    "start_time": "2025-04-14T00:21:31.403Z"
   },
   {
    "duration": 395,
    "start_time": "2025-04-14T00:21:31.501Z"
   },
   {
    "duration": 280,
    "start_time": "2025-04-14T00:21:31.897Z"
   },
   {
    "duration": 633,
    "start_time": "2025-04-14T00:21:32.178Z"
   },
   {
    "duration": 334,
    "start_time": "2025-04-14T00:21:32.813Z"
   },
   {
    "duration": 113,
    "start_time": "2025-04-14T00:21:33.149Z"
   },
   {
    "duration": 44,
    "start_time": "2025-04-14T00:21:33.264Z"
   },
   {
    "duration": 95,
    "start_time": "2025-04-14T00:21:33.309Z"
   },
   {
    "duration": 2016,
    "start_time": "2025-04-14T00:21:33.406Z"
   },
   {
    "duration": 4,
    "start_time": "2025-04-14T00:21:35.424Z"
   },
   {
    "duration": 49,
    "start_time": "2025-04-14T00:21:35.432Z"
   },
   {
    "duration": 8,
    "start_time": "2025-04-14T00:21:35.482Z"
   },
   {
    "duration": 64,
    "start_time": "2025-04-14T00:21:35.491Z"
   },
   {
    "duration": 414,
    "start_time": "2025-04-14T00:21:35.557Z"
   },
   {
    "duration": 32,
    "start_time": "2025-04-14T00:21:35.972Z"
   },
   {
    "duration": 1126,
    "start_time": "2025-04-14T00:21:36.006Z"
   },
   {
    "duration": 600,
    "start_time": "2025-04-14T00:21:37.134Z"
   },
   {
    "duration": 119,
    "start_time": "2025-04-14T00:21:37.738Z"
   },
   {
    "duration": 3,
    "start_time": "2025-04-14T00:21:37.862Z"
   },
   {
    "duration": 5448,
    "start_time": "2025-04-14T00:21:37.867Z"
   },
   {
    "duration": 68,
    "start_time": "2025-04-14T00:21:43.317Z"
   },
   {
    "duration": 160,
    "start_time": "2025-04-14T00:21:43.387Z"
   },
   {
    "duration": 4753,
    "start_time": "2025-04-14T00:21:43.549Z"
   },
   {
    "duration": 17,
    "start_time": "2025-04-14T00:21:48.303Z"
   },
   {
    "duration": 95,
    "start_time": "2025-04-14T00:21:48.322Z"
   },
   {
    "duration": 3,
    "start_time": "2025-04-14T00:21:48.419Z"
   },
   {
    "duration": 8,
    "start_time": "2025-04-14T00:21:48.424Z"
   },
   {
    "duration": 1816,
    "start_time": "2025-04-14T00:21:48.434Z"
   },
   {
    "duration": 17924,
    "start_time": "2025-04-14T00:21:50.251Z"
   },
   {
    "duration": 75272,
    "start_time": "2025-04-14T00:22:08.265Z"
   },
   {
    "duration": 6373,
    "start_time": "2025-04-14T00:23:23.538Z"
   },
   {
    "duration": 3,
    "start_time": "2025-04-14T00:23:29.914Z"
   },
   {
    "duration": 22,
    "start_time": "2025-04-14T00:23:29.918Z"
   },
   {
    "duration": 14,
    "start_time": "2025-04-14T00:23:29.942Z"
   },
   {
    "duration": 17,
    "start_time": "2025-04-14T00:23:29.958Z"
   },
   {
    "duration": 473287,
    "start_time": "2025-04-14T00:23:29.976Z"
   },
   {
    "duration": 47005,
    "start_time": "2025-04-14T00:31:23.264Z"
   },
   {
    "duration": 4,
    "start_time": "2025-04-14T00:32:10.270Z"
   },
   {
    "duration": 889611,
    "start_time": "2025-04-14T00:32:10.275Z"
   },
   {
    "duration": 13707,
    "start_time": "2025-04-14T00:46:59.963Z"
   },
   {
    "duration": 1995,
    "start_time": "2025-04-14T00:47:13.672Z"
   },
   {
    "duration": 4,
    "start_time": "2025-04-14T00:47:15.668Z"
   },
   {
    "duration": 53,
    "start_time": "2025-04-14T00:47:15.674Z"
   },
   {
    "duration": 4234,
    "start_time": "2025-04-14T00:47:15.729Z"
   },
   {
    "duration": 24,
    "start_time": "2025-04-14T00:47:19.965Z"
   },
   {
    "duration": 40,
    "start_time": "2025-04-14T00:47:19.991Z"
   },
   {
    "duration": 1947,
    "start_time": "2025-04-14T00:47:20.033Z"
   },
   {
    "duration": 83,
    "start_time": "2025-04-14T00:47:21.981Z"
   },
   {
    "duration": 9,
    "start_time": "2025-04-14T00:47:22.066Z"
   }
  ],
  "kernelspec": {
   "display_name": "Python 3 (ipykernel)",
   "language": "python",
   "name": "python3"
  },
  "language_info": {
   "codemirror_mode": {
    "name": "ipython",
    "version": 3
   },
   "file_extension": ".py",
   "mimetype": "text/x-python",
   "name": "python",
   "nbconvert_exporter": "python",
   "pygments_lexer": "ipython3",
   "version": "3.9.19"
  },
  "toc": {
   "base_numbering": 1,
   "nav_menu": {},
   "number_sections": true,
   "sideBar": true,
   "skip_h1_title": true,
   "title_cell": "Table of Contents",
   "title_sidebar": "Contents",
   "toc_cell": false,
   "toc_position": {
    "height": "calc(100% - 180px)",
    "left": "10px",
    "top": "150px",
    "width": "270.182px"
   },
   "toc_section_display": true,
   "toc_window_display": true
  }
 },
 "nbformat": 4,
 "nbformat_minor": 4
}
