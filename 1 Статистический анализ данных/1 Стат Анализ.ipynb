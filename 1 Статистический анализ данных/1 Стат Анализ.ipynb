{
 "cells": [
  {
   "cell_type": "markdown",
   "id": "59cab2c8-aafc-4c11-9f11-cc030b012391",
   "metadata": {},
   "source": [
    "# Статистический анализ данных сервиса аренды самокатов."
   ]
  },
  {
   "cell_type": "markdown",
   "id": "b12d432a-f319-4ef2-8655-38a71aa51e4b",
   "metadata": {},
   "source": [
    "**Импорт библиотек**"
   ]
  },
  {
   "cell_type": "code",
   "execution_count": 1,
   "id": "68e00d09",
   "metadata": {},
   "outputs": [],
   "source": [
    "import pandas as pd\n",
    "import matplotlib.pyplot as plt \n",
    "import numpy as np\n",
    "from scipy import stats\n",
    "from math import factorial\n",
    "from IPython.display import display\n",
    "from scipy.stats import binom\n",
    "from scipy.stats import norm"
   ]
  },
  {
   "cell_type": "markdown",
   "id": "7fc3063f",
   "metadata": {},
   "source": [
    "#### **Шаг 1.** Загрузка данных"
   ]
  },
  {
   "cell_type": "code",
   "execution_count": 3,
   "id": "cb3185f1",
   "metadata": {},
   "outputs": [],
   "source": [
    "# 1. Данные о пользователях:\n",
    "data_users = pd.read_csv(\"C:/Я.Практикум/проекты/1_стат_анализ/users_go.csv\")\n",
    "\n",
    "# 2. Данные о поездках:\n",
    "data_rides = pd.read_csv(\"C:/Я.Практикум/проекты/1_стат_анализ/rides_go.csv\")\n",
    "\n",
    "# 3. Данные о подписках:\n",
    "data_subscriptions = pd.read_csv(\"C:/Я.Практикум/проекты/1_стат_анализ/subscriptions_go.csv\")"
   ]
  },
  {
   "cell_type": "markdown",
   "id": "f85889d2",
   "metadata": {},
   "source": [
    "##### Изучим данные"
   ]
  },
  {
   "cell_type": "code",
   "execution_count": 3,
   "id": "d5babd7d",
   "metadata": {},
   "outputs": [
    {
     "name": "stdout",
     "output_type": "stream",
     "text": [
      "<class 'pandas.core.frame.DataFrame'>\n",
      "RangeIndex: 1565 entries, 0 to 1564\n",
      "Data columns (total 5 columns):\n",
      " #   Column             Non-Null Count  Dtype \n",
      "---  ------             --------------  ----- \n",
      " 0   user_id            1565 non-null   int64 \n",
      " 1   name               1565 non-null   object\n",
      " 2   age                1565 non-null   int64 \n",
      " 3   city               1565 non-null   object\n",
      " 4   subscription_type  1565 non-null   object\n",
      "dtypes: int64(2), object(3)\n",
      "memory usage: 61.3+ KB\n"
     ]
    },
    {
     "data": {
      "text/html": [
       "<div>\n",
       "<style scoped>\n",
       "    .dataframe tbody tr th:only-of-type {\n",
       "        vertical-align: middle;\n",
       "    }\n",
       "\n",
       "    .dataframe tbody tr th {\n",
       "        vertical-align: top;\n",
       "    }\n",
       "\n",
       "    .dataframe thead th {\n",
       "        text-align: right;\n",
       "    }\n",
       "</style>\n",
       "<table border=\"1\" class=\"dataframe\">\n",
       "  <thead>\n",
       "    <tr style=\"text-align: right;\">\n",
       "      <th></th>\n",
       "      <th>user_id</th>\n",
       "      <th>name</th>\n",
       "      <th>age</th>\n",
       "      <th>city</th>\n",
       "      <th>subscription_type</th>\n",
       "    </tr>\n",
       "  </thead>\n",
       "  <tbody>\n",
       "    <tr>\n",
       "      <th>0</th>\n",
       "      <td>1</td>\n",
       "      <td>Кира</td>\n",
       "      <td>22</td>\n",
       "      <td>Тюмень</td>\n",
       "      <td>ultra</td>\n",
       "    </tr>\n",
       "    <tr>\n",
       "      <th>1</th>\n",
       "      <td>2</td>\n",
       "      <td>Станислав</td>\n",
       "      <td>31</td>\n",
       "      <td>Омск</td>\n",
       "      <td>ultra</td>\n",
       "    </tr>\n",
       "    <tr>\n",
       "      <th>2</th>\n",
       "      <td>3</td>\n",
       "      <td>Алексей</td>\n",
       "      <td>20</td>\n",
       "      <td>Москва</td>\n",
       "      <td>ultra</td>\n",
       "    </tr>\n",
       "    <tr>\n",
       "      <th>3</th>\n",
       "      <td>4</td>\n",
       "      <td>Константин</td>\n",
       "      <td>26</td>\n",
       "      <td>Ростов-на-Дону</td>\n",
       "      <td>ultra</td>\n",
       "    </tr>\n",
       "    <tr>\n",
       "      <th>4</th>\n",
       "      <td>5</td>\n",
       "      <td>Адель</td>\n",
       "      <td>28</td>\n",
       "      <td>Омск</td>\n",
       "      <td>ultra</td>\n",
       "    </tr>\n",
       "  </tbody>\n",
       "</table>\n",
       "</div>"
      ],
      "text/plain": [
       "   user_id        name  age            city subscription_type\n",
       "0        1        Кира   22          Тюмень             ultra\n",
       "1        2   Станислав   31            Омск             ultra\n",
       "2        3     Алексей   20          Москва             ultra\n",
       "3        4  Константин   26  Ростов-на-Дону             ultra\n",
       "4        5       Адель   28            Омск             ultra"
      ]
     },
     "execution_count": 3,
     "metadata": {},
     "output_type": "execute_result"
    }
   ],
   "source": [
    "# 1. Данные о пользователях:\n",
    "data_users.info()\n",
    "data_users.head()"
   ]
  },
  {
   "cell_type": "markdown",
   "id": "c3f676b8",
   "metadata": {},
   "source": [
    "* Размер: 1565 строк, 5 столбцов  \n",
    "* Типы: 2 int, 3 object  \n",
    "* Данные об имени, возрасте, городе и подписке каждого пользователя."
   ]
  },
  {
   "cell_type": "code",
   "execution_count": 4,
   "id": "75f4470a",
   "metadata": {},
   "outputs": [
    {
     "name": "stdout",
     "output_type": "stream",
     "text": [
      "<class 'pandas.core.frame.DataFrame'>\n",
      "RangeIndex: 18068 entries, 0 to 18067\n",
      "Data columns (total 4 columns):\n",
      " #   Column    Non-Null Count  Dtype  \n",
      "---  ------    --------------  -----  \n",
      " 0   user_id   18068 non-null  int64  \n",
      " 1   distance  18068 non-null  float64\n",
      " 2   duration  18068 non-null  float64\n",
      " 3   date      18068 non-null  object \n",
      "dtypes: float64(2), int64(1), object(1)\n",
      "memory usage: 564.8+ KB\n"
     ]
    },
    {
     "data": {
      "text/html": [
       "<div>\n",
       "<style scoped>\n",
       "    .dataframe tbody tr th:only-of-type {\n",
       "        vertical-align: middle;\n",
       "    }\n",
       "\n",
       "    .dataframe tbody tr th {\n",
       "        vertical-align: top;\n",
       "    }\n",
       "\n",
       "    .dataframe thead th {\n",
       "        text-align: right;\n",
       "    }\n",
       "</style>\n",
       "<table border=\"1\" class=\"dataframe\">\n",
       "  <thead>\n",
       "    <tr style=\"text-align: right;\">\n",
       "      <th></th>\n",
       "      <th>user_id</th>\n",
       "      <th>distance</th>\n",
       "      <th>duration</th>\n",
       "      <th>date</th>\n",
       "    </tr>\n",
       "  </thead>\n",
       "  <tbody>\n",
       "    <tr>\n",
       "      <th>0</th>\n",
       "      <td>1</td>\n",
       "      <td>4409.919140</td>\n",
       "      <td>25.599769</td>\n",
       "      <td>2021-01-01</td>\n",
       "    </tr>\n",
       "    <tr>\n",
       "      <th>1</th>\n",
       "      <td>1</td>\n",
       "      <td>2617.592153</td>\n",
       "      <td>15.816871</td>\n",
       "      <td>2021-01-18</td>\n",
       "    </tr>\n",
       "    <tr>\n",
       "      <th>2</th>\n",
       "      <td>1</td>\n",
       "      <td>754.159807</td>\n",
       "      <td>6.232113</td>\n",
       "      <td>2021-04-20</td>\n",
       "    </tr>\n",
       "    <tr>\n",
       "      <th>3</th>\n",
       "      <td>1</td>\n",
       "      <td>2694.783254</td>\n",
       "      <td>18.511000</td>\n",
       "      <td>2021-08-11</td>\n",
       "    </tr>\n",
       "    <tr>\n",
       "      <th>4</th>\n",
       "      <td>1</td>\n",
       "      <td>4028.687306</td>\n",
       "      <td>26.265803</td>\n",
       "      <td>2021-08-28</td>\n",
       "    </tr>\n",
       "  </tbody>\n",
       "</table>\n",
       "</div>"
      ],
      "text/plain": [
       "   user_id     distance   duration        date\n",
       "0        1  4409.919140  25.599769  2021-01-01\n",
       "1        1  2617.592153  15.816871  2021-01-18\n",
       "2        1   754.159807   6.232113  2021-04-20\n",
       "3        1  2694.783254  18.511000  2021-08-11\n",
       "4        1  4028.687306  26.265803  2021-08-28"
      ]
     },
     "execution_count": 4,
     "metadata": {},
     "output_type": "execute_result"
    }
   ],
   "source": [
    "# 2. Данные о поездках:\n",
    "data_rides.info()\n",
    "data_rides.head()"
   ]
  },
  {
   "cell_type": "markdown",
   "id": "2b86c6ed",
   "metadata": {},
   "source": [
    "* Размер: 18068 строк, 4 столбца  \n",
    "* Типы: 2 float, 1 int, 1 object\n",
    "\n",
    "* Информация о расстоянии (м), длительности (мин) и дате каждой поездки"
   ]
  },
  {
   "cell_type": "code",
   "execution_count": 5,
   "id": "ae1ddeac",
   "metadata": {},
   "outputs": [
    {
     "name": "stdout",
     "output_type": "stream",
     "text": [
      "<class 'pandas.core.frame.DataFrame'>\n",
      "RangeIndex: 2 entries, 0 to 1\n",
      "Data columns (total 4 columns):\n",
      " #   Column             Non-Null Count  Dtype \n",
      "---  ------             --------------  ----- \n",
      " 0   subscription_type  2 non-null      object\n",
      " 1   minute_price       2 non-null      int64 \n",
      " 2   start_ride_price   2 non-null      int64 \n",
      " 3   subscription_fee   2 non-null      int64 \n",
      "dtypes: int64(3), object(1)\n",
      "memory usage: 192.0+ bytes\n"
     ]
    },
    {
     "data": {
      "text/html": [
       "<div>\n",
       "<style scoped>\n",
       "    .dataframe tbody tr th:only-of-type {\n",
       "        vertical-align: middle;\n",
       "    }\n",
       "\n",
       "    .dataframe tbody tr th {\n",
       "        vertical-align: top;\n",
       "    }\n",
       "\n",
       "    .dataframe thead th {\n",
       "        text-align: right;\n",
       "    }\n",
       "</style>\n",
       "<table border=\"1\" class=\"dataframe\">\n",
       "  <thead>\n",
       "    <tr style=\"text-align: right;\">\n",
       "      <th></th>\n",
       "      <th>subscription_type</th>\n",
       "      <th>minute_price</th>\n",
       "      <th>start_ride_price</th>\n",
       "      <th>subscription_fee</th>\n",
       "    </tr>\n",
       "  </thead>\n",
       "  <tbody>\n",
       "    <tr>\n",
       "      <th>0</th>\n",
       "      <td>free</td>\n",
       "      <td>8</td>\n",
       "      <td>50</td>\n",
       "      <td>0</td>\n",
       "    </tr>\n",
       "    <tr>\n",
       "      <th>1</th>\n",
       "      <td>ultra</td>\n",
       "      <td>6</td>\n",
       "      <td>0</td>\n",
       "      <td>199</td>\n",
       "    </tr>\n",
       "  </tbody>\n",
       "</table>\n",
       "</div>"
      ],
      "text/plain": [
       "  subscription_type  minute_price  start_ride_price  subscription_fee\n",
       "0              free             8                50                 0\n",
       "1             ultra             6                 0               199"
      ]
     },
     "execution_count": 5,
     "metadata": {},
     "output_type": "execute_result"
    }
   ],
   "source": [
    "# 3. Данные о подписках:\n",
    "data_subscriptions.info()\n",
    "data_subscriptions.head()"
   ]
  },
  {
   "cell_type": "markdown",
   "id": "29fd73fd",
   "metadata": {},
   "source": [
    "* 2 строки, 4 столбца\n",
    "* Типы: 3 int, 1 object\n",
    "* Файл содержит информацию об условиях подписок free и ultra: цены старты и одной минуты, стоимость месячной подписки"
   ]
  },
  {
   "cell_type": "markdown",
   "id": "16b776d1",
   "metadata": {},
   "source": [
    "________\n",
    "##### **Вывод по 1 разделу**\n",
    "  \n",
    "Имеем данные о пользователях, поездках и типах подписок.  \n",
    "`data_rides` - самый большой датафрейм.   \n",
    "\n",
    "Предварительно по каждому файлу видно, что в каждом столбце количество строк соответствует длине датафрейма, что означает отсутствие пропущенных значений.\n",
    "Более внимательно изучим этот вопрос на следущем шаге.\n",
    "______"
   ]
  },
  {
   "cell_type": "markdown",
   "id": "5cd15ba2",
   "metadata": {},
   "source": [
    "#### **Шаг 2.** Предобработка данных"
   ]
  },
  {
   "cell_type": "markdown",
   "id": "0a8a96fd",
   "metadata": {},
   "source": [
    "Проверим значения, которые есть в столбце `date` из датафрейма data_rides:"
   ]
  },
  {
   "cell_type": "code",
   "execution_count": 6,
   "id": "f3054e41",
   "metadata": {},
   "outputs": [
    {
     "name": "stdout",
     "output_type": "stream",
     "text": [
      "Количество уникальных значений:  364\n"
     ]
    },
    {
     "data": {
      "text/plain": [
       "0        2021-01-01\n",
       "13113    2021-01-01\n",
       "5445     2021-01-01\n",
       "12775    2021-01-01\n",
       "17096    2021-01-01\n",
       "            ...    \n",
       "15325    2021-12-30\n",
       "7541     2021-12-30\n",
       "6115     2021-12-30\n",
       "10991    2021-12-30\n",
       "11778    2021-12-30\n",
       "Name: date, Length: 18068, dtype: object"
      ]
     },
     "execution_count": 6,
     "metadata": {},
     "output_type": "execute_result"
    }
   ],
   "source": [
    "print ('Количество уникальных значений: ', data_rides['date'].nunique())\n",
    "data_rides['date'].sort_values()"
   ]
  },
  {
   "cell_type": "markdown",
   "id": "f7fc4c66",
   "metadata": {},
   "source": [
    "- Представлены данные о всех днях 2021 года, кроме 31 декабря.  \n",
    "- Представлены в формате \"Год-Месяц-День\"."
   ]
  },
  {
   "cell_type": "markdown",
   "id": "4d6ec250",
   "metadata": {},
   "source": [
    "##### Приведем столбец `date` из data_rides к типу даты pandas методом to_datetime:"
   ]
  },
  {
   "cell_type": "code",
   "execution_count": 7,
   "id": "55768c58",
   "metadata": {},
   "outputs": [
    {
     "data": {
      "text/plain": [
       "0   2021-01-01\n",
       "Name: date, dtype: datetime64[ns]"
      ]
     },
     "execution_count": 7,
     "metadata": {},
     "output_type": "execute_result"
    }
   ],
   "source": [
    "data_rides['date'] = pd.to_datetime(data_rides['date'], format='%Y-%m-%d')\n",
    "data_rides['date'].head(1)"
   ]
  },
  {
   "cell_type": "markdown",
   "id": "455d6f68",
   "metadata": {},
   "source": [
    "- Данные отображаются верно, тип - datetime64."
   ]
  },
  {
   "cell_type": "markdown",
   "id": "cd7659f6",
   "metadata": {},
   "source": [
    "##### Создим новый столбец `month` с номером месяца на основе столбца date:"
   ]
  },
  {
   "cell_type": "code",
   "execution_count": 8,
   "id": "2b7813d8",
   "metadata": {},
   "outputs": [],
   "source": [
    "data_rides['month'] = data_rides['date'].dt.month"
   ]
  },
  {
   "cell_type": "markdown",
   "id": "f9c5d9ea",
   "metadata": {},
   "source": [
    "Отобразим новый столбец в связке со столбцом `date`:"
   ]
  },
  {
   "cell_type": "code",
   "execution_count": 9,
   "id": "b5debf22",
   "metadata": {},
   "outputs": [
    {
     "name": "stdout",
     "output_type": "stream",
     "text": [
      "Тип столбца month:  int64\n"
     ]
    },
    {
     "data": {
      "text/html": [
       "<div>\n",
       "<style scoped>\n",
       "    .dataframe tbody tr th:only-of-type {\n",
       "        vertical-align: middle;\n",
       "    }\n",
       "\n",
       "    .dataframe tbody tr th {\n",
       "        vertical-align: top;\n",
       "    }\n",
       "\n",
       "    .dataframe thead th {\n",
       "        text-align: right;\n",
       "    }\n",
       "</style>\n",
       "<table border=\"1\" class=\"dataframe\">\n",
       "  <thead>\n",
       "    <tr style=\"text-align: right;\">\n",
       "      <th></th>\n",
       "      <th>date</th>\n",
       "      <th>month</th>\n",
       "    </tr>\n",
       "  </thead>\n",
       "  <tbody>\n",
       "    <tr>\n",
       "      <th>0</th>\n",
       "      <td>2021-01-01</td>\n",
       "      <td>1</td>\n",
       "    </tr>\n",
       "    <tr>\n",
       "      <th>13113</th>\n",
       "      <td>2021-01-01</td>\n",
       "      <td>1</td>\n",
       "    </tr>\n",
       "    <tr>\n",
       "      <th>5445</th>\n",
       "      <td>2021-01-01</td>\n",
       "      <td>1</td>\n",
       "    </tr>\n",
       "    <tr>\n",
       "      <th>12775</th>\n",
       "      <td>2021-01-01</td>\n",
       "      <td>1</td>\n",
       "    </tr>\n",
       "    <tr>\n",
       "      <th>17096</th>\n",
       "      <td>2021-01-01</td>\n",
       "      <td>1</td>\n",
       "    </tr>\n",
       "    <tr>\n",
       "      <th>...</th>\n",
       "      <td>...</td>\n",
       "      <td>...</td>\n",
       "    </tr>\n",
       "    <tr>\n",
       "      <th>15325</th>\n",
       "      <td>2021-12-30</td>\n",
       "      <td>12</td>\n",
       "    </tr>\n",
       "    <tr>\n",
       "      <th>7541</th>\n",
       "      <td>2021-12-30</td>\n",
       "      <td>12</td>\n",
       "    </tr>\n",
       "    <tr>\n",
       "      <th>6115</th>\n",
       "      <td>2021-12-30</td>\n",
       "      <td>12</td>\n",
       "    </tr>\n",
       "    <tr>\n",
       "      <th>10991</th>\n",
       "      <td>2021-12-30</td>\n",
       "      <td>12</td>\n",
       "    </tr>\n",
       "    <tr>\n",
       "      <th>11778</th>\n",
       "      <td>2021-12-30</td>\n",
       "      <td>12</td>\n",
       "    </tr>\n",
       "  </tbody>\n",
       "</table>\n",
       "<p>18068 rows × 2 columns</p>\n",
       "</div>"
      ],
      "text/plain": [
       "            date  month\n",
       "0     2021-01-01      1\n",
       "13113 2021-01-01      1\n",
       "5445  2021-01-01      1\n",
       "12775 2021-01-01      1\n",
       "17096 2021-01-01      1\n",
       "...          ...    ...\n",
       "15325 2021-12-30     12\n",
       "7541  2021-12-30     12\n",
       "6115  2021-12-30     12\n",
       "10991 2021-12-30     12\n",
       "11778 2021-12-30     12\n",
       "\n",
       "[18068 rows x 2 columns]"
      ]
     },
     "execution_count": 9,
     "metadata": {},
     "output_type": "execute_result"
    }
   ],
   "source": [
    "print ('Тип столбца month: ', data_rides['month'].dtypes)\n",
    "data_rides[['date', 'month']].sort_values(by='date')"
   ]
  },
  {
   "cell_type": "markdown",
   "id": "1db2f8d0",
   "metadata": {},
   "source": [
    "- Успешно. Тип столбца - int64."
   ]
  },
  {
   "cell_type": "markdown",
   "id": "b12e4ecd",
   "metadata": {},
   "source": [
    "##### Пропущенные значения и дубликаты в датафреймах."
   ]
  },
  {
   "cell_type": "markdown",
   "id": "e9a3b101",
   "metadata": {
    "jp-MarkdownHeadingCollapsed": true
   },
   "source": [
    "###### data_users"
   ]
  },
  {
   "cell_type": "markdown",
   "id": "38694fcf",
   "metadata": {},
   "source": [
    "**Проверим наличие пропущенных значений:**"
   ]
  },
  {
   "cell_type": "code",
   "execution_count": 10,
   "id": "8cb7a00d",
   "metadata": {},
   "outputs": [
    {
     "data": {
      "text/plain": [
       "user_id              0\n",
       "name                 0\n",
       "age                  0\n",
       "city                 0\n",
       "subscription_type    0\n",
       "dtype: int64"
      ]
     },
     "execution_count": 10,
     "metadata": {},
     "output_type": "execute_result"
    }
   ],
   "source": [
    "data_users.isna().sum()"
   ]
  },
  {
   "cell_type": "markdown",
   "id": "c0f6a0cd",
   "metadata": {},
   "source": [
    "* 0 пропущенных значений"
   ]
  },
  {
   "cell_type": "markdown",
   "id": "48639cea",
   "metadata": {},
   "source": [
    "**Проверим наличие явных дубликатов:**"
   ]
  },
  {
   "cell_type": "code",
   "execution_count": 11,
   "id": "7797ab81",
   "metadata": {},
   "outputs": [
    {
     "name": "stdout",
     "output_type": "stream",
     "text": [
      "Количество дубликатов:  31\n"
     ]
    }
   ],
   "source": [
    "print ('Количество дубликатов: ', data_users.duplicated().sum())"
   ]
  },
  {
   "cell_type": "markdown",
   "id": "db79e33e",
   "metadata": {},
   "source": [
    "Удалим дубликаты строк:"
   ]
  },
  {
   "cell_type": "code",
   "execution_count": 13,
   "id": "5c6fdc96",
   "metadata": {},
   "outputs": [
    {
     "name": "stdout",
     "output_type": "stream",
     "text": [
      "Количество дубликатов после обработки:  0\n"
     ]
    }
   ],
   "source": [
    "data_users = data_users.drop_duplicates()\n",
    "print ('Количество дубликатов после обработки: ', data_users.duplicated().sum())"
   ]
  },
  {
   "cell_type": "markdown",
   "id": "c8c5fba7",
   "metadata": {},
   "source": [
    "**Проверим наличие неявных дубликатов**"
   ]
  },
  {
   "cell_type": "markdown",
   "id": "a986f0f7",
   "metadata": {},
   "source": [
    "В столбце `city`:"
   ]
  },
  {
   "cell_type": "code",
   "execution_count": 15,
   "id": "c0d0d197",
   "metadata": {},
   "outputs": [
    {
     "data": {
      "text/plain": [
       "Пятигорск         219\n",
       "Екатеринбург      204\n",
       "Ростов-на-Дону    198\n",
       "Краснодар         193\n",
       "Сочи              189\n",
       "Омск              183\n",
       "Тюмень            180\n",
       "Москва            168\n",
       "Name: city, dtype: int64"
      ]
     },
     "execution_count": 15,
     "metadata": {},
     "output_type": "execute_result"
    }
   ],
   "source": [
    "data_users['city'].value_counts()"
   ]
  },
  {
   "cell_type": "markdown",
   "id": "d8fcebfa",
   "metadata": {},
   "source": [
    "* Таких нет."
   ]
  },
  {
   "cell_type": "markdown",
   "id": "14f80c76",
   "metadata": {},
   "source": [
    "В столбце с типом подписки:"
   ]
  },
  {
   "cell_type": "code",
   "execution_count": 14,
   "id": "e89d3ed7",
   "metadata": {},
   "outputs": [
    {
     "data": {
      "text/plain": [
       "array(['ultra', 'free'], dtype=object)"
      ]
     },
     "execution_count": 14,
     "metadata": {},
     "output_type": "execute_result"
    }
   ],
   "source": [
    "data_users['subscription_type'].unique()"
   ]
  },
  {
   "cell_type": "markdown",
   "id": "8fb6abc7",
   "metadata": {},
   "source": [
    "* Только два уникальных ожидаемых значения."
   ]
  },
  {
   "cell_type": "markdown",
   "id": "0924ac90",
   "metadata": {},
   "source": [
    "**Итог:**  \n",
    "Пропущенных значений и неявных дубликатов в data_users нет.  \n",
    "31 явный дубликат удален."
   ]
  },
  {
   "cell_type": "markdown",
   "id": "0729dbf0",
   "metadata": {
    "jp-MarkdownHeadingCollapsed": true
   },
   "source": [
    "###### data_rides"
   ]
  },
  {
   "cell_type": "markdown",
   "id": "b8f667d8",
   "metadata": {},
   "source": [
    "**Пропущенные значения:**"
   ]
  },
  {
   "cell_type": "code",
   "execution_count": 19,
   "id": "2dc6eaf8",
   "metadata": {},
   "outputs": [
    {
     "data": {
      "text/plain": [
       "user_id     0\n",
       "distance    0\n",
       "duration    0\n",
       "date        0\n",
       "month       0\n",
       "dtype: int64"
      ]
     },
     "execution_count": 19,
     "metadata": {},
     "output_type": "execute_result"
    }
   ],
   "source": [
    "data_rides.isna().sum()"
   ]
  },
  {
   "cell_type": "markdown",
   "id": "d97a5f0f",
   "metadata": {},
   "source": [
    "* Не обнаружено"
   ]
  },
  {
   "cell_type": "markdown",
   "id": "1cc4c198",
   "metadata": {},
   "source": [
    "**Явные дубликаты:**"
   ]
  },
  {
   "cell_type": "code",
   "execution_count": 20,
   "id": "27faac8b",
   "metadata": {},
   "outputs": [
    {
     "data": {
      "text/plain": [
       "0"
      ]
     },
     "execution_count": 20,
     "metadata": {},
     "output_type": "execute_result"
    }
   ],
   "source": [
    "data_rides.duplicated().sum()"
   ]
  },
  {
   "cell_type": "markdown",
   "id": "0707eacb",
   "metadata": {},
   "source": [
    "* Не обнаружено"
   ]
  },
  {
   "cell_type": "markdown",
   "id": "be7e1d00",
   "metadata": {},
   "source": [
    "**Неявные дубликаты:**"
   ]
  },
  {
   "cell_type": "code",
   "execution_count": 21,
   "id": "58958c55",
   "metadata": {},
   "outputs": [
    {
     "data": {
      "text/plain": [
       "user_id              int64\n",
       "distance           float64\n",
       "duration           float64\n",
       "date        datetime64[ns]\n",
       "month                int64\n",
       "dtype: object"
      ]
     },
     "execution_count": 21,
     "metadata": {},
     "output_type": "execute_result"
    }
   ],
   "source": [
    "data_rides.dtypes"
   ]
  },
  {
   "cell_type": "markdown",
   "id": "36b6f316",
   "metadata": {},
   "source": [
    "* Неявных дубликатов нет, обычно они ищутся по столбцам типа object.   \n",
    "Повторения для числовых категориальных переменных (user_id, month) - нормальны."
   ]
  },
  {
   "cell_type": "markdown",
   "id": "67a84a72",
   "metadata": {},
   "source": [
    "**Итог:**  \n",
    "Пропущенных значений, дубликатов в data_rides нет."
   ]
  },
  {
   "cell_type": "markdown",
   "id": "a459c89d",
   "metadata": {
    "jp-MarkdownHeadingCollapsed": true
   },
   "source": [
    "###### data_subscriptions"
   ]
  },
  {
   "cell_type": "code",
   "execution_count": 22,
   "id": "c5406f25",
   "metadata": {},
   "outputs": [
    {
     "data": {
      "text/html": [
       "<div>\n",
       "<style scoped>\n",
       "    .dataframe tbody tr th:only-of-type {\n",
       "        vertical-align: middle;\n",
       "    }\n",
       "\n",
       "    .dataframe tbody tr th {\n",
       "        vertical-align: top;\n",
       "    }\n",
       "\n",
       "    .dataframe thead th {\n",
       "        text-align: right;\n",
       "    }\n",
       "</style>\n",
       "<table border=\"1\" class=\"dataframe\">\n",
       "  <thead>\n",
       "    <tr style=\"text-align: right;\">\n",
       "      <th></th>\n",
       "      <th>subscription_type</th>\n",
       "      <th>minute_price</th>\n",
       "      <th>start_ride_price</th>\n",
       "      <th>subscription_fee</th>\n",
       "    </tr>\n",
       "  </thead>\n",
       "  <tbody>\n",
       "    <tr>\n",
       "      <th>0</th>\n",
       "      <td>free</td>\n",
       "      <td>8</td>\n",
       "      <td>50</td>\n",
       "      <td>0</td>\n",
       "    </tr>\n",
       "    <tr>\n",
       "      <th>1</th>\n",
       "      <td>ultra</td>\n",
       "      <td>6</td>\n",
       "      <td>0</td>\n",
       "      <td>199</td>\n",
       "    </tr>\n",
       "  </tbody>\n",
       "</table>\n",
       "</div>"
      ],
      "text/plain": [
       "  subscription_type  minute_price  start_ride_price  subscription_fee\n",
       "0              free             8                50                 0\n",
       "1             ultra             6                 0               199"
      ]
     },
     "execution_count": 22,
     "metadata": {},
     "output_type": "execute_result"
    }
   ],
   "source": [
    "data_subscriptions"
   ]
  },
  {
   "cell_type": "markdown",
   "id": "fbb47837",
   "metadata": {},
   "source": [
    "Датафрейм всего из двух строк.  \n",
    "Пропусков и дубликатов нет."
   ]
  },
  {
   "cell_type": "markdown",
   "id": "35d6ebf6",
   "metadata": {},
   "source": [
    "##### **Вывод по 2 разделу**\n",
    "\n",
    "1. Столбец `date` приведен к типу даты в data_rides;\n",
    "2. Создан новый столбец `month` в data_rides;\n",
    "3. Удалены явные дубликаты (31) в data_users."
   ]
  },
  {
   "cell_type": "markdown",
   "id": "6333aa42",
   "metadata": {},
   "source": [
    "#### **Шаг 3.** Исследовательский анализ данных"
   ]
  },
  {
   "cell_type": "markdown",
   "id": "f2f67f92",
   "metadata": {},
   "source": [
    "##### Частота встречаемости городов"
   ]
  },
  {
   "cell_type": "code",
   "execution_count": 23,
   "id": "951389ce",
   "metadata": {},
   "outputs": [
    {
     "data": {
      "image/png": "[encoded data removed]",
      "text/plain": [
       "<Figure size 640x480 with 1 Axes>"
      ]
     },
     "metadata": {},
     "output_type": "display_data"
    }
   ],
   "source": [
    "data_users['city'].value_counts(ascending=True).plot.barh(grid=True)\n",
    "\n",
    "plt.title('Частота встречаемости городов')\n",
    "plt.xlabel('Количество пользователей')\n",
    "plt.show()"
   ]
  },
  {
   "cell_type": "markdown",
   "id": "833737b3",
   "metadata": {},
   "source": [
    "Выведем на экран их количества:"
   ]
  },
  {
   "cell_type": "code",
   "execution_count": 22,
   "id": "32cdafa7",
   "metadata": {},
   "outputs": [
    {
     "data": {
      "text/plain": [
       "Пятигорск         219\n",
       "Екатеринбург      204\n",
       "Ростов-на-Дону    198\n",
       "Краснодар         193\n",
       "Сочи              189\n",
       "Омск              183\n",
       "Тюмень            180\n",
       "Москва            168\n",
       "Name: city, dtype: int64"
      ]
     },
     "execution_count": 22,
     "metadata": {},
     "output_type": "execute_result"
    }
   ],
   "source": [
    "data_users['city'].value_counts()"
   ]
  },
  {
   "cell_type": "markdown",
   "id": "0a523d27",
   "metadata": {},
   "source": [
    "* Больше всего пользователей из Пятигорска - *219*.   \n",
    "Меньше всего из Москвы - *168*."
   ]
  },
  {
   "cell_type": "markdown",
   "id": "1f493071",
   "metadata": {},
   "source": [
    "Как города распределены по датафрейму в процентах:"
   ]
  },
  {
   "cell_type": "code",
   "execution_count": 24,
   "id": "d5960d17",
   "metadata": {},
   "outputs": [
    {
     "data": {
      "text/plain": [
       "Пятигорск         0.14\n",
       "Екатеринбург      0.13\n",
       "Ростов-на-Дону    0.13\n",
       "Краснодар         0.13\n",
       "Сочи              0.12\n",
       "Омск              0.12\n",
       "Тюмень            0.12\n",
       "Москва            0.11\n",
       "Name: city, dtype: float64"
      ]
     },
     "execution_count": 24,
     "metadata": {},
     "output_type": "execute_result"
    }
   ],
   "source": [
    "# Улучшенный вариант\n",
    "data_users['city'].value_counts(normalize=True).round(2)"
   ]
  },
  {
   "cell_type": "markdown",
   "id": "3c5b7291",
   "metadata": {},
   "source": [
    "**Вывод:**  \n",
    "\n",
    "Доля присутствия всех 8 городов в выборке примерно одинаковая (от 11% до 14%). \n",
    "\n",
    "Самый часто встречаемый город:\n",
    "* Пятигорск - 219   \n",
    "\n",
    "Самый редко встречаемый город:\n",
    "* Москва - 168"
   ]
  },
  {
   "cell_type": "markdown",
   "id": "0dc758db",
   "metadata": {},
   "source": [
    "##### Соотношение пользователей с подпиской и без подписки"
   ]
  },
  {
   "cell_type": "code",
   "execution_count": 26,
   "id": "bccd9bd2",
   "metadata": {},
   "outputs": [
    {
     "data": {
      "image/png": "[encoded data removed]",
      "text/plain": [
       "<Figure size 640x480 with 1 Axes>"
      ]
     },
     "metadata": {},
     "output_type": "display_data"
    }
   ],
   "source": [
    "# Построим круговую диаграмму с отображением отношения групп пользователей в процентах\n",
    "data_users['subscription_type'].value_counts().plot.pie(autopct='%1.1f%%')\n",
    "plt.title('Соотношение пользователей с подпиской и без подписки, %')\n",
    "plt.ylabel('Тип подписки')\n",
    "plt.show()"
   ]
  },
  {
   "cell_type": "markdown",
   "id": "8c3d190a",
   "metadata": {},
   "source": [
    "По гистограмме и круговой диаграмме видно, что у большей части пользователей нет подписки. \n",
    "\n",
    "Распределение в процентном соотношении: \n",
    "* 54.5% к 45.6% в пользу пользователей без подписки."
   ]
  },
  {
   "cell_type": "markdown",
   "id": "86162244",
   "metadata": {},
   "source": [
    "Количество пользователей без подписки (free) и с подпиской (ultra):"
   ]
  },
  {
   "cell_type": "code",
   "execution_count": 27,
   "id": "66badf84",
   "metadata": {},
   "outputs": [
    {
     "name": "stdout",
     "output_type": "stream",
     "text": [
      "free     835\n",
      "ultra    699\n",
      "Name: subscription_type, dtype: int64 \n",
      "\n",
      "free-ultra =  136\n"
     ]
    }
   ],
   "source": [
    "print (data_users['subscription_type'].value_counts(), '\\n')\n",
    "\n",
    "# Определим разницу между количествами free и ultra:\n",
    "print ('free-ultra = ', len(data_users.query('subscription_type == \"free\"'))-len(data_users.query('subscription_type == \"ultra\"')))"
   ]
  },
  {
   "cell_type": "markdown",
   "id": "c32efa44",
   "metadata": {},
   "source": [
    "**Вывод:**\n",
    "\n",
    "У 54% пользователей в выборке нет подписки.  \n",
    "У оставшихся 46% - подписка ultra.\n",
    "\n",
    "Пользователей с подпиской:\n",
    "* 699\n",
    "\n",
    "Пользователей без подписки:\n",
    "* 835"
   ]
  },
  {
   "cell_type": "markdown",
   "id": "7671ffd2",
   "metadata": {},
   "source": [
    "##### Возраст пользователей"
   ]
  },
  {
   "cell_type": "code",
   "execution_count": 28,
   "id": "cb032256",
   "metadata": {},
   "outputs": [
    {
     "data": {
      "image/png": "[encoded data removed]",
      "text/plain": [
       "<Figure size 640x480 with 1 Axes>"
      ]
     },
     "metadata": {},
     "output_type": "display_data"
    }
   ],
   "source": [
    "# Строим гистограмму\n",
    "data_users['age'].hist(bins=30)\n",
    "\n",
    "# Добавляем заголовок, подписываем оси\n",
    "plt.title('Возраст пользователей', pad=20)\n",
    "plt.xlabel('Возраст')\n",
    "plt.ylabel('Количество пользователей')\n",
    "plt.show()"
   ]
  },
  {
   "cell_type": "markdown",
   "id": "a2db44cb",
   "metadata": {},
   "source": [
    "- По гистограмме можно сказать, что большая часть пользователей - от 20 до 30 лет."
   ]
  },
  {
   "cell_type": "markdown",
   "id": "ede19331",
   "metadata": {},
   "source": [
    "Определим основные характеристики:"
   ]
  },
  {
   "cell_type": "code",
   "execution_count": 29,
   "id": "249975fa",
   "metadata": {},
   "outputs": [
    {
     "data": {
      "text/plain": [
       "count    1534.000000\n",
       "mean       24.903520\n",
       "std         4.572367\n",
       "min        12.000000\n",
       "25%        22.000000\n",
       "50%        25.000000\n",
       "75%        28.000000\n",
       "max        43.000000\n",
       "Name: age, dtype: float64"
      ]
     },
     "execution_count": 29,
     "metadata": {},
     "output_type": "execute_result"
    }
   ],
   "source": [
    "data_users['age'].describe()"
   ]
  },
  {
   "cell_type": "code",
   "execution_count": 30,
   "id": "b3f23adc",
   "metadata": {},
   "outputs": [
    {
     "name": "stdout",
     "output_type": "stream",
     "text": [
      "Самый часто встречаемый возраст:  25\n",
      "Размах:  31\n",
      "Межквартильный размах:  6.0\n"
     ]
    }
   ],
   "source": [
    "print ('Самый часто встречаемый возраст: ', data_users['age'].mode()[0])\n",
    "print ('Размах: ', data_users['age'].max() - data_users['age'].min())\n",
    "print ('Межквартильный размах: ', stats.iqr(data_users['age']))"
   ]
  },
  {
   "cell_type": "markdown",
   "id": "e72c9982",
   "metadata": {},
   "source": [
    "___\n",
    "**Вывод:**\n",
    "\n",
    "О пользователях:\n",
    "* средний возраст - 25 *(со стандартным отклонением 4,57)*\n",
    "* медианный возраст - 25\n",
    "* минимальный возраст - 12\n",
    "* максимальный возраст - 43\n",
    "* наиболее часто встречаемый возраст (мода) - 25\n",
    "\n",
    "В половине случаев возраст пользователей составляет от 22 до 28 лет.  \n",
    "\n",
    "\n",
    "*<font color=\"maroon\">P.S. Есть пользователи младше 18 лет - пока оставим их в выборке. Актуальность этих данных стоило бы уточнить у коллег из GoFast. Вероятно, что правила могут ограничивать аренду самоката лицами младше 18/16/14 лет. А могут и не ограничивать. </font>\n",
    "\n",
    "___"
   ]
  },
  {
   "cell_type": "markdown",
   "id": "4e97bb8b",
   "metadata": {},
   "source": [
    "##### Расстояние, которое пользователь преодолел за одну поездку"
   ]
  },
  {
   "cell_type": "code",
   "execution_count": 29,
   "id": "f1792165",
   "metadata": {},
   "outputs": [
    {
     "data": {
      "image/png": "[encoded data removed]",
      "text/plain": [
       "<Figure size 640x480 with 1 Axes>"
      ]
     },
     "metadata": {},
     "output_type": "display_data"
    }
   ],
   "source": [
    "data_rides['distance'].hist(bins=30)\n",
    "plt.title('Расстояние, которое пользователь преодолел за одну поездку, м', pad=20)\n",
    "plt.ylabel('Количество поездок')\n",
    "plt.xlabel('м')\n",
    "plt.show()"
   ]
  },
  {
   "cell_type": "markdown",
   "id": "f7b9bed8",
   "metadata": {},
   "source": [
    "- в основном люди при использовании самоката проезжают от 2 до 5 километров."
   ]
  },
  {
   "cell_type": "markdown",
   "id": "63fd77f3",
   "metadata": {},
   "source": [
    "Изучим внимательнее отрезок 0-1000 м, который явно выделяется."
   ]
  },
  {
   "cell_type": "code",
   "execution_count": 30,
   "id": "db2cb977",
   "metadata": {},
   "outputs": [
    {
     "data": {
      "image/png": "[encoded data removed]",
      "text/plain": [
       "<Figure size 640x480 with 1 Axes>"
      ]
     },
     "metadata": {},
     "output_type": "display_data"
    }
   ],
   "source": [
    "data_rides['distance'].hist(bins=50, range=(0,1000))\n",
    "plt.title('расстояние менее 1000 м')\n",
    "plt.ylabel('Количество поездок')\n",
    "plt.xlabel('м')\n",
    "plt.show()"
   ]
  },
  {
   "cell_type": "markdown",
   "id": "b6c6de4a",
   "metadata": {},
   "source": [
    "* Вероятно, это просто короткие поездки."
   ]
  },
  {
   "cell_type": "markdown",
   "id": "c064f240",
   "metadata": {},
   "source": [
    "Для поездок длительностью менее 50 м проверим информацию о времени поездки:"
   ]
  },
  {
   "cell_type": "code",
   "execution_count": 31,
   "id": "b4b9fe0e",
   "metadata": {},
   "outputs": [
    {
     "data": {
      "text/plain": [
       "count    31.000000\n",
       "mean      7.255102\n",
       "std       3.908069\n",
       "min       2.035632\n",
       "25%       4.021955\n",
       "50%       7.061072\n",
       "75%      10.035808\n",
       "max      14.143966\n",
       "Name: duration, dtype: float64"
      ]
     },
     "execution_count": 31,
     "metadata": {},
     "output_type": "execute_result"
    }
   ],
   "source": [
    "data_rides.query('distance < 50')['duration'].describe()"
   ]
  },
  {
   "cell_type": "markdown",
   "id": "8ce77be3",
   "metadata": {},
   "source": [
    "* Вероятно, как минимум в половине случаев это просто очень короткие поездки (менее 7 минут).  \n",
    "Для остальных случаев могли возникнуть, например, проблемы с приложением или самокатом, либо пользователи проехали такое количество пути по каким-то своим причинам.\n"
   ]
  },
  {
   "cell_type": "code",
   "execution_count": 32,
   "id": "1f70c6d1",
   "metadata": {},
   "outputs": [
    {
     "data": {
      "image/png": "[encoded data removed]",
      "text/plain": [
       "<Figure size 800x500 with 1 Axes>"
      ]
     },
     "metadata": {},
     "output_type": "display_data"
    },
    {
     "name": "stdout",
     "output_type": "stream",
     "text": [
      "max:  5625.717298360568\n",
      "min:  693.7317969370258\n"
     ]
    }
   ],
   "source": [
    "# Диаграмма размаха\n",
    "data_rides['distance'].plot.box(figsize=(8, 5))\n",
    "\n",
    "# Добавляем название диаграммы и подписываем оси \n",
    "plt.title('Диаграмма размаха: Поездки')\n",
    "plt.ylabel('Расстояние одной поездки, м')\n",
    "\n",
    "# Указываем min и max значения\n",
    "plt.annotate('Максимальное значение, \\n не являющееся \\n выбросом', xy=(1.05, 5625),  xycoords='data',\n",
    "            xytext=(1.2, 5630), textcoords='data',\n",
    "            arrowprops=dict(facecolor='black'))\n",
    "plt.annotate('Минимальное значение, \\n не являющееся \\n выбросом', xy=(1.05, 693),  xycoords='data',\n",
    "            xytext=(1.2, 693), textcoords='data',\n",
    "            arrowprops=dict(facecolor='black'))\n",
    "\n",
    "# Выводим график\n",
    "plt.show()\n",
    "\n",
    "# Определим минимальное и максимальное значения, не являющиеся выбросами\n",
    "print ('max: ', data_rides['distance'].quantile(0.75) + stats.iqr(data_rides['distance']) * 1.5)\n",
    "print ('min: ', data_rides['distance'].quantile(0.25) - stats.iqr(data_rides['distance']) * 1.5)"
   ]
  },
  {
   "cell_type": "markdown",
   "id": "22d99c7c",
   "metadata": {},
   "source": [
    "* по диаграмме размаха выбросами не являются значения примерно от 690 до 5626 метров"
   ]
  },
  {
   "cell_type": "markdown",
   "id": "ea6f3cdd",
   "metadata": {},
   "source": [
    "Тем не менее, пока не будем удалять эти значения.  \n",
    "Вероятно, они могут потребоваться в будущем для анализа очень малых или очень больших преодоленных расстояний."
   ]
  },
  {
   "cell_type": "markdown",
   "id": "82f86eae",
   "metadata": {},
   "source": [
    "Определим основные характеристики параметра `distance`, не включая выбросы:"
   ]
  },
  {
   "cell_type": "code",
   "execution_count": 33,
   "id": "bf49ae40",
   "metadata": {},
   "outputs": [
    {
     "data": {
      "text/plain": [
       "count    17037.000000\n",
       "mean      3191.384705\n",
       "std        929.713269\n",
       "min        691.301162\n",
       "25%       2643.393235\n",
       "50%       3173.866773\n",
       "75%       3806.173406\n",
       "max       5626.252803\n",
       "Name: distance, dtype: float64"
      ]
     },
     "execution_count": 33,
     "metadata": {},
     "output_type": "execute_result"
    }
   ],
   "source": [
    "data_rides.query('distance > 690 and distance < 5630')['distance'].describe()"
   ]
  },
  {
   "cell_type": "code",
   "execution_count": 34,
   "id": "bdc189a5",
   "metadata": {},
   "outputs": [
    {
     "name": "stdout",
     "output_type": "stream",
     "text": [
      "Размах:  7210.152061672838\n",
      "Межквартильный размах:  1232.9963753558854\n"
     ]
    }
   ],
   "source": [
    "print ('Размах: ', data_rides['distance'].max() - data_rides['distance'].min())\n",
    "print ('Межквартильный размах: ', stats.iqr(data_rides['distance']))"
   ]
  },
  {
   "cell_type": "code",
   "execution_count": 35,
   "id": "a9c36fb2",
   "metadata": {},
   "outputs": [
    {
     "data": {
      "text/plain": [
       "count    18068.000000\n",
       "mean      3070.659976\n",
       "std       1116.831209\n",
       "min          0.855683\n",
       "25%       2543.226360\n",
       "50%       3133.609994\n",
       "75%       3776.222735\n",
       "max       7211.007745\n",
       "Name: distance, dtype: float64"
      ]
     },
     "execution_count": 35,
     "metadata": {},
     "output_type": "execute_result"
    }
   ],
   "source": [
    "data_rides['distance'].describe()"
   ]
  },
  {
   "cell_type": "markdown",
   "id": "64a90a32",
   "metadata": {},
   "source": [
    "**Вывод:**\n",
    "\n",
    "1. \n",
    "Расстояния, преодолеваемые пользователями за одну поездку, не считая выбросов:\n",
    "* Среднее - 3191 м\n",
    "* Стандартное отклонение - 929.7 м\n",
    "* Минимальное - 691 м  \n",
    "* Максимальное - 5626 м\n",
    "* Размах - 4935 м\n",
    "\n",
    "В половине случаев пользователи проезжают от 2543 м до 3806 метров.  \n",
    "По диаграмме размаха выбросами не являются значения примерно от 690 до 5626 метров.\n",
    "\n",
    "2. \n",
    "С выбросами:\n",
    "* Среднее - 3070 м\n",
    "* Стандартное отклонение - 1116.8 м\n",
    "* Минимальное - 0.86 м  \n",
    "* Максимальное - 7211 м\n",
    "* Размах - 7210 м"
   ]
  },
  {
   "cell_type": "markdown",
   "id": "ec44d310",
   "metadata": {},
   "source": [
    "##### Продолжительность поездок"
   ]
  },
  {
   "cell_type": "code",
   "execution_count": 36,
   "id": "54bf5247",
   "metadata": {},
   "outputs": [
    {
     "data": {
      "image/png": "[encoded data removed]",
      "text/plain": [
       "<Figure size 640x480 with 1 Axes>"
      ]
     },
     "metadata": {},
     "output_type": "display_data"
    }
   ],
   "source": [
    "data_rides['duration'].hist(bins=50)\n",
    "plt.title('Продолжительность поездок, мин', pad=15)\n",
    "plt.ylabel('Количество поездок')\n",
    "plt.xlabel('Длительность поездки, мин')\n",
    "plt.show()"
   ]
  },
  {
   "cell_type": "markdown",
   "id": "de38b486",
   "metadata": {},
   "source": [
    "* Нормальное распределение. В основном поездки длительностью от 10 до 25 минут."
   ]
  },
  {
   "cell_type": "markdown",
   "id": "58938264",
   "metadata": {},
   "source": [
    "Видно выброс в левой части графика, в области от 0 до 2.  \n",
    "Изучим внимательнее."
   ]
  },
  {
   "cell_type": "code",
   "execution_count": 37,
   "id": "c0eafdeb",
   "metadata": {},
   "outputs": [
    {
     "data": {
      "image/png": "[encoded data removed]",
      "text/plain": [
       "<Figure size 640x480 with 1 Axes>"
      ]
     },
     "metadata": {},
     "output_type": "display_data"
    }
   ],
   "source": [
    "data_rides['duration'].hist(range=(0, 2))\n",
    "plt.title('Продолжительность поездок до 2 мин')\n",
    "plt.ylabel('Количество поездок')\n",
    "plt.xlabel('Длительность поездки, мин')\n",
    "plt.show()"
   ]
  },
  {
   "cell_type": "markdown",
   "id": "5a64c77d",
   "metadata": {},
   "source": [
    "- Всего полминуты. Посмотрим данные в этом срезе:"
   ]
  },
  {
   "cell_type": "code",
   "execution_count": 38,
   "id": "0f5c4fed",
   "metadata": {},
   "outputs": [
    {
     "name": "stdout",
     "output_type": "stream",
     "text": [
      "Количество строк с duration = 0.5 минут:  95\n"
     ]
    },
    {
     "data": {
      "text/html": [
       "<div>\n",
       "<style scoped>\n",
       "    .dataframe tbody tr th:only-of-type {\n",
       "        vertical-align: middle;\n",
       "    }\n",
       "\n",
       "    .dataframe tbody tr th {\n",
       "        vertical-align: top;\n",
       "    }\n",
       "\n",
       "    .dataframe thead th {\n",
       "        text-align: right;\n",
       "    }\n",
       "</style>\n",
       "<table border=\"1\" class=\"dataframe\">\n",
       "  <thead>\n",
       "    <tr style=\"text-align: right;\">\n",
       "      <th></th>\n",
       "      <th>user_id</th>\n",
       "      <th>distance</th>\n",
       "      <th>duration</th>\n",
       "      <th>date</th>\n",
       "      <th>month</th>\n",
       "    </tr>\n",
       "  </thead>\n",
       "  <tbody>\n",
       "    <tr>\n",
       "      <th>6531</th>\n",
       "      <td>701</td>\n",
       "      <td>4196.445201</td>\n",
       "      <td>0.5</td>\n",
       "      <td>2021-08-31</td>\n",
       "      <td>8</td>\n",
       "    </tr>\n",
       "    <tr>\n",
       "      <th>6570</th>\n",
       "      <td>704</td>\n",
       "      <td>4830.824371</td>\n",
       "      <td>0.5</td>\n",
       "      <td>2021-10-14</td>\n",
       "      <td>10</td>\n",
       "    </tr>\n",
       "    <tr>\n",
       "      <th>6680</th>\n",
       "      <td>712</td>\n",
       "      <td>4684.004397</td>\n",
       "      <td>0.5</td>\n",
       "      <td>2021-03-04</td>\n",
       "      <td>3</td>\n",
       "    </tr>\n",
       "    <tr>\n",
       "      <th>6695</th>\n",
       "      <td>713</td>\n",
       "      <td>5215.642710</td>\n",
       "      <td>0.5</td>\n",
       "      <td>2021-02-25</td>\n",
       "      <td>2</td>\n",
       "    </tr>\n",
       "    <tr>\n",
       "      <th>6768</th>\n",
       "      <td>718</td>\n",
       "      <td>5197.436649</td>\n",
       "      <td>0.5</td>\n",
       "      <td>2021-02-11</td>\n",
       "      <td>2</td>\n",
       "    </tr>\n",
       "  </tbody>\n",
       "</table>\n",
       "</div>"
      ],
      "text/plain": [
       "      user_id     distance  duration       date  month\n",
       "6531      701  4196.445201       0.5 2021-08-31      8\n",
       "6570      704  4830.824371       0.5 2021-10-14     10\n",
       "6680      712  4684.004397       0.5 2021-03-04      3\n",
       "6695      713  5215.642710       0.5 2021-02-25      2\n",
       "6768      718  5197.436649       0.5 2021-02-11      2"
      ]
     },
     "execution_count": 38,
     "metadata": {},
     "output_type": "execute_result"
    }
   ],
   "source": [
    "print ('Количество строк с duration = 0.5 минут: ', len(data_rides.query('duration == 0.5')))\n",
    "data_rides.query('duration == 0.5').head()"
   ]
  },
  {
   "cell_type": "markdown",
   "id": "a3b908ee",
   "metadata": {},
   "source": [
    "Посмотрим, какие дистанции они при этом проезжали:"
   ]
  },
  {
   "cell_type": "code",
   "execution_count": 39,
   "id": "dbf54956",
   "metadata": {},
   "outputs": [
    {
     "data": {
      "image/png": "[encoded data removed]",
      "text/plain": [
       "<Figure size 640x480 with 1 Axes>"
      ]
     },
     "metadata": {},
     "output_type": "display_data"
    },
    {
     "data": {
      "text/plain": [
       "count      95.000000\n",
       "mean     5113.176549\n",
       "std       658.254104\n",
       "min      4030.308008\n",
       "25%      4611.510820\n",
       "50%      5052.769411\n",
       "75%      5488.459099\n",
       "max      7211.007745\n",
       "Name: distance, dtype: float64"
      ]
     },
     "execution_count": 39,
     "metadata": {},
     "output_type": "execute_result"
    }
   ],
   "source": [
    "data_rides.query('duration == 0.5')['distance'].hist(bins=15)\n",
    "plt.title('Дистанции поездок длительностью 0.5 мин', pad=15)\n",
    "plt.ylabel('Количество поездок')\n",
    "plt.xlabel('Расстояние, м')\n",
    "plt.show()\n",
    "\n",
    "data_rides.query('duration == 0.5')['distance'].describe()"
   ]
  },
  {
   "cell_type": "markdown",
   "id": "02905b22",
   "metadata": {},
   "source": [
    "* За время 0.5 минут пользователи проезжали от 4 до 7 км.   \n",
    "Видимо, произошла какая-то техническая ошибка при подсчете времени во время поездки."
   ]
  },
  {
   "cell_type": "markdown",
   "id": "6f5ec1a3",
   "metadata": {},
   "source": [
    "Определим основные характеристики параметра `duration` по data_rides_good:"
   ]
  },
  {
   "cell_type": "code",
   "execution_count": 40,
   "id": "7ae1c2a6",
   "metadata": {},
   "outputs": [
    {
     "data": {
      "text/plain": [
       "count    18068.000000\n",
       "mean        17.805011\n",
       "std          6.091051\n",
       "min          0.500000\n",
       "25%         13.597563\n",
       "50%         17.678395\n",
       "75%         21.724800\n",
       "max         40.823963\n",
       "Name: duration, dtype: float64"
      ]
     },
     "execution_count": 40,
     "metadata": {},
     "output_type": "execute_result"
    }
   ],
   "source": [
    "data_rides['duration'].describe()"
   ]
  },
  {
   "cell_type": "code",
   "execution_count": 41,
   "id": "fd89a26c",
   "metadata": {},
   "outputs": [
    {
     "name": "stdout",
     "output_type": "stream",
     "text": [
      "Размах:  40.32396261922424\n",
      "Межквартильный размах:  8.127237170546415\n"
     ]
    }
   ],
   "source": [
    "print ('Размах: ', data_rides['duration'].max() - data_rides['duration'].min())\n",
    "print ('Межквартильный размах: ', stats.iqr(data_rides['duration']))"
   ]
  },
  {
   "cell_type": "markdown",
   "id": "f0c8ddbc",
   "metadata": {},
   "source": [
    "Диаграмма размаха:"
   ]
  },
  {
   "cell_type": "code",
   "execution_count": 42,
   "id": "36b193b9",
   "metadata": {},
   "outputs": [
    {
     "data": {
      "image/png": "[encoded data removed]",
      "text/plain": [
       "<Figure size 640x480 with 1 Axes>"
      ]
     },
     "metadata": {},
     "output_type": "display_data"
    }
   ],
   "source": [
    "data_rides['duration'].plot.box()\n",
    "\n",
    "# Добавляем названия и подписываем оси\n",
    "plt.title('Диаграмма размаха: длительность поездки', pad=15)\n",
    "plt.ylabel('Длительность поездки, мин')\n",
    "\n",
    "plt.show()"
   ]
  },
  {
   "cell_type": "markdown",
   "id": "aa41fd18",
   "metadata": {},
   "source": [
    "* Выбросами могут считаться значения примерно до 2 и от 35 минут."
   ]
  },
  {
   "cell_type": "markdown",
   "id": "3af4f92d",
   "metadata": {},
   "source": [
    "_____\n",
    "**Вывод:**\n",
    "\n",
    "После удаления выброса в 0.5 мин характеристики параметра \"длиность поездки\" следующие:\n",
    "* Средняя - 17,9 минут\n",
    "* Стандартное отклонение 5,97 минут\n",
    "* Максимальная - 40,8 минут\n",
    "* Минимальная - 2 минуты\n",
    "* Размах - 39 минут\n",
    "\n",
    "В половине случаев длительность поездки составляет от 13,7 до 21,7 минут.  \n",
    "Нормальными можем считать значения от 2 до 35 минут.\n",
    "________"
   ]
  },
  {
   "cell_type": "markdown",
   "id": "58263bbc",
   "metadata": {},
   "source": [
    "##### **Вывод по 3 разделу**"
   ]
  },
  {
   "cell_type": "markdown",
   "id": "27fb1a1e",
   "metadata": {},
   "source": [
    "**Пользователи:**\n",
    "\n",
    "В выборке присутствует 8 городов с примерно одинаковой долей в выборке (от 11% до 14%).  \n",
    "* Самый часто встречаемый город: Пятигорск; \n",
    "* Самый редко встречаемый город - Москва.\n",
    "\n",
    "54% пользователей - без подписки.  \n",
    "46% пользователей - подписка ultra.\n",
    "\n",
    "Средний возраст - 25.    \n",
    "От 12 до 43 лет.  \n",
    "В половине случаев возраст пользователей составляет от 22 до 28 лет.\n",
    "\n",
    "**Поездки:**\n",
    "\n",
    "Среднее расстояние - 3070 м.  \n",
    "В половине случаев - от 2543 м до 3776 метров.    \n",
    "Нормальными можем считать значения от 900 до 6000 метров.  \n",
    "\n",
    "Средняя длительность - 17,9 минут   \n",
    "В половине случаев длительность поездки составляет от 13,7 до 21,7 минут.  \n",
    "Нормальными можем считать значения от 2 до 35 минут. "
   ]
  },
  {
   "cell_type": "markdown",
   "id": "03adf7ca",
   "metadata": {},
   "source": [
    "#### **Шаг 4.** Объединение данных"
   ]
  },
  {
   "cell_type": "markdown",
   "id": "00771b21",
   "metadata": {},
   "source": [
    "#####  Объединим данные о пользователях, поездках и подписках в один датафрейм. "
   ]
  },
  {
   "cell_type": "markdown",
   "id": "0b65dc15",
   "metadata": {},
   "source": [
    "1. Данные о поездках с данными о пользователях:"
   ]
  },
  {
   "cell_type": "code",
   "execution_count": 44,
   "id": "2cd66c09",
   "metadata": {},
   "outputs": [
    {
     "data": {
      "text/html": [
       "<div>\n",
       "<style scoped>\n",
       "    .dataframe tbody tr th:only-of-type {\n",
       "        vertical-align: middle;\n",
       "    }\n",
       "\n",
       "    .dataframe tbody tr th {\n",
       "        vertical-align: top;\n",
       "    }\n",
       "\n",
       "    .dataframe thead th {\n",
       "        text-align: right;\n",
       "    }\n",
       "</style>\n",
       "<table border=\"1\" class=\"dataframe\">\n",
       "  <thead>\n",
       "    <tr style=\"text-align: right;\">\n",
       "      <th></th>\n",
       "      <th>user_id</th>\n",
       "      <th>distance</th>\n",
       "      <th>duration</th>\n",
       "      <th>date</th>\n",
       "      <th>month</th>\n",
       "      <th>name</th>\n",
       "      <th>age</th>\n",
       "      <th>city</th>\n",
       "      <th>subscription_type</th>\n",
       "    </tr>\n",
       "  </thead>\n",
       "  <tbody>\n",
       "    <tr>\n",
       "      <th>0</th>\n",
       "      <td>1</td>\n",
       "      <td>4409.919140</td>\n",
       "      <td>25.599769</td>\n",
       "      <td>2021-01-01</td>\n",
       "      <td>1</td>\n",
       "      <td>Кира</td>\n",
       "      <td>22</td>\n",
       "      <td>Тюмень</td>\n",
       "      <td>ultra</td>\n",
       "    </tr>\n",
       "    <tr>\n",
       "      <th>1</th>\n",
       "      <td>1</td>\n",
       "      <td>2617.592153</td>\n",
       "      <td>15.816871</td>\n",
       "      <td>2021-01-18</td>\n",
       "      <td>1</td>\n",
       "      <td>Кира</td>\n",
       "      <td>22</td>\n",
       "      <td>Тюмень</td>\n",
       "      <td>ultra</td>\n",
       "    </tr>\n",
       "  </tbody>\n",
       "</table>\n",
       "</div>"
      ],
      "text/plain": [
       "   user_id     distance   duration       date  month  name  age    city  \\\n",
       "0        1  4409.919140  25.599769 2021-01-01      1  Кира   22  Тюмень   \n",
       "1        1  2617.592153  15.816871 2021-01-18      1  Кира   22  Тюмень   \n",
       "\n",
       "  subscription_type  \n",
       "0             ultra  \n",
       "1             ultra  "
      ]
     },
     "execution_count": 44,
     "metadata": {},
     "output_type": "execute_result"
    }
   ],
   "source": [
    "data_common = data_rides.merge(data_users, on='user_id', how='outer')\n",
    "data_common.head(2)"
   ]
  },
  {
   "cell_type": "markdown",
   "id": "aeb2a752",
   "metadata": {},
   "source": [
    "2. Данные о поездках и пользователях с данными о подписках:"
   ]
  },
  {
   "cell_type": "code",
   "execution_count": 45,
   "id": "a856ffa6",
   "metadata": {},
   "outputs": [
    {
     "data": {
      "text/html": [
       "<div>\n",
       "<style scoped>\n",
       "    .dataframe tbody tr th:only-of-type {\n",
       "        vertical-align: middle;\n",
       "    }\n",
       "\n",
       "    .dataframe tbody tr th {\n",
       "        vertical-align: top;\n",
       "    }\n",
       "\n",
       "    .dataframe thead th {\n",
       "        text-align: right;\n",
       "    }\n",
       "</style>\n",
       "<table border=\"1\" class=\"dataframe\">\n",
       "  <thead>\n",
       "    <tr style=\"text-align: right;\">\n",
       "      <th></th>\n",
       "      <th>user_id</th>\n",
       "      <th>distance</th>\n",
       "      <th>duration</th>\n",
       "      <th>date</th>\n",
       "      <th>month</th>\n",
       "      <th>name</th>\n",
       "      <th>age</th>\n",
       "      <th>city</th>\n",
       "      <th>subscription_type</th>\n",
       "      <th>minute_price</th>\n",
       "      <th>start_ride_price</th>\n",
       "      <th>subscription_fee</th>\n",
       "    </tr>\n",
       "  </thead>\n",
       "  <tbody>\n",
       "    <tr>\n",
       "      <th>0</th>\n",
       "      <td>1</td>\n",
       "      <td>4409.919140</td>\n",
       "      <td>25.599769</td>\n",
       "      <td>2021-01-01</td>\n",
       "      <td>1</td>\n",
       "      <td>Кира</td>\n",
       "      <td>22</td>\n",
       "      <td>Тюмень</td>\n",
       "      <td>ultra</td>\n",
       "      <td>6</td>\n",
       "      <td>0</td>\n",
       "      <td>199</td>\n",
       "    </tr>\n",
       "    <tr>\n",
       "      <th>1</th>\n",
       "      <td>1</td>\n",
       "      <td>2617.592153</td>\n",
       "      <td>15.816871</td>\n",
       "      <td>2021-01-18</td>\n",
       "      <td>1</td>\n",
       "      <td>Кира</td>\n",
       "      <td>22</td>\n",
       "      <td>Тюмень</td>\n",
       "      <td>ultra</td>\n",
       "      <td>6</td>\n",
       "      <td>0</td>\n",
       "      <td>199</td>\n",
       "    </tr>\n",
       "  </tbody>\n",
       "</table>\n",
       "</div>"
      ],
      "text/plain": [
       "   user_id     distance   duration       date  month  name  age    city  \\\n",
       "0        1  4409.919140  25.599769 2021-01-01      1  Кира   22  Тюмень   \n",
       "1        1  2617.592153  15.816871 2021-01-18      1  Кира   22  Тюмень   \n",
       "\n",
       "  subscription_type  minute_price  start_ride_price  subscription_fee  \n",
       "0             ultra             6                 0               199  \n",
       "1             ultra             6                 0               199  "
      ]
     },
     "execution_count": 45,
     "metadata": {},
     "output_type": "execute_result"
    }
   ],
   "source": [
    "data_common = data_common.merge(data_subscriptions, on='subscription_type', how='outer')\n",
    "data_common.head(2)"
   ]
  },
  {
   "cell_type": "markdown",
   "id": "1972b2aa",
   "metadata": {},
   "source": [
    "Проверим количество строк датафрейма до и после объединения, чтобы убедиться, что никакие данные не были утеряны и не были добавлены лишние:"
   ]
  },
  {
   "cell_type": "code",
   "execution_count": 46,
   "id": "9f052326",
   "metadata": {},
   "outputs": [
    {
     "name": "stdout",
     "output_type": "stream",
     "text": [
      "Количество строк до объединения: \n",
      " 18068\n",
      "Количество строк после объединения: \n",
      " 18068\n"
     ]
    }
   ],
   "source": [
    "print ('Количество строк до объединения: \\n', len(data_rides))\n",
    "print ('Количество строк после объединения: \\n', len(data_common))"
   ]
  },
  {
   "cell_type": "markdown",
   "id": "dc7c94d9",
   "metadata": {},
   "source": [
    "* Количество строк равное"
   ]
  },
  {
   "cell_type": "markdown",
   "id": "fd95ce86",
   "metadata": {},
   "source": [
    "#####  Создадим разные датафреймы с данными для пользователей с подпиской и без подписки."
   ]
  },
  {
   "cell_type": "markdown",
   "id": "b335ba6c",
   "metadata": {},
   "source": [
    "1. Без подписки:"
   ]
  },
  {
   "cell_type": "code",
   "execution_count": 47,
   "id": "4929afc0",
   "metadata": {},
   "outputs": [
    {
     "data": {
      "text/html": [
       "<div>\n",
       "<style scoped>\n",
       "    .dataframe tbody tr th:only-of-type {\n",
       "        vertical-align: middle;\n",
       "    }\n",
       "\n",
       "    .dataframe tbody tr th {\n",
       "        vertical-align: top;\n",
       "    }\n",
       "\n",
       "    .dataframe thead th {\n",
       "        text-align: right;\n",
       "    }\n",
       "</style>\n",
       "<table border=\"1\" class=\"dataframe\">\n",
       "  <thead>\n",
       "    <tr style=\"text-align: right;\">\n",
       "      <th></th>\n",
       "      <th>user_id</th>\n",
       "      <th>distance</th>\n",
       "      <th>duration</th>\n",
       "      <th>date</th>\n",
       "      <th>month</th>\n",
       "      <th>name</th>\n",
       "      <th>age</th>\n",
       "      <th>city</th>\n",
       "      <th>subscription_type</th>\n",
       "      <th>minute_price</th>\n",
       "      <th>start_ride_price</th>\n",
       "      <th>subscription_fee</th>\n",
       "    </tr>\n",
       "  </thead>\n",
       "  <tbody>\n",
       "    <tr>\n",
       "      <th>6500</th>\n",
       "      <td>700</td>\n",
       "      <td>2515.690719</td>\n",
       "      <td>14.944286</td>\n",
       "      <td>2021-01-02</td>\n",
       "      <td>1</td>\n",
       "      <td>Айдар</td>\n",
       "      <td>22</td>\n",
       "      <td>Омск</td>\n",
       "      <td>free</td>\n",
       "      <td>8</td>\n",
       "      <td>50</td>\n",
       "      <td>0</td>\n",
       "    </tr>\n",
       "    <tr>\n",
       "      <th>6501</th>\n",
       "      <td>700</td>\n",
       "      <td>846.932642</td>\n",
       "      <td>16.234663</td>\n",
       "      <td>2021-02-01</td>\n",
       "      <td>2</td>\n",
       "      <td>Айдар</td>\n",
       "      <td>22</td>\n",
       "      <td>Омск</td>\n",
       "      <td>free</td>\n",
       "      <td>8</td>\n",
       "      <td>50</td>\n",
       "      <td>0</td>\n",
       "    </tr>\n",
       "    <tr>\n",
       "      <th>6502</th>\n",
       "      <td>700</td>\n",
       "      <td>4004.434142</td>\n",
       "      <td>20.016628</td>\n",
       "      <td>2021-02-04</td>\n",
       "      <td>2</td>\n",
       "      <td>Айдар</td>\n",
       "      <td>22</td>\n",
       "      <td>Омск</td>\n",
       "      <td>free</td>\n",
       "      <td>8</td>\n",
       "      <td>50</td>\n",
       "      <td>0</td>\n",
       "    </tr>\n",
       "    <tr>\n",
       "      <th>6503</th>\n",
       "      <td>700</td>\n",
       "      <td>1205.911290</td>\n",
       "      <td>9.782872</td>\n",
       "      <td>2021-02-10</td>\n",
       "      <td>2</td>\n",
       "      <td>Айдар</td>\n",
       "      <td>22</td>\n",
       "      <td>Омск</td>\n",
       "      <td>free</td>\n",
       "      <td>8</td>\n",
       "      <td>50</td>\n",
       "      <td>0</td>\n",
       "    </tr>\n",
       "    <tr>\n",
       "      <th>6504</th>\n",
       "      <td>700</td>\n",
       "      <td>3047.379435</td>\n",
       "      <td>17.427673</td>\n",
       "      <td>2021-02-14</td>\n",
       "      <td>2</td>\n",
       "      <td>Айдар</td>\n",
       "      <td>22</td>\n",
       "      <td>Омск</td>\n",
       "      <td>free</td>\n",
       "      <td>8</td>\n",
       "      <td>50</td>\n",
       "      <td>0</td>\n",
       "    </tr>\n",
       "  </tbody>\n",
       "</table>\n",
       "</div>"
      ],
      "text/plain": [
       "      user_id     distance   duration       date  month   name  age  city  \\\n",
       "6500      700  2515.690719  14.944286 2021-01-02      1  Айдар   22  Омск   \n",
       "6501      700   846.932642  16.234663 2021-02-01      2  Айдар   22  Омск   \n",
       "6502      700  4004.434142  20.016628 2021-02-04      2  Айдар   22  Омск   \n",
       "6503      700  1205.911290   9.782872 2021-02-10      2  Айдар   22  Омск   \n",
       "6504      700  3047.379435  17.427673 2021-02-14      2  Айдар   22  Омск   \n",
       "\n",
       "     subscription_type  minute_price  start_ride_price  subscription_fee  \n",
       "6500              free             8                50                 0  \n",
       "6501              free             8                50                 0  \n",
       "6502              free             8                50                 0  \n",
       "6503              free             8                50                 0  \n",
       "6504              free             8                50                 0  "
      ]
     },
     "metadata": {},
     "output_type": "display_data"
    },
    {
     "name": "stdout",
     "output_type": "stream",
     "text": [
      "Размер датафейма:  (11568, 12)\n"
     ]
    }
   ],
   "source": [
    "data_common_free = data_common.query('subscription_type == \"free\"')\n",
    "display(data_common_free.head())\n",
    "print ('Размер датафейма: ', data_common_free.shape)"
   ]
  },
  {
   "cell_type": "markdown",
   "id": "e1ac9bac",
   "metadata": {},
   "source": [
    "2. С подпиской:"
   ]
  },
  {
   "cell_type": "code",
   "execution_count": 49,
   "id": "5eff2d51",
   "metadata": {},
   "outputs": [
    {
     "data": {
      "text/html": [
       "<div>\n",
       "<style scoped>\n",
       "    .dataframe tbody tr th:only-of-type {\n",
       "        vertical-align: middle;\n",
       "    }\n",
       "\n",
       "    .dataframe tbody tr th {\n",
       "        vertical-align: top;\n",
       "    }\n",
       "\n",
       "    .dataframe thead th {\n",
       "        text-align: right;\n",
       "    }\n",
       "</style>\n",
       "<table border=\"1\" class=\"dataframe\">\n",
       "  <thead>\n",
       "    <tr style=\"text-align: right;\">\n",
       "      <th></th>\n",
       "      <th>user_id</th>\n",
       "      <th>distance</th>\n",
       "      <th>duration</th>\n",
       "      <th>date</th>\n",
       "      <th>month</th>\n",
       "      <th>name</th>\n",
       "      <th>age</th>\n",
       "      <th>city</th>\n",
       "      <th>subscription_type</th>\n",
       "      <th>minute_price</th>\n",
       "      <th>start_ride_price</th>\n",
       "      <th>subscription_fee</th>\n",
       "    </tr>\n",
       "  </thead>\n",
       "  <tbody>\n",
       "    <tr>\n",
       "      <th>0</th>\n",
       "      <td>1</td>\n",
       "      <td>4409.919140</td>\n",
       "      <td>25.599769</td>\n",
       "      <td>2021-01-01</td>\n",
       "      <td>1</td>\n",
       "      <td>Кира</td>\n",
       "      <td>22</td>\n",
       "      <td>Тюмень</td>\n",
       "      <td>ultra</td>\n",
       "      <td>6</td>\n",
       "      <td>0</td>\n",
       "      <td>199</td>\n",
       "    </tr>\n",
       "    <tr>\n",
       "      <th>1</th>\n",
       "      <td>1</td>\n",
       "      <td>2617.592153</td>\n",
       "      <td>15.816871</td>\n",
       "      <td>2021-01-18</td>\n",
       "      <td>1</td>\n",
       "      <td>Кира</td>\n",
       "      <td>22</td>\n",
       "      <td>Тюмень</td>\n",
       "      <td>ultra</td>\n",
       "      <td>6</td>\n",
       "      <td>0</td>\n",
       "      <td>199</td>\n",
       "    </tr>\n",
       "  </tbody>\n",
       "</table>\n",
       "</div>"
      ],
      "text/plain": [
       "   user_id     distance   duration       date  month  name  age    city  \\\n",
       "0        1  4409.919140  25.599769 2021-01-01      1  Кира   22  Тюмень   \n",
       "1        1  2617.592153  15.816871 2021-01-18      1  Кира   22  Тюмень   \n",
       "\n",
       "  subscription_type  minute_price  start_ride_price  subscription_fee  \n",
       "0             ultra             6                 0               199  \n",
       "1             ultra             6                 0               199  "
      ]
     },
     "metadata": {},
     "output_type": "display_data"
    },
    {
     "name": "stdout",
     "output_type": "stream",
     "text": [
      "Размер датафейма:  (6500, 12)\n"
     ]
    }
   ],
   "source": [
    "data_common_ultra = data_common.query('subscription_type == \"ultra\"')\n",
    "display(data_common_ultra.head(2))\n",
    "print ('Размер датафейма: ', data_common_ultra.shape)"
   ]
  },
  {
   "cell_type": "markdown",
   "id": "fab0c777",
   "metadata": {},
   "source": [
    "#####  Визуализируем информацию о расстоянии и времени поездок для пользователей обеих категорий."
   ]
  },
  {
   "cell_type": "markdown",
   "id": "199dd567",
   "metadata": {},
   "source": [
    "######  Без подписки"
   ]
  },
  {
   "cell_type": "code",
   "execution_count": 50,
   "id": "7807000b",
   "metadata": {},
   "outputs": [
    {
     "data": {
      "image/png": "[encoded data removed]",
      "text/plain": [
       "<Figure size 640x480 with 1 Axes>"
      ]
     },
     "metadata": {},
     "output_type": "display_data"
    },
    {
     "data": {
      "image/png": "[encoded data removed]",
      "text/plain": [
       "<Figure size 640x480 with 1 Axes>"
      ]
     },
     "metadata": {},
     "output_type": "display_data"
    }
   ],
   "source": [
    "data_common_free['distance'].hist(bins=50)\n",
    "plt.title('Расстояния пользователей без подписки')\n",
    "plt.xlabel('Расстояние, м')\n",
    "plt.ylabel('Количество пользователей')\n",
    "plt.show()\n",
    "\n",
    "data_common_free['duration'].hist(bins=50)\n",
    "plt.title('Длительность поездок пользователей без подписки')\n",
    "plt.xlabel('Длительность, мин')\n",
    "plt.ylabel('Количество пользователей')\n",
    "plt.show()"
   ]
  },
  {
   "cell_type": "code",
   "execution_count": 51,
   "id": "4d916e3c",
   "metadata": {},
   "outputs": [
    {
     "name": "stdout",
     "output_type": "stream",
     "text": [
      "distance:\n",
      "count    11568.000000\n",
      "mean      3045.495282\n",
      "std       1246.173806\n",
      "min          0.855683\n",
      "25%       2366.562689\n",
      "50%       3114.648465\n",
      "75%       3905.697894\n",
      "max       7211.007745\n",
      "Name: distance, dtype: float64 \n",
      "\n",
      "duration:\n",
      "count    11568.000000\n",
      "mean        17.390909\n",
      "std          6.326803\n",
      "min          0.500000\n",
      "25%         12.958437\n",
      "50%         17.326890\n",
      "75%         21.594071\n",
      "max         34.948498\n",
      "Name: duration, dtype: float64\n"
     ]
    }
   ],
   "source": [
    "print ('distance:') \n",
    "print (data_common_free['distance'].describe(), '\\n')\n",
    "\n",
    "print ('duration:')\n",
    "print (data_common_free['duration'].describe())"
   ]
  },
  {
   "cell_type": "markdown",
   "id": "eb44e1ab",
   "metadata": {},
   "source": [
    "######  С подпиской ultra"
   ]
  },
  {
   "cell_type": "code",
   "execution_count": 52,
   "id": "515084c0",
   "metadata": {},
   "outputs": [
    {
     "data": {
      "image/png": "[encoded data removed]",
      "text/plain": [
       "<Figure size 432x288 with 1 Axes>"
      ]
     },
     "metadata": {
      "needs_background": "light"
     },
     "output_type": "display_data"
    },
    {
     "data": {
      "image/png": "[encoded data removed]",
      "text/plain": [
       "<Figure size 432x288 with 1 Axes>"
      ]
     },
     "metadata": {
      "needs_background": "light"
     },
     "output_type": "display_data"
    }
   ],
   "source": [
    "data_common_ultra['distance'].hist(bins=50)\n",
    "plt.title('Расстояния пользователей с подпиской')\n",
    "plt.xlabel('Расстояние, м')\n",
    "plt.ylabel('Количество пользователей')\n",
    "plt.show()\n",
    "\n",
    "data_common_ultra['duration'].hist(bins=50)\n",
    "plt.title('Длительность поездок пользователей с подпиской')\n",
    "plt.xlabel('Длительность, мин')\n",
    "plt.ylabel('Количество пользователей')\n",
    "plt.show()"
   ]
  },
  {
   "cell_type": "markdown",
   "id": "7e34dc61",
   "metadata": {},
   "source": [
    "Объединим графики по одному параметру для разных групп пользователей:"
   ]
  },
  {
   "cell_type": "code",
   "execution_count": 51,
   "id": "2b9bd160",
   "metadata": {},
   "outputs": [
    {
     "data": {
      "image/png": "[encoded data removed]",
      "text/plain": [
       "<Figure size 640x480 with 1 Axes>"
      ]
     },
     "metadata": {},
     "output_type": "display_data"
    },
    {
     "data": {
      "image/png": "[encoded data removed]",
      "text/plain": [
       "<Figure size 640x480 with 1 Axes>"
      ]
     },
     "metadata": {},
     "output_type": "display_data"
    }
   ],
   "source": [
    "# Для 'distance'\n",
    "plt.hist(data_common_free['distance'], bins=80, alpha=0.7, label='Пользователи без подписки')\n",
    "plt.hist(data_common_ultra['distance'], bins=80, color='green', alpha=0.7, label='Пользователи с подпиской')\n",
    "plt.title('Расстояния, проезжаемые разными группами пользователей')\n",
    "plt.ylabel('Количество пользователей')\n",
    "plt.xlabel('Расстояние, м')\n",
    "plt.legend()\n",
    "plt.show()\n",
    "\n",
    "# Для 'duration'\n",
    "plt.hist(data_common_free['duration'], bins=80, alpha=0.7, label='Пользователи без подписки')\n",
    "plt.hist(data_common_ultra['duration'], bins=80, color='green', alpha=0.7, label='Пользователи с подпиской')\n",
    "plt.title('Длительности поездок для разных групп пользователей')\n",
    "plt.ylabel('Количество пользователей')\n",
    "plt.xlabel('Длительность, мин')\n",
    "plt.legend()\n",
    "plt.show()"
   ]
  },
  {
   "cell_type": "code",
   "execution_count": 52,
   "id": "5b056129",
   "metadata": {},
   "outputs": [
    {
     "name": "stdout",
     "output_type": "stream",
     "text": [
      "distance:\n",
      "count    6500.000000\n",
      "mean     3115.445388\n",
      "std       836.895330\n",
      "min       244.210438\n",
      "25%      2785.444017\n",
      "50%      3148.637229\n",
      "75%      3560.574425\n",
      "max      5699.769662\n",
      "Name: distance, dtype: float64 \n",
      "\n",
      "duration:\n",
      "count    6500.000000\n",
      "mean       18.541985\n",
      "std         5.572048\n",
      "min         3.760353\n",
      "25%        14.524654\n",
      "50%        18.178153\n",
      "75%        21.884129\n",
      "max        40.823963\n",
      "Name: duration, dtype: float64\n"
     ]
    }
   ],
   "source": [
    "print ('distance:') \n",
    "print (data_common_ultra['distance'].describe(), '\\n')\n",
    "\n",
    "print ('duration:')\n",
    "print (data_common_ultra['duration'].describe())"
   ]
  },
  {
   "cell_type": "markdown",
   "id": "14085efe",
   "metadata": {},
   "source": [
    "**Вывод по гистограммам**\n",
    "\n",
    "Расстояния:\n",
    "1. Расстояние поездок менее 1 км намного чаще встречается у пользователей без подписки.\n",
    "2. Разброс и максимальное расстояние поздки больше у пользователей без подписки.\n",
    "3. Межквартильный размах расстояний больше у пользователей без подписки.\n",
    "\n",
    "Длительности:\n",
    "1. Раброс и максимальная продолжительность поездки больше у пользователей с подпиской. \n",
    "2. Выбросы в duration в районе 0.5 минут, обнаруженные ранее в *3.5 Продолжительность поездок*, наблюдаем только для пользователей без подписки. \n",
    "3. Межквартильный размах длительностей больше у пользователей без подписки.\n",
    "___________"
   ]
  },
  {
   "cell_type": "markdown",
   "id": "ff7d7c73",
   "metadata": {},
   "source": [
    "##### **Вывод по 4 разделу**"
   ]
  },
  {
   "cell_type": "markdown",
   "id": "4177fba3",
   "metadata": {},
   "source": [
    "Создан единый датафрейм с информацией о поездках, пользователях и подписках.  \n",
    "Созданы дополнительные 2 датафрейма для пользователей с подпиской и без нее. \n",
    "\n",
    "По данным о поездках пользователей двух групп можно сделать следующие выводы:\n",
    "* Пользователи без подписки:   \n",
    " 1. Чаще, чем пользователи с подпиской, проезжают менее 1 км\n",
    " 2. Шире межквартильный размах для расстояния и длительности поездки (размах 50% значений)\n",
    " 3. Есть подозрительный выброс в длительности поездки в районе 0.5 минут\n",
    "\n",
    "\n",
    "* Пользователи с подпиской:  \n",
    " 1. Больше разброс и максимальная продолжительность поездки\n",
    " 2. Уже межквартильный размах для расстояния и длительности поездки (размах 50% значений)\n",
    "________________"
   ]
  },
  {
   "cell_type": "markdown",
   "id": "ea86586f",
   "metadata": {},
   "source": [
    "#### **Шаг 5.** Подсчёт выручки"
   ]
  },
  {
   "cell_type": "markdown",
   "id": "b0607d56",
   "metadata": {},
   "source": [
    "##### Создим датафрейм с агрегированными данными о поездках на основе датафрейма с объединёнными данными из шага 4."
   ]
  },
  {
   "cell_type": "markdown",
   "id": "038adc9c",
   "metadata": {},
   "source": [
    "Для пользователя за каждый месяц найдем:   \n",
    "* суммарное расстояние, количество поездок и суммарное время."
   ]
  },
  {
   "cell_type": "code",
   "execution_count": 53,
   "id": "ce7024b4",
   "metadata": {},
   "outputs": [
    {
     "data": {
      "text/html": [
       "<div>\n",
       "<style scoped>\n",
       "    .dataframe tbody tr th:only-of-type {\n",
       "        vertical-align: middle;\n",
       "    }\n",
       "\n",
       "    .dataframe tbody tr th {\n",
       "        vertical-align: top;\n",
       "    }\n",
       "\n",
       "    .dataframe thead tr th {\n",
       "        text-align: left;\n",
       "    }\n",
       "\n",
       "    .dataframe thead tr:last-of-type th {\n",
       "        text-align: right;\n",
       "    }\n",
       "</style>\n",
       "<table border=\"1\" class=\"dataframe\">\n",
       "  <thead>\n",
       "    <tr>\n",
       "      <th></th>\n",
       "      <th></th>\n",
       "      <th colspan=\"2\" halign=\"left\">distance</th>\n",
       "      <th>duration</th>\n",
       "    </tr>\n",
       "    <tr>\n",
       "      <th></th>\n",
       "      <th></th>\n",
       "      <th>count</th>\n",
       "      <th>sum</th>\n",
       "      <th>sum</th>\n",
       "    </tr>\n",
       "    <tr>\n",
       "      <th>user_id</th>\n",
       "      <th>month</th>\n",
       "      <th></th>\n",
       "      <th></th>\n",
       "      <th></th>\n",
       "    </tr>\n",
       "  </thead>\n",
       "  <tbody>\n",
       "    <tr>\n",
       "      <th rowspan=\"6\" valign=\"top\">1</th>\n",
       "      <th>1</th>\n",
       "      <td>2</td>\n",
       "      <td>7027.511294</td>\n",
       "      <td>41.416640</td>\n",
       "    </tr>\n",
       "    <tr>\n",
       "      <th>4</th>\n",
       "      <td>1</td>\n",
       "      <td>754.159807</td>\n",
       "      <td>6.232113</td>\n",
       "    </tr>\n",
       "    <tr>\n",
       "      <th>8</th>\n",
       "      <td>2</td>\n",
       "      <td>6723.470560</td>\n",
       "      <td>44.776802</td>\n",
       "    </tr>\n",
       "    <tr>\n",
       "      <th>10</th>\n",
       "      <td>2</td>\n",
       "      <td>5809.911100</td>\n",
       "      <td>31.578017</td>\n",
       "    </tr>\n",
       "    <tr>\n",
       "      <th>11</th>\n",
       "      <td>3</td>\n",
       "      <td>7003.499363</td>\n",
       "      <td>53.397424</td>\n",
       "    </tr>\n",
       "    <tr>\n",
       "      <th>12</th>\n",
       "      <td>2</td>\n",
       "      <td>6751.629942</td>\n",
       "      <td>27.203912</td>\n",
       "    </tr>\n",
       "    <tr>\n",
       "      <th rowspan=\"4\" valign=\"top\">2</th>\n",
       "      <th>3</th>\n",
       "      <td>3</td>\n",
       "      <td>10187.723006</td>\n",
       "      <td>60.959959</td>\n",
       "    </tr>\n",
       "    <tr>\n",
       "      <th>4</th>\n",
       "      <td>2</td>\n",
       "      <td>6164.381824</td>\n",
       "      <td>39.048633</td>\n",
       "    </tr>\n",
       "    <tr>\n",
       "      <th>6</th>\n",
       "      <td>1</td>\n",
       "      <td>3255.338202</td>\n",
       "      <td>13.851127</td>\n",
       "    </tr>\n",
       "    <tr>\n",
       "      <th>7</th>\n",
       "      <td>2</td>\n",
       "      <td>6780.722964</td>\n",
       "      <td>46.170157</td>\n",
       "    </tr>\n",
       "  </tbody>\n",
       "</table>\n",
       "</div>"
      ],
      "text/plain": [
       "              distance                 duration\n",
       "                 count           sum        sum\n",
       "user_id month                                  \n",
       "1       1            2   7027.511294  41.416640\n",
       "        4            1    754.159807   6.232113\n",
       "        8            2   6723.470560  44.776802\n",
       "        10           2   5809.911100  31.578017\n",
       "        11           3   7003.499363  53.397424\n",
       "        12           2   6751.629942  27.203912\n",
       "2       3            3  10187.723006  60.959959\n",
       "        4            2   6164.381824  39.048633\n",
       "        6            1   3255.338202  13.851127\n",
       "        7            2   6780.722964  46.170157"
      ]
     },
     "execution_count": 53,
     "metadata": {},
     "output_type": "execute_result"
    }
   ],
   "source": [
    "data_aggregated = data_common.pivot_table(index = ['user_id', 'month'], values = ['distance', 'duration'], \n",
    "                                          aggfunc = {'duration': sum, 'distance': [sum, 'count']})\n",
    "data_aggregated.head(10)"
   ]
  },
  {
   "cell_type": "markdown",
   "id": "a919193d",
   "metadata": {},
   "source": [
    "Переименуем столбцы:"
   ]
  },
  {
   "cell_type": "code",
   "execution_count": 54,
   "id": "7e387c9f",
   "metadata": {},
   "outputs": [
    {
     "data": {
      "text/html": [
       "<div>\n",
       "<style scoped>\n",
       "    .dataframe tbody tr th:only-of-type {\n",
       "        vertical-align: middle;\n",
       "    }\n",
       "\n",
       "    .dataframe tbody tr th {\n",
       "        vertical-align: top;\n",
       "    }\n",
       "\n",
       "    .dataframe thead th {\n",
       "        text-align: right;\n",
       "    }\n",
       "</style>\n",
       "<table border=\"1\" class=\"dataframe\">\n",
       "  <thead>\n",
       "    <tr style=\"text-align: right;\">\n",
       "      <th></th>\n",
       "      <th></th>\n",
       "      <th>rides_numbers</th>\n",
       "      <th>distance_sum</th>\n",
       "      <th>duration_sum</th>\n",
       "    </tr>\n",
       "    <tr>\n",
       "      <th>user_id</th>\n",
       "      <th>month</th>\n",
       "      <th></th>\n",
       "      <th></th>\n",
       "      <th></th>\n",
       "    </tr>\n",
       "  </thead>\n",
       "  <tbody>\n",
       "    <tr>\n",
       "      <th rowspan=\"5\" valign=\"top\">1</th>\n",
       "      <th>1</th>\n",
       "      <td>2</td>\n",
       "      <td>7027.511294</td>\n",
       "      <td>41.416640</td>\n",
       "    </tr>\n",
       "    <tr>\n",
       "      <th>4</th>\n",
       "      <td>1</td>\n",
       "      <td>754.159807</td>\n",
       "      <td>6.232113</td>\n",
       "    </tr>\n",
       "    <tr>\n",
       "      <th>8</th>\n",
       "      <td>2</td>\n",
       "      <td>6723.470560</td>\n",
       "      <td>44.776802</td>\n",
       "    </tr>\n",
       "    <tr>\n",
       "      <th>10</th>\n",
       "      <td>2</td>\n",
       "      <td>5809.911100</td>\n",
       "      <td>31.578017</td>\n",
       "    </tr>\n",
       "    <tr>\n",
       "      <th>11</th>\n",
       "      <td>3</td>\n",
       "      <td>7003.499363</td>\n",
       "      <td>53.397424</td>\n",
       "    </tr>\n",
       "    <tr>\n",
       "      <th>...</th>\n",
       "      <th>...</th>\n",
       "      <td>...</td>\n",
       "      <td>...</td>\n",
       "      <td>...</td>\n",
       "    </tr>\n",
       "    <tr>\n",
       "      <th rowspan=\"5\" valign=\"top\">1534</th>\n",
       "      <th>6</th>\n",
       "      <td>2</td>\n",
       "      <td>3409.468534</td>\n",
       "      <td>24.812678</td>\n",
       "    </tr>\n",
       "    <tr>\n",
       "      <th>8</th>\n",
       "      <td>2</td>\n",
       "      <td>7622.453034</td>\n",
       "      <td>47.205960</td>\n",
       "    </tr>\n",
       "    <tr>\n",
       "      <th>9</th>\n",
       "      <td>1</td>\n",
       "      <td>4928.173852</td>\n",
       "      <td>22.560373</td>\n",
       "    </tr>\n",
       "    <tr>\n",
       "      <th>11</th>\n",
       "      <td>4</td>\n",
       "      <td>13350.015305</td>\n",
       "      <td>76.342174</td>\n",
       "    </tr>\n",
       "    <tr>\n",
       "      <th>12</th>\n",
       "      <td>1</td>\n",
       "      <td>2371.711192</td>\n",
       "      <td>15.893917</td>\n",
       "    </tr>\n",
       "  </tbody>\n",
       "</table>\n",
       "<p>11331 rows × 3 columns</p>\n",
       "</div>"
      ],
      "text/plain": [
       "               rides_numbers  distance_sum  duration_sum\n",
       "user_id month                                           \n",
       "1       1                  2   7027.511294     41.416640\n",
       "        4                  1    754.159807      6.232113\n",
       "        8                  2   6723.470560     44.776802\n",
       "        10                 2   5809.911100     31.578017\n",
       "        11                 3   7003.499363     53.397424\n",
       "...                      ...           ...           ...\n",
       "1534    6                  2   3409.468534     24.812678\n",
       "        8                  2   7622.453034     47.205960\n",
       "        9                  1   4928.173852     22.560373\n",
       "        11                 4  13350.015305     76.342174\n",
       "        12                 1   2371.711192     15.893917\n",
       "\n",
       "[11331 rows x 3 columns]"
      ]
     },
     "execution_count": 54,
     "metadata": {},
     "output_type": "execute_result"
    }
   ],
   "source": [
    "data_aggregated.columns = ['rides_numbers', 'distance_sum', 'duration_sum']\n",
    "data_aggregated"
   ]
  },
  {
   "cell_type": "markdown",
   "id": "49fdec62",
   "metadata": {},
   "source": [
    "##### Добавим столбец с помесячной выручкой"
   ]
  },
  {
   "cell_type": "markdown",
   "id": "f6b7ea1c",
   "metadata": {},
   "source": [
    "Сначала добавим в исходные данные столбец `ride_revenue` - он будет отображать стоимость каждой поездки.  \n",
    "Для этого округлим значения столбца \"длительность\" в большую сторону, умножим на цену минуты и прибавим стоимость старта поездки:"
   ]
  },
  {
   "cell_type": "code",
   "execution_count": 56,
   "id": "4a8046e9",
   "metadata": {},
   "outputs": [
    {
     "data": {
      "text/html": [
       "<div>\n",
       "<style scoped>\n",
       "    .dataframe tbody tr th:only-of-type {\n",
       "        vertical-align: middle;\n",
       "    }\n",
       "\n",
       "    .dataframe tbody tr th {\n",
       "        vertical-align: top;\n",
       "    }\n",
       "\n",
       "    .dataframe thead th {\n",
       "        text-align: right;\n",
       "    }\n",
       "</style>\n",
       "<table border=\"1\" class=\"dataframe\">\n",
       "  <thead>\n",
       "    <tr style=\"text-align: right;\">\n",
       "      <th></th>\n",
       "      <th>user_id</th>\n",
       "      <th>distance</th>\n",
       "      <th>duration</th>\n",
       "      <th>date</th>\n",
       "      <th>month</th>\n",
       "      <th>name</th>\n",
       "      <th>age</th>\n",
       "      <th>city</th>\n",
       "      <th>subscription_type</th>\n",
       "      <th>minute_price</th>\n",
       "      <th>start_ride_price</th>\n",
       "      <th>subscription_fee</th>\n",
       "      <th>ride_revenue</th>\n",
       "    </tr>\n",
       "  </thead>\n",
       "  <tbody>\n",
       "    <tr>\n",
       "      <th>0</th>\n",
       "      <td>1</td>\n",
       "      <td>4409.919140</td>\n",
       "      <td>25.599769</td>\n",
       "      <td>2021-01-01</td>\n",
       "      <td>1</td>\n",
       "      <td>Кира</td>\n",
       "      <td>22</td>\n",
       "      <td>Тюмень</td>\n",
       "      <td>ultra</td>\n",
       "      <td>6</td>\n",
       "      <td>0</td>\n",
       "      <td>199</td>\n",
       "      <td>156.0</td>\n",
       "    </tr>\n",
       "    <tr>\n",
       "      <th>1</th>\n",
       "      <td>1</td>\n",
       "      <td>2617.592153</td>\n",
       "      <td>15.816871</td>\n",
       "      <td>2021-01-18</td>\n",
       "      <td>1</td>\n",
       "      <td>Кира</td>\n",
       "      <td>22</td>\n",
       "      <td>Тюмень</td>\n",
       "      <td>ultra</td>\n",
       "      <td>6</td>\n",
       "      <td>0</td>\n",
       "      <td>199</td>\n",
       "      <td>96.0</td>\n",
       "    </tr>\n",
       "  </tbody>\n",
       "</table>\n",
       "</div>"
      ],
      "text/plain": [
       "   user_id     distance   duration       date  month  name  age    city  \\\n",
       "0        1  4409.919140  25.599769 2021-01-01      1  Кира   22  Тюмень   \n",
       "1        1  2617.592153  15.816871 2021-01-18      1  Кира   22  Тюмень   \n",
       "\n",
       "  subscription_type  minute_price  start_ride_price  subscription_fee  \\\n",
       "0             ultra             6                 0               199   \n",
       "1             ultra             6                 0               199   \n",
       "\n",
       "   ride_revenue  \n",
       "0         156.0  \n",
       "1          96.0  "
      ]
     },
     "execution_count": 56,
     "metadata": {},
     "output_type": "execute_result"
    }
   ],
   "source": [
    "data_common['ride_revenue'] = np.ceil(data_common['duration']) * data_common['minute_price'] + data_common['start_ride_price']\n",
    "data_common.head(2)"
   ]
  },
  {
   "cell_type": "markdown",
   "id": "c1ddebeb",
   "metadata": {},
   "source": [
    "**Далее на основе посчитанного в data_common `ride_revenue` 2 варианта решения:**"
   ]
  },
  {
   "cell_type": "markdown",
   "id": "780ae390",
   "metadata": {},
   "source": [
    "###### Вариант 1"
   ]
  },
  {
   "cell_type": "markdown",
   "id": "6fb850e0",
   "metadata": {},
   "source": [
    "Создадим вспомогательную таблицу `helper` для подсчета суммы стоимостей всех поездок без учета стоимости подписки `ride_revenue_sum` и суммы стоимостей подписок для каждого пользователя по месяцам `subscription_fee_sum`:"
   ]
  },
  {
   "cell_type": "code",
   "execution_count": 57,
   "id": "2b200516",
   "metadata": {},
   "outputs": [
    {
     "data": {
      "text/html": [
       "<div>\n",
       "<style scoped>\n",
       "    .dataframe tbody tr th:only-of-type {\n",
       "        vertical-align: middle;\n",
       "    }\n",
       "\n",
       "    .dataframe tbody tr th {\n",
       "        vertical-align: top;\n",
       "    }\n",
       "\n",
       "    .dataframe thead th {\n",
       "        text-align: right;\n",
       "    }\n",
       "</style>\n",
       "<table border=\"1\" class=\"dataframe\">\n",
       "  <thead>\n",
       "    <tr style=\"text-align: right;\">\n",
       "      <th></th>\n",
       "      <th></th>\n",
       "      <th>ride_revenue_sum</th>\n",
       "      <th>subscription_fee_sum</th>\n",
       "    </tr>\n",
       "    <tr>\n",
       "      <th>user_id</th>\n",
       "      <th>month</th>\n",
       "      <th></th>\n",
       "      <th></th>\n",
       "    </tr>\n",
       "  </thead>\n",
       "  <tbody>\n",
       "    <tr>\n",
       "      <th rowspan=\"5\" valign=\"top\">1</th>\n",
       "      <th>1</th>\n",
       "      <td>252.0</td>\n",
       "      <td>398</td>\n",
       "    </tr>\n",
       "    <tr>\n",
       "      <th>4</th>\n",
       "      <td>42.0</td>\n",
       "      <td>199</td>\n",
       "    </tr>\n",
       "    <tr>\n",
       "      <th>8</th>\n",
       "      <td>276.0</td>\n",
       "      <td>398</td>\n",
       "    </tr>\n",
       "    <tr>\n",
       "      <th>10</th>\n",
       "      <td>192.0</td>\n",
       "      <td>398</td>\n",
       "    </tr>\n",
       "    <tr>\n",
       "      <th>11</th>\n",
       "      <td>336.0</td>\n",
       "      <td>597</td>\n",
       "    </tr>\n",
       "    <tr>\n",
       "      <th>...</th>\n",
       "      <th>...</th>\n",
       "      <td>...</td>\n",
       "      <td>...</td>\n",
       "    </tr>\n",
       "    <tr>\n",
       "      <th rowspan=\"5\" valign=\"top\">1534</th>\n",
       "      <th>6</th>\n",
       "      <td>308.0</td>\n",
       "      <td>0</td>\n",
       "    </tr>\n",
       "    <tr>\n",
       "      <th>8</th>\n",
       "      <td>484.0</td>\n",
       "      <td>0</td>\n",
       "    </tr>\n",
       "    <tr>\n",
       "      <th>9</th>\n",
       "      <td>234.0</td>\n",
       "      <td>0</td>\n",
       "    </tr>\n",
       "    <tr>\n",
       "      <th>11</th>\n",
       "      <td>824.0</td>\n",
       "      <td>0</td>\n",
       "    </tr>\n",
       "    <tr>\n",
       "      <th>12</th>\n",
       "      <td>178.0</td>\n",
       "      <td>0</td>\n",
       "    </tr>\n",
       "  </tbody>\n",
       "</table>\n",
       "<p>11331 rows × 2 columns</p>\n",
       "</div>"
      ],
      "text/plain": [
       "               ride_revenue_sum  subscription_fee_sum\n",
       "user_id month                                        \n",
       "1       1                 252.0                   398\n",
       "        4                  42.0                   199\n",
       "        8                 276.0                   398\n",
       "        10                192.0                   398\n",
       "        11                336.0                   597\n",
       "...                         ...                   ...\n",
       "1534    6                 308.0                     0\n",
       "        8                 484.0                     0\n",
       "        9                 234.0                     0\n",
       "        11                824.0                     0\n",
       "        12                178.0                     0\n",
       "\n",
       "[11331 rows x 2 columns]"
      ]
     },
     "execution_count": 57,
     "metadata": {},
     "output_type": "execute_result"
    }
   ],
   "source": [
    "helper = data_common.groupby(['user_id', 'month'])[['ride_revenue', 'subscription_fee']].sum()\n",
    "helper.columns = ['ride_revenue_sum', 'subscription_fee_sum']\n",
    "helper"
   ]
  },
  {
   "cell_type": "markdown",
   "id": "ddcd3d8b",
   "metadata": {},
   "source": [
    "В data_aggregated создадим столбец `revenue`, в котором для каждого пользователя по месяцам **прибавим к** сумме посчитанного в helper **`ride_revenue_sum`** (сумма стоимостей поздок без учета подписки) **сумму подписок `subscription_fee_sum`**, деленных на количество поездок в течение месяца (т.к. подписка оплачивается раз в месяц):"
   ]
  },
  {
   "cell_type": "code",
   "execution_count": 58,
   "id": "75c0daf7",
   "metadata": {},
   "outputs": [
    {
     "data": {
      "text/html": [
       "<div>\n",
       "<style scoped>\n",
       "    .dataframe tbody tr th:only-of-type {\n",
       "        vertical-align: middle;\n",
       "    }\n",
       "\n",
       "    .dataframe tbody tr th {\n",
       "        vertical-align: top;\n",
       "    }\n",
       "\n",
       "    .dataframe thead th {\n",
       "        text-align: right;\n",
       "    }\n",
       "</style>\n",
       "<table border=\"1\" class=\"dataframe\">\n",
       "  <thead>\n",
       "    <tr style=\"text-align: right;\">\n",
       "      <th></th>\n",
       "      <th></th>\n",
       "      <th>rides_numbers</th>\n",
       "      <th>distance_sum</th>\n",
       "      <th>duration_sum</th>\n",
       "      <th>revenue</th>\n",
       "    </tr>\n",
       "    <tr>\n",
       "      <th>user_id</th>\n",
       "      <th>month</th>\n",
       "      <th></th>\n",
       "      <th></th>\n",
       "      <th></th>\n",
       "      <th></th>\n",
       "    </tr>\n",
       "  </thead>\n",
       "  <tbody>\n",
       "    <tr>\n",
       "      <th rowspan=\"5\" valign=\"top\">1</th>\n",
       "      <th>1</th>\n",
       "      <td>2</td>\n",
       "      <td>7027.511294</td>\n",
       "      <td>41.416640</td>\n",
       "      <td>451.0</td>\n",
       "    </tr>\n",
       "    <tr>\n",
       "      <th>4</th>\n",
       "      <td>1</td>\n",
       "      <td>754.159807</td>\n",
       "      <td>6.232113</td>\n",
       "      <td>241.0</td>\n",
       "    </tr>\n",
       "    <tr>\n",
       "      <th>8</th>\n",
       "      <td>2</td>\n",
       "      <td>6723.470560</td>\n",
       "      <td>44.776802</td>\n",
       "      <td>475.0</td>\n",
       "    </tr>\n",
       "    <tr>\n",
       "      <th>10</th>\n",
       "      <td>2</td>\n",
       "      <td>5809.911100</td>\n",
       "      <td>31.578017</td>\n",
       "      <td>391.0</td>\n",
       "    </tr>\n",
       "    <tr>\n",
       "      <th>11</th>\n",
       "      <td>3</td>\n",
       "      <td>7003.499363</td>\n",
       "      <td>53.397424</td>\n",
       "      <td>535.0</td>\n",
       "    </tr>\n",
       "    <tr>\n",
       "      <th>...</th>\n",
       "      <th>...</th>\n",
       "      <td>...</td>\n",
       "      <td>...</td>\n",
       "      <td>...</td>\n",
       "      <td>...</td>\n",
       "    </tr>\n",
       "    <tr>\n",
       "      <th rowspan=\"5\" valign=\"top\">1534</th>\n",
       "      <th>6</th>\n",
       "      <td>2</td>\n",
       "      <td>3409.468534</td>\n",
       "      <td>24.812678</td>\n",
       "      <td>308.0</td>\n",
       "    </tr>\n",
       "    <tr>\n",
       "      <th>8</th>\n",
       "      <td>2</td>\n",
       "      <td>7622.453034</td>\n",
       "      <td>47.205960</td>\n",
       "      <td>484.0</td>\n",
       "    </tr>\n",
       "    <tr>\n",
       "      <th>9</th>\n",
       "      <td>1</td>\n",
       "      <td>4928.173852</td>\n",
       "      <td>22.560373</td>\n",
       "      <td>234.0</td>\n",
       "    </tr>\n",
       "    <tr>\n",
       "      <th>11</th>\n",
       "      <td>4</td>\n",
       "      <td>13350.015305</td>\n",
       "      <td>76.342174</td>\n",
       "      <td>824.0</td>\n",
       "    </tr>\n",
       "    <tr>\n",
       "      <th>12</th>\n",
       "      <td>1</td>\n",
       "      <td>2371.711192</td>\n",
       "      <td>15.893917</td>\n",
       "      <td>178.0</td>\n",
       "    </tr>\n",
       "  </tbody>\n",
       "</table>\n",
       "<p>11331 rows × 4 columns</p>\n",
       "</div>"
      ],
      "text/plain": [
       "               rides_numbers  distance_sum  duration_sum  revenue\n",
       "user_id month                                                    \n",
       "1       1                  2   7027.511294     41.416640    451.0\n",
       "        4                  1    754.159807      6.232113    241.0\n",
       "        8                  2   6723.470560     44.776802    475.0\n",
       "        10                 2   5809.911100     31.578017    391.0\n",
       "        11                 3   7003.499363     53.397424    535.0\n",
       "...                      ...           ...           ...      ...\n",
       "1534    6                  2   3409.468534     24.812678    308.0\n",
       "        8                  2   7622.453034     47.205960    484.0\n",
       "        9                  1   4928.173852     22.560373    234.0\n",
       "        11                 4  13350.015305     76.342174    824.0\n",
       "        12                 1   2371.711192     15.893917    178.0\n",
       "\n",
       "[11331 rows x 4 columns]"
      ]
     },
     "execution_count": 58,
     "metadata": {},
     "output_type": "execute_result"
    }
   ],
   "source": [
    "data_aggregated['revenue'] = helper['ride_revenue_sum'] + helper['subscription_fee_sum'] / data_aggregated['rides_numbers']\n",
    "data_aggregated"
   ]
  },
  {
   "cell_type": "markdown",
   "id": "728d200e",
   "metadata": {},
   "source": [
    "Дополнительно добавим столбец со стоимостью ежемесячной подписки для каждого пользователя, чтобы различать пользователей по наличию подписки при проверке гипотезы в шаге 6.3."
   ]
  },
  {
   "cell_type": "code",
   "execution_count": 59,
   "id": "449a7bfc",
   "metadata": {},
   "outputs": [
    {
     "data": {
      "text/html": [
       "<div>\n",
       "<style scoped>\n",
       "    .dataframe tbody tr th:only-of-type {\n",
       "        vertical-align: middle;\n",
       "    }\n",
       "\n",
       "    .dataframe tbody tr th {\n",
       "        vertical-align: top;\n",
       "    }\n",
       "\n",
       "    .dataframe thead th {\n",
       "        text-align: right;\n",
       "    }\n",
       "</style>\n",
       "<table border=\"1\" class=\"dataframe\">\n",
       "  <thead>\n",
       "    <tr style=\"text-align: right;\">\n",
       "      <th></th>\n",
       "      <th></th>\n",
       "      <th>rides_numbers</th>\n",
       "      <th>distance_sum</th>\n",
       "      <th>duration_sum</th>\n",
       "      <th>revenue</th>\n",
       "      <th>subscription_fee</th>\n",
       "    </tr>\n",
       "    <tr>\n",
       "      <th>user_id</th>\n",
       "      <th>month</th>\n",
       "      <th></th>\n",
       "      <th></th>\n",
       "      <th></th>\n",
       "      <th></th>\n",
       "      <th></th>\n",
       "    </tr>\n",
       "  </thead>\n",
       "  <tbody>\n",
       "    <tr>\n",
       "      <th rowspan=\"5\" valign=\"top\">1</th>\n",
       "      <th>1</th>\n",
       "      <td>2</td>\n",
       "      <td>7027.511294</td>\n",
       "      <td>41.416640</td>\n",
       "      <td>451.0</td>\n",
       "      <td>199.0</td>\n",
       "    </tr>\n",
       "    <tr>\n",
       "      <th>4</th>\n",
       "      <td>1</td>\n",
       "      <td>754.159807</td>\n",
       "      <td>6.232113</td>\n",
       "      <td>241.0</td>\n",
       "      <td>199.0</td>\n",
       "    </tr>\n",
       "    <tr>\n",
       "      <th>8</th>\n",
       "      <td>2</td>\n",
       "      <td>6723.470560</td>\n",
       "      <td>44.776802</td>\n",
       "      <td>475.0</td>\n",
       "      <td>199.0</td>\n",
       "    </tr>\n",
       "    <tr>\n",
       "      <th>10</th>\n",
       "      <td>2</td>\n",
       "      <td>5809.911100</td>\n",
       "      <td>31.578017</td>\n",
       "      <td>391.0</td>\n",
       "      <td>199.0</td>\n",
       "    </tr>\n",
       "    <tr>\n",
       "      <th>11</th>\n",
       "      <td>3</td>\n",
       "      <td>7003.499363</td>\n",
       "      <td>53.397424</td>\n",
       "      <td>535.0</td>\n",
       "      <td>199.0</td>\n",
       "    </tr>\n",
       "  </tbody>\n",
       "</table>\n",
       "</div>"
      ],
      "text/plain": [
       "               rides_numbers  distance_sum  duration_sum  revenue  \\\n",
       "user_id month                                                       \n",
       "1       1                  2   7027.511294     41.416640    451.0   \n",
       "        4                  1    754.159807      6.232113    241.0   \n",
       "        8                  2   6723.470560     44.776802    475.0   \n",
       "        10                 2   5809.911100     31.578017    391.0   \n",
       "        11                 3   7003.499363     53.397424    535.0   \n",
       "\n",
       "               subscription_fee  \n",
       "user_id month                    \n",
       "1       1                 199.0  \n",
       "        4                 199.0  \n",
       "        8                 199.0  \n",
       "        10                199.0  \n",
       "        11                199.0  "
      ]
     },
     "execution_count": 59,
     "metadata": {},
     "output_type": "execute_result"
    }
   ],
   "source": [
    "data_aggregated['subscription_fee'] = helper['subscription_fee_sum'] / data_aggregated['rides_numbers']\n",
    "data_aggregated.head()"
   ]
  },
  {
   "cell_type": "markdown",
   "id": "66f4ce7a",
   "metadata": {},
   "source": [
    "###### Вариант 2"
   ]
  },
  {
   "cell_type": "markdown",
   "id": "f4774fea",
   "metadata": {},
   "source": [
    "*Для демонстрации второго варианта решения сначала дублирую `data_aggregated` из п.5.1 как `data_aggregated_1` (т.к. после выполнения предыдущей ячейки в `data_aggregated` уже находится 5 посчитанных столбцов):*"
   ]
  },
  {
   "cell_type": "code",
   "execution_count": 60,
   "id": "b0127c70",
   "metadata": {},
   "outputs": [
    {
     "data": {
      "text/html": [
       "<div>\n",
       "<style scoped>\n",
       "    .dataframe tbody tr th:only-of-type {\n",
       "        vertical-align: middle;\n",
       "    }\n",
       "\n",
       "    .dataframe tbody tr th {\n",
       "        vertical-align: top;\n",
       "    }\n",
       "\n",
       "    .dataframe thead th {\n",
       "        text-align: right;\n",
       "    }\n",
       "</style>\n",
       "<table border=\"1\" class=\"dataframe\">\n",
       "  <thead>\n",
       "    <tr style=\"text-align: right;\">\n",
       "      <th></th>\n",
       "      <th></th>\n",
       "      <th>rides_numbers</th>\n",
       "      <th>distance_sum</th>\n",
       "      <th>duration_sum</th>\n",
       "    </tr>\n",
       "    <tr>\n",
       "      <th>user_id</th>\n",
       "      <th>month</th>\n",
       "      <th></th>\n",
       "      <th></th>\n",
       "      <th></th>\n",
       "    </tr>\n",
       "  </thead>\n",
       "  <tbody>\n",
       "    <tr>\n",
       "      <th rowspan=\"5\" valign=\"top\">1</th>\n",
       "      <th>1</th>\n",
       "      <td>2</td>\n",
       "      <td>7027.511294</td>\n",
       "      <td>41.416640</td>\n",
       "    </tr>\n",
       "    <tr>\n",
       "      <th>4</th>\n",
       "      <td>1</td>\n",
       "      <td>754.159807</td>\n",
       "      <td>6.232113</td>\n",
       "    </tr>\n",
       "    <tr>\n",
       "      <th>8</th>\n",
       "      <td>2</td>\n",
       "      <td>6723.470560</td>\n",
       "      <td>44.776802</td>\n",
       "    </tr>\n",
       "    <tr>\n",
       "      <th>10</th>\n",
       "      <td>2</td>\n",
       "      <td>5809.911100</td>\n",
       "      <td>31.578017</td>\n",
       "    </tr>\n",
       "    <tr>\n",
       "      <th>11</th>\n",
       "      <td>3</td>\n",
       "      <td>7003.499363</td>\n",
       "      <td>53.397424</td>\n",
       "    </tr>\n",
       "  </tbody>\n",
       "</table>\n",
       "</div>"
      ],
      "text/plain": [
       "               rides_numbers  distance_sum  duration_sum\n",
       "user_id month                                           \n",
       "1       1                  2   7027.511294     41.416640\n",
       "        4                  1    754.159807      6.232113\n",
       "        8                  2   6723.470560     44.776802\n",
       "        10                 2   5809.911100     31.578017\n",
       "        11                 3   7003.499363     53.397424"
      ]
     },
     "execution_count": 60,
     "metadata": {},
     "output_type": "execute_result"
    }
   ],
   "source": [
    "data_aggregated_1 = data_common.pivot_table(index = ['user_id', 'month'], values = ['distance', 'duration'], aggfunc = {'duration': sum, 'distance': [sum, 'count']})\n",
    "data_aggregated_1.columns = ['rides_numbers', 'distance_sum', 'duration_sum']\n",
    "data_aggregated_1.head()"
   ]
  },
  {
   "cell_type": "markdown",
   "id": "07827fc4",
   "metadata": {},
   "source": [
    "Добавляем новые столбцы с типом, стоимостью подписки и выручкой от поездкок без учета стоимости подписки через *pivot_table*:"
   ]
  },
  {
   "cell_type": "code",
   "execution_count": 61,
   "id": "8c74f94f",
   "metadata": {},
   "outputs": [
    {
     "data": {
      "text/html": [
       "<div>\n",
       "<style scoped>\n",
       "    .dataframe tbody tr th:only-of-type {\n",
       "        vertical-align: middle;\n",
       "    }\n",
       "\n",
       "    .dataframe tbody tr th {\n",
       "        vertical-align: top;\n",
       "    }\n",
       "\n",
       "    .dataframe thead th {\n",
       "        text-align: right;\n",
       "    }\n",
       "</style>\n",
       "<table border=\"1\" class=\"dataframe\">\n",
       "  <thead>\n",
       "    <tr style=\"text-align: right;\">\n",
       "      <th></th>\n",
       "      <th></th>\n",
       "      <th>rides_numbers</th>\n",
       "      <th>distance_sum</th>\n",
       "      <th>duration_sum</th>\n",
       "      <th>ride_revenue</th>\n",
       "      <th>subscription_fee</th>\n",
       "      <th>subscription_type</th>\n",
       "    </tr>\n",
       "    <tr>\n",
       "      <th>user_id</th>\n",
       "      <th>month</th>\n",
       "      <th></th>\n",
       "      <th></th>\n",
       "      <th></th>\n",
       "      <th></th>\n",
       "      <th></th>\n",
       "      <th></th>\n",
       "    </tr>\n",
       "  </thead>\n",
       "  <tbody>\n",
       "    <tr>\n",
       "      <th rowspan=\"5\" valign=\"top\">1</th>\n",
       "      <th>1</th>\n",
       "      <td>2</td>\n",
       "      <td>7027.511294</td>\n",
       "      <td>41.416640</td>\n",
       "      <td>252.0</td>\n",
       "      <td>199</td>\n",
       "      <td>ultra</td>\n",
       "    </tr>\n",
       "    <tr>\n",
       "      <th>4</th>\n",
       "      <td>1</td>\n",
       "      <td>754.159807</td>\n",
       "      <td>6.232113</td>\n",
       "      <td>42.0</td>\n",
       "      <td>199</td>\n",
       "      <td>ultra</td>\n",
       "    </tr>\n",
       "    <tr>\n",
       "      <th>8</th>\n",
       "      <td>2</td>\n",
       "      <td>6723.470560</td>\n",
       "      <td>44.776802</td>\n",
       "      <td>276.0</td>\n",
       "      <td>199</td>\n",
       "      <td>ultra</td>\n",
       "    </tr>\n",
       "    <tr>\n",
       "      <th>10</th>\n",
       "      <td>2</td>\n",
       "      <td>5809.911100</td>\n",
       "      <td>31.578017</td>\n",
       "      <td>192.0</td>\n",
       "      <td>199</td>\n",
       "      <td>ultra</td>\n",
       "    </tr>\n",
       "    <tr>\n",
       "      <th>11</th>\n",
       "      <td>3</td>\n",
       "      <td>7003.499363</td>\n",
       "      <td>53.397424</td>\n",
       "      <td>336.0</td>\n",
       "      <td>199</td>\n",
       "      <td>ultra</td>\n",
       "    </tr>\n",
       "    <tr>\n",
       "      <th>...</th>\n",
       "      <th>...</th>\n",
       "      <td>...</td>\n",
       "      <td>...</td>\n",
       "      <td>...</td>\n",
       "      <td>...</td>\n",
       "      <td>...</td>\n",
       "      <td>...</td>\n",
       "    </tr>\n",
       "    <tr>\n",
       "      <th rowspan=\"5\" valign=\"top\">1534</th>\n",
       "      <th>6</th>\n",
       "      <td>2</td>\n",
       "      <td>3409.468534</td>\n",
       "      <td>24.812678</td>\n",
       "      <td>308.0</td>\n",
       "      <td>0</td>\n",
       "      <td>free</td>\n",
       "    </tr>\n",
       "    <tr>\n",
       "      <th>8</th>\n",
       "      <td>2</td>\n",
       "      <td>7622.453034</td>\n",
       "      <td>47.205960</td>\n",
       "      <td>484.0</td>\n",
       "      <td>0</td>\n",
       "      <td>free</td>\n",
       "    </tr>\n",
       "    <tr>\n",
       "      <th>9</th>\n",
       "      <td>1</td>\n",
       "      <td>4928.173852</td>\n",
       "      <td>22.560373</td>\n",
       "      <td>234.0</td>\n",
       "      <td>0</td>\n",
       "      <td>free</td>\n",
       "    </tr>\n",
       "    <tr>\n",
       "      <th>11</th>\n",
       "      <td>4</td>\n",
       "      <td>13350.015305</td>\n",
       "      <td>76.342174</td>\n",
       "      <td>824.0</td>\n",
       "      <td>0</td>\n",
       "      <td>free</td>\n",
       "    </tr>\n",
       "    <tr>\n",
       "      <th>12</th>\n",
       "      <td>1</td>\n",
       "      <td>2371.711192</td>\n",
       "      <td>15.893917</td>\n",
       "      <td>178.0</td>\n",
       "      <td>0</td>\n",
       "      <td>free</td>\n",
       "    </tr>\n",
       "  </tbody>\n",
       "</table>\n",
       "<p>11331 rows × 6 columns</p>\n",
       "</div>"
      ],
      "text/plain": [
       "               rides_numbers  distance_sum  duration_sum  ride_revenue  \\\n",
       "user_id month                                                            \n",
       "1       1                  2   7027.511294     41.416640         252.0   \n",
       "        4                  1    754.159807      6.232113          42.0   \n",
       "        8                  2   6723.470560     44.776802         276.0   \n",
       "        10                 2   5809.911100     31.578017         192.0   \n",
       "        11                 3   7003.499363     53.397424         336.0   \n",
       "...                      ...           ...           ...           ...   \n",
       "1534    6                  2   3409.468534     24.812678         308.0   \n",
       "        8                  2   7622.453034     47.205960         484.0   \n",
       "        9                  1   4928.173852     22.560373         234.0   \n",
       "        11                 4  13350.015305     76.342174         824.0   \n",
       "        12                 1   2371.711192     15.893917         178.0   \n",
       "\n",
       "               subscription_fee subscription_type  \n",
       "user_id month                                      \n",
       "1       1                   199             ultra  \n",
       "        4                   199             ultra  \n",
       "        8                   199             ultra  \n",
       "        10                  199             ultra  \n",
       "        11                  199             ultra  \n",
       "...                         ...               ...  \n",
       "1534    6                     0              free  \n",
       "        8                     0              free  \n",
       "        9                     0              free  \n",
       "        11                    0              free  \n",
       "        12                    0              free  \n",
       "\n",
       "[11331 rows x 6 columns]"
      ]
     },
     "execution_count": 61,
     "metadata": {},
     "output_type": "execute_result"
    }
   ],
   "source": [
    "data_aggregated_1[['ride_revenue', 'subscription_fee', 'subscription_type']] = data_common.pivot_table(index = ['user_id', 'month'], values = ['subscription_type', 'subscription_fee', 'ride_revenue'], aggfunc = {'subscription_type': 'first', 'subscription_fee': 'first', 'ride_revenue': sum})\n",
    "data_aggregated_1"
   ]
  },
  {
   "cell_type": "markdown",
   "id": "f02cc098",
   "metadata": {},
   "source": [
    "Складываем полученные значения `ride_revenue` и `subscription_fee` :"
   ]
  },
  {
   "cell_type": "code",
   "execution_count": 62,
   "id": "895a2d70",
   "metadata": {},
   "outputs": [
    {
     "data": {
      "text/html": [
       "<div>\n",
       "<style scoped>\n",
       "    .dataframe tbody tr th:only-of-type {\n",
       "        vertical-align: middle;\n",
       "    }\n",
       "\n",
       "    .dataframe tbody tr th {\n",
       "        vertical-align: top;\n",
       "    }\n",
       "\n",
       "    .dataframe thead th {\n",
       "        text-align: right;\n",
       "    }\n",
       "</style>\n",
       "<table border=\"1\" class=\"dataframe\">\n",
       "  <thead>\n",
       "    <tr style=\"text-align: right;\">\n",
       "      <th></th>\n",
       "      <th></th>\n",
       "      <th>rides_numbers</th>\n",
       "      <th>distance_sum</th>\n",
       "      <th>duration_sum</th>\n",
       "      <th>ride_revenue</th>\n",
       "      <th>subscription_fee</th>\n",
       "      <th>subscription_type</th>\n",
       "      <th>month_revenue</th>\n",
       "    </tr>\n",
       "    <tr>\n",
       "      <th>user_id</th>\n",
       "      <th>month</th>\n",
       "      <th></th>\n",
       "      <th></th>\n",
       "      <th></th>\n",
       "      <th></th>\n",
       "      <th></th>\n",
       "      <th></th>\n",
       "      <th></th>\n",
       "    </tr>\n",
       "  </thead>\n",
       "  <tbody>\n",
       "    <tr>\n",
       "      <th rowspan=\"5\" valign=\"top\">1</th>\n",
       "      <th>1</th>\n",
       "      <td>2</td>\n",
       "      <td>7027.511294</td>\n",
       "      <td>41.416640</td>\n",
       "      <td>252.0</td>\n",
       "      <td>199</td>\n",
       "      <td>ultra</td>\n",
       "      <td>451.0</td>\n",
       "    </tr>\n",
       "    <tr>\n",
       "      <th>4</th>\n",
       "      <td>1</td>\n",
       "      <td>754.159807</td>\n",
       "      <td>6.232113</td>\n",
       "      <td>42.0</td>\n",
       "      <td>199</td>\n",
       "      <td>ultra</td>\n",
       "      <td>241.0</td>\n",
       "    </tr>\n",
       "    <tr>\n",
       "      <th>8</th>\n",
       "      <td>2</td>\n",
       "      <td>6723.470560</td>\n",
       "      <td>44.776802</td>\n",
       "      <td>276.0</td>\n",
       "      <td>199</td>\n",
       "      <td>ultra</td>\n",
       "      <td>475.0</td>\n",
       "    </tr>\n",
       "    <tr>\n",
       "      <th>10</th>\n",
       "      <td>2</td>\n",
       "      <td>5809.911100</td>\n",
       "      <td>31.578017</td>\n",
       "      <td>192.0</td>\n",
       "      <td>199</td>\n",
       "      <td>ultra</td>\n",
       "      <td>391.0</td>\n",
       "    </tr>\n",
       "    <tr>\n",
       "      <th>11</th>\n",
       "      <td>3</td>\n",
       "      <td>7003.499363</td>\n",
       "      <td>53.397424</td>\n",
       "      <td>336.0</td>\n",
       "      <td>199</td>\n",
       "      <td>ultra</td>\n",
       "      <td>535.0</td>\n",
       "    </tr>\n",
       "    <tr>\n",
       "      <th>...</th>\n",
       "      <th>...</th>\n",
       "      <td>...</td>\n",
       "      <td>...</td>\n",
       "      <td>...</td>\n",
       "      <td>...</td>\n",
       "      <td>...</td>\n",
       "      <td>...</td>\n",
       "      <td>...</td>\n",
       "    </tr>\n",
       "    <tr>\n",
       "      <th rowspan=\"5\" valign=\"top\">1534</th>\n",
       "      <th>6</th>\n",
       "      <td>2</td>\n",
       "      <td>3409.468534</td>\n",
       "      <td>24.812678</td>\n",
       "      <td>308.0</td>\n",
       "      <td>0</td>\n",
       "      <td>free</td>\n",
       "      <td>308.0</td>\n",
       "    </tr>\n",
       "    <tr>\n",
       "      <th>8</th>\n",
       "      <td>2</td>\n",
       "      <td>7622.453034</td>\n",
       "      <td>47.205960</td>\n",
       "      <td>484.0</td>\n",
       "      <td>0</td>\n",
       "      <td>free</td>\n",
       "      <td>484.0</td>\n",
       "    </tr>\n",
       "    <tr>\n",
       "      <th>9</th>\n",
       "      <td>1</td>\n",
       "      <td>4928.173852</td>\n",
       "      <td>22.560373</td>\n",
       "      <td>234.0</td>\n",
       "      <td>0</td>\n",
       "      <td>free</td>\n",
       "      <td>234.0</td>\n",
       "    </tr>\n",
       "    <tr>\n",
       "      <th>11</th>\n",
       "      <td>4</td>\n",
       "      <td>13350.015305</td>\n",
       "      <td>76.342174</td>\n",
       "      <td>824.0</td>\n",
       "      <td>0</td>\n",
       "      <td>free</td>\n",
       "      <td>824.0</td>\n",
       "    </tr>\n",
       "    <tr>\n",
       "      <th>12</th>\n",
       "      <td>1</td>\n",
       "      <td>2371.711192</td>\n",
       "      <td>15.893917</td>\n",
       "      <td>178.0</td>\n",
       "      <td>0</td>\n",
       "      <td>free</td>\n",
       "      <td>178.0</td>\n",
       "    </tr>\n",
       "  </tbody>\n",
       "</table>\n",
       "<p>11331 rows × 7 columns</p>\n",
       "</div>"
      ],
      "text/plain": [
       "               rides_numbers  distance_sum  duration_sum  ride_revenue  \\\n",
       "user_id month                                                            \n",
       "1       1                  2   7027.511294     41.416640         252.0   \n",
       "        4                  1    754.159807      6.232113          42.0   \n",
       "        8                  2   6723.470560     44.776802         276.0   \n",
       "        10                 2   5809.911100     31.578017         192.0   \n",
       "        11                 3   7003.499363     53.397424         336.0   \n",
       "...                      ...           ...           ...           ...   \n",
       "1534    6                  2   3409.468534     24.812678         308.0   \n",
       "        8                  2   7622.453034     47.205960         484.0   \n",
       "        9                  1   4928.173852     22.560373         234.0   \n",
       "        11                 4  13350.015305     76.342174         824.0   \n",
       "        12                 1   2371.711192     15.893917         178.0   \n",
       "\n",
       "               subscription_fee subscription_type  month_revenue  \n",
       "user_id month                                                     \n",
       "1       1                   199             ultra          451.0  \n",
       "        4                   199             ultra          241.0  \n",
       "        8                   199             ultra          475.0  \n",
       "        10                  199             ultra          391.0  \n",
       "        11                  199             ultra          535.0  \n",
       "...                         ...               ...            ...  \n",
       "1534    6                     0              free          308.0  \n",
       "        8                     0              free          484.0  \n",
       "        9                     0              free          234.0  \n",
       "        11                    0              free          824.0  \n",
       "        12                    0              free          178.0  \n",
       "\n",
       "[11331 rows x 7 columns]"
      ]
     },
     "execution_count": 62,
     "metadata": {},
     "output_type": "execute_result"
    }
   ],
   "source": [
    "data_aggregated_1['month_revenue'] = data_aggregated_1['ride_revenue'] + data_aggregated_1['subscription_fee']\n",
    "data_aggregated_1"
   ]
  },
  {
   "cell_type": "markdown",
   "id": "753e8b5b",
   "metadata": {},
   "source": [
    "__________\n",
    "##### **Вывод по 5 разделу**\n",
    "\n",
    "Составлен дополнительный датафрейм с агрегированными данными о поездках для каждого пользователя за каждый месяц:\n",
    "* Количество поездок\n",
    "* Суммарное расстояние\n",
    "* Суммарное время\n",
    "* Месячная выручка   -   учтены стоимость подписки, стоимость начала поездки, длительность каждой поездки округлена в сторону ближайшего большего целого числа.\n",
    "______________"
   ]
  },
  {
   "cell_type": "markdown",
   "id": "b0873f29",
   "metadata": {},
   "source": [
    "#### **Шаг 6.** Проверка гипотез"
   ]
  },
  {
   "cell_type": "markdown",
   "id": "7d64cd49",
   "metadata": {},
   "source": [
    "________________\n",
    "##### Тратят ли пользователи с подпиской больше времени на поездки?"
   ]
  },
  {
   "cell_type": "markdown",
   "id": "435f5082",
   "metadata": {},
   "source": [
    "Сформулируем нулевую и альтернативную гипотезы:\n",
    "\n",
    "**Нулевая гипотеза:**\n",
    "* *Пользователи с подпиской и без подписки тратят одинаковое время на поездки.*\n",
    "\n",
    "**Альтернативная правосторонняя гипотеза:**\n",
    "* *Пользователи с подпиской тратят больше времени на поездки, чем пользователи без подписки.*\n",
    "\n",
    " "
   ]
  },
  {
   "cell_type": "markdown",
   "id": "78b05b82",
   "metadata": {},
   "source": [
    "**Проверяем гипотезу методом ttest_ind()**"
   ]
  },
  {
   "cell_type": "markdown",
   "id": "bbc43168",
   "metadata": {},
   "source": [
    "1. Создадим две Series с информацией по длительности поездок с подпиской и без подписки:  "
   ]
  },
  {
   "cell_type": "code",
   "execution_count": 66,
   "id": "893eedbb",
   "metadata": {},
   "outputs": [
    {
     "name": "stdout",
     "output_type": "stream",
     "text": [
      "Уникальные значения типа подписки в датафрейме Ultra:  ['ultra']\n",
      "Уникальные значения типа подписки в датафрейме Free:  ['free']\n"
     ]
    }
   ],
   "source": [
    "ultra_duration = data_common_ultra['duration']\n",
    "free_duration = data_common_free['duration']\n",
    "\n",
    "# Проверим, что в датафреймах, из которых взяли значения, присутствует только нужная информация:\n",
    "print ('Уникальные значения типа подписки в датафрейме Ultra: ', data_common_ultra['subscription_type'].unique())\n",
    "print ('Уникальные значения типа подписки в датафрейме Free: ', data_common_free['subscription_type'].unique())"
   ]
  },
  {
   "cell_type": "markdown",
   "id": "4c3ad298",
   "metadata": {},
   "source": [
    "2. Зададим уровень значимости 0.05:"
   ]
  },
  {
   "cell_type": "code",
   "execution_count": 67,
   "id": "f69376d9",
   "metadata": {},
   "outputs": [],
   "source": [
    "alpha = 0.05"
   ]
  },
  {
   "cell_type": "markdown",
   "id": "1598c51c",
   "metadata": {},
   "source": [
    "3. Проводим ttest для двух выборок, в качестве альтернативной используем одностороннюю гипотезу «больше»:"
   ]
  },
  {
   "cell_type": "code",
   "execution_count": 68,
   "id": "6d8d570f",
   "metadata": {},
   "outputs": [
    {
     "name": "stdout",
     "output_type": "stream",
     "text": [
      "p-value: 5.675781377128977e-37\n",
      "Отвергаем нулевую гипотезу\n"
     ]
    }
   ],
   "source": [
    "# Дисперсии могут отличаться, поэтому укажем параметр equal_var=False\n",
    "results = stats.ttest_ind(ultra_duration, free_duration, equal_var=False, alternative='greater')\n",
    "\n",
    "print('p-value:', results.pvalue)\n",
    "\n",
    "# проверяем p-value\n",
    "if results.pvalue < alpha:\n",
    "    print('Отвергаем нулевую гипотезу')\n",
    "else:\n",
    "    print('Нет оснований отвергнуть нулевую гипотезу')"
   ]
  },
  {
   "cell_type": "markdown",
   "id": "6ca756dd",
   "metadata": {},
   "source": [
    "**Итог:**\n",
    "\n",
    "Отвергаем нулевую гипотезу в пользу альтернативной - значение сильно ниже уровня значимости.  \n",
    "* Есть основания полагать, что в среднем пользователи с подпиской больше времени на поездки.\n",
    "\n",
    "____________\n",
    "____________"
   ]
  },
  {
   "cell_type": "markdown",
   "id": "71aa79b6",
   "metadata": {},
   "source": [
    "##### Можно ли сказать, что среднее расстояние, которое проезжают пользователи с подпиской за одну поездку, не превышает 3130 метров?"
   ]
  },
  {
   "cell_type": "markdown",
   "id": "4f951051",
   "metadata": {},
   "source": [
    "Сформулируем гипотезы.  \n",
    "Под \"средним расстоянием\" будем понимать среднее расстояние, которое проезжают пользователи с подпиской за одну поездку.\n",
    "\n",
    "**Нулевая гипотеза:**\n",
    "* *Среднее расстояние равно 3130 метров*\n",
    "\n",
    "**Альтернативная гипотеза, правосторонняя:**\n",
    "* *Среднее расстояния больше 3130 метров*"
   ]
  },
  {
   "cell_type": "markdown",
   "id": "578bf768",
   "metadata": {},
   "source": [
    "**Проверяем гипотезу методом ttest_1samp()**"
   ]
  },
  {
   "cell_type": "markdown",
   "id": "5429974c",
   "metadata": {},
   "source": [
    "1. Определим предполагаемое значение в переменной `interested_value`:"
   ]
  },
  {
   "cell_type": "code",
   "execution_count": 69,
   "id": "ff41a686",
   "metadata": {},
   "outputs": [],
   "source": [
    "interested_value = 3130"
   ]
  },
  {
   "cell_type": "markdown",
   "id": "757feb28",
   "metadata": {},
   "source": [
    "2. В качестве выборки берем столбец `distance` датафрейма со значениями только для пользователей с подпиской `data_common_ultra`:"
   ]
  },
  {
   "cell_type": "code",
   "execution_count": 70,
   "id": "5a441998",
   "metadata": {},
   "outputs": [],
   "source": [
    "ultra_distance = data_common_ultra['distance']"
   ]
  },
  {
   "cell_type": "markdown",
   "id": "cd0ba4a0",
   "metadata": {},
   "source": [
    "3. Проверяем гипотезу методом ttest_1samp(), предварительно задав уровень значимости альфа:"
   ]
  },
  {
   "cell_type": "code",
   "execution_count": 71,
   "id": "a03f57cc",
   "metadata": {},
   "outputs": [
    {
     "name": "stdout",
     "output_type": "stream",
     "text": [
      "p-value: 0.9195368847849785\n",
      "Нет оснований отвергать нулевую гипотезу\n"
     ]
    }
   ],
   "source": [
    "# Задаем уровень значимости\n",
    "alpha = 0.05\n",
    "\n",
    "# Проводим тест\n",
    "result_2 = stats.ttest_1samp(ultra_distance, interested_value, alternative='greater')\n",
    "\n",
    "print('p-value:', result_2.pvalue)\n",
    "\n",
    "if result_2.pvalue < alpha:\n",
    "    print ('Отвергаем нулевую гипотезу.')\n",
    "else:\n",
    "    print ('Нет оснований отвергать нулевую гипотезу')"
   ]
  },
  {
   "cell_type": "markdown",
   "id": "e6903967",
   "metadata": {},
   "source": [
    "**Итог:**\n",
    "\n",
    "Не удалось отвергнуть гипотезу, что среднее значение,  которое проезжают пользователи с подпиской за одну поездку, меньше или равно 3130 метрам.\n",
    "_______\n",
    "_________"
   ]
  },
  {
   "cell_type": "markdown",
   "id": "a2901060",
   "metadata": {},
   "source": [
    "##### Будет ли помесячная выручка от пользователей с подпиской по месяцам выше, чем выручка от пользователей без подписки?"
   ]
  },
  {
   "cell_type": "markdown",
   "id": "a8c4871e",
   "metadata": {},
   "source": [
    "Сформулируем гипотезы.\n",
    "\n",
    "**Нулевая гипотеза:**\n",
    "* *Помесячная выручка от пользователей с подпиской равна помесячной выручке от пользователей без подписки*\n",
    "\n",
    "**Альтернативная гипотеза, правосторонняя:**\n",
    "* *Помесячная выручка от пользователей с подпиской выше, чем помесячная выручка от пользователей без подписки*"
   ]
  },
  {
   "cell_type": "markdown",
   "id": "6b462ef9",
   "metadata": {},
   "source": [
    "**Проверяем гипотезу методом ttest_ind()**"
   ]
  },
  {
   "cell_type": "markdown",
   "id": "54705b23",
   "metadata": {},
   "source": [
    "1. Создадим два Series для двух групп пользователей по столбцам `revenue`, взяв данные из таблицы data_aggregated, разделив пользователей по стоимости подписки:"
   ]
  },
  {
   "cell_type": "code",
   "execution_count": 72,
   "id": "53c173a8",
   "metadata": {},
   "outputs": [],
   "source": [
    "# Выручки от пользователей без подписки\n",
    "free_revenue = data_aggregated.query('subscription_fee == 0')['revenue']\n",
    "\n",
    "# Выручки от пользователей с подпиской\n",
    "ultra_revenue = data_aggregated.query('subscription_fee != 0')['revenue']"
   ]
  },
  {
   "cell_type": "markdown",
   "id": "8da6eb86",
   "metadata": {},
   "source": [
    "2. Проводим ttest на равенство двух выборок, в качестве альтернативной используем одностороннюю гипотезу «больше»:"
   ]
  },
  {
   "cell_type": "code",
   "execution_count": 73,
   "id": "77dcb668",
   "metadata": {},
   "outputs": [
    {
     "name": "stdout",
     "output_type": "stream",
     "text": [
      "p-value: 8.874140893976874e-40\n",
      "Отвергаем нулевую гипотезу\n"
     ]
    }
   ],
   "source": [
    "# Задаем уровень значимости:\n",
    "alpha = 0.05\n",
    "\n",
    "# Проводим тест:\n",
    "# Дисперсии могут отличаться, поэтому укажем параметр equal_var=False\n",
    "\n",
    "result_3 = stats.ttest_ind(ultra_revenue, free_revenue, equal_var=False, alternative='greater')\n",
    "\n",
    "print('p-value:', result_3.pvalue)\n",
    "\n",
    "# проверяем p-value\n",
    "if result_3.pvalue < alpha:\n",
    "    print('Отвергаем нулевую гипотезу')\n",
    "else:\n",
    "    print('Нет оснований отвергнуть нулевую гипотезу')"
   ]
  },
  {
   "cell_type": "markdown",
   "id": "491c95e1",
   "metadata": {},
   "source": [
    "**Итог:**\n",
    "\n",
    "Нулевую гипотезу отвергаем в сторону альтернативной, поскольку значение p-value очень мало.  \n",
    "\n",
    "* Есть серьезные основания полагать, что помесячная выручка от пользователей с подпиской выше, чем у пользователей без подписки.\n",
    "\n",
    "__________\n",
    "___________"
   ]
  },
  {
   "cell_type": "markdown",
   "id": "d5e2dc7c",
   "metadata": {},
   "source": [
    "##### **Вывод по 6 разделу**"
   ]
  },
  {
   "cell_type": "markdown",
   "id": "e268d49c-e0f9-4e16-8909-25c7fee935f2",
   "metadata": {},
   "source": [
    "По результатам проверки гипотез можно сделать следующие выводы:\n",
    "\n",
    "1. Есть основания полагать, что в среднем пользователи с подпиской больше времени на поездки.\n",
    "2. Нельзя утверждать, что среднее расстояние, которое проезжают пользователи с подпиской за одну поездку, не превышает 3130 метров.\n",
    "3. Есть серьезные основания полагать, что помесячная выручка от пользователей с подпиской выше, чем у пользователей без подписки.\n",
    "______"
   ]
  },
  {
   "cell_type": "markdown",
   "id": "77015a85",
   "metadata": {},
   "source": [
    "#### Шаг 7. Распределения"
   ]
  },
  {
   "cell_type": "markdown",
   "id": "c16cfd29",
   "metadata": {},
   "source": [
    "##### Какое минимальное количество промокодов нужно разослать, чтобы вероятность не выполнить план была примерно 5%?"
   ]
  },
  {
   "cell_type": "markdown",
   "id": "ea64d711",
   "metadata": {},
   "source": [
    "Задача:  \n",
    "Отделу маркетинга GoFast поставили задачу: нужно провести акцию с раздачей промокодов на один бесплатный месяц подписки, в рамках которой как минимум 100 существующих клиентов должны продлить эту подписку. То есть по завершении периода действия подписки пользователь может либо отказаться от неё, либо продлить, совершив соответствующий платёж. \n",
    "Эта акция уже проводилась ранее и по итогу выяснилось, что после бесплатного пробного периода подписку продлевают \n",
    "10% пользователей. \n",
    "\n",
    "Выясните, какое минимальное количество промокодов нужно разослать, чтобы вероятность не выполнить план была примерно 5%. Подберите параметры распределения, описывающего эту ситуацию, постройте график распределения и сформулируйте ответ на вопрос о количестве промокодов."
   ]
  },
  {
   "cell_type": "markdown",
   "id": "acfc11bd",
   "metadata": {},
   "source": [
    "**Решение**\n",
    "\n",
    "Дано:\n",
    "\n",
    "Биномиальное распределение  \n",
    "Вероятность успеха p = 0.1  \n",
    "Ожидаемое количество успехов k = 100  \n",
    "Ожидаемая вероятность P < 0.055\n"
   ]
  },
  {
   "cell_type": "markdown",
   "id": "0be038ee",
   "metadata": {},
   "source": [
    "1. С помощью метода binom.cdf() найдем минимальное количество промокодов n, при котором вероятность получения менее 100 новых платных подписчиков будет примерно равна 5%.  \n"
   ]
  },
  {
   "cell_type": "markdown",
   "id": "db48db15",
   "metadata": {},
   "source": [
    "Ищем нужное значение с помощью цикла.  \n",
    "Т.к. по условию нужно найти вероятность \"примерно 5%\", будем искать по условию `< 0.055`, т.к. при 0.055 значение уже будет округляться в большую сторону - 0.6."
   ]
  },
  {
   "cell_type": "code",
   "execution_count": 81,
   "id": "68fad58b",
   "metadata": {},
   "outputs": [
    {
     "name": "stdout",
     "output_type": "stream",
     "text": [
      "Минимальное количество промокодов: 1161\n",
      "Вероятность не выполнить план при таком количестве промокодов: 4.976%\n"
     ]
    }
   ],
   "source": [
    "target_clients = 100  # Целевое количество клиентов для продления подписки\n",
    "p_renewal = 0.1       # Вероятность продления подписки\n",
    "\n",
    "# Подбор значения параметра n\n",
    "n = 1\n",
    "while binom.cdf(target_clients - 1, n, p_renewal) > 0.05:\n",
    "    n += 1\n",
    "\n",
    "# Вывод \n",
    "print(f\"Минимальное количество промокодов: {n}\")\n",
    "print(f\"Вероятность не выполнить план при таком количестве промокодов: {binom.cdf(target_clients - 1, n, p_renewal):.3%}\")"
   ]
  },
  {
   "cell_type": "markdown",
   "id": "da6e0e3c",
   "metadata": {},
   "source": [
    "**Подходящее значение - 1161**"
   ]
  },
  {
   "cell_type": "markdown",
   "id": "49d4a30f",
   "metadata": {},
   "source": [
    "Построим график биномиального распределения:"
   ]
  },
  {
   "cell_type": "code",
   "execution_count": 80,
   "id": "cdb1331d",
   "metadata": {},
   "outputs": [
    {
     "name": "stderr",
     "output_type": "stream",
     "text": [
      "C:\\anaconda3\\envs\\practicum\\lib\\site-packages\\scipy\\stats\\_discrete_distns.py:69: RuntimeWarning: divide by zero encountered in _binom_pdf\n",
      "  return _boost._binom_pdf(x, n, p)\n"
     ]
    },
    {
     "data": {
      "image/png": "[encoded data removed]",
      "text/plain": [
       "<Figure size 1500x700 with 1 Axes>"
      ]
     },
     "metadata": {},
     "output_type": "display_data"
    }
   ],
   "source": [
    "n = 1161  \n",
    "p = 0.05 \n",
    "\n",
    "x = range(n + 1)\n",
    "\n",
    "y = binom.pmf(x, n, p)\n",
    "\n",
    "plt.figure(figsize=(15, 7))\n",
    "plt.bar(x, y)\n",
    "plt.xlabel(\"Количество успехов\")\n",
    "plt.ylabel(\"Плотность вероятности\")\n",
    "plt.title(\"Биномиальное распределение\")\n",
    "plt.show()"
   ]
  },
  {
   "cell_type": "markdown",
   "id": "cb46504b",
   "metadata": {},
   "source": [
    "**Вывод:**\n",
    "\n",
    "Рекомендуется разослать 1167 промокодов, чтобы вероятность не выполнить план была примерно  5%.\n",
    "\n",
    "__________\n",
    "______________"
   ]
  },
  {
   "cell_type": "markdown",
   "id": "235e280e",
   "metadata": {},
   "source": [
    "##### Оцените вероятность того, что уведомление откроют не более 399,5 тыс. пользователей"
   ]
  },
  {
   "cell_type": "markdown",
   "id": "fb8a58cc",
   "metadata": {},
   "source": [
    "Задача: \n",
    "\n",
    "Отдел маркетинга рассылает клиентам push-уведомления в мобильном приложении. Клиенты могут открыть его или не открывать. Известно, что уведомления открывают около 40% получивших клиентов. Отдел планирует разослать 1 млн уведомлений.\n",
    "\n",
    "С помощью аппроксимации постройте примерный график распределения и оцените вероятность того, что уведомление откроют не более 399,5 тыс. пользователей."
   ]
  },
  {
   "cell_type": "markdown",
   "id": "ac1fe2d3",
   "metadata": {},
   "source": [
    "**Дано:**\n",
    "\n",
    "Биномиальное распределение.  \n",
    "Количество испытаний n = 1000000  \n",
    "Вероятность успеха p = 40%  \n"
   ]
  },
  {
   "cell_type": "code",
   "execution_count": 82,
   "id": "62a48db2",
   "metadata": {},
   "outputs": [],
   "source": [
    "n = 1000000\n",
    "p = 0.4"
   ]
  },
  {
   "cell_type": "markdown",
   "id": "c661c2cf",
   "metadata": {},
   "source": [
    "Проверим, можно ли аппроксимировать нормальным распределением:"
   ]
  },
  {
   "cell_type": "code",
   "execution_count": 83,
   "id": "18c06b1d",
   "metadata": {},
   "outputs": [
    {
     "name": "stdout",
     "output_type": "stream",
     "text": [
      "Правая граница:  401469.6938456699\n",
      "Левая граница:  398530.3061543301\n"
     ]
    }
   ],
   "source": [
    "print ('Правая граница: ', n*p + 3 * (n*p*(1-p))**0.5)\n",
    "print ('Левая граница: ', n*p - 3 * (n*p*(1-p))**0.5)"
   ]
  },
  {
   "cell_type": "markdown",
   "id": "4dceae2b",
   "metadata": {},
   "source": [
    "* Мат ожидание +- 3 стандартных отклонения лежат в пределах [0, n].\n",
    "\n",
    "Можно аппроксимировать."
   ]
  },
  {
   "cell_type": "markdown",
   "id": "4333dcd5",
   "metadata": {},
   "source": [
    "Назначим переменные для мат.ожидания и стандартного распределения:"
   ]
  },
  {
   "cell_type": "code",
   "execution_count": 84,
   "id": "f3b6274a",
   "metadata": {},
   "outputs": [],
   "source": [
    "mu = n*p\n",
    "sigma = (n*p*(1-p))**0.5"
   ]
  },
  {
   "cell_type": "markdown",
   "id": "520c2139",
   "metadata": {},
   "source": [
    "Задаем нормальное распределение:"
   ]
  },
  {
   "cell_type": "code",
   "execution_count": 85,
   "id": "1b19ad17",
   "metadata": {},
   "outputs": [],
   "source": [
    "distr = stats.norm(mu, sigma) "
   ]
  },
  {
   "cell_type": "markdown",
   "id": "2a105c03",
   "metadata": {},
   "source": [
    "Вероятность того, что уведомление откроют не более 399,5 тыс:"
   ]
  },
  {
   "cell_type": "code",
   "execution_count": 86,
   "id": "dc4ad07d",
   "metadata": {},
   "outputs": [
    {
     "name": "stdout",
     "output_type": "stream",
     "text": [
      "0.15371708296369768\n"
     ]
    }
   ],
   "source": [
    "value = 399500\n",
    "result = distr.cdf(value)\n",
    "print (result)"
   ]
  },
  {
   "cell_type": "markdown",
   "id": "4e0cac80-9dd1-48b0-8d16-51a114260ad4",
   "metadata": {},
   "source": [
    "_____________________\n",
    "____________________\n",
    "___________________"
   ]
  },
  {
   "cell_type": "markdown",
   "id": "754d6b44-9ade-4cf2-9c14-278354739f74",
   "metadata": {},
   "source": [
    "##### **Вывод финальный**"
   ]
  },
  {
   "cell_type": "markdown",
   "id": "c8621bdb-a325-48c6-9042-ef47d0bf2294",
   "metadata": {},
   "source": [
    "Исследованы данные о некоторых пользователях сервиса аренды самокатов GoFast, а также об их поездках.\n",
    "\n",
    "Сводка по выборке:  \n",
    "* Больше пользователей без подписки, чем с подпиской (54% против 46% соответственно)\n",
    "* 8 городов с примерно одинаковой долей в выборке (от 11% до 14%).\n",
    "* Средний возраст пользователей - 25 лет, в половине случаев от 22 до 28 лет.\n",
    "* Среднее расстояние поездок - 3070 м,   \n",
    "  *в половине случаев - от 2543 м до 3776 метров. \n",
    "* Средняя длительность - 17,9 минут  \n",
    "  *в половине случаев  от 13,7 до 21,7 минут.\n",
    "\n",
    "Анализ данным о поездках пользователей двух групп показал:\n",
    "\n",
    "*В рамках имеющейся выборки:*\n",
    "* Пользователи без подписки:\n",
    " * Чаще, чем пользователи с подпиской, проезжали менее 1 км\n",
    " * Шире межквартильный размах для расстояния и длительности поездки (размах 50% значений)\n",
    "* Пользователи с подпиской:\n",
    " * Больше разброс и максимальная продолжительность поездки\n",
    " * Уже межквартильный размах для расстояния и длительности поездки (размах 50% значений)\n",
    "\n",
    "\n",
    "**По результатам проверки гипотез можно сделать следующие выводы:**\n",
    "\n",
    "1. Есть основания полагать, что в среднем пользователи с подпиской больше времени на поездки.\n",
    "2. Вероятно, среднее расстояние, которое проезжают пользователи с подпиской за одну поездку, не превышает 3130 метров.\n",
    "3. Есть серьезные основания полагать, что помесячная выручка от пользователей с подпиской выше, чем у пользователей без подписки.\n",
    "\n",
    "**Рекомендации:**\n",
    "\n",
    "Есть основания полагать, что для компании пользователи с подпиской являются более выгодными, на основании результатов проверки гипотез.\n",
    "\n",
    "Вероятно, увеличение количества пользователей с подпиской ultra приведеет к увеличению средней длительности поездки и увеличению выручки.\n"
   ]
  }
 ],
 "metadata": {
  "ExecuteTimeLog": [
   {
    "duration": 48,
    "start_time": "2024-08-11T18:41:26.491Z"
   },
   {
    "duration": 524,
    "start_time": "2024-08-11T18:41:30.703Z"
   },
   {
    "duration": 74,
    "start_time": "2024-08-11T18:41:32.457Z"
   },
   {
    "duration": 174,
    "start_time": "2024-08-11T18:42:08.520Z"
   },
   {
    "duration": 144,
    "start_time": "2024-08-11T18:43:28.368Z"
   },
   {
    "duration": 25,
    "start_time": "2024-08-11T18:45:10.296Z"
   },
   {
    "duration": 22,
    "start_time": "2024-08-11T18:46:02.338Z"
   },
   {
    "duration": 25,
    "start_time": "2024-08-11T18:46:27.155Z"
   },
   {
    "duration": 26,
    "start_time": "2024-08-11T18:47:09.148Z"
   },
   {
    "duration": 54,
    "start_time": "2024-08-11T18:50:27.812Z"
   },
   {
    "duration": 31,
    "start_time": "2024-08-11T18:51:30.621Z"
   },
   {
    "duration": 16,
    "start_time": "2024-08-11T18:51:34.010Z"
   },
   {
    "duration": 7,
    "start_time": "2024-08-11T19:03:57.079Z"
   },
   {
    "duration": 8,
    "start_time": "2024-08-11T19:04:08.725Z"
   },
   {
    "duration": 17,
    "start_time": "2024-08-11T19:04:37.351Z"
   },
   {
    "duration": 6,
    "start_time": "2024-08-11T19:05:24.012Z"
   },
   {
    "duration": 10,
    "start_time": "2024-08-11T19:05:34.900Z"
   },
   {
    "duration": 5,
    "start_time": "2024-08-11T19:05:58.110Z"
   },
   {
    "duration": 8,
    "start_time": "2024-08-11T19:09:49.606Z"
   },
   {
    "duration": 6,
    "start_time": "2024-08-11T19:09:56.194Z"
   },
   {
    "duration": 8,
    "start_time": "2024-08-11T19:11:30.185Z"
   },
   {
    "duration": 8,
    "start_time": "2024-08-11T19:11:42.352Z"
   },
   {
    "duration": 10,
    "start_time": "2024-08-11T19:16:54.772Z"
   },
   {
    "duration": 9,
    "start_time": "2024-08-11T19:18:39.735Z"
   },
   {
    "duration": 9,
    "start_time": "2024-08-11T19:18:49.980Z"
   },
   {
    "duration": 12,
    "start_time": "2024-08-11T19:20:12.565Z"
   },
   {
    "duration": 11,
    "start_time": "2024-08-11T19:24:19.335Z"
   },
   {
    "duration": 9,
    "start_time": "2024-08-11T19:24:22.031Z"
   },
   {
    "duration": 9,
    "start_time": "2024-08-11T19:25:24.850Z"
   },
   {
    "duration": 5,
    "start_time": "2024-08-11T19:27:18.830Z"
   },
   {
    "duration": 5,
    "start_time": "2024-08-11T19:27:24.809Z"
   },
   {
    "duration": 964,
    "start_time": "2024-08-11T19:27:48.738Z"
   },
   {
    "duration": 12,
    "start_time": "2024-08-11T19:27:56.489Z"
   },
   {
    "duration": 8,
    "start_time": "2024-08-11T19:30:33.335Z"
   },
   {
    "duration": 8,
    "start_time": "2024-08-11T19:32:06.661Z"
   },
   {
    "duration": 12,
    "start_time": "2024-08-11T19:32:22.947Z"
   },
   {
    "duration": 16,
    "start_time": "2024-08-11T19:32:27.583Z"
   },
   {
    "duration": 9,
    "start_time": "2024-08-11T19:33:51.578Z"
   },
   {
    "duration": 18,
    "start_time": "2024-08-11T19:34:05.045Z"
   },
   {
    "duration": 8,
    "start_time": "2024-08-11T19:34:45.261Z"
   },
   {
    "duration": 15,
    "start_time": "2024-08-11T19:34:55.150Z"
   },
   {
    "duration": 8,
    "start_time": "2024-08-11T19:34:58.574Z"
   },
   {
    "duration": 125,
    "start_time": "2024-08-11T19:35:02.646Z"
   },
   {
    "duration": 16,
    "start_time": "2024-08-11T19:35:05.145Z"
   },
   {
    "duration": 13,
    "start_time": "2024-08-11T19:38:27.719Z"
   },
   {
    "duration": 7,
    "start_time": "2024-08-11T19:38:34.090Z"
   },
   {
    "duration": 7,
    "start_time": "2024-08-11T19:38:47.561Z"
   },
   {
    "duration": 6,
    "start_time": "2024-08-11T19:38:52.638Z"
   },
   {
    "duration": 7,
    "start_time": "2024-08-11T19:38:58.287Z"
   },
   {
    "duration": 6,
    "start_time": "2024-08-11T19:39:53.432Z"
   },
   {
    "duration": 27,
    "start_time": "2024-08-11T19:40:18.306Z"
   },
   {
    "duration": 13,
    "start_time": "2024-08-11T19:41:16.746Z"
   },
   {
    "duration": 10,
    "start_time": "2024-08-11T20:06:25.667Z"
   },
   {
    "duration": 13,
    "start_time": "2024-08-11T20:06:32.407Z"
   },
   {
    "duration": 14,
    "start_time": "2024-08-11T20:06:43.798Z"
   },
   {
    "duration": 6,
    "start_time": "2024-08-11T20:07:42.798Z"
   },
   {
    "duration": 13,
    "start_time": "2024-08-11T20:08:14.207Z"
   },
   {
    "duration": 12,
    "start_time": "2024-08-11T20:08:37.072Z"
   },
   {
    "duration": 8,
    "start_time": "2024-08-11T20:09:34.824Z"
   },
   {
    "duration": 5,
    "start_time": "2024-08-11T20:09:58.295Z"
   },
   {
    "duration": 8,
    "start_time": "2024-08-11T20:10:11.498Z"
   },
   {
    "duration": 7,
    "start_time": "2024-08-11T20:11:31.226Z"
   },
   {
    "duration": 4,
    "start_time": "2024-08-11T20:11:41.817Z"
   },
   {
    "duration": 2,
    "start_time": "2024-08-11T20:11:56.865Z"
   },
   {
    "duration": 94,
    "start_time": "2024-08-11T20:11:56.869Z"
   },
   {
    "duration": 16,
    "start_time": "2024-08-11T20:11:56.965Z"
   },
   {
    "duration": 25,
    "start_time": "2024-08-11T20:11:56.983Z"
   },
   {
    "duration": 20,
    "start_time": "2024-08-11T20:11:57.011Z"
   },
   {
    "duration": 22,
    "start_time": "2024-08-11T20:11:57.033Z"
   },
   {
    "duration": 11,
    "start_time": "2024-08-11T20:11:57.057Z"
   },
   {
    "duration": 8,
    "start_time": "2024-08-11T20:11:57.070Z"
   },
   {
    "duration": 20,
    "start_time": "2024-08-11T20:11:57.080Z"
   },
   {
    "duration": 17,
    "start_time": "2024-08-11T20:11:57.102Z"
   },
   {
    "duration": 7,
    "start_time": "2024-08-11T20:11:57.122Z"
   },
   {
    "duration": 26,
    "start_time": "2024-08-11T20:11:57.130Z"
   },
   {
    "duration": 7,
    "start_time": "2024-08-11T20:11:57.158Z"
   },
   {
    "duration": 7,
    "start_time": "2024-08-11T20:11:57.167Z"
   },
   {
    "duration": 6,
    "start_time": "2024-08-11T20:17:36.820Z"
   },
   {
    "duration": 8,
    "start_time": "2024-08-11T20:17:46.789Z"
   },
   {
    "duration": 6,
    "start_time": "2024-08-11T20:17:57.596Z"
   },
   {
    "duration": 8,
    "start_time": "2024-08-11T20:18:15.373Z"
   },
   {
    "duration": 8,
    "start_time": "2024-08-11T20:18:21.183Z"
   },
   {
    "duration": 7,
    "start_time": "2024-08-11T20:18:30.117Z"
   },
   {
    "duration": 6,
    "start_time": "2024-08-11T20:18:50.957Z"
   },
   {
    "duration": 5,
    "start_time": "2024-08-11T20:20:54.090Z"
   },
   {
    "duration": 7,
    "start_time": "2024-08-11T20:23:20.185Z"
   },
   {
    "duration": 16,
    "start_time": "2024-08-11T20:23:25.065Z"
   },
   {
    "duration": 6,
    "start_time": "2024-08-11T20:23:29.529Z"
   },
   {
    "duration": 10,
    "start_time": "2024-08-11T20:24:07.562Z"
   },
   {
    "duration": 9,
    "start_time": "2024-08-11T20:24:10.920Z"
   },
   {
    "duration": 5,
    "start_time": "2024-08-11T20:25:17.473Z"
   },
   {
    "duration": 6,
    "start_time": "2024-08-11T20:26:28.018Z"
   },
   {
    "duration": 7,
    "start_time": "2024-08-11T20:26:41.281Z"
   },
   {
    "duration": 13,
    "start_time": "2024-08-11T20:27:42.603Z"
   },
   {
    "duration": 11,
    "start_time": "2024-08-11T20:33:17.001Z"
   },
   {
    "duration": 8,
    "start_time": "2024-08-11T20:33:27.175Z"
   },
   {
    "duration": 8,
    "start_time": "2024-08-11T20:33:47.407Z"
   },
   {
    "duration": 6,
    "start_time": "2024-08-11T20:33:54.830Z"
   },
   {
    "duration": 7,
    "start_time": "2024-08-11T20:37:32.617Z"
   },
   {
    "duration": 7,
    "start_time": "2024-08-11T20:37:42.794Z"
   },
   {
    "duration": 8,
    "start_time": "2024-08-11T20:37:52.857Z"
   },
   {
    "duration": 5,
    "start_time": "2024-08-11T20:39:24.378Z"
   },
   {
    "duration": 8,
    "start_time": "2024-08-11T20:42:26.924Z"
   },
   {
    "duration": 549,
    "start_time": "2024-08-11T21:00:54.121Z"
   },
   {
    "duration": 3,
    "start_time": "2024-08-11T21:01:46.350Z"
   },
   {
    "duration": 112,
    "start_time": "2024-08-11T21:02:08.610Z"
   },
   {
    "duration": 125,
    "start_time": "2024-08-11T21:02:59.594Z"
   },
   {
    "duration": 121,
    "start_time": "2024-08-11T21:03:26.654Z"
   },
   {
    "duration": 191,
    "start_time": "2024-08-11T21:03:50.170Z"
   },
   {
    "duration": 114,
    "start_time": "2024-08-11T21:04:01.796Z"
   },
   {
    "duration": 108,
    "start_time": "2024-08-11T21:04:10.570Z"
   },
   {
    "duration": 147,
    "start_time": "2024-08-11T21:04:33.940Z"
   },
   {
    "duration": 114,
    "start_time": "2024-08-11T21:04:37.994Z"
   },
   {
    "duration": 129,
    "start_time": "2024-08-11T21:04:42.805Z"
   },
   {
    "duration": 110,
    "start_time": "2024-08-11T21:06:06.316Z"
   },
   {
    "duration": 114,
    "start_time": "2024-08-11T21:06:10.500Z"
   },
   {
    "duration": 129,
    "start_time": "2024-08-11T21:06:12.964Z"
   },
   {
    "duration": 118,
    "start_time": "2024-08-11T21:06:17.573Z"
   },
   {
    "duration": 119,
    "start_time": "2024-08-11T21:06:20.884Z"
   },
   {
    "duration": 178,
    "start_time": "2024-08-11T21:06:26.140Z"
   },
   {
    "duration": 104,
    "start_time": "2024-08-11T21:06:31.997Z"
   },
   {
    "duration": 3,
    "start_time": "2024-08-11T21:07:03.832Z"
   },
   {
    "duration": 91,
    "start_time": "2024-08-11T21:07:03.837Z"
   },
   {
    "duration": 18,
    "start_time": "2024-08-11T21:07:03.929Z"
   },
   {
    "duration": 20,
    "start_time": "2024-08-11T21:07:03.948Z"
   },
   {
    "duration": 15,
    "start_time": "2024-08-11T21:07:03.971Z"
   },
   {
    "duration": 38,
    "start_time": "2024-08-11T21:07:03.988Z"
   },
   {
    "duration": 20,
    "start_time": "2024-08-11T21:07:04.028Z"
   },
   {
    "duration": 21,
    "start_time": "2024-08-11T21:07:04.050Z"
   },
   {
    "duration": 7,
    "start_time": "2024-08-11T21:07:04.073Z"
   },
   {
    "duration": 28,
    "start_time": "2024-08-11T21:07:04.081Z"
   },
   {
    "duration": 6,
    "start_time": "2024-08-11T21:07:04.111Z"
   },
   {
    "duration": 7,
    "start_time": "2024-08-11T21:07:04.118Z"
   },
   {
    "duration": 19,
    "start_time": "2024-08-11T21:07:04.128Z"
   },
   {
    "duration": 6,
    "start_time": "2024-08-11T21:07:04.149Z"
   },
   {
    "duration": 6,
    "start_time": "2024-08-11T21:07:04.156Z"
   },
   {
    "duration": 14,
    "start_time": "2024-08-11T21:07:04.163Z"
   },
   {
    "duration": 10,
    "start_time": "2024-08-11T21:07:04.178Z"
   },
   {
    "duration": 13,
    "start_time": "2024-08-11T21:07:04.189Z"
   },
   {
    "duration": 5,
    "start_time": "2024-08-11T21:07:04.203Z"
   },
   {
    "duration": 39,
    "start_time": "2024-08-11T21:07:04.210Z"
   },
   {
    "duration": 132,
    "start_time": "2024-08-11T21:07:04.251Z"
   },
   {
    "duration": 3,
    "start_time": "2024-08-11T21:07:17.762Z"
   },
   {
    "duration": 75,
    "start_time": "2024-08-11T21:07:17.767Z"
   },
   {
    "duration": 15,
    "start_time": "2024-08-11T21:07:17.844Z"
   },
   {
    "duration": 33,
    "start_time": "2024-08-11T21:07:17.861Z"
   },
   {
    "duration": 25,
    "start_time": "2024-08-11T21:07:17.896Z"
   },
   {
    "duration": 53,
    "start_time": "2024-08-11T21:07:17.923Z"
   },
   {
    "duration": 71,
    "start_time": "2024-08-11T21:07:17.978Z"
   },
   {
    "duration": 12,
    "start_time": "2024-08-11T21:07:18.050Z"
   },
   {
    "duration": 11,
    "start_time": "2024-08-11T21:07:18.064Z"
   },
   {
    "duration": 15,
    "start_time": "2024-08-11T21:07:18.077Z"
   },
   {
    "duration": 9,
    "start_time": "2024-08-11T21:07:18.094Z"
   },
   {
    "duration": 8,
    "start_time": "2024-08-11T21:07:18.104Z"
   },
   {
    "duration": 7,
    "start_time": "2024-08-11T21:07:18.114Z"
   },
   {
    "duration": 5,
    "start_time": "2024-08-11T21:07:18.123Z"
   },
   {
    "duration": 5,
    "start_time": "2024-08-11T21:07:18.147Z"
   },
   {
    "duration": 6,
    "start_time": "2024-08-11T21:07:18.153Z"
   },
   {
    "duration": 6,
    "start_time": "2024-08-11T21:07:18.161Z"
   },
   {
    "duration": 8,
    "start_time": "2024-08-11T21:07:18.168Z"
   },
   {
    "duration": 5,
    "start_time": "2024-08-11T21:07:18.178Z"
   },
   {
    "duration": 16,
    "start_time": "2024-08-11T21:07:18.184Z"
   },
   {
    "duration": 161,
    "start_time": "2024-08-11T21:07:18.202Z"
   },
   {
    "duration": 114,
    "start_time": "2024-08-11T21:07:38.908Z"
   },
   {
    "duration": 108,
    "start_time": "2024-08-11T21:07:57.398Z"
   },
   {
    "duration": 49,
    "start_time": "2024-08-11T21:08:44.901Z"
   },
   {
    "duration": 680,
    "start_time": "2024-08-11T21:08:54.886Z"
   },
   {
    "duration": 71,
    "start_time": "2024-08-11T21:08:59.590Z"
   },
   {
    "duration": 22,
    "start_time": "2024-08-11T21:08:59.662Z"
   },
   {
    "duration": 18,
    "start_time": "2024-08-11T21:08:59.685Z"
   },
   {
    "duration": 14,
    "start_time": "2024-08-11T21:08:59.705Z"
   },
   {
    "duration": 40,
    "start_time": "2024-08-11T21:08:59.720Z"
   },
   {
    "duration": 7,
    "start_time": "2024-08-11T21:08:59.762Z"
   },
   {
    "duration": 6,
    "start_time": "2024-08-11T21:08:59.771Z"
   },
   {
    "duration": 5,
    "start_time": "2024-08-11T21:08:59.778Z"
   },
   {
    "duration": 16,
    "start_time": "2024-08-11T21:08:59.785Z"
   },
   {
    "duration": 9,
    "start_time": "2024-08-11T21:08:59.803Z"
   },
   {
    "duration": 44,
    "start_time": "2024-08-11T21:08:59.813Z"
   },
   {
    "duration": 28,
    "start_time": "2024-08-11T21:08:59.858Z"
   },
   {
    "duration": 7,
    "start_time": "2024-08-11T21:08:59.888Z"
   },
   {
    "duration": 7,
    "start_time": "2024-08-11T21:08:59.898Z"
   },
   {
    "duration": 5,
    "start_time": "2024-08-11T21:08:59.907Z"
   },
   {
    "duration": 6,
    "start_time": "2024-08-11T21:08:59.913Z"
   },
   {
    "duration": 9,
    "start_time": "2024-08-11T21:08:59.921Z"
   },
   {
    "duration": 5,
    "start_time": "2024-08-11T21:08:59.947Z"
   },
   {
    "duration": 7,
    "start_time": "2024-08-11T21:08:59.954Z"
   },
   {
    "duration": 169,
    "start_time": "2024-08-11T21:08:59.963Z"
   },
   {
    "duration": 4,
    "start_time": "2024-08-11T21:10:35.841Z"
   },
   {
    "duration": 6,
    "start_time": "2024-08-11T21:10:57.799Z"
   },
   {
    "duration": 6,
    "start_time": "2024-08-11T21:13:13.032Z"
   },
   {
    "duration": 134,
    "start_time": "2024-08-11T21:13:21.738Z"
   },
   {
    "duration": 116,
    "start_time": "2024-08-11T21:13:27.516Z"
   },
   {
    "duration": 38,
    "start_time": "2024-08-11T21:16:19.386Z"
   },
   {
    "duration": 1031,
    "start_time": "2024-08-11T21:17:02.030Z"
   },
   {
    "duration": 69,
    "start_time": "2024-08-11T21:18:31.708Z"
   },
   {
    "duration": 85,
    "start_time": "2024-08-11T21:19:16.622Z"
   },
   {
    "duration": 129,
    "start_time": "2024-08-11T21:19:29.548Z"
   },
   {
    "duration": 65,
    "start_time": "2024-08-11T21:19:37.717Z"
   },
   {
    "duration": 61,
    "start_time": "2024-08-11T21:19:43.148Z"
   },
   {
    "duration": 38,
    "start_time": "2024-08-11T21:20:02.357Z"
   },
   {
    "duration": 4,
    "start_time": "2024-08-11T21:20:36.237Z"
   },
   {
    "duration": 75,
    "start_time": "2024-08-11T21:20:48.063Z"
   },
   {
    "duration": 75,
    "start_time": "2024-08-11T21:21:08.251Z"
   },
   {
    "duration": 60,
    "start_time": "2024-08-11T21:21:20.085Z"
   },
   {
    "duration": 59,
    "start_time": "2024-08-11T21:21:34.110Z"
   },
   {
    "duration": 277,
    "start_time": "2024-08-11T21:21:48.966Z"
   },
   {
    "duration": 62,
    "start_time": "2024-08-11T21:22:48.097Z"
   },
   {
    "duration": 64,
    "start_time": "2024-08-11T21:22:57.489Z"
   },
   {
    "duration": 72,
    "start_time": "2024-08-11T21:23:19.519Z"
   },
   {
    "duration": 67,
    "start_time": "2024-08-11T21:23:30.727Z"
   },
   {
    "duration": 67,
    "start_time": "2024-08-11T21:23:49.753Z"
   },
   {
    "duration": 71,
    "start_time": "2024-08-11T21:24:21.167Z"
   },
   {
    "duration": 64,
    "start_time": "2024-08-11T21:24:26.184Z"
   },
   {
    "duration": 62,
    "start_time": "2024-08-11T21:24:36.943Z"
   },
   {
    "duration": 10,
    "start_time": "2024-08-11T21:24:40.504Z"
   },
   {
    "duration": 5,
    "start_time": "2024-08-11T21:24:48.330Z"
   },
   {
    "duration": 7,
    "start_time": "2024-08-11T21:25:14.137Z"
   },
   {
    "duration": 9,
    "start_time": "2024-08-11T21:25:34.248Z"
   },
   {
    "duration": 13,
    "start_time": "2024-08-11T21:25:44.856Z"
   },
   {
    "duration": 70,
    "start_time": "2024-08-11T21:39:11.210Z"
   },
   {
    "duration": 15,
    "start_time": "2024-08-11T21:39:25.460Z"
   },
   {
    "duration": 17,
    "start_time": "2024-08-11T21:40:17.960Z"
   },
   {
    "duration": 73,
    "start_time": "2024-08-11T21:40:30.281Z"
   },
   {
    "duration": 15,
    "start_time": "2024-08-11T21:40:38.192Z"
   },
   {
    "duration": 63,
    "start_time": "2024-08-11T21:41:57.830Z"
   },
   {
    "duration": 14,
    "start_time": "2024-08-11T21:42:09.603Z"
   },
   {
    "duration": 68,
    "start_time": "2024-08-11T21:42:56.114Z"
   },
   {
    "duration": 81,
    "start_time": "2024-08-11T21:43:35.853Z"
   },
   {
    "duration": 63,
    "start_time": "2024-08-11T21:43:47.737Z"
   },
   {
    "duration": 19,
    "start_time": "2024-08-11T21:44:25.307Z"
   },
   {
    "duration": 19,
    "start_time": "2024-08-11T21:44:43.366Z"
   },
   {
    "duration": 17,
    "start_time": "2024-08-11T21:45:05.875Z"
   },
   {
    "duration": 19,
    "start_time": "2024-08-11T21:45:30.244Z"
   },
   {
    "duration": 21,
    "start_time": "2024-08-11T21:45:49.053Z"
   },
   {
    "duration": 16,
    "start_time": "2024-08-11T21:46:52.717Z"
   },
   {
    "duration": 127,
    "start_time": "2024-08-11T21:48:38.221Z"
   },
   {
    "duration": 157,
    "start_time": "2024-08-11T21:48:45.717Z"
   },
   {
    "duration": 122,
    "start_time": "2024-08-11T21:49:06.484Z"
   },
   {
    "duration": 160,
    "start_time": "2024-08-11T21:49:12.870Z"
   },
   {
    "duration": 16,
    "start_time": "2024-08-11T21:50:01.369Z"
   },
   {
    "duration": 164,
    "start_time": "2024-08-11T21:52:18.690Z"
   },
   {
    "duration": 1016,
    "start_time": "2024-08-11T21:52:32.264Z"
   },
   {
    "duration": 68,
    "start_time": "2024-08-11T21:52:48.591Z"
   },
   {
    "duration": 2040,
    "start_time": "2024-08-11T21:54:46.257Z"
   },
   {
    "duration": 300,
    "start_time": "2024-08-11T21:54:56.456Z"
   },
   {
    "duration": 10,
    "start_time": "2024-08-11T21:55:55.748Z"
   },
   {
    "duration": 8,
    "start_time": "2024-08-11T21:56:05.634Z"
   },
   {
    "duration": 10,
    "start_time": "2024-08-11T21:57:34.356Z"
   },
   {
    "duration": 136,
    "start_time": "2024-08-11T21:57:39.332Z"
   },
   {
    "duration": 137,
    "start_time": "2024-08-11T21:57:53.162Z"
   },
   {
    "duration": 6,
    "start_time": "2024-08-11T21:58:10.267Z"
   },
   {
    "duration": 8,
    "start_time": "2024-08-11T22:01:35.487Z"
   },
   {
    "duration": 5,
    "start_time": "2024-08-11T22:02:57.798Z"
   },
   {
    "duration": 4,
    "start_time": "2024-08-11T22:03:39.255Z"
   },
   {
    "duration": 5,
    "start_time": "2024-08-11T22:04:23.424Z"
   },
   {
    "duration": 8,
    "start_time": "2024-08-11T22:06:46.931Z"
   },
   {
    "duration": 5,
    "start_time": "2024-08-11T22:07:03.138Z"
   },
   {
    "duration": 6,
    "start_time": "2024-08-11T22:07:38.660Z"
   },
   {
    "duration": 8,
    "start_time": "2024-08-11T22:07:58.330Z"
   },
   {
    "duration": 665,
    "start_time": "2024-08-11T22:12:54.685Z"
   },
   {
    "duration": 71,
    "start_time": "2024-08-11T22:13:01.501Z"
   },
   {
    "duration": 21,
    "start_time": "2024-08-11T22:13:01.573Z"
   },
   {
    "duration": 35,
    "start_time": "2024-08-11T22:13:01.596Z"
   },
   {
    "duration": 48,
    "start_time": "2024-08-11T22:13:01.633Z"
   },
   {
    "duration": 47,
    "start_time": "2024-08-11T22:13:01.683Z"
   },
   {
    "duration": 24,
    "start_time": "2024-08-11T22:13:01.732Z"
   },
   {
    "duration": 30,
    "start_time": "2024-08-11T22:13:01.757Z"
   },
   {
    "duration": 77,
    "start_time": "2024-08-11T22:13:01.789Z"
   },
   {
    "duration": 57,
    "start_time": "2024-08-11T22:13:01.868Z"
   },
   {
    "duration": 46,
    "start_time": "2024-08-11T22:13:01.927Z"
   },
   {
    "duration": 33,
    "start_time": "2024-08-11T22:13:01.976Z"
   },
   {
    "duration": 89,
    "start_time": "2024-08-11T22:13:02.011Z"
   },
   {
    "duration": 112,
    "start_time": "2024-08-11T22:13:02.102Z"
   },
   {
    "duration": 68,
    "start_time": "2024-08-11T22:13:02.217Z"
   },
   {
    "duration": 22,
    "start_time": "2024-08-11T22:13:02.286Z"
   },
   {
    "duration": 21,
    "start_time": "2024-08-11T22:13:02.309Z"
   },
   {
    "duration": 25,
    "start_time": "2024-08-11T22:13:02.331Z"
   },
   {
    "duration": 31,
    "start_time": "2024-08-11T22:13:02.358Z"
   },
   {
    "duration": 20,
    "start_time": "2024-08-11T22:13:02.390Z"
   },
   {
    "duration": 249,
    "start_time": "2024-08-11T22:13:02.412Z"
   },
   {
    "duration": 6,
    "start_time": "2024-08-11T22:13:02.663Z"
   },
   {
    "duration": 151,
    "start_time": "2024-08-11T22:13:02.670Z"
   },
   {
    "duration": 27,
    "start_time": "2024-08-11T22:13:02.823Z"
   },
   {
    "duration": 7,
    "start_time": "2024-08-11T22:15:59.477Z"
   },
   {
    "duration": 6,
    "start_time": "2024-08-11T22:16:17.183Z"
   },
   {
    "duration": 6,
    "start_time": "2024-08-11T22:18:05.263Z"
   },
   {
    "duration": 11,
    "start_time": "2024-08-11T22:21:44.916Z"
   },
   {
    "duration": 6,
    "start_time": "2024-08-11T22:21:51.456Z"
   },
   {
    "duration": 6,
    "start_time": "2024-08-11T22:22:14.251Z"
   },
   {
    "duration": 7,
    "start_time": "2024-08-11T22:22:40.777Z"
   },
   {
    "duration": 11,
    "start_time": "2024-08-11T22:27:32.284Z"
   },
   {
    "duration": 9,
    "start_time": "2024-08-11T22:28:07.308Z"
   },
   {
    "duration": 142,
    "start_time": "2024-08-11T22:29:05.605Z"
   },
   {
    "duration": 10,
    "start_time": "2024-08-11T22:30:06.296Z"
   },
   {
    "duration": 9,
    "start_time": "2024-08-11T22:30:19.286Z"
   },
   {
    "duration": 1118,
    "start_time": "2024-08-11T22:33:04.288Z"
   },
   {
    "duration": 5,
    "start_time": "2024-08-11T22:33:43.376Z"
   },
   {
    "duration": 130,
    "start_time": "2024-08-11T22:33:51.407Z"
   },
   {
    "duration": 7,
    "start_time": "2024-08-11T22:34:10.377Z"
   },
   {
    "duration": 5,
    "start_time": "2024-08-11T22:34:38.913Z"
   },
   {
    "duration": 7,
    "start_time": "2024-08-11T22:34:51.328Z"
   },
   {
    "duration": 190,
    "start_time": "2024-08-11T22:35:19.386Z"
   },
   {
    "duration": 137,
    "start_time": "2024-08-11T22:35:41.426Z"
   },
   {
    "duration": 8,
    "start_time": "2024-08-11T22:43:43.822Z"
   },
   {
    "duration": 8,
    "start_time": "2024-08-11T22:44:43.566Z"
   },
   {
    "duration": 8,
    "start_time": "2024-08-11T22:45:09.746Z"
   },
   {
    "duration": 7,
    "start_time": "2024-08-11T22:45:16.077Z"
   },
   {
    "duration": 10,
    "start_time": "2024-08-11T22:45:23.672Z"
   },
   {
    "duration": 5,
    "start_time": "2024-08-11T22:45:28.431Z"
   },
   {
    "duration": 145,
    "start_time": "2024-08-11T22:46:17.239Z"
   },
   {
    "duration": 163,
    "start_time": "2024-08-11T22:46:22.712Z"
   },
   {
    "duration": 62,
    "start_time": "2024-08-11T22:46:41.697Z"
   },
   {
    "duration": 5,
    "start_time": "2024-08-11T22:46:44.497Z"
   },
   {
    "duration": 155,
    "start_time": "2024-08-11T22:47:04.865Z"
   },
   {
    "duration": 144,
    "start_time": "2024-08-11T22:47:14.000Z"
   },
   {
    "duration": 171,
    "start_time": "2024-08-11T22:47:24.928Z"
   },
   {
    "duration": 139,
    "start_time": "2024-08-11T22:47:28.216Z"
   },
   {
    "duration": 149,
    "start_time": "2024-08-11T22:47:31.539Z"
   },
   {
    "duration": 215,
    "start_time": "2024-08-11T22:47:35.021Z"
   },
   {
    "duration": 162,
    "start_time": "2024-08-11T22:47:38.939Z"
   },
   {
    "duration": 269,
    "start_time": "2024-08-11T22:47:41.592Z"
   },
   {
    "duration": 191,
    "start_time": "2024-08-11T22:47:44.547Z"
   },
   {
    "duration": 157,
    "start_time": "2024-08-11T22:47:50.872Z"
   },
   {
    "duration": 149,
    "start_time": "2024-08-11T22:47:54.377Z"
   },
   {
    "duration": 115,
    "start_time": "2024-08-11T22:47:57.760Z"
   },
   {
    "duration": 159,
    "start_time": "2024-08-11T22:48:00.434Z"
   },
   {
    "duration": 13,
    "start_time": "2024-08-11T22:48:55.113Z"
   },
   {
    "duration": 11,
    "start_time": "2024-08-11T22:49:08.617Z"
   },
   {
    "duration": 11,
    "start_time": "2024-08-11T22:51:17.506Z"
   },
   {
    "duration": 5,
    "start_time": "2024-08-11T22:53:49.980Z"
   },
   {
    "duration": 495,
    "start_time": "2024-08-11T22:55:48.356Z"
   },
   {
    "duration": 12,
    "start_time": "2024-08-11T22:56:42.257Z"
   },
   {
    "duration": 9,
    "start_time": "2024-08-11T22:57:03.669Z"
   },
   {
    "duration": 5,
    "start_time": "2024-08-11T22:57:08.358Z"
   },
   {
    "duration": 13,
    "start_time": "2024-08-11T23:02:08.216Z"
   },
   {
    "duration": 129,
    "start_time": "2024-08-11T23:02:17.601Z"
   },
   {
    "duration": 5,
    "start_time": "2024-08-11T23:02:39.321Z"
   },
   {
    "duration": 179,
    "start_time": "2024-08-11T23:02:53.489Z"
   },
   {
    "duration": 177,
    "start_time": "2024-08-11T23:03:16.703Z"
   },
   {
    "duration": 188,
    "start_time": "2024-08-11T23:03:19.898Z"
   },
   {
    "duration": 176,
    "start_time": "2024-08-11T23:03:29.706Z"
   },
   {
    "duration": 9,
    "start_time": "2024-08-11T23:05:10.177Z"
   },
   {
    "duration": 15,
    "start_time": "2024-08-11T23:05:59.210Z"
   },
   {
    "duration": 176,
    "start_time": "2024-08-11T23:06:49.779Z"
   },
   {
    "duration": 180,
    "start_time": "2024-08-11T23:06:54.748Z"
   },
   {
    "duration": 197,
    "start_time": "2024-08-11T23:06:58.876Z"
   },
   {
    "duration": 190,
    "start_time": "2024-08-11T23:07:28.910Z"
   },
   {
    "duration": 165,
    "start_time": "2024-08-11T23:07:42.633Z"
   },
   {
    "duration": 226,
    "start_time": "2024-08-11T23:07:49.990Z"
   },
   {
    "duration": 15,
    "start_time": "2024-08-11T23:08:14.748Z"
   },
   {
    "duration": 16,
    "start_time": "2024-08-11T23:08:45.806Z"
   },
   {
    "duration": 140,
    "start_time": "2024-08-11T23:13:10.778Z"
   },
   {
    "duration": 45,
    "start_time": "2024-08-11T23:15:13.914Z"
   },
   {
    "duration": 14,
    "start_time": "2024-08-11T23:15:23.769Z"
   },
   {
    "duration": 13,
    "start_time": "2024-08-11T23:16:29.676Z"
   },
   {
    "duration": 10,
    "start_time": "2024-08-11T23:16:42.188Z"
   },
   {
    "duration": 153,
    "start_time": "2024-08-11T23:26:35.267Z"
   },
   {
    "duration": 154,
    "start_time": "2024-08-11T23:26:39.770Z"
   },
   {
    "duration": 163,
    "start_time": "2024-08-11T23:26:46.025Z"
   },
   {
    "duration": 178,
    "start_time": "2024-08-11T23:27:02.864Z"
   },
   {
    "duration": 170,
    "start_time": "2024-08-11T23:27:17.413Z"
   },
   {
    "duration": 177,
    "start_time": "2024-08-11T23:27:23.394Z"
   },
   {
    "duration": 16,
    "start_time": "2024-08-11T23:27:55.192Z"
   },
   {
    "duration": 158,
    "start_time": "2024-08-11T23:28:03.249Z"
   },
   {
    "duration": 91,
    "start_time": "2024-08-11T23:28:44.106Z"
   },
   {
    "duration": 10,
    "start_time": "2024-08-11T23:28:49.193Z"
   },
   {
    "duration": 150,
    "start_time": "2024-08-11T23:30:09.192Z"
   },
   {
    "duration": 131,
    "start_time": "2024-08-11T23:30:15.691Z"
   },
   {
    "duration": 15,
    "start_time": "2024-08-11T23:33:08.110Z"
   },
   {
    "duration": 14,
    "start_time": "2024-08-11T23:34:30.765Z"
   },
   {
    "duration": 243,
    "start_time": "2024-08-11T23:34:33.853Z"
   },
   {
    "duration": 21,
    "start_time": "2024-08-11T23:35:18.894Z"
   },
   {
    "duration": 1059,
    "start_time": "2024-08-11T23:46:09.134Z"
   },
   {
    "duration": 7,
    "start_time": "2024-08-11T23:46:40.235Z"
   },
   {
    "duration": 1030,
    "start_time": "2024-08-11T23:46:50.480Z"
   },
   {
    "duration": 6,
    "start_time": "2024-08-11T23:47:07.151Z"
   },
   {
    "duration": 17,
    "start_time": "2024-08-11T23:52:16.649Z"
   },
   {
    "duration": 19,
    "start_time": "2024-08-11T23:52:34.616Z"
   },
   {
    "duration": 11,
    "start_time": "2024-08-11T23:53:07.952Z"
   },
   {
    "duration": 16,
    "start_time": "2024-08-11T23:53:13.783Z"
   },
   {
    "duration": 134,
    "start_time": "2024-08-11T23:53:40.008Z"
   },
   {
    "duration": 132,
    "start_time": "2024-08-11T23:53:52.096Z"
   },
   {
    "duration": 13,
    "start_time": "2024-08-11T23:54:36.147Z"
   },
   {
    "duration": 15,
    "start_time": "2024-08-11T23:55:18.682Z"
   },
   {
    "duration": 15,
    "start_time": "2024-08-11T23:55:27.528Z"
   },
   {
    "duration": 144,
    "start_time": "2024-08-11T23:56:08.618Z"
   },
   {
    "duration": 161,
    "start_time": "2024-08-11T23:56:15.594Z"
   },
   {
    "duration": 156,
    "start_time": "2024-08-11T23:56:30.866Z"
   },
   {
    "duration": 10,
    "start_time": "2024-08-11T23:58:28.980Z"
   },
   {
    "duration": 9,
    "start_time": "2024-08-12T00:02:13.142Z"
   },
   {
    "duration": 7,
    "start_time": "2024-08-12T00:02:28.293Z"
   },
   {
    "duration": 9,
    "start_time": "2024-08-12T00:03:58.614Z"
   },
   {
    "duration": 8,
    "start_time": "2024-08-12T00:05:12.104Z"
   },
   {
    "duration": 122,
    "start_time": "2024-08-12T00:05:19.359Z"
   },
   {
    "duration": 6,
    "start_time": "2024-08-12T00:06:11.608Z"
   },
   {
    "duration": 102,
    "start_time": "2024-08-12T00:11:01.983Z"
   },
   {
    "duration": 107,
    "start_time": "2024-08-12T00:14:45.892Z"
   },
   {
    "duration": 106,
    "start_time": "2024-08-12T00:15:30.458Z"
   },
   {
    "duration": 104,
    "start_time": "2024-08-12T00:19:55.967Z"
   },
   {
    "duration": 90,
    "start_time": "2024-08-12T00:28:07.636Z"
   },
   {
    "duration": 1283,
    "start_time": "2024-08-12T16:31:30.472Z"
   },
   {
    "duration": 89,
    "start_time": "2024-08-12T18:12:02.888Z"
   },
   {
    "duration": 8,
    "start_time": "2024-08-12T18:12:11.148Z"
   },
   {
    "duration": 3,
    "start_time": "2024-08-12T18:12:20.715Z"
   },
   {
    "duration": 368,
    "start_time": "2024-08-12T18:12:24.071Z"
   },
   {
    "duration": 19,
    "start_time": "2024-08-12T18:12:24.441Z"
   },
   {
    "duration": 16,
    "start_time": "2024-08-12T18:12:24.462Z"
   },
   {
    "duration": 14,
    "start_time": "2024-08-12T18:12:24.480Z"
   },
   {
    "duration": 19,
    "start_time": "2024-08-12T18:12:24.496Z"
   },
   {
    "duration": 23,
    "start_time": "2024-08-12T18:12:24.517Z"
   },
   {
    "duration": 27,
    "start_time": "2024-08-12T18:12:24.541Z"
   },
   {
    "duration": 15,
    "start_time": "2024-08-12T18:12:24.570Z"
   },
   {
    "duration": 25,
    "start_time": "2024-08-12T18:12:24.586Z"
   },
   {
    "duration": 26,
    "start_time": "2024-08-12T18:12:24.613Z"
   },
   {
    "duration": 19,
    "start_time": "2024-08-12T18:12:24.640Z"
   },
   {
    "duration": 4,
    "start_time": "2024-08-12T18:12:24.660Z"
   },
   {
    "duration": 16,
    "start_time": "2024-08-12T18:12:24.665Z"
   },
   {
    "duration": 18,
    "start_time": "2024-08-12T18:12:24.683Z"
   },
   {
    "duration": 4,
    "start_time": "2024-08-12T18:12:24.703Z"
   },
   {
    "duration": 24,
    "start_time": "2024-08-12T18:12:24.709Z"
   },
   {
    "duration": 29,
    "start_time": "2024-08-12T18:12:24.735Z"
   },
   {
    "duration": 5,
    "start_time": "2024-08-12T18:12:24.766Z"
   },
   {
    "duration": 11,
    "start_time": "2024-08-12T18:12:24.772Z"
   },
   {
    "duration": 152,
    "start_time": "2024-08-12T18:12:24.785Z"
   },
   {
    "duration": 5,
    "start_time": "2024-08-12T18:12:24.939Z"
   },
   {
    "duration": 9,
    "start_time": "2024-08-12T18:12:24.946Z"
   },
   {
    "duration": 122,
    "start_time": "2024-08-12T18:12:24.956Z"
   },
   {
    "duration": 9,
    "start_time": "2024-08-12T18:12:25.079Z"
   },
   {
    "duration": 15,
    "start_time": "2024-08-12T18:12:25.090Z"
   },
   {
    "duration": 147,
    "start_time": "2024-08-12T18:12:25.107Z"
   },
   {
    "duration": 9,
    "start_time": "2024-08-12T18:12:25.255Z"
   },
   {
    "duration": 16,
    "start_time": "2024-08-12T18:12:25.269Z"
   },
   {
    "duration": 176,
    "start_time": "2024-08-12T18:12:25.287Z"
   },
   {
    "duration": 159,
    "start_time": "2024-08-12T18:12:25.465Z"
   },
   {
    "duration": 9,
    "start_time": "2024-08-12T18:12:25.625Z"
   },
   {
    "duration": 19,
    "start_time": "2024-08-12T18:12:25.635Z"
   },
   {
    "duration": 15,
    "start_time": "2024-08-12T18:12:25.655Z"
   },
   {
    "duration": 107,
    "start_time": "2024-08-12T18:12:25.671Z"
   },
   {
    "duration": 12,
    "start_time": "2024-08-12T18:12:25.781Z"
   },
   {
    "duration": 0,
    "start_time": "2024-08-12T18:12:25.795Z"
   },
   {
    "duration": 0,
    "start_time": "2024-08-12T18:12:25.796Z"
   },
   {
    "duration": 0,
    "start_time": "2024-08-12T18:12:25.797Z"
   },
   {
    "duration": 0,
    "start_time": "2024-08-12T18:12:25.798Z"
   },
   {
    "duration": 0,
    "start_time": "2024-08-12T18:12:25.800Z"
   },
   {
    "duration": 0,
    "start_time": "2024-08-12T18:12:25.802Z"
   },
   {
    "duration": 0,
    "start_time": "2024-08-12T18:12:25.803Z"
   },
   {
    "duration": 0,
    "start_time": "2024-08-12T18:12:25.804Z"
   },
   {
    "duration": 59,
    "start_time": "2024-08-12T18:13:03.752Z"
   },
   {
    "duration": 1017,
    "start_time": "2024-08-12T18:13:09.936Z"
   },
   {
    "duration": 70,
    "start_time": "2024-08-12T18:13:14.310Z"
   },
   {
    "duration": 19,
    "start_time": "2024-08-12T18:13:14.382Z"
   },
   {
    "duration": 16,
    "start_time": "2024-08-12T18:13:14.402Z"
   },
   {
    "duration": 13,
    "start_time": "2024-08-12T18:13:14.419Z"
   },
   {
    "duration": 54,
    "start_time": "2024-08-12T18:13:14.433Z"
   },
   {
    "duration": 6,
    "start_time": "2024-08-12T18:13:14.488Z"
   },
   {
    "duration": 4,
    "start_time": "2024-08-12T18:13:14.496Z"
   },
   {
    "duration": 11,
    "start_time": "2024-08-12T18:13:14.502Z"
   },
   {
    "duration": 12,
    "start_time": "2024-08-12T18:13:14.515Z"
   },
   {
    "duration": 5,
    "start_time": "2024-08-12T18:13:14.529Z"
   },
   {
    "duration": 4,
    "start_time": "2024-08-12T18:13:14.535Z"
   },
   {
    "duration": 20,
    "start_time": "2024-08-12T18:13:14.541Z"
   },
   {
    "duration": 22,
    "start_time": "2024-08-12T18:13:14.563Z"
   },
   {
    "duration": 5,
    "start_time": "2024-08-12T18:13:14.587Z"
   },
   {
    "duration": 6,
    "start_time": "2024-08-12T18:13:14.594Z"
   },
   {
    "duration": 6,
    "start_time": "2024-08-12T18:13:14.602Z"
   },
   {
    "duration": 7,
    "start_time": "2024-08-12T18:13:14.610Z"
   },
   {
    "duration": 5,
    "start_time": "2024-08-12T18:13:14.618Z"
   },
   {
    "duration": 15,
    "start_time": "2024-08-12T18:13:14.624Z"
   },
   {
    "duration": 165,
    "start_time": "2024-08-12T18:13:14.640Z"
   },
   {
    "duration": 5,
    "start_time": "2024-08-12T18:13:14.806Z"
   },
   {
    "duration": 10,
    "start_time": "2024-08-12T18:13:14.813Z"
   },
   {
    "duration": 125,
    "start_time": "2024-08-12T18:13:14.824Z"
   },
   {
    "duration": 8,
    "start_time": "2024-08-12T18:13:14.951Z"
   },
   {
    "duration": 8,
    "start_time": "2024-08-12T18:13:14.960Z"
   },
   {
    "duration": 151,
    "start_time": "2024-08-12T18:13:14.981Z"
   },
   {
    "duration": 7,
    "start_time": "2024-08-12T18:13:15.134Z"
   },
   {
    "duration": 24,
    "start_time": "2024-08-12T18:13:15.144Z"
   },
   {
    "duration": 165,
    "start_time": "2024-08-12T18:13:15.170Z"
   },
   {
    "duration": 162,
    "start_time": "2024-08-12T18:13:15.337Z"
   },
   {
    "duration": 8,
    "start_time": "2024-08-12T18:13:15.500Z"
   },
   {
    "duration": 7,
    "start_time": "2024-08-12T18:13:15.510Z"
   },
   {
    "duration": 5,
    "start_time": "2024-08-12T18:13:15.518Z"
   },
   {
    "duration": 118,
    "start_time": "2024-08-12T18:13:15.524Z"
   },
   {
    "duration": 5,
    "start_time": "2024-08-12T18:13:15.644Z"
   },
   {
    "duration": 178,
    "start_time": "2024-08-12T18:13:15.650Z"
   },
   {
    "duration": 140,
    "start_time": "2024-08-12T18:13:15.829Z"
   },
   {
    "duration": 16,
    "start_time": "2024-08-12T18:13:15.971Z"
   },
   {
    "duration": 213,
    "start_time": "2024-08-12T18:13:15.988Z"
   },
   {
    "duration": 5,
    "start_time": "2024-08-12T18:13:16.203Z"
   },
   {
    "duration": 9,
    "start_time": "2024-08-12T18:13:16.209Z"
   },
   {
    "duration": 4,
    "start_time": "2024-08-12T18:13:16.220Z"
   },
   {
    "duration": 125,
    "start_time": "2024-08-12T18:13:16.226Z"
   },
   {
    "duration": 7,
    "start_time": "2024-08-12T18:14:14.120Z"
   },
   {
    "duration": 57,
    "start_time": "2024-08-12T18:15:11.672Z"
   },
   {
    "duration": 6,
    "start_time": "2024-08-12T18:15:23.193Z"
   },
   {
    "duration": 95,
    "start_time": "2024-08-12T18:16:03.713Z"
   },
   {
    "duration": 92,
    "start_time": "2024-08-12T18:18:04.187Z"
   },
   {
    "duration": 6,
    "start_time": "2024-08-12T18:22:43.735Z"
   },
   {
    "duration": 11,
    "start_time": "2024-08-12T18:33:46.788Z"
   },
   {
    "duration": 14,
    "start_time": "2024-08-12T18:34:43.982Z"
   },
   {
    "duration": 8,
    "start_time": "2024-08-12T18:40:30.679Z"
   },
   {
    "duration": 8,
    "start_time": "2024-08-12T18:43:05.744Z"
   },
   {
    "duration": 18,
    "start_time": "2024-08-12T18:44:34.464Z"
   },
   {
    "duration": 21,
    "start_time": "2024-08-12T18:47:36.940Z"
   },
   {
    "duration": 21,
    "start_time": "2024-08-12T18:47:59.771Z"
   },
   {
    "duration": 15,
    "start_time": "2024-08-12T18:48:03.718Z"
   },
   {
    "duration": 16,
    "start_time": "2024-08-12T18:48:09.291Z"
   },
   {
    "duration": 16,
    "start_time": "2024-08-12T18:49:59.821Z"
   },
   {
    "duration": 17,
    "start_time": "2024-08-12T18:52:57.639Z"
   },
   {
    "duration": 20,
    "start_time": "2024-08-12T18:53:32.183Z"
   },
   {
    "duration": 16,
    "start_time": "2024-08-12T18:54:06.417Z"
   },
   {
    "duration": 11,
    "start_time": "2024-08-12T18:54:10.336Z"
   },
   {
    "duration": 12,
    "start_time": "2024-08-12T18:54:28.607Z"
   },
   {
    "duration": 766,
    "start_time": "2024-08-12T18:56:09.618Z"
   },
   {
    "duration": 188,
    "start_time": "2024-08-12T18:56:48.346Z"
   },
   {
    "duration": 203,
    "start_time": "2024-08-12T18:57:27.761Z"
   },
   {
    "duration": 300,
    "start_time": "2024-08-12T18:57:40.185Z"
   },
   {
    "duration": 202,
    "start_time": "2024-08-12T18:57:53.682Z"
   },
   {
    "duration": 194,
    "start_time": "2024-08-12T18:58:24.582Z"
   },
   {
    "duration": 244,
    "start_time": "2024-08-12T18:58:36.409Z"
   },
   {
    "duration": 293,
    "start_time": "2024-08-12T18:58:43.667Z"
   },
   {
    "duration": 297,
    "start_time": "2024-08-12T18:59:18.243Z"
   },
   {
    "duration": 285,
    "start_time": "2024-08-12T18:59:27.482Z"
   },
   {
    "duration": 11,
    "start_time": "2024-08-12T19:15:19.316Z"
   },
   {
    "duration": 73,
    "start_time": "2024-08-12T19:18:30.525Z"
   },
   {
    "duration": 9,
    "start_time": "2024-08-12T19:18:37.167Z"
   },
   {
    "duration": 10,
    "start_time": "2024-08-12T19:19:47.060Z"
   },
   {
    "duration": 10,
    "start_time": "2024-08-12T19:21:05.820Z"
   },
   {
    "duration": 10,
    "start_time": "2024-08-12T19:21:15.769Z"
   },
   {
    "duration": 11,
    "start_time": "2024-08-12T19:21:53.718Z"
   },
   {
    "duration": 225,
    "start_time": "2024-08-12T19:23:25.694Z"
   },
   {
    "duration": 213,
    "start_time": "2024-08-12T19:23:42.470Z"
   },
   {
    "duration": 13,
    "start_time": "2024-08-12T19:42:05.798Z"
   },
   {
    "duration": 10,
    "start_time": "2024-08-12T19:42:18.390Z"
   },
   {
    "duration": 1014,
    "start_time": "2024-08-12T19:44:10.416Z"
   },
   {
    "duration": 3,
    "start_time": "2024-08-12T19:44:44.110Z"
   },
   {
    "duration": 87,
    "start_time": "2024-08-12T19:44:44.115Z"
   },
   {
    "duration": 26,
    "start_time": "2024-08-12T19:44:44.204Z"
   },
   {
    "duration": 20,
    "start_time": "2024-08-12T19:44:44.232Z"
   },
   {
    "duration": 33,
    "start_time": "2024-08-12T19:44:44.254Z"
   },
   {
    "duration": 19,
    "start_time": "2024-08-12T19:44:44.289Z"
   },
   {
    "duration": 7,
    "start_time": "2024-08-12T19:44:44.309Z"
   },
   {
    "duration": 6,
    "start_time": "2024-08-12T19:44:44.318Z"
   },
   {
    "duration": 6,
    "start_time": "2024-08-12T19:44:44.327Z"
   },
   {
    "duration": 51,
    "start_time": "2024-08-12T19:44:44.335Z"
   },
   {
    "duration": 6,
    "start_time": "2024-08-12T19:44:44.388Z"
   },
   {
    "duration": 20,
    "start_time": "2024-08-12T19:44:44.396Z"
   },
   {
    "duration": 9,
    "start_time": "2024-08-12T19:44:44.417Z"
   },
   {
    "duration": 14,
    "start_time": "2024-08-12T19:44:44.428Z"
   },
   {
    "duration": 9,
    "start_time": "2024-08-12T19:44:44.444Z"
   },
   {
    "duration": 16,
    "start_time": "2024-08-12T19:44:44.455Z"
   },
   {
    "duration": 10,
    "start_time": "2024-08-12T19:44:44.472Z"
   },
   {
    "duration": 10,
    "start_time": "2024-08-12T19:44:44.484Z"
   },
   {
    "duration": 5,
    "start_time": "2024-08-12T19:44:44.495Z"
   },
   {
    "duration": 9,
    "start_time": "2024-08-12T19:44:44.501Z"
   },
   {
    "duration": 212,
    "start_time": "2024-08-12T19:44:44.511Z"
   },
   {
    "duration": 6,
    "start_time": "2024-08-12T19:44:44.725Z"
   },
   {
    "duration": 8,
    "start_time": "2024-08-12T19:44:44.732Z"
   },
   {
    "duration": 126,
    "start_time": "2024-08-12T19:44:44.741Z"
   },
   {
    "duration": 17,
    "start_time": "2024-08-12T19:44:44.869Z"
   },
   {
    "duration": 12,
    "start_time": "2024-08-12T19:44:44.887Z"
   },
   {
    "duration": 155,
    "start_time": "2024-08-12T19:44:44.901Z"
   },
   {
    "duration": 11,
    "start_time": "2024-08-12T19:44:45.057Z"
   },
   {
    "duration": 41,
    "start_time": "2024-08-12T19:44:45.072Z"
   },
   {
    "duration": 196,
    "start_time": "2024-08-12T19:44:45.115Z"
   },
   {
    "duration": 170,
    "start_time": "2024-08-12T19:44:45.312Z"
   },
   {
    "duration": 10,
    "start_time": "2024-08-12T19:44:45.483Z"
   },
   {
    "duration": 116,
    "start_time": "2024-08-12T19:44:45.494Z"
   },
   {
    "duration": 12,
    "start_time": "2024-08-12T19:44:45.612Z"
   },
   {
    "duration": 10,
    "start_time": "2024-08-12T19:44:45.626Z"
   },
   {
    "duration": 10,
    "start_time": "2024-08-12T19:44:45.638Z"
   },
   {
    "duration": 193,
    "start_time": "2024-08-12T19:44:45.649Z"
   },
   {
    "duration": 133,
    "start_time": "2024-08-12T19:44:45.844Z"
   },
   {
    "duration": 14,
    "start_time": "2024-08-12T19:44:45.981Z"
   },
   {
    "duration": 218,
    "start_time": "2024-08-12T19:44:45.996Z"
   },
   {
    "duration": 8,
    "start_time": "2024-08-12T19:44:46.216Z"
   },
   {
    "duration": 10,
    "start_time": "2024-08-12T19:44:46.226Z"
   },
   {
    "duration": 6,
    "start_time": "2024-08-12T19:44:46.237Z"
   },
   {
    "duration": 143,
    "start_time": "2024-08-12T19:44:46.244Z"
   },
   {
    "duration": 22,
    "start_time": "2024-08-12T19:44:46.388Z"
   },
   {
    "duration": 23,
    "start_time": "2024-08-12T19:44:46.412Z"
   },
   {
    "duration": 17,
    "start_time": "2024-08-12T19:44:46.437Z"
   },
   {
    "duration": 38,
    "start_time": "2024-08-12T19:44:46.456Z"
   },
   {
    "duration": 313,
    "start_time": "2024-08-12T19:44:46.496Z"
   },
   {
    "duration": 13,
    "start_time": "2024-08-12T19:44:46.811Z"
   },
   {
    "duration": 299,
    "start_time": "2024-08-12T19:44:46.826Z"
   },
   {
    "duration": 11,
    "start_time": "2024-08-12T19:44:47.126Z"
   },
   {
    "duration": 103,
    "start_time": "2024-08-12T19:51:03.148Z"
   },
   {
    "duration": 21,
    "start_time": "2024-08-12T19:51:18.951Z"
   },
   {
    "duration": 34,
    "start_time": "2024-08-12T19:52:11.100Z"
   },
   {
    "duration": 23,
    "start_time": "2024-08-12T19:53:06.541Z"
   },
   {
    "duration": 30,
    "start_time": "2024-08-12T19:53:16.198Z"
   },
   {
    "duration": 26,
    "start_time": "2024-08-12T19:53:33.244Z"
   },
   {
    "duration": 29,
    "start_time": "2024-08-12T19:55:34.104Z"
   },
   {
    "duration": 13,
    "start_time": "2024-08-12T19:57:05.247Z"
   },
   {
    "duration": 14,
    "start_time": "2024-08-12T19:57:36.344Z"
   },
   {
    "duration": 13,
    "start_time": "2024-08-12T19:57:45.225Z"
   },
   {
    "duration": 12,
    "start_time": "2024-08-12T20:03:26.653Z"
   },
   {
    "duration": 25,
    "start_time": "2024-08-12T20:04:56.854Z"
   },
   {
    "duration": 25,
    "start_time": "2024-08-12T20:05:07.686Z"
   },
   {
    "duration": 14,
    "start_time": "2024-08-12T20:06:23.959Z"
   },
   {
    "duration": 217,
    "start_time": "2024-08-12T20:06:47.247Z"
   },
   {
    "duration": 12,
    "start_time": "2024-08-12T20:13:14.359Z"
   },
   {
    "duration": 10,
    "start_time": "2024-08-12T20:14:39.918Z"
   },
   {
    "duration": 27,
    "start_time": "2024-08-12T20:14:50.310Z"
   },
   {
    "duration": 26,
    "start_time": "2024-08-12T20:15:04.135Z"
   },
   {
    "duration": 34,
    "start_time": "2024-08-12T20:15:17.263Z"
   },
   {
    "duration": 8,
    "start_time": "2024-08-12T20:15:33.941Z"
   },
   {
    "duration": 25,
    "start_time": "2024-08-12T20:15:37.223Z"
   },
   {
    "duration": 25,
    "start_time": "2024-08-12T20:15:58.407Z"
   },
   {
    "duration": 26,
    "start_time": "2024-08-12T20:16:02.607Z"
   },
   {
    "duration": 27,
    "start_time": "2024-08-12T20:16:08.124Z"
   },
   {
    "duration": 26,
    "start_time": "2024-08-12T20:16:51.846Z"
   },
   {
    "duration": 10,
    "start_time": "2024-08-12T20:17:36.015Z"
   },
   {
    "duration": 13,
    "start_time": "2024-08-12T20:49:02.437Z"
   },
   {
    "duration": 3,
    "start_time": "2024-08-12T21:00:20.337Z"
   },
   {
    "duration": 10,
    "start_time": "2024-08-12T21:02:04.892Z"
   },
   {
    "duration": 4,
    "start_time": "2024-08-12T21:04:11.509Z"
   },
   {
    "duration": 4,
    "start_time": "2024-08-12T21:04:33.164Z"
   },
   {
    "duration": 10,
    "start_time": "2024-08-12T21:04:51.255Z"
   },
   {
    "duration": 3,
    "start_time": "2024-08-12T21:05:40.804Z"
   },
   {
    "duration": 10,
    "start_time": "2024-08-12T21:06:30.156Z"
   },
   {
    "duration": 3,
    "start_time": "2024-08-12T21:06:34.773Z"
   },
   {
    "duration": 3,
    "start_time": "2024-08-12T21:06:43.943Z"
   },
   {
    "duration": 3,
    "start_time": "2024-08-12T21:06:52.823Z"
   },
   {
    "duration": 11,
    "start_time": "2024-08-12T21:12:56.123Z"
   },
   {
    "duration": 9,
    "start_time": "2024-08-12T21:14:16.332Z"
   },
   {
    "duration": 7,
    "start_time": "2024-08-12T21:14:27.845Z"
   },
   {
    "duration": 9,
    "start_time": "2024-08-12T21:16:43.046Z"
   },
   {
    "duration": 19,
    "start_time": "2024-08-12T21:16:46.375Z"
   },
   {
    "duration": 17,
    "start_time": "2024-08-12T21:19:17.894Z"
   },
   {
    "duration": 9,
    "start_time": "2024-08-12T21:27:00.023Z"
   },
   {
    "duration": 17,
    "start_time": "2024-08-12T21:27:17.521Z"
   },
   {
    "duration": 16,
    "start_time": "2024-08-12T21:37:22.280Z"
   },
   {
    "duration": 716,
    "start_time": "2024-08-12T21:38:00.729Z"
   },
   {
    "duration": 745,
    "start_time": "2024-08-12T21:38:33.015Z"
   },
   {
    "duration": 3,
    "start_time": "2024-08-12T21:42:23.336Z"
   },
   {
    "duration": 4,
    "start_time": "2024-08-12T21:43:46.155Z"
   },
   {
    "duration": 71,
    "start_time": "2024-08-12T21:51:07.600Z"
   },
   {
    "duration": 56,
    "start_time": "2024-08-12T21:51:35.039Z"
   },
   {
    "duration": 53,
    "start_time": "2024-08-12T21:51:44.271Z"
   },
   {
    "duration": 65,
    "start_time": "2024-08-12T21:51:50.082Z"
   },
   {
    "duration": 67,
    "start_time": "2024-08-12T21:51:58.975Z"
   },
   {
    "duration": 30,
    "start_time": "2024-08-12T21:53:09.161Z"
   },
   {
    "duration": 19,
    "start_time": "2024-08-12T21:53:43.352Z"
   },
   {
    "duration": 22,
    "start_time": "2024-08-12T21:55:10.120Z"
   },
   {
    "duration": 9,
    "start_time": "2024-08-12T21:55:33.890Z"
   },
   {
    "duration": 41,
    "start_time": "2024-08-12T21:56:28.419Z"
   },
   {
    "duration": 30,
    "start_time": "2024-08-12T22:00:18.014Z"
   },
   {
    "duration": 16,
    "start_time": "2024-08-12T22:22:17.900Z"
   },
   {
    "duration": 19,
    "start_time": "2024-08-12T22:24:16.705Z"
   },
   {
    "duration": 14,
    "start_time": "2024-08-12T22:25:34.982Z"
   },
   {
    "duration": 1061,
    "start_time": "2024-08-12T22:58:47.266Z"
   },
   {
    "duration": 71,
    "start_time": "2024-08-12T22:58:48.329Z"
   },
   {
    "duration": 18,
    "start_time": "2024-08-12T22:58:48.401Z"
   },
   {
    "duration": 29,
    "start_time": "2024-08-12T22:58:48.421Z"
   },
   {
    "duration": 22,
    "start_time": "2024-08-12T22:58:48.451Z"
   },
   {
    "duration": 20,
    "start_time": "2024-08-12T22:58:48.475Z"
   },
   {
    "duration": 12,
    "start_time": "2024-08-12T22:58:48.496Z"
   },
   {
    "duration": 14,
    "start_time": "2024-08-12T22:58:48.509Z"
   },
   {
    "duration": 7,
    "start_time": "2024-08-12T22:58:48.525Z"
   },
   {
    "duration": 26,
    "start_time": "2024-08-12T22:58:48.534Z"
   },
   {
    "duration": 24,
    "start_time": "2024-08-12T22:58:48.561Z"
   },
   {
    "duration": 41,
    "start_time": "2024-08-12T22:58:48.587Z"
   },
   {
    "duration": 38,
    "start_time": "2024-08-12T22:58:48.630Z"
   },
   {
    "duration": 34,
    "start_time": "2024-08-12T22:58:48.670Z"
   },
   {
    "duration": 69,
    "start_time": "2024-08-12T22:58:48.706Z"
   },
   {
    "duration": 37,
    "start_time": "2024-08-12T22:58:48.777Z"
   },
   {
    "duration": 20,
    "start_time": "2024-08-12T22:58:48.815Z"
   },
   {
    "duration": 8,
    "start_time": "2024-08-12T22:58:48.836Z"
   },
   {
    "duration": 20,
    "start_time": "2024-08-12T22:58:48.846Z"
   },
   {
    "duration": 10,
    "start_time": "2024-08-12T22:58:48.868Z"
   },
   {
    "duration": 142,
    "start_time": "2024-08-12T22:58:48.880Z"
   },
   {
    "duration": 5,
    "start_time": "2024-08-12T22:58:49.024Z"
   },
   {
    "duration": 19,
    "start_time": "2024-08-12T22:58:49.030Z"
   },
   {
    "duration": 114,
    "start_time": "2024-08-12T22:58:49.050Z"
   },
   {
    "duration": 9,
    "start_time": "2024-08-12T22:58:49.165Z"
   },
   {
    "duration": 6,
    "start_time": "2024-08-12T22:58:49.182Z"
   },
   {
    "duration": 148,
    "start_time": "2024-08-12T22:58:49.189Z"
   },
   {
    "duration": 7,
    "start_time": "2024-08-12T22:58:49.341Z"
   },
   {
    "duration": 5,
    "start_time": "2024-08-12T22:58:49.349Z"
   },
   {
    "duration": 175,
    "start_time": "2024-08-12T22:58:49.355Z"
   },
   {
    "duration": 157,
    "start_time": "2024-08-12T22:58:49.532Z"
   },
   {
    "duration": 9,
    "start_time": "2024-08-12T22:58:49.691Z"
   },
   {
    "duration": 111,
    "start_time": "2024-08-12T22:58:49.701Z"
   },
   {
    "duration": 10,
    "start_time": "2024-08-12T22:58:49.813Z"
   },
   {
    "duration": 5,
    "start_time": "2024-08-12T22:58:49.824Z"
   },
   {
    "duration": 7,
    "start_time": "2024-08-12T22:58:49.830Z"
   },
   {
    "duration": 190,
    "start_time": "2024-08-12T22:58:49.838Z"
   },
   {
    "duration": 133,
    "start_time": "2024-08-12T22:58:50.030Z"
   },
   {
    "duration": 22,
    "start_time": "2024-08-12T22:58:50.164Z"
   },
   {
    "duration": 222,
    "start_time": "2024-08-12T22:58:50.187Z"
   },
   {
    "duration": 7,
    "start_time": "2024-08-12T22:58:50.410Z"
   },
   {
    "duration": 13,
    "start_time": "2024-08-12T22:58:50.418Z"
   },
   {
    "duration": 24,
    "start_time": "2024-08-12T22:58:50.432Z"
   },
   {
    "duration": 112,
    "start_time": "2024-08-12T22:58:50.457Z"
   },
   {
    "duration": 21,
    "start_time": "2024-08-12T22:58:50.571Z"
   },
   {
    "duration": 17,
    "start_time": "2024-08-12T22:58:50.593Z"
   },
   {
    "duration": 29,
    "start_time": "2024-08-12T22:58:50.611Z"
   },
   {
    "duration": 19,
    "start_time": "2024-08-12T22:58:50.642Z"
   },
   {
    "duration": 282,
    "start_time": "2024-08-12T22:58:50.662Z"
   },
   {
    "duration": 10,
    "start_time": "2024-08-12T22:58:50.946Z"
   },
   {
    "duration": 279,
    "start_time": "2024-08-12T22:58:50.957Z"
   },
   {
    "duration": 9,
    "start_time": "2024-08-12T22:58:51.238Z"
   },
   {
    "duration": 49,
    "start_time": "2024-08-12T22:58:51.249Z"
   },
   {
    "duration": 8,
    "start_time": "2024-08-12T22:58:51.299Z"
   },
   {
    "duration": 17,
    "start_time": "2024-08-12T22:59:43.002Z"
   },
   {
    "duration": 14,
    "start_time": "2024-08-12T22:59:51.594Z"
   },
   {
    "duration": 14,
    "start_time": "2024-08-12T22:59:57.737Z"
   },
   {
    "duration": 14,
    "start_time": "2024-08-12T23:04:09.176Z"
   },
   {
    "duration": 105,
    "start_time": "2024-08-12T23:07:25.368Z"
   },
   {
    "duration": 26,
    "start_time": "2024-08-12T23:07:47.035Z"
   },
   {
    "duration": 15,
    "start_time": "2024-08-12T23:07:55.481Z"
   },
   {
    "duration": 15,
    "start_time": "2024-08-12T23:08:01.257Z"
   },
   {
    "duration": 25,
    "start_time": "2024-08-12T23:08:14.263Z"
   },
   {
    "duration": 750,
    "start_time": "2024-08-12T23:12:24.834Z"
   },
   {
    "duration": 15,
    "start_time": "2024-08-12T23:13:11.794Z"
   },
   {
    "duration": 709,
    "start_time": "2024-08-12T23:17:11.761Z"
   },
   {
    "duration": 690,
    "start_time": "2024-08-12T23:17:32.486Z"
   },
   {
    "duration": 689,
    "start_time": "2024-08-12T23:18:04.487Z"
   },
   {
    "duration": 675,
    "start_time": "2024-08-12T23:18:23.974Z"
   },
   {
    "duration": 7,
    "start_time": "2024-08-12T23:18:49.879Z"
   },
   {
    "duration": 8,
    "start_time": "2024-08-12T23:20:49.529Z"
   },
   {
    "duration": 708,
    "start_time": "2024-08-12T23:23:04.500Z"
   },
   {
    "duration": 7,
    "start_time": "2024-08-12T23:23:27.404Z"
   },
   {
    "duration": 6,
    "start_time": "2024-08-12T23:33:14.662Z"
   },
   {
    "duration": 7,
    "start_time": "2024-08-12T23:35:09.892Z"
   },
   {
    "duration": 4,
    "start_time": "2024-08-12T23:35:17.426Z"
   },
   {
    "duration": 4,
    "start_time": "2024-08-12T23:35:30.426Z"
   },
   {
    "duration": 14,
    "start_time": "2024-08-12T23:36:55.670Z"
   },
   {
    "duration": 7,
    "start_time": "2024-08-12T23:37:16.139Z"
   },
   {
    "duration": 12,
    "start_time": "2024-08-12T23:37:21.131Z"
   },
   {
    "duration": 0,
    "start_time": "2024-08-12T23:38:45.626Z"
   },
   {
    "duration": 0,
    "start_time": "2024-08-12T23:38:45.627Z"
   },
   {
    "duration": 15,
    "start_time": "2024-08-12T23:38:47.851Z"
   },
   {
    "duration": 6321,
    "start_time": "2024-08-12T23:38:57.677Z"
   },
   {
    "duration": 21,
    "start_time": "2024-08-12T23:41:00.191Z"
   },
   {
    "duration": 16,
    "start_time": "2024-08-12T23:41:12.789Z"
   },
   {
    "duration": 11,
    "start_time": "2024-08-12T23:44:41.248Z"
   },
   {
    "duration": 11,
    "start_time": "2024-08-12T23:44:43.583Z"
   },
   {
    "duration": 13,
    "start_time": "2024-08-12T23:44:51.960Z"
   },
   {
    "duration": 16,
    "start_time": "2024-08-12T23:45:01.839Z"
   },
   {
    "duration": 12,
    "start_time": "2024-08-12T23:47:13.929Z"
   },
   {
    "duration": 0,
    "start_time": "2024-08-12T23:53:00.184Z"
   },
   {
    "duration": 5687,
    "start_time": "2024-08-12T23:53:03.819Z"
   },
   {
    "duration": 226,
    "start_time": "2024-08-12T23:53:51.919Z"
   },
   {
    "duration": 32,
    "start_time": "2024-08-12T23:54:10.431Z"
   },
   {
    "duration": 6,
    "start_time": "2024-08-12T23:56:08.487Z"
   },
   {
    "duration": 10,
    "start_time": "2024-08-12T23:56:19.399Z"
   },
   {
    "duration": 10,
    "start_time": "2024-08-12T23:56:28.834Z"
   },
   {
    "duration": 177,
    "start_time": "2024-08-12T23:57:35.714Z"
   },
   {
    "duration": 1051,
    "start_time": "2024-08-12T23:58:14.115Z"
   },
   {
    "duration": 73,
    "start_time": "2024-08-12T23:58:15.168Z"
   },
   {
    "duration": 20,
    "start_time": "2024-08-12T23:58:15.242Z"
   },
   {
    "duration": 30,
    "start_time": "2024-08-12T23:58:15.265Z"
   },
   {
    "duration": 35,
    "start_time": "2024-08-12T23:58:15.297Z"
   },
   {
    "duration": 43,
    "start_time": "2024-08-12T23:58:15.333Z"
   },
   {
    "duration": 9,
    "start_time": "2024-08-12T23:58:15.377Z"
   },
   {
    "duration": 5,
    "start_time": "2024-08-12T23:58:15.388Z"
   },
   {
    "duration": 49,
    "start_time": "2024-08-12T23:58:15.395Z"
   },
   {
    "duration": 16,
    "start_time": "2024-08-12T23:58:15.447Z"
   },
   {
    "duration": 6,
    "start_time": "2024-08-12T23:58:15.466Z"
   },
   {
    "duration": 8,
    "start_time": "2024-08-12T23:58:15.473Z"
   },
   {
    "duration": 14,
    "start_time": "2024-08-12T23:58:15.482Z"
   },
   {
    "duration": 18,
    "start_time": "2024-08-12T23:58:15.497Z"
   },
   {
    "duration": 13,
    "start_time": "2024-08-12T23:58:15.516Z"
   },
   {
    "duration": 6,
    "start_time": "2024-08-12T23:58:15.530Z"
   },
   {
    "duration": 30,
    "start_time": "2024-08-12T23:58:15.537Z"
   },
   {
    "duration": 14,
    "start_time": "2024-08-12T23:58:15.568Z"
   },
   {
    "duration": 5,
    "start_time": "2024-08-12T23:58:15.584Z"
   },
   {
    "duration": 21,
    "start_time": "2024-08-12T23:58:15.590Z"
   },
   {
    "duration": 151,
    "start_time": "2024-08-12T23:58:15.613Z"
   },
   {
    "duration": 6,
    "start_time": "2024-08-12T23:58:15.765Z"
   },
   {
    "duration": 37,
    "start_time": "2024-08-12T23:58:15.772Z"
   },
   {
    "duration": 112,
    "start_time": "2024-08-12T23:58:15.811Z"
   },
   {
    "duration": 9,
    "start_time": "2024-08-12T23:58:15.924Z"
   },
   {
    "duration": 7,
    "start_time": "2024-08-12T23:58:15.935Z"
   },
   {
    "duration": 170,
    "start_time": "2024-08-12T23:58:15.943Z"
   },
   {
    "duration": 8,
    "start_time": "2024-08-12T23:58:16.116Z"
   },
   {
    "duration": 9,
    "start_time": "2024-08-12T23:58:16.126Z"
   },
   {
    "duration": 194,
    "start_time": "2024-08-12T23:58:16.137Z"
   },
   {
    "duration": 168,
    "start_time": "2024-08-12T23:58:16.332Z"
   },
   {
    "duration": 9,
    "start_time": "2024-08-12T23:58:16.501Z"
   },
   {
    "duration": 127,
    "start_time": "2024-08-12T23:58:16.511Z"
   },
   {
    "duration": 10,
    "start_time": "2024-08-12T23:58:16.640Z"
   },
   {
    "duration": 6,
    "start_time": "2024-08-12T23:58:16.652Z"
   },
   {
    "duration": 28,
    "start_time": "2024-08-12T23:58:16.660Z"
   },
   {
    "duration": 190,
    "start_time": "2024-08-12T23:58:16.689Z"
   },
   {
    "duration": 130,
    "start_time": "2024-08-12T23:58:16.882Z"
   },
   {
    "duration": 13,
    "start_time": "2024-08-12T23:58:17.013Z"
   },
   {
    "duration": 214,
    "start_time": "2024-08-12T23:58:17.027Z"
   },
   {
    "duration": 6,
    "start_time": "2024-08-12T23:58:17.243Z"
   },
   {
    "duration": 10,
    "start_time": "2024-08-12T23:58:17.250Z"
   },
   {
    "duration": 5,
    "start_time": "2024-08-12T23:58:17.282Z"
   },
   {
    "duration": 102,
    "start_time": "2024-08-12T23:58:17.289Z"
   },
   {
    "duration": 17,
    "start_time": "2024-08-12T23:58:17.393Z"
   },
   {
    "duration": 18,
    "start_time": "2024-08-12T23:58:17.412Z"
   },
   {
    "duration": 14,
    "start_time": "2024-08-12T23:58:17.432Z"
   },
   {
    "duration": 12,
    "start_time": "2024-08-12T23:58:17.482Z"
   },
   {
    "duration": 289,
    "start_time": "2024-08-12T23:58:17.496Z"
   },
   {
    "duration": 10,
    "start_time": "2024-08-12T23:58:17.787Z"
   },
   {
    "duration": 294,
    "start_time": "2024-08-12T23:58:17.798Z"
   },
   {
    "duration": 11,
    "start_time": "2024-08-12T23:58:18.094Z"
   },
   {
    "duration": 27,
    "start_time": "2024-08-12T23:58:18.106Z"
   },
   {
    "duration": 13,
    "start_time": "2024-08-12T23:58:18.134Z"
   },
   {
    "duration": 18,
    "start_time": "2024-08-12T23:58:18.182Z"
   },
   {
    "duration": 17,
    "start_time": "2024-08-12T23:58:18.202Z"
   },
   {
    "duration": 11,
    "start_time": "2024-08-12T23:59:15.834Z"
   },
   {
    "duration": 649,
    "start_time": "2024-08-12T23:59:25.587Z"
   },
   {
    "duration": 612,
    "start_time": "2024-08-12T23:59:30.686Z"
   },
   {
    "duration": 17,
    "start_time": "2024-08-12T23:59:45.032Z"
   },
   {
    "duration": 15,
    "start_time": "2024-08-12T23:59:51.561Z"
   },
   {
    "duration": 13,
    "start_time": "2024-08-13T00:00:30.530Z"
   },
   {
    "duration": 17,
    "start_time": "2024-08-13T00:01:35.210Z"
   },
   {
    "duration": 18,
    "start_time": "2024-08-13T00:01:52.222Z"
   },
   {
    "duration": 17,
    "start_time": "2024-08-13T00:02:14.891Z"
   },
   {
    "duration": 5,
    "start_time": "2024-08-13T00:03:35.340Z"
   },
   {
    "duration": 15,
    "start_time": "2024-08-13T00:03:41.631Z"
   },
   {
    "duration": 17,
    "start_time": "2024-08-13T00:04:47.333Z"
   },
   {
    "duration": 20,
    "start_time": "2024-08-13T00:05:03.206Z"
   },
   {
    "duration": 15,
    "start_time": "2024-08-13T00:06:34.077Z"
   },
   {
    "duration": 9,
    "start_time": "2024-08-13T00:08:10.915Z"
   },
   {
    "duration": 16,
    "start_time": "2024-08-13T00:08:19.615Z"
   },
   {
    "duration": 24,
    "start_time": "2024-08-13T00:15:14.019Z"
   },
   {
    "duration": 21,
    "start_time": "2024-08-13T00:15:26.291Z"
   },
   {
    "duration": 2,
    "start_time": "2024-08-13T00:22:02.504Z"
   },
   {
    "duration": 15,
    "start_time": "2024-08-13T00:44:14.633Z"
   },
   {
    "duration": 5,
    "start_time": "2024-08-13T00:45:17.774Z"
   },
   {
    "duration": 5,
    "start_time": "2024-08-13T00:45:52.751Z"
   },
   {
    "duration": 21,
    "start_time": "2024-08-13T00:46:14.807Z"
   },
   {
    "duration": 13,
    "start_time": "2024-08-13T00:46:20.951Z"
   },
   {
    "duration": 12,
    "start_time": "2024-08-13T00:46:37.599Z"
   },
   {
    "duration": 6,
    "start_time": "2024-08-13T00:47:05.759Z"
   },
   {
    "duration": 8,
    "start_time": "2024-08-13T00:47:21.327Z"
   },
   {
    "duration": 3,
    "start_time": "2024-08-13T00:48:18.696Z"
   },
   {
    "duration": 2,
    "start_time": "2024-08-13T00:48:26.844Z"
   },
   {
    "duration": 5,
    "start_time": "2024-08-13T00:48:36.695Z"
   },
   {
    "duration": 4,
    "start_time": "2024-08-13T00:49:08.546Z"
   },
   {
    "duration": 7,
    "start_time": "2024-08-13T00:49:51.937Z"
   },
   {
    "duration": 5,
    "start_time": "2024-08-13T00:52:01.915Z"
   },
   {
    "duration": 3,
    "start_time": "2024-08-13T00:55:00.589Z"
   },
   {
    "duration": 7,
    "start_time": "2024-08-13T01:00:20.233Z"
   },
   {
    "duration": 6,
    "start_time": "2024-08-13T01:04:55.807Z"
   },
   {
    "duration": 5,
    "start_time": "2024-08-13T01:07:59.071Z"
   },
   {
    "duration": 5,
    "start_time": "2024-08-13T01:08:57.989Z"
   },
   {
    "duration": 4,
    "start_time": "2024-08-13T01:09:57.545Z"
   },
   {
    "duration": 144,
    "start_time": "2024-08-13T01:11:46.280Z"
   },
   {
    "duration": 121,
    "start_time": "2024-08-13T01:13:27.047Z"
   },
   {
    "duration": 105,
    "start_time": "2024-08-13T01:13:33.639Z"
   },
   {
    "duration": 114,
    "start_time": "2024-08-13T01:13:53.302Z"
   },
   {
    "duration": 7,
    "start_time": "2024-08-13T01:14:05.560Z"
   },
   {
    "duration": 8,
    "start_time": "2024-08-13T01:14:20.782Z"
   },
   {
    "duration": 6,
    "start_time": "2024-08-13T01:14:52.848Z"
   },
   {
    "duration": 4,
    "start_time": "2024-08-13T01:15:20.457Z"
   },
   {
    "duration": 5,
    "start_time": "2024-08-13T01:23:16.954Z"
   },
   {
    "duration": 3,
    "start_time": "2024-08-13T01:23:25.930Z"
   },
   {
    "duration": 11,
    "start_time": "2024-08-13T01:26:01.304Z"
   },
   {
    "duration": 9,
    "start_time": "2024-08-13T01:26:13.848Z"
   },
   {
    "duration": 5,
    "start_time": "2024-08-13T01:26:28.798Z"
   },
   {
    "duration": 5,
    "start_time": "2024-08-13T01:27:11.110Z"
   },
   {
    "duration": 4,
    "start_time": "2024-08-13T01:27:35.181Z"
   },
   {
    "duration": 46,
    "start_time": "2024-08-13T14:52:53.411Z"
   },
   {
    "duration": 1294,
    "start_time": "2024-08-13T14:53:04.637Z"
   },
   {
    "duration": 350,
    "start_time": "2024-08-13T14:53:07.526Z"
   },
   {
    "duration": 21,
    "start_time": "2024-08-13T14:53:07.878Z"
   },
   {
    "duration": 19,
    "start_time": "2024-08-13T14:53:07.901Z"
   },
   {
    "duration": 21,
    "start_time": "2024-08-13T14:53:07.922Z"
   },
   {
    "duration": 30,
    "start_time": "2024-08-13T14:53:07.945Z"
   },
   {
    "duration": 8,
    "start_time": "2024-08-13T14:53:07.976Z"
   },
   {
    "duration": 116,
    "start_time": "2024-08-13T14:53:07.985Z"
   },
   {
    "duration": 7,
    "start_time": "2024-08-13T14:53:08.103Z"
   },
   {
    "duration": 23,
    "start_time": "2024-08-13T14:53:08.111Z"
   },
   {
    "duration": 5,
    "start_time": "2024-08-13T14:53:08.138Z"
   },
   {
    "duration": 5,
    "start_time": "2024-08-13T14:53:08.145Z"
   },
   {
    "duration": 6,
    "start_time": "2024-08-13T14:53:08.152Z"
   },
   {
    "duration": 6,
    "start_time": "2024-08-13T14:53:08.159Z"
   },
   {
    "duration": 5,
    "start_time": "2024-08-13T14:53:08.167Z"
   },
   {
    "duration": 5,
    "start_time": "2024-08-13T14:53:08.174Z"
   },
   {
    "duration": 6,
    "start_time": "2024-08-13T14:53:08.181Z"
   },
   {
    "duration": 8,
    "start_time": "2024-08-13T14:53:08.189Z"
   },
   {
    "duration": 4,
    "start_time": "2024-08-13T14:53:08.198Z"
   },
   {
    "duration": 8,
    "start_time": "2024-08-13T14:53:08.203Z"
   },
   {
    "duration": 170,
    "start_time": "2024-08-13T14:53:08.252Z"
   },
   {
    "duration": 5,
    "start_time": "2024-08-13T14:53:08.424Z"
   },
   {
    "duration": 16,
    "start_time": "2024-08-13T14:53:08.430Z"
   },
   {
    "duration": 107,
    "start_time": "2024-08-13T14:53:08.447Z"
   },
   {
    "duration": 9,
    "start_time": "2024-08-13T14:53:08.555Z"
   },
   {
    "duration": 12,
    "start_time": "2024-08-13T14:53:08.566Z"
   },
   {
    "duration": 168,
    "start_time": "2024-08-13T14:53:08.579Z"
   },
   {
    "duration": 8,
    "start_time": "2024-08-13T14:53:08.748Z"
   },
   {
    "duration": 7,
    "start_time": "2024-08-13T14:53:08.760Z"
   },
   {
    "duration": 194,
    "start_time": "2024-08-13T14:53:08.768Z"
   },
   {
    "duration": 178,
    "start_time": "2024-08-13T14:53:08.963Z"
   },
   {
    "duration": 14,
    "start_time": "2024-08-13T14:53:09.142Z"
   },
   {
    "duration": 110,
    "start_time": "2024-08-13T14:53:09.158Z"
   },
   {
    "duration": 10,
    "start_time": "2024-08-13T14:53:09.270Z"
   },
   {
    "duration": 12,
    "start_time": "2024-08-13T14:53:09.282Z"
   },
   {
    "duration": 17,
    "start_time": "2024-08-13T14:53:09.296Z"
   },
   {
    "duration": 185,
    "start_time": "2024-08-13T14:53:09.314Z"
   },
   {
    "duration": 145,
    "start_time": "2024-08-13T14:53:09.501Z"
   },
   {
    "duration": 14,
    "start_time": "2024-08-13T14:53:09.652Z"
   },
   {
    "duration": 249,
    "start_time": "2024-08-13T14:53:09.668Z"
   },
   {
    "duration": 6,
    "start_time": "2024-08-13T14:53:09.919Z"
   },
   {
    "duration": 30,
    "start_time": "2024-08-13T14:53:09.927Z"
   },
   {
    "duration": 5,
    "start_time": "2024-08-13T14:53:09.958Z"
   },
   {
    "duration": 125,
    "start_time": "2024-08-13T14:53:09.965Z"
   },
   {
    "duration": 19,
    "start_time": "2024-08-13T14:53:10.092Z"
   },
   {
    "duration": 19,
    "start_time": "2024-08-13T14:53:10.112Z"
   },
   {
    "duration": 31,
    "start_time": "2024-08-13T14:53:10.133Z"
   },
   {
    "duration": 10,
    "start_time": "2024-08-13T14:53:10.165Z"
   },
   {
    "duration": 327,
    "start_time": "2024-08-13T14:53:10.176Z"
   },
   {
    "duration": 12,
    "start_time": "2024-08-13T14:53:10.504Z"
   },
   {
    "duration": 311,
    "start_time": "2024-08-13T14:53:10.517Z"
   },
   {
    "duration": 11,
    "start_time": "2024-08-13T14:53:10.829Z"
   },
   {
    "duration": 30,
    "start_time": "2024-08-13T14:53:10.853Z"
   },
   {
    "duration": 13,
    "start_time": "2024-08-13T14:53:10.885Z"
   },
   {
    "duration": 19,
    "start_time": "2024-08-13T14:53:10.900Z"
   },
   {
    "duration": 42,
    "start_time": "2024-08-13T14:53:10.921Z"
   },
   {
    "duration": 22,
    "start_time": "2024-08-13T14:53:10.964Z"
   },
   {
    "duration": 15,
    "start_time": "2024-08-13T14:53:10.987Z"
   },
   {
    "duration": 9,
    "start_time": "2024-08-13T14:53:11.003Z"
   },
   {
    "duration": 19,
    "start_time": "2024-08-13T14:53:11.014Z"
   },
   {
    "duration": 8,
    "start_time": "2024-08-13T14:53:11.034Z"
   },
   {
    "duration": 19,
    "start_time": "2024-08-13T14:53:11.044Z"
   },
   {
    "duration": 26,
    "start_time": "2024-08-13T14:53:11.065Z"
   },
   {
    "duration": 115,
    "start_time": "2024-08-13T14:53:27.734Z"
   },
   {
    "duration": 142,
    "start_time": "2024-08-13T15:00:52.461Z"
   },
   {
    "duration": 138,
    "start_time": "2024-08-13T15:00:58.066Z"
   },
   {
    "duration": 3,
    "start_time": "2024-08-13T16:09:59.633Z"
   },
   {
    "duration": 5,
    "start_time": "2024-08-13T16:10:02.447Z"
   },
   {
    "duration": 60,
    "start_time": "2024-08-13T16:28:03.741Z"
   },
   {
    "duration": 4,
    "start_time": "2024-08-13T16:28:31.269Z"
   },
   {
    "duration": 3,
    "start_time": "2024-08-13T16:28:35.509Z"
   },
   {
    "duration": 8,
    "start_time": "2024-08-13T16:29:55.780Z"
   },
   {
    "duration": 9,
    "start_time": "2024-08-13T16:30:09.111Z"
   },
   {
    "duration": 149,
    "start_time": "2024-08-13T16:30:24.895Z"
   },
   {
    "duration": 9,
    "start_time": "2024-08-13T16:32:30.046Z"
   },
   {
    "duration": 145,
    "start_time": "2024-08-13T16:38:04.565Z"
   },
   {
    "duration": 214,
    "start_time": "2024-08-13T16:38:08.731Z"
   },
   {
    "duration": 8,
    "start_time": "2024-08-13T16:38:23.115Z"
   },
   {
    "duration": 4,
    "start_time": "2024-08-13T16:42:48.534Z"
   },
   {
    "duration": 8,
    "start_time": "2024-08-13T16:42:57.879Z"
   },
   {
    "duration": 4,
    "start_time": "2024-08-13T16:43:13.509Z"
   },
   {
    "duration": 3,
    "start_time": "2024-08-13T16:43:19.421Z"
   },
   {
    "duration": 3,
    "start_time": "2024-08-13T16:43:40.092Z"
   },
   {
    "duration": 4,
    "start_time": "2024-08-13T16:43:58.205Z"
   },
   {
    "duration": 8,
    "start_time": "2024-08-13T16:51:20.211Z"
   },
   {
    "duration": 2,
    "start_time": "2024-08-13T17:06:51.645Z"
   },
   {
    "duration": 5,
    "start_time": "2024-08-13T17:11:08.973Z"
   },
   {
    "duration": 17,
    "start_time": "2024-08-13T17:34:23.971Z"
   },
   {
    "duration": 15,
    "start_time": "2024-08-13T17:34:38.880Z"
   },
   {
    "duration": 6,
    "start_time": "2024-08-13T17:35:03.123Z"
   },
   {
    "duration": 18,
    "start_time": "2024-08-13T17:35:23.505Z"
   },
   {
    "duration": 41,
    "start_time": "2024-08-13T17:35:28.306Z"
   },
   {
    "duration": 18,
    "start_time": "2024-08-13T17:35:31.970Z"
   },
   {
    "duration": 18,
    "start_time": "2024-08-13T17:35:39.362Z"
   },
   {
    "duration": 11,
    "start_time": "2024-08-13T17:37:15.547Z"
   },
   {
    "duration": 14,
    "start_time": "2024-08-13T17:38:06.474Z"
   },
   {
    "duration": 11,
    "start_time": "2024-08-13T17:38:43.826Z"
   },
   {
    "duration": 9,
    "start_time": "2024-08-13T17:41:38.572Z"
   },
   {
    "duration": 5,
    "start_time": "2024-08-13T17:43:55.621Z"
   },
   {
    "duration": 15,
    "start_time": "2024-08-13T17:48:49.055Z"
   },
   {
    "duration": 16,
    "start_time": "2024-08-13T17:49:04.206Z"
   },
   {
    "duration": 7,
    "start_time": "2024-08-13T17:49:59.537Z"
   },
   {
    "duration": 5,
    "start_time": "2024-08-13T17:50:12.679Z"
   },
   {
    "duration": 4,
    "start_time": "2024-08-13T17:50:41.619Z"
   },
   {
    "duration": 4,
    "start_time": "2024-08-13T17:51:18.228Z"
   },
   {
    "duration": 5,
    "start_time": "2024-08-13T17:51:21.632Z"
   },
   {
    "duration": 4,
    "start_time": "2024-08-13T17:55:44.483Z"
   },
   {
    "duration": 3,
    "start_time": "2024-08-13T17:56:13.811Z"
   },
   {
    "duration": 3,
    "start_time": "2024-08-13T21:42:03.580Z"
   },
   {
    "duration": 1336,
    "start_time": "2024-08-13T21:49:13.109Z"
   },
   {
    "duration": 202,
    "start_time": "2024-08-13T21:49:23.061Z"
   },
   {
    "duration": 209,
    "start_time": "2024-08-13T21:49:46.322Z"
   },
   {
    "duration": 101,
    "start_time": "2024-08-13T21:50:07.176Z"
   },
   {
    "duration": 96,
    "start_time": "2024-08-13T21:50:15.292Z"
   },
   {
    "duration": 102,
    "start_time": "2024-08-13T21:50:28.051Z"
   },
   {
    "duration": 91,
    "start_time": "2024-08-13T21:50:39.563Z"
   },
   {
    "duration": 59,
    "start_time": "2024-08-13T21:50:50.340Z"
   },
   {
    "duration": 94,
    "start_time": "2024-08-13T21:50:59.243Z"
   },
   {
    "duration": 68,
    "start_time": "2024-08-13T21:52:01.349Z"
   },
   {
    "duration": 53,
    "start_time": "2024-08-13T21:52:14.084Z"
   },
   {
    "duration": 365,
    "start_time": "2024-08-13T21:52:27.510Z"
   },
   {
    "duration": 163,
    "start_time": "2024-08-13T21:52:47.860Z"
   },
   {
    "duration": 190,
    "start_time": "2024-08-13T21:52:56.358Z"
   },
   {
    "duration": 163,
    "start_time": "2024-08-13T21:53:01.822Z"
   },
   {
    "duration": 159,
    "start_time": "2024-08-13T21:53:06.773Z"
   },
   {
    "duration": 186,
    "start_time": "2024-08-13T21:53:21.856Z"
   },
   {
    "duration": 4,
    "start_time": "2024-08-13T22:12:01.668Z"
   },
   {
    "duration": 8,
    "start_time": "2024-08-13T22:14:05.878Z"
   },
   {
    "duration": 4,
    "start_time": "2024-08-13T22:14:26.604Z"
   },
   {
    "duration": 5,
    "start_time": "2024-08-13T22:18:54.320Z"
   },
   {
    "duration": 4,
    "start_time": "2024-08-13T22:19:00.119Z"
   },
   {
    "duration": 5,
    "start_time": "2024-08-13T22:19:12.374Z"
   },
   {
    "duration": 4,
    "start_time": "2024-08-13T22:19:19.518Z"
   },
   {
    "duration": 4,
    "start_time": "2024-08-13T22:19:28.486Z"
   },
   {
    "duration": 5,
    "start_time": "2024-08-13T22:19:32.751Z"
   },
   {
    "duration": 4,
    "start_time": "2024-08-13T22:19:43.463Z"
   },
   {
    "duration": 4,
    "start_time": "2024-08-13T22:19:55.670Z"
   },
   {
    "duration": 3,
    "start_time": "2024-08-13T22:20:30.704Z"
   },
   {
    "duration": 4,
    "start_time": "2024-08-13T22:20:35.127Z"
   },
   {
    "duration": 3,
    "start_time": "2024-08-13T22:20:38.967Z"
   },
   {
    "duration": 3,
    "start_time": "2024-08-13T22:20:42.428Z"
   },
   {
    "duration": 3,
    "start_time": "2024-08-13T22:20:46.799Z"
   },
   {
    "duration": 4,
    "start_time": "2024-08-13T22:21:40.794Z"
   },
   {
    "duration": 5,
    "start_time": "2024-08-13T22:21:55.103Z"
   },
   {
    "duration": 1354,
    "start_time": "2024-08-13T22:22:06.467Z"
   },
   {
    "duration": 6,
    "start_time": "2024-08-13T22:23:05.833Z"
   },
   {
    "duration": 4,
    "start_time": "2024-08-13T22:23:09.585Z"
   },
   {
    "duration": 5,
    "start_time": "2024-08-13T22:23:21.881Z"
   },
   {
    "duration": 4,
    "start_time": "2024-08-13T22:23:27.538Z"
   },
   {
    "duration": 4,
    "start_time": "2024-08-13T22:24:46.200Z"
   },
   {
    "duration": 4,
    "start_time": "2024-08-13T22:27:31.574Z"
   },
   {
    "duration": 4,
    "start_time": "2024-08-13T22:29:50.328Z"
   },
   {
    "duration": 205,
    "start_time": "2024-08-13T22:46:11.666Z"
   },
   {
    "duration": 115,
    "start_time": "2024-08-13T22:46:21.582Z"
   },
   {
    "duration": 329,
    "start_time": "2024-08-13T22:46:27.379Z"
   },
   {
    "duration": 10,
    "start_time": "2024-08-13T22:58:17.071Z"
   },
   {
    "duration": 107,
    "start_time": "2024-08-13T22:58:31.169Z"
   },
   {
    "duration": 100,
    "start_time": "2024-08-13T22:58:44.916Z"
   },
   {
    "duration": 100,
    "start_time": "2024-08-13T22:59:02.074Z"
   },
   {
    "duration": 9631,
    "start_time": "2024-08-13T23:03:28.895Z"
   },
   {
    "duration": 5,
    "start_time": "2024-08-13T23:24:55.854Z"
   },
   {
    "duration": 5,
    "start_time": "2024-08-13T23:25:42.435Z"
   },
   {
    "duration": 5,
    "start_time": "2024-08-13T23:26:39.057Z"
   },
   {
    "duration": 1644,
    "start_time": "2024-08-13T23:31:50.929Z"
   },
   {
    "duration": 63,
    "start_time": "2024-08-13T23:32:06.845Z"
   },
   {
    "duration": 48,
    "start_time": "2024-08-13T23:32:16.024Z"
   },
   {
    "duration": 45,
    "start_time": "2024-08-13T23:32:30.374Z"
   },
   {
    "duration": 68,
    "start_time": "2024-08-13T23:32:39.197Z"
   },
   {
    "duration": 69,
    "start_time": "2024-08-13T23:32:56.348Z"
   },
   {
    "duration": 1456,
    "start_time": "2024-08-13T23:33:10.437Z"
   },
   {
    "duration": 6,
    "start_time": "2024-08-13T23:33:37.118Z"
   },
   {
    "duration": 8,
    "start_time": "2024-08-13T23:39:21.118Z"
   },
   {
    "duration": 9,
    "start_time": "2024-08-13T23:39:28.087Z"
   },
   {
    "duration": 4,
    "start_time": "2024-08-13T23:39:45.954Z"
   },
   {
    "duration": 5,
    "start_time": "2024-08-13T23:39:50.713Z"
   },
   {
    "duration": 103,
    "start_time": "2024-08-13T23:40:04.332Z"
   },
   {
    "duration": 5,
    "start_time": "2024-08-13T23:41:46.388Z"
   },
   {
    "duration": 5,
    "start_time": "2024-08-13T23:42:08.689Z"
   },
   {
    "duration": 5,
    "start_time": "2024-08-13T23:42:14.053Z"
   },
   {
    "duration": 5,
    "start_time": "2024-08-13T23:42:48.630Z"
   },
   {
    "duration": 5,
    "start_time": "2024-08-13T23:42:53.012Z"
   },
   {
    "duration": 4,
    "start_time": "2024-08-13T23:45:30.413Z"
   },
   {
    "duration": 4,
    "start_time": "2024-08-13T23:45:38.487Z"
   },
   {
    "duration": 4,
    "start_time": "2024-08-13T23:45:44.885Z"
   },
   {
    "duration": 5,
    "start_time": "2024-08-13T23:45:49.957Z"
   },
   {
    "duration": 39,
    "start_time": "2024-08-13T23:54:00.234Z"
   },
   {
    "duration": 1045,
    "start_time": "2024-08-13T23:54:26.352Z"
   },
   {
    "duration": 69,
    "start_time": "2024-08-13T23:54:32.635Z"
   },
   {
    "duration": 19,
    "start_time": "2024-08-13T23:54:32.705Z"
   },
   {
    "duration": 26,
    "start_time": "2024-08-13T23:54:32.725Z"
   },
   {
    "duration": 12,
    "start_time": "2024-08-13T23:54:32.753Z"
   },
   {
    "duration": 30,
    "start_time": "2024-08-13T23:54:32.766Z"
   },
   {
    "duration": 7,
    "start_time": "2024-08-13T23:54:32.797Z"
   },
   {
    "duration": 7,
    "start_time": "2024-08-13T23:54:32.805Z"
   },
   {
    "duration": 5,
    "start_time": "2024-08-13T23:54:32.813Z"
   },
   {
    "duration": 38,
    "start_time": "2024-08-13T23:54:32.819Z"
   },
   {
    "duration": 5,
    "start_time": "2024-08-13T23:54:32.859Z"
   },
   {
    "duration": 12,
    "start_time": "2024-08-13T23:54:32.865Z"
   },
   {
    "duration": 4,
    "start_time": "2024-08-13T23:54:32.878Z"
   },
   {
    "duration": 9,
    "start_time": "2024-08-13T23:54:32.884Z"
   },
   {
    "duration": 12,
    "start_time": "2024-08-13T23:54:32.894Z"
   },
   {
    "duration": 14,
    "start_time": "2024-08-13T23:54:32.907Z"
   },
   {
    "duration": 7,
    "start_time": "2024-08-13T23:54:32.922Z"
   },
   {
    "duration": 30,
    "start_time": "2024-08-13T23:54:32.930Z"
   },
   {
    "duration": 5,
    "start_time": "2024-08-13T23:54:32.962Z"
   },
   {
    "duration": 10,
    "start_time": "2024-08-13T23:54:32.968Z"
   },
   {
    "duration": 169,
    "start_time": "2024-08-13T23:54:32.980Z"
   },
   {
    "duration": 5,
    "start_time": "2024-08-13T23:54:33.152Z"
   },
   {
    "duration": 10,
    "start_time": "2024-08-13T23:54:33.158Z"
   },
   {
    "duration": 113,
    "start_time": "2024-08-13T23:54:33.170Z"
   },
   {
    "duration": 9,
    "start_time": "2024-08-13T23:54:33.285Z"
   },
   {
    "duration": 10,
    "start_time": "2024-08-13T23:54:33.296Z"
   },
   {
    "duration": 163,
    "start_time": "2024-08-13T23:54:33.307Z"
   },
   {
    "duration": 8,
    "start_time": "2024-08-13T23:54:33.472Z"
   },
   {
    "duration": 24,
    "start_time": "2024-08-13T23:54:33.485Z"
   },
   {
    "duration": 166,
    "start_time": "2024-08-13T23:54:33.511Z"
   },
   {
    "duration": 160,
    "start_time": "2024-08-13T23:54:33.679Z"
   },
   {
    "duration": 16,
    "start_time": "2024-08-13T23:54:33.841Z"
   },
   {
    "duration": 140,
    "start_time": "2024-08-13T23:54:33.858Z"
   },
   {
    "duration": 9,
    "start_time": "2024-08-13T23:54:34.000Z"
   },
   {
    "duration": 9,
    "start_time": "2024-08-13T23:54:34.010Z"
   },
   {
    "duration": 10,
    "start_time": "2024-08-13T23:54:34.020Z"
   },
   {
    "duration": 179,
    "start_time": "2024-08-13T23:54:34.032Z"
   },
   {
    "duration": 128,
    "start_time": "2024-08-13T23:54:34.212Z"
   },
   {
    "duration": 19,
    "start_time": "2024-08-13T23:54:34.341Z"
   },
   {
    "duration": 209,
    "start_time": "2024-08-13T23:54:34.361Z"
   },
   {
    "duration": 6,
    "start_time": "2024-08-13T23:54:34.571Z"
   },
   {
    "duration": 8,
    "start_time": "2024-08-13T23:54:34.578Z"
   },
   {
    "duration": 5,
    "start_time": "2024-08-13T23:54:34.587Z"
   },
   {
    "duration": 117,
    "start_time": "2024-08-13T23:54:34.593Z"
   },
   {
    "duration": 16,
    "start_time": "2024-08-13T23:54:34.711Z"
   },
   {
    "duration": 29,
    "start_time": "2024-08-13T23:54:34.728Z"
   },
   {
    "duration": 12,
    "start_time": "2024-08-13T23:54:34.758Z"
   },
   {
    "duration": 10,
    "start_time": "2024-08-13T23:54:34.772Z"
   },
   {
    "duration": 289,
    "start_time": "2024-08-13T23:54:34.783Z"
   },
   {
    "duration": 9,
    "start_time": "2024-08-13T23:54:35.074Z"
   },
   {
    "duration": 273,
    "start_time": "2024-08-13T23:54:35.085Z"
   },
   {
    "duration": 10,
    "start_time": "2024-08-13T23:54:35.359Z"
   },
   {
    "duration": 25,
    "start_time": "2024-08-13T23:54:35.371Z"
   },
   {
    "duration": 12,
    "start_time": "2024-08-13T23:54:35.398Z"
   },
   {
    "duration": 41,
    "start_time": "2024-08-13T23:54:35.412Z"
   },
   {
    "duration": 61,
    "start_time": "2024-08-13T23:54:35.454Z"
   },
   {
    "duration": 15,
    "start_time": "2024-08-13T23:54:35.516Z"
   },
   {
    "duration": 11,
    "start_time": "2024-08-13T23:54:35.532Z"
   },
   {
    "duration": 5,
    "start_time": "2024-08-13T23:54:35.544Z"
   },
   {
    "duration": 14,
    "start_time": "2024-08-13T23:54:35.550Z"
   },
   {
    "duration": 5,
    "start_time": "2024-08-13T23:54:35.565Z"
   },
   {
    "duration": 5,
    "start_time": "2024-08-13T23:54:35.572Z"
   },
   {
    "duration": 6,
    "start_time": "2024-08-13T23:54:35.579Z"
   },
   {
    "duration": 10,
    "start_time": "2024-08-13T23:54:35.586Z"
   },
   {
    "duration": 8,
    "start_time": "2024-08-13T23:54:35.598Z"
   },
   {
    "duration": 4,
    "start_time": "2024-08-13T23:54:35.608Z"
   },
   {
    "duration": 5,
    "start_time": "2024-08-13T23:54:35.614Z"
   },
   {
    "duration": 128,
    "start_time": "2024-08-13T23:54:35.620Z"
   },
   {
    "duration": 0,
    "start_time": "2024-08-13T23:54:35.749Z"
   },
   {
    "duration": 4,
    "start_time": "2024-08-14T00:00:11.698Z"
   },
   {
    "duration": 5,
    "start_time": "2024-08-14T00:00:18.296Z"
   },
   {
    "duration": 1369,
    "start_time": "2024-08-14T00:00:33.642Z"
   },
   {
    "duration": 13,
    "start_time": "2024-08-14T00:02:39.050Z"
   },
   {
    "duration": 4,
    "start_time": "2024-08-14T00:02:40.830Z"
   },
   {
    "duration": 4,
    "start_time": "2024-08-14T00:02:45.435Z"
   },
   {
    "duration": 8,
    "start_time": "2024-08-14T00:08:13.722Z"
   },
   {
    "duration": 5,
    "start_time": "2024-08-14T00:12:38.401Z"
   },
   {
    "duration": 5,
    "start_time": "2024-08-14T00:13:14.858Z"
   },
   {
    "duration": 1442,
    "start_time": "2024-08-14T00:39:00.347Z"
   },
   {
    "duration": 1641,
    "start_time": "2024-08-14T00:39:05.947Z"
   },
   {
    "duration": 206,
    "start_time": "2024-08-14T00:39:09.268Z"
   },
   {
    "duration": 115,
    "start_time": "2024-08-14T00:39:23.269Z"
   },
   {
    "duration": 3,
    "start_time": "2024-08-14T00:40:37.533Z"
   },
   {
    "duration": 4,
    "start_time": "2024-08-14T00:40:40.339Z"
   },
   {
    "duration": 3,
    "start_time": "2024-08-14T00:45:25.009Z"
   },
   {
    "duration": 4,
    "start_time": "2024-08-14T00:45:29.230Z"
   },
   {
    "duration": 3,
    "start_time": "2024-08-14T00:45:55.095Z"
   },
   {
    "duration": 2,
    "start_time": "2024-08-14T00:49:53.499Z"
   },
   {
    "duration": 4,
    "start_time": "2024-08-14T00:49:55.712Z"
   },
   {
    "duration": 3,
    "start_time": "2024-08-14T00:50:23.938Z"
   },
   {
    "duration": 3,
    "start_time": "2024-08-14T00:50:27.971Z"
   },
   {
    "duration": 4,
    "start_time": "2024-08-14T00:50:35.258Z"
   },
   {
    "duration": 7,
    "start_time": "2024-08-14T00:52:44.228Z"
   },
   {
    "duration": 3,
    "start_time": "2024-08-14T00:53:03.757Z"
   },
   {
    "duration": 7,
    "start_time": "2024-08-14T00:53:07.507Z"
   },
   {
    "duration": 5,
    "start_time": "2024-08-14T00:55:04.623Z"
   },
   {
    "duration": 5,
    "start_time": "2024-08-14T00:55:16.263Z"
   },
   {
    "duration": 5,
    "start_time": "2024-08-14T00:55:26.253Z"
   },
   {
    "duration": 6,
    "start_time": "2024-08-14T00:55:29.830Z"
   },
   {
    "duration": 5,
    "start_time": "2024-08-14T00:55:37.838Z"
   },
   {
    "duration": 4,
    "start_time": "2024-08-14T00:55:40.645Z"
   },
   {
    "duration": 3,
    "start_time": "2024-08-14T00:56:02.278Z"
   },
   {
    "duration": 4,
    "start_time": "2024-08-14T00:56:11.681Z"
   },
   {
    "duration": 3,
    "start_time": "2024-08-14T00:56:22.260Z"
   },
   {
    "duration": 3,
    "start_time": "2024-08-14T00:56:45.303Z"
   },
   {
    "duration": 2,
    "start_time": "2024-08-14T00:56:49.945Z"
   },
   {
    "duration": 3,
    "start_time": "2024-08-14T00:56:52.369Z"
   },
   {
    "duration": 3,
    "start_time": "2024-08-14T00:56:57.223Z"
   },
   {
    "duration": 3,
    "start_time": "2024-08-14T00:56:59.902Z"
   },
   {
    "duration": 4,
    "start_time": "2024-08-14T00:57:02.566Z"
   },
   {
    "duration": 3,
    "start_time": "2024-08-14T01:02:34.919Z"
   },
   {
    "duration": 3,
    "start_time": "2024-08-14T01:11:09.699Z"
   },
   {
    "duration": 30668,
    "start_time": "2024-08-14T01:12:16.390Z"
   },
   {
    "duration": 137,
    "start_time": "2024-08-14T01:13:30.875Z"
   },
   {
    "duration": 143,
    "start_time": "2024-08-14T01:14:16.675Z"
   },
   {
    "duration": 6,
    "start_time": "2024-08-14T01:14:34.826Z"
   },
   {
    "duration": 143,
    "start_time": "2024-08-14T01:14:51.719Z"
   },
   {
    "duration": 2,
    "start_time": "2024-08-14T01:16:11.294Z"
   },
   {
    "duration": 2,
    "start_time": "2024-08-14T01:16:26.505Z"
   },
   {
    "duration": 80,
    "start_time": "2024-08-14T01:16:26.510Z"
   },
   {
    "duration": 20,
    "start_time": "2024-08-14T01:16:26.591Z"
   },
   {
    "duration": 16,
    "start_time": "2024-08-14T01:16:26.613Z"
   },
   {
    "duration": 13,
    "start_time": "2024-08-14T01:16:26.631Z"
   },
   {
    "duration": 17,
    "start_time": "2024-08-14T01:16:26.652Z"
   },
   {
    "duration": 6,
    "start_time": "2024-08-14T01:16:26.671Z"
   },
   {
    "duration": 5,
    "start_time": "2024-08-14T01:16:26.679Z"
   },
   {
    "duration": 5,
    "start_time": "2024-08-14T01:16:26.685Z"
   },
   {
    "duration": 11,
    "start_time": "2024-08-14T01:16:26.692Z"
   },
   {
    "duration": 5,
    "start_time": "2024-08-14T01:16:26.705Z"
   },
   {
    "duration": 5,
    "start_time": "2024-08-14T01:16:26.752Z"
   },
   {
    "duration": 18,
    "start_time": "2024-08-14T01:16:26.758Z"
   },
   {
    "duration": 4,
    "start_time": "2024-08-14T01:16:26.778Z"
   },
   {
    "duration": 5,
    "start_time": "2024-08-14T01:16:26.783Z"
   },
   {
    "duration": 6,
    "start_time": "2024-08-14T01:16:26.789Z"
   },
   {
    "duration": 5,
    "start_time": "2024-08-14T01:16:26.796Z"
   },
   {
    "duration": 9,
    "start_time": "2024-08-14T01:16:26.802Z"
   },
   {
    "duration": 4,
    "start_time": "2024-08-14T01:16:26.813Z"
   },
   {
    "duration": 35,
    "start_time": "2024-08-14T01:16:26.818Z"
   },
   {
    "duration": 165,
    "start_time": "2024-08-14T01:16:26.854Z"
   },
   {
    "duration": 5,
    "start_time": "2024-08-14T01:16:27.020Z"
   },
   {
    "duration": 8,
    "start_time": "2024-08-14T01:16:27.027Z"
   },
   {
    "duration": 103,
    "start_time": "2024-08-14T01:16:27.037Z"
   },
   {
    "duration": 17,
    "start_time": "2024-08-14T01:16:27.141Z"
   },
   {
    "duration": 28,
    "start_time": "2024-08-14T01:16:27.160Z"
   },
   {
    "duration": 146,
    "start_time": "2024-08-14T01:16:27.189Z"
   },
   {
    "duration": 7,
    "start_time": "2024-08-14T01:16:27.336Z"
   },
   {
    "duration": 5,
    "start_time": "2024-08-14T01:16:27.354Z"
   },
   {
    "duration": 168,
    "start_time": "2024-08-14T01:16:27.361Z"
   },
   {
    "duration": 162,
    "start_time": "2024-08-14T01:16:27.530Z"
   },
   {
    "duration": 9,
    "start_time": "2024-08-14T01:16:27.694Z"
   },
   {
    "duration": 128,
    "start_time": "2024-08-14T01:16:27.704Z"
   },
   {
    "duration": 10,
    "start_time": "2024-08-14T01:16:27.833Z"
   },
   {
    "duration": 11,
    "start_time": "2024-08-14T01:16:27.844Z"
   },
   {
    "duration": 8,
    "start_time": "2024-08-14T01:16:27.856Z"
   },
   {
    "duration": 191,
    "start_time": "2024-08-14T01:16:27.865Z"
   },
   {
    "duration": 136,
    "start_time": "2024-08-14T01:16:28.058Z"
   },
   {
    "duration": 14,
    "start_time": "2024-08-14T01:16:28.196Z"
   },
   {
    "duration": 218,
    "start_time": "2024-08-14T01:16:28.211Z"
   },
   {
    "duration": 6,
    "start_time": "2024-08-14T01:16:28.431Z"
   },
   {
    "duration": 19,
    "start_time": "2024-08-14T01:16:28.438Z"
   },
   {
    "duration": 5,
    "start_time": "2024-08-14T01:16:28.458Z"
   },
   {
    "duration": 105,
    "start_time": "2024-08-14T01:16:28.465Z"
   },
   {
    "duration": 15,
    "start_time": "2024-08-14T01:16:28.572Z"
   },
   {
    "duration": 17,
    "start_time": "2024-08-14T01:16:28.588Z"
   },
   {
    "duration": 12,
    "start_time": "2024-08-14T01:16:28.606Z"
   },
   {
    "duration": 35,
    "start_time": "2024-08-14T01:16:28.620Z"
   },
   {
    "duration": 276,
    "start_time": "2024-08-14T01:16:28.656Z"
   },
   {
    "duration": 10,
    "start_time": "2024-08-14T01:16:28.934Z"
   },
   {
    "duration": 269,
    "start_time": "2024-08-14T01:16:28.952Z"
   },
   {
    "duration": 10,
    "start_time": "2024-08-14T01:16:29.222Z"
   },
   {
    "duration": 37,
    "start_time": "2024-08-14T01:16:29.233Z"
   },
   {
    "duration": 11,
    "start_time": "2024-08-14T01:16:29.271Z"
   },
   {
    "duration": 14,
    "start_time": "2024-08-14T01:16:29.283Z"
   },
   {
    "duration": 16,
    "start_time": "2024-08-14T01:16:29.298Z"
   },
   {
    "duration": 38,
    "start_time": "2024-08-14T01:16:29.315Z"
   },
   {
    "duration": 10,
    "start_time": "2024-08-14T01:16:29.355Z"
   },
   {
    "duration": 5,
    "start_time": "2024-08-14T01:16:29.366Z"
   },
   {
    "duration": 4,
    "start_time": "2024-08-14T01:16:29.372Z"
   },
   {
    "duration": 10,
    "start_time": "2024-08-14T01:16:29.378Z"
   },
   {
    "duration": 3,
    "start_time": "2024-08-14T01:16:29.389Z"
   },
   {
    "duration": 2,
    "start_time": "2024-08-14T01:16:29.394Z"
   },
   {
    "duration": 18,
    "start_time": "2024-08-14T01:16:29.398Z"
   },
   {
    "duration": 9,
    "start_time": "2024-08-14T01:16:29.417Z"
   },
   {
    "duration": 5,
    "start_time": "2024-08-14T01:16:29.427Z"
   },
   {
    "duration": 3,
    "start_time": "2024-08-14T01:16:29.452Z"
   },
   {
    "duration": 5,
    "start_time": "2024-08-14T01:16:29.456Z"
   },
   {
    "duration": 3,
    "start_time": "2024-08-14T01:16:29.463Z"
   },
   {
    "duration": 1313,
    "start_time": "2024-08-14T01:16:29.467Z"
   },
   {
    "duration": 3,
    "start_time": "2024-08-14T01:16:30.781Z"
   },
   {
    "duration": 56,
    "start_time": "2024-08-14T01:16:30.785Z"
   },
   {
    "duration": 53,
    "start_time": "2024-08-14T01:16:30.843Z"
   },
   {
    "duration": 130,
    "start_time": "2024-08-14T01:16:30.897Z"
   },
   {
    "duration": 0,
    "start_time": "2024-08-14T01:16:31.029Z"
   },
   {
    "duration": 7,
    "start_time": "2024-08-14T01:17:05.958Z"
   },
   {
    "duration": 8,
    "start_time": "2024-08-14T01:17:32.348Z"
   },
   {
    "duration": 8,
    "start_time": "2024-08-14T01:17:37.516Z"
   },
   {
    "duration": 5,
    "start_time": "2024-08-14T01:18:03.894Z"
   },
   {
    "duration": 4,
    "start_time": "2024-08-14T01:18:12.285Z"
   },
   {
    "duration": 990,
    "start_time": "2024-08-14T01:19:52.313Z"
   },
   {
    "duration": 2,
    "start_time": "2024-08-14T01:20:08.786Z"
   },
   {
    "duration": 91,
    "start_time": "2024-08-14T01:20:08.791Z"
   },
   {
    "duration": 20,
    "start_time": "2024-08-14T01:20:08.883Z"
   },
   {
    "duration": 16,
    "start_time": "2024-08-14T01:20:08.905Z"
   },
   {
    "duration": 14,
    "start_time": "2024-08-14T01:20:08.923Z"
   },
   {
    "duration": 19,
    "start_time": "2024-08-14T01:20:08.952Z"
   },
   {
    "duration": 8,
    "start_time": "2024-08-14T01:20:08.973Z"
   },
   {
    "duration": 7,
    "start_time": "2024-08-14T01:20:08.982Z"
   },
   {
    "duration": 12,
    "start_time": "2024-08-14T01:20:08.990Z"
   },
   {
    "duration": 13,
    "start_time": "2024-08-14T01:20:09.003Z"
   },
   {
    "duration": 6,
    "start_time": "2024-08-14T01:20:09.053Z"
   },
   {
    "duration": 7,
    "start_time": "2024-08-14T01:20:09.060Z"
   },
   {
    "duration": 30,
    "start_time": "2024-08-14T01:20:09.068Z"
   },
   {
    "duration": 5,
    "start_time": "2024-08-14T01:20:09.100Z"
   },
   {
    "duration": 16,
    "start_time": "2024-08-14T01:20:09.107Z"
   },
   {
    "duration": 15,
    "start_time": "2024-08-14T01:20:09.124Z"
   },
   {
    "duration": 6,
    "start_time": "2024-08-14T01:20:09.141Z"
   },
   {
    "duration": 9,
    "start_time": "2024-08-14T01:20:09.148Z"
   },
   {
    "duration": 11,
    "start_time": "2024-08-14T01:20:09.158Z"
   },
   {
    "duration": 12,
    "start_time": "2024-08-14T01:20:09.170Z"
   },
   {
    "duration": 147,
    "start_time": "2024-08-14T01:20:09.184Z"
   },
   {
    "duration": 19,
    "start_time": "2024-08-14T01:20:09.333Z"
   },
   {
    "duration": 7,
    "start_time": "2024-08-14T01:20:09.353Z"
   },
   {
    "duration": 110,
    "start_time": "2024-08-14T01:20:09.361Z"
   },
   {
    "duration": 8,
    "start_time": "2024-08-14T01:20:09.472Z"
   },
   {
    "duration": 5,
    "start_time": "2024-08-14T01:20:09.482Z"
   },
   {
    "duration": 155,
    "start_time": "2024-08-14T01:20:09.488Z"
   },
   {
    "duration": 11,
    "start_time": "2024-08-14T01:20:09.645Z"
   },
   {
    "duration": 7,
    "start_time": "2024-08-14T01:20:09.660Z"
   },
   {
    "duration": 170,
    "start_time": "2024-08-14T01:20:09.668Z"
   },
   {
    "duration": 162,
    "start_time": "2024-08-14T01:20:09.839Z"
   },
   {
    "duration": 9,
    "start_time": "2024-08-14T01:20:10.003Z"
   },
   {
    "duration": 138,
    "start_time": "2024-08-14T01:20:10.013Z"
   },
   {
    "duration": 10,
    "start_time": "2024-08-14T01:20:10.153Z"
   },
   {
    "duration": 5,
    "start_time": "2024-08-14T01:20:10.164Z"
   },
   {
    "duration": 8,
    "start_time": "2024-08-14T01:20:10.170Z"
   },
   {
    "duration": 185,
    "start_time": "2024-08-14T01:20:10.180Z"
   },
   {
    "duration": 124,
    "start_time": "2024-08-14T01:20:10.367Z"
   },
   {
    "duration": 13,
    "start_time": "2024-08-14T01:20:10.492Z"
   },
   {
    "duration": 212,
    "start_time": "2024-08-14T01:20:10.507Z"
   },
   {
    "duration": 6,
    "start_time": "2024-08-14T01:20:10.720Z"
   },
   {
    "duration": 8,
    "start_time": "2024-08-14T01:20:10.727Z"
   },
   {
    "duration": 9,
    "start_time": "2024-08-14T01:20:10.752Z"
   },
   {
    "duration": 97,
    "start_time": "2024-08-14T01:20:10.762Z"
   },
   {
    "duration": 16,
    "start_time": "2024-08-14T01:20:10.860Z"
   },
   {
    "duration": 17,
    "start_time": "2024-08-14T01:20:10.878Z"
   },
   {
    "duration": 13,
    "start_time": "2024-08-14T01:20:10.896Z"
   },
   {
    "duration": 10,
    "start_time": "2024-08-14T01:20:10.911Z"
   },
   {
    "duration": 310,
    "start_time": "2024-08-14T01:20:10.922Z"
   },
   {
    "duration": 11,
    "start_time": "2024-08-14T01:20:11.233Z"
   },
   {
    "duration": 273,
    "start_time": "2024-08-14T01:20:11.252Z"
   },
   {
    "duration": 11,
    "start_time": "2024-08-14T01:20:11.526Z"
   },
   {
    "duration": 36,
    "start_time": "2024-08-14T01:20:11.538Z"
   },
   {
    "duration": 12,
    "start_time": "2024-08-14T01:20:11.575Z"
   },
   {
    "duration": 13,
    "start_time": "2024-08-14T01:20:11.588Z"
   },
   {
    "duration": 16,
    "start_time": "2024-08-14T01:20:11.602Z"
   },
   {
    "duration": 43,
    "start_time": "2024-08-14T01:20:11.620Z"
   },
   {
    "duration": 11,
    "start_time": "2024-08-14T01:20:11.664Z"
   },
   {
    "duration": 5,
    "start_time": "2024-08-14T01:20:11.676Z"
   },
   {
    "duration": 5,
    "start_time": "2024-08-14T01:20:11.682Z"
   },
   {
    "duration": 42,
    "start_time": "2024-08-14T01:20:11.688Z"
   },
   {
    "duration": 65,
    "start_time": "2024-08-14T01:20:11.732Z"
   },
   {
    "duration": 4,
    "start_time": "2024-08-14T01:20:11.799Z"
   },
   {
    "duration": 19,
    "start_time": "2024-08-14T01:20:11.804Z"
   },
   {
    "duration": 20,
    "start_time": "2024-08-14T01:20:11.824Z"
   },
   {
    "duration": 5,
    "start_time": "2024-08-14T01:20:11.846Z"
   },
   {
    "duration": 8,
    "start_time": "2024-08-14T01:20:11.852Z"
   },
   {
    "duration": 5,
    "start_time": "2024-08-14T01:20:11.861Z"
   },
   {
    "duration": 4,
    "start_time": "2024-08-14T01:20:11.867Z"
   },
   {
    "duration": 1312,
    "start_time": "2024-08-14T01:20:11.872Z"
   },
   {
    "duration": 3,
    "start_time": "2024-08-14T01:20:13.185Z"
   },
   {
    "duration": 4,
    "start_time": "2024-08-14T01:20:13.189Z"
   },
   {
    "duration": 7,
    "start_time": "2024-08-14T01:20:13.195Z"
   },
   {
    "duration": 8,
    "start_time": "2024-08-14T01:20:13.204Z"
   },
   {
    "duration": 17,
    "start_time": "2024-08-14T01:20:13.213Z"
   },
   {
    "duration": 4,
    "start_time": "2024-08-14T01:21:51.865Z"
   },
   {
    "duration": 1397,
    "start_time": "2024-08-14T07:21:35.257Z"
   },
   {
    "duration": 286,
    "start_time": "2024-08-14T07:21:36.657Z"
   },
   {
    "duration": 23,
    "start_time": "2024-08-14T07:21:36.946Z"
   },
   {
    "duration": 18,
    "start_time": "2024-08-14T07:21:36.971Z"
   },
   {
    "duration": 40,
    "start_time": "2024-08-14T07:21:36.991Z"
   },
   {
    "duration": 42,
    "start_time": "2024-08-14T07:21:37.033Z"
   },
   {
    "duration": 29,
    "start_time": "2024-08-14T07:21:37.077Z"
   },
   {
    "duration": 7,
    "start_time": "2024-08-14T07:21:37.108Z"
   },
   {
    "duration": 15,
    "start_time": "2024-08-14T07:21:37.117Z"
   },
   {
    "duration": 20,
    "start_time": "2024-08-14T07:21:37.135Z"
   },
   {
    "duration": 24,
    "start_time": "2024-08-14T07:21:37.157Z"
   },
   {
    "duration": 11,
    "start_time": "2024-08-14T07:21:37.182Z"
   },
   {
    "duration": 6,
    "start_time": "2024-08-14T07:21:37.194Z"
   },
   {
    "duration": 20,
    "start_time": "2024-08-14T07:21:37.205Z"
   },
   {
    "duration": 7,
    "start_time": "2024-08-14T07:21:37.227Z"
   },
   {
    "duration": 8,
    "start_time": "2024-08-14T07:21:37.236Z"
   },
   {
    "duration": 8,
    "start_time": "2024-08-14T07:21:37.246Z"
   },
   {
    "duration": 9,
    "start_time": "2024-08-14T07:21:37.255Z"
   },
   {
    "duration": 12,
    "start_time": "2024-08-14T07:21:37.266Z"
   },
   {
    "duration": 24,
    "start_time": "2024-08-14T07:21:37.280Z"
   },
   {
    "duration": 173,
    "start_time": "2024-08-14T07:21:37.306Z"
   },
   {
    "duration": 7,
    "start_time": "2024-08-14T07:21:37.481Z"
   },
   {
    "duration": 20,
    "start_time": "2024-08-14T07:21:37.489Z"
   },
   {
    "duration": 134,
    "start_time": "2024-08-14T07:21:37.510Z"
   },
   {
    "duration": 13,
    "start_time": "2024-08-14T07:21:37.647Z"
   },
   {
    "duration": 57,
    "start_time": "2024-08-14T07:21:37.662Z"
   },
   {
    "duration": 209,
    "start_time": "2024-08-14T07:21:37.720Z"
   },
   {
    "duration": 11,
    "start_time": "2024-08-14T07:21:37.937Z"
   },
   {
    "duration": 40,
    "start_time": "2024-08-14T07:21:37.950Z"
   },
   {
    "duration": 215,
    "start_time": "2024-08-14T07:21:37.992Z"
   },
   {
    "duration": 199,
    "start_time": "2024-08-14T07:21:38.208Z"
   },
   {
    "duration": 14,
    "start_time": "2024-08-14T07:21:38.409Z"
   },
   {
    "duration": 201,
    "start_time": "2024-08-14T07:21:38.425Z"
   },
   {
    "duration": 13,
    "start_time": "2024-08-14T07:21:38.628Z"
   },
   {
    "duration": 6,
    "start_time": "2024-08-14T07:21:38.643Z"
   },
   {
    "duration": 19,
    "start_time": "2024-08-14T07:21:38.651Z"
   },
   {
    "duration": 330,
    "start_time": "2024-08-14T07:21:38.671Z"
   },
   {
    "duration": 214,
    "start_time": "2024-08-14T07:21:39.006Z"
   },
   {
    "duration": 21,
    "start_time": "2024-08-14T07:21:39.223Z"
   },
   {
    "duration": 306,
    "start_time": "2024-08-14T07:21:39.246Z"
   },
   {
    "duration": 8,
    "start_time": "2024-08-14T07:21:39.555Z"
   },
   {
    "duration": 171,
    "start_time": "2024-08-14T07:21:39.565Z"
   },
   {
    "duration": 7,
    "start_time": "2024-08-14T07:21:39.738Z"
   },
   {
    "duration": 112,
    "start_time": "2024-08-14T07:21:39.748Z"
   },
   {
    "duration": 25,
    "start_time": "2024-08-14T07:21:39.862Z"
   },
   {
    "duration": 39,
    "start_time": "2024-08-14T07:21:39.889Z"
   },
   {
    "duration": 21,
    "start_time": "2024-08-14T07:21:39.931Z"
   },
   {
    "duration": 29,
    "start_time": "2024-08-14T07:21:39.954Z"
   },
   {
    "duration": 335,
    "start_time": "2024-08-14T07:21:39.986Z"
   },
   {
    "duration": 12,
    "start_time": "2024-08-14T07:21:40.322Z"
   },
   {
    "duration": 327,
    "start_time": "2024-08-14T07:21:40.335Z"
   },
   {
    "duration": 11,
    "start_time": "2024-08-14T07:21:40.663Z"
   },
   {
    "duration": 47,
    "start_time": "2024-08-14T07:21:40.675Z"
   },
   {
    "duration": 13,
    "start_time": "2024-08-14T07:21:40.724Z"
   },
   {
    "duration": 18,
    "start_time": "2024-08-14T07:21:40.739Z"
   },
   {
    "duration": 24,
    "start_time": "2024-08-14T07:21:40.759Z"
   },
   {
    "duration": 36,
    "start_time": "2024-08-14T07:21:40.785Z"
   },
   {
    "duration": 20,
    "start_time": "2024-08-14T07:21:40.823Z"
   },
   {
    "duration": 6,
    "start_time": "2024-08-14T07:21:40.845Z"
   },
   {
    "duration": 7,
    "start_time": "2024-08-14T07:21:40.854Z"
   },
   {
    "duration": 20,
    "start_time": "2024-08-14T07:21:40.862Z"
   },
   {
    "duration": 76,
    "start_time": "2024-08-14T07:21:40.883Z"
   },
   {
    "duration": 23,
    "start_time": "2024-08-14T07:21:40.961Z"
   },
   {
    "duration": 34,
    "start_time": "2024-08-14T07:21:40.987Z"
   },
   {
    "duration": 10,
    "start_time": "2024-08-14T07:21:41.022Z"
   },
   {
    "duration": 21,
    "start_time": "2024-08-14T07:21:41.033Z"
   },
   {
    "duration": 13,
    "start_time": "2024-08-14T07:21:41.056Z"
   },
   {
    "duration": 34,
    "start_time": "2024-08-14T07:21:41.070Z"
   },
   {
    "duration": 12,
    "start_time": "2024-08-14T07:21:41.106Z"
   },
   {
    "duration": 1652,
    "start_time": "2024-08-14T07:21:41.119Z"
   },
   {
    "duration": 3,
    "start_time": "2024-08-14T07:21:42.773Z"
   },
   {
    "duration": 31,
    "start_time": "2024-08-14T07:21:42.778Z"
   },
   {
    "duration": 24,
    "start_time": "2024-08-14T07:21:42.811Z"
   },
   {
    "duration": 12,
    "start_time": "2024-08-14T07:21:42.837Z"
   },
   {
    "duration": 8,
    "start_time": "2024-08-14T07:21:42.852Z"
   },
   {
    "duration": 6,
    "start_time": "2024-08-14T07:25:49.171Z"
   },
   {
    "duration": 7,
    "start_time": "2024-08-14T07:25:56.404Z"
   },
   {
    "duration": 9,
    "start_time": "2024-08-14T07:31:48.825Z"
   },
   {
    "duration": 1202,
    "start_time": "2024-08-14T07:39:19.703Z"
   },
   {
    "duration": 70,
    "start_time": "2024-08-14T07:39:20.909Z"
   },
   {
    "duration": 19,
    "start_time": "2024-08-14T07:39:20.981Z"
   },
   {
    "duration": 35,
    "start_time": "2024-08-14T07:39:21.002Z"
   },
   {
    "duration": 17,
    "start_time": "2024-08-14T07:39:21.039Z"
   },
   {
    "duration": 38,
    "start_time": "2024-08-14T07:39:21.058Z"
   },
   {
    "duration": 11,
    "start_time": "2024-08-14T07:39:21.098Z"
   },
   {
    "duration": 10,
    "start_time": "2024-08-14T07:39:21.111Z"
   },
   {
    "duration": 36,
    "start_time": "2024-08-14T07:39:21.124Z"
   },
   {
    "duration": 19,
    "start_time": "2024-08-14T07:39:21.163Z"
   },
   {
    "duration": 42,
    "start_time": "2024-08-14T07:39:21.183Z"
   },
   {
    "duration": 13,
    "start_time": "2024-08-14T07:39:21.227Z"
   },
   {
    "duration": 10,
    "start_time": "2024-08-14T07:39:21.242Z"
   },
   {
    "duration": 20,
    "start_time": "2024-08-14T07:39:21.254Z"
   },
   {
    "duration": 19,
    "start_time": "2024-08-14T07:39:21.275Z"
   },
   {
    "duration": 19,
    "start_time": "2024-08-14T07:39:21.296Z"
   },
   {
    "duration": 14,
    "start_time": "2024-08-14T07:39:21.317Z"
   },
   {
    "duration": 12,
    "start_time": "2024-08-14T07:39:21.333Z"
   },
   {
    "duration": 10,
    "start_time": "2024-08-14T07:39:21.347Z"
   },
   {
    "duration": 20,
    "start_time": "2024-08-14T07:39:21.359Z"
   },
   {
    "duration": 189,
    "start_time": "2024-08-14T07:39:21.381Z"
   },
   {
    "duration": 6,
    "start_time": "2024-08-14T07:39:21.572Z"
   },
   {
    "duration": 20,
    "start_time": "2024-08-14T07:39:21.579Z"
   },
   {
    "duration": 19,
    "start_time": "2024-08-14T07:39:21.601Z"
   },
   {
    "duration": 138,
    "start_time": "2024-08-14T07:39:21.622Z"
   },
   {
    "duration": 9,
    "start_time": "2024-08-14T07:39:21.762Z"
   },
   {
    "duration": 56,
    "start_time": "2024-08-14T07:39:21.773Z"
   },
   {
    "duration": 244,
    "start_time": "2024-08-14T07:39:21.835Z"
   },
   {
    "duration": 8,
    "start_time": "2024-08-14T07:39:22.081Z"
   },
   {
    "duration": 25,
    "start_time": "2024-08-14T07:39:22.091Z"
   },
   {
    "duration": 215,
    "start_time": "2024-08-14T07:39:22.122Z"
   },
   {
    "duration": 189,
    "start_time": "2024-08-14T07:39:22.338Z"
   },
   {
    "duration": 12,
    "start_time": "2024-08-14T07:39:22.529Z"
   },
   {
    "duration": 181,
    "start_time": "2024-08-14T07:39:22.542Z"
   },
   {
    "duration": 13,
    "start_time": "2024-08-14T07:39:22.725Z"
   },
   {
    "duration": 31,
    "start_time": "2024-08-14T07:39:22.740Z"
   },
   {
    "duration": 36,
    "start_time": "2024-08-14T07:39:22.773Z"
   },
   {
    "duration": 242,
    "start_time": "2024-08-14T07:39:22.811Z"
   },
   {
    "duration": 151,
    "start_time": "2024-08-14T07:39:23.055Z"
   },
   {
    "duration": 16,
    "start_time": "2024-08-14T07:39:23.208Z"
   },
   {
    "duration": 254,
    "start_time": "2024-08-14T07:39:23.226Z"
   },
   {
    "duration": 6,
    "start_time": "2024-08-14T07:39:23.481Z"
   },
   {
    "duration": 33,
    "start_time": "2024-08-14T07:39:23.488Z"
   },
   {
    "duration": 8,
    "start_time": "2024-08-14T07:39:23.524Z"
   },
   {
    "duration": 119,
    "start_time": "2024-08-14T07:39:23.533Z"
   },
   {
    "duration": 18,
    "start_time": "2024-08-14T07:39:23.653Z"
   },
   {
    "duration": 35,
    "start_time": "2024-08-14T07:39:23.673Z"
   },
   {
    "duration": 94,
    "start_time": "2024-08-14T07:39:23.711Z"
   },
   {
    "duration": 18,
    "start_time": "2024-08-14T07:39:23.808Z"
   },
   {
    "duration": 417,
    "start_time": "2024-08-14T07:39:23.829Z"
   },
   {
    "duration": 13,
    "start_time": "2024-08-14T07:39:24.248Z"
   },
   {
    "duration": 362,
    "start_time": "2024-08-14T07:39:24.263Z"
   },
   {
    "duration": 13,
    "start_time": "2024-08-14T07:39:24.627Z"
   },
   {
    "duration": 28,
    "start_time": "2024-08-14T07:39:24.642Z"
   },
   {
    "duration": 37,
    "start_time": "2024-08-14T07:39:24.672Z"
   },
   {
    "duration": 24,
    "start_time": "2024-08-14T07:39:24.711Z"
   },
   {
    "duration": 28,
    "start_time": "2024-08-14T07:39:24.737Z"
   },
   {
    "duration": 49,
    "start_time": "2024-08-14T07:39:24.767Z"
   },
   {
    "duration": 17,
    "start_time": "2024-08-14T07:39:24.817Z"
   },
   {
    "duration": 13,
    "start_time": "2024-08-14T07:39:24.836Z"
   },
   {
    "duration": 3,
    "start_time": "2024-08-14T07:39:24.853Z"
   },
   {
    "duration": 9,
    "start_time": "2024-08-14T07:39:24.858Z"
   },
   {
    "duration": 8,
    "start_time": "2024-08-14T07:39:24.869Z"
   },
   {
    "duration": 27,
    "start_time": "2024-08-14T07:39:24.878Z"
   },
   {
    "duration": 6,
    "start_time": "2024-08-14T07:39:24.907Z"
   },
   {
    "duration": 13,
    "start_time": "2024-08-14T07:39:24.914Z"
   },
   {
    "duration": 6,
    "start_time": "2024-08-14T07:39:24.929Z"
   },
   {
    "duration": 5,
    "start_time": "2024-08-14T07:39:24.936Z"
   },
   {
    "duration": 88,
    "start_time": "2024-08-14T07:39:24.943Z"
   },
   {
    "duration": 10,
    "start_time": "2024-08-14T07:39:25.033Z"
   },
   {
    "duration": 1722,
    "start_time": "2024-08-14T07:39:25.045Z"
   },
   {
    "duration": 3,
    "start_time": "2024-08-14T07:39:26.769Z"
   },
   {
    "duration": 22,
    "start_time": "2024-08-14T07:39:26.773Z"
   },
   {
    "duration": 27,
    "start_time": "2024-08-14T07:39:26.796Z"
   },
   {
    "duration": 24,
    "start_time": "2024-08-14T07:39:26.825Z"
   },
   {
    "duration": 9,
    "start_time": "2024-08-14T07:39:26.851Z"
   },
   {
    "duration": 1418,
    "start_time": "2024-08-15T16:03:10.270Z"
   },
   {
    "duration": 3,
    "start_time": "2024-08-15T16:12:48.427Z"
   },
   {
    "duration": 111,
    "start_time": "2024-08-15T16:31:03.943Z"
   },
   {
    "duration": 4,
    "start_time": "2024-08-15T16:31:13.828Z"
   },
   {
    "duration": 325,
    "start_time": "2024-08-15T16:31:16.919Z"
   },
   {
    "duration": 34,
    "start_time": "2024-08-15T16:31:17.247Z"
   },
   {
    "duration": 24,
    "start_time": "2024-08-15T16:31:17.282Z"
   },
   {
    "duration": 16,
    "start_time": "2024-08-15T16:31:17.308Z"
   },
   {
    "duration": 52,
    "start_time": "2024-08-15T16:31:17.326Z"
   },
   {
    "duration": 8,
    "start_time": "2024-08-15T16:31:17.380Z"
   },
   {
    "duration": 44,
    "start_time": "2024-08-15T16:31:17.390Z"
   },
   {
    "duration": 14,
    "start_time": "2024-08-15T16:31:17.436Z"
   },
   {
    "duration": 35,
    "start_time": "2024-08-15T16:31:17.451Z"
   },
   {
    "duration": 32,
    "start_time": "2024-08-15T16:31:17.489Z"
   },
   {
    "duration": 9,
    "start_time": "2024-08-15T16:31:17.523Z"
   },
   {
    "duration": 8,
    "start_time": "2024-08-15T16:31:17.533Z"
   },
   {
    "duration": 10,
    "start_time": "2024-08-15T16:31:17.543Z"
   },
   {
    "duration": 25,
    "start_time": "2024-08-15T16:31:17.556Z"
   },
   {
    "duration": 11,
    "start_time": "2024-08-15T16:31:17.583Z"
   },
   {
    "duration": 16,
    "start_time": "2024-08-15T16:31:17.596Z"
   },
   {
    "duration": 15,
    "start_time": "2024-08-15T16:31:17.614Z"
   },
   {
    "duration": 28,
    "start_time": "2024-08-15T16:31:17.631Z"
   },
   {
    "duration": 20,
    "start_time": "2024-08-15T16:31:17.666Z"
   },
   {
    "duration": 10,
    "start_time": "2024-08-15T16:31:17.690Z"
   },
   {
    "duration": 181,
    "start_time": "2024-08-15T16:31:17.702Z"
   },
   {
    "duration": 7,
    "start_time": "2024-08-15T16:31:17.885Z"
   },
   {
    "duration": 33,
    "start_time": "2024-08-15T16:31:17.894Z"
   },
   {
    "duration": 9,
    "start_time": "2024-08-15T16:31:17.929Z"
   },
   {
    "duration": 199,
    "start_time": "2024-08-15T16:31:17.939Z"
   },
   {
    "duration": 18,
    "start_time": "2024-08-15T16:31:18.140Z"
   },
   {
    "duration": 17,
    "start_time": "2024-08-15T16:31:18.161Z"
   },
   {
    "duration": 193,
    "start_time": "2024-08-15T16:31:18.183Z"
   },
   {
    "duration": 9,
    "start_time": "2024-08-15T16:31:18.377Z"
   },
   {
    "duration": 35,
    "start_time": "2024-08-15T16:31:18.388Z"
   },
   {
    "duration": 226,
    "start_time": "2024-08-15T16:31:18.425Z"
   },
   {
    "duration": 206,
    "start_time": "2024-08-15T16:31:18.652Z"
   },
   {
    "duration": 13,
    "start_time": "2024-08-15T16:31:18.860Z"
   },
   {
    "duration": 132,
    "start_time": "2024-08-15T16:31:18.874Z"
   },
   {
    "duration": 12,
    "start_time": "2024-08-15T16:31:19.008Z"
   },
   {
    "duration": 7,
    "start_time": "2024-08-15T16:31:19.022Z"
   },
   {
    "duration": 38,
    "start_time": "2024-08-15T16:31:19.031Z"
   },
   {
    "duration": 228,
    "start_time": "2024-08-15T16:31:19.070Z"
   },
   {
    "duration": 174,
    "start_time": "2024-08-15T16:31:19.300Z"
   },
   {
    "duration": 29,
    "start_time": "2024-08-15T16:31:19.476Z"
   },
   {
    "duration": 277,
    "start_time": "2024-08-15T16:31:19.507Z"
   },
   {
    "duration": 7,
    "start_time": "2024-08-15T16:31:19.785Z"
   },
   {
    "duration": 16,
    "start_time": "2024-08-15T16:31:19.794Z"
   },
   {
    "duration": 32,
    "start_time": "2024-08-15T16:31:19.812Z"
   },
   {
    "duration": 142,
    "start_time": "2024-08-15T16:31:19.846Z"
   },
   {
    "duration": 22,
    "start_time": "2024-08-15T16:31:19.990Z"
   },
   {
    "duration": 60,
    "start_time": "2024-08-15T16:31:20.014Z"
   },
   {
    "duration": 46,
    "start_time": "2024-08-15T16:31:20.075Z"
   },
   {
    "duration": 44,
    "start_time": "2024-08-15T16:31:20.123Z"
   },
   {
    "duration": 427,
    "start_time": "2024-08-15T16:31:20.169Z"
   },
   {
    "duration": 17,
    "start_time": "2024-08-15T16:31:20.598Z"
   },
   {
    "duration": 405,
    "start_time": "2024-08-15T16:31:20.618Z"
   },
   {
    "duration": 12,
    "start_time": "2024-08-15T16:31:21.025Z"
   },
   {
    "duration": 78,
    "start_time": "2024-08-15T16:31:21.039Z"
   },
   {
    "duration": 21,
    "start_time": "2024-08-15T16:31:21.119Z"
   },
   {
    "duration": 62,
    "start_time": "2024-08-15T16:31:21.142Z"
   },
   {
    "duration": 25,
    "start_time": "2024-08-15T16:31:21.206Z"
   },
   {
    "duration": 84,
    "start_time": "2024-08-15T16:31:21.233Z"
   },
   {
    "duration": 44,
    "start_time": "2024-08-15T16:31:21.318Z"
   },
   {
    "duration": 17,
    "start_time": "2024-08-15T16:31:21.364Z"
   },
   {
    "duration": 15,
    "start_time": "2024-08-15T16:31:21.384Z"
   },
   {
    "duration": 44,
    "start_time": "2024-08-15T16:31:21.400Z"
   },
   {
    "duration": 18,
    "start_time": "2024-08-15T16:31:21.445Z"
   },
   {
    "duration": 18,
    "start_time": "2024-08-15T16:31:21.465Z"
   },
   {
    "duration": 21,
    "start_time": "2024-08-15T16:31:21.485Z"
   },
   {
    "duration": 36,
    "start_time": "2024-08-15T16:31:21.508Z"
   },
   {
    "duration": 18,
    "start_time": "2024-08-15T16:31:21.546Z"
   },
   {
    "duration": 14,
    "start_time": "2024-08-15T16:31:21.569Z"
   },
   {
    "duration": 17,
    "start_time": "2024-08-15T16:31:21.585Z"
   },
   {
    "duration": 30,
    "start_time": "2024-08-15T16:31:21.604Z"
   },
   {
    "duration": 1904,
    "start_time": "2024-08-15T16:31:21.636Z"
   },
   {
    "duration": 3,
    "start_time": "2024-08-15T16:31:23.542Z"
   },
   {
    "duration": 16,
    "start_time": "2024-08-15T16:31:23.559Z"
   },
   {
    "duration": 16,
    "start_time": "2024-08-15T16:31:23.578Z"
   },
   {
    "duration": 15,
    "start_time": "2024-08-15T16:31:23.596Z"
   },
   {
    "duration": 11,
    "start_time": "2024-08-15T16:31:23.613Z"
   },
   {
    "duration": 4,
    "start_time": "2024-08-15T16:38:28.448Z"
   },
   {
    "duration": 12,
    "start_time": "2024-08-15T16:38:31.438Z"
   },
   {
    "duration": 168,
    "start_time": "2024-08-15T16:50:03.837Z"
   },
   {
    "duration": 179,
    "start_time": "2024-08-15T16:50:32.279Z"
   },
   {
    "duration": 177,
    "start_time": "2024-08-15T16:56:05.475Z"
   },
   {
    "duration": 152,
    "start_time": "2024-08-15T16:56:29.964Z"
   },
   {
    "duration": 243,
    "start_time": "2024-08-15T16:57:36.741Z"
   },
   {
    "duration": 178,
    "start_time": "2024-08-15T16:58:27.132Z"
   },
   {
    "duration": 211,
    "start_time": "2024-08-15T16:58:30.739Z"
   },
   {
    "duration": 210,
    "start_time": "2024-08-15T17:09:08.831Z"
   },
   {
    "duration": 181,
    "start_time": "2024-08-15T17:09:14.817Z"
   },
   {
    "duration": 209,
    "start_time": "2024-08-15T17:09:23.512Z"
   },
   {
    "duration": 167,
    "start_time": "2024-08-15T17:09:34.199Z"
   },
   {
    "duration": 196,
    "start_time": "2024-08-15T17:09:40.894Z"
   },
   {
    "duration": 266,
    "start_time": "2024-08-15T17:10:27.246Z"
   },
   {
    "duration": 232,
    "start_time": "2024-08-15T17:10:31.953Z"
   },
   {
    "duration": 219,
    "start_time": "2024-08-15T17:10:35.589Z"
   },
   {
    "duration": 166,
    "start_time": "2024-08-15T17:13:01.729Z"
   },
   {
    "duration": 172,
    "start_time": "2024-08-15T17:13:17.198Z"
   },
   {
    "duration": 162,
    "start_time": "2024-08-15T17:13:20.926Z"
   },
   {
    "duration": 164,
    "start_time": "2024-08-15T17:13:25.395Z"
   },
   {
    "duration": 375,
    "start_time": "2024-08-15T17:13:30.345Z"
   },
   {
    "duration": 157,
    "start_time": "2024-08-15T17:14:00.099Z"
   },
   {
    "duration": 166,
    "start_time": "2024-08-15T17:14:04.754Z"
   },
   {
    "duration": 173,
    "start_time": "2024-08-15T17:14:10.047Z"
   },
   {
    "duration": 287,
    "start_time": "2024-08-15T17:19:02.737Z"
   },
   {
    "duration": 283,
    "start_time": "2024-08-15T17:19:36.118Z"
   },
   {
    "duration": 144,
    "start_time": "2024-08-15T17:19:47.081Z"
   },
   {
    "duration": 165,
    "start_time": "2024-08-15T17:21:01.475Z"
   },
   {
    "duration": 180,
    "start_time": "2024-08-15T17:21:06.064Z"
   },
   {
    "duration": 18,
    "start_time": "2024-08-15T17:24:16.196Z"
   },
   {
    "duration": 122,
    "start_time": "2024-08-15T17:24:38.469Z"
   },
   {
    "duration": 338,
    "start_time": "2024-08-15T17:25:26.178Z"
   },
   {
    "duration": 12,
    "start_time": "2024-08-15T17:25:40.050Z"
   },
   {
    "duration": 90,
    "start_time": "2024-08-15T17:25:56.650Z"
   },
   {
    "duration": 14,
    "start_time": "2024-08-15T17:26:00.123Z"
   },
   {
    "duration": 416,
    "start_time": "2024-08-15T17:26:10.209Z"
   },
   {
    "duration": 12,
    "start_time": "2024-08-15T17:31:14.736Z"
   },
   {
    "duration": 13,
    "start_time": "2024-08-15T17:31:22.530Z"
   },
   {
    "duration": 153,
    "start_time": "2024-08-15T17:31:26.493Z"
   },
   {
    "duration": 73,
    "start_time": "2024-08-15T17:31:35.029Z"
   },
   {
    "duration": 12,
    "start_time": "2024-08-15T17:35:45.340Z"
   },
   {
    "duration": 0,
    "start_time": "2024-08-15T17:36:51.730Z"
   },
   {
    "duration": 0,
    "start_time": "2024-08-15T17:36:51.731Z"
   },
   {
    "duration": 12,
    "start_time": "2024-08-15T17:36:55.408Z"
   },
   {
    "duration": 81,
    "start_time": "2024-08-15T17:37:05.870Z"
   },
   {
    "duration": 14,
    "start_time": "2024-08-15T17:37:10.362Z"
   },
   {
    "duration": 179,
    "start_time": "2024-08-15T17:40:55.843Z"
   },
   {
    "duration": 158,
    "start_time": "2024-08-15T17:41:09.596Z"
   },
   {
    "duration": 167,
    "start_time": "2024-08-15T17:41:16.087Z"
   },
   {
    "duration": 172,
    "start_time": "2024-08-15T17:46:08.299Z"
   },
   {
    "duration": 1273,
    "start_time": "2024-08-15T17:46:49.374Z"
   },
   {
    "duration": 80,
    "start_time": "2024-08-15T17:46:50.649Z"
   },
   {
    "duration": 24,
    "start_time": "2024-08-15T17:46:50.730Z"
   },
   {
    "duration": 30,
    "start_time": "2024-08-15T17:46:50.756Z"
   },
   {
    "duration": 21,
    "start_time": "2024-08-15T17:46:50.788Z"
   },
   {
    "duration": 57,
    "start_time": "2024-08-15T17:46:50.812Z"
   },
   {
    "duration": 8,
    "start_time": "2024-08-15T17:46:50.871Z"
   },
   {
    "duration": 10,
    "start_time": "2024-08-15T17:46:50.880Z"
   },
   {
    "duration": 13,
    "start_time": "2024-08-15T17:46:50.892Z"
   },
   {
    "duration": 14,
    "start_time": "2024-08-15T17:46:50.908Z"
   },
   {
    "duration": 6,
    "start_time": "2024-08-15T17:46:50.924Z"
   },
   {
    "duration": 40,
    "start_time": "2024-08-15T17:46:50.932Z"
   },
   {
    "duration": 6,
    "start_time": "2024-08-15T17:46:50.973Z"
   },
   {
    "duration": 20,
    "start_time": "2024-08-15T17:46:50.980Z"
   },
   {
    "duration": 22,
    "start_time": "2024-08-15T17:46:51.002Z"
   },
   {
    "duration": 24,
    "start_time": "2024-08-15T17:46:51.026Z"
   },
   {
    "duration": 20,
    "start_time": "2024-08-15T17:46:51.052Z"
   },
   {
    "duration": 15,
    "start_time": "2024-08-15T17:46:51.074Z"
   },
   {
    "duration": 15,
    "start_time": "2024-08-15T17:46:51.091Z"
   },
   {
    "duration": 18,
    "start_time": "2024-08-15T17:46:51.109Z"
   },
   {
    "duration": 360,
    "start_time": "2024-08-15T17:46:51.129Z"
   },
   {
    "duration": 0,
    "start_time": "2024-08-15T17:46:51.492Z"
   },
   {
    "duration": 0,
    "start_time": "2024-08-15T17:46:51.493Z"
   },
   {
    "duration": 0,
    "start_time": "2024-08-15T17:46:51.495Z"
   },
   {
    "duration": 0,
    "start_time": "2024-08-15T17:46:51.496Z"
   },
   {
    "duration": 0,
    "start_time": "2024-08-15T17:46:51.498Z"
   },
   {
    "duration": 0,
    "start_time": "2024-08-15T17:46:51.500Z"
   },
   {
    "duration": 0,
    "start_time": "2024-08-15T17:46:51.501Z"
   },
   {
    "duration": 0,
    "start_time": "2024-08-15T17:46:51.502Z"
   },
   {
    "duration": 0,
    "start_time": "2024-08-15T17:46:51.503Z"
   },
   {
    "duration": 0,
    "start_time": "2024-08-15T17:46:51.504Z"
   },
   {
    "duration": 0,
    "start_time": "2024-08-15T17:46:51.505Z"
   },
   {
    "duration": 0,
    "start_time": "2024-08-15T17:46:51.506Z"
   },
   {
    "duration": 1,
    "start_time": "2024-08-15T17:46:51.507Z"
   },
   {
    "duration": 0,
    "start_time": "2024-08-15T17:46:51.509Z"
   },
   {
    "duration": 0,
    "start_time": "2024-08-15T17:46:51.510Z"
   },
   {
    "duration": 0,
    "start_time": "2024-08-15T17:46:51.512Z"
   },
   {
    "duration": 0,
    "start_time": "2024-08-15T17:46:51.513Z"
   },
   {
    "duration": 0,
    "start_time": "2024-08-15T17:46:51.514Z"
   },
   {
    "duration": 0,
    "start_time": "2024-08-15T17:46:51.555Z"
   },
   {
    "duration": 0,
    "start_time": "2024-08-15T17:46:51.556Z"
   },
   {
    "duration": 0,
    "start_time": "2024-08-15T17:46:51.559Z"
   },
   {
    "duration": 0,
    "start_time": "2024-08-15T17:46:51.560Z"
   },
   {
    "duration": 0,
    "start_time": "2024-08-15T17:46:51.560Z"
   },
   {
    "duration": 0,
    "start_time": "2024-08-15T17:46:51.561Z"
   },
   {
    "duration": 0,
    "start_time": "2024-08-15T17:46:51.562Z"
   },
   {
    "duration": 0,
    "start_time": "2024-08-15T17:46:51.565Z"
   },
   {
    "duration": 0,
    "start_time": "2024-08-15T17:46:51.565Z"
   },
   {
    "duration": 0,
    "start_time": "2024-08-15T17:46:51.567Z"
   },
   {
    "duration": 0,
    "start_time": "2024-08-15T17:46:51.568Z"
   },
   {
    "duration": 0,
    "start_time": "2024-08-15T17:46:51.569Z"
   },
   {
    "duration": 0,
    "start_time": "2024-08-15T17:46:51.570Z"
   },
   {
    "duration": 0,
    "start_time": "2024-08-15T17:46:51.571Z"
   },
   {
    "duration": 0,
    "start_time": "2024-08-15T17:46:51.572Z"
   },
   {
    "duration": 0,
    "start_time": "2024-08-15T17:46:51.573Z"
   },
   {
    "duration": 0,
    "start_time": "2024-08-15T17:46:51.574Z"
   },
   {
    "duration": 0,
    "start_time": "2024-08-15T17:46:51.575Z"
   },
   {
    "duration": 0,
    "start_time": "2024-08-15T17:46:51.576Z"
   },
   {
    "duration": 0,
    "start_time": "2024-08-15T17:46:51.577Z"
   },
   {
    "duration": 0,
    "start_time": "2024-08-15T17:46:51.578Z"
   },
   {
    "duration": 0,
    "start_time": "2024-08-15T17:46:51.579Z"
   },
   {
    "duration": 0,
    "start_time": "2024-08-15T17:46:51.580Z"
   },
   {
    "duration": 0,
    "start_time": "2024-08-15T17:46:51.582Z"
   },
   {
    "duration": 0,
    "start_time": "2024-08-15T17:46:51.584Z"
   },
   {
    "duration": 0,
    "start_time": "2024-08-15T17:46:51.585Z"
   },
   {
    "duration": 0,
    "start_time": "2024-08-15T17:46:51.586Z"
   },
   {
    "duration": 0,
    "start_time": "2024-08-15T17:46:51.588Z"
   },
   {
    "duration": 0,
    "start_time": "2024-08-15T17:46:51.589Z"
   },
   {
    "duration": 0,
    "start_time": "2024-08-15T17:46:51.590Z"
   },
   {
    "duration": 0,
    "start_time": "2024-08-15T17:46:51.591Z"
   },
   {
    "duration": 0,
    "start_time": "2024-08-15T17:46:51.592Z"
   },
   {
    "duration": 0,
    "start_time": "2024-08-15T17:46:51.593Z"
   },
   {
    "duration": 0,
    "start_time": "2024-08-15T17:46:51.594Z"
   },
   {
    "duration": 0,
    "start_time": "2024-08-15T17:46:51.596Z"
   },
   {
    "duration": 0,
    "start_time": "2024-08-15T17:46:51.597Z"
   },
   {
    "duration": 0,
    "start_time": "2024-08-15T17:46:51.655Z"
   },
   {
    "duration": 174,
    "start_time": "2024-08-15T17:47:19.593Z"
   },
   {
    "duration": 170,
    "start_time": "2024-08-15T17:47:27.162Z"
   },
   {
    "duration": 8,
    "start_time": "2024-08-15T17:47:46.721Z"
   },
   {
    "duration": 157,
    "start_time": "2024-08-15T17:47:48.809Z"
   },
   {
    "duration": 18,
    "start_time": "2024-08-15T17:47:51.478Z"
   },
   {
    "duration": 9,
    "start_time": "2024-08-15T17:47:56.581Z"
   },
   {
    "duration": 9,
    "start_time": "2024-08-15T17:49:46.586Z"
   },
   {
    "duration": 8,
    "start_time": "2024-08-15T17:49:53.515Z"
   },
   {
    "duration": 8,
    "start_time": "2024-08-15T17:50:22.201Z"
   },
   {
    "duration": 7,
    "start_time": "2024-08-15T17:50:54.034Z"
   },
   {
    "duration": 287,
    "start_time": "2024-08-15T17:52:14.207Z"
   },
   {
    "duration": 134,
    "start_time": "2024-08-15T17:52:47.340Z"
   },
   {
    "duration": 150,
    "start_time": "2024-08-15T17:52:54.116Z"
   },
   {
    "duration": 287,
    "start_time": "2024-08-15T17:53:16.045Z"
   },
   {
    "duration": 9,
    "start_time": "2024-08-15T17:54:22.378Z"
   },
   {
    "duration": 5,
    "start_time": "2024-08-15T17:54:32.970Z"
   },
   {
    "duration": 15,
    "start_time": "2024-08-15T17:55:08.253Z"
   },
   {
    "duration": 17,
    "start_time": "2024-08-15T17:55:16.864Z"
   },
   {
    "duration": 23,
    "start_time": "2024-08-15T17:55:55.856Z"
   },
   {
    "duration": 9,
    "start_time": "2024-08-15T17:56:03.243Z"
   },
   {
    "duration": 9,
    "start_time": "2024-08-15T17:56:04.895Z"
   },
   {
    "duration": 10,
    "start_time": "2024-08-15T17:56:09.598Z"
   },
   {
    "duration": 7,
    "start_time": "2024-08-15T17:56:23.388Z"
   },
   {
    "duration": 11,
    "start_time": "2024-08-15T17:56:30.701Z"
   },
   {
    "duration": 129,
    "start_time": "2024-08-15T17:56:35.810Z"
   },
   {
    "duration": 82,
    "start_time": "2024-08-15T17:56:41.630Z"
   },
   {
    "duration": 84,
    "start_time": "2024-08-15T17:57:00.129Z"
   },
   {
    "duration": 7,
    "start_time": "2024-08-15T17:57:28.326Z"
   },
   {
    "duration": 7,
    "start_time": "2024-08-15T17:58:20.869Z"
   },
   {
    "duration": 168,
    "start_time": "2024-08-15T17:58:30.468Z"
   },
   {
    "duration": 15,
    "start_time": "2024-08-15T18:00:19.065Z"
   },
   {
    "duration": 12,
    "start_time": "2024-08-15T18:00:21.468Z"
   },
   {
    "duration": 11,
    "start_time": "2024-08-15T18:00:25.537Z"
   },
   {
    "duration": 94,
    "start_time": "2024-08-15T18:00:30.041Z"
   },
   {
    "duration": 96,
    "start_time": "2024-08-15T18:00:51.390Z"
   },
   {
    "duration": 103,
    "start_time": "2024-08-15T18:00:58.997Z"
   },
   {
    "duration": 90,
    "start_time": "2024-08-15T18:01:30.036Z"
   },
   {
    "duration": 92,
    "start_time": "2024-08-15T18:01:37.723Z"
   },
   {
    "duration": 94,
    "start_time": "2024-08-15T18:02:06.117Z"
   },
   {
    "duration": 120,
    "start_time": "2024-08-15T18:02:23.237Z"
   },
   {
    "duration": 18,
    "start_time": "2024-08-15T18:02:49.155Z"
   },
   {
    "duration": 104,
    "start_time": "2024-08-15T18:02:54.085Z"
   },
   {
    "duration": 116,
    "start_time": "2024-08-15T18:03:23.186Z"
   },
   {
    "duration": 215,
    "start_time": "2024-08-15T18:03:36.332Z"
   },
   {
    "duration": 16,
    "start_time": "2024-08-15T18:04:06.909Z"
   },
   {
    "duration": 24,
    "start_time": "2024-08-15T18:04:13.108Z"
   },
   {
    "duration": 10,
    "start_time": "2024-08-15T18:04:24.221Z"
   },
   {
    "duration": 13,
    "start_time": "2024-08-15T18:04:32.650Z"
   },
   {
    "duration": 9,
    "start_time": "2024-08-15T18:04:49.929Z"
   },
   {
    "duration": 16,
    "start_time": "2024-08-15T18:04:54.014Z"
   },
   {
    "duration": 102,
    "start_time": "2024-08-15T18:06:04.893Z"
   },
   {
    "duration": 304,
    "start_time": "2024-08-15T18:06:19.775Z"
   },
   {
    "duration": 236,
    "start_time": "2024-08-15T18:07:03.960Z"
   },
   {
    "duration": 220,
    "start_time": "2024-08-15T18:08:25.288Z"
   },
   {
    "duration": 128,
    "start_time": "2024-08-15T18:08:43.793Z"
   },
   {
    "duration": 91,
    "start_time": "2024-08-15T18:08:45.094Z"
   },
   {
    "duration": 11,
    "start_time": "2024-08-15T18:09:03.295Z"
   },
   {
    "duration": 8,
    "start_time": "2024-08-15T18:09:11.703Z"
   },
   {
    "duration": 171,
    "start_time": "2024-08-15T18:10:56.381Z"
   },
   {
    "duration": 174,
    "start_time": "2024-08-15T18:15:55.431Z"
   },
   {
    "duration": 192,
    "start_time": "2024-08-15T18:16:55.933Z"
   },
   {
    "duration": 187,
    "start_time": "2024-08-15T18:30:59.066Z"
   },
   {
    "duration": 284,
    "start_time": "2024-08-15T18:31:14.535Z"
   },
   {
    "duration": 194,
    "start_time": "2024-08-15T18:31:17.839Z"
   },
   {
    "duration": 81,
    "start_time": "2024-08-15T18:31:35.129Z"
   },
   {
    "duration": 184,
    "start_time": "2024-08-15T18:31:54.232Z"
   },
   {
    "duration": 198,
    "start_time": "2024-08-15T18:32:42.042Z"
   },
   {
    "duration": 230,
    "start_time": "2024-08-15T18:32:45.547Z"
   },
   {
    "duration": 213,
    "start_time": "2024-08-15T18:32:55.471Z"
   },
   {
    "duration": 219,
    "start_time": "2024-08-15T18:33:02.185Z"
   },
   {
    "duration": 192,
    "start_time": "2024-08-15T18:33:06.736Z"
   },
   {
    "duration": 187,
    "start_time": "2024-08-15T18:33:09.861Z"
   },
   {
    "duration": 204,
    "start_time": "2024-08-15T18:33:29.328Z"
   },
   {
    "duration": 200,
    "start_time": "2024-08-15T18:33:32.953Z"
   },
   {
    "duration": 325,
    "start_time": "2024-08-15T18:33:36.980Z"
   },
   {
    "duration": 210,
    "start_time": "2024-08-15T18:33:42.583Z"
   },
   {
    "duration": 196,
    "start_time": "2024-08-15T18:33:49.306Z"
   },
   {
    "duration": 230,
    "start_time": "2024-08-15T18:33:58.461Z"
   },
   {
    "duration": 197,
    "start_time": "2024-08-15T18:35:53.492Z"
   },
   {
    "duration": 218,
    "start_time": "2024-08-15T18:36:07.650Z"
   },
   {
    "duration": 8,
    "start_time": "2024-08-15T18:37:28.707Z"
   },
   {
    "duration": 6,
    "start_time": "2024-08-15T18:37:30.445Z"
   },
   {
    "duration": 209,
    "start_time": "2024-08-15T18:37:42.386Z"
   },
   {
    "duration": 235,
    "start_time": "2024-08-15T18:38:11.653Z"
   },
   {
    "duration": 232,
    "start_time": "2024-08-15T18:38:49.264Z"
   },
   {
    "duration": 230,
    "start_time": "2024-08-15T18:38:55.065Z"
   },
   {
    "duration": 196,
    "start_time": "2024-08-15T18:39:26.324Z"
   },
   {
    "duration": 12,
    "start_time": "2024-08-15T18:39:29.782Z"
   },
   {
    "duration": 261,
    "start_time": "2024-08-15T18:39:33.636Z"
   },
   {
    "duration": 147,
    "start_time": "2024-08-15T18:41:08.488Z"
   },
   {
    "duration": 145,
    "start_time": "2024-08-15T18:41:44.180Z"
   },
   {
    "duration": 289,
    "start_time": "2024-08-15T18:46:17.082Z"
   },
   {
    "duration": 165,
    "start_time": "2024-08-15T18:46:30.337Z"
   },
   {
    "duration": 280,
    "start_time": "2024-08-15T18:46:39.376Z"
   },
   {
    "duration": 1283,
    "start_time": "2024-08-15T18:46:44.082Z"
   },
   {
    "duration": 155,
    "start_time": "2024-08-15T18:46:48.481Z"
   },
   {
    "duration": 266,
    "start_time": "2024-08-15T18:47:44.433Z"
   },
   {
    "duration": 262,
    "start_time": "2024-08-15T18:47:51.146Z"
   },
   {
    "duration": 265,
    "start_time": "2024-08-15T18:47:59.050Z"
   },
   {
    "duration": 103,
    "start_time": "2024-08-15T18:48:04.668Z"
   },
   {
    "duration": 156,
    "start_time": "2024-08-15T18:48:07.731Z"
   },
   {
    "duration": 154,
    "start_time": "2024-08-15T18:48:17.789Z"
   },
   {
    "duration": 111,
    "start_time": "2024-08-15T18:51:02.947Z"
   },
   {
    "duration": 164,
    "start_time": "2024-08-15T18:51:06.629Z"
   },
   {
    "duration": 203,
    "start_time": "2024-08-15T18:51:15.324Z"
   },
   {
    "duration": 183,
    "start_time": "2024-08-15T18:51:22.668Z"
   },
   {
    "duration": 203,
    "start_time": "2024-08-15T18:51:26.852Z"
   },
   {
    "duration": 185,
    "start_time": "2024-08-15T18:52:01.880Z"
   },
   {
    "duration": 194,
    "start_time": "2024-08-15T18:52:17.068Z"
   },
   {
    "duration": 300,
    "start_time": "2024-08-15T18:52:27.105Z"
   },
   {
    "duration": 197,
    "start_time": "2024-08-15T18:52:39.285Z"
   },
   {
    "duration": 202,
    "start_time": "2024-08-15T18:52:48.525Z"
   },
   {
    "duration": 214,
    "start_time": "2024-08-15T18:52:55.237Z"
   },
   {
    "duration": 184,
    "start_time": "2024-08-15T18:54:20.463Z"
   },
   {
    "duration": 211,
    "start_time": "2024-08-15T18:54:56.399Z"
   },
   {
    "duration": 208,
    "start_time": "2024-08-15T18:55:26.718Z"
   },
   {
    "duration": 237,
    "start_time": "2024-08-15T18:55:31.341Z"
   },
   {
    "duration": 224,
    "start_time": "2024-08-15T18:55:41.288Z"
   },
   {
    "duration": 216,
    "start_time": "2024-08-15T18:55:50.199Z"
   },
   {
    "duration": 229,
    "start_time": "2024-08-15T18:57:01.281Z"
   },
   {
    "duration": 335,
    "start_time": "2024-08-15T18:57:10.978Z"
   },
   {
    "duration": 248,
    "start_time": "2024-08-15T19:06:50.444Z"
   },
   {
    "duration": 6,
    "start_time": "2024-08-15T19:09:28.231Z"
   },
   {
    "duration": 18,
    "start_time": "2024-08-15T19:09:29.071Z"
   },
   {
    "duration": 13,
    "start_time": "2024-08-15T19:09:33.120Z"
   },
   {
    "duration": 224,
    "start_time": "2024-08-15T19:09:36.617Z"
   },
   {
    "duration": 224,
    "start_time": "2024-08-15T19:10:18.471Z"
   },
   {
    "duration": 220,
    "start_time": "2024-08-15T19:10:26.176Z"
   },
   {
    "duration": 224,
    "start_time": "2024-08-15T19:10:35.201Z"
   },
   {
    "duration": 281,
    "start_time": "2024-08-15T19:10:37.544Z"
   },
   {
    "duration": 164,
    "start_time": "2024-08-15T19:10:48.187Z"
   },
   {
    "duration": 162,
    "start_time": "2024-08-15T19:10:53.583Z"
   },
   {
    "duration": 22,
    "start_time": "2024-08-15T19:11:02.854Z"
   },
   {
    "duration": 183,
    "start_time": "2024-08-15T19:11:10.993Z"
   },
   {
    "duration": 175,
    "start_time": "2024-08-15T19:11:24.824Z"
   },
   {
    "duration": 182,
    "start_time": "2024-08-15T19:12:41.571Z"
   },
   {
    "duration": 188,
    "start_time": "2024-08-15T19:12:56.290Z"
   },
   {
    "duration": 9,
    "start_time": "2024-08-15T19:13:28.906Z"
   },
   {
    "duration": 9,
    "start_time": "2024-08-15T19:13:31.755Z"
   },
   {
    "duration": 7,
    "start_time": "2024-08-15T19:13:44.973Z"
   },
   {
    "duration": 119,
    "start_time": "2024-08-15T19:13:47.906Z"
   },
   {
    "duration": 189,
    "start_time": "2024-08-15T19:17:42.038Z"
   },
   {
    "duration": 140,
    "start_time": "2024-08-15T19:18:14.901Z"
   },
   {
    "duration": 135,
    "start_time": "2024-08-15T19:18:35.415Z"
   },
   {
    "duration": 18,
    "start_time": "2024-08-15T19:18:52.630Z"
   },
   {
    "duration": 27,
    "start_time": "2024-08-15T19:18:54.743Z"
   },
   {
    "duration": 3,
    "start_time": "2024-08-15T19:19:56.520Z"
   },
   {
    "duration": 4,
    "start_time": "2024-08-15T19:20:44.776Z"
   },
   {
    "duration": 4,
    "start_time": "2024-08-15T19:22:17.361Z"
   },
   {
    "duration": 4,
    "start_time": "2024-08-15T21:43:33.097Z"
   },
   {
    "duration": 85,
    "start_time": "2024-08-15T21:43:33.105Z"
   },
   {
    "duration": 19,
    "start_time": "2024-08-15T21:43:33.192Z"
   },
   {
    "duration": 69,
    "start_time": "2024-08-15T21:43:33.212Z"
   },
   {
    "duration": 16,
    "start_time": "2024-08-15T21:43:33.284Z"
   },
   {
    "duration": 34,
    "start_time": "2024-08-15T21:43:33.303Z"
   },
   {
    "duration": 23,
    "start_time": "2024-08-15T21:43:33.339Z"
   },
   {
    "duration": 22,
    "start_time": "2024-08-15T21:43:33.363Z"
   },
   {
    "duration": 26,
    "start_time": "2024-08-15T21:43:33.387Z"
   },
   {
    "duration": 16,
    "start_time": "2024-08-15T21:43:33.414Z"
   },
   {
    "duration": 6,
    "start_time": "2024-08-15T21:43:33.433Z"
   },
   {
    "duration": 19,
    "start_time": "2024-08-15T21:43:33.440Z"
   },
   {
    "duration": 5,
    "start_time": "2024-08-15T21:43:33.469Z"
   },
   {
    "duration": 6,
    "start_time": "2024-08-15T21:43:33.476Z"
   },
   {
    "duration": 6,
    "start_time": "2024-08-15T21:43:33.483Z"
   },
   {
    "duration": 19,
    "start_time": "2024-08-15T21:43:33.491Z"
   },
   {
    "duration": 25,
    "start_time": "2024-08-15T21:43:33.512Z"
   },
   {
    "duration": 19,
    "start_time": "2024-08-15T21:43:33.539Z"
   },
   {
    "duration": 15,
    "start_time": "2024-08-15T21:43:33.560Z"
   },
   {
    "duration": 9,
    "start_time": "2024-08-15T21:43:33.577Z"
   },
   {
    "duration": 221,
    "start_time": "2024-08-15T21:43:33.589Z"
   },
   {
    "duration": 6,
    "start_time": "2024-08-15T21:43:33.812Z"
   },
   {
    "duration": 12,
    "start_time": "2024-08-15T21:43:33.820Z"
   },
   {
    "duration": 27,
    "start_time": "2024-08-15T21:43:33.834Z"
   },
   {
    "duration": 151,
    "start_time": "2024-08-15T21:43:33.865Z"
   },
   {
    "duration": 107,
    "start_time": "2024-08-15T21:43:34.018Z"
   },
   {
    "duration": 10,
    "start_time": "2024-08-15T21:43:34.127Z"
   },
   {
    "duration": 194,
    "start_time": "2024-08-15T21:43:34.138Z"
   },
   {
    "duration": 9,
    "start_time": "2024-08-15T21:43:34.336Z"
   },
   {
    "duration": 19,
    "start_time": "2024-08-15T21:43:34.346Z"
   },
   {
    "duration": 231,
    "start_time": "2024-08-15T21:43:34.367Z"
   },
   {
    "duration": 196,
    "start_time": "2024-08-15T21:43:34.600Z"
   },
   {
    "duration": 11,
    "start_time": "2024-08-15T21:43:34.798Z"
   },
   {
    "duration": 232,
    "start_time": "2024-08-15T21:43:34.811Z"
   },
   {
    "duration": 30,
    "start_time": "2024-08-15T21:43:35.045Z"
   },
   {
    "duration": 7,
    "start_time": "2024-08-15T21:43:35.077Z"
   },
   {
    "duration": 10,
    "start_time": "2024-08-15T21:43:35.086Z"
   },
   {
    "duration": 263,
    "start_time": "2024-08-15T21:43:35.098Z"
   },
   {
    "duration": 282,
    "start_time": "2024-08-15T21:43:35.364Z"
   },
   {
    "duration": 22,
    "start_time": "2024-08-15T21:43:35.655Z"
   },
   {
    "duration": 193,
    "start_time": "2024-08-15T21:43:35.679Z"
   },
   {
    "duration": 8,
    "start_time": "2024-08-15T21:43:35.876Z"
   },
   {
    "duration": 11,
    "start_time": "2024-08-15T21:43:35.886Z"
   },
   {
    "duration": 133,
    "start_time": "2024-08-15T21:43:35.899Z"
   },
   {
    "duration": 36,
    "start_time": "2024-08-15T21:43:36.033Z"
   },
   {
    "duration": 19,
    "start_time": "2024-08-15T21:43:36.071Z"
   },
   {
    "duration": 4,
    "start_time": "2024-08-15T21:43:36.092Z"
   },
   {
    "duration": 14,
    "start_time": "2024-08-15T21:43:36.097Z"
   },
   {
    "duration": 51,
    "start_time": "2024-08-15T21:43:36.113Z"
   },
   {
    "duration": 338,
    "start_time": "2024-08-15T21:43:36.168Z"
   },
   {
    "duration": 14,
    "start_time": "2024-08-15T21:43:36.508Z"
   },
   {
    "duration": 369,
    "start_time": "2024-08-15T21:43:36.524Z"
   },
   {
    "duration": 12,
    "start_time": "2024-08-15T21:43:36.895Z"
   },
   {
    "duration": 62,
    "start_time": "2024-08-15T21:43:36.909Z"
   },
   {
    "duration": 15,
    "start_time": "2024-08-15T21:43:36.973Z"
   },
   {
    "duration": 18,
    "start_time": "2024-08-15T21:43:36.989Z"
   },
   {
    "duration": 19,
    "start_time": "2024-08-15T21:43:37.009Z"
   },
   {
    "duration": 42,
    "start_time": "2024-08-15T21:43:37.030Z"
   },
   {
    "duration": 12,
    "start_time": "2024-08-15T21:43:37.074Z"
   },
   {
    "duration": 6,
    "start_time": "2024-08-15T21:43:37.088Z"
   },
   {
    "duration": 6,
    "start_time": "2024-08-15T21:43:37.096Z"
   },
   {
    "duration": 6,
    "start_time": "2024-08-15T21:43:37.103Z"
   },
   {
    "duration": 4,
    "start_time": "2024-08-15T21:43:37.111Z"
   },
   {
    "duration": 24,
    "start_time": "2024-08-15T21:43:37.117Z"
   },
   {
    "duration": 23,
    "start_time": "2024-08-15T21:43:37.143Z"
   },
   {
    "duration": 10,
    "start_time": "2024-08-15T21:43:37.172Z"
   },
   {
    "duration": 6,
    "start_time": "2024-08-15T21:43:37.183Z"
   },
   {
    "duration": 2,
    "start_time": "2024-08-15T21:43:37.191Z"
   },
   {
    "duration": 5,
    "start_time": "2024-08-15T21:43:37.195Z"
   },
   {
    "duration": 8,
    "start_time": "2024-08-15T21:43:37.202Z"
   },
   {
    "duration": 1770,
    "start_time": "2024-08-15T21:43:37.212Z"
   },
   {
    "duration": 3,
    "start_time": "2024-08-15T21:43:38.984Z"
   },
   {
    "duration": 7,
    "start_time": "2024-08-15T21:43:38.989Z"
   },
   {
    "duration": 12,
    "start_time": "2024-08-15T21:43:38.998Z"
   },
   {
    "duration": 4,
    "start_time": "2024-08-15T21:43:39.012Z"
   },
   {
    "duration": 18,
    "start_time": "2024-08-15T21:43:39.018Z"
   },
   {
    "duration": 314,
    "start_time": "2024-08-15T21:46:04.450Z"
   },
   {
    "duration": 98,
    "start_time": "2024-08-15T21:46:23.017Z"
   },
   {
    "duration": 107,
    "start_time": "2024-08-15T21:46:44.353Z"
   },
   {
    "duration": 200,
    "start_time": "2024-08-15T21:47:45.287Z"
   },
   {
    "duration": 20,
    "start_time": "2024-08-15T21:50:08.552Z"
   },
   {
    "duration": 14,
    "start_time": "2024-08-15T21:50:15.393Z"
   },
   {
    "duration": 44,
    "start_time": "2024-08-15T21:50:30.834Z"
   },
   {
    "duration": 38,
    "start_time": "2024-08-15T21:50:48.542Z"
   },
   {
    "duration": 294,
    "start_time": "2024-08-15T21:54:23.322Z"
   },
   {
    "duration": 147,
    "start_time": "2024-08-15T21:55:27.966Z"
   },
   {
    "duration": 164,
    "start_time": "2024-08-15T21:55:37.125Z"
   },
   {
    "duration": 212,
    "start_time": "2024-08-15T21:55:45.418Z"
   },
   {
    "duration": 280,
    "start_time": "2024-08-15T21:55:50.071Z"
   },
   {
    "duration": 343,
    "start_time": "2024-08-15T21:55:54.724Z"
   },
   {
    "duration": 369,
    "start_time": "2024-08-15T21:55:58.118Z"
   },
   {
    "duration": 204,
    "start_time": "2024-08-15T21:56:17.647Z"
   },
   {
    "duration": 237,
    "start_time": "2024-08-15T21:56:58.357Z"
   },
   {
    "duration": 283,
    "start_time": "2024-08-15T21:57:04.285Z"
   },
   {
    "duration": 235,
    "start_time": "2024-08-15T21:57:15.629Z"
   },
   {
    "duration": 213,
    "start_time": "2024-08-15T21:57:39.161Z"
   },
   {
    "duration": 417,
    "start_time": "2024-08-15T22:04:40.294Z"
   },
   {
    "duration": 121,
    "start_time": "2024-08-15T22:06:39.948Z"
   },
   {
    "duration": 120,
    "start_time": "2024-08-15T22:06:57.379Z"
   },
   {
    "duration": 137,
    "start_time": "2024-08-15T22:09:00.294Z"
   },
   {
    "duration": 132,
    "start_time": "2024-08-15T22:09:05.436Z"
   },
   {
    "duration": 237,
    "start_time": "2024-08-15T22:12:05.590Z"
   },
   {
    "duration": 209,
    "start_time": "2024-08-15T22:12:08.043Z"
   },
   {
    "duration": 319,
    "start_time": "2024-08-15T22:12:38.485Z"
   },
   {
    "duration": 525,
    "start_time": "2024-08-15T22:13:44.409Z"
   },
   {
    "duration": 480,
    "start_time": "2024-08-15T22:13:53.108Z"
   },
   {
    "duration": 461,
    "start_time": "2024-08-15T22:14:12.229Z"
   },
   {
    "duration": 481,
    "start_time": "2024-08-15T22:14:16.421Z"
   },
   {
    "duration": 206,
    "start_time": "2024-08-15T22:14:35.511Z"
   },
   {
    "duration": 357,
    "start_time": "2024-08-15T22:15:02.917Z"
   },
   {
    "duration": 338,
    "start_time": "2024-08-15T22:15:16.654Z"
   },
   {
    "duration": 307,
    "start_time": "2024-08-15T22:15:22.509Z"
   },
   {
    "duration": 509,
    "start_time": "2024-08-15T22:15:26.868Z"
   },
   {
    "duration": 364,
    "start_time": "2024-08-15T22:15:38.944Z"
   },
   {
    "duration": 337,
    "start_time": "2024-08-15T22:15:58.166Z"
   },
   {
    "duration": 570,
    "start_time": "2024-08-15T22:16:19.254Z"
   },
   {
    "duration": 437,
    "start_time": "2024-08-15T22:16:42.199Z"
   },
   {
    "duration": 327,
    "start_time": "2024-08-15T22:17:06.880Z"
   },
   {
    "duration": 338,
    "start_time": "2024-08-15T22:17:13.102Z"
   },
   {
    "duration": 455,
    "start_time": "2024-08-15T22:17:18.300Z"
   },
   {
    "duration": 600,
    "start_time": "2024-08-15T22:17:37.625Z"
   },
   {
    "duration": 886,
    "start_time": "2024-08-15T22:17:46.384Z"
   },
   {
    "duration": 1035,
    "start_time": "2024-08-15T22:18:53.405Z"
   },
   {
    "duration": 940,
    "start_time": "2024-08-15T22:19:06.811Z"
   },
   {
    "duration": 1065,
    "start_time": "2024-08-15T22:19:44.264Z"
   },
   {
    "duration": 946,
    "start_time": "2024-08-15T22:20:43.781Z"
   },
   {
    "duration": 509,
    "start_time": "2024-08-15T22:21:05.026Z"
   },
   {
    "duration": 981,
    "start_time": "2024-08-15T22:22:31.863Z"
   },
   {
    "duration": 892,
    "start_time": "2024-08-15T22:23:20.982Z"
   },
   {
    "duration": 725,
    "start_time": "2024-08-15T22:23:26.699Z"
   },
   {
    "duration": 1076,
    "start_time": "2024-08-15T22:23:42.594Z"
   },
   {
    "duration": 337,
    "start_time": "2024-08-15T22:24:16.235Z"
   },
   {
    "duration": 356,
    "start_time": "2024-08-15T22:24:34.865Z"
   },
   {
    "duration": 61,
    "start_time": "2024-08-15T22:24:53.908Z"
   },
   {
    "duration": 340,
    "start_time": "2024-08-15T22:24:57.149Z"
   },
   {
    "duration": 77,
    "start_time": "2024-08-15T22:25:06.500Z"
   },
   {
    "duration": 334,
    "start_time": "2024-08-15T22:25:11.788Z"
   },
   {
    "duration": 60,
    "start_time": "2024-08-15T22:25:23.277Z"
   },
   {
    "duration": 79,
    "start_time": "2024-08-15T22:25:32.916Z"
   },
   {
    "duration": 502,
    "start_time": "2024-08-15T22:25:42.049Z"
   },
   {
    "duration": 318,
    "start_time": "2024-08-15T22:26:04.088Z"
   },
   {
    "duration": 332,
    "start_time": "2024-08-15T22:26:18.647Z"
   },
   {
    "duration": 253,
    "start_time": "2024-08-15T22:26:54.950Z"
   },
   {
    "duration": 396,
    "start_time": "2024-08-15T22:27:08.372Z"
   },
   {
    "duration": 628,
    "start_time": "2024-08-15T22:29:34.796Z"
   },
   {
    "duration": 432,
    "start_time": "2024-08-15T22:31:54.509Z"
   },
   {
    "duration": 33,
    "start_time": "2024-08-15T22:36:48.684Z"
   },
   {
    "duration": 41,
    "start_time": "2024-08-15T23:11:49.298Z"
   },
   {
    "duration": 31,
    "start_time": "2024-08-15T23:12:12.840Z"
   },
   {
    "duration": 13,
    "start_time": "2024-08-15T23:15:01.665Z"
   },
   {
    "duration": 13,
    "start_time": "2024-08-15T23:15:35.129Z"
   },
   {
    "duration": 39,
    "start_time": "2024-08-15T23:16:16.454Z"
   },
   {
    "duration": 41,
    "start_time": "2024-08-15T23:16:59.840Z"
   },
   {
    "duration": 39,
    "start_time": "2024-08-15T23:17:24.704Z"
   },
   {
    "duration": 23,
    "start_time": "2024-08-15T23:18:53.184Z"
   },
   {
    "duration": 11,
    "start_time": "2024-08-15T23:20:10.008Z"
   },
   {
    "duration": 28,
    "start_time": "2024-08-15T23:21:15.508Z"
   },
   {
    "duration": 28,
    "start_time": "2024-08-15T23:21:48.476Z"
   },
   {
    "duration": 30,
    "start_time": "2024-08-15T23:28:33.095Z"
   },
   {
    "duration": 21,
    "start_time": "2024-08-15T23:55:17.252Z"
   },
   {
    "duration": 6,
    "start_time": "2024-08-15T23:55:26.176Z"
   },
   {
    "duration": 12,
    "start_time": "2024-08-16T00:17:22.904Z"
   },
   {
    "duration": 11,
    "start_time": "2024-08-16T00:17:25.768Z"
   },
   {
    "duration": 16,
    "start_time": "2024-08-16T00:17:50.215Z"
   },
   {
    "duration": 89,
    "start_time": "2024-08-16T00:18:14.153Z"
   },
   {
    "duration": 71,
    "start_time": "2024-08-16T00:18:16.682Z"
   },
   {
    "duration": 75,
    "start_time": "2024-08-16T00:18:26.615Z"
   },
   {
    "duration": 8,
    "start_time": "2024-08-16T00:18:31.518Z"
   },
   {
    "duration": 11,
    "start_time": "2024-08-16T00:18:39.168Z"
   },
   {
    "duration": 27,
    "start_time": "2024-08-16T00:18:49.950Z"
   },
   {
    "duration": 9,
    "start_time": "2024-08-16T00:19:10.408Z"
   },
   {
    "duration": 13,
    "start_time": "2024-08-16T00:19:17.950Z"
   },
   {
    "duration": 9,
    "start_time": "2024-08-16T00:21:50.001Z"
   },
   {
    "duration": 6,
    "start_time": "2024-08-16T00:22:08.393Z"
   },
   {
    "duration": 9,
    "start_time": "2024-08-16T00:22:13.260Z"
   },
   {
    "duration": 19,
    "start_time": "2024-08-16T00:22:42.457Z"
   },
   {
    "duration": 17,
    "start_time": "2024-08-16T00:23:59.335Z"
   },
   {
    "duration": 24,
    "start_time": "2024-08-16T00:24:07.651Z"
   },
   {
    "duration": 23,
    "start_time": "2024-08-16T00:24:19.986Z"
   },
   {
    "duration": 8,
    "start_time": "2024-08-16T00:26:06.620Z"
   },
   {
    "duration": 17,
    "start_time": "2024-08-16T00:26:16.253Z"
   },
   {
    "duration": 14,
    "start_time": "2024-08-16T00:26:38.453Z"
   },
   {
    "duration": 7,
    "start_time": "2024-08-16T00:27:25.876Z"
   },
   {
    "duration": 8,
    "start_time": "2024-08-16T00:27:42.597Z"
   },
   {
    "duration": 19,
    "start_time": "2024-08-16T00:27:56.949Z"
   },
   {
    "duration": 28,
    "start_time": "2024-08-16T00:28:27.629Z"
   },
   {
    "duration": 7,
    "start_time": "2024-08-16T00:31:19.025Z"
   },
   {
    "duration": 8,
    "start_time": "2024-08-16T00:31:38.030Z"
   },
   {
    "duration": 7,
    "start_time": "2024-08-16T00:31:43.511Z"
   },
   {
    "duration": 10,
    "start_time": "2024-08-16T00:31:51.935Z"
   },
   {
    "duration": 5,
    "start_time": "2024-08-16T00:40:05.069Z"
   },
   {
    "duration": 5,
    "start_time": "2024-08-16T00:40:12.515Z"
   },
   {
    "duration": 6,
    "start_time": "2024-08-16T00:40:21.365Z"
   },
   {
    "duration": 9,
    "start_time": "2024-08-16T00:40:25.464Z"
   },
   {
    "duration": 5,
    "start_time": "2024-08-16T00:40:32.264Z"
   },
   {
    "duration": 5,
    "start_time": "2024-08-16T00:41:28.372Z"
   },
   {
    "duration": 6,
    "start_time": "2024-08-16T00:42:23.221Z"
   },
   {
    "duration": 5,
    "start_time": "2024-08-16T00:42:27.368Z"
   },
   {
    "duration": 3,
    "start_time": "2024-08-16T00:46:41.721Z"
   },
   {
    "duration": 4,
    "start_time": "2024-08-16T00:46:51.319Z"
   },
   {
    "duration": 29,
    "start_time": "2024-08-16T00:47:24.474Z"
   },
   {
    "duration": 34,
    "start_time": "2024-08-16T00:47:29.518Z"
   },
   {
    "duration": 5,
    "start_time": "2024-08-16T00:47:51.417Z"
   },
   {
    "duration": 29,
    "start_time": "2024-08-16T00:48:13.607Z"
   },
   {
    "duration": 44,
    "start_time": "2024-08-16T00:48:42.241Z"
   },
   {
    "duration": 132,
    "start_time": "2024-08-16T00:49:07.871Z"
   },
   {
    "duration": 131,
    "start_time": "2024-08-16T00:49:16.265Z"
   },
   {
    "duration": 5,
    "start_time": "2024-08-16T00:49:27.825Z"
   },
   {
    "duration": 5,
    "start_time": "2024-08-16T00:51:25.523Z"
   },
   {
    "duration": 5,
    "start_time": "2024-08-16T00:51:32.194Z"
   },
   {
    "duration": 39,
    "start_time": "2024-08-16T00:53:37.012Z"
   },
   {
    "duration": 6,
    "start_time": "2024-08-16T00:53:51.803Z"
   },
   {
    "duration": 51,
    "start_time": "2024-08-16T00:59:14.920Z"
   },
   {
    "duration": 47,
    "start_time": "2024-08-16T00:59:36.534Z"
   },
   {
    "duration": 44,
    "start_time": "2024-08-16T01:00:29.764Z"
   },
   {
    "duration": 42,
    "start_time": "2024-08-16T01:00:34.611Z"
   },
   {
    "duration": 42,
    "start_time": "2024-08-16T01:00:54.080Z"
   },
   {
    "duration": 5,
    "start_time": "2024-08-16T01:01:22.147Z"
   },
   {
    "duration": 53,
    "start_time": "2024-08-16T01:01:34.780Z"
   },
   {
    "duration": 5,
    "start_time": "2024-08-16T01:01:46.240Z"
   },
   {
    "duration": 5,
    "start_time": "2024-08-16T01:01:53.240Z"
   },
   {
    "duration": 31,
    "start_time": "2024-08-16T01:04:59.623Z"
   },
   {
    "duration": 27,
    "start_time": "2024-08-16T01:05:33.025Z"
   },
   {
    "duration": 32,
    "start_time": "2024-08-16T01:06:15.948Z"
   },
   {
    "duration": 41,
    "start_time": "2024-08-16T01:06:20.954Z"
   },
   {
    "duration": 33,
    "start_time": "2024-08-16T01:06:52.436Z"
   },
   {
    "duration": 32,
    "start_time": "2024-08-16T01:07:09.339Z"
   },
   {
    "duration": 27,
    "start_time": "2024-08-16T01:07:25.581Z"
   },
   {
    "duration": 59,
    "start_time": "2024-08-16T01:07:30.211Z"
   },
   {
    "duration": 35,
    "start_time": "2024-08-16T01:08:42.445Z"
   },
   {
    "duration": 31,
    "start_time": "2024-08-16T01:08:52.094Z"
   },
   {
    "duration": 54,
    "start_time": "2024-08-16T01:11:22.253Z"
   },
   {
    "duration": 49,
    "start_time": "2024-08-16T01:11:38.517Z"
   },
   {
    "duration": 2274,
    "start_time": "2024-08-16T01:16:15.230Z"
   },
   {
    "duration": 2135,
    "start_time": "2024-08-16T01:18:06.269Z"
   },
   {
    "duration": 1902,
    "start_time": "2024-08-16T01:18:13.026Z"
   },
   {
    "duration": 1981,
    "start_time": "2024-08-16T01:18:21.986Z"
   },
   {
    "duration": 1695,
    "start_time": "2024-08-16T01:19:12.875Z"
   },
   {
    "duration": 1901,
    "start_time": "2024-08-16T01:19:46.690Z"
   },
   {
    "duration": 2325,
    "start_time": "2024-08-16T01:20:18.275Z"
   },
   {
    "duration": 9,
    "start_time": "2024-08-16T01:20:34.675Z"
   },
   {
    "duration": 10,
    "start_time": "2024-08-16T01:20:45.004Z"
   },
   {
    "duration": 11,
    "start_time": "2024-08-16T01:20:52.779Z"
   },
   {
    "duration": 15,
    "start_time": "2024-08-16T01:20:59.109Z"
   },
   {
    "duration": 1299,
    "start_time": "2024-08-16T01:22:05.133Z"
   },
   {
    "duration": 357,
    "start_time": "2024-08-16T01:25:20.609Z"
   },
   {
    "duration": 11,
    "start_time": "2024-08-16T01:25:54.405Z"
   },
   {
    "duration": 121,
    "start_time": "2024-08-16T01:26:01.568Z"
   },
   {
    "duration": 4,
    "start_time": "2024-08-16T01:26:18.824Z"
   },
   {
    "duration": 5,
    "start_time": "2024-08-16T01:26:25.564Z"
   },
   {
    "duration": 5,
    "start_time": "2024-08-16T01:26:28.302Z"
   },
   {
    "duration": 134,
    "start_time": "2024-08-16T01:26:32.768Z"
   },
   {
    "duration": 133,
    "start_time": "2024-08-16T01:26:59.593Z"
   },
   {
    "duration": 144,
    "start_time": "2024-08-16T01:27:20.534Z"
   },
   {
    "duration": 157,
    "start_time": "2024-08-16T01:27:30.623Z"
   },
   {
    "duration": 134,
    "start_time": "2024-08-16T01:27:52.499Z"
   },
   {
    "duration": 133,
    "start_time": "2024-08-16T01:28:14.991Z"
   },
   {
    "duration": 118,
    "start_time": "2024-08-16T01:28:33.888Z"
   },
   {
    "duration": 3987,
    "start_time": "2024-08-16T01:28:57.384Z"
   },
   {
    "duration": 1928,
    "start_time": "2024-08-16T01:31:28.942Z"
   },
   {
    "duration": 258,
    "start_time": "2024-08-16T01:31:36.251Z"
   },
   {
    "duration": 246,
    "start_time": "2024-08-16T01:31:56.604Z"
   },
   {
    "duration": 42,
    "start_time": "2024-08-16T01:32:24.483Z"
   },
   {
    "duration": 1565,
    "start_time": "2024-08-16T01:32:53.226Z"
   },
   {
    "duration": 46,
    "start_time": "2024-08-16T01:33:02.802Z"
   },
   {
    "duration": 43,
    "start_time": "2024-08-16T01:33:07.379Z"
   },
   {
    "duration": 52,
    "start_time": "2024-08-16T01:33:11.181Z"
   },
   {
    "duration": 51,
    "start_time": "2024-08-16T01:33:17.076Z"
   },
   {
    "duration": 2042,
    "start_time": "2024-08-16T01:33:20.928Z"
   },
   {
    "duration": 2176,
    "start_time": "2024-08-16T01:33:28.777Z"
   },
   {
    "duration": 12,
    "start_time": "2024-08-16T01:34:52.392Z"
   },
   {
    "duration": 7313,
    "start_time": "2024-08-16T01:34:59.420Z"
   },
   {
    "duration": 2326,
    "start_time": "2024-08-16T01:35:12.007Z"
   },
   {
    "duration": 2054,
    "start_time": "2024-08-16T01:35:36.865Z"
   },
   {
    "duration": 1935,
    "start_time": "2024-08-16T01:35:40.294Z"
   },
   {
    "duration": 3,
    "start_time": "2024-08-16T01:36:06.726Z"
   },
   {
    "duration": 1586,
    "start_time": "2024-08-16T01:36:33.581Z"
   },
   {
    "duration": 43,
    "start_time": "2024-08-16T01:36:40.796Z"
   },
   {
    "duration": 2175,
    "start_time": "2024-08-16T01:37:10.373Z"
   },
   {
    "duration": 1282,
    "start_time": "2024-08-16T01:51:22.823Z"
   },
   {
    "duration": 78,
    "start_time": "2024-08-16T01:51:24.107Z"
   },
   {
    "duration": 22,
    "start_time": "2024-08-16T01:51:24.186Z"
   },
   {
    "duration": 19,
    "start_time": "2024-08-16T01:51:24.210Z"
   },
   {
    "duration": 25,
    "start_time": "2024-08-16T01:51:24.230Z"
   },
   {
    "duration": 29,
    "start_time": "2024-08-16T01:51:24.258Z"
   },
   {
    "duration": 8,
    "start_time": "2024-08-16T01:51:24.288Z"
   },
   {
    "duration": 23,
    "start_time": "2024-08-16T01:51:24.297Z"
   },
   {
    "duration": 16,
    "start_time": "2024-08-16T01:51:24.321Z"
   },
   {
    "duration": 31,
    "start_time": "2024-08-16T01:51:24.340Z"
   },
   {
    "duration": 6,
    "start_time": "2024-08-16T01:51:24.372Z"
   },
   {
    "duration": 11,
    "start_time": "2024-08-16T01:51:24.380Z"
   },
   {
    "duration": 4,
    "start_time": "2024-08-16T01:51:24.393Z"
   },
   {
    "duration": 6,
    "start_time": "2024-08-16T01:51:24.399Z"
   },
   {
    "duration": 27,
    "start_time": "2024-08-16T01:51:24.406Z"
   },
   {
    "duration": 15,
    "start_time": "2024-08-16T01:51:24.435Z"
   },
   {
    "duration": 17,
    "start_time": "2024-08-16T01:51:24.453Z"
   },
   {
    "duration": 9,
    "start_time": "2024-08-16T01:51:24.472Z"
   },
   {
    "duration": 7,
    "start_time": "2024-08-16T01:51:24.482Z"
   },
   {
    "duration": 11,
    "start_time": "2024-08-16T01:51:24.490Z"
   },
   {
    "duration": 184,
    "start_time": "2024-08-16T01:51:24.502Z"
   },
   {
    "duration": 6,
    "start_time": "2024-08-16T01:51:24.688Z"
   },
   {
    "duration": 10,
    "start_time": "2024-08-16T01:51:24.695Z"
   },
   {
    "duration": 6,
    "start_time": "2024-08-16T01:51:24.707Z"
   },
   {
    "duration": 167,
    "start_time": "2024-08-16T01:51:24.715Z"
   },
   {
    "duration": 103,
    "start_time": "2024-08-16T01:51:24.884Z"
   },
   {
    "duration": 10,
    "start_time": "2024-08-16T01:51:24.988Z"
   },
   {
    "duration": 225,
    "start_time": "2024-08-16T01:51:25.002Z"
   },
   {
    "duration": 10,
    "start_time": "2024-08-16T01:51:25.230Z"
   },
   {
    "duration": 24,
    "start_time": "2024-08-16T01:51:25.242Z"
   },
   {
    "duration": 213,
    "start_time": "2024-08-16T01:51:25.268Z"
   },
   {
    "duration": 200,
    "start_time": "2024-08-16T01:51:25.483Z"
   },
   {
    "duration": 11,
    "start_time": "2024-08-16T01:51:25.684Z"
   },
   {
    "duration": 222,
    "start_time": "2024-08-16T01:51:25.696Z"
   },
   {
    "duration": 11,
    "start_time": "2024-08-16T01:51:25.920Z"
   },
   {
    "duration": 36,
    "start_time": "2024-08-16T01:51:25.932Z"
   },
   {
    "duration": 8,
    "start_time": "2024-08-16T01:51:25.970Z"
   },
   {
    "duration": 216,
    "start_time": "2024-08-16T01:51:25.980Z"
   },
   {
    "duration": 267,
    "start_time": "2024-08-16T01:51:26.197Z"
   },
   {
    "duration": 17,
    "start_time": "2024-08-16T01:51:26.470Z"
   },
   {
    "duration": 200,
    "start_time": "2024-08-16T01:51:26.489Z"
   },
   {
    "duration": 10,
    "start_time": "2024-08-16T01:51:26.691Z"
   },
   {
    "duration": 6,
    "start_time": "2024-08-16T01:51:26.703Z"
   },
   {
    "duration": 157,
    "start_time": "2024-08-16T01:51:26.711Z"
   },
   {
    "duration": 17,
    "start_time": "2024-08-16T01:51:26.870Z"
   },
   {
    "duration": 19,
    "start_time": "2024-08-16T01:51:26.888Z"
   },
   {
    "duration": 3,
    "start_time": "2024-08-16T01:51:26.909Z"
   },
   {
    "duration": 44,
    "start_time": "2024-08-16T01:51:26.914Z"
   },
   {
    "duration": 22,
    "start_time": "2024-08-16T01:51:26.960Z"
   },
   {
    "duration": 443,
    "start_time": "2024-08-16T01:51:26.984Z"
   },
   {
    "duration": 38,
    "start_time": "2024-08-16T01:51:27.429Z"
   },
   {
    "duration": 448,
    "start_time": "2024-08-16T01:51:27.469Z"
   },
   {
    "duration": 1052,
    "start_time": "2024-08-16T01:51:27.919Z"
   },
   {
    "duration": 12,
    "start_time": "2024-08-16T01:51:28.972Z"
   },
   {
    "duration": 29,
    "start_time": "2024-08-16T01:51:28.986Z"
   },
   {
    "duration": 48,
    "start_time": "2024-08-16T01:51:29.017Z"
   },
   {
    "duration": 16,
    "start_time": "2024-08-16T01:51:29.067Z"
   },
   {
    "duration": 25,
    "start_time": "2024-08-16T01:51:29.084Z"
   },
   {
    "duration": 17,
    "start_time": "2024-08-16T01:51:29.111Z"
   },
   {
    "duration": 37,
    "start_time": "2024-08-16T01:51:29.130Z"
   },
   {
    "duration": 42,
    "start_time": "2024-08-16T01:51:29.170Z"
   },
   {
    "duration": 64,
    "start_time": "2024-08-16T01:51:29.214Z"
   },
   {
    "duration": 21,
    "start_time": "2024-08-16T01:51:29.280Z"
   },
   {
    "duration": 6,
    "start_time": "2024-08-16T01:51:29.302Z"
   },
   {
    "duration": 10,
    "start_time": "2024-08-16T01:51:29.310Z"
   },
   {
    "duration": 5,
    "start_time": "2024-08-16T01:51:29.322Z"
   },
   {
    "duration": 3,
    "start_time": "2024-08-16T01:51:29.328Z"
   },
   {
    "duration": 10,
    "start_time": "2024-08-16T01:51:29.357Z"
   },
   {
    "duration": 5,
    "start_time": "2024-08-16T01:51:29.371Z"
   },
   {
    "duration": 23,
    "start_time": "2024-08-16T01:51:29.378Z"
   },
   {
    "duration": 7,
    "start_time": "2024-08-16T01:51:29.405Z"
   },
   {
    "duration": 4,
    "start_time": "2024-08-16T01:51:29.414Z"
   },
   {
    "duration": 51,
    "start_time": "2024-08-16T01:51:29.420Z"
   },
   {
    "duration": 5,
    "start_time": "2024-08-16T01:51:29.476Z"
   },
   {
    "duration": 9,
    "start_time": "2024-08-16T01:51:29.482Z"
   },
   {
    "duration": 1717,
    "start_time": "2024-08-16T01:51:29.492Z"
   },
   {
    "duration": 3,
    "start_time": "2024-08-16T01:51:31.211Z"
   },
   {
    "duration": 38,
    "start_time": "2024-08-16T01:51:31.215Z"
   },
   {
    "duration": 33,
    "start_time": "2024-08-16T01:51:31.259Z"
   },
   {
    "duration": 37,
    "start_time": "2024-08-16T01:51:31.294Z"
   },
   {
    "duration": 35,
    "start_time": "2024-08-16T01:51:31.333Z"
   },
   {
    "duration": 48,
    "start_time": "2024-08-16T01:51:31.374Z"
   },
   {
    "duration": 1191,
    "start_time": "2024-08-16T15:14:10.517Z"
   },
   {
    "duration": 71,
    "start_time": "2024-08-16T15:14:11.710Z"
   },
   {
    "duration": 20,
    "start_time": "2024-08-16T15:14:11.783Z"
   },
   {
    "duration": 17,
    "start_time": "2024-08-16T15:14:11.805Z"
   },
   {
    "duration": 15,
    "start_time": "2024-08-16T15:14:11.824Z"
   },
   {
    "duration": 30,
    "start_time": "2024-08-16T15:14:11.840Z"
   },
   {
    "duration": 8,
    "start_time": "2024-08-16T15:14:11.871Z"
   },
   {
    "duration": 8,
    "start_time": "2024-08-16T15:14:11.880Z"
   },
   {
    "duration": 20,
    "start_time": "2024-08-16T15:14:11.889Z"
   },
   {
    "duration": 16,
    "start_time": "2024-08-16T15:14:11.912Z"
   },
   {
    "duration": 24,
    "start_time": "2024-08-16T15:14:11.929Z"
   },
   {
    "duration": 12,
    "start_time": "2024-08-16T15:14:11.954Z"
   },
   {
    "duration": 4,
    "start_time": "2024-08-16T15:14:11.968Z"
   },
   {
    "duration": 8,
    "start_time": "2024-08-16T15:14:11.974Z"
   },
   {
    "duration": 11,
    "start_time": "2024-08-16T15:14:11.983Z"
   },
   {
    "duration": 4,
    "start_time": "2024-08-16T15:14:12.005Z"
   },
   {
    "duration": 17,
    "start_time": "2024-08-16T15:14:12.010Z"
   },
   {
    "duration": 10,
    "start_time": "2024-08-16T15:14:12.029Z"
   },
   {
    "duration": 16,
    "start_time": "2024-08-16T15:14:12.041Z"
   },
   {
    "duration": 14,
    "start_time": "2024-08-16T15:14:12.058Z"
   },
   {
    "duration": 164,
    "start_time": "2024-08-16T15:14:12.074Z"
   },
   {
    "duration": 6,
    "start_time": "2024-08-16T15:14:12.239Z"
   },
   {
    "duration": 20,
    "start_time": "2024-08-16T15:14:12.246Z"
   },
   {
    "duration": 6,
    "start_time": "2024-08-16T15:14:12.268Z"
   },
   {
    "duration": 134,
    "start_time": "2024-08-16T15:14:12.275Z"
   },
   {
    "duration": 100,
    "start_time": "2024-08-16T15:14:12.412Z"
   },
   {
    "duration": 10,
    "start_time": "2024-08-16T15:14:12.514Z"
   },
   {
    "duration": 192,
    "start_time": "2024-08-16T15:14:12.530Z"
   },
   {
    "duration": 8,
    "start_time": "2024-08-16T15:14:12.725Z"
   },
   {
    "duration": 25,
    "start_time": "2024-08-16T15:14:12.735Z"
   },
   {
    "duration": 220,
    "start_time": "2024-08-16T15:14:12.761Z"
   },
   {
    "duration": 207,
    "start_time": "2024-08-16T15:14:12.983Z"
   },
   {
    "duration": 20,
    "start_time": "2024-08-16T15:14:13.192Z"
   },
   {
    "duration": 226,
    "start_time": "2024-08-16T15:14:13.214Z"
   },
   {
    "duration": 10,
    "start_time": "2024-08-16T15:14:13.441Z"
   },
   {
    "duration": 17,
    "start_time": "2024-08-16T15:14:13.453Z"
   },
   {
    "duration": 8,
    "start_time": "2024-08-16T15:14:13.471Z"
   },
   {
    "duration": 212,
    "start_time": "2024-08-16T15:14:13.481Z"
   },
   {
    "duration": 246,
    "start_time": "2024-08-16T15:14:13.694Z"
   },
   {
    "duration": 15,
    "start_time": "2024-08-16T15:14:13.942Z"
   },
   {
    "duration": 212,
    "start_time": "2024-08-16T15:14:13.959Z"
   },
   {
    "duration": 8,
    "start_time": "2024-08-16T15:14:14.173Z"
   },
   {
    "duration": 70,
    "start_time": "2024-08-16T15:14:14.183Z"
   },
   {
    "duration": 137,
    "start_time": "2024-08-16T15:14:14.255Z"
   },
   {
    "duration": 27,
    "start_time": "2024-08-16T15:14:14.394Z"
   },
   {
    "duration": 18,
    "start_time": "2024-08-16T15:14:14.424Z"
   },
   {
    "duration": 11,
    "start_time": "2024-08-16T15:14:14.443Z"
   },
   {
    "duration": 34,
    "start_time": "2024-08-16T15:14:14.456Z"
   },
   {
    "duration": 36,
    "start_time": "2024-08-16T15:14:14.492Z"
   },
   {
    "duration": 474,
    "start_time": "2024-08-16T15:14:14.530Z"
   },
   {
    "duration": 16,
    "start_time": "2024-08-16T15:14:15.005Z"
   },
   {
    "duration": 470,
    "start_time": "2024-08-16T15:14:15.022Z"
   },
   {
    "duration": 1066,
    "start_time": "2024-08-16T15:14:15.494Z"
   },
   {
    "duration": 11,
    "start_time": "2024-08-16T15:14:16.562Z"
   },
   {
    "duration": 56,
    "start_time": "2024-08-16T15:14:16.575Z"
   },
   {
    "duration": 14,
    "start_time": "2024-08-16T15:14:16.633Z"
   },
   {
    "duration": 18,
    "start_time": "2024-08-16T15:14:16.649Z"
   },
   {
    "duration": 39,
    "start_time": "2024-08-16T15:14:16.668Z"
   },
   {
    "duration": 22,
    "start_time": "2024-08-16T15:14:16.708Z"
   },
   {
    "duration": 11,
    "start_time": "2024-08-16T15:14:16.732Z"
   },
   {
    "duration": 42,
    "start_time": "2024-08-16T15:14:16.744Z"
   },
   {
    "duration": 47,
    "start_time": "2024-08-16T15:14:16.788Z"
   },
   {
    "duration": 25,
    "start_time": "2024-08-16T15:14:16.836Z"
   },
   {
    "duration": 7,
    "start_time": "2024-08-16T15:14:16.863Z"
   },
   {
    "duration": 5,
    "start_time": "2024-08-16T15:14:16.872Z"
   },
   {
    "duration": 33,
    "start_time": "2024-08-16T15:14:16.879Z"
   },
   {
    "duration": 11,
    "start_time": "2024-08-16T15:14:16.914Z"
   },
   {
    "duration": 10,
    "start_time": "2024-08-16T15:14:16.927Z"
   },
   {
    "duration": 5,
    "start_time": "2024-08-16T15:14:16.938Z"
   },
   {
    "duration": 9,
    "start_time": "2024-08-16T15:14:16.945Z"
   },
   {
    "duration": 6,
    "start_time": "2024-08-16T15:14:16.955Z"
   },
   {
    "duration": 65,
    "start_time": "2024-08-16T15:14:16.962Z"
   },
   {
    "duration": 26,
    "start_time": "2024-08-16T15:14:17.029Z"
   },
   {
    "duration": 4,
    "start_time": "2024-08-16T15:14:17.056Z"
   },
   {
    "duration": 7,
    "start_time": "2024-08-16T15:14:17.061Z"
   },
   {
    "duration": 1634,
    "start_time": "2024-08-16T15:14:17.070Z"
   },
   {
    "duration": 4,
    "start_time": "2024-08-16T15:14:18.706Z"
   },
   {
    "duration": 10,
    "start_time": "2024-08-16T15:14:18.711Z"
   },
   {
    "duration": 18,
    "start_time": "2024-08-16T15:14:18.723Z"
   },
   {
    "duration": 10,
    "start_time": "2024-08-16T15:14:18.742Z"
   },
   {
    "duration": 10,
    "start_time": "2024-08-16T15:14:18.754Z"
   },
   {
    "duration": 12,
    "start_time": "2024-08-16T15:14:18.769Z"
   },
   {
    "duration": 127,
    "start_time": "2024-08-16T15:23:40.069Z"
   },
   {
    "duration": 31,
    "start_time": "2024-08-16T15:24:24.254Z"
   },
   {
    "duration": 149,
    "start_time": "2024-08-16T15:27:22.614Z"
   },
   {
    "duration": 2049,
    "start_time": "2024-08-16T15:27:47.343Z"
   },
   {
    "duration": 13,
    "start_time": "2024-08-16T15:28:14.745Z"
   },
   {
    "duration": 169,
    "start_time": "2024-08-16T15:28:17.986Z"
   },
   {
    "duration": 149,
    "start_time": "2024-08-16T15:29:04.333Z"
   },
   {
    "duration": 144,
    "start_time": "2024-08-16T15:29:08.655Z"
   },
   {
    "duration": 145,
    "start_time": "2024-08-16T15:29:09.344Z"
   },
   {
    "duration": 2098,
    "start_time": "2024-08-16T15:29:18.352Z"
   },
   {
    "duration": 129,
    "start_time": "2024-08-16T15:29:42.369Z"
   },
   {
    "duration": 2098,
    "start_time": "2024-08-16T15:30:00.617Z"
   },
   {
    "duration": 58,
    "start_time": "2024-08-16T15:50:03.228Z"
   },
   {
    "duration": 1403,
    "start_time": "2025-04-14T13:06:55.865Z"
   },
   {
    "duration": 77,
    "start_time": "2025-04-14T13:06:57.270Z"
   },
   {
    "duration": 23,
    "start_time": "2025-04-14T13:06:57.349Z"
   },
   {
    "duration": 18,
    "start_time": "2025-04-14T13:06:57.374Z"
   },
   {
    "duration": 127,
    "start_time": "2025-04-14T13:06:57.394Z"
   },
   {
    "duration": 24,
    "start_time": "2025-04-14T13:06:57.523Z"
   },
   {
    "duration": 8,
    "start_time": "2025-04-14T13:06:57.549Z"
   },
   {
    "duration": 7,
    "start_time": "2025-04-14T13:06:57.559Z"
   },
   {
    "duration": 7,
    "start_time": "2025-04-14T13:06:57.567Z"
   },
   {
    "duration": 17,
    "start_time": "2025-04-14T13:06:57.578Z"
   },
   {
    "duration": 8,
    "start_time": "2025-04-14T13:06:57.597Z"
   },
   {
    "duration": 6,
    "start_time": "2025-04-14T13:06:57.608Z"
   },
   {
    "duration": 16,
    "start_time": "2025-04-14T13:06:57.616Z"
   },
   {
    "duration": 31,
    "start_time": "2025-04-14T13:06:57.634Z"
   },
   {
    "duration": 6,
    "start_time": "2025-04-14T13:06:57.667Z"
   },
   {
    "duration": 16,
    "start_time": "2025-04-14T13:06:57.675Z"
   },
   {
    "duration": 7,
    "start_time": "2025-04-14T13:06:57.692Z"
   },
   {
    "duration": 9,
    "start_time": "2025-04-14T13:06:57.700Z"
   },
   {
    "duration": 5,
    "start_time": "2025-04-14T13:06:57.711Z"
   },
   {
    "duration": 44,
    "start_time": "2025-04-14T13:06:57.717Z"
   },
   {
    "duration": 167,
    "start_time": "2025-04-14T13:06:57.763Z"
   },
   {
    "duration": 5,
    "start_time": "2025-04-14T13:06:57.932Z"
   },
   {
    "duration": 23,
    "start_time": "2025-04-14T13:06:57.938Z"
   },
   {
    "duration": 6,
    "start_time": "2025-04-14T13:06:57.963Z"
   },
   {
    "duration": 135,
    "start_time": "2025-04-14T13:06:57.971Z"
   },
   {
    "duration": 99,
    "start_time": "2025-04-14T13:06:58.108Z"
   },
   {
    "duration": 10,
    "start_time": "2025-04-14T13:06:58.209Z"
   },
   {
    "duration": 190,
    "start_time": "2025-04-14T13:06:58.223Z"
   },
   {
    "duration": 9,
    "start_time": "2025-04-14T13:06:58.415Z"
   },
   {
    "duration": 8,
    "start_time": "2025-04-14T13:06:58.425Z"
   },
   {
    "duration": 215,
    "start_time": "2025-04-14T13:06:58.434Z"
   },
   {
    "duration": 197,
    "start_time": "2025-04-14T13:06:58.651Z"
   },
   {
    "duration": 15,
    "start_time": "2025-04-14T13:06:58.850Z"
   },
   {
    "duration": 226,
    "start_time": "2025-04-14T13:06:58.866Z"
   },
   {
    "duration": 11,
    "start_time": "2025-04-14T13:06:59.094Z"
   },
   {
    "duration": 6,
    "start_time": "2025-04-14T13:06:59.106Z"
   },
   {
    "duration": 9,
    "start_time": "2025-04-14T13:06:59.113Z"
   },
   {
    "duration": 239,
    "start_time": "2025-04-14T13:06:59.123Z"
   },
   {
    "duration": 249,
    "start_time": "2025-04-14T13:06:59.363Z"
   },
   {
    "duration": 13,
    "start_time": "2025-04-14T13:06:59.614Z"
   },
   {
    "duration": 191,
    "start_time": "2025-04-14T13:06:59.629Z"
   },
   {
    "duration": 8,
    "start_time": "2025-04-14T13:06:59.821Z"
   },
   {
    "duration": 86,
    "start_time": "2025-04-14T13:06:59.831Z"
   },
   {
    "duration": 125,
    "start_time": "2025-04-14T13:06:59.919Z"
   },
   {
    "duration": 30,
    "start_time": "2025-04-14T13:07:00.046Z"
   },
   {
    "duration": 49,
    "start_time": "2025-04-14T13:07:00.078Z"
   },
   {
    "duration": 25,
    "start_time": "2025-04-14T13:07:00.128Z"
   },
   {
    "duration": 42,
    "start_time": "2025-04-14T13:07:00.155Z"
   },
   {
    "duration": 18,
    "start_time": "2025-04-14T13:07:00.199Z"
   },
   {
    "duration": 427,
    "start_time": "2025-04-14T13:07:00.218Z"
   },
   {
    "duration": 22,
    "start_time": "2025-04-14T13:07:00.646Z"
   },
   {
    "duration": 425,
    "start_time": "2025-04-14T13:07:00.670Z"
   },
   {
    "duration": 1014,
    "start_time": "2025-04-14T13:07:01.097Z"
   },
   {
    "duration": 12,
    "start_time": "2025-04-14T13:07:02.113Z"
   },
   {
    "duration": 54,
    "start_time": "2025-04-14T13:07:02.127Z"
   },
   {
    "duration": 17,
    "start_time": "2025-04-14T13:07:02.183Z"
   },
   {
    "duration": 19,
    "start_time": "2025-04-14T13:07:02.201Z"
   },
   {
    "duration": 40,
    "start_time": "2025-04-14T13:07:02.222Z"
   },
   {
    "duration": 18,
    "start_time": "2025-04-14T13:07:02.264Z"
   },
   {
    "duration": 12,
    "start_time": "2025-04-14T13:07:02.284Z"
   },
   {
    "duration": 28,
    "start_time": "2025-04-14T13:07:02.298Z"
   },
   {
    "duration": 63,
    "start_time": "2025-04-14T13:07:02.328Z"
   },
   {
    "duration": 20,
    "start_time": "2025-04-14T13:07:02.393Z"
   },
   {
    "duration": 46,
    "start_time": "2025-04-14T13:07:02.415Z"
   },
   {
    "duration": 6,
    "start_time": "2025-04-14T13:07:02.463Z"
   },
   {
    "duration": 8,
    "start_time": "2025-04-14T13:07:02.471Z"
   },
   {
    "duration": 12,
    "start_time": "2025-04-14T13:07:02.481Z"
   },
   {
    "duration": 16,
    "start_time": "2025-04-14T13:07:02.495Z"
   },
   {
    "duration": 59,
    "start_time": "2025-04-14T13:07:02.513Z"
   },
   {
    "duration": 6,
    "start_time": "2025-04-14T13:07:02.574Z"
   },
   {
    "duration": 42,
    "start_time": "2025-04-14T13:07:02.581Z"
   },
   {
    "duration": 43,
    "start_time": "2025-04-14T13:07:02.625Z"
   },
   {
    "duration": 5,
    "start_time": "2025-04-14T13:07:02.670Z"
   },
   {
    "duration": 34,
    "start_time": "2025-04-14T13:07:02.676Z"
   },
   {
    "duration": 101,
    "start_time": "2025-04-14T13:07:02.711Z"
   },
   {
    "duration": 30,
    "start_time": "2025-04-14T13:07:02.813Z"
   },
   {
    "duration": 1538,
    "start_time": "2025-04-14T13:07:02.844Z"
   },
   {
    "duration": 3,
    "start_time": "2025-04-14T13:07:04.383Z"
   },
   {
    "duration": 176,
    "start_time": "2025-04-14T13:07:04.388Z"
   },
   {
    "duration": 1784,
    "start_time": "2025-04-14T13:07:04.566Z"
   },
   {
    "duration": 8,
    "start_time": "2025-04-14T13:07:06.353Z"
   },
   {
    "duration": 5,
    "start_time": "2025-04-14T13:07:06.367Z"
   },
   {
    "duration": 6,
    "start_time": "2025-04-14T13:07:06.374Z"
   },
   {
    "duration": 6,
    "start_time": "2025-04-14T13:07:06.382Z"
   },
   {
    "duration": 5,
    "start_time": "2025-04-14T13:07:06.390Z"
   },
   {
    "duration": 1219,
    "start_time": "2025-04-14T13:07:40.624Z"
   },
   {
    "duration": 61,
    "start_time": "2025-04-14T13:07:41.845Z"
   },
   {
    "duration": 20,
    "start_time": "2025-04-14T13:07:41.908Z"
   },
   {
    "duration": 18,
    "start_time": "2025-04-14T13:07:41.930Z"
   },
   {
    "duration": 15,
    "start_time": "2025-04-14T13:07:41.949Z"
   },
   {
    "duration": 20,
    "start_time": "2025-04-14T13:07:41.966Z"
   },
   {
    "duration": 8,
    "start_time": "2025-04-14T13:07:41.988Z"
   },
   {
    "duration": 6,
    "start_time": "2025-04-14T13:07:41.997Z"
   },
   {
    "duration": 6,
    "start_time": "2025-04-14T13:07:42.004Z"
   },
   {
    "duration": 51,
    "start_time": "2025-04-14T13:07:42.012Z"
   },
   {
    "duration": 6,
    "start_time": "2025-04-14T13:07:42.065Z"
   },
   {
    "duration": 6,
    "start_time": "2025-04-14T13:07:42.073Z"
   },
   {
    "duration": 5,
    "start_time": "2025-04-14T13:07:42.081Z"
   },
   {
    "duration": 6,
    "start_time": "2025-04-14T13:07:42.087Z"
   },
   {
    "duration": 5,
    "start_time": "2025-04-14T13:07:42.095Z"
   },
   {
    "duration": 7,
    "start_time": "2025-04-14T13:07:42.101Z"
   },
   {
    "duration": 51,
    "start_time": "2025-04-14T13:07:42.109Z"
   },
   {
    "duration": 9,
    "start_time": "2025-04-14T13:07:42.162Z"
   },
   {
    "duration": 5,
    "start_time": "2025-04-14T13:07:42.172Z"
   },
   {
    "duration": 10,
    "start_time": "2025-04-14T13:07:42.178Z"
   },
   {
    "duration": 180,
    "start_time": "2025-04-14T13:07:42.189Z"
   },
   {
    "duration": 6,
    "start_time": "2025-04-14T13:07:42.371Z"
   },
   {
    "duration": 10,
    "start_time": "2025-04-14T13:07:42.378Z"
   },
   {
    "duration": 7,
    "start_time": "2025-04-14T13:07:42.389Z"
   },
   {
    "duration": 152,
    "start_time": "2025-04-14T13:07:42.398Z"
   },
   {
    "duration": 91,
    "start_time": "2025-04-14T13:07:42.551Z"
   },
   {
    "duration": 21,
    "start_time": "2025-04-14T13:07:42.644Z"
   },
   {
    "duration": 184,
    "start_time": "2025-04-14T13:07:42.669Z"
   },
   {
    "duration": 11,
    "start_time": "2025-04-14T13:07:42.854Z"
   },
   {
    "duration": 6,
    "start_time": "2025-04-14T13:07:42.867Z"
   },
   {
    "duration": 209,
    "start_time": "2025-04-14T13:07:42.874Z"
   },
   {
    "duration": 188,
    "start_time": "2025-04-14T13:07:43.085Z"
   },
   {
    "duration": 10,
    "start_time": "2025-04-14T13:07:43.275Z"
   },
   {
    "duration": 220,
    "start_time": "2025-04-14T13:07:43.287Z"
   },
   {
    "duration": 11,
    "start_time": "2025-04-14T13:07:43.509Z"
   },
   {
    "duration": 5,
    "start_time": "2025-04-14T13:07:43.522Z"
   },
   {
    "duration": 34,
    "start_time": "2025-04-14T13:07:43.529Z"
   },
   {
    "duration": 211,
    "start_time": "2025-04-14T13:07:43.564Z"
   },
   {
    "duration": 233,
    "start_time": "2025-04-14T13:07:43.777Z"
   },
   {
    "duration": 15,
    "start_time": "2025-04-14T13:07:44.012Z"
   },
   {
    "duration": 187,
    "start_time": "2025-04-14T13:07:44.029Z"
   },
   {
    "duration": 10,
    "start_time": "2025-04-14T13:07:44.218Z"
   },
   {
    "duration": 6,
    "start_time": "2025-04-14T13:07:44.230Z"
   },
   {
    "duration": 148,
    "start_time": "2025-04-14T13:07:44.261Z"
   },
   {
    "duration": 20,
    "start_time": "2025-04-14T13:07:44.411Z"
   },
   {
    "duration": 37,
    "start_time": "2025-04-14T13:07:44.434Z"
   },
   {
    "duration": 4,
    "start_time": "2025-04-14T13:07:44.473Z"
   },
   {
    "duration": 20,
    "start_time": "2025-04-14T13:07:44.479Z"
   },
   {
    "duration": 20,
    "start_time": "2025-04-14T13:07:44.501Z"
   },
   {
    "duration": 448,
    "start_time": "2025-04-14T13:07:44.523Z"
   },
   {
    "duration": 12,
    "start_time": "2025-04-14T13:07:44.973Z"
   },
   {
    "duration": 425,
    "start_time": "2025-04-14T13:07:44.986Z"
   },
   {
    "duration": 1016,
    "start_time": "2025-04-14T13:07:45.412Z"
   },
   {
    "duration": 11,
    "start_time": "2025-04-14T13:07:46.430Z"
   },
   {
    "duration": 42,
    "start_time": "2025-04-14T13:07:46.443Z"
   },
   {
    "duration": 14,
    "start_time": "2025-04-14T13:07:46.487Z"
   },
   {
    "duration": 15,
    "start_time": "2025-04-14T13:07:46.502Z"
   },
   {
    "duration": 49,
    "start_time": "2025-04-14T13:07:46.518Z"
   },
   {
    "duration": 18,
    "start_time": "2025-04-14T13:07:46.568Z"
   },
   {
    "duration": 13,
    "start_time": "2025-04-14T13:07:46.589Z"
   },
   {
    "duration": 27,
    "start_time": "2025-04-14T13:07:46.604Z"
   },
   {
    "duration": 38,
    "start_time": "2025-04-14T13:07:46.661Z"
   },
   {
    "duration": 21,
    "start_time": "2025-04-14T13:07:46.701Z"
   },
   {
    "duration": 86,
    "start_time": "2025-04-14T13:07:46.724Z"
   },
   {
    "duration": 6,
    "start_time": "2025-04-14T13:07:46.812Z"
   },
   {
    "duration": 9,
    "start_time": "2025-04-14T13:07:46.820Z"
   },
   {
    "duration": 12,
    "start_time": "2025-04-14T13:07:46.831Z"
   },
   {
    "duration": 3,
    "start_time": "2025-04-14T13:07:46.845Z"
   },
   {
    "duration": 3,
    "start_time": "2025-04-14T13:07:46.850Z"
   },
   {
    "duration": 11,
    "start_time": "2025-04-14T13:07:46.854Z"
   },
   {
    "duration": 8,
    "start_time": "2025-04-14T13:07:46.867Z"
   },
   {
    "duration": 5,
    "start_time": "2025-04-14T13:07:46.877Z"
   },
   {
    "duration": 3,
    "start_time": "2025-04-14T13:07:46.884Z"
   },
   {
    "duration": 30,
    "start_time": "2025-04-14T13:07:46.889Z"
   },
   {
    "duration": 4,
    "start_time": "2025-04-14T13:07:46.921Z"
   },
   {
    "duration": 37,
    "start_time": "2025-04-14T13:07:46.927Z"
   },
   {
    "duration": 1495,
    "start_time": "2025-04-14T13:07:46.966Z"
   },
   {
    "duration": 3,
    "start_time": "2025-04-14T13:07:48.463Z"
   },
   {
    "duration": 146,
    "start_time": "2025-04-14T13:07:48.467Z"
   },
   {
    "duration": 1698,
    "start_time": "2025-04-14T13:07:48.615Z"
   },
   {
    "duration": 2,
    "start_time": "2025-04-14T13:07:50.315Z"
   },
   {
    "duration": 4,
    "start_time": "2025-04-14T13:07:50.323Z"
   },
   {
    "duration": 4,
    "start_time": "2025-04-14T13:07:50.328Z"
   },
   {
    "duration": 4,
    "start_time": "2025-04-14T13:07:50.334Z"
   },
   {
    "duration": 4,
    "start_time": "2025-04-14T13:07:50.360Z"
   }
  ],
  "kernelspec": {
   "display_name": "Python 3 (ipykernel)",
   "language": "python",
   "name": "python3"
  },
  "language_info": {
   "codemirror_mode": {
    "name": "ipython",
    "version": 3
   },
   "file_extension": ".py",
   "mimetype": "text/x-python",
   "name": "python",
   "nbconvert_exporter": "python",
   "pygments_lexer": "ipython3",
   "version": "3.9.19"
  },
  "toc": {
   "base_numbering": 1,
   "nav_menu": {},
   "number_sections": true,
   "sideBar": true,
   "skip_h1_title": true,
   "title_cell": "Table of Contents",
   "title_sidebar": "Contents",
   "toc_cell": false,
   "toc_position": {
    "height": "calc(100% - 180px)",
    "left": "10px",
    "top": "150px",
    "width": "284.433px"
   },
   "toc_section_display": true,
   "toc_window_display": false
  }
 },
 "nbformat": 4,
 "nbformat_minor": 5
}
