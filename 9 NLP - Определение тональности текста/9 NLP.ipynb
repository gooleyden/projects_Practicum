{
 "cells": [
  {
   "cell_type": "markdown",
   "id": "37ec1c33-5702-476f-b744-bcdf6c648edf",
   "metadata": {},
   "source": [
    "\n",
    "*Перед началом работы — установка и импорт необходимых библиотек:*"
   ]
  },
  {
   "cell_type": "code",
   "execution_count": 1,
   "id": "32dc7c3f",
   "metadata": {},
   "outputs": [
    {
     "name": "stdout",
     "output_type": "stream",
     "text": [
      "\u001b[38;5;2m✔ Download and installation successful\u001b[0m\r\n",
      "You can now load the package via spacy.load('en_core_web_sm')\r\n"
     ]
    }
   ],
   "source": [
    "!python -m spacy download en_core_web_sm -q"
   ]
  },
  {
   "cell_type": "code",
   "execution_count": 2,
   "id": "77a2ff40",
   "metadata": {},
   "outputs": [
    {
     "name": "stdout",
     "output_type": "stream",
     "text": [
      "/bin/bash: -c: line 0: syntax error near unexpected token `('\n",
      "/bin/bash: -c: line 0: `/opt/conda/bin/python -m pip install (-U scikit-learn, catboost, spacy, -U pip setuptools wheel, torch torchvision torchaudio, transformers) -q'\n",
      "Note: you may need to restart the kernel to use updated packages.\n"
     ]
    }
   ],
   "source": [
    "pip install (-U scikit-learn, catboost, spacy, -U pip setuptools wheel, torch torchvision torchaudio, transformers) -q"
   ]
  },
  {
   "cell_type": "markdown",
   "id": "66cf03de",
   "metadata": {},
   "source": [
    "______"
   ]
  },
  {
   "cell_type": "markdown",
   "id": "31b41125-2151-4dcc-89db-55b32eb62fe9",
   "metadata": {},
   "source": [
    "**Импорт библиотек**"
   ]
  },
  {
   "cell_type": "code",
   "execution_count": 3,
   "id": "8d3edb8b-98cf-4a14-8a57-da628e22f3ee",
   "metadata": {},
   "outputs": [
    {
     "name": "stderr",
     "output_type": "stream",
     "text": [
      "[nltk_data] Downloading package wordnet to /home/jovyan/nltk_data...\n",
      "[nltk_data]   Package wordnet is already up-to-date!\n",
      "[nltk_data] Downloading package stopwords to /home/jovyan/nltk_data...\n",
      "[nltk_data]   Package stopwords is already up-to-date!\n"
     ]
    }
   ],
   "source": [
    "import pandas as pd\n",
    "import numpy as np\n",
    "import matplotlib.pyplot as plt\n",
    "import seaborn as sns\n",
    "import time \n",
    "import re\n",
    "\n",
    "from tqdm import tqdm\n",
    "from statsmodels.graphics import tsaplots\n",
    "from scipy import stats\n",
    "from IPython.display import display\n",
    "\n",
    "# Для работы с текстом:\n",
    "import pymystem3\n",
    "import spacy\n",
    "import nltk\n",
    "nltk.download('wordnet')\n",
    "nltk.download('stopwords')\n",
    "from nltk.corpus import stopwords as nltk_stopwords\n",
    "from nltk.tokenize import word_tokenize\n",
    "from nltk.stem import WordNetLemmatizer \n",
    "from sklearn.feature_extraction.text import TfidfVectorizer\n",
    "from pymystem3 import Mystem\n",
    "from tqdm import notebook\n",
    "\n",
    "# Модули для работы с моделями:\n",
    "from sklearn.model_selection import train_test_split, RandomizedSearchCV, cross_val_score\n",
    "from sklearn.pipeline import Pipeline\n",
    "\n",
    "# Модели\n",
    "from sklearn.linear_model import LogisticRegression\n",
    "from sklearn.tree import DecisionTreeClassifier\n",
    "from sklearn.neighbors import KNeighborsClassifier\n",
    "from sklearn.svm import SVC\n",
    "\n",
    "# CatBoost и LGBM\n",
    "import catboost\n",
    "from catboost import CatBoostClassifier, Pool, cv\n",
    "\n",
    "# Метрики\n",
    "from sklearn.metrics import f1_score, recall_score, precision_score\n",
    "\n",
    "# BERT\n",
    "import torch \n",
    "import transformers\n",
    "from transformers import BertTokenizer"
   ]
  },
  {
   "cell_type": "markdown",
   "id": "576e95ad-646c-4aba-abe1-fc4975737629",
   "metadata": {},
   "source": [
    "**Константы**"
   ]
  },
  {
   "cell_type": "code",
   "execution_count": 4,
   "id": "307b2345-91bc-4fc3-973e-f58b7a6d89d6",
   "metadata": {},
   "outputs": [],
   "source": [
    "RANDOM_STATE = 42"
   ]
  },
  {
   "cell_type": "markdown",
   "id": "c7220e82-c4fb-468a-9bc4-74c74f2a3b36",
   "metadata": {},
   "source": [
    "## Подготовка"
   ]
  },
  {
   "cell_type": "markdown",
   "id": "a156511a-8dea-4d8f-a5da-8d45f31c1cf0",
   "metadata": {},
   "source": [
    "### Загрузка данных"
   ]
  },
  {
   "cell_type": "code",
   "execution_count": 5,
   "id": "a971e9f1-b538-49c9-927d-67e2e286905e",
   "metadata": {},
   "outputs": [],
   "source": [
    "data = pd.read_csv('C:\\\\toxic_comments.csv')"
   ]
  },
  {
   "cell_type": "code",
   "execution_count": 6,
   "id": "dd6eef2c-95e7-4d04-84e7-c0c496518b92",
   "metadata": {},
   "outputs": [
    {
     "data": {
      "text/html": [
       "<div>\n",
       "<style scoped>\n",
       "    .dataframe tbody tr th:only-of-type {\n",
       "        vertical-align: middle;\n",
       "    }\n",
       "\n",
       "    .dataframe tbody tr th {\n",
       "        vertical-align: top;\n",
       "    }\n",
       "\n",
       "    .dataframe thead th {\n",
       "        text-align: right;\n",
       "    }\n",
       "</style>\n",
       "<table border=\"1\" class=\"dataframe\">\n",
       "  <thead>\n",
       "    <tr style=\"text-align: right;\">\n",
       "      <th></th>\n",
       "      <th>Unnamed: 0</th>\n",
       "      <th>text</th>\n",
       "      <th>toxic</th>\n",
       "    </tr>\n",
       "  </thead>\n",
       "  <tbody>\n",
       "    <tr>\n",
       "      <th>0</th>\n",
       "      <td>0</td>\n",
       "      <td>Explanation\\nWhy the edits made under my usern...</td>\n",
       "      <td>0</td>\n",
       "    </tr>\n",
       "    <tr>\n",
       "      <th>1</th>\n",
       "      <td>1</td>\n",
       "      <td>D'aww! He matches this background colour I'm s...</td>\n",
       "      <td>0</td>\n",
       "    </tr>\n",
       "    <tr>\n",
       "      <th>2</th>\n",
       "      <td>2</td>\n",
       "      <td>Hey man, I'm really not trying to edit war. It...</td>\n",
       "      <td>0</td>\n",
       "    </tr>\n",
       "    <tr>\n",
       "      <th>3</th>\n",
       "      <td>3</td>\n",
       "      <td>\"\\nMore\\nI can't make any real suggestions on ...</td>\n",
       "      <td>0</td>\n",
       "    </tr>\n",
       "    <tr>\n",
       "      <th>4</th>\n",
       "      <td>4</td>\n",
       "      <td>You, sir, are my hero. Any chance you remember...</td>\n",
       "      <td>0</td>\n",
       "    </tr>\n",
       "  </tbody>\n",
       "</table>\n",
       "</div>"
      ],
      "text/plain": [
       "   Unnamed: 0                                               text  toxic\n",
       "0           0  Explanation\\nWhy the edits made under my usern...      0\n",
       "1           1  D'aww! He matches this background colour I'm s...      0\n",
       "2           2  Hey man, I'm really not trying to edit war. It...      0\n",
       "3           3  \"\\nMore\\nI can't make any real suggestions on ...      0\n",
       "4           4  You, sir, are my hero. Any chance you remember...      0"
      ]
     },
     "metadata": {},
     "output_type": "display_data"
    },
    {
     "name": "stdout",
     "output_type": "stream",
     "text": [
      "<class 'pandas.core.frame.DataFrame'>\n",
      "RangeIndex: 159292 entries, 0 to 159291\n",
      "Data columns (total 3 columns):\n",
      " #   Column      Non-Null Count   Dtype \n",
      "---  ------      --------------   ----- \n",
      " 0   Unnamed: 0  159292 non-null  int64 \n",
      " 1   text        159292 non-null  object\n",
      " 2   toxic       159292 non-null  int64 \n",
      "dtypes: int64(2), object(1)\n",
      "memory usage: 3.6+ MB\n"
     ]
    }
   ],
   "source": [
    "display(data.head())\n",
    "data.info()"
   ]
  },
  {
   "cell_type": "markdown",
   "id": "76272748-e6a0-4670-b1c8-6a95c6f90456",
   "metadata": {},
   "source": [
    "____\n",
    "**О Датасете:**\n",
    "\n",
    "159292 строки\n",
    "\n",
    "3 столбца:\n",
    "- `Unnamed: 0`, `text` (входные признаки)\n",
    "- `toxic`(целевой признак)\n",
    "\n",
    "Столбец `text` с комментариями - тип object, остальные - int.\n",
    "\n",
    "Пропусков в данных не наблюдаем.\n",
    "\n",
    "Следует изучить столбец `Unnamed: 0`.\n",
    "______"
   ]
  },
  {
   "cell_type": "markdown",
   "id": "3594692c-b475-4cbf-983a-fe399895c075",
   "metadata": {},
   "source": [
    "### Удаление признака"
   ]
  },
  {
   "cell_type": "markdown",
   "id": "ddeb221e-6c42-4e3a-8069-5c5d4014e3f3",
   "metadata": {},
   "source": [
    "Проверим, что содержит в себе признак `Unnamed: 0`."
   ]
  },
  {
   "cell_type": "code",
   "execution_count": 7,
   "id": "3a44ce97-a2d2-40b2-9ad6-dfe5a9607513",
   "metadata": {},
   "outputs": [
    {
     "data": {
      "text/plain": [
       "0              0\n",
       "1              1\n",
       "2              2\n",
       "3              3\n",
       "4              4\n",
       "           ...  \n",
       "159287    159446\n",
       "159288    159447\n",
       "159289    159448\n",
       "159290    159449\n",
       "159291    159450\n",
       "Name: Unnamed: 0, Length: 159292, dtype: int64"
      ]
     },
     "execution_count": 7,
     "metadata": {},
     "output_type": "execute_result"
    }
   ],
   "source": [
    "data['Unnamed: 0'].sort_values()"
   ]
  },
  {
   "cell_type": "markdown",
   "id": "4351c7ce-20e5-4083-8ebb-5f743bd0104c",
   "metadata": {},
   "source": [
    "Просто числовые значения, почти соответствующие индексу. Возможно, в процессе обработки были удалены некоторые строки: индекс обновили, а старый оставили в виде отдельного столбца.\n",
    "\n",
    "Проверим, соответствует ли количество уникальных значений признака длине датасета:"
   ]
  },
  {
   "cell_type": "code",
   "execution_count": 8,
   "id": "9f962097-f889-4b5a-872f-a9909c68c54c",
   "metadata": {},
   "outputs": [
    {
     "name": "stdout",
     "output_type": "stream",
     "text": [
      "\n",
      "Разница между длиной датасета и количеством уникальных значений в столбце: \n",
      " 0\n"
     ]
    }
   ],
   "source": [
    "print ('\\nРазница между длиной датасета и количеством уникальных значений в столбце: \\n', len(data) - data['Unnamed: 0'].nunique())"
   ]
  },
  {
   "cell_type": "markdown",
   "id": "b33fcb6c-963b-4f92-996d-73885fe750f3",
   "metadata": {},
   "source": [
    "* соответствует\n",
    "\n",
    "Удалим этот признак за ненадобностью:"
   ]
  },
  {
   "cell_type": "code",
   "execution_count": 9,
   "id": "41ac374a-7e38-444e-b812-8a60773a07f8",
   "metadata": {},
   "outputs": [
    {
     "data": {
      "text/html": [
       "<div>\n",
       "<style scoped>\n",
       "    .dataframe tbody tr th:only-of-type {\n",
       "        vertical-align: middle;\n",
       "    }\n",
       "\n",
       "    .dataframe tbody tr th {\n",
       "        vertical-align: top;\n",
       "    }\n",
       "\n",
       "    .dataframe thead th {\n",
       "        text-align: right;\n",
       "    }\n",
       "</style>\n",
       "<table border=\"1\" class=\"dataframe\">\n",
       "  <thead>\n",
       "    <tr style=\"text-align: right;\">\n",
       "      <th></th>\n",
       "      <th>text</th>\n",
       "      <th>toxic</th>\n",
       "    </tr>\n",
       "  </thead>\n",
       "  <tbody>\n",
       "    <tr>\n",
       "      <th>0</th>\n",
       "      <td>Explanation\\nWhy the edits made under my usern...</td>\n",
       "      <td>0</td>\n",
       "    </tr>\n",
       "    <tr>\n",
       "      <th>1</th>\n",
       "      <td>D'aww! He matches this background colour I'm s...</td>\n",
       "      <td>0</td>\n",
       "    </tr>\n",
       "    <tr>\n",
       "      <th>2</th>\n",
       "      <td>Hey man, I'm really not trying to edit war. It...</td>\n",
       "      <td>0</td>\n",
       "    </tr>\n",
       "    <tr>\n",
       "      <th>3</th>\n",
       "      <td>\"\\nMore\\nI can't make any real suggestions on ...</td>\n",
       "      <td>0</td>\n",
       "    </tr>\n",
       "    <tr>\n",
       "      <th>4</th>\n",
       "      <td>You, sir, are my hero. Any chance you remember...</td>\n",
       "      <td>0</td>\n",
       "    </tr>\n",
       "  </tbody>\n",
       "</table>\n",
       "</div>"
      ],
      "text/plain": [
       "                                                text  toxic\n",
       "0  Explanation\\nWhy the edits made under my usern...      0\n",
       "1  D'aww! He matches this background colour I'm s...      0\n",
       "2  Hey man, I'm really not trying to edit war. It...      0\n",
       "3  \"\\nMore\\nI can't make any real suggestions on ...      0\n",
       "4  You, sir, are my hero. Any chance you remember...      0"
      ]
     },
     "execution_count": 9,
     "metadata": {},
     "output_type": "execute_result"
    }
   ],
   "source": [
    "data = data.drop('Unnamed: 0', axis=1)\n",
    "data.head()"
   ]
  },
  {
   "cell_type": "markdown",
   "id": "794381cb-03aa-4240-b69d-5c0a7f3b1f19",
   "metadata": {},
   "source": [
    "Избавились от лишнего признака."
   ]
  },
  {
   "cell_type": "markdown",
   "id": "e21eadb6-b053-4326-ab64-0d068a785b50",
   "metadata": {},
   "source": [
    "### Проверка на дубликаты и пропуски"
   ]
  },
  {
   "cell_type": "markdown",
   "id": "e542c3d9-5262-485a-81c0-aad332f59c49",
   "metadata": {},
   "source": [
    "Пропуски:"
   ]
  },
  {
   "cell_type": "code",
   "execution_count": 10,
   "id": "58774f26-38c9-476d-8f77-ffa71f2dfcda",
   "metadata": {},
   "outputs": [
    {
     "data": {
      "text/plain": [
       "text     0\n",
       "toxic    0\n",
       "dtype: int64"
      ]
     },
     "execution_count": 10,
     "metadata": {},
     "output_type": "execute_result"
    }
   ],
   "source": [
    "data.isna().sum()"
   ]
  },
  {
   "cell_type": "markdown",
   "id": "b4741b89-6acb-46df-9b17-b5cdeea95f46",
   "metadata": {},
   "source": [
    "* пропусков нет"
   ]
  },
  {
   "cell_type": "markdown",
   "id": "2f53e164-66ca-4b62-a706-95342e2a0768",
   "metadata": {},
   "source": [
    "Проверим на наличие дубликатов:"
   ]
  },
  {
   "cell_type": "code",
   "execution_count": 11,
   "id": "78198ad6-388a-4675-ba1e-8e2682c0f4d1",
   "metadata": {},
   "outputs": [
    {
     "data": {
      "text/plain": [
       "0"
      ]
     },
     "execution_count": 11,
     "metadata": {},
     "output_type": "execute_result"
    }
   ],
   "source": [
    "data.duplicated().sum()"
   ]
  },
  {
   "cell_type": "markdown",
   "id": "93d199fb-4bbb-4aee-a726-6f489ed1297e",
   "metadata": {},
   "source": [
    "* Дубликатов нет. "
   ]
  },
  {
   "cell_type": "markdown",
   "id": "69580e2e-41db-47fa-971a-4ebdfc8710aa",
   "metadata": {},
   "source": [
    "Посмотрим количество уникальных значений признака `text`:"
   ]
  },
  {
   "cell_type": "code",
   "execution_count": 12,
   "id": "1ddd55a0-c03a-46c1-ac2c-6c5261dc73b8",
   "metadata": {},
   "outputs": [
    {
     "name": "stdout",
     "output_type": "stream",
     "text": [
      "Уникальных значений в text:\n",
      " 159292\n",
      "\n",
      "Разница между длиной датасета и количеством уникальных значений: \n",
      " 0\n"
     ]
    }
   ],
   "source": [
    "print ('Уникальных значений в text:\\n', data['text'].nunique())\n",
    "print ('\\nРазница между длиной датасета и количеством уникальных значений: \\n', len(data)-data['text'].nunique())"
   ]
  },
  {
   "cell_type": "markdown",
   "id": "7abe1232-0e71-41f2-aeee-95563eef96a5",
   "metadata": {},
   "source": [
    "Убедились, что повторяющихся строк нет, а каждый комментарий - уникальный."
   ]
  },
  {
   "cell_type": "markdown",
   "id": "b6fee881-a08e-464f-8cfa-818ecbaf82f3",
   "metadata": {},
   "source": [
    "### Изучение признаков"
   ]
  },
  {
   "cell_type": "markdown",
   "id": "0c6ceb8b-b825-40b9-9152-c796df2bd3fd",
   "metadata": {},
   "source": [
    "**toxic**"
   ]
  },
  {
   "cell_type": "markdown",
   "id": "60063204-4966-49f6-a3d4-d23df522597b",
   "metadata": {},
   "source": [
    "Уникальные значения:"
   ]
  },
  {
   "cell_type": "code",
   "execution_count": 13,
   "id": "43ca522b-f974-4fa9-ab45-44d647a42cc3",
   "metadata": {},
   "outputs": [
    {
     "data": {
      "text/plain": [
       "array([0, 1])"
      ]
     },
     "execution_count": 13,
     "metadata": {},
     "output_type": "execute_result"
    }
   ],
   "source": [
    "data['toxic'].unique()"
   ]
  },
  {
   "cell_type": "markdown",
   "id": "48827b38-054c-4e30-a01e-5c323db19d45",
   "metadata": {},
   "source": [
    "* все верно"
   ]
  },
  {
   "cell_type": "markdown",
   "id": "ded96f5d-ec37-46e8-ac8d-733511d14a28",
   "metadata": {},
   "source": [
    "Соотношение классов:"
   ]
  },
  {
   "cell_type": "code",
   "execution_count": 14,
   "id": "fd2b7bab-85f7-4ace-9fc3-a11743a1a554",
   "metadata": {},
   "outputs": [
    {
     "name": "stdout",
     "output_type": "stream",
     "text": [
      "Количества каждого класса:\n",
      " 0    143106\n",
      "1     16186\n",
      "Name: toxic, dtype: int64\n",
      "\n",
      "В процентах:\n",
      " 0    0.898\n",
      "1    0.102\n",
      "Name: toxic, dtype: float64\n"
     ]
    },
    {
     "data": {
      "image/png": "[encoded data removed]",
      "text/plain": [
       "<Figure size 432x288 with 1 Axes>"
      ]
     },
     "metadata": {
      "needs_background": "light"
     },
     "output_type": "display_data"
    }
   ],
   "source": [
    "print ('Количества каждого класса:\\n', data['toxic'].value_counts())\n",
    "print ('\\nВ процентах:\\n', data['toxic'].value_counts(normalize=True).round(3))\n",
    "\n",
    "sns.countplot(data = data, x='toxic')\n",
    "plt.title('Соотношение классов')\n",
    "plt.show()"
   ]
  },
  {
   "cell_type": "markdown",
   "id": "aa1ecf8e-7ad9-48d2-b960-864ddc1752ad",
   "metadata": {},
   "source": [
    "* Соотношение 1 к 9\n",
    "* Существенно преобладает класс 0 (не токсичные комментарии), 90% датасета\n",
    "* Токсичных комментариев - всего 10 процентов."
   ]
  },
  {
   "cell_type": "markdown",
   "id": "66975540-7a99-45aa-81da-873dca89c9ee",
   "metadata": {},
   "source": [
    "Перед подготовкой признаков сохраним случайную выборку из 1000 строк из текущего датасета, чтобы использовать в дальнейшем неподготовленные данные с BERT:"
   ]
  },
  {
   "cell_type": "code",
   "execution_count": 15,
   "id": "eeee76ff-510e-4478-a1b7-11a5a867fbe1",
   "metadata": {},
   "outputs": [],
   "source": [
    "data_bert = data.sample(500, random_state=RANDOM_STATE).reset_index(drop=True)"
   ]
  },
  {
   "cell_type": "markdown",
   "id": "da133121-c6cf-4a16-95e6-2adff6359af7",
   "metadata": {},
   "source": [
    "### Удаление лишних символов"
   ]
  },
  {
   "cell_type": "markdown",
   "id": "d95edd60-3fb8-4590-bc00-31624da82265",
   "metadata": {},
   "source": [
    "Пишем функцию для удаления лишних символов. В некоторых строках видели в конце символ переноса \"\\n\" - его также удалим:"
   ]
  },
  {
   "cell_type": "code",
   "execution_count": 16,
   "id": "90cc4494-1b52-4820-acca-59dc7bd73ce0",
   "metadata": {},
   "outputs": [],
   "source": [
    "def clear_text(text):\n",
    "    # Приведем все буквы к нижнему регистру\n",
    "    text = text.lower()\n",
    "    text = re.sub(r\"[^a-zA-Z']\", \" \", text)\n",
    "    text = text.split()\n",
    "    text = ' '.join(text)\n",
    "    return text"
   ]
  },
  {
   "cell_type": "markdown",
   "id": "bb00e705-22d4-4f2f-bf73-b2d0f573dd5c",
   "metadata": {},
   "source": [
    "Применяем функцию и проверяем результат:"
   ]
  },
  {
   "cell_type": "code",
   "execution_count": 17,
   "id": "7ce4ba27-2a46-4c45-ac29-b7f852135059",
   "metadata": {},
   "outputs": [
    {
     "data": {
      "text/plain": [
       "0    explanation why the edits made under my userna...\n",
       "1    d'aww he matches this background colour i'm se...\n",
       "2    hey man i'm really not trying to edit war it's...\n",
       "3    more i can't make any real suggestions on impr...\n",
       "4    you sir are my hero any chance you remember wh...\n",
       "Name: text, dtype: object"
      ]
     },
     "execution_count": 17,
     "metadata": {},
     "output_type": "execute_result"
    }
   ],
   "source": [
    "data['text'] = data['text'].apply(clear_text)\n",
    "data['text'].head()"
   ]
  },
  {
   "cell_type": "markdown",
   "id": "203a4a1a-5dc1-4d30-8417-0f9951a1935a",
   "metadata": {},
   "source": [
    "- Успешно"
   ]
  },
  {
   "cell_type": "markdown",
   "id": "21cf11ae-1366-4502-b72c-9cd48e236a8d",
   "metadata": {},
   "source": [
    "### Лемматизация"
   ]
  },
  {
   "cell_type": "markdown",
   "id": "160922ef-15fc-4db7-81b5-58d1a3bf8e54",
   "metadata": {},
   "source": [
    "Напишем функцию для лемматизации:"
   ]
  },
  {
   "cell_type": "code",
   "execution_count": 19,
   "id": "46a3a5f2",
   "metadata": {},
   "outputs": [],
   "source": [
    "nlp = spacy.load('en_core_web_sm')\n",
    "def lemmatize(texts):\n",
    "    lemm_texts = []\n",
    "    for doc in tqdm(nlp.pipe(texts.values, disable = ['ner', 'parser']), total=texts.shape[0]):\n",
    "        lemm_text = \" \".join([i.lemma_ for i in doc])    \n",
    "        lemm_texts.append(lemm_text) \n",
    "        \n",
    "    return lemm_texts"
   ]
  },
  {
   "cell_type": "markdown",
   "id": "e20b3961-de37-4f17-ace8-b06733cc2503",
   "metadata": {},
   "source": [
    "Применяем к данным:"
   ]
  },
  {
   "cell_type": "code",
   "execution_count": 21,
   "id": "0dbba79c",
   "metadata": {},
   "outputs": [
    {
     "name": "stderr",
     "output_type": "stream",
     "text": [
      "100%|██████████| 159292/159292 [09:57<00:00, 266.44it/s]\n"
     ]
    },
    {
     "data": {
      "text/plain": [
       "0         explanation why the edit make under my usernam...\n",
       "1         d'aww he match this background colour I be see...\n",
       "2         hey man I be really not try to edit war it be ...\n",
       "3         more I can not make any real suggestion on imp...\n",
       "4         you sir be my hero any chance you remember wha...\n",
       "                                ...                        \n",
       "159287    and for the second time of ask when your view ...\n",
       "159288    you should be ashamed of yourself that be a ho...\n",
       "159289    spitzer umm there s no actual article for pros...\n",
       "159290    and it look like it be actually you who put on...\n",
       "159291    and I really do not think you understand I com...\n",
       "Name: lemmed_text, Length: 159292, dtype: object"
      ]
     },
     "execution_count": 21,
     "metadata": {},
     "output_type": "execute_result"
    }
   ],
   "source": [
    "data['lemmed_text'] = lemmatize(data['text'])\n",
    "data['lemmed_text']"
   ]
  },
  {
   "cell_type": "markdown",
   "id": "7dae29f9-87e1-45ae-8661-263353f480b3",
   "metadata": {},
   "source": [
    "- Получили столбец с лемматизированным текстом."
   ]
  },
  {
   "cell_type": "markdown",
   "id": "4deacade-4ada-474c-8571-904a36d3bb2f",
   "metadata": {},
   "source": [
    "________\n",
    "### Вывод"
   ]
  },
  {
   "cell_type": "markdown",
   "id": "744addb5-8531-4b60-89f9-2eb61797035a",
   "metadata": {},
   "source": [
    "Данные загружены:\n",
    "- изначально 3 столбца: индекс, текст (входящий признак), токсичность (таргет). 159292 строки.\n",
    "- Удален лишний признак (Просто числовые значения, почти соответствующие индексу. Возможно, в процессе обработки были удалены некоторые строки: индекс обновили, а старый оставили в виде отдельного столбца.)\n",
    "- Дубликатов и пропусков не обнаружено. Все тексты, представленные в датасете, уникальны и не повторяются.\n",
    "\n",
    "Подготовка данных:\n",
    "- Удалены лишние символы, знаки переноса \"\\n\", все буквы приведены к нижнему регистру\n",
    "- Проведена лемматизация текстов.\n",
    "__________"
   ]
  },
  {
   "cell_type": "markdown",
   "id": "8d32931b-240b-4bfe-b304-11286a36f338",
   "metadata": {},
   "source": [
    "## Обучение моделей"
   ]
  },
  {
   "cell_type": "markdown",
   "id": "ff315911-f97f-4566-a8fd-047b561716b6",
   "metadata": {},
   "source": [
    "### Разбиение на выборки"
   ]
  },
  {
   "cell_type": "markdown",
   "id": "44de841d-01ea-4907-944d-b287a77a748d",
   "metadata": {},
   "source": [
    "Разбиваем на входные данные (подготовленный лемматизированный текст) и таргет (токсичный комментарий - 0\\1). Train и test в соотношении 9 к 1:"
   ]
  },
  {
   "cell_type": "code",
   "execution_count": 23,
   "id": "39fec28a-5869-40f9-944a-ca47f34d5d0f",
   "metadata": {},
   "outputs": [],
   "source": [
    "X = data['lemmed_text']\n",
    "y = data['toxic']"
   ]
  },
  {
   "cell_type": "code",
   "execution_count": 24,
   "id": "f5f20e2d-6904-440c-897b-bc7cbbe76ce3",
   "metadata": {},
   "outputs": [],
   "source": [
    "X_train, X_test, y_train, y_test = train_test_split(\n",
    "    X, y, test_size=0.1, stratify=y, random_state=RANDOM_STATE)"
   ]
  },
  {
   "cell_type": "code",
   "execution_count": 25,
   "id": "2b54d406-7cd1-40b3-b50a-08639a615ccf",
   "metadata": {},
   "outputs": [
    {
     "name": "stdout",
     "output_type": "stream",
     "text": [
      "Размеры тренировочных X и y:\n",
      " (143362,) (143362,)\n",
      "Размеры тестовых X и y:\n",
      " (15930,) (15930,)\n"
     ]
    }
   ],
   "source": [
    "print ('Размеры тренировочных X и y:\\n', X_train.shape, y_train.shape)\n",
    "print ('Размеры тестовых X и y:\\n', X_test.shape, y_test.shape)"
   ]
  },
  {
   "cell_type": "markdown",
   "id": "7bca3525-9bb2-4f97-ab8a-b881663ab68c",
   "metadata": {},
   "source": [
    "Проверим соотношения классов тренировочной и тестовой выборок (если разница между долями присутствия классов в выборках равна нулю, значит, они распределены равномерно):"
   ]
  },
  {
   "cell_type": "code",
   "execution_count": 26,
   "id": "1ecd8754-6902-4e7c-a13e-b9d7c3b45d4a",
   "metadata": {},
   "outputs": [
    {
     "data": {
      "text/plain": [
       "0    0.000022\n",
       "1   -0.000022\n",
       "Name: toxic, dtype: float64"
      ]
     },
     "execution_count": 26,
     "metadata": {},
     "output_type": "execute_result"
    }
   ],
   "source": [
    "y_train.value_counts(normalize=True) - y_test.value_counts(normalize=True)"
   ]
  },
  {
   "cell_type": "markdown",
   "id": "8f1e074e-7044-4d70-b518-c814bcf8b9fa",
   "metadata": {},
   "source": [
    "- Классы представлены в одинаковых пропорциях"
   ]
  },
  {
   "cell_type": "markdown",
   "id": "cd60175f-c629-4db2-b971-2c4e66ffe7c8",
   "metadata": {},
   "source": [
    "### TF-IDF"
   ]
  },
  {
   "cell_type": "markdown",
   "id": "b6b3997e-fb2a-4374-8469-e085726e9cfd",
   "metadata": {},
   "source": [
    "Считаем TF-IDF для обеих выборок:"
   ]
  },
  {
   "cell_type": "code",
   "execution_count": 28,
   "id": "c022d407-2bc1-460f-b886-8375e8d34f8d",
   "metadata": {},
   "outputs": [
    {
     "data": {
      "text/plain": [
       "(143362, 50000)"
      ]
     },
     "metadata": {},
     "output_type": "display_data"
    }
   ],
   "source": [
    "# считаем величину TF-IDF для обучающей выборки\n",
    "count_tf_idf_train = TfidfVectorizer(max_features=50000)\n",
    "tf_idf_train = count_tf_idf_train.fit_transform(X_train)\n",
    "display(tf_idf_train.shape)"
   ]
  },
  {
   "cell_type": "code",
   "execution_count": 29,
   "id": "e477c0f4-e888-47f0-9f04-0bb83a2ae22f",
   "metadata": {},
   "outputs": [
    {
     "data": {
      "text/plain": [
       "(15930, 50000)"
      ]
     },
     "metadata": {},
     "output_type": "display_data"
    }
   ],
   "source": [
    "# считаем величину TF-IDF для тестовой выборки\n",
    "tf_idf_test = count_tf_idf_train.transform(X_test)\n",
    "display(tf_idf_test.shape)"
   ]
  },
  {
   "cell_type": "markdown",
   "id": "99eef7c4-abb9-4eec-8bf9-8245e2fce908",
   "metadata": {},
   "source": [
    "### LogisticRegression, DecisionTreeClassifier, KNeighborsClassifier, SVC"
   ]
  },
  {
   "cell_type": "markdown",
   "id": "f3fd22f7-a09c-4b1b-99c3-badb2d593e81",
   "metadata": {},
   "source": [
    "Переберем следующие гиперпараметры для 4 моделей:"
   ]
  },
  {
   "cell_type": "code",
   "execution_count": 30,
   "id": "75989c5a-60df-44f2-91f3-124ec6edf369",
   "metadata": {},
   "outputs": [],
   "source": [
    "pipe = Pipeline([('models', LogisticRegression())])\n",
    "\n",
    "param_grid = [\n",
    "\n",
    "    # KNeighborsClassifier()\n",
    "    {'models': [KNeighborsClassifier()], \n",
    "     'models__n_neighbors': range(5, 10)\n",
    "    },\n",
    "\n",
    "    # LogisticRegression()\n",
    "    {'models': [LogisticRegression(random_state=RANDOM_STATE, \n",
    "                                   solver='liblinear', \n",
    "                                   penalty='l2')], \n",
    "     'models__C': range(1, 50)  \n",
    "    }, \n",
    "    \n",
    "    # SVC() - с линейным и нелинейным ядром\n",
    "    {'models': [SVC(random_state=RANDOM_STATE)], \n",
    "     'models__kernel': ['rbf', 'linear']\n",
    "    }\n",
    "]"
   ]
  },
  {
   "cell_type": "markdown",
   "id": "1469535e-cf44-4158-9782-9e623e7d3f0e",
   "metadata": {},
   "source": [
    "Запускаем перебор через RandomizedSearchCV:"
   ]
  },
  {
   "cell_type": "code",
   "execution_count": 31,
   "id": "24454083-50cc-44a2-a412-95c83396ef63",
   "metadata": {},
   "outputs": [
    {
     "name": "stderr",
     "output_type": "stream",
     "text": [
      "/opt/conda/lib/python3.9/site-packages/sklearn/neighbors/_classification.py:211: FutureWarning: Unlike other reduction functions (e.g. `skew`, `kurtosis`), the default behavior of `mode` typically preserves the axis it acts along. In SciPy 1.11.0, this behavior will change: the default value of `keepdims` will become False, the `axis` over which the statistic is taken will be eliminated, and the value None will no longer be accepted. Set `keepdims` to True or False to avoid this warning.\n",
      "  mode, _ = stats.mode(_y[neigh_ind, k], axis=1)\n",
      "/opt/conda/lib/python3.9/site-packages/sklearn/neighbors/_classification.py:211: FutureWarning: Unlike other reduction functions (e.g. `skew`, `kurtosis`), the default behavior of `mode` typically preserves the axis it acts along. In SciPy 1.11.0, this behavior will change: the default value of `keepdims` will become False, the `axis` over which the statistic is taken will be eliminated, and the value None will no longer be accepted. Set `keepdims` to True or False to avoid this warning.\n",
      "  mode, _ = stats.mode(_y[neigh_ind, k], axis=1)\n",
      "/opt/conda/lib/python3.9/site-packages/sklearn/neighbors/_classification.py:211: FutureWarning: Unlike other reduction functions (e.g. `skew`, `kurtosis`), the default behavior of `mode` typically preserves the axis it acts along. In SciPy 1.11.0, this behavior will change: the default value of `keepdims` will become False, the `axis` over which the statistic is taken will be eliminated, and the value None will no longer be accepted. Set `keepdims` to True or False to avoid this warning.\n",
      "  mode, _ = stats.mode(_y[neigh_ind, k], axis=1)\n"
     ]
    },
    {
     "data": {
      "text/plain": [
       "RandomizedSearchCV(cv=3,\n",
       "                   estimator=Pipeline(steps=[('models', LogisticRegression())]),\n",
       "                   n_jobs=-1,\n",
       "                   param_distributions=[{'models': [KNeighborsClassifier()],\n",
       "                                         'models__n_neighbors': range(5, 10)},\n",
       "                                        {'models': [LogisticRegression(C=9,\n",
       "                                                                       random_state=42,\n",
       "                                                                       solver='liblinear')],\n",
       "                                         'models__C': range(1, 50)},\n",
       "                                        {'models': [SVC(random_state=42)],\n",
       "                                         'models__kernel': ['rbf', 'linear']}],\n",
       "                   random_state=42, scoring='f1')"
      ]
     },
     "execution_count": 31,
     "metadata": {},
     "output_type": "execute_result"
    }
   ],
   "source": [
    "grid_search = RandomizedSearchCV(\n",
    "    pipe, \n",
    "    param_grid, \n",
    "    cv=3,\n",
    "    scoring='f1',\n",
    "    random_state=RANDOM_STATE,\n",
    "    n_jobs=-1\n",
    ")\n",
    "grid_search.fit(tf_idf_train, y_train)"
   ]
  },
  {
   "cell_type": "markdown",
   "id": "26b81745-ddbc-47ea-a9e9-c14b389cbf2f",
   "metadata": {},
   "source": [
    "Пять лучших моделей:"
   ]
  },
  {
   "cell_type": "code",
   "execution_count": 32,
   "id": "95c1182a-6555-40c3-a80b-eb49507be54c",
   "metadata": {},
   "outputs": [
    {
     "name": "stdout",
     "output_type": "stream",
     "text": [
      "\n",
      "3 лучшие модели и их значения метрики:\n"
     ]
    },
    {
     "data": {
      "text/html": [
       "<div>\n",
       "<style scoped>\n",
       "    .dataframe tbody tr th:only-of-type {\n",
       "        vertical-align: middle;\n",
       "    }\n",
       "\n",
       "    .dataframe tbody tr th {\n",
       "        vertical-align: top;\n",
       "    }\n",
       "\n",
       "    .dataframe thead th {\n",
       "        text-align: right;\n",
       "    }\n",
       "</style>\n",
       "<table border=\"1\" class=\"dataframe\">\n",
       "  <thead>\n",
       "    <tr style=\"text-align: right;\">\n",
       "      <th></th>\n",
       "      <th>rank_test_score</th>\n",
       "      <th>param_models</th>\n",
       "      <th>param_models__C</th>\n",
       "      <th>mean_fit_time</th>\n",
       "      <th>mean_test_score</th>\n",
       "    </tr>\n",
       "  </thead>\n",
       "  <tbody>\n",
       "    <tr>\n",
       "      <th>3</th>\n",
       "      <td>1</td>\n",
       "      <td>LogisticRegression(C=9, random_state=42, solve...</td>\n",
       "      <td>9</td>\n",
       "      <td>17.378093</td>\n",
       "      <td>0.781533</td>\n",
       "    </tr>\n",
       "    <tr>\n",
       "      <th>9</th>\n",
       "      <td>2</td>\n",
       "      <td>LogisticRegression(C=9, random_state=42, solve...</td>\n",
       "      <td>8</td>\n",
       "      <td>17.316582</td>\n",
       "      <td>0.781378</td>\n",
       "    </tr>\n",
       "    <tr>\n",
       "      <th>4</th>\n",
       "      <td>3</td>\n",
       "      <td>LogisticRegression(C=9, random_state=42, solve...</td>\n",
       "      <td>15</td>\n",
       "      <td>20.250218</td>\n",
       "      <td>0.780855</td>\n",
       "    </tr>\n",
       "  </tbody>\n",
       "</table>\n",
       "</div>"
      ],
      "text/plain": [
       "   rank_test_score                                       param_models  \\\n",
       "3                1  LogisticRegression(C=9, random_state=42, solve...   \n",
       "9                2  LogisticRegression(C=9, random_state=42, solve...   \n",
       "4                3  LogisticRegression(C=9, random_state=42, solve...   \n",
       "\n",
       "  param_models__C  mean_fit_time  mean_test_score  \n",
       "3               9      17.378093         0.781533  \n",
       "9               8      17.316582         0.781378  \n",
       "4              15      20.250218         0.780855  "
      ]
     },
     "metadata": {},
     "output_type": "display_data"
    }
   ],
   "source": [
    "print ('\\n3 лучшие модели и их значения метрики:')\n",
    "\n",
    "display (pd.DataFrame(grid_search.cv_results_).sort_values(by='rank_test_score')[\n",
    "['rank_test_score', 'param_models', 'param_models__C', 'mean_fit_time', 'mean_test_score']].head(3))"
   ]
  },
  {
   "cell_type": "code",
   "execution_count": 33,
   "id": "d1dcc61a-9036-410f-b185-f11a31f147db",
   "metadata": {},
   "outputs": [
    {
     "name": "stdout",
     "output_type": "stream",
     "text": [
      "Лучшая модель и её параметры:\n",
      "\n",
      " Pipeline(steps=[('models',\n",
      "                 LogisticRegression(C=9, random_state=42, solver='liblinear'))])\n",
      "\n",
      "Метрика лучшей модели на кросс-валидационной выборке: 0.78\n"
     ]
    }
   ],
   "source": [
    "print ('Лучшая модель и её параметры:\\n\\n', grid_search.best_estimator_)\n",
    "print ('\\nМетрика лучшей модели на кросс-валидационной выборке:', round(grid_search.best_score_, 2))"
   ]
  },
  {
   "cell_type": "markdown",
   "id": "1a345283-aff1-4ee5-adca-e9d3eeb94bdb",
   "metadata": {},
   "source": [
    "**Результат:**\n",
    "\n",
    "- Лучшей оказалась модель LogisticRegression с регуляризацией l2 и силой регуляризации C=9.\n",
    "- Метрика лучшей модели на кросс-валидационной выборке: 0.78."
   ]
  },
  {
   "cell_type": "markdown",
   "id": "82450177-fb72-4054-86bb-e0809e4dd6fc",
   "metadata": {},
   "source": [
    "Сохраним значение метрики лучшей модели на кросс-валидации:"
   ]
  },
  {
   "cell_type": "code",
   "execution_count": 34,
   "id": "d6d11953-63e1-4d56-94c8-0692f769eef9",
   "metadata": {},
   "outputs": [
    {
     "data": {
      "text/plain": [
       "0.782"
      ]
     },
     "execution_count": 34,
     "metadata": {},
     "output_type": "execute_result"
    }
   ],
   "source": [
    "lr_f1 = round(grid_search.best_score_, 3)\n",
    "lr_f1"
   ]
  },
  {
   "cell_type": "markdown",
   "id": "47c5d99f-4df3-459f-90a7-8b0346dea1f7",
   "metadata": {},
   "source": [
    "### CatBoostClassifier"
   ]
  },
  {
   "cell_type": "markdown",
   "id": "1954300e-2a47-47cd-a46b-df807a9a637f",
   "metadata": {},
   "source": [
    "Посмотрим, какой результат кросс-валидации получим градиентным бустингом при помощи CatBoostClassifier'а. Возьмем количество итераций 150 и шаг learning_rate 0.4:"
   ]
  },
  {
   "cell_type": "code",
   "execution_count": 35,
   "id": "4a17f3fa-7647-4872-881e-c1db6608c04b",
   "metadata": {},
   "outputs": [
    {
     "name": "stdout",
     "output_type": "stream",
     "text": [
      "Training on fold [0/3]\n",
      "\n",
      "bestTest = 0.7510906447\n",
      "bestIteration = 95\n",
      "\n",
      "Training on fold [1/3]\n",
      "\n",
      "bestTest = 0.7411019015\n",
      "bestIteration = 99\n",
      "\n"
     ]
    }
   ],
   "source": [
    "params = {\n",
    "    'loss_function': 'Logloss',\n",
    "    'iterations': 100,\n",
    "    'eval_metric': 'F1',\n",
    "    'learning_rate': 0.4\n",
    "}\n",
    "\n",
    "cv_data = cv(\n",
    "    params=params,\n",
    "    pool=Pool(tf_idf_train, y_train),\n",
    "    fold_count=3, \n",
    "    shuffle=True, \n",
    "    partition_random_seed=0,\n",
    "    stratified=True, \n",
    "    verbose=False\n",
    ")"
   ]
  },
  {
   "cell_type": "markdown",
   "id": "b76becfd-1197-4106-8bc7-22786f8490ee",
   "metadata": {},
   "source": [
    "**Результат:**\n",
    "\n",
    "- Получили f1, равным 0.75, 0.75 и 0.74, что ниже, чем у логистической регрессии: 0.78 - среднее значение f1 на кросс-валидации."
   ]
  },
  {
   "cell_type": "markdown",
   "id": "e18426ca-b155-496e-823a-407c1da290fc",
   "metadata": {},
   "source": [
    "### Выбор модели"
   ]
  },
  {
   "cell_type": "markdown",
   "id": "8bc63efb-7096-4efc-bbd8-606382ce91cc",
   "metadata": {},
   "source": [
    "С учетом удовлетворительного и наивысшего, в сравнении с другими моделями, результата f1 кросс-валидации, а также сравнительно быстрой скорости обучения, в дальнейшем на тестовых данных будем использовать модель:\n",
    "- **LogisticRegression с регуляризацией l2 и силой регуляризации C=9**"
   ]
  },
  {
   "cell_type": "markdown",
   "id": "7efe677f-bbcb-4f37-902c-d6f550a939ec",
   "metadata": {},
   "source": [
    "____________\n",
    "### Вывод"
   ]
  },
  {
   "cell_type": "markdown",
   "id": "e920a4b6-0009-40cf-bf92-13cc0037709c",
   "metadata": {},
   "source": [
    "- Данные разбиты на обучающую и тестовую выборки в соотношении 9 к 1.\n",
    "- Получены корпусы для train и test и посчитаны величины TF-IDF для них (входящие признаки).\n",
    "- Перебраны гиперпараметры для LogisticRegression, DecisionTreeClassifier, KNeighborsClassifier, SVC.\n",
    "- Обучена модель CatBoostClassifier с количеством итераций 150 и шагом learning_rate 0.4.\n",
    "\n",
    "Результат метрики f1 на кросс-валидации оказался лучшим у следующей модели:\n",
    "\n",
    "- LogisticRegression с регуляризацией l2 и силой регуляризации C=9\n",
    "\n",
    "_________"
   ]
  },
  {
   "cell_type": "markdown",
   "id": "6097e7f8-aa4a-4bf4-a858-992c489fdc2e",
   "metadata": {},
   "source": [
    "## Проверка на тестовых данных"
   ]
  },
  {
   "cell_type": "markdown",
   "id": "71ec266f-0a41-4dd1-817a-702f4c83c429",
   "metadata": {},
   "source": [
    "Предсказываем значения X_test:"
   ]
  },
  {
   "cell_type": "code",
   "execution_count": 36,
   "id": "46e6d61a-f013-4cec-add9-26eb19bdc53a",
   "metadata": {},
   "outputs": [
    {
     "name": "stdout",
     "output_type": "stream",
     "text": [
      "Предсказанные значения: [0 0 1 ... 0 0 0]\n"
     ]
    }
   ],
   "source": [
    "preds = grid_search.best_estimator_.predict(tf_idf_test)\n",
    "print ('Предсказанные значения:', preds)"
   ]
  },
  {
   "cell_type": "markdown",
   "id": "20e8a345-4845-4cf5-9b93-026f52e1a8c1",
   "metadata": {},
   "source": [
    "**Результат метрики f1:**"
   ]
  },
  {
   "cell_type": "code",
   "execution_count": 37,
   "id": "2034a92a-8d48-40ec-a538-60d8ab68aac9",
   "metadata": {},
   "outputs": [
    {
     "name": "stdout",
     "output_type": "stream",
     "text": [
      "Результат метрики на тестовых данных:\n",
      " f1 = 0.799\n"
     ]
    }
   ],
   "source": [
    "print('Результат метрики на тестовых данных:\\n f1 =', round(f1_score(y_test, preds), 3))"
   ]
  },
  {
   "cell_type": "markdown",
   "id": "09eb6d1c-30e6-46be-8760-2b3701e2638f",
   "metadata": {},
   "source": [
    "- Получили хорошее значение 0.8, выше минимально необходимого 0.75."
   ]
  },
  {
   "cell_type": "markdown",
   "id": "fd7945bb-e323-4b60-a3fc-917613252a4b",
   "metadata": {},
   "source": [
    "**Precision и Recall**\n",
    "\n",
    "Посмотрим, как модель определяет разные классы:"
   ]
  },
  {
   "cell_type": "code",
   "execution_count": 38,
   "id": "626566ec-f4f2-45b2-b9e2-21c58988df3d",
   "metadata": {},
   "outputs": [
    {
     "name": "stdout",
     "output_type": "stream",
     "text": [
      "Precision:\n",
      "  0.897\n",
      "\n",
      "Recall:\n",
      "  0.721\n"
     ]
    }
   ],
   "source": [
    "print('Precision:\\n ', round(precision_score(y_test, preds), 3))\n",
    "print('\\nRecall:\\n ', round(recall_score(y_test, preds), 3))"
   ]
  },
  {
   "cell_type": "markdown",
   "id": "ef5a41fa-9503-4d71-8808-03b32ed4e329",
   "metadata": {},
   "source": [
    "- в 89,7% случаев комментарий, помеченный моделью как токсичный, был действительно токсичным\n",
    "- при этом модель нашла только 72% токсичных комментариев в тестовой выборке"
   ]
  },
  {
   "cell_type": "markdown",
   "id": "c55a5a90-b980-46b9-bdda-117c09448d79",
   "metadata": {},
   "source": [
    "______\n",
    "### Вывод"
   ]
  },
  {
   "cell_type": "markdown",
   "id": "207d85df-4e39-4b56-81d3-2bf67e2ee837",
   "metadata": {},
   "source": [
    "Результаты на тестовой выборке:\n",
    "\n",
    "- f1 = 0.8"
   ]
  },
  {
   "cell_type": "markdown",
   "id": "646280e1-2e57-450c-a774-4c55f4884c3a",
   "metadata": {},
   "source": [
    "Precision: 0.88\n",
    " \n",
    "Recall 0.72\n",
    "\n",
    "В 89.7% случаев комментарий, помеченный моделью как токсичный, был действительно токсичным. При этом модель нашла только 72% токсичных комментариев в тестовой выборке.\n",
    "_________"
   ]
  },
  {
   "cell_type": "markdown",
   "id": "6823c940-6296-416f-a2b8-5a09424e3e84",
   "metadata": {},
   "source": [
    "## Дополнительно: знакомство с BERT"
   ]
  },
  {
   "cell_type": "markdown",
   "id": "2694d9f8-9ac9-4454-bce9-1efa319ce5c8",
   "metadata": {},
   "source": [
    "*В данном разделе работать будем с уменьшенной выборкой из 1000 строк - исследуем, как работает модель BERT. Ресурсов для обработки большого массива данных у нас нет.*"
   ]
  },
  {
   "cell_type": "markdown",
   "id": "969b704c-c154-4fc7-abd4-059d52305fed",
   "metadata": {},
   "source": [
    "Инициализируем токенизатор как объект класса BertTokenizer(), инициализируем саму модель класса BertModel - передадим ей файл с предобученной моделью и конфигурацией:"
   ]
  },
  {
   "cell_type": "code",
   "execution_count": 39,
   "id": "1f2a5d20-abc4-4bad-a36c-6965b50dfc55",
   "metadata": {},
   "outputs": [
    {
     "name": "stderr",
     "output_type": "stream",
     "text": [
      "Some weights of the model checkpoint at bert-base-uncased were not used when initializing BertModel: ['cls.seq_relationship.bias', 'cls.predictions.transform.LayerNorm.bias', 'cls.predictions.transform.dense.weight', 'cls.predictions.bias', 'cls.predictions.transform.LayerNorm.weight', 'cls.predictions.transform.dense.bias', 'cls.predictions.decoder.weight', 'cls.seq_relationship.weight']\n",
      "- This IS expected if you are initializing BertModel from the checkpoint of a model trained on another task or with another architecture (e.g. initializing a BertForSequenceClassification model from a BertForPreTraining model).\n",
      "- This IS NOT expected if you are initializing BertModel from the checkpoint of a model that you expect to be exactly identical (initializing a BertForSequenceClassification model from a BertForSequenceClassification model).\n"
     ]
    }
   ],
   "source": [
    "tokenizer = transformers.BertTokenizer.from_pretrained('bert-base-uncased')\n",
    "config = transformers.BertConfig.from_pretrained('bert-base-uncased') \n",
    "model = transformers.BertModel.from_pretrained('bert-base-uncased', config=config)"
   ]
  },
  {
   "cell_type": "markdown",
   "id": "8407a660-a90d-40e8-b098-49dea37bc642",
   "metadata": {},
   "source": [
    "Преобразуем текст в номера токенов из словаря методом encode:"
   ]
  },
  {
   "cell_type": "code",
   "execution_count": 41,
   "id": "711f1343-3c29-40a1-8c30-bf04c8939daf",
   "metadata": {},
   "outputs": [],
   "source": [
    "tokenized = data_bert['text'].apply(\n",
    "    lambda x: tokenizer.encode(x, add_special_tokens=True, truncation=True))"
   ]
  },
  {
   "cell_type": "markdown",
   "id": "c4668dda-1dc4-4732-9bd4-0d83e09d734d",
   "metadata": {},
   "source": [
    "Находим максимальную длину вектора и применим метод padding, чтобы после токенизации длины исходных текстов в корпусе были равными:"
   ]
  },
  {
   "cell_type": "code",
   "execution_count": 42,
   "id": "6f10c64a-059b-49bb-898a-fbc6a8c825e6",
   "metadata": {},
   "outputs": [],
   "source": [
    "max_len = 0\n",
    "for i in tokenized.values:\n",
    "    if len(i) > max_len:\n",
    "        max_len = len(i)\n",
    "        \n",
    "padded = np.array([i + [0]*(max_len - len(i)) for i in tokenized.values])\n",
    "\n",
    "attention_mask = np.where(padded != 0, 1, 0)"
   ]
  },
  {
   "cell_type": "code",
   "execution_count": 43,
   "id": "b75295a3-1f5b-4f11-a366-d4edf9665229",
   "metadata": {
    "scrolled": true
   },
   "outputs": [
    {
     "data": {
      "text/plain": [
       "(500, 512)"
      ]
     },
     "execution_count": 43,
     "metadata": {},
     "output_type": "execute_result"
    }
   ],
   "source": [
    "padded.shape"
   ]
  },
  {
   "cell_type": "code",
   "execution_count": 44,
   "id": "84eb2f77",
   "metadata": {},
   "outputs": [
    {
     "data": {
      "application/vnd.jupyter.widget-view+json": {
       "model_id": "3d6c2354b9504a09ba59abcce9e5060b",
       "version_major": 2,
       "version_minor": 0
      },
      "text/plain": [
       "  0%|          | 0/32 [00:00<?, ?it/s]"
      ]
     },
     "metadata": {},
     "output_type": "display_data"
    }
   ],
   "source": [
    "# Определяем устройство (GPU, если доступен, иначе CPU)\n",
    "device = torch.device(\"cuda\" if torch.cuda.is_available() else \"cpu\")\n",
    "\n",
    "# Размер батча\n",
    "batch_size = 16\n",
    "\n",
    "# Сделаем пустой список для хранения эмбеддингов текстов\n",
    "embeddings = []\n",
    "\n",
    "# Переносим модель на GPU\n",
    "model.to(device)\n",
    "\n",
    "# Проходим по данным батчами\n",
    "for i in notebook.tqdm(range(padded.shape[0] // batch_size + 1)):\n",
    "    # Преобразуем данные и переносим на GPU\n",
    "    batch = torch.LongTensor(padded[batch_size * i:batch_size * (i + 1)]).to(device)\n",
    "    \n",
    "    # Преобразуем маску и переносим на GPU\n",
    "    attention_mask_batch = torch.LongTensor(attention_mask[batch_size * i:batch_size * (i + 1)]).to(device)\n",
    "    \n",
    "    # Отключаем вычисление градиентов для ускорения\n",
    "    with torch.no_grad():\n",
    "        # Передаем модели данные и маску\n",
    "        batch_embeddings = model(batch, attention_mask=attention_mask_batch)\n",
    "    \n",
    "    # Переносим результат обратно на CPU и сохраняем в список\n",
    "    embeddings.append(batch_embeddings[0][:, 0, :].cpu().numpy())"
   ]
  },
  {
   "cell_type": "markdown",
   "id": "eec11524-f73e-4bb9-93ff-ec14e20dc6f6",
   "metadata": {},
   "source": [
    "**Обучим и протестируем модель, которая ранее показывала наилучший результат:**"
   ]
  },
  {
   "cell_type": "code",
   "execution_count": 46,
   "id": "7c7c4ca3-bc2c-4d30-a44d-267ad26d0e33",
   "metadata": {},
   "outputs": [
    {
     "name": "stdout",
     "output_type": "stream",
     "text": [
      "f1 =  0.61\n",
      "Precision: 0.78\n",
      "Recall: 0.5\n"
     ]
    }
   ],
   "source": [
    "features = np.concatenate(embeddings)\n",
    "\n",
    "X = features\n",
    "y = data_bert['toxic']\n",
    "# разделяем модель на обучающую и валидационную выборку\n",
    "X_train, X_test, y_train, y_test = train_test_split(\n",
    " X, y, test_size=0.25, random_state=RANDOM_STATE)\n",
    "\n",
    "model = LogisticRegression(C=9, random_state=RANDOM_STATE, solver='liblinear', penalty='l2')\n",
    "\n",
    "model.fit(X_train, y_train)\n",
    "predictions = model.predict(X_test)\n",
    "\n",
    "print ('f1 = ', round(f1_score(y_test, predictions), 2))\n",
    "print ('Precision:', round(precision_score(y_test, predictions), 2))\n",
    "print ('Recall:', round(recall_score(y_test, predictions), 2))"
   ]
  },
  {
   "cell_type": "markdown",
   "id": "d79ef524-694d-4806-ac33-d7c130e14fdc",
   "metadata": {},
   "source": [
    "- Видим, что значение метрики f1 довольно низкое.\n",
    "- 78% текстов, помеченных как токсичные, на самом деле являются такими.\n",
    "- Модель нашла меньше половины токсичных текстов."
   ]
  },
  {
   "cell_type": "markdown",
   "id": "157c1b7d-bd45-48ad-bf65-55839cfd8c1f",
   "metadata": {},
   "source": [
    "Если увеличить силу регуляризации до 30, получим следующее:"
   ]
  },
  {
   "cell_type": "code",
   "execution_count": 47,
   "id": "fcda39de-c935-47f9-a458-f010939a8d3b",
   "metadata": {},
   "outputs": [
    {
     "name": "stdout",
     "output_type": "stream",
     "text": [
      "f1 =  0.61\n",
      "Precision: 0.78\n",
      "Recall: 0.5\n"
     ]
    }
   ],
   "source": [
    "model = LogisticRegression(C=30, random_state=RANDOM_STATE, solver='liblinear', penalty='l2')\n",
    "\n",
    "model.fit(X_train, y_train)\n",
    "predictions = model.predict(X_test)\n",
    "\n",
    "print ('f1 = ', round(f1_score(y_test, predictions), 2))\n",
    "print ('Precision:', round(precision_score(y_test, predictions), 2))\n",
    "print ('Recall:', round(recall_score(y_test, predictions), 2))"
   ]
  },
  {
   "cell_type": "markdown",
   "id": "5d29a604-3e1c-4ea8-a28c-001577f9a4ae",
   "metadata": {},
   "source": [
    "- Метрика f1 выросла до 0.6\n",
    "- Процент найденных токсичных комментариев моделью поднялся выше 50%\n",
    "- Процент верно классифицированных токсичных комментариев также поднялся"
   ]
  },
  {
   "cell_type": "markdown",
   "id": "3a95272e-9dac-4eef-b4d1-4360a7b18190",
   "metadata": {},
   "source": [
    "**Вывод:**\n",
    "\n",
    "На самом деле, неплохой результат с учетом того, что используем выборку всего из 1000 объектов. При грамотном подборе модели и гиперпараметров, вероятно, метрики можно улучшить еще сильнее.\n",
    "\n",
    "Тем не менее, значения метрики будут сильно зависеть от тестовой выборки. Для решения классификации тональности текста точно нужен намного больший датасет для обучения."
   ]
  },
  {
   "cell_type": "markdown",
   "id": "160ba0e6-7ce0-46e4-acce-7c3d665d109a",
   "metadata": {},
   "source": [
    "## Вывод"
   ]
  },
  {
   "cell_type": "markdown",
   "id": "922e9a5d-7d0c-4064-b12d-aa8a67193f46",
   "metadata": {},
   "source": [
    "_______\n",
    "Обучена модель, классифицирующая тональность текста (позитивный или негативный):\n",
    "\n",
    "Модель:\n",
    "- LogisticRegression с регуляризацией l2 и силой регуляризации C=9\n",
    "\n",
    "Метрика f1 на тестовой выборке:\n",
    "- f1 = 0.8\n",
    "_____________\n",
    "\n",
    "\n",
    "\n",
    "**Этапы:**\n",
    "\n",
    "__ Загрузка данных: __\n",
    "- изначально 3 столбца: индекс, текст (входящий признак), токсичность (таргет). 159292 строки.\n",
    "\n",
    "__ Подготовка: __\n",
    "- Удален лишний признак (Просто числовые значения, почти соответствующие индексу. Возможно, в процессе обработки были удалены некоторые строки: индекс обновили, а старый оставили в виде отдельного столбца.)\n",
    "- Дубликатов и пропусков не обнаружено. Все тексты, представленные в датасете, уникальны и не повторяются.\n",
    "- Удалены лишние символы, знаки переноса \"\\n\", все буквы приведены к нижнему регистру\n",
    "- Проведена лемматизация текстов.\n",
    "\n",
    "__ Обучение моделей: __\n",
    "- Данные разбиты на обучающую и тестовую выборки в соотношении 3 к 1.\n",
    "- Получены корпусы для train и test и посчитаны величины TF-IDF для них (входящие признаки).\n",
    "- Перебраны гиперпараметры для LogisticRegression, DecisionTreeClassifier, KNeighborsClassifier, SVC.\n",
    "- Обучена модель CatBoostClassifier с количеством итераций 150 и шагом learning_rate 0.4.\n",
    "- Результат метрики f1 на кросс-валидации оказался лучшим у следующей модели:\n",
    "    - LogisticRegression с регуляризацией l2 и силой регуляризации C=9\n",
    "\n",
    "__ Проверка на тестовых данных: __\n",
    "- f1 = 0.8\n",
    "- Precision: 0.89\n",
    "- Recall 0.72\n",
    "\n",
    "В 89.5% случаев комментарий, помеченный моделью как токсичный, был действительно токсичным. При этом модель нашла только 72% токсичных комментариев в тестовой выборке."
   ]
  },
  {
   "cell_type": "markdown",
   "id": "867bfd2f-f488-47f7-aee4-6699f41465a5",
   "metadata": {},
   "source": [
    "___\n",
    "Дополнительно - BERT\n",
    "\n",
    "На уменьшенной до 1000 строк выборке достигли следующих результатов:\n",
    "- Метрика f1 = 0.6\n",
    "- Recall - 52%\n",
    "- Precision - 71%\n",
    "\n",
    "Неплохой результат с учетом того, что используем выборку всего из 1000 объектов. При грамотном подборе модели и гиперпараметров, вероятно, метрики можно улучшить еще сильнее.\n",
    "\n",
    "Тем не менее, значения метрики будут сильно зависеть от тестовой выборки. Для решения классификации тональности текста точно нужен намного больший датасет для обучения."
   ]
  }
 ],
 "metadata": {
  "ExecuteTimeLog": [
   {
    "duration": 122,
    "start_time": "2025-01-19T22:22:26.897Z"
   },
   {
    "duration": 85,
    "start_time": "2025-01-19T22:22:47.616Z"
   },
   {
    "duration": 85,
    "start_time": "2025-01-19T22:22:53.235Z"
   },
   {
    "duration": 7303,
    "start_time": "2025-01-19T22:22:56.129Z"
   },
   {
    "duration": 140,
    "start_time": "2025-01-19T22:23:08.941Z"
   },
   {
    "duration": 90,
    "start_time": "2025-01-19T22:23:49.873Z"
   },
   {
    "duration": 97,
    "start_time": "2025-01-19T22:24:45.773Z"
   },
   {
    "duration": 87,
    "start_time": "2025-01-19T22:24:49.282Z"
   },
   {
    "duration": 90,
    "start_time": "2025-01-19T22:24:53.401Z"
   },
   {
    "duration": 83,
    "start_time": "2025-01-19T22:25:10.390Z"
   },
   {
    "duration": 79,
    "start_time": "2025-01-19T22:25:17.043Z"
   },
   {
    "duration": 90,
    "start_time": "2025-01-19T22:25:24.331Z"
   },
   {
    "duration": 3269,
    "start_time": "2025-01-19T22:25:33.262Z"
   },
   {
    "duration": 88,
    "start_time": "2025-01-19T22:25:39.104Z"
   },
   {
    "duration": 101,
    "start_time": "2025-01-19T22:26:48.273Z"
   },
   {
    "duration": 91,
    "start_time": "2025-01-19T22:26:53.341Z"
   },
   {
    "duration": 88,
    "start_time": "2025-01-19T22:26:57.149Z"
   },
   {
    "duration": 106,
    "start_time": "2025-01-19T22:27:01.244Z"
   },
   {
    "duration": 79,
    "start_time": "2025-01-19T22:27:04.668Z"
   },
   {
    "duration": 99,
    "start_time": "2025-01-19T22:27:10.377Z"
   },
   {
    "duration": 89,
    "start_time": "2025-01-19T22:27:16.961Z"
   },
   {
    "duration": 115,
    "start_time": "2025-01-19T22:27:21.535Z"
   },
   {
    "duration": 80,
    "start_time": "2025-01-19T22:27:26.648Z"
   },
   {
    "duration": 1312,
    "start_time": "2025-01-19T22:27:43.156Z"
   },
   {
    "duration": 87,
    "start_time": "2025-01-19T22:27:57.104Z"
   },
   {
    "duration": 93,
    "start_time": "2025-01-19T22:28:06.460Z"
   },
   {
    "duration": 1340,
    "start_time": "2025-01-19T22:28:11.847Z"
   },
   {
    "duration": 1294,
    "start_time": "2025-01-19T22:28:17.111Z"
   },
   {
    "duration": 1359,
    "start_time": "2025-01-19T22:28:20.720Z"
   },
   {
    "duration": 1145,
    "start_time": "2025-01-19T22:28:28.559Z"
   },
   {
    "duration": 836,
    "start_time": "2025-01-19T22:28:40.661Z"
   },
   {
    "duration": 89,
    "start_time": "2025-01-19T22:29:10.837Z"
   },
   {
    "duration": 78,
    "start_time": "2025-01-19T22:29:16.910Z"
   },
   {
    "duration": 817,
    "start_time": "2025-01-19T22:29:33.453Z"
   },
   {
    "duration": 90,
    "start_time": "2025-01-19T22:29:46.361Z"
   },
   {
    "duration": 80,
    "start_time": "2025-01-19T22:30:03.802Z"
   },
   {
    "duration": 85,
    "start_time": "2025-01-19T22:30:09.149Z"
   },
   {
    "duration": 817,
    "start_time": "2025-01-19T22:30:15.200Z"
   },
   {
    "duration": 8930,
    "start_time": "2025-01-19T22:30:38.439Z"
   },
   {
    "duration": 7972,
    "start_time": "2025-01-19T22:31:05.405Z"
   },
   {
    "duration": 786,
    "start_time": "2025-01-19T22:31:24.278Z"
   },
   {
    "duration": 7819,
    "start_time": "2025-01-19T22:32:17.615Z"
   },
   {
    "duration": 768,
    "start_time": "2025-01-19T22:32:25.436Z"
   },
   {
    "duration": 45,
    "start_time": "2025-01-19T22:32:26.206Z"
   },
   {
    "duration": 0,
    "start_time": "2025-01-19T22:32:26.253Z"
   },
   {
    "duration": 0,
    "start_time": "2025-01-19T22:32:26.255Z"
   },
   {
    "duration": 0,
    "start_time": "2025-01-19T22:32:26.256Z"
   },
   {
    "duration": 0,
    "start_time": "2025-01-19T22:32:26.257Z"
   },
   {
    "duration": 0,
    "start_time": "2025-01-19T22:32:26.258Z"
   },
   {
    "duration": 0,
    "start_time": "2025-01-19T22:32:26.260Z"
   },
   {
    "duration": 0,
    "start_time": "2025-01-19T22:32:26.261Z"
   },
   {
    "duration": 0,
    "start_time": "2025-01-19T22:32:26.262Z"
   },
   {
    "duration": 0,
    "start_time": "2025-01-19T22:32:26.263Z"
   },
   {
    "duration": 0,
    "start_time": "2025-01-19T22:32:26.264Z"
   },
   {
    "duration": 0,
    "start_time": "2025-01-19T22:32:26.265Z"
   },
   {
    "duration": 0,
    "start_time": "2025-01-19T22:32:26.266Z"
   },
   {
    "duration": 0,
    "start_time": "2025-01-19T22:32:26.268Z"
   },
   {
    "duration": 0,
    "start_time": "2025-01-19T22:32:26.269Z"
   },
   {
    "duration": 0,
    "start_time": "2025-01-19T22:32:26.270Z"
   },
   {
    "duration": 0,
    "start_time": "2025-01-19T22:32:26.271Z"
   },
   {
    "duration": 0,
    "start_time": "2025-01-19T22:32:26.272Z"
   },
   {
    "duration": 0,
    "start_time": "2025-01-19T22:32:26.273Z"
   },
   {
    "duration": 0,
    "start_time": "2025-01-19T22:32:26.274Z"
   },
   {
    "duration": 0,
    "start_time": "2025-01-19T22:32:26.276Z"
   },
   {
    "duration": 0,
    "start_time": "2025-01-19T22:32:26.277Z"
   },
   {
    "duration": 0,
    "start_time": "2025-01-19T22:32:26.278Z"
   },
   {
    "duration": 0,
    "start_time": "2025-01-19T22:32:26.315Z"
   },
   {
    "duration": 0,
    "start_time": "2025-01-19T22:32:26.317Z"
   },
   {
    "duration": 0,
    "start_time": "2025-01-19T22:32:26.319Z"
   },
   {
    "duration": 0,
    "start_time": "2025-01-19T22:32:26.320Z"
   },
   {
    "duration": 0,
    "start_time": "2025-01-19T22:32:26.322Z"
   },
   {
    "duration": 0,
    "start_time": "2025-01-19T22:32:26.323Z"
   },
   {
    "duration": 0,
    "start_time": "2025-01-19T22:32:26.325Z"
   },
   {
    "duration": 0,
    "start_time": "2025-01-19T22:32:26.327Z"
   },
   {
    "duration": 0,
    "start_time": "2025-01-19T22:32:26.328Z"
   },
   {
    "duration": 0,
    "start_time": "2025-01-19T22:32:26.330Z"
   },
   {
    "duration": 0,
    "start_time": "2025-01-19T22:32:26.331Z"
   },
   {
    "duration": 0,
    "start_time": "2025-01-19T22:32:26.333Z"
   },
   {
    "duration": 0,
    "start_time": "2025-01-19T22:32:26.334Z"
   },
   {
    "duration": 0,
    "start_time": "2025-01-19T22:32:26.336Z"
   },
   {
    "duration": 0,
    "start_time": "2025-01-19T22:32:26.337Z"
   },
   {
    "duration": 0,
    "start_time": "2025-01-19T22:32:26.338Z"
   },
   {
    "duration": 0,
    "start_time": "2025-01-19T22:32:26.340Z"
   },
   {
    "duration": 0,
    "start_time": "2025-01-19T22:32:26.341Z"
   },
   {
    "duration": 0,
    "start_time": "2025-01-19T22:32:26.343Z"
   },
   {
    "duration": 0,
    "start_time": "2025-01-19T22:32:26.345Z"
   },
   {
    "duration": 0,
    "start_time": "2025-01-19T22:32:26.346Z"
   },
   {
    "duration": 0,
    "start_time": "2025-01-19T22:32:26.347Z"
   },
   {
    "duration": 0,
    "start_time": "2025-01-19T22:32:26.349Z"
   },
   {
    "duration": 0,
    "start_time": "2025-01-19T22:32:26.350Z"
   },
   {
    "duration": 0,
    "start_time": "2025-01-19T22:32:26.351Z"
   },
   {
    "duration": 0,
    "start_time": "2025-01-19T22:32:26.352Z"
   },
   {
    "duration": 0,
    "start_time": "2025-01-19T22:32:26.353Z"
   },
   {
    "duration": 0,
    "start_time": "2025-01-19T22:32:26.415Z"
   },
   {
    "duration": 5350,
    "start_time": "2025-01-19T22:33:37.504Z"
   },
   {
    "duration": 8,
    "start_time": "2025-01-19T22:34:24.794Z"
   },
   {
    "duration": 2871,
    "start_time": "2025-01-19T22:34:25.687Z"
   },
   {
    "duration": 43,
    "start_time": "2025-01-19T22:34:35.570Z"
   },
   {
    "duration": 12,
    "start_time": "2025-01-19T22:34:40.544Z"
   },
   {
    "duration": 14,
    "start_time": "2025-01-19T22:35:07.776Z"
   },
   {
    "duration": 27,
    "start_time": "2025-01-19T22:35:09.655Z"
   },
   {
    "duration": 29,
    "start_time": "2025-01-19T22:35:14.591Z"
   },
   {
    "duration": 249,
    "start_time": "2025-01-19T22:35:15.766Z"
   },
   {
    "duration": 450,
    "start_time": "2025-01-19T22:35:17.975Z"
   },
   {
    "duration": 5,
    "start_time": "2025-01-19T22:35:22.968Z"
   },
   {
    "duration": 145,
    "start_time": "2025-01-19T22:35:25.920Z"
   },
   {
    "duration": 8,
    "start_time": "2025-01-19T22:35:48.336Z"
   },
   {
    "duration": 3,
    "start_time": "2025-01-19T22:35:53.457Z"
   },
   {
    "duration": 6,
    "start_time": "2025-01-19T22:36:10.632Z"
   },
   {
    "duration": 4203,
    "start_time": "2025-01-19T22:36:16.903Z"
   },
   {
    "duration": 7,
    "start_time": "2025-01-19T22:36:37.345Z"
   },
   {
    "duration": 5,
    "start_time": "2025-01-19T22:39:47.075Z"
   },
   {
    "duration": 748,
    "start_time": "2025-01-19T22:39:58.106Z"
   },
   {
    "duration": 7,
    "start_time": "2025-01-19T22:41:00.676Z"
   },
   {
    "duration": 13,
    "start_time": "2025-01-19T22:41:25.211Z"
   },
   {
    "duration": 57,
    "start_time": "2025-01-19T22:41:33.251Z"
   },
   {
    "duration": 5,
    "start_time": "2025-01-19T22:41:42.718Z"
   },
   {
    "duration": 345,
    "start_time": "2025-01-19T22:41:46.147Z"
   },
   {
    "duration": 116,
    "start_time": "2025-01-19T22:42:35.404Z"
   },
   {
    "duration": 40,
    "start_time": "2025-01-19T22:42:37.818Z"
   },
   {
    "duration": 82,
    "start_time": "2025-01-19T22:42:57.390Z"
   },
   {
    "duration": 83,
    "start_time": "2025-01-19T22:43:04.364Z"
   },
   {
    "duration": 4,
    "start_time": "2025-01-19T22:43:12.613Z"
   },
   {
    "duration": 30775,
    "start_time": "2025-01-19T22:43:14.839Z"
   },
   {
    "duration": 4,
    "start_time": "2025-01-19T22:43:58.004Z"
   },
   {
    "duration": 49,
    "start_time": "2025-01-19T22:43:59.882Z"
   },
   {
    "duration": 3,
    "start_time": "2025-01-19T22:44:08.903Z"
   },
   {
    "duration": 22,
    "start_time": "2025-01-19T22:44:11.293Z"
   },
   {
    "duration": 4,
    "start_time": "2025-01-19T22:44:28.884Z"
   },
   {
    "duration": 4,
    "start_time": "2025-01-19T22:44:49.445Z"
   },
   {
    "duration": 27,
    "start_time": "2025-01-19T22:44:52.587Z"
   },
   {
    "duration": 4,
    "start_time": "2025-01-19T22:45:10.646Z"
   },
   {
    "duration": 23,
    "start_time": "2025-01-19T22:45:13.414Z"
   },
   {
    "duration": 26,
    "start_time": "2025-01-19T22:46:13.357Z"
   },
   {
    "duration": 24,
    "start_time": "2025-01-19T22:46:32.694Z"
   },
   {
    "duration": 7,
    "start_time": "2025-01-19T22:47:25.959Z"
   },
   {
    "duration": 4,
    "start_time": "2025-01-19T22:48:21.327Z"
   },
   {
    "duration": 4,
    "start_time": "2025-01-19T23:09:12.340Z"
   },
   {
    "duration": 8196,
    "start_time": "2025-01-19T23:09:24.689Z"
   },
   {
    "duration": 56,
    "start_time": "2025-01-19T23:09:37.258Z"
   },
   {
    "duration": 38,
    "start_time": "2025-01-19T23:10:04.809Z"
   },
   {
    "duration": 3,
    "start_time": "2025-01-19T23:12:42.560Z"
   },
   {
    "duration": 36,
    "start_time": "2025-01-19T23:12:44.923Z"
   },
   {
    "duration": 57,
    "start_time": "2025-01-19T23:12:56.634Z"
   },
   {
    "duration": 4,
    "start_time": "2025-01-19T23:13:17.794Z"
   },
   {
    "duration": 47,
    "start_time": "2025-01-19T23:13:22.963Z"
   },
   {
    "duration": 475,
    "start_time": "2025-01-19T23:22:53.046Z"
   },
   {
    "duration": 40,
    "start_time": "2025-01-19T23:22:55.457Z"
   },
   {
    "duration": 3,
    "start_time": "2025-01-19T23:24:07.591Z"
   },
   {
    "duration": 6,
    "start_time": "2025-01-19T23:24:24.183Z"
   },
   {
    "duration": 4,
    "start_time": "2025-01-19T23:24:33.111Z"
   },
   {
    "duration": 4,
    "start_time": "2025-01-19T23:24:36.927Z"
   },
   {
    "duration": 487,
    "start_time": "2025-01-19T23:38:19.509Z"
   },
   {
    "duration": 37,
    "start_time": "2025-01-19T23:38:34.829Z"
   },
   {
    "duration": 115,
    "start_time": "2025-01-19T23:38:39.100Z"
   },
   {
    "duration": 267,
    "start_time": "2025-01-19T23:38:44.085Z"
   },
   {
    "duration": 2171,
    "start_time": "2025-01-19T23:38:47.060Z"
   },
   {
    "duration": 4086,
    "start_time": "2025-01-19T23:38:53.813Z"
   },
   {
    "duration": 8363,
    "start_time": "2025-01-19T23:39:33.073Z"
   },
   {
    "duration": 777,
    "start_time": "2025-01-19T23:39:41.439Z"
   },
   {
    "duration": 3,
    "start_time": "2025-01-19T23:39:42.218Z"
   },
   {
    "duration": 4,
    "start_time": "2025-01-19T23:39:42.223Z"
   },
   {
    "duration": 3,
    "start_time": "2025-01-19T23:39:42.228Z"
   },
   {
    "duration": 4,
    "start_time": "2025-01-19T23:39:42.233Z"
   },
   {
    "duration": 13,
    "start_time": "2025-01-19T23:39:42.238Z"
   },
   {
    "duration": 3,
    "start_time": "2025-01-19T23:39:42.253Z"
   },
   {
    "duration": 3,
    "start_time": "2025-01-19T23:39:42.257Z"
   },
   {
    "duration": 5168,
    "start_time": "2025-01-19T23:39:42.263Z"
   },
   {
    "duration": 6,
    "start_time": "2025-01-19T23:39:47.433Z"
   },
   {
    "duration": 2465,
    "start_time": "2025-01-19T23:39:47.441Z"
   },
   {
    "duration": 47,
    "start_time": "2025-01-19T23:39:49.907Z"
   },
   {
    "duration": 12,
    "start_time": "2025-01-19T23:39:49.955Z"
   },
   {
    "duration": 12,
    "start_time": "2025-01-19T23:39:49.969Z"
   },
   {
    "duration": 44,
    "start_time": "2025-01-19T23:39:49.983Z"
   },
   {
    "duration": 28,
    "start_time": "2025-01-19T23:39:50.028Z"
   },
   {
    "duration": 248,
    "start_time": "2025-01-19T23:39:50.058Z"
   },
   {
    "duration": 427,
    "start_time": "2025-01-19T23:39:50.307Z"
   },
   {
    "duration": 4,
    "start_time": "2025-01-19T23:39:50.736Z"
   },
   {
    "duration": 139,
    "start_time": "2025-01-19T23:39:50.742Z"
   },
   {
    "duration": 8,
    "start_time": "2025-01-19T23:39:50.883Z"
   },
   {
    "duration": 16,
    "start_time": "2025-01-19T23:39:50.892Z"
   },
   {
    "duration": 8,
    "start_time": "2025-01-19T23:39:50.910Z"
   },
   {
    "duration": 4,
    "start_time": "2025-01-19T23:39:50.920Z"
   },
   {
    "duration": 754,
    "start_time": "2025-01-19T23:39:50.925Z"
   },
   {
    "duration": 5987,
    "start_time": "2025-01-19T23:39:51.680Z"
   },
   {
    "duration": 2,
    "start_time": "2025-01-19T23:39:57.671Z"
   },
   {
    "duration": 735073,
    "start_time": "2025-01-19T23:39:57.674Z"
   },
   {
    "duration": 347,
    "start_time": "2025-01-19T23:52:12.749Z"
   },
   {
    "duration": 0,
    "start_time": "2025-01-19T23:52:13.098Z"
   },
   {
    "duration": 0,
    "start_time": "2025-01-19T23:52:13.099Z"
   },
   {
    "duration": 0,
    "start_time": "2025-01-19T23:52:13.100Z"
   },
   {
    "duration": 0,
    "start_time": "2025-01-19T23:52:13.101Z"
   },
   {
    "duration": 0,
    "start_time": "2025-01-19T23:52:13.115Z"
   },
   {
    "duration": 0,
    "start_time": "2025-01-19T23:52:13.116Z"
   },
   {
    "duration": 0,
    "start_time": "2025-01-19T23:52:13.117Z"
   },
   {
    "duration": 0,
    "start_time": "2025-01-19T23:52:13.118Z"
   },
   {
    "duration": 0,
    "start_time": "2025-01-19T23:52:13.119Z"
   },
   {
    "duration": 1,
    "start_time": "2025-01-19T23:52:13.120Z"
   },
   {
    "duration": 0,
    "start_time": "2025-01-19T23:52:13.122Z"
   },
   {
    "duration": 0,
    "start_time": "2025-01-19T23:52:13.123Z"
   },
   {
    "duration": 0,
    "start_time": "2025-01-19T23:52:13.124Z"
   },
   {
    "duration": 0,
    "start_time": "2025-01-19T23:52:13.125Z"
   },
   {
    "duration": 0,
    "start_time": "2025-01-19T23:52:13.126Z"
   },
   {
    "duration": 0,
    "start_time": "2025-01-19T23:52:13.127Z"
   },
   {
    "duration": 0,
    "start_time": "2025-01-19T23:52:13.128Z"
   },
   {
    "duration": 0,
    "start_time": "2025-01-19T23:52:13.129Z"
   },
   {
    "duration": 0,
    "start_time": "2025-01-19T23:52:13.131Z"
   },
   {
    "duration": 0,
    "start_time": "2025-01-19T23:52:13.132Z"
   },
   {
    "duration": 0,
    "start_time": "2025-01-19T23:52:13.133Z"
   },
   {
    "duration": 0,
    "start_time": "2025-01-19T23:52:13.134Z"
   },
   {
    "duration": 0,
    "start_time": "2025-01-19T23:52:13.135Z"
   },
   {
    "duration": 0,
    "start_time": "2025-01-19T23:52:13.136Z"
   },
   {
    "duration": 0,
    "start_time": "2025-01-19T23:52:13.137Z"
   },
   {
    "duration": 12,
    "start_time": "2025-01-19T23:54:37.940Z"
   },
   {
    "duration": 3982,
    "start_time": "2025-01-19T23:54:55.509Z"
   },
   {
    "duration": 8207,
    "start_time": "2025-01-19T23:55:18.283Z"
   },
   {
    "duration": 781,
    "start_time": "2025-01-19T23:55:26.492Z"
   },
   {
    "duration": 3,
    "start_time": "2025-01-19T23:55:27.275Z"
   },
   {
    "duration": 6,
    "start_time": "2025-01-19T23:55:27.279Z"
   },
   {
    "duration": 3,
    "start_time": "2025-01-19T23:55:27.286Z"
   },
   {
    "duration": 4,
    "start_time": "2025-01-19T23:55:27.290Z"
   },
   {
    "duration": 5,
    "start_time": "2025-01-19T23:55:27.295Z"
   },
   {
    "duration": 3,
    "start_time": "2025-01-19T23:55:27.302Z"
   },
   {
    "duration": 14,
    "start_time": "2025-01-19T23:55:27.306Z"
   },
   {
    "duration": 5288,
    "start_time": "2025-01-19T23:55:27.322Z"
   },
   {
    "duration": 7,
    "start_time": "2025-01-19T23:55:32.611Z"
   },
   {
    "duration": 2678,
    "start_time": "2025-01-19T23:55:32.619Z"
   },
   {
    "duration": 53,
    "start_time": "2025-01-19T23:55:35.299Z"
   },
   {
    "duration": 11,
    "start_time": "2025-01-19T23:55:35.355Z"
   },
   {
    "duration": 34,
    "start_time": "2025-01-19T23:55:35.368Z"
   },
   {
    "duration": 19,
    "start_time": "2025-01-19T23:55:35.403Z"
   },
   {
    "duration": 36,
    "start_time": "2025-01-19T23:55:35.424Z"
   },
   {
    "duration": 237,
    "start_time": "2025-01-19T23:55:35.461Z"
   },
   {
    "duration": 435,
    "start_time": "2025-01-19T23:55:35.700Z"
   },
   {
    "duration": 5,
    "start_time": "2025-01-19T23:55:36.137Z"
   },
   {
    "duration": 264,
    "start_time": "2025-01-19T23:55:36.144Z"
   },
   {
    "duration": 8,
    "start_time": "2025-01-19T23:55:36.415Z"
   },
   {
    "duration": 36,
    "start_time": "2025-01-19T23:55:36.424Z"
   },
   {
    "duration": 3892,
    "start_time": "2025-01-19T23:55:36.462Z"
   },
   {
    "duration": 2,
    "start_time": "2025-01-19T23:55:40.356Z"
   },
   {
    "duration": 696,
    "start_time": "2025-01-19T23:55:40.360Z"
   },
   {
    "duration": 4934,
    "start_time": "2025-01-19T23:55:41.057Z"
   },
   {
    "duration": 2,
    "start_time": "2025-01-19T23:55:45.993Z"
   },
   {
    "duration": 568184,
    "start_time": "2025-01-19T23:55:45.996Z"
   },
   {
    "duration": 351,
    "start_time": "2025-01-20T00:05:14.182Z"
   },
   {
    "duration": 0,
    "start_time": "2025-01-20T00:05:14.536Z"
   },
   {
    "duration": 0,
    "start_time": "2025-01-20T00:05:14.537Z"
   },
   {
    "duration": 0,
    "start_time": "2025-01-20T00:05:14.538Z"
   },
   {
    "duration": 0,
    "start_time": "2025-01-20T00:05:14.540Z"
   },
   {
    "duration": 0,
    "start_time": "2025-01-20T00:05:14.542Z"
   },
   {
    "duration": 0,
    "start_time": "2025-01-20T00:05:14.543Z"
   },
   {
    "duration": 0,
    "start_time": "2025-01-20T00:05:14.544Z"
   },
   {
    "duration": 0,
    "start_time": "2025-01-20T00:05:14.545Z"
   },
   {
    "duration": 0,
    "start_time": "2025-01-20T00:05:14.546Z"
   },
   {
    "duration": 0,
    "start_time": "2025-01-20T00:05:14.548Z"
   },
   {
    "duration": 0,
    "start_time": "2025-01-20T00:05:14.549Z"
   },
   {
    "duration": 0,
    "start_time": "2025-01-20T00:05:14.550Z"
   },
   {
    "duration": 0,
    "start_time": "2025-01-20T00:05:14.551Z"
   },
   {
    "duration": 0,
    "start_time": "2025-01-20T00:05:14.552Z"
   },
   {
    "duration": 0,
    "start_time": "2025-01-20T00:05:14.553Z"
   },
   {
    "duration": 0,
    "start_time": "2025-01-20T00:05:14.554Z"
   },
   {
    "duration": 0,
    "start_time": "2025-01-20T00:05:14.555Z"
   },
   {
    "duration": 0,
    "start_time": "2025-01-20T00:05:14.556Z"
   },
   {
    "duration": 0,
    "start_time": "2025-01-20T00:05:14.558Z"
   },
   {
    "duration": 0,
    "start_time": "2025-01-20T00:05:14.559Z"
   },
   {
    "duration": 0,
    "start_time": "2025-01-20T00:05:14.560Z"
   },
   {
    "duration": 0,
    "start_time": "2025-01-20T00:05:14.561Z"
   },
   {
    "duration": 0,
    "start_time": "2025-01-20T00:05:14.562Z"
   },
   {
    "duration": 0,
    "start_time": "2025-01-20T00:05:14.563Z"
   },
   {
    "duration": 0,
    "start_time": "2025-01-20T00:05:14.565Z"
   },
   {
    "duration": 7,
    "start_time": "2025-01-20T00:13:57.973Z"
   },
   {
    "duration": 23,
    "start_time": "2025-01-20T00:14:05.732Z"
   },
   {
    "duration": 24,
    "start_time": "2025-01-20T00:14:11.804Z"
   },
   {
    "duration": 22,
    "start_time": "2025-01-20T00:14:39.861Z"
   },
   {
    "duration": 2,
    "start_time": "2025-01-20T00:15:23.032Z"
   },
   {
    "duration": 3,
    "start_time": "2025-01-20T00:16:00.517Z"
   },
   {
    "duration": 5,
    "start_time": "2025-01-20T00:16:03.390Z"
   },
   {
    "duration": 69,
    "start_time": "2025-01-20T00:16:14.855Z"
   },
   {
    "duration": 5,
    "start_time": "2025-01-20T00:17:40.205Z"
   },
   {
    "duration": 9,
    "start_time": "2025-01-20T00:17:45.695Z"
   },
   {
    "duration": 3,
    "start_time": "2025-01-20T00:18:22.829Z"
   },
   {
    "duration": 6537,
    "start_time": "2025-01-20T00:20:20.168Z"
   },
   {
    "duration": 693,
    "start_time": "2025-01-20T00:20:29.169Z"
   },
   {
    "duration": 4,
    "start_time": "2025-01-20T00:24:19.937Z"
   },
   {
    "duration": 24,
    "start_time": "2025-01-20T00:24:43.289Z"
   },
   {
    "duration": 4,
    "start_time": "2025-01-20T00:27:04.722Z"
   },
   {
    "duration": 6376,
    "start_time": "2025-01-20T00:28:04.803Z"
   },
   {
    "duration": 6588,
    "start_time": "2025-01-20T00:28:40.660Z"
   },
   {
    "duration": 6446,
    "start_time": "2025-01-20T00:29:08.311Z"
   },
   {
    "duration": 733,
    "start_time": "2025-01-20T00:29:15.564Z"
   },
   {
    "duration": 4,
    "start_time": "2025-01-20T00:38:22.723Z"
   },
   {
    "duration": 5,
    "start_time": "2025-01-20T00:38:42.563Z"
   },
   {
    "duration": 266265,
    "start_time": "2025-01-20T00:40:34.244Z"
   },
   {
    "duration": 5,
    "start_time": "2025-01-20T00:46:01.382Z"
   },
   {
    "duration": 5522,
    "start_time": "2025-01-20T00:46:09.067Z"
   },
   {
    "duration": 7,
    "start_time": "2025-01-20T00:46:23.749Z"
   },
   {
    "duration": 47,
    "start_time": "2025-01-20T00:46:53.701Z"
   },
   {
    "duration": 6,
    "start_time": "2025-01-20T00:47:05.389Z"
   },
   {
    "duration": 8211,
    "start_time": "2025-01-20T00:47:11.169Z"
   },
   {
    "duration": 771,
    "start_time": "2025-01-20T00:47:19.383Z"
   },
   {
    "duration": 2,
    "start_time": "2025-01-20T00:47:20.156Z"
   },
   {
    "duration": 9,
    "start_time": "2025-01-20T00:47:20.160Z"
   },
   {
    "duration": 10,
    "start_time": "2025-01-20T00:47:20.171Z"
   },
   {
    "duration": 5,
    "start_time": "2025-01-20T00:47:20.183Z"
   },
   {
    "duration": 19,
    "start_time": "2025-01-20T00:47:20.189Z"
   },
   {
    "duration": 22,
    "start_time": "2025-01-20T00:47:20.210Z"
   },
   {
    "duration": 15,
    "start_time": "2025-01-20T00:47:20.233Z"
   },
   {
    "duration": 5755,
    "start_time": "2025-01-20T00:47:20.251Z"
   },
   {
    "duration": 8,
    "start_time": "2025-01-20T00:47:26.007Z"
   },
   {
    "duration": 2421,
    "start_time": "2025-01-20T00:47:26.016Z"
   },
   {
    "duration": 43,
    "start_time": "2025-01-20T00:47:28.439Z"
   },
   {
    "duration": 12,
    "start_time": "2025-01-20T00:47:28.483Z"
   },
   {
    "duration": 30,
    "start_time": "2025-01-20T00:47:28.496Z"
   },
   {
    "duration": 20,
    "start_time": "2025-01-20T00:47:28.528Z"
   },
   {
    "duration": 30,
    "start_time": "2025-01-20T00:47:28.550Z"
   },
   {
    "duration": 257,
    "start_time": "2025-01-20T00:47:28.581Z"
   },
   {
    "duration": 437,
    "start_time": "2025-01-20T00:47:28.840Z"
   },
   {
    "duration": 5,
    "start_time": "2025-01-20T00:47:29.278Z"
   },
   {
    "duration": 160,
    "start_time": "2025-01-20T00:47:29.284Z"
   },
   {
    "duration": 7,
    "start_time": "2025-01-20T00:47:29.446Z"
   },
   {
    "duration": 7,
    "start_time": "2025-01-20T00:47:29.455Z"
   },
   {
    "duration": 3874,
    "start_time": "2025-01-20T00:47:29.464Z"
   },
   {
    "duration": 3,
    "start_time": "2025-01-20T00:47:33.339Z"
   },
   {
    "duration": 723,
    "start_time": "2025-01-20T00:47:33.343Z"
   },
   {
    "duration": 2,
    "start_time": "2025-01-20T00:47:34.068Z"
   },
   {
    "duration": 589280,
    "start_time": "2025-01-20T00:47:34.074Z"
   },
   {
    "duration": 3,
    "start_time": "2025-01-20T00:57:23.355Z"
   },
   {
    "duration": 23,
    "start_time": "2025-01-20T00:57:23.359Z"
   },
   {
    "duration": 81,
    "start_time": "2025-01-20T00:57:23.384Z"
   },
   {
    "duration": 4,
    "start_time": "2025-01-20T00:57:23.467Z"
   },
   {
    "duration": 54,
    "start_time": "2025-01-20T00:57:23.473Z"
   },
   {
    "duration": 8,
    "start_time": "2025-01-20T00:57:23.529Z"
   },
   {
    "duration": 6324,
    "start_time": "2025-01-20T00:57:23.539Z"
   },
   {
    "duration": 742,
    "start_time": "2025-01-20T00:57:29.865Z"
   },
   {
    "duration": 9,
    "start_time": "2025-01-20T00:57:30.609Z"
   },
   {
    "duration": 373,
    "start_time": "2025-01-20T00:57:30.620Z"
   },
   {
    "duration": 0,
    "start_time": "2025-01-20T00:57:30.995Z"
   },
   {
    "duration": 0,
    "start_time": "2025-01-20T00:57:30.997Z"
   },
   {
    "duration": 0,
    "start_time": "2025-01-20T00:57:30.998Z"
   },
   {
    "duration": 0,
    "start_time": "2025-01-20T00:57:31.000Z"
   },
   {
    "duration": 0,
    "start_time": "2025-01-20T00:57:31.001Z"
   },
   {
    "duration": 0,
    "start_time": "2025-01-20T00:57:31.015Z"
   },
   {
    "duration": 0,
    "start_time": "2025-01-20T00:57:31.017Z"
   },
   {
    "duration": 0,
    "start_time": "2025-01-20T00:57:31.019Z"
   },
   {
    "duration": 0,
    "start_time": "2025-01-20T00:57:31.020Z"
   },
   {
    "duration": 0,
    "start_time": "2025-01-20T00:57:31.022Z"
   },
   {
    "duration": 0,
    "start_time": "2025-01-20T00:57:31.023Z"
   },
   {
    "duration": 0,
    "start_time": "2025-01-20T00:57:31.024Z"
   },
   {
    "duration": 0,
    "start_time": "2025-01-20T00:57:31.026Z"
   },
   {
    "duration": 0,
    "start_time": "2025-01-20T00:57:31.027Z"
   },
   {
    "duration": 0,
    "start_time": "2025-01-20T00:57:31.028Z"
   },
   {
    "duration": 0,
    "start_time": "2025-01-20T00:57:31.030Z"
   },
   {
    "duration": 0,
    "start_time": "2025-01-20T00:57:31.031Z"
   },
   {
    "duration": 0,
    "start_time": "2025-01-20T00:57:31.033Z"
   },
   {
    "duration": 6,
    "start_time": "2025-01-20T01:12:02.704Z"
   },
   {
    "duration": 8,
    "start_time": "2025-01-20T01:12:14.928Z"
   },
   {
    "duration": 8,
    "start_time": "2025-01-20T01:12:20.927Z"
   },
   {
    "duration": 5,
    "start_time": "2025-01-20T01:12:41.376Z"
   },
   {
    "duration": 7,
    "start_time": "2025-01-20T01:12:53.139Z"
   },
   {
    "duration": 6,
    "start_time": "2025-01-20T01:12:59.969Z"
   },
   {
    "duration": 1970,
    "start_time": "2025-01-20T01:13:13.594Z"
   },
   {
    "duration": 14,
    "start_time": "2025-01-20T01:13:20.624Z"
   },
   {
    "duration": 6,
    "start_time": "2025-01-20T01:13:26.056Z"
   },
   {
    "duration": 834526,
    "start_time": "2025-01-20T01:13:40.681Z"
   },
   {
    "duration": 15,
    "start_time": "2025-01-20T01:28:53.662Z"
   },
   {
    "duration": 5,
    "start_time": "2025-01-20T01:31:18.774Z"
   },
   {
    "duration": 911944,
    "start_time": "2025-01-20T01:31:31.030Z"
   },
   {
    "duration": 4,
    "start_time": "2025-01-20T01:53:32.167Z"
   },
   {
    "duration": 5,
    "start_time": "2025-01-20T01:53:39.150Z"
   },
   {
    "duration": 598,
    "start_time": "2025-01-20T01:53:57.526Z"
   },
   {
    "duration": 4,
    "start_time": "2025-01-20T01:54:16.822Z"
   },
   {
    "duration": 1378510,
    "start_time": "2025-01-20T01:54:23.463Z"
   },
   {
    "duration": 15,
    "start_time": "2025-01-20T02:18:24.400Z"
   },
   {
    "duration": 4,
    "start_time": "2025-01-20T02:18:43.172Z"
   },
   {
    "duration": 5,
    "start_time": "2025-01-20T02:22:23.311Z"
   },
   {
    "duration": 5,
    "start_time": "2025-01-20T02:22:28.666Z"
   },
   {
    "duration": 830232,
    "start_time": "2025-01-20T02:22:42.214Z"
   },
   {
    "duration": 7,
    "start_time": "2025-01-20T02:41:46.139Z"
   },
   {
    "duration": 9,
    "start_time": "2025-01-20T02:41:53.516Z"
   },
   {
    "duration": 14,
    "start_time": "2025-01-20T02:43:40.111Z"
   },
   {
    "duration": 19071,
    "start_time": "2025-01-20T02:45:27.944Z"
   },
   {
    "duration": 1301,
    "start_time": "2025-01-20T02:46:13.014Z"
   },
   {
    "duration": 117,
    "start_time": "2025-01-20T02:46:57.040Z"
   },
   {
    "duration": 4,
    "start_time": "2025-01-20T02:46:57.992Z"
   },
   {
    "duration": 53,
    "start_time": "2025-01-20T02:47:02.809Z"
   },
   {
    "duration": 1359,
    "start_time": "2025-01-20T02:50:54.555Z"
   },
   {
    "duration": 51,
    "start_time": "2025-01-20T02:51:17.586Z"
   },
   {
    "duration": 3,
    "start_time": "2025-01-20T02:51:19.281Z"
   },
   {
    "duration": 50,
    "start_time": "2025-01-20T02:51:42.035Z"
   },
   {
    "duration": 8527,
    "start_time": "2025-01-20T02:52:03.666Z"
   },
   {
    "duration": 779,
    "start_time": "2025-01-20T02:52:12.196Z"
   },
   {
    "duration": 3,
    "start_time": "2025-01-20T02:52:12.977Z"
   },
   {
    "duration": 4,
    "start_time": "2025-01-20T02:52:12.982Z"
   },
   {
    "duration": 8,
    "start_time": "2025-01-20T02:52:12.987Z"
   },
   {
    "duration": 4,
    "start_time": "2025-01-20T02:52:12.996Z"
   },
   {
    "duration": 4,
    "start_time": "2025-01-20T02:52:13.001Z"
   },
   {
    "duration": 3,
    "start_time": "2025-01-20T02:52:13.007Z"
   },
   {
    "duration": 4,
    "start_time": "2025-01-20T02:52:13.011Z"
   },
   {
    "duration": 6251,
    "start_time": "2025-01-20T02:52:13.017Z"
   },
   {
    "duration": 8,
    "start_time": "2025-01-20T02:52:19.269Z"
   },
   {
    "duration": 8772,
    "start_time": "2025-01-20T02:57:54.336Z"
   },
   {
    "duration": 800,
    "start_time": "2025-01-20T02:58:03.111Z"
   },
   {
    "duration": 3,
    "start_time": "2025-01-20T02:58:03.912Z"
   },
   {
    "duration": 40,
    "start_time": "2025-01-20T02:58:03.917Z"
   },
   {
    "duration": 6,
    "start_time": "2025-01-20T02:58:03.959Z"
   },
   {
    "duration": 3,
    "start_time": "2025-01-20T02:58:03.967Z"
   },
   {
    "duration": 3,
    "start_time": "2025-01-20T02:58:03.972Z"
   },
   {
    "duration": 3,
    "start_time": "2025-01-20T02:58:03.977Z"
   },
   {
    "duration": 4,
    "start_time": "2025-01-20T02:58:03.981Z"
   },
   {
    "duration": 5407,
    "start_time": "2025-01-20T02:58:03.987Z"
   },
   {
    "duration": 7,
    "start_time": "2025-01-20T02:58:09.396Z"
   },
   {
    "duration": 2115,
    "start_time": "2025-01-20T02:58:09.405Z"
   },
   {
    "duration": 44,
    "start_time": "2025-01-20T02:58:11.522Z"
   },
   {
    "duration": 11,
    "start_time": "2025-01-20T02:58:11.567Z"
   },
   {
    "duration": 36,
    "start_time": "2025-01-20T02:58:11.580Z"
   },
   {
    "duration": 20,
    "start_time": "2025-01-20T02:58:11.618Z"
   },
   {
    "duration": 34,
    "start_time": "2025-01-20T02:58:11.639Z"
   },
   {
    "duration": 253,
    "start_time": "2025-01-20T02:58:11.674Z"
   },
   {
    "duration": 437,
    "start_time": "2025-01-20T02:58:11.929Z"
   },
   {
    "duration": 4,
    "start_time": "2025-01-20T02:58:12.368Z"
   },
   {
    "duration": 141,
    "start_time": "2025-01-20T02:58:12.374Z"
   },
   {
    "duration": 7,
    "start_time": "2025-01-20T02:58:12.516Z"
   },
   {
    "duration": 353,
    "start_time": "2025-01-20T02:58:12.525Z"
   },
   {
    "duration": 0,
    "start_time": "2025-01-20T02:58:12.880Z"
   },
   {
    "duration": 0,
    "start_time": "2025-01-20T02:58:12.881Z"
   },
   {
    "duration": 0,
    "start_time": "2025-01-20T02:58:12.883Z"
   },
   {
    "duration": 0,
    "start_time": "2025-01-20T02:58:12.884Z"
   },
   {
    "duration": 0,
    "start_time": "2025-01-20T02:58:12.885Z"
   },
   {
    "duration": 0,
    "start_time": "2025-01-20T02:58:12.886Z"
   },
   {
    "duration": 0,
    "start_time": "2025-01-20T02:58:12.887Z"
   },
   {
    "duration": 0,
    "start_time": "2025-01-20T02:58:12.888Z"
   },
   {
    "duration": 0,
    "start_time": "2025-01-20T02:58:12.889Z"
   },
   {
    "duration": 0,
    "start_time": "2025-01-20T02:58:12.890Z"
   },
   {
    "duration": 0,
    "start_time": "2025-01-20T02:58:12.891Z"
   },
   {
    "duration": 0,
    "start_time": "2025-01-20T02:58:12.892Z"
   },
   {
    "duration": 0,
    "start_time": "2025-01-20T02:58:12.893Z"
   },
   {
    "duration": 0,
    "start_time": "2025-01-20T02:58:12.915Z"
   },
   {
    "duration": 0,
    "start_time": "2025-01-20T02:58:12.916Z"
   },
   {
    "duration": 0,
    "start_time": "2025-01-20T02:58:12.917Z"
   },
   {
    "duration": 0,
    "start_time": "2025-01-20T02:58:12.919Z"
   },
   {
    "duration": 0,
    "start_time": "2025-01-20T02:58:12.919Z"
   },
   {
    "duration": 0,
    "start_time": "2025-01-20T02:58:12.920Z"
   },
   {
    "duration": 0,
    "start_time": "2025-01-20T02:58:12.921Z"
   },
   {
    "duration": 0,
    "start_time": "2025-01-20T02:58:12.922Z"
   },
   {
    "duration": 0,
    "start_time": "2025-01-20T02:58:12.923Z"
   },
   {
    "duration": 0,
    "start_time": "2025-01-20T02:58:12.924Z"
   },
   {
    "duration": 0,
    "start_time": "2025-01-20T02:58:12.926Z"
   },
   {
    "duration": 0,
    "start_time": "2025-01-20T02:58:12.927Z"
   },
   {
    "duration": 0,
    "start_time": "2025-01-20T02:58:12.928Z"
   },
   {
    "duration": 0,
    "start_time": "2025-01-20T02:58:12.929Z"
   },
   {
    "duration": 0,
    "start_time": "2025-01-20T02:58:12.930Z"
   },
   {
    "duration": 0,
    "start_time": "2025-01-20T02:58:12.931Z"
   },
   {
    "duration": 0,
    "start_time": "2025-01-20T02:58:12.933Z"
   },
   {
    "duration": 0,
    "start_time": "2025-01-20T02:58:12.933Z"
   },
   {
    "duration": 10197,
    "start_time": "2025-01-20T02:58:38.837Z"
   },
   {
    "duration": 1297,
    "start_time": "2025-01-20T02:59:03.165Z"
   },
   {
    "duration": 113,
    "start_time": "2025-01-20T02:59:07.542Z"
   },
   {
    "duration": 4,
    "start_time": "2025-01-20T02:59:10.133Z"
   },
   {
    "duration": 54,
    "start_time": "2025-01-20T02:59:16.318Z"
   },
   {
    "duration": 4222,
    "start_time": "2025-01-20T02:59:24.811Z"
   },
   {
    "duration": 1272,
    "start_time": "2025-01-20T02:59:50.990Z"
   },
   {
    "duration": 4859,
    "start_time": "2025-01-20T03:00:08.181Z"
   },
   {
    "duration": 1287,
    "start_time": "2025-01-20T03:00:18.735Z"
   },
   {
    "duration": 65,
    "start_time": "2025-01-20T03:00:25.013Z"
   },
   {
    "duration": 5,
    "start_time": "2025-01-20T03:00:27.342Z"
   },
   {
    "duration": 8015,
    "start_time": "2025-01-20T03:03:28.730Z"
   },
   {
    "duration": 777,
    "start_time": "2025-01-20T03:03:36.747Z"
   },
   {
    "duration": 3,
    "start_time": "2025-01-20T03:03:37.526Z"
   },
   {
    "duration": 3,
    "start_time": "2025-01-20T03:03:37.531Z"
   },
   {
    "duration": 4,
    "start_time": "2025-01-20T03:03:37.536Z"
   },
   {
    "duration": 3,
    "start_time": "2025-01-20T03:03:37.541Z"
   },
   {
    "duration": 5,
    "start_time": "2025-01-20T03:03:37.546Z"
   },
   {
    "duration": 4,
    "start_time": "2025-01-20T03:03:37.552Z"
   },
   {
    "duration": 3,
    "start_time": "2025-01-20T03:03:37.557Z"
   },
   {
    "duration": 5150,
    "start_time": "2025-01-20T03:03:37.563Z"
   },
   {
    "duration": 7,
    "start_time": "2025-01-20T03:03:42.714Z"
   },
   {
    "duration": 2334,
    "start_time": "2025-01-20T03:03:42.723Z"
   },
   {
    "duration": 44,
    "start_time": "2025-01-20T03:03:45.058Z"
   },
   {
    "duration": 29,
    "start_time": "2025-01-20T03:03:45.115Z"
   },
   {
    "duration": 30,
    "start_time": "2025-01-20T03:03:45.146Z"
   },
   {
    "duration": 55,
    "start_time": "2025-01-20T03:03:45.178Z"
   },
   {
    "duration": 30,
    "start_time": "2025-01-20T03:03:45.235Z"
   },
   {
    "duration": 244,
    "start_time": "2025-01-20T03:03:45.267Z"
   },
   {
    "duration": 442,
    "start_time": "2025-01-20T03:03:45.515Z"
   },
   {
    "duration": 5,
    "start_time": "2025-01-20T03:03:45.959Z"
   },
   {
    "duration": 142,
    "start_time": "2025-01-20T03:03:45.966Z"
   },
   {
    "duration": 12,
    "start_time": "2025-01-20T03:03:46.109Z"
   },
   {
    "duration": 4,
    "start_time": "2025-01-20T03:03:46.122Z"
   },
   {
    "duration": 3944,
    "start_time": "2025-01-20T03:03:46.127Z"
   },
   {
    "duration": 2,
    "start_time": "2025-01-20T03:03:50.073Z"
   },
   {
    "duration": 679,
    "start_time": "2025-01-20T03:03:50.077Z"
   },
   {
    "duration": 2,
    "start_time": "2025-01-20T03:03:50.758Z"
   },
   {
    "duration": 32690,
    "start_time": "2025-01-20T03:03:50.763Z"
   },
   {
    "duration": 0,
    "start_time": "2025-01-20T03:04:23.454Z"
   },
   {
    "duration": 0,
    "start_time": "2025-01-20T03:04:23.456Z"
   },
   {
    "duration": 0,
    "start_time": "2025-01-20T03:04:23.457Z"
   },
   {
    "duration": 0,
    "start_time": "2025-01-20T03:04:23.458Z"
   },
   {
    "duration": 0,
    "start_time": "2025-01-20T03:04:23.459Z"
   },
   {
    "duration": 0,
    "start_time": "2025-01-20T03:04:23.460Z"
   },
   {
    "duration": 0,
    "start_time": "2025-01-20T03:04:23.461Z"
   },
   {
    "duration": 0,
    "start_time": "2025-01-20T03:04:23.462Z"
   },
   {
    "duration": 0,
    "start_time": "2025-01-20T03:04:23.463Z"
   },
   {
    "duration": 0,
    "start_time": "2025-01-20T03:04:23.464Z"
   },
   {
    "duration": 0,
    "start_time": "2025-01-20T03:04:23.465Z"
   },
   {
    "duration": 0,
    "start_time": "2025-01-20T03:04:23.466Z"
   },
   {
    "duration": 0,
    "start_time": "2025-01-20T03:04:23.467Z"
   },
   {
    "duration": 0,
    "start_time": "2025-01-20T03:04:23.468Z"
   },
   {
    "duration": 0,
    "start_time": "2025-01-20T03:04:23.469Z"
   },
   {
    "duration": 0,
    "start_time": "2025-01-20T03:04:23.470Z"
   },
   {
    "duration": 0,
    "start_time": "2025-01-20T03:04:23.471Z"
   },
   {
    "duration": 0,
    "start_time": "2025-01-20T03:04:23.473Z"
   },
   {
    "duration": 0,
    "start_time": "2025-01-20T03:04:23.474Z"
   },
   {
    "duration": 0,
    "start_time": "2025-01-20T03:04:23.475Z"
   },
   {
    "duration": 0,
    "start_time": "2025-01-20T03:04:23.476Z"
   },
   {
    "duration": 0,
    "start_time": "2025-01-20T03:04:23.477Z"
   },
   {
    "duration": 0,
    "start_time": "2025-01-20T03:04:23.478Z"
   },
   {
    "duration": 0,
    "start_time": "2025-01-20T03:04:23.480Z"
   },
   {
    "duration": 0,
    "start_time": "2025-01-20T03:04:23.481Z"
   },
   {
    "duration": 10695,
    "start_time": "2025-01-20T03:04:42.727Z"
   },
   {
    "duration": 652,
    "start_time": "2025-01-20T03:05:01.936Z"
   },
   {
    "duration": 27,
    "start_time": "2025-01-20T03:05:08.056Z"
   },
   {
    "duration": 3,
    "start_time": "2025-01-20T03:05:09.353Z"
   },
   {
    "duration": 48,
    "start_time": "2025-01-20T03:56:51.826Z"
   },
   {
    "duration": 8549,
    "start_time": "2025-01-20T03:57:55.012Z"
   },
   {
    "duration": 773,
    "start_time": "2025-01-20T03:58:03.564Z"
   },
   {
    "duration": 3,
    "start_time": "2025-01-20T03:58:04.338Z"
   },
   {
    "duration": 18,
    "start_time": "2025-01-20T03:58:04.343Z"
   },
   {
    "duration": 3,
    "start_time": "2025-01-20T03:58:04.363Z"
   },
   {
    "duration": 3,
    "start_time": "2025-01-20T03:58:04.367Z"
   },
   {
    "duration": 3,
    "start_time": "2025-01-20T03:58:04.371Z"
   },
   {
    "duration": 3,
    "start_time": "2025-01-20T03:58:04.376Z"
   },
   {
    "duration": 20,
    "start_time": "2025-01-20T03:58:04.380Z"
   },
   {
    "duration": 5892,
    "start_time": "2025-01-20T03:58:04.402Z"
   },
   {
    "duration": 7,
    "start_time": "2025-01-20T03:58:10.295Z"
   },
   {
    "duration": 2370,
    "start_time": "2025-01-20T03:58:10.303Z"
   },
   {
    "duration": 52,
    "start_time": "2025-01-20T03:58:12.675Z"
   },
   {
    "duration": 12,
    "start_time": "2025-01-20T03:58:12.731Z"
   },
   {
    "duration": 48,
    "start_time": "2025-01-20T03:58:12.745Z"
   },
   {
    "duration": 34,
    "start_time": "2025-01-20T03:58:12.795Z"
   },
   {
    "duration": 28,
    "start_time": "2025-01-20T03:58:12.831Z"
   },
   {
    "duration": 242,
    "start_time": "2025-01-20T03:58:12.860Z"
   },
   {
    "duration": 451,
    "start_time": "2025-01-20T03:58:13.104Z"
   },
   {
    "duration": 4,
    "start_time": "2025-01-20T03:58:13.557Z"
   },
   {
    "duration": 146,
    "start_time": "2025-01-20T03:58:13.563Z"
   },
   {
    "duration": 7,
    "start_time": "2025-01-20T03:58:13.714Z"
   },
   {
    "duration": 10478,
    "start_time": "2025-01-20T03:58:33.856Z"
   },
   {
    "duration": 271,
    "start_time": "2025-01-20T03:59:03.944Z"
   },
   {
    "duration": 13,
    "start_time": "2025-01-20T03:59:07.759Z"
   },
   {
    "duration": 4,
    "start_time": "2025-01-20T03:59:09.491Z"
   },
   {
    "duration": 8470,
    "start_time": "2025-01-20T04:08:45.197Z"
   },
   {
    "duration": 783,
    "start_time": "2025-01-20T04:08:53.670Z"
   },
   {
    "duration": 2,
    "start_time": "2025-01-20T04:08:54.455Z"
   },
   {
    "duration": 33,
    "start_time": "2025-01-20T04:08:54.459Z"
   },
   {
    "duration": 10,
    "start_time": "2025-01-20T04:08:54.494Z"
   },
   {
    "duration": 27,
    "start_time": "2025-01-20T04:08:54.506Z"
   },
   {
    "duration": 6,
    "start_time": "2025-01-20T04:08:54.535Z"
   },
   {
    "duration": 4,
    "start_time": "2025-01-20T04:08:54.542Z"
   },
   {
    "duration": 3,
    "start_time": "2025-01-20T04:08:54.547Z"
   },
   {
    "duration": 6006,
    "start_time": "2025-01-20T04:08:54.551Z"
   },
   {
    "duration": 6,
    "start_time": "2025-01-20T04:09:00.559Z"
   },
   {
    "duration": 2960,
    "start_time": "2025-01-20T04:09:00.567Z"
   },
   {
    "duration": 41,
    "start_time": "2025-01-20T04:09:03.530Z"
   },
   {
    "duration": 51,
    "start_time": "2025-01-20T04:09:03.575Z"
   },
   {
    "duration": 14,
    "start_time": "2025-01-20T04:09:03.627Z"
   },
   {
    "duration": 37,
    "start_time": "2025-01-20T04:09:03.642Z"
   },
   {
    "duration": 28,
    "start_time": "2025-01-20T04:09:03.681Z"
   },
   {
    "duration": 246,
    "start_time": "2025-01-20T04:09:03.714Z"
   },
   {
    "duration": 435,
    "start_time": "2025-01-20T04:09:03.962Z"
   },
   {
    "duration": 16,
    "start_time": "2025-01-20T04:09:04.399Z"
   },
   {
    "duration": 137,
    "start_time": "2025-01-20T04:09:04.416Z"
   },
   {
    "duration": 7,
    "start_time": "2025-01-20T04:09:04.554Z"
   },
   {
    "duration": 5,
    "start_time": "2025-01-20T04:09:04.563Z"
   },
   {
    "duration": 3954,
    "start_time": "2025-01-20T04:09:04.569Z"
   },
   {
    "duration": 2,
    "start_time": "2025-01-20T04:09:08.525Z"
   },
   {
    "duration": 688,
    "start_time": "2025-01-20T04:09:08.529Z"
   },
   {
    "duration": 2,
    "start_time": "2025-01-20T04:09:09.219Z"
   },
   {
    "duration": 368039,
    "start_time": "2025-01-20T04:09:09.223Z"
   },
   {
    "duration": 0,
    "start_time": "2025-01-20T04:15:17.264Z"
   },
   {
    "duration": 0,
    "start_time": "2025-01-20T04:15:17.266Z"
   },
   {
    "duration": 0,
    "start_time": "2025-01-20T04:15:17.267Z"
   },
   {
    "duration": 0,
    "start_time": "2025-01-20T04:15:17.268Z"
   },
   {
    "duration": 0,
    "start_time": "2025-01-20T04:15:17.271Z"
   },
   {
    "duration": 0,
    "start_time": "2025-01-20T04:15:17.272Z"
   },
   {
    "duration": 0,
    "start_time": "2025-01-20T04:15:17.273Z"
   },
   {
    "duration": 0,
    "start_time": "2025-01-20T04:15:17.274Z"
   },
   {
    "duration": 0,
    "start_time": "2025-01-20T04:15:17.275Z"
   },
   {
    "duration": 0,
    "start_time": "2025-01-20T04:15:17.276Z"
   },
   {
    "duration": 0,
    "start_time": "2025-01-20T04:15:17.277Z"
   },
   {
    "duration": 0,
    "start_time": "2025-01-20T04:15:17.278Z"
   },
   {
    "duration": 0,
    "start_time": "2025-01-20T04:15:17.279Z"
   },
   {
    "duration": 0,
    "start_time": "2025-01-20T04:15:17.280Z"
   },
   {
    "duration": 0,
    "start_time": "2025-01-20T04:15:17.281Z"
   },
   {
    "duration": 0,
    "start_time": "2025-01-20T04:15:17.283Z"
   },
   {
    "duration": 0,
    "start_time": "2025-01-20T04:15:17.284Z"
   },
   {
    "duration": 0,
    "start_time": "2025-01-20T04:15:17.285Z"
   },
   {
    "duration": 0,
    "start_time": "2025-01-20T04:15:17.286Z"
   },
   {
    "duration": 0,
    "start_time": "2025-01-20T04:15:17.287Z"
   },
   {
    "duration": 0,
    "start_time": "2025-01-20T04:15:17.288Z"
   },
   {
    "duration": 0,
    "start_time": "2025-01-20T04:15:17.289Z"
   },
   {
    "duration": 0,
    "start_time": "2025-01-20T04:15:17.290Z"
   },
   {
    "duration": 0,
    "start_time": "2025-01-20T04:15:17.291Z"
   },
   {
    "duration": 0,
    "start_time": "2025-01-20T04:15:17.292Z"
   },
   {
    "duration": 0,
    "start_time": "2025-01-20T04:15:17.293Z"
   },
   {
    "duration": 9338,
    "start_time": "2025-01-20T11:42:25.182Z"
   },
   {
    "duration": 841,
    "start_time": "2025-01-20T11:42:34.522Z"
   },
   {
    "duration": 5634,
    "start_time": "2025-01-20T11:42:35.365Z"
   },
   {
    "duration": 6,
    "start_time": "2025-01-20T11:42:41.002Z"
   },
   {
    "duration": 3058,
    "start_time": "2025-01-20T11:42:41.010Z"
   },
   {
    "duration": 50,
    "start_time": "2025-01-20T11:42:44.070Z"
   },
   {
    "duration": 11,
    "start_time": "2025-01-20T11:42:44.122Z"
   },
   {
    "duration": 14,
    "start_time": "2025-01-20T11:42:44.135Z"
   },
   {
    "duration": 23,
    "start_time": "2025-01-20T11:42:44.151Z"
   },
   {
    "duration": 56,
    "start_time": "2025-01-20T11:42:44.177Z"
   },
   {
    "duration": 243,
    "start_time": "2025-01-20T11:42:44.235Z"
   },
   {
    "duration": 438,
    "start_time": "2025-01-20T11:42:44.480Z"
   },
   {
    "duration": 4,
    "start_time": "2025-01-20T11:42:44.920Z"
   },
   {
    "duration": 151,
    "start_time": "2025-01-20T11:42:44.926Z"
   },
   {
    "duration": 8,
    "start_time": "2025-01-20T11:42:45.079Z"
   },
   {
    "duration": 30,
    "start_time": "2025-01-20T11:42:45.088Z"
   },
   {
    "duration": 4330,
    "start_time": "2025-01-20T11:42:45.120Z"
   },
   {
    "duration": 2,
    "start_time": "2025-01-20T11:42:49.452Z"
   },
   {
    "duration": 528,
    "start_time": "2025-01-20T11:42:49.456Z"
   },
   {
    "duration": 2,
    "start_time": "2025-01-20T11:42:49.986Z"
   },
   {
    "duration": 617805,
    "start_time": "2025-01-20T11:42:49.990Z"
   },
   {
    "duration": 2,
    "start_time": "2025-01-20T11:53:07.796Z"
   },
   {
    "duration": 3,
    "start_time": "2025-01-20T11:53:07.812Z"
   },
   {
    "duration": 74,
    "start_time": "2025-01-20T11:53:07.817Z"
   },
   {
    "duration": 5,
    "start_time": "2025-01-20T11:53:07.892Z"
   },
   {
    "duration": 21,
    "start_time": "2025-01-20T11:53:07.899Z"
   },
   {
    "duration": 3,
    "start_time": "2025-01-20T11:53:07.922Z"
   },
   {
    "duration": 7178,
    "start_time": "2025-01-20T11:53:07.928Z"
   },
   {
    "duration": 806,
    "start_time": "2025-01-20T11:53:15.107Z"
   },
   {
    "duration": 4,
    "start_time": "2025-01-20T11:53:15.915Z"
   },
   {
    "duration": 1539732,
    "start_time": "2025-01-20T11:53:15.921Z"
   },
   {
    "duration": 16,
    "start_time": "2025-01-20T12:18:55.655Z"
   },
   {
    "duration": 6,
    "start_time": "2025-01-20T12:18:55.672Z"
   },
   {
    "duration": 33,
    "start_time": "2025-01-20T12:18:55.680Z"
   },
   {
    "duration": 860434,
    "start_time": "2025-01-20T12:18:55.715Z"
   },
   {
    "duration": 7,
    "start_time": "2025-01-20T12:33:16.151Z"
   },
   {
    "duration": 9,
    "start_time": "2025-01-20T12:33:16.159Z"
   },
   {
    "duration": 22,
    "start_time": "2025-01-20T12:33:16.170Z"
   },
   {
    "duration": 24728,
    "start_time": "2025-01-20T12:33:16.194Z"
   },
   {
    "duration": 3,
    "start_time": "2025-01-20T12:33:40.923Z"
   },
   {
    "duration": 1431,
    "start_time": "2025-01-20T12:33:40.927Z"
   },
   {
    "duration": 68,
    "start_time": "2025-01-20T12:33:42.360Z"
   },
   {
    "duration": 16,
    "start_time": "2025-01-20T12:33:42.430Z"
   },
   {
    "duration": 9064,
    "start_time": "2025-01-20T19:21:42.816Z"
   },
   {
    "duration": 876,
    "start_time": "2025-01-20T19:21:51.882Z"
   },
   {
    "duration": 5572,
    "start_time": "2025-01-20T19:21:52.760Z"
   },
   {
    "duration": 14,
    "start_time": "2025-01-20T19:21:58.334Z"
   },
   {
    "duration": 2523,
    "start_time": "2025-01-20T19:21:58.351Z"
   },
   {
    "duration": 41,
    "start_time": "2025-01-20T19:22:00.876Z"
   },
   {
    "duration": 28,
    "start_time": "2025-01-20T19:22:00.918Z"
   },
   {
    "duration": 12,
    "start_time": "2025-01-20T19:22:00.949Z"
   },
   {
    "duration": 19,
    "start_time": "2025-01-20T19:22:00.963Z"
   },
   {
    "duration": 54,
    "start_time": "2025-01-20T19:22:00.985Z"
   },
   {
    "duration": 247,
    "start_time": "2025-01-20T19:22:01.041Z"
   },
   {
    "duration": 447,
    "start_time": "2025-01-20T19:22:01.290Z"
   },
   {
    "duration": 11,
    "start_time": "2025-01-20T19:22:01.742Z"
   },
   {
    "duration": 154,
    "start_time": "2025-01-20T19:22:01.754Z"
   },
   {
    "duration": 7,
    "start_time": "2025-01-20T19:22:01.910Z"
   },
   {
    "duration": 17,
    "start_time": "2025-01-20T19:22:01.918Z"
   },
   {
    "duration": 4432,
    "start_time": "2025-01-20T19:22:01.936Z"
   },
   {
    "duration": 3,
    "start_time": "2025-01-20T19:22:06.370Z"
   },
   {
    "duration": 745,
    "start_time": "2025-01-20T19:22:06.374Z"
   },
   {
    "duration": 2,
    "start_time": "2025-01-20T19:22:07.121Z"
   },
   {
    "duration": 589753,
    "start_time": "2025-01-20T19:22:07.125Z"
   },
   {
    "duration": 3,
    "start_time": "2025-01-20T19:31:56.880Z"
   },
   {
    "duration": 4,
    "start_time": "2025-01-20T19:31:56.884Z"
   },
   {
    "duration": 90,
    "start_time": "2025-01-20T19:31:56.889Z"
   },
   {
    "duration": 4,
    "start_time": "2025-01-20T19:31:56.981Z"
   },
   {
    "duration": 10,
    "start_time": "2025-01-20T19:31:56.987Z"
   },
   {
    "duration": 2,
    "start_time": "2025-01-20T19:31:56.998Z"
   },
   {
    "duration": 6843,
    "start_time": "2025-01-20T19:31:57.005Z"
   },
   {
    "duration": 753,
    "start_time": "2025-01-20T19:32:03.850Z"
   },
   {
    "duration": 4,
    "start_time": "2025-01-20T19:32:04.606Z"
   },
   {
    "duration": 1566170,
    "start_time": "2025-01-20T19:32:04.612Z"
   },
   {
    "duration": 14,
    "start_time": "2025-01-20T19:58:10.783Z"
   },
   {
    "duration": 33,
    "start_time": "2025-01-20T19:58:10.799Z"
   },
   {
    "duration": 10,
    "start_time": "2025-01-20T19:58:10.834Z"
   },
   {
    "duration": 50,
    "start_time": "2025-01-20T20:45:20.172Z"
   },
   {
    "duration": 97714,
    "start_time": "2025-01-20T20:50:08.877Z"
   },
   {
    "duration": 0,
    "start_time": "2025-01-20T20:51:46.594Z"
   },
   {
    "duration": 0,
    "start_time": "2025-01-20T20:51:46.595Z"
   },
   {
    "duration": 0,
    "start_time": "2025-01-20T20:51:46.596Z"
   },
   {
    "duration": 0,
    "start_time": "2025-01-20T20:51:46.598Z"
   },
   {
    "duration": 0,
    "start_time": "2025-01-20T20:51:46.599Z"
   },
   {
    "duration": 0,
    "start_time": "2025-01-20T20:51:46.601Z"
   },
   {
    "duration": 0,
    "start_time": "2025-01-20T20:51:46.602Z"
   },
   {
    "duration": 0,
    "start_time": "2025-01-20T20:51:46.603Z"
   },
   {
    "duration": 0,
    "start_time": "2025-01-20T20:51:46.605Z"
   },
   {
    "duration": 0,
    "start_time": "2025-01-20T20:51:46.607Z"
   },
   {
    "duration": 0,
    "start_time": "2025-01-20T20:51:46.609Z"
   },
   {
    "duration": 0,
    "start_time": "2025-01-20T20:51:46.610Z"
   },
   {
    "duration": 0,
    "start_time": "2025-01-20T20:51:46.611Z"
   },
   {
    "duration": 0,
    "start_time": "2025-01-20T20:51:46.612Z"
   },
   {
    "duration": 0,
    "start_time": "2025-01-20T20:51:46.613Z"
   },
   {
    "duration": 0,
    "start_time": "2025-01-20T20:51:46.615Z"
   },
   {
    "duration": 0,
    "start_time": "2025-01-20T20:51:46.616Z"
   },
   {
    "duration": 0,
    "start_time": "2025-01-20T20:51:46.617Z"
   },
   {
    "duration": 0,
    "start_time": "2025-01-20T20:51:46.618Z"
   },
   {
    "duration": 0,
    "start_time": "2025-01-20T20:51:46.619Z"
   },
   {
    "duration": 0,
    "start_time": "2025-01-20T20:51:46.620Z"
   },
   {
    "duration": 0,
    "start_time": "2025-01-20T20:51:46.622Z"
   },
   {
    "duration": 0,
    "start_time": "2025-01-20T20:51:46.623Z"
   },
   {
    "duration": 0,
    "start_time": "2025-01-20T20:51:46.625Z"
   },
   {
    "duration": 0,
    "start_time": "2025-01-20T20:51:46.626Z"
   },
   {
    "duration": 0,
    "start_time": "2025-01-20T20:51:46.627Z"
   },
   {
    "duration": 8279,
    "start_time": "2025-01-20T20:57:46.541Z"
   },
   {
    "duration": 797,
    "start_time": "2025-01-20T20:58:05.706Z"
   },
   {
    "duration": 5073,
    "start_time": "2025-01-20T20:58:22.389Z"
   },
   {
    "duration": 5,
    "start_time": "2025-01-20T20:58:45.774Z"
   },
   {
    "duration": 2308,
    "start_time": "2025-01-20T20:58:49.520Z"
   },
   {
    "duration": 43,
    "start_time": "2025-01-20T20:59:01.585Z"
   },
   {
    "duration": 12,
    "start_time": "2025-01-20T20:59:06.691Z"
   },
   {
    "duration": 13,
    "start_time": "2025-01-20T20:59:08.706Z"
   },
   {
    "duration": 20,
    "start_time": "2025-01-20T20:59:09.927Z"
   },
   {
    "duration": 27,
    "start_time": "2025-01-20T20:59:12.055Z"
   },
   {
    "duration": 228,
    "start_time": "2025-01-20T20:59:15.979Z"
   },
   {
    "duration": 410,
    "start_time": "2025-01-20T20:59:26.080Z"
   },
   {
    "duration": 5,
    "start_time": "2025-01-20T20:59:32.314Z"
   },
   {
    "duration": 128,
    "start_time": "2025-01-20T20:59:34.779Z"
   },
   {
    "duration": 11,
    "start_time": "2025-01-20T20:59:41.570Z"
   },
   {
    "duration": 3,
    "start_time": "2025-01-20T20:59:43.419Z"
   },
   {
    "duration": 4214,
    "start_time": "2025-01-20T20:59:47.086Z"
   },
   {
    "duration": 3,
    "start_time": "2025-01-20T20:59:52.931Z"
   },
   {
    "duration": 509,
    "start_time": "2025-01-20T20:59:54.914Z"
   },
   {
    "duration": 2,
    "start_time": "2025-01-20T21:00:00.503Z"
   },
   {
    "duration": 8401,
    "start_time": "2025-01-20T21:02:25.363Z"
   },
   {
    "duration": 818,
    "start_time": "2025-01-20T21:02:33.766Z"
   },
   {
    "duration": 5153,
    "start_time": "2025-01-20T21:02:34.586Z"
   },
   {
    "duration": 6,
    "start_time": "2025-01-20T21:02:39.741Z"
   },
   {
    "duration": 2549,
    "start_time": "2025-01-20T21:02:39.749Z"
   },
   {
    "duration": 55,
    "start_time": "2025-01-20T21:02:42.300Z"
   },
   {
    "duration": 12,
    "start_time": "2025-01-20T21:02:42.357Z"
   },
   {
    "duration": 14,
    "start_time": "2025-01-20T21:02:42.370Z"
   },
   {
    "duration": 18,
    "start_time": "2025-01-20T21:02:42.385Z"
   },
   {
    "duration": 29,
    "start_time": "2025-01-20T21:02:42.436Z"
   },
   {
    "duration": 257,
    "start_time": "2025-01-20T21:02:42.466Z"
   },
   {
    "duration": 424,
    "start_time": "2025-01-20T21:02:42.724Z"
   },
   {
    "duration": 5,
    "start_time": "2025-01-20T21:02:43.150Z"
   },
   {
    "duration": 144,
    "start_time": "2025-01-20T21:02:43.156Z"
   },
   {
    "duration": 7,
    "start_time": "2025-01-20T21:02:43.302Z"
   },
   {
    "duration": 15,
    "start_time": "2025-01-20T21:02:43.311Z"
   },
   {
    "duration": 4142,
    "start_time": "2025-01-20T21:02:43.327Z"
   },
   {
    "duration": 2,
    "start_time": "2025-01-20T21:02:47.471Z"
   },
   {
    "duration": 494,
    "start_time": "2025-01-20T21:02:47.475Z"
   },
   {
    "duration": 2,
    "start_time": "2025-01-20T21:02:47.971Z"
   },
   {
    "duration": 8088,
    "start_time": "2025-01-20T21:10:35.207Z"
   },
   {
    "duration": 814,
    "start_time": "2025-01-20T21:10:43.298Z"
   },
   {
    "duration": 5185,
    "start_time": "2025-01-20T21:10:44.114Z"
   },
   {
    "duration": 5,
    "start_time": "2025-01-20T21:10:49.301Z"
   },
   {
    "duration": 2876,
    "start_time": "2025-01-20T21:10:49.308Z"
   },
   {
    "duration": 51,
    "start_time": "2025-01-20T21:10:52.186Z"
   },
   {
    "duration": 11,
    "start_time": "2025-01-20T21:10:52.239Z"
   },
   {
    "duration": 45,
    "start_time": "2025-01-20T21:10:52.251Z"
   },
   {
    "duration": 19,
    "start_time": "2025-01-20T21:10:52.298Z"
   },
   {
    "duration": 29,
    "start_time": "2025-01-20T21:10:52.319Z"
   },
   {
    "duration": 247,
    "start_time": "2025-01-20T21:10:52.350Z"
   },
   {
    "duration": 435,
    "start_time": "2025-01-20T21:10:52.599Z"
   },
   {
    "duration": 4,
    "start_time": "2025-01-20T21:10:53.036Z"
   },
   {
    "duration": 141,
    "start_time": "2025-01-20T21:10:53.042Z"
   },
   {
    "duration": 8,
    "start_time": "2025-01-20T21:10:53.184Z"
   },
   {
    "duration": 17,
    "start_time": "2025-01-20T21:10:53.193Z"
   },
   {
    "duration": 4082,
    "start_time": "2025-01-20T21:10:53.212Z"
   },
   {
    "duration": 3,
    "start_time": "2025-01-20T21:10:57.296Z"
   },
   {
    "duration": 514,
    "start_time": "2025-01-20T21:10:57.301Z"
   },
   {
    "duration": 2,
    "start_time": "2025-01-20T21:10:57.817Z"
   },
   {
    "duration": 588369,
    "start_time": "2025-01-20T21:10:57.821Z"
   },
   {
    "duration": 2,
    "start_time": "2025-01-20T21:20:46.192Z"
   },
   {
    "duration": 8,
    "start_time": "2025-01-20T21:20:46.196Z"
   },
   {
    "duration": 80,
    "start_time": "2025-01-20T21:20:46.205Z"
   },
   {
    "duration": 4,
    "start_time": "2025-01-20T21:20:46.287Z"
   },
   {
    "duration": 40,
    "start_time": "2025-01-20T21:20:46.292Z"
   },
   {
    "duration": 3,
    "start_time": "2025-01-20T21:20:46.333Z"
   },
   {
    "duration": 6787,
    "start_time": "2025-01-20T21:20:46.339Z"
   },
   {
    "duration": 756,
    "start_time": "2025-01-20T21:20:53.128Z"
   },
   {
    "duration": 5,
    "start_time": "2025-01-20T21:20:53.886Z"
   },
   {
    "duration": 1515293,
    "start_time": "2025-01-20T21:20:53.893Z"
   },
   {
    "duration": 15,
    "start_time": "2025-01-20T21:46:09.188Z"
   },
   {
    "duration": 6,
    "start_time": "2025-01-20T21:46:09.204Z"
   },
   {
    "duration": 27,
    "start_time": "2025-01-20T21:46:09.212Z"
   },
   {
    "duration": 360,
    "start_time": "2025-01-20T21:46:09.241Z"
   },
   {
    "duration": 0,
    "start_time": "2025-01-20T21:46:09.602Z"
   },
   {
    "duration": 0,
    "start_time": "2025-01-20T21:46:09.604Z"
   },
   {
    "duration": 0,
    "start_time": "2025-01-20T21:46:09.605Z"
   },
   {
    "duration": 0,
    "start_time": "2025-01-20T21:46:09.607Z"
   },
   {
    "duration": 0,
    "start_time": "2025-01-20T21:46:09.609Z"
   },
   {
    "duration": 0,
    "start_time": "2025-01-20T21:46:09.610Z"
   },
   {
    "duration": 0,
    "start_time": "2025-01-20T21:46:09.611Z"
   },
   {
    "duration": 0,
    "start_time": "2025-01-20T21:46:09.612Z"
   },
   {
    "duration": 0,
    "start_time": "2025-01-20T21:46:09.613Z"
   },
   {
    "duration": 0,
    "start_time": "2025-01-20T21:46:09.638Z"
   },
   {
    "duration": 0,
    "start_time": "2025-01-20T21:46:09.640Z"
   },
   {
    "duration": 0,
    "start_time": "2025-01-20T21:46:09.641Z"
   },
   {
    "duration": 0,
    "start_time": "2025-01-20T21:46:09.642Z"
   },
   {
    "duration": 0,
    "start_time": "2025-01-20T21:46:09.643Z"
   },
   {
    "duration": 578199,
    "start_time": "2025-01-20T21:47:03.963Z"
   },
   {
    "duration": 5,
    "start_time": "2025-01-20T21:59:04.546Z"
   },
   {
    "duration": 9,
    "start_time": "2025-01-20T21:59:22.535Z"
   },
   {
    "duration": 14,
    "start_time": "2025-01-20T21:59:50.297Z"
   },
   {
    "duration": 10724,
    "start_time": "2025-01-20T22:00:01.427Z"
   },
   {
    "duration": 7690,
    "start_time": "2025-01-20T22:01:01.360Z"
   },
   {
    "duration": 4704,
    "start_time": "2025-01-20T22:01:48.839Z"
   },
   {
    "duration": 1374,
    "start_time": "2025-01-20T22:02:59.749Z"
   },
   {
    "duration": 54,
    "start_time": "2025-01-20T22:03:06.674Z"
   },
   {
    "duration": 4,
    "start_time": "2025-01-20T22:03:09.007Z"
   },
   {
    "duration": 5,
    "start_time": "2025-01-20T22:04:12.976Z"
   },
   {
    "duration": 8351,
    "start_time": "2025-01-20T22:26:35.769Z"
   },
   {
    "duration": 821,
    "start_time": "2025-01-20T22:26:44.122Z"
   },
   {
    "duration": 5107,
    "start_time": "2025-01-20T22:26:44.946Z"
   },
   {
    "duration": 0,
    "start_time": "2025-01-20T22:26:50.055Z"
   },
   {
    "duration": 0,
    "start_time": "2025-01-20T22:26:50.057Z"
   },
   {
    "duration": 0,
    "start_time": "2025-01-20T22:26:50.058Z"
   },
   {
    "duration": 0,
    "start_time": "2025-01-20T22:26:50.059Z"
   },
   {
    "duration": 0,
    "start_time": "2025-01-20T22:26:50.060Z"
   },
   {
    "duration": 0,
    "start_time": "2025-01-20T22:26:50.061Z"
   },
   {
    "duration": 1,
    "start_time": "2025-01-20T22:26:50.062Z"
   },
   {
    "duration": 0,
    "start_time": "2025-01-20T22:26:50.063Z"
   },
   {
    "duration": 0,
    "start_time": "2025-01-20T22:26:50.065Z"
   },
   {
    "duration": 0,
    "start_time": "2025-01-20T22:26:50.066Z"
   },
   {
    "duration": 0,
    "start_time": "2025-01-20T22:26:50.067Z"
   },
   {
    "duration": 0,
    "start_time": "2025-01-20T22:26:50.068Z"
   },
   {
    "duration": 7982,
    "start_time": "2025-01-20T22:27:03.171Z"
   },
   {
    "duration": 857,
    "start_time": "2025-01-20T22:27:11.155Z"
   },
   {
    "duration": 656,
    "start_time": "2025-01-20T22:27:12.014Z"
   },
   {
    "duration": 3,
    "start_time": "2025-01-20T22:27:12.671Z"
   },
   {
    "duration": 2533,
    "start_time": "2025-01-20T22:27:12.676Z"
   },
   {
    "duration": 53,
    "start_time": "2025-01-20T22:27:15.211Z"
   },
   {
    "duration": 12,
    "start_time": "2025-01-20T22:27:15.265Z"
   },
   {
    "duration": 12,
    "start_time": "2025-01-20T22:27:15.279Z"
   },
   {
    "duration": 45,
    "start_time": "2025-01-20T22:27:15.293Z"
   },
   {
    "duration": 29,
    "start_time": "2025-01-20T22:27:15.340Z"
   },
   {
    "duration": 254,
    "start_time": "2025-01-20T22:27:15.371Z"
   },
   {
    "duration": 435,
    "start_time": "2025-01-20T22:27:15.627Z"
   },
   {
    "duration": 4,
    "start_time": "2025-01-20T22:27:16.064Z"
   },
   {
    "duration": 142,
    "start_time": "2025-01-20T22:27:16.071Z"
   },
   {
    "duration": 7,
    "start_time": "2025-01-20T22:27:16.215Z"
   },
   {
    "duration": 7330,
    "start_time": "2025-01-20T22:28:31.548Z"
   },
   {
    "duration": 3,
    "start_time": "2025-01-20T22:28:51.148Z"
   },
   {
    "duration": 694,
    "start_time": "2025-01-20T22:28:52.284Z"
   },
   {
    "duration": 28,
    "start_time": "2025-01-20T22:29:15.103Z"
   },
   {
    "duration": 5,
    "start_time": "2025-01-20T22:29:16.757Z"
   },
   {
    "duration": 1123925,
    "start_time": "2025-01-20T22:29:23.319Z"
   },
   {
    "duration": 3,
    "start_time": "2025-01-20T22:51:57.015Z"
   },
   {
    "duration": 171,
    "start_time": "2025-01-20T22:52:06.273Z"
   },
   {
    "duration": 130,
    "start_time": "2025-01-20T22:52:19.008Z"
   },
   {
    "duration": 3,
    "start_time": "2025-01-20T22:53:04.655Z"
   },
   {
    "duration": 4190,
    "start_time": "2025-01-20T22:53:08.648Z"
   },
   {
    "duration": 2,
    "start_time": "2025-01-20T22:53:29.341Z"
   },
   {
    "duration": 565,
    "start_time": "2025-01-20T22:53:30.791Z"
   },
   {
    "duration": 2,
    "start_time": "2025-01-20T22:55:38.395Z"
   },
   {
    "duration": 598931,
    "start_time": "2025-01-20T22:55:58.289Z"
   },
   {
    "duration": 3,
    "start_time": "2025-01-20T23:06:12.025Z"
   },
   {
    "duration": 4,
    "start_time": "2025-01-20T23:06:18.487Z"
   },
   {
    "duration": 63,
    "start_time": "2025-01-20T23:06:19.768Z"
   },
   {
    "duration": 5,
    "start_time": "2025-01-20T23:06:24.304Z"
   },
   {
    "duration": 7,
    "start_time": "2025-01-20T23:06:27.969Z"
   },
   {
    "duration": 3,
    "start_time": "2025-01-20T23:06:32.459Z"
   },
   {
    "duration": 6816,
    "start_time": "2025-01-20T23:06:37.325Z"
   },
   {
    "duration": 791,
    "start_time": "2025-01-20T23:06:48.506Z"
   },
   {
    "duration": 5,
    "start_time": "2025-01-20T23:07:01.793Z"
   },
   {
    "duration": 57,
    "start_time": "2025-01-20T23:07:29.949Z"
   },
   {
    "duration": 8487,
    "start_time": "2025-01-20T23:07:50.446Z"
   },
   {
    "duration": 829,
    "start_time": "2025-01-20T23:07:58.935Z"
   },
   {
    "duration": 5284,
    "start_time": "2025-01-20T23:07:59.766Z"
   },
   {
    "duration": 6,
    "start_time": "2025-01-20T23:08:05.052Z"
   },
   {
    "duration": 2681,
    "start_time": "2025-01-20T23:08:05.059Z"
   },
   {
    "duration": 43,
    "start_time": "2025-01-20T23:08:07.742Z"
   },
   {
    "duration": 11,
    "start_time": "2025-01-20T23:08:07.787Z"
   },
   {
    "duration": 38,
    "start_time": "2025-01-20T23:08:07.799Z"
   },
   {
    "duration": 19,
    "start_time": "2025-01-20T23:08:07.839Z"
   },
   {
    "duration": 41,
    "start_time": "2025-01-20T23:08:07.861Z"
   },
   {
    "duration": 239,
    "start_time": "2025-01-20T23:08:07.904Z"
   },
   {
    "duration": 472,
    "start_time": "2025-01-20T23:08:08.145Z"
   },
   {
    "duration": 5,
    "start_time": "2025-01-20T23:08:08.619Z"
   },
   {
    "duration": 139,
    "start_time": "2025-01-20T23:08:08.637Z"
   },
   {
    "duration": 7,
    "start_time": "2025-01-20T23:08:08.778Z"
   },
   {
    "duration": 29,
    "start_time": "2025-01-20T23:08:08.787Z"
   },
   {
    "duration": 4187,
    "start_time": "2025-01-20T23:08:08.817Z"
   },
   {
    "duration": 2,
    "start_time": "2025-01-20T23:08:13.006Z"
   },
   {
    "duration": 520,
    "start_time": "2025-01-20T23:08:13.010Z"
   },
   {
    "duration": 5,
    "start_time": "2025-01-20T23:08:13.532Z"
   },
   {
    "duration": 597886,
    "start_time": "2025-01-20T23:08:13.539Z"
   },
   {
    "duration": 2,
    "start_time": "2025-01-20T23:18:11.427Z"
   },
   {
    "duration": 7,
    "start_time": "2025-01-20T23:18:11.438Z"
   },
   {
    "duration": 67,
    "start_time": "2025-01-20T23:18:11.454Z"
   },
   {
    "duration": 4,
    "start_time": "2025-01-20T23:18:11.523Z"
   },
   {
    "duration": 13,
    "start_time": "2025-01-20T23:18:11.537Z"
   },
   {
    "duration": 2,
    "start_time": "2025-01-20T23:18:11.552Z"
   },
   {
    "duration": 7345,
    "start_time": "2025-01-20T23:18:11.558Z"
   },
   {
    "duration": 821,
    "start_time": "2025-01-20T23:18:18.904Z"
   },
   {
    "duration": 23,
    "start_time": "2025-01-20T23:18:19.726Z"
   },
   {
    "duration": 1541730,
    "start_time": "2025-01-20T23:18:19.751Z"
   },
   {
    "duration": 14,
    "start_time": "2025-01-20T23:44:01.483Z"
   },
   {
    "duration": 21,
    "start_time": "2025-01-20T23:44:01.499Z"
   },
   {
    "duration": 41,
    "start_time": "2025-01-20T23:44:01.522Z"
   },
   {
    "duration": 605041,
    "start_time": "2025-01-20T23:44:01.565Z"
   },
   {
    "duration": 5,
    "start_time": "2025-01-20T23:54:06.608Z"
   },
   {
    "duration": 28,
    "start_time": "2025-01-20T23:54:06.615Z"
   },
   {
    "duration": 16,
    "start_time": "2025-01-20T23:54:06.644Z"
   },
   {
    "duration": 7557,
    "start_time": "2025-01-20T23:54:06.662Z"
   },
   {
    "duration": 3,
    "start_time": "2025-01-20T23:54:14.221Z"
   },
   {
    "duration": 690,
    "start_time": "2025-01-20T23:54:14.237Z"
   },
   {
    "duration": 33,
    "start_time": "2025-01-20T23:54:14.929Z"
   },
   {
    "duration": 37,
    "start_time": "2025-01-20T23:54:14.964Z"
   },
   {
    "duration": 928655,
    "start_time": "2025-01-20T23:54:15.002Z"
   },
   {
    "duration": 3,
    "start_time": "2025-01-21T00:09:43.659Z"
   },
   {
    "duration": 180,
    "start_time": "2025-01-21T00:09:43.663Z"
   },
   {
    "duration": 193,
    "start_time": "2025-01-21T00:09:43.846Z"
   }
  ],
  "kernelspec": {
   "display_name": "Python 3 (ipykernel)",
   "language": "python",
   "name": "python3"
  },
  "language_info": {
   "codemirror_mode": {
    "name": "ipython",
    "version": 3
   },
   "file_extension": ".py",
   "mimetype": "text/x-python",
   "name": "python",
   "nbconvert_exporter": "python",
   "pygments_lexer": "ipython3",
   "version": "3.9.19"
  },
  "toc": {
   "base_numbering": 1,
   "nav_menu": {},
   "number_sections": true,
   "sideBar": true,
   "skip_h1_title": true,
   "title_cell": "Table of Contents",
   "title_sidebar": "Contents",
   "toc_cell": false,
   "toc_position": {},
   "toc_section_display": true,
   "toc_window_display": true
  }
 },
 "nbformat": 4,
 "nbformat_minor": 5
}
